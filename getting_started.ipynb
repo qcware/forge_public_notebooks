{
 "cells": [
  {
   "cell_type": "markdown",
   "metadata": {},
   "source": [
    "# Welcome to Forge!"
   ]
  },
  {
   "cell_type": "markdown",
   "metadata": {},
   "source": [
    "This notebook gives very simple examples of solving problems with simulators and quantum hardware with Forge."
   ]
  },
  {
   "cell_type": "markdown",
   "metadata": {},
   "source": [
    "## Table of Contents\n",
    "1. [Binary Optimization](#optimization)\n",
    "2. [Machine Learning](#qml)  \n",
    "3. [Additional Examples](#examples) "
   ]
  },
  {
   "cell_type": "markdown",
   "metadata": {},
   "source": [
    "### Binary Optimization\n",
    "\n",
    "We start with the problem of minimizing the function\n",
    "\n",
    "$$\n",
    "f(x_0, x_1, x_2) = x_0^2 + x_1^2 - x_2^2 + x_0 x_1 + x_1 x_2\n",
    "$$\n",
    "\n",
    "where $x_0, x_1$, and $x_2$ can be either 0 or 1.\n"
   ]
  },
  {
   "cell_type": "markdown",
   "metadata": {},
   "source": [
    "#### Specify the problem instance"
   ]
  },
  {
   "cell_type": "code",
   "execution_count": 1,
   "metadata": {
    "execution": {
     "iopub.execute_input": "2022-04-10T05:06:08.074283Z",
     "iopub.status.busy": "2022-04-10T05:06:08.073390Z",
     "iopub.status.idle": "2022-04-10T05:06:08.939259Z",
     "shell.execute_reply": "2022-04-10T05:06:08.939985Z"
    }
   },
   "outputs": [],
   "source": [
    "from qcware.forge import optimization\n",
    "from qcware.types.optimization import PolynomialObjective, Constraints, BinaryProblem\n",
    "\n",
    "qubo = {\n",
    "    (0, 0): 1, \n",
    "    (0, 1): 1, \n",
    "    (1, 1): 1, \n",
    "    (1, 2): 1, \n",
    "    (2, 2): -1\n",
    "}\n",
    "\n",
    "qubo_objective = PolynomialObjective(\n",
    "    polynomial=qubo, \n",
    "    num_variables=3,\n",
    "    domain='boolean'\n",
    ")\n",
    "\n",
    "problem_instance = BinaryProblem(\n",
    "    objective=qubo_objective, \n",
    "    constraints=None,\n",
    ")"
   ]
  },
  {
   "cell_type": "markdown",
   "metadata": {},
   "source": [
    "#### Quantum annealing with D-Wave"
   ]
  },
  {
   "cell_type": "code",
   "execution_count": 2,
   "metadata": {
    "execution": {
     "iopub.execute_input": "2022-04-10T05:06:08.945034Z",
     "iopub.status.busy": "2022-04-10T05:06:08.944399Z",
     "iopub.status.idle": "2022-04-10T05:06:08.947222Z",
     "shell.execute_reply": "2022-04-10T05:06:08.946716Z"
    }
   },
   "outputs": [],
   "source": [
    "# Uncomment the following to run on D-Wave (available to enterprise users).\n",
    "\n",
    "# results = optimization.optimize_binary(\n",
    "#     instance=problem_instance, \n",
    "#     backend='dwave/advantage',\n",
    "# )\n",
    "# print(results)"
   ]
  },
  {
   "cell_type": "markdown",
   "metadata": {},
   "source": [
    "#### Brute force solution"
   ]
  },
  {
   "cell_type": "code",
   "execution_count": 3,
   "metadata": {
    "execution": {
     "iopub.execute_input": "2022-04-10T05:06:08.952324Z",
     "iopub.status.busy": "2022-04-10T05:06:08.951607Z",
     "iopub.status.idle": "2022-04-10T05:06:10.138356Z",
     "shell.execute_reply": "2022-04-10T05:06:10.139256Z"
    }
   },
   "outputs": [
    {
     "name": "stdout",
     "output_type": "stream",
     "text": [
      "Objective value: -1\n",
      "Solution: [0, 0, 1]\n"
     ]
    }
   ],
   "source": [
    "# CPU-powered brute force solution\n",
    "\n",
    "results = optimization.brute_force_minimize(\n",
    "    objective=qubo_objective,\n",
    "    backend='qcware/cpu'\n",
    ")\n",
    "print(results)"
   ]
  },
  {
   "cell_type": "code",
   "execution_count": 4,
   "metadata": {
    "execution": {
     "iopub.execute_input": "2022-04-10T05:06:10.144799Z",
     "iopub.status.busy": "2022-04-10T05:06:10.143890Z",
     "iopub.status.idle": "2022-04-10T05:06:10.147913Z",
     "shell.execute_reply": "2022-04-10T05:06:10.146984Z"
    }
   },
   "outputs": [],
   "source": [
    "# Uncomment to run on GPU (available to enterprise users).\n",
    "# GPU-powered brute force solution (handles more variables faster).\n",
    "\n",
    "# results = optimization.brute_force_minimize(\n",
    "#     objective=qubo_objective, \n",
    "#     backend='qcware/gpu'\n",
    "# )\n",
    "# print(results)"
   ]
  },
  {
   "cell_type": "markdown",
   "metadata": {},
   "source": [
    "### Machine Learning"
   ]
  },
  {
   "cell_type": "markdown",
   "metadata": {},
   "source": [
    "Forge provides access to turnkey quantum machine learning (QML) algorithms. Our example here will be clustering two-dimensional data points with q-means."
   ]
  },
  {
   "cell_type": "markdown",
   "metadata": {},
   "source": [
    "#### Generate data"
   ]
  },
  {
   "cell_type": "code",
   "execution_count": 5,
   "metadata": {
    "execution": {
     "iopub.execute_input": "2022-04-10T05:06:10.156053Z",
     "iopub.status.busy": "2022-04-10T05:06:10.155180Z",
     "iopub.status.idle": "2022-04-10T05:06:11.489573Z",
     "shell.execute_reply": "2022-04-10T05:06:11.488978Z"
    }
   },
   "outputs": [
    {
     "data": {
      "image/png": "[encoded data removed]",
      "text/plain": [
       "<Figure size 432x288 with 1 Axes>"
      ]
     },
     "metadata": {
      "needs_background": "light"
     },
     "output_type": "display_data"
    }
   ],
   "source": [
    "import numpy as np\n",
    "from qcware.forge.qml import fit_and_predict\n",
    "from matplotlib import pyplot as plt\n",
    "\n",
    "data = np.random.rand(20, 2)\n",
    "data = data / np.linalg.norm(data, axis=0) # Normalize data\n",
    "\n",
    "\n",
    "plt.scatter(data[:, 0], data[:, 1])\n",
    "plt.title('Data to be clustered')\n",
    "plt.show()"
   ]
  },
  {
   "cell_type": "markdown",
   "metadata": {},
   "source": [
    "#### Cluster with q-means"
   ]
  },
  {
   "cell_type": "code",
   "execution_count": 6,
   "metadata": {
    "execution": {
     "iopub.execute_input": "2022-04-10T05:06:11.499384Z",
     "iopub.status.busy": "2022-04-10T05:06:11.498418Z",
     "iopub.status.idle": "2022-04-10T05:06:12.763890Z",
     "shell.execute_reply": "2022-04-10T05:06:12.762844Z"
    }
   },
   "outputs": [
    {
     "data": {
      "image/png": "[encoded data removed]",
      "text/plain": [
       "<Figure size 432x288 with 1 Axes>"
      ]
     },
     "metadata": {
      "needs_background": "light"
     },
     "output_type": "display_data"
    }
   ],
   "source": [
    "n_clusters = 4\n",
    "qlabels = fit_and_predict(\n",
    "    data,\n",
    "    model='QMeans', \n",
    "    parameters={'n_clusters': n_clusters}, \n",
    "    backend='qcware/cpu_simulator'\n",
    ")\n",
    "\n",
    "plt.scatter(data[:, 0], data[:, 1], c=qlabels)\n",
    "plt.title('q-means clustering')\n",
    "plt.show()"
   ]
  },
  {
   "cell_type": "markdown",
   "metadata": {},
   "source": [
    "### Additional Examples\n",
    "\n",
    "You can find examples covering \n",
    "\n",
    "* Optimization\n",
    "* Machine Learning\n",
    "* Linear Algebra\n",
    "* Quantum Circuits\n",
    "\n",
    "in `/GettingStarted/Examples/`."
   ]
  }
 ],
 "metadata": {
  "kernelspec": {
   "display_name": "Python 3",
   "language": "python",
   "name": "python3"
  },
  "language_info": {
   "codemirror_mode": {
    "name": "ipython",
    "version": 3
   },
   "file_extension": ".py",
   "mimetype": "text/x-python",
   "name": "python",
   "nbconvert_exporter": "python",
   "pygments_lexer": "ipython3",
   "version": "3.9.2"
  }
 },
 "nbformat": 4,
 "nbformat_minor": 4
}
