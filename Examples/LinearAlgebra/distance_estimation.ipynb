{
 "cells": [
  {
   "cell_type": "markdown",
   "id": "intermediate-siemens",
   "metadata": {},
   "source": [
    "# Quantum Distance Estimation\n",
    "\n",
    "Quantum distance estimation uses a NISQ algorithm to compute the **square** of the Euclidean distance between a pair of points."
   ]
  },
  {
   "cell_type": "markdown",
   "id": "formal-packing",
   "metadata": {},
   "source": [
    "### Basic distance calculation"
   ]
  },
  {
   "cell_type": "code",
   "execution_count": 1,
   "id": "alternate-heater",
   "metadata": {
    "execution": {
     "iopub.execute_input": "2022-12-20T05:14:08.946078Z",
     "iopub.status.busy": "2022-12-20T05:14:08.945743Z",
     "iopub.status.idle": "2022-12-20T05:14:09.325609Z",
     "shell.execute_reply": "2022-12-20T05:14:09.324942Z"
    }
   },
   "outputs": [],
   "source": [
    "from qcware import forge\n",
    "# this line is for internal tracking; it is not necessary for use!\n",
    "forge.config.set_environment_source_file('distance_estimation.ipynb')\n",
    "\n",
    "# Paste your API key below if not using Forge hosted notebooks\n",
    "# forge.config.set_api_key('paste API key here')\n",
    "from qcware.forge.qutils import qdist\n",
    "import numpy as np"
   ]
  },
  {
   "cell_type": "code",
   "execution_count": 2,
   "id": "juvenile-client",
   "metadata": {
    "execution": {
     "iopub.execute_input": "2022-12-20T05:14:09.328973Z",
     "iopub.status.busy": "2022-12-20T05:14:09.328605Z",
     "iopub.status.idle": "2022-12-20T05:14:09.569001Z",
     "shell.execute_reply": "2022-12-20T05:14:09.568201Z"
    }
   },
   "outputs": [
    {
     "data": {
      "text/plain": [
       "-4.0"
      ]
     },
     "execution_count": 2,
     "metadata": {},
     "output_type": "execute_result"
    }
   ],
   "source": [
    "# Remember that the result is the distance squared\n",
    "x = np.array([1])\n",
    "y = np.array([5])\n",
    "\n",
    "qdist(x, y)"
   ]
  },
  {
   "cell_type": "markdown",
   "id": "liked-helena",
   "metadata": {},
   "source": [
    "### Distance between vectors"
   ]
  },
  {
   "cell_type": "code",
   "execution_count": 3,
   "id": "marked-spring",
   "metadata": {
    "execution": {
     "iopub.execute_input": "2022-12-20T05:14:09.572260Z",
     "iopub.status.busy": "2022-12-20T05:14:09.571981Z",
     "iopub.status.idle": "2022-12-20T05:14:09.794124Z",
     "shell.execute_reply": "2022-12-20T05:14:09.793442Z"
    }
   },
   "outputs": [
    {
     "data": {
      "text/plain": [
       "25.111053520561335"
      ]
     },
     "execution_count": 3,
     "metadata": {},
     "output_type": "execute_result"
    }
   ],
   "source": [
    "x = np.array([-1, 0])\n",
    "y = np.array([2, 4])\n",
    "\n",
    "qdist(x, y)"
   ]
  },
  {
   "cell_type": "code",
   "execution_count": 4,
   "id": "floral-polish",
   "metadata": {
    "execution": {
     "iopub.execute_input": "2022-12-20T05:14:09.797319Z",
     "iopub.status.busy": "2022-12-20T05:14:09.796914Z",
     "iopub.status.idle": "2022-12-20T05:14:10.017576Z",
     "shell.execute_reply": "2022-12-20T05:14:10.016811Z"
    }
   },
   "outputs": [
    {
     "data": {
      "text/plain": [
       "0.7306169747126456"
      ]
     },
     "execution_count": 4,
     "metadata": {},
     "output_type": "execute_result"
    }
   ],
   "source": [
    "# Random five-dimensional vectors\n",
    "x = np.random.rand(5)\n",
    "y = np.random.rand(5)\n",
    "\n",
    "qdist(x, y)"
   ]
  },
  {
   "cell_type": "markdown",
   "id": "annoying-brass",
   "metadata": {},
   "source": [
    "### Running on quantum hardware\n",
    "\n",
    "Physical quantum hardware can be used by specifying the `backend` argument. Here we use `qdist` with IonQ's trapped ion technology."
   ]
  },
  {
   "cell_type": "code",
   "execution_count": 5,
   "id": "cooperative-orbit",
   "metadata": {
    "execution": {
     "iopub.execute_input": "2022-12-20T05:14:10.020893Z",
     "iopub.status.busy": "2022-12-20T05:14:10.020337Z",
     "iopub.status.idle": "2022-12-20T05:14:10.024811Z",
     "shell.execute_reply": "2022-12-20T05:14:10.024249Z"
    }
   },
   "outputs": [],
   "source": [
    "# Uncomment to use next available scheduling:\n",
    "forge.config.set_scheduling_mode(\"next_available\")\n",
    "\n",
    "x = np.random.rand(3)\n",
    "y = np.random.rand(3)\n",
    "\n",
    "# Uncomment this line to perform hardware run:\n",
    "# qdist(x, y, backend='awsbraket/ionq')"
   ]
  },
  {
   "cell_type": "markdown",
   "id": "aboriginal-cinema",
   "metadata": {},
   "source": [
    "### Distance estimation for a batch of vectors\n",
    "\n",
    "If we have one vector `x` and a collection of vectors `batch`, we can compute the distance between `x` and every vector in `batch` with a single call."
   ]
  },
  {
   "cell_type": "code",
   "execution_count": 6,
   "id": "stainless-lewis",
   "metadata": {
    "execution": {
     "iopub.execute_input": "2022-12-20T05:14:10.027482Z",
     "iopub.status.busy": "2022-12-20T05:14:10.027240Z",
     "iopub.status.idle": "2022-12-20T05:14:10.253181Z",
     "shell.execute_reply": "2022-12-20T05:14:10.252315Z"
    }
   },
   "outputs": [
    {
     "data": {
      "text/plain": [
       "array([0.01925927, 5.12932697])"
      ]
     },
     "execution_count": 6,
     "metadata": {},
     "output_type": "execute_result"
    }
   ],
   "source": [
    "# Take x to have dimension 2\n",
    "x = np.array([2, 3])\n",
    "\n",
    "batch = np.array([\n",
    "    [2.1, 3.1], # first vector\n",
    "    [0, 4]      # second vector\n",
    "])\n",
    "\n",
    "\n",
    "qdist(batch, x)"
   ]
  },
  {
   "cell_type": "code",
   "execution_count": 7,
   "id": "traditional-leisure",
   "metadata": {
    "execution": {
     "iopub.execute_input": "2022-12-20T05:14:10.256303Z",
     "iopub.status.busy": "2022-12-20T05:14:10.255903Z",
     "iopub.status.idle": "2022-12-20T05:14:10.487045Z",
     "shell.execute_reply": "2022-12-20T05:14:10.486247Z"
    }
   },
   "outputs": [
    {
     "data": {
      "text/plain": [
       "array([1.01767034, 1.27955043, 1.07311361, 0.74515954])"
      ]
     },
     "execution_count": 7,
     "metadata": {},
     "output_type": "execute_result"
    }
   ],
   "source": [
    "# More general example of batched distance estimation\n",
    "\n",
    "x = np.random.rand(7)\n",
    "batch = np.random.rand(4, 7)\n",
    "\n",
    "\n",
    "qdist(batch, x)"
   ]
  },
  {
   "cell_type": "markdown",
   "id": "compressed-carbon",
   "metadata": {},
   "source": [
    "Note: `qdist(x, y)` is defined more generally for matrices `x` and `y` when their shapes would make sense for the NumPy call `np.dot(x, y)`. This more advanced usage computes pairwise distances between two batches of vectors."
   ]
  }
 ],
 "metadata": {
  "kernelspec": {
   "display_name": "Python 3",
   "language": "python",
   "name": "python3"
  },
  "language_info": {
   "codemirror_mode": {
    "name": "ipython",
    "version": 3
   },
   "file_extension": ".py",
   "mimetype": "text/x-python",
   "name": "python",
   "nbconvert_exporter": "python",
   "pygments_lexer": "ipython3",
   "version": "3.9.2"
  }
 },
 "nbformat": 4,
 "nbformat_minor": 5
}
