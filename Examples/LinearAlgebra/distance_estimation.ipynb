{
 "cells": [
  {
   "cell_type": "markdown",
   "id": "intermediate-siemens",
   "metadata": {},
   "source": [
    "# Quantum Distance Estimation\n",
    "\n",
    "Quantum distance estimation uses a NISQ algorithm to compute the **square** of the Euclidean distance between a pair of points."
   ]
  },
  {
   "cell_type": "markdown",
   "id": "formal-packing",
   "metadata": {},
   "source": [
    "### Basic distance calculation"
   ]
  },
  {
   "cell_type": "code",
   "execution_count": 1,
   "id": "alternate-heater",
   "metadata": {
    "execution": {
     "iopub.execute_input": "2021-11-11T05:07:12.176725Z",
     "iopub.status.busy": "2021-11-11T05:07:12.175926Z",
     "iopub.status.idle": "2021-11-11T05:07:12.764374Z",
     "shell.execute_reply": "2021-11-11T05:07:12.763558Z"
    }
   },
   "outputs": [],
   "source": [
    "from qcware import forge\n",
    "# this line is for internal tracking; it is not necessary for use!\n",
    "forge.config.set_environment_source_file('distance_estimation.ipynb')\n",
    "\n",
    "# Paste your API key below if not using Forge hosted notebooks\n",
    "# qcware.config.set_api_key('paste API key here')\n",
    "from qcware.forge.qutils import qdist\n",
    "import numpy as np"
   ]
  },
  {
   "cell_type": "code",
   "execution_count": 2,
   "id": "juvenile-client",
   "metadata": {
    "execution": {
     "iopub.execute_input": "2021-11-11T05:07:12.774788Z",
     "iopub.status.busy": "2021-11-11T05:07:12.770795Z",
     "iopub.status.idle": "2021-11-11T05:07:13.073298Z",
     "shell.execute_reply": "2021-11-11T05:07:13.073835Z"
    }
   },
   "outputs": [
    {
     "data": {
      "text/plain": [
       "16.0"
      ]
     },
     "execution_count": 2,
     "metadata": {},
     "output_type": "execute_result"
    }
   ],
   "source": [
    "# Remember that the result is the distance squared\n",
    "x = np.array([1])\n",
    "y = np.array([5])\n",
    "\n",
    "qdist(x, y)"
   ]
  },
  {
   "cell_type": "markdown",
   "id": "liked-helena",
   "metadata": {},
   "source": [
    "### Distance between vectors"
   ]
  },
  {
   "cell_type": "code",
   "execution_count": 3,
   "id": "marked-spring",
   "metadata": {
    "execution": {
     "iopub.execute_input": "2021-11-11T05:07:13.082920Z",
     "iopub.status.busy": "2021-11-11T05:07:13.082101Z",
     "iopub.status.idle": "2021-11-11T05:07:13.357617Z",
     "shell.execute_reply": "2021-11-11T05:07:13.356977Z"
    }
   },
   "outputs": [
    {
     "data": {
      "text/plain": [
       "25.245335860210872"
      ]
     },
     "execution_count": 3,
     "metadata": {},
     "output_type": "execute_result"
    }
   ],
   "source": [
    "x = np.array([-1, 0])\n",
    "y = np.array([2, 4])\n",
    "\n",
    "qdist(x, y)"
   ]
  },
  {
   "cell_type": "code",
   "execution_count": 4,
   "id": "floral-polish",
   "metadata": {
    "execution": {
     "iopub.execute_input": "2021-11-11T05:07:13.369109Z",
     "iopub.status.busy": "2021-11-11T05:07:13.365860Z",
     "iopub.status.idle": "2021-11-11T05:07:13.654793Z",
     "shell.execute_reply": "2021-11-11T05:07:13.653826Z"
    }
   },
   "outputs": [
    {
     "data": {
      "text/plain": [
       "0.6420999617792962"
      ]
     },
     "execution_count": 4,
     "metadata": {},
     "output_type": "execute_result"
    }
   ],
   "source": [
    "# Random five-dimensional vectors\n",
    "x = np.random.rand(5)\n",
    "y = np.random.rand(5)\n",
    "\n",
    "qdist(x, y)"
   ]
  },
  {
   "cell_type": "markdown",
   "id": "annoying-brass",
   "metadata": {},
   "source": [
    "### Running on quantum hardware\n",
    "\n",
    "Physical quantum hardware can be used by specifying the `backend` argument. Here we use `qdist` with IonQ's trapped ion technology."
   ]
  },
  {
   "cell_type": "code",
   "execution_count": 5,
   "id": "cooperative-orbit",
   "metadata": {
    "execution": {
     "iopub.execute_input": "2021-11-11T05:07:13.662407Z",
     "iopub.status.busy": "2021-11-11T05:07:13.661589Z",
     "iopub.status.idle": "2021-11-11T05:07:13.664659Z",
     "shell.execute_reply": "2021-11-11T05:07:13.664124Z"
    }
   },
   "outputs": [],
   "source": [
    "# Uncomment to use next available scheduling:\n",
    "forge.config.set_scheduling_mode(\"next_available\")\n",
    "\n",
    "x = np.random.rand(3)\n",
    "y = np.random.rand(3)\n",
    "\n",
    "# Uncomment this line to perform hardware run:\n",
    "# qdist(x, y, backend='awsbraket/ionq')"
   ]
  },
  {
   "cell_type": "markdown",
   "id": "aboriginal-cinema",
   "metadata": {},
   "source": [
    "### Distance estimation for a batch of vectors\n",
    "\n",
    "If we have one vector `x` and a collection of vectors `batch`, we can compute the distance between `x` and every vector in `batch` with a single call."
   ]
  },
  {
   "cell_type": "code",
   "execution_count": 6,
   "id": "stainless-lewis",
   "metadata": {
    "execution": {
     "iopub.execute_input": "2021-11-11T05:07:13.673569Z",
     "iopub.status.busy": "2021-11-11T05:07:13.672862Z",
     "iopub.status.idle": "2021-11-11T05:07:13.938021Z",
     "shell.execute_reply": "2021-11-11T05:07:13.938759Z"
    }
   },
   "outputs": [
    {
     "data": {
      "text/plain": [
       "array([0.01925927, 5.28739355])"
      ]
     },
     "execution_count": 6,
     "metadata": {},
     "output_type": "execute_result"
    }
   ],
   "source": [
    "# Take x to have dimension 2\n",
    "x = np.array([2, 3])\n",
    "\n",
    "batch = np.array([\n",
    "    [2.1, 3.1], # first vector\n",
    "    [0, 4]      # second vector\n",
    "])\n",
    "\n",
    "\n",
    "qdist(batch, x)"
   ]
  },
  {
   "cell_type": "code",
   "execution_count": 7,
   "id": "traditional-leisure",
   "metadata": {
    "execution": {
     "iopub.execute_input": "2021-11-11T05:07:13.948764Z",
     "iopub.status.busy": "2021-11-11T05:07:13.947752Z",
     "iopub.status.idle": "2021-11-11T05:07:14.265701Z",
     "shell.execute_reply": "2021-11-11T05:07:14.266483Z"
    }
   },
   "outputs": [
    {
     "data": {
      "text/plain": [
       "array([0.91636756, 1.41201151, 0.80506644, 0.95069772])"
      ]
     },
     "execution_count": 7,
     "metadata": {},
     "output_type": "execute_result"
    }
   ],
   "source": [
    "# More general example of batched distance estimation\n",
    "\n",
    "x = np.random.rand(7)\n",
    "batch = np.random.rand(4, 7)\n",
    "\n",
    "\n",
    "qdist(batch, x)"
   ]
  },
  {
   "cell_type": "markdown",
   "id": "compressed-carbon",
   "metadata": {},
   "source": [
    "Note: `qdist(x, y)` is defined more generally for matrices `x` and `y` when their shapes would make sense for the NumPy call `np.dot(x, y)`. This more advanced usage computes pairwise distances between two batches of vectors."
   ]
  }
 ],
 "metadata": {
  "kernelspec": {
   "display_name": "Python 3",
   "language": "python",
   "name": "python3"
  },
  "language_info": {
   "codemirror_mode": {
    "name": "ipython",
    "version": 3
   },
   "file_extension": ".py",
   "mimetype": "text/x-python",
   "name": "python",
   "nbconvert_exporter": "python",
   "pygments_lexer": "ipython3",
   "version": "3.9.2"
  }
 },
 "nbformat": 4,
 "nbformat_minor": 5
}
