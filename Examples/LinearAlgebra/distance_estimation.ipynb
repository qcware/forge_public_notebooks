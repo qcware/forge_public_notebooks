{
 "cells": [
  {
   "cell_type": "markdown",
   "id": "intermediate-siemens",
   "metadata": {},
   "source": [
    "# Quantum Distance Estimation\n",
    "\n",
    "Quantum distance estimation uses a NISQ algorithm to compute the **square** of the Euclidean distance between a pair of points."
   ]
  },
  {
   "cell_type": "markdown",
   "id": "formal-packing",
   "metadata": {},
   "source": [
    "### Basic distance calculation"
   ]
  },
  {
   "cell_type": "code",
   "execution_count": 1,
   "id": "alternate-heater",
   "metadata": {
    "execution": {
     "iopub.execute_input": "2022-08-14T05:09:41.308513Z",
     "iopub.status.busy": "2022-08-14T05:09:41.307487Z",
     "iopub.status.idle": "2022-08-14T05:09:41.952006Z",
     "shell.execute_reply": "2022-08-14T05:09:41.950769Z"
    }
   },
   "outputs": [],
   "source": [
    "from qcware import forge\n",
    "# this line is for internal tracking; it is not necessary for use!\n",
    "forge.config.set_environment_source_file('distance_estimation.ipynb')\n",
    "\n",
    "# Paste your API key below if not using Forge hosted notebooks\n",
    "# forge.config.set_api_key('paste API key here')\n",
    "from qcware.forge.qutils import qdist\n",
    "import numpy as np"
   ]
  },
  {
   "cell_type": "code",
   "execution_count": 2,
   "id": "juvenile-client",
   "metadata": {
    "execution": {
     "iopub.execute_input": "2022-08-14T05:09:41.956982Z",
     "iopub.status.busy": "2022-08-14T05:09:41.956397Z",
     "iopub.status.idle": "2022-08-14T05:09:42.609154Z",
     "shell.execute_reply": "2022-08-14T05:09:42.607901Z"
    }
   },
   "outputs": [
    {
     "data": {
      "text/plain": [
       "-4.0"
      ]
     },
     "execution_count": 2,
     "metadata": {},
     "output_type": "execute_result"
    }
   ],
   "source": [
    "# Remember that the result is the distance squared\n",
    "x = np.array([1])\n",
    "y = np.array([5])\n",
    "\n",
    "qdist(x, y)"
   ]
  },
  {
   "cell_type": "markdown",
   "id": "liked-helena",
   "metadata": {},
   "source": [
    "### Distance between vectors"
   ]
  },
  {
   "cell_type": "code",
   "execution_count": 3,
   "id": "marked-spring",
   "metadata": {
    "execution": {
     "iopub.execute_input": "2022-08-14T05:09:42.615136Z",
     "iopub.status.busy": "2022-08-14T05:09:42.613885Z",
     "iopub.status.idle": "2022-08-14T05:09:42.962042Z",
     "shell.execute_reply": "2022-08-14T05:09:42.960338Z"
    }
   },
   "outputs": [
    {
     "data": {
      "text/plain": [
       "24.948273511280444"
      ]
     },
     "execution_count": 3,
     "metadata": {},
     "output_type": "execute_result"
    }
   ],
   "source": [
    "x = np.array([-1, 0])\n",
    "y = np.array([2, 4])\n",
    "\n",
    "qdist(x, y)"
   ]
  },
  {
   "cell_type": "code",
   "execution_count": 4,
   "id": "floral-polish",
   "metadata": {
    "execution": {
     "iopub.execute_input": "2022-08-14T05:09:42.971699Z",
     "iopub.status.busy": "2022-08-14T05:09:42.969951Z",
     "iopub.status.idle": "2022-08-14T05:09:43.372819Z",
     "shell.execute_reply": "2022-08-14T05:09:43.371175Z"
    }
   },
   "outputs": [
    {
     "data": {
      "text/plain": [
       "0.8252450867972438"
      ]
     },
     "execution_count": 4,
     "metadata": {},
     "output_type": "execute_result"
    }
   ],
   "source": [
    "# Random five-dimensional vectors\n",
    "x = np.random.rand(5)\n",
    "y = np.random.rand(5)\n",
    "\n",
    "qdist(x, y)"
   ]
  },
  {
   "cell_type": "markdown",
   "id": "annoying-brass",
   "metadata": {},
   "source": [
    "### Running on quantum hardware\n",
    "\n",
    "Physical quantum hardware can be used by specifying the `backend` argument. Here we use `qdist` with IonQ's trapped ion technology."
   ]
  },
  {
   "cell_type": "code",
   "execution_count": 5,
   "id": "cooperative-orbit",
   "metadata": {
    "execution": {
     "iopub.execute_input": "2022-08-14T05:09:43.381102Z",
     "iopub.status.busy": "2022-08-14T05:09:43.379879Z",
     "iopub.status.idle": "2022-08-14T05:09:43.390430Z",
     "shell.execute_reply": "2022-08-14T05:09:43.389001Z"
    }
   },
   "outputs": [],
   "source": [
    "# Uncomment to use next available scheduling:\n",
    "forge.config.set_scheduling_mode(\"next_available\")\n",
    "\n",
    "x = np.random.rand(3)\n",
    "y = np.random.rand(3)\n",
    "\n",
    "# Uncomment this line to perform hardware run:\n",
    "# qdist(x, y, backend='awsbraket/ionq')"
   ]
  },
  {
   "cell_type": "markdown",
   "id": "aboriginal-cinema",
   "metadata": {},
   "source": [
    "### Distance estimation for a batch of vectors\n",
    "\n",
    "If we have one vector `x` and a collection of vectors `batch`, we can compute the distance between `x` and every vector in `batch` with a single call."
   ]
  },
  {
   "cell_type": "code",
   "execution_count": 6,
   "id": "stainless-lewis",
   "metadata": {
    "execution": {
     "iopub.execute_input": "2022-08-14T05:09:43.397246Z",
     "iopub.status.busy": "2022-08-14T05:09:43.396432Z",
     "iopub.status.idle": "2022-08-14T05:09:43.771723Z",
     "shell.execute_reply": "2022-08-14T05:09:43.770633Z"
    }
   },
   "outputs": [
    {
     "data": {
      "text/plain": [
       "array([0.01925927, 4.90882671])"
      ]
     },
     "execution_count": 6,
     "metadata": {},
     "output_type": "execute_result"
    }
   ],
   "source": [
    "# Take x to have dimension 2\n",
    "x = np.array([2, 3])\n",
    "\n",
    "batch = np.array([\n",
    "    [2.1, 3.1], # first vector\n",
    "    [0, 4]      # second vector\n",
    "])\n",
    "\n",
    "\n",
    "qdist(batch, x)"
   ]
  },
  {
   "cell_type": "code",
   "execution_count": 7,
   "id": "traditional-leisure",
   "metadata": {
    "execution": {
     "iopub.execute_input": "2022-08-14T05:09:43.776717Z",
     "iopub.status.busy": "2022-08-14T05:09:43.776265Z",
     "iopub.status.idle": "2022-08-14T05:09:44.128275Z",
     "shell.execute_reply": "2022-08-14T05:09:44.126402Z"
    }
   },
   "outputs": [
    {
     "data": {
      "text/plain": [
       "array([1.61302546, 0.88156166, 1.73707992, 1.96258797])"
      ]
     },
     "execution_count": 7,
     "metadata": {},
     "output_type": "execute_result"
    }
   ],
   "source": [
    "# More general example of batched distance estimation\n",
    "\n",
    "x = np.random.rand(7)\n",
    "batch = np.random.rand(4, 7)\n",
    "\n",
    "\n",
    "qdist(batch, x)"
   ]
  },
  {
   "cell_type": "markdown",
   "id": "compressed-carbon",
   "metadata": {},
   "source": [
    "Note: `qdist(x, y)` is defined more generally for matrices `x` and `y` when their shapes would make sense for the NumPy call `np.dot(x, y)`. This more advanced usage computes pairwise distances between two batches of vectors."
   ]
  }
 ],
 "metadata": {
  "kernelspec": {
   "display_name": "Python 3",
   "language": "python",
   "name": "python3"
  },
  "language_info": {
   "codemirror_mode": {
    "name": "ipython",
    "version": 3
   },
   "file_extension": ".py",
   "mimetype": "text/x-python",
   "name": "python",
   "nbconvert_exporter": "python",
   "pygments_lexer": "ipython3",
   "version": "3.9.2"
  }
 },
 "nbformat": 4,
 "nbformat_minor": 5
}
