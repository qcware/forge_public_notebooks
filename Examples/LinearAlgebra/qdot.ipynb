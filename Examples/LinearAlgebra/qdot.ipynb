{
 "cells": [
  {
   "cell_type": "markdown",
   "id": "arbitrary-hometown",
   "metadata": {},
   "source": [
    "# Quantum Dot Product"
   ]
  },
  {
   "cell_type": "markdown",
   "id": "written-pillow",
   "metadata": {},
   "source": [
    "This notebook demonstrates our `qdot` quantum dot product API call which performs general matrix multiplication with a NISQ quantum algorithm. We expect the quantum dot product to be faster than classical dot products for high dimensional vectors as quantum hardware matures."
   ]
  },
  {
   "cell_type": "markdown",
   "id": "welsh-blood",
   "metadata": {},
   "source": [
    "### Basic usage"
   ]
  },
  {
   "cell_type": "code",
   "execution_count": 1,
   "id": "integrated-active",
   "metadata": {
    "execution": {
     "iopub.execute_input": "2023-01-04T05:09:50.176763Z",
     "iopub.status.busy": "2023-01-04T05:09:50.176125Z",
     "iopub.status.idle": "2023-01-04T05:09:50.564005Z",
     "shell.execute_reply": "2023-01-04T05:09:50.563297Z"
    }
   },
   "outputs": [],
   "source": [
    "from qcware import forge\n",
    "# this line is for internal tracking; it is not necessary for use!\n",
    "forge.config.set_environment_source_file('qdot.ipynb')\n",
    "\n",
    "# Paste your API key below if not using Forge hosted notebooks\n",
    "# forge.config.set_api_key('paste API key here')\n",
    "import numpy as np"
   ]
  },
  {
   "cell_type": "code",
   "execution_count": 2,
   "id": "difficult-paris",
   "metadata": {
    "execution": {
     "iopub.execute_input": "2023-01-04T05:09:50.567060Z",
     "iopub.status.busy": "2023-01-04T05:09:50.566694Z",
     "iopub.status.idle": "2023-01-04T05:09:51.023273Z",
     "shell.execute_reply": "2023-01-04T05:09:51.022545Z"
    }
   },
   "outputs": [
    {
     "data": {
      "text/plain": [
       "-0.01613008990009257"
      ]
     },
     "execution_count": 2,
     "metadata": {},
     "output_type": "execute_result"
    }
   ],
   "source": [
    "# Dot product of 2-D vectors:\n",
    "a = np.array([1., 0.])\n",
    "b = np.array([0., 1.])\n",
    "\n",
    "forge.qutils.qdot(a, b)"
   ]
  },
  {
   "cell_type": "code",
   "execution_count": 3,
   "id": "generic-combine",
   "metadata": {
    "execution": {
     "iopub.execute_input": "2023-01-04T05:09:51.026251Z",
     "iopub.status.busy": "2023-01-04T05:09:51.025817Z",
     "iopub.status.idle": "2023-01-04T05:09:51.336882Z",
     "shell.execute_reply": "2023-01-04T05:09:51.336187Z"
    }
   },
   "outputs": [
    {
     "name": "stdout",
     "output_type": "stream",
     "text": [
      "a dot b using numpy: 22.61579207292769\n",
      "a dot b with qdot: 22.015377088952988\n"
     ]
    }
   ],
   "source": [
    "# qdot with larger vectors:\n",
    "a = np.random.rand(100)\n",
    "b = np.random.rand(100)\n",
    "\n",
    "numpy_result = np.dot(a, b)\n",
    "qdot_result = forge.qutils.qdot(a, b)\n",
    "\n",
    "print('a dot b using numpy:', numpy_result)\n",
    "print('a dot b with qdot:', qdot_result)"
   ]
  },
  {
   "cell_type": "markdown",
   "id": "operational-organizer",
   "metadata": {},
   "source": [
    "### Matrix multiplication\n",
    "\n",
    "`qdot` can be used for matrix multiplication more generally. It's therefore a great way to use quantum computing for many linear algebra applications."
   ]
  },
  {
   "cell_type": "code",
   "execution_count": 4,
   "id": "possible-israel",
   "metadata": {
    "execution": {
     "iopub.execute_input": "2023-01-04T05:09:51.339843Z",
     "iopub.status.busy": "2023-01-04T05:09:51.339202Z",
     "iopub.status.idle": "2023-01-04T05:09:51.583683Z",
     "shell.execute_reply": "2023-01-04T05:09:51.582827Z"
    }
   },
   "outputs": [
    {
     "name": "stdout",
     "output_type": "stream",
     "text": [
      "numpy matrix product:\n",
      " [[2.05357988 0.74258723 1.21591184 2.55173781]\n",
      " [0.75812649 0.15073001 0.63601227 0.74831516]\n",
      " [0.69375259 0.14805379 0.46973852 0.90152542]\n",
      " [2.13597672 0.7347513  1.40207339 2.54890932]]\n",
      "\n",
      "qdot matrix product:\n",
      " [[2.06640005 0.73535004 1.19452971 2.55776752]\n",
      " [0.75619692 0.15336882 0.64159631 0.72013771]\n",
      " [0.69866129 0.14513968 0.47453904 0.88553085]\n",
      " [2.13633701 0.69478595 1.36334732 2.5476464 ]]\n"
     ]
    }
   ],
   "source": [
    "# qdot with larger vectors:\n",
    "n = 4\n",
    "a = np.random.rand(n, n)\n",
    "b = np.random.rand(n, n)\n",
    "\n",
    "numpy_result = np.dot(a, b)\n",
    "qdot_result = forge.qutils.qdot(a, b)\n",
    "\n",
    "\n",
    "print('numpy matrix product:\\n', numpy_result)\n",
    "print('\\nqdot matrix product:\\n', qdot_result)"
   ]
  },
  {
   "cell_type": "markdown",
   "id": "mental-faith",
   "metadata": {},
   "source": [
    "### Running on quantum hardware\n",
    "\n",
    "Physical quantum hardware can be used by specifying the `backend` argument. Here we use `qdot` with IonQ's trapped ion technology."
   ]
  },
  {
   "cell_type": "code",
   "execution_count": 5,
   "id": "potential-accountability",
   "metadata": {
    "execution": {
     "iopub.execute_input": "2023-01-04T05:09:51.587835Z",
     "iopub.status.busy": "2023-01-04T05:09:51.587189Z",
     "iopub.status.idle": "2023-01-04T05:09:51.591149Z",
     "shell.execute_reply": "2023-01-04T05:09:51.590565Z"
    }
   },
   "outputs": [],
   "source": [
    "# Uncomment to use next available scheduling:\n",
    "forge.config.set_scheduling_mode(\"next_available\")\n",
    "\n",
    "a = np.random.rand(3)\n",
    "b = np.random.rand(3)\n",
    "\n",
    "# Uncomment this line to perform hardware run:\n",
    "# forge.qutils.qdot(a, b, backend='awsbraket/ionq')"
   ]
  }
 ],
 "metadata": {
  "kernelspec": {
   "display_name": "Python 3 (ipykernel)",
   "language": "python",
   "name": "python3"
  },
  "language_info": {
   "codemirror_mode": {
    "name": "ipython",
    "version": 3
   },
   "file_extension": ".py",
   "mimetype": "text/x-python",
   "name": "python",
   "nbconvert_exporter": "python",
   "pygments_lexer": "ipython3",
   "version": "3.9.2"
  }
 },
 "nbformat": 4,
 "nbformat_minor": 5
}
