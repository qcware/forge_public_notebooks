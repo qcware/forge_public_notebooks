{
 "cells": [
  {
   "cell_type": "markdown",
   "id": "arbitrary-hometown",
   "metadata": {},
   "source": [
    "# Quantum Dot Product"
   ]
  },
  {
   "cell_type": "markdown",
   "id": "written-pillow",
   "metadata": {},
   "source": [
    "This notebook demonstrates our `qdot` quantum dot product API call which performs general matrix multiplication with a NISQ quantum algorithm. We expect the quantum dot product to be faster than classical dot products for high dimensional vectors as quantum hardware matures."
   ]
  },
  {
   "cell_type": "markdown",
   "id": "welsh-blood",
   "metadata": {},
   "source": [
    "### Basic usage"
   ]
  },
  {
   "cell_type": "code",
   "execution_count": 1,
   "id": "integrated-active",
   "metadata": {
    "execution": {
     "iopub.execute_input": "2021-07-24T05:19:02.141434Z",
     "iopub.status.busy": "2021-07-24T05:19:02.140161Z",
     "iopub.status.idle": "2021-07-24T05:19:02.800910Z",
     "shell.execute_reply": "2021-07-24T05:19:02.800256Z"
    }
   },
   "outputs": [],
   "source": [
    "from qcware import forge\n",
    "# this line is for internal tracking; it is not necessary for use!\n",
    "forge.config.set_environment_source_file('qdot.ipynb')\n",
    "\n",
    "# Paste your API key below if not using Forge hosted notebooks\n",
    "# qcware.config.set_api_key('paste API key here')\n",
    "import numpy as np"
   ]
  },
  {
   "cell_type": "code",
   "execution_count": 2,
   "id": "difficult-paris",
   "metadata": {
    "execution": {
     "iopub.execute_input": "2021-07-24T05:19:02.812318Z",
     "iopub.status.busy": "2021-07-24T05:19:02.811163Z",
     "iopub.status.idle": "2021-07-24T05:19:03.084501Z",
     "shell.execute_reply": "2021-07-24T05:19:03.085694Z"
    }
   },
   "outputs": [
    {
     "data": {
      "text/plain": [
       "2.220446049250313e-16"
      ]
     },
     "execution_count": 2,
     "metadata": {},
     "output_type": "execute_result"
    }
   ],
   "source": [
    "# Dot product of 2-D vectors:\n",
    "a = np.array([1., 0.])\n",
    "b = np.array([0., 1.])\n",
    "\n",
    "forge.qutils.qdot(a, b)"
   ]
  },
  {
   "cell_type": "code",
   "execution_count": 3,
   "id": "generic-combine",
   "metadata": {
    "execution": {
     "iopub.execute_input": "2021-07-24T05:19:03.096147Z",
     "iopub.status.busy": "2021-07-24T05:19:03.095507Z",
     "iopub.status.idle": "2021-07-24T05:19:05.048769Z",
     "shell.execute_reply": "2021-07-24T05:19:05.048170Z"
    }
   },
   "outputs": [
    {
     "name": "stdout",
     "output_type": "stream",
     "text": [
      "a dot b using numpy: 26.12858890561035\n",
      "a dot b with qdot: 26.12858890561035\n"
     ]
    }
   ],
   "source": [
    "# qdot with larger vectors:\n",
    "a = np.random.rand(100)\n",
    "b = np.random.rand(100)\n",
    "\n",
    "numpy_result = np.dot(a, b)\n",
    "qdot_result = forge.qutils.qdot(a, b)\n",
    "\n",
    "print('a dot b using numpy:', numpy_result)\n",
    "print('a dot b with qdot:', qdot_result)"
   ]
  },
  {
   "cell_type": "markdown",
   "id": "operational-organizer",
   "metadata": {},
   "source": [
    "### Matrix multiplication\n",
    "\n",
    "`qdot` can be used for matrix multiplication more generally. It's therefore a great way to use quantum computing for many linear algebra applications."
   ]
  },
  {
   "cell_type": "code",
   "execution_count": 4,
   "id": "possible-israel",
   "metadata": {
    "execution": {
     "iopub.execute_input": "2021-07-24T05:19:05.056148Z",
     "iopub.status.busy": "2021-07-24T05:19:05.055354Z",
     "iopub.status.idle": "2021-07-24T05:19:05.323521Z",
     "shell.execute_reply": "2021-07-24T05:19:05.322495Z"
    }
   },
   "outputs": [
    {
     "name": "stdout",
     "output_type": "stream",
     "text": [
      "numpy matrix product:\n",
      " [[0.69969242 0.93039261 0.41770179 0.79432241]\n",
      " [0.79586445 0.99745077 0.7197634  0.97833854]\n",
      " [1.0643719  1.55791176 0.81119255 0.95612772]\n",
      " [0.9242989  1.43285474 0.71582758 0.886113  ]]\n",
      "\n",
      "qdot matrix product:\n",
      " [[0.69969242 0.93039261 0.41770179 0.79432241]\n",
      " [0.79586445 0.99745077 0.7197634  0.97833854]\n",
      " [1.0643719  1.55791176 0.81119255 0.95612772]\n",
      " [0.9242989  1.43285474 0.71582758 0.886113  ]]\n"
     ]
    }
   ],
   "source": [
    "# qdot with larger vectors:\n",
    "n = 4\n",
    "a = np.random.rand(n, n)\n",
    "b = np.random.rand(n, n)\n",
    "\n",
    "numpy_result = np.dot(a, b)\n",
    "qdot_result = forge.qutils.qdot(a, b)\n",
    "\n",
    "\n",
    "print('numpy matrix product:\\n', numpy_result)\n",
    "print('\\nqdot matrix product:\\n', qdot_result)"
   ]
  },
  {
   "cell_type": "markdown",
   "id": "mental-faith",
   "metadata": {},
   "source": [
    "### Running on quantum hardware\n",
    "\n",
    "Physical quantum hardware can be used by specifying the `backend` argument. Here we use `qdot` with IonQ's trapped ion technology."
   ]
  },
  {
   "cell_type": "code",
   "execution_count": 5,
   "id": "potential-accountability",
   "metadata": {
    "execution": {
     "iopub.execute_input": "2021-07-24T05:19:05.329915Z",
     "iopub.status.busy": "2021-07-24T05:19:05.328951Z",
     "iopub.status.idle": "2021-07-24T05:19:05.333008Z",
     "shell.execute_reply": "2021-07-24T05:19:05.332154Z"
    }
   },
   "outputs": [],
   "source": [
    "# Uncomment to use next available scheduling:\n",
    "forge.config.set_scheduling_mode(\"next_available\")\n",
    "\n",
    "a = np.random.rand(3)\n",
    "b = np.random.rand(3)\n",
    "\n",
    "# Uncomment this line to perform hardware run:\n",
    "# qcware.qutils.qdot(a, b, backend='awsbraket/ionq')"
   ]
  }
 ],
 "metadata": {
  "kernelspec": {
   "display_name": "Python 3",
   "language": "python",
   "name": "python3"
  },
  "language_info": {
   "codemirror_mode": {
    "name": "ipython",
    "version": 3
   },
   "file_extension": ".py",
   "mimetype": "text/x-python",
   "name": "python",
   "nbconvert_exporter": "python",
   "pygments_lexer": "ipython3",
   "version": "3.9.2"
  }
 },
 "nbformat": 4,
 "nbformat_minor": 5
}
