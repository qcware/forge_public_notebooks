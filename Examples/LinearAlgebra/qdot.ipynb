{
 "cells": [
  {
   "cell_type": "markdown",
   "id": "arbitrary-hometown",
   "metadata": {},
   "source": [
    "# Quantum Dot Product"
   ]
  },
  {
   "cell_type": "markdown",
   "id": "written-pillow",
   "metadata": {},
   "source": [
    "This notebook demonstrates our `qdot` quantum dot product API call which performs general matrix multiplication with a NISQ quantum algorithm. We expect the quantum dot product to be faster than classical dot products for high dimensional vectors as quantum hardware matures."
   ]
  },
  {
   "cell_type": "markdown",
   "id": "welsh-blood",
   "metadata": {},
   "source": [
    "### Basic usage"
   ]
  },
  {
   "cell_type": "code",
   "execution_count": 1,
   "id": "integrated-active",
   "metadata": {
    "execution": {
     "iopub.execute_input": "2022-10-05T05:07:51.824900Z",
     "iopub.status.busy": "2022-10-05T05:07:51.824394Z",
     "iopub.status.idle": "2022-10-05T05:07:52.302275Z",
     "shell.execute_reply": "2022-10-05T05:07:52.301594Z"
    }
   },
   "outputs": [],
   "source": [
    "from qcware import forge\n",
    "# this line is for internal tracking; it is not necessary for use!\n",
    "forge.config.set_environment_source_file('qdot.ipynb')\n",
    "\n",
    "# Paste your API key below if not using Forge hosted notebooks\n",
    "# forge.config.set_api_key('paste API key here')\n",
    "import numpy as np"
   ]
  },
  {
   "cell_type": "code",
   "execution_count": 2,
   "id": "difficult-paris",
   "metadata": {
    "execution": {
     "iopub.execute_input": "2022-10-05T05:07:52.305618Z",
     "iopub.status.busy": "2022-10-05T05:07:52.305239Z",
     "iopub.status.idle": "2022-10-05T05:07:52.546931Z",
     "shell.execute_reply": "2022-10-05T05:07:52.545933Z"
    }
   },
   "outputs": [
    {
     "data": {
      "text/plain": [
       "-0.05766248084882031"
      ]
     },
     "execution_count": 2,
     "metadata": {},
     "output_type": "execute_result"
    }
   ],
   "source": [
    "# Dot product of 2-D vectors:\n",
    "a = np.array([1., 0.])\n",
    "b = np.array([0., 1.])\n",
    "\n",
    "forge.qutils.qdot(a, b)"
   ]
  },
  {
   "cell_type": "code",
   "execution_count": 3,
   "id": "generic-combine",
   "metadata": {
    "execution": {
     "iopub.execute_input": "2022-10-05T05:07:52.550216Z",
     "iopub.status.busy": "2022-10-05T05:07:52.549887Z",
     "iopub.status.idle": "2022-10-05T05:07:52.875408Z",
     "shell.execute_reply": "2022-10-05T05:07:52.874425Z"
    }
   },
   "outputs": [
    {
     "name": "stdout",
     "output_type": "stream",
     "text": [
      "a dot b using numpy: 29.3719573383598\n",
      "a dot b with qdot: 29.893278227934385\n"
     ]
    }
   ],
   "source": [
    "# qdot with larger vectors:\n",
    "a = np.random.rand(100)\n",
    "b = np.random.rand(100)\n",
    "\n",
    "numpy_result = np.dot(a, b)\n",
    "qdot_result = forge.qutils.qdot(a, b)\n",
    "\n",
    "print('a dot b using numpy:', numpy_result)\n",
    "print('a dot b with qdot:', qdot_result)"
   ]
  },
  {
   "cell_type": "markdown",
   "id": "operational-organizer",
   "metadata": {},
   "source": [
    "### Matrix multiplication\n",
    "\n",
    "`qdot` can be used for matrix multiplication more generally. It's therefore a great way to use quantum computing for many linear algebra applications."
   ]
  },
  {
   "cell_type": "code",
   "execution_count": 4,
   "id": "possible-israel",
   "metadata": {
    "execution": {
     "iopub.execute_input": "2022-10-05T05:07:52.878847Z",
     "iopub.status.busy": "2022-10-05T05:07:52.878497Z",
     "iopub.status.idle": "2022-10-05T05:07:53.126804Z",
     "shell.execute_reply": "2022-10-05T05:07:53.125742Z"
    }
   },
   "outputs": [
    {
     "name": "stdout",
     "output_type": "stream",
     "text": [
      "numpy matrix product:\n",
      " [[0.70614176 0.71298453 1.06738826 1.18681173]\n",
      " [0.61837672 0.87385948 0.87799303 0.95327641]\n",
      " [0.77780584 0.6785211  1.04678328 1.00174177]\n",
      " [0.92693139 1.04504469 1.29661302 1.49900829]]\n",
      "\n",
      "qdot matrix product:\n",
      " [[0.71280653 0.72112145 1.06248168 1.18943061]\n",
      " [0.62777961 0.86824854 0.89099158 0.94760308]\n",
      " [0.77872726 0.68418679 1.04722598 0.99836023]\n",
      " [0.89006132 1.03378794 1.25551516 1.49858617]]\n"
     ]
    }
   ],
   "source": [
    "# qdot with larger vectors:\n",
    "n = 4\n",
    "a = np.random.rand(n, n)\n",
    "b = np.random.rand(n, n)\n",
    "\n",
    "numpy_result = np.dot(a, b)\n",
    "qdot_result = forge.qutils.qdot(a, b)\n",
    "\n",
    "\n",
    "print('numpy matrix product:\\n', numpy_result)\n",
    "print('\\nqdot matrix product:\\n', qdot_result)"
   ]
  },
  {
   "cell_type": "markdown",
   "id": "mental-faith",
   "metadata": {},
   "source": [
    "### Running on quantum hardware\n",
    "\n",
    "Physical quantum hardware can be used by specifying the `backend` argument. Here we use `qdot` with IonQ's trapped ion technology."
   ]
  },
  {
   "cell_type": "code",
   "execution_count": 5,
   "id": "potential-accountability",
   "metadata": {
    "execution": {
     "iopub.execute_input": "2022-10-05T05:07:53.131808Z",
     "iopub.status.busy": "2022-10-05T05:07:53.131350Z",
     "iopub.status.idle": "2022-10-05T05:07:53.136252Z",
     "shell.execute_reply": "2022-10-05T05:07:53.135559Z"
    }
   },
   "outputs": [],
   "source": [
    "# Uncomment to use next available scheduling:\n",
    "forge.config.set_scheduling_mode(\"next_available\")\n",
    "\n",
    "a = np.random.rand(3)\n",
    "b = np.random.rand(3)\n",
    "\n",
    "# Uncomment this line to perform hardware run:\n",
    "# forge.qutils.qdot(a, b, backend='awsbraket/ionq')"
   ]
  }
 ],
 "metadata": {
  "kernelspec": {
   "display_name": "Python 3 (ipykernel)",
   "language": "python",
   "name": "python3"
  },
  "language_info": {
   "codemirror_mode": {
    "name": "ipython",
    "version": 3
   },
   "file_extension": ".py",
   "mimetype": "text/x-python",
   "name": "python",
   "nbconvert_exporter": "python",
   "pygments_lexer": "ipython3",
   "version": "3.9.2"
  }
 },
 "nbformat": 4,
 "nbformat_minor": 5
}
