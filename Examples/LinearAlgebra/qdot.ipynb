{
 "cells": [
  {
   "cell_type": "markdown",
   "id": "arbitrary-hometown",
   "metadata": {},
   "source": [
    "# Quantum Dot Product"
   ]
  },
  {
   "cell_type": "markdown",
   "id": "written-pillow",
   "metadata": {},
   "source": [
    "This notebook demonstrates our `qdot` quantum dot product API call which performs general matrix multiplication with a NISQ quantum algorithm. We expect the quantum dot product to be faster than classical dot products for high dimensional vectors as quantum hardware matures."
   ]
  },
  {
   "cell_type": "markdown",
   "id": "welsh-blood",
   "metadata": {},
   "source": [
    "### Basic usage"
   ]
  },
  {
   "cell_type": "code",
   "execution_count": 1,
   "id": "integrated-active",
   "metadata": {
    "execution": {
     "iopub.execute_input": "2021-12-25T05:08:00.456972Z",
     "iopub.status.busy": "2021-12-25T05:08:00.455692Z",
     "iopub.status.idle": "2021-12-25T05:08:01.179625Z",
     "shell.execute_reply": "2021-12-25T05:08:01.178655Z"
    }
   },
   "outputs": [],
   "source": [
    "from qcware import forge\n",
    "# this line is for internal tracking; it is not necessary for use!\n",
    "forge.config.set_environment_source_file('qdot.ipynb')\n",
    "\n",
    "# Paste your API key below if not using Forge hosted notebooks\n",
    "# qcware.config.set_api_key('paste API key here')\n",
    "import numpy as np"
   ]
  },
  {
   "cell_type": "code",
   "execution_count": 2,
   "id": "difficult-paris",
   "metadata": {
    "execution": {
     "iopub.execute_input": "2021-12-25T05:08:01.195812Z",
     "iopub.status.busy": "2021-12-25T05:08:01.194596Z",
     "iopub.status.idle": "2021-12-25T05:08:01.579686Z",
     "shell.execute_reply": "2021-12-25T05:08:01.580555Z"
    }
   },
   "outputs": [
    {
     "data": {
      "text/plain": [
       "0.01980390271855703"
      ]
     },
     "execution_count": 2,
     "metadata": {},
     "output_type": "execute_result"
    }
   ],
   "source": [
    "# Dot product of 2-D vectors:\n",
    "a = np.array([1., 0.])\n",
    "b = np.array([0., 1.])\n",
    "\n",
    "forge.qutils.qdot(a, b)"
   ]
  },
  {
   "cell_type": "code",
   "execution_count": 3,
   "id": "generic-combine",
   "metadata": {
    "execution": {
     "iopub.execute_input": "2021-12-25T05:08:01.587834Z",
     "iopub.status.busy": "2021-12-25T05:08:01.586715Z",
     "iopub.status.idle": "2021-12-25T05:08:02.033497Z",
     "shell.execute_reply": "2021-12-25T05:08:02.035292Z"
    }
   },
   "outputs": [
    {
     "name": "stdout",
     "output_type": "stream",
     "text": [
      "a dot b using numpy: 26.4032312703823\n",
      "a dot b with qdot: 26.348623136014883\n"
     ]
    }
   ],
   "source": [
    "# qdot with larger vectors:\n",
    "a = np.random.rand(100)\n",
    "b = np.random.rand(100)\n",
    "\n",
    "numpy_result = np.dot(a, b)\n",
    "qdot_result = forge.qutils.qdot(a, b)\n",
    "\n",
    "print('a dot b using numpy:', numpy_result)\n",
    "print('a dot b with qdot:', qdot_result)"
   ]
  },
  {
   "cell_type": "markdown",
   "id": "operational-organizer",
   "metadata": {},
   "source": [
    "### Matrix multiplication\n",
    "\n",
    "`qdot` can be used for matrix multiplication more generally. It's therefore a great way to use quantum computing for many linear algebra applications."
   ]
  },
  {
   "cell_type": "code",
   "execution_count": 4,
   "id": "possible-israel",
   "metadata": {
    "execution": {
     "iopub.execute_input": "2021-12-25T05:08:02.050567Z",
     "iopub.status.busy": "2021-12-25T05:08:02.040112Z",
     "iopub.status.idle": "2021-12-25T05:08:02.422678Z",
     "shell.execute_reply": "2021-12-25T05:08:02.421897Z"
    }
   },
   "outputs": [
    {
     "name": "stdout",
     "output_type": "stream",
     "text": [
      "numpy matrix product:\n",
      " [[1.44362679 0.67574469 0.46292688 1.18203697]\n",
      " [0.87223956 0.42267912 0.56789505 0.73338573]\n",
      " [1.53587405 0.70271879 0.57826896 1.20183655]\n",
      " [1.13829141 0.63875252 0.67683897 1.10226893]]\n",
      "\n",
      "qdot matrix product:\n",
      " [[1.41416731 0.65119306 0.4781699  1.17873992]\n",
      " [0.89106026 0.42271944 0.54665275 0.72172791]\n",
      " [1.54046308 0.70303838 0.58728676 1.21911193]\n",
      " [1.12171185 0.62665824 0.71620041 1.10866295]]\n"
     ]
    }
   ],
   "source": [
    "# qdot with larger vectors:\n",
    "n = 4\n",
    "a = np.random.rand(n, n)\n",
    "b = np.random.rand(n, n)\n",
    "\n",
    "numpy_result = np.dot(a, b)\n",
    "qdot_result = forge.qutils.qdot(a, b)\n",
    "\n",
    "\n",
    "print('numpy matrix product:\\n', numpy_result)\n",
    "print('\\nqdot matrix product:\\n', qdot_result)"
   ]
  },
  {
   "cell_type": "markdown",
   "id": "mental-faith",
   "metadata": {},
   "source": [
    "### Running on quantum hardware\n",
    "\n",
    "Physical quantum hardware can be used by specifying the `backend` argument. Here we use `qdot` with IonQ's trapped ion technology."
   ]
  },
  {
   "cell_type": "code",
   "execution_count": 5,
   "id": "potential-accountability",
   "metadata": {
    "execution": {
     "iopub.execute_input": "2021-12-25T05:08:02.430678Z",
     "iopub.status.busy": "2021-12-25T05:08:02.429501Z",
     "iopub.status.idle": "2021-12-25T05:08:02.434368Z",
     "shell.execute_reply": "2021-12-25T05:08:02.435143Z"
    }
   },
   "outputs": [],
   "source": [
    "# Uncomment to use next available scheduling:\n",
    "forge.config.set_scheduling_mode(\"next_available\")\n",
    "\n",
    "a = np.random.rand(3)\n",
    "b = np.random.rand(3)\n",
    "\n",
    "# Uncomment this line to perform hardware run:\n",
    "# qcware.qutils.qdot(a, b, backend='awsbraket/ionq')"
   ]
  }
 ],
 "metadata": {
  "kernelspec": {
   "display_name": "Python 3 (ipykernel)",
   "language": "python",
   "name": "python3"
  },
  "language_info": {
   "codemirror_mode": {
    "name": "ipython",
    "version": 3
   },
   "file_extension": ".py",
   "mimetype": "text/x-python",
   "name": "python",
   "nbconvert_exporter": "python",
   "pygments_lexer": "ipython3",
   "version": "3.9.2"
  }
 },
 "nbformat": 4,
 "nbformat_minor": 5
}
