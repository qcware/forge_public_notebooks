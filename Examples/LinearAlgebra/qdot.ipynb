{
 "cells": [
  {
   "cell_type": "markdown",
   "id": "arbitrary-hometown",
   "metadata": {},
   "source": [
    "# Quantum Dot Product"
   ]
  },
  {
   "cell_type": "markdown",
   "id": "written-pillow",
   "metadata": {},
   "source": [
    "This notebook demonstrates our `qdot` quantum dot product API call which performs general matrix multiplication with a NISQ quantum algorithm. We expect the quantum dot product to be faster than classical dot products for high dimensional vectors as quantum hardware matures."
   ]
  },
  {
   "cell_type": "markdown",
   "id": "welsh-blood",
   "metadata": {},
   "source": [
    "### Basic usage"
   ]
  },
  {
   "cell_type": "code",
   "execution_count": 1,
   "id": "integrated-active",
   "metadata": {
    "execution": {
     "iopub.execute_input": "2022-09-26T05:07:58.774058Z",
     "iopub.status.busy": "2022-09-26T05:07:58.773523Z",
     "iopub.status.idle": "2022-09-26T05:07:59.363821Z",
     "shell.execute_reply": "2022-09-26T05:07:59.363059Z"
    }
   },
   "outputs": [],
   "source": [
    "from qcware import forge\n",
    "# this line is for internal tracking; it is not necessary for use!\n",
    "forge.config.set_environment_source_file('qdot.ipynb')\n",
    "\n",
    "# Paste your API key below if not using Forge hosted notebooks\n",
    "# forge.config.set_api_key('paste API key here')\n",
    "import numpy as np"
   ]
  },
  {
   "cell_type": "code",
   "execution_count": 2,
   "id": "difficult-paris",
   "metadata": {
    "execution": {
     "iopub.execute_input": "2022-09-26T05:07:59.367652Z",
     "iopub.status.busy": "2022-09-26T05:07:59.366959Z",
     "iopub.status.idle": "2022-09-26T05:07:59.613258Z",
     "shell.execute_reply": "2022-09-26T05:07:59.612194Z"
    }
   },
   "outputs": [
    {
     "data": {
      "text/plain": [
       "-0.024295126587962623"
      ]
     },
     "execution_count": 2,
     "metadata": {},
     "output_type": "execute_result"
    }
   ],
   "source": [
    "# Dot product of 2-D vectors:\n",
    "a = np.array([1., 0.])\n",
    "b = np.array([0., 1.])\n",
    "\n",
    "forge.qutils.qdot(a, b)"
   ]
  },
  {
   "cell_type": "code",
   "execution_count": 3,
   "id": "generic-combine",
   "metadata": {
    "execution": {
     "iopub.execute_input": "2022-09-26T05:07:59.616934Z",
     "iopub.status.busy": "2022-09-26T05:07:59.616579Z",
     "iopub.status.idle": "2022-09-26T05:07:59.930451Z",
     "shell.execute_reply": "2022-09-26T05:07:59.929446Z"
    }
   },
   "outputs": [
    {
     "name": "stdout",
     "output_type": "stream",
     "text": [
      "a dot b using numpy: 26.051474020986838\n",
      "a dot b with qdot: 25.819482170882022\n"
     ]
    }
   ],
   "source": [
    "# qdot with larger vectors:\n",
    "a = np.random.rand(100)\n",
    "b = np.random.rand(100)\n",
    "\n",
    "numpy_result = np.dot(a, b)\n",
    "qdot_result = forge.qutils.qdot(a, b)\n",
    "\n",
    "print('a dot b using numpy:', numpy_result)\n",
    "print('a dot b with qdot:', qdot_result)"
   ]
  },
  {
   "cell_type": "markdown",
   "id": "operational-organizer",
   "metadata": {},
   "source": [
    "### Matrix multiplication\n",
    "\n",
    "`qdot` can be used for matrix multiplication more generally. It's therefore a great way to use quantum computing for many linear algebra applications."
   ]
  },
  {
   "cell_type": "code",
   "execution_count": 4,
   "id": "possible-israel",
   "metadata": {
    "execution": {
     "iopub.execute_input": "2022-09-26T05:07:59.934041Z",
     "iopub.status.busy": "2022-09-26T05:07:59.933564Z",
     "iopub.status.idle": "2022-09-26T05:08:00.189467Z",
     "shell.execute_reply": "2022-09-26T05:08:00.186482Z"
    }
   },
   "outputs": [
    {
     "name": "stdout",
     "output_type": "stream",
     "text": [
      "numpy matrix product:\n",
      " [[0.40999051 0.25459957 0.74920124 0.37497724]\n",
      " [0.50630152 0.32705169 1.2683272  0.43887506]\n",
      " [0.24129351 0.24890131 0.78993859 0.23056684]\n",
      " [0.46720504 0.48986115 1.27259071 0.44117894]]\n",
      "\n",
      "qdot matrix product:\n",
      " [[0.41245853 0.24256591 0.79296061 0.38421541]\n",
      " [0.52226612 0.31494388 1.24744467 0.42436204]\n",
      " [0.24100663 0.24678357 0.81976104 0.22229754]\n",
      " [0.45294212 0.51541361 1.2584479  0.44544366]]\n"
     ]
    }
   ],
   "source": [
    "# qdot with larger vectors:\n",
    "n = 4\n",
    "a = np.random.rand(n, n)\n",
    "b = np.random.rand(n, n)\n",
    "\n",
    "numpy_result = np.dot(a, b)\n",
    "qdot_result = forge.qutils.qdot(a, b)\n",
    "\n",
    "\n",
    "print('numpy matrix product:\\n', numpy_result)\n",
    "print('\\nqdot matrix product:\\n', qdot_result)"
   ]
  },
  {
   "cell_type": "markdown",
   "id": "mental-faith",
   "metadata": {},
   "source": [
    "### Running on quantum hardware\n",
    "\n",
    "Physical quantum hardware can be used by specifying the `backend` argument. Here we use `qdot` with IonQ's trapped ion technology."
   ]
  },
  {
   "cell_type": "code",
   "execution_count": 5,
   "id": "potential-accountability",
   "metadata": {
    "execution": {
     "iopub.execute_input": "2022-09-26T05:08:00.194668Z",
     "iopub.status.busy": "2022-09-26T05:08:00.194310Z",
     "iopub.status.idle": "2022-09-26T05:08:00.201522Z",
     "shell.execute_reply": "2022-09-26T05:08:00.200556Z"
    }
   },
   "outputs": [],
   "source": [
    "# Uncomment to use next available scheduling:\n",
    "forge.config.set_scheduling_mode(\"next_available\")\n",
    "\n",
    "a = np.random.rand(3)\n",
    "b = np.random.rand(3)\n",
    "\n",
    "# Uncomment this line to perform hardware run:\n",
    "# forge.qutils.qdot(a, b, backend='awsbraket/ionq')"
   ]
  }
 ],
 "metadata": {
  "kernelspec": {
   "display_name": "Python 3 (ipykernel)",
   "language": "python",
   "name": "python3"
  },
  "language_info": {
   "codemirror_mode": {
    "name": "ipython",
    "version": 3
   },
   "file_extension": ".py",
   "mimetype": "text/x-python",
   "name": "python",
   "nbconvert_exporter": "python",
   "pygments_lexer": "ipython3",
   "version": "3.9.2"
  }
 },
 "nbformat": 4,
 "nbformat_minor": 5
}
