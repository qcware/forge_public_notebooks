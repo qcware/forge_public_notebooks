{
 "cells": [
  {
   "cell_type": "markdown",
   "id": "arbitrary-hometown",
   "metadata": {},
   "source": [
    "# Quantum Dot Product"
   ]
  },
  {
   "cell_type": "markdown",
   "id": "written-pillow",
   "metadata": {},
   "source": [
    "This notebook demonstrates our `qdot` quantum dot product API call which performs general matrix multiplication with a NISQ quantum algorithm. We expect the quantum dot product to be faster than classical dot products for high dimensional vectors as quantum hardware matures."
   ]
  },
  {
   "cell_type": "markdown",
   "id": "welsh-blood",
   "metadata": {},
   "source": [
    "### Basic usage"
   ]
  },
  {
   "cell_type": "code",
   "execution_count": 1,
   "id": "integrated-active",
   "metadata": {
    "execution": {
     "iopub.execute_input": "2021-08-30T05:15:50.288510Z",
     "iopub.status.busy": "2021-08-30T05:15:50.286929Z",
     "iopub.status.idle": "2021-08-30T05:15:51.119686Z",
     "shell.execute_reply": "2021-08-30T05:15:51.119049Z"
    }
   },
   "outputs": [],
   "source": [
    "from qcware import forge\n",
    "# this line is for internal tracking; it is not necessary for use!\n",
    "forge.config.set_environment_source_file('qdot.ipynb')\n",
    "\n",
    "# Paste your API key below if not using Forge hosted notebooks\n",
    "# qcware.config.set_api_key('paste API key here')\n",
    "import numpy as np"
   ]
  },
  {
   "cell_type": "code",
   "execution_count": 2,
   "id": "difficult-paris",
   "metadata": {
    "execution": {
     "iopub.execute_input": "2021-08-30T05:15:51.132663Z",
     "iopub.status.busy": "2021-08-30T05:15:51.125824Z",
     "iopub.status.idle": "2021-08-30T05:15:51.398286Z",
     "shell.execute_reply": "2021-08-30T05:15:51.398782Z"
    }
   },
   "outputs": [
    {
     "data": {
      "text/plain": [
       "-0.04501308909493418"
      ]
     },
     "execution_count": 2,
     "metadata": {},
     "output_type": "execute_result"
    }
   ],
   "source": [
    "# Dot product of 2-D vectors:\n",
    "a = np.array([1., 0.])\n",
    "b = np.array([0., 1.])\n",
    "\n",
    "forge.qutils.qdot(a, b)"
   ]
  },
  {
   "cell_type": "code",
   "execution_count": 3,
   "id": "generic-combine",
   "metadata": {
    "execution": {
     "iopub.execute_input": "2021-08-30T05:15:51.409799Z",
     "iopub.status.busy": "2021-08-30T05:15:51.409165Z",
     "iopub.status.idle": "2021-08-30T05:15:51.762816Z",
     "shell.execute_reply": "2021-08-30T05:15:51.761047Z"
    }
   },
   "outputs": [
    {
     "name": "stdout",
     "output_type": "stream",
     "text": [
      "a dot b using numpy: 24.245585466326883\n",
      "a dot b with qdot: 24.230778656641867\n"
     ]
    }
   ],
   "source": [
    "# qdot with larger vectors:\n",
    "a = np.random.rand(100)\n",
    "b = np.random.rand(100)\n",
    "\n",
    "numpy_result = np.dot(a, b)\n",
    "qdot_result = forge.qutils.qdot(a, b)\n",
    "\n",
    "print('a dot b using numpy:', numpy_result)\n",
    "print('a dot b with qdot:', qdot_result)"
   ]
  },
  {
   "cell_type": "markdown",
   "id": "operational-organizer",
   "metadata": {},
   "source": [
    "### Matrix multiplication\n",
    "\n",
    "`qdot` can be used for matrix multiplication more generally. It's therefore a great way to use quantum computing for many linear algebra applications."
   ]
  },
  {
   "cell_type": "code",
   "execution_count": 4,
   "id": "possible-israel",
   "metadata": {
    "execution": {
     "iopub.execute_input": "2021-08-30T05:15:51.772124Z",
     "iopub.status.busy": "2021-08-30T05:15:51.770860Z",
     "iopub.status.idle": "2021-08-30T05:15:52.108493Z",
     "shell.execute_reply": "2021-08-30T05:15:52.109796Z"
    }
   },
   "outputs": [
    {
     "name": "stdout",
     "output_type": "stream",
     "text": [
      "numpy matrix product:\n",
      " [[1.21283116 1.80749077 0.78370001 1.72553165]\n",
      " [0.24553828 0.85826376 0.28409598 0.67222036]\n",
      " [1.35152893 1.26607799 0.98810462 1.68301988]\n",
      " [0.6791388  0.6028671  0.63515716 0.94682058]]\n",
      "\n",
      "qdot matrix product:\n",
      " [[1.20626402 1.80166391 0.80391564 1.69153679]\n",
      " [0.23278251 0.87555858 0.26791951 0.71596019]\n",
      " [1.36074433 1.22332719 1.01038027 1.67451923]\n",
      " [0.6940023  0.62093069 0.63861431 0.95743548]]\n"
     ]
    }
   ],
   "source": [
    "# qdot with larger vectors:\n",
    "n = 4\n",
    "a = np.random.rand(n, n)\n",
    "b = np.random.rand(n, n)\n",
    "\n",
    "numpy_result = np.dot(a, b)\n",
    "qdot_result = forge.qutils.qdot(a, b)\n",
    "\n",
    "\n",
    "print('numpy matrix product:\\n', numpy_result)\n",
    "print('\\nqdot matrix product:\\n', qdot_result)"
   ]
  },
  {
   "cell_type": "markdown",
   "id": "mental-faith",
   "metadata": {},
   "source": [
    "### Running on quantum hardware\n",
    "\n",
    "Physical quantum hardware can be used by specifying the `backend` argument. Here we use `qdot` with IonQ's trapped ion technology."
   ]
  },
  {
   "cell_type": "code",
   "execution_count": 5,
   "id": "potential-accountability",
   "metadata": {
    "execution": {
     "iopub.execute_input": "2021-08-30T05:15:52.115222Z",
     "iopub.status.busy": "2021-08-30T05:15:52.113464Z",
     "iopub.status.idle": "2021-08-30T05:15:52.123609Z",
     "shell.execute_reply": "2021-08-30T05:15:52.124821Z"
    }
   },
   "outputs": [],
   "source": [
    "# Uncomment to use next available scheduling:\n",
    "forge.config.set_scheduling_mode(\"next_available\")\n",
    "\n",
    "a = np.random.rand(3)\n",
    "b = np.random.rand(3)\n",
    "\n",
    "# Uncomment this line to perform hardware run:\n",
    "# qcware.qutils.qdot(a, b, backend='awsbraket/ionq')"
   ]
  }
 ],
 "metadata": {
  "kernelspec": {
   "display_name": "Python 3",
   "language": "python",
   "name": "python3"
  },
  "language_info": {
   "codemirror_mode": {
    "name": "ipython",
    "version": 3
   },
   "file_extension": ".py",
   "mimetype": "text/x-python",
   "name": "python",
   "nbconvert_exporter": "python",
   "pygments_lexer": "ipython3",
   "version": "3.9.2"
  }
 },
 "nbformat": 4,
 "nbformat_minor": 5
}
