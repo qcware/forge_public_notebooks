{
 "cells": [
  {
   "cell_type": "markdown",
   "id": "arbitrary-hometown",
   "metadata": {},
   "source": [
    "# Quantum Dot Product"
   ]
  },
  {
   "cell_type": "markdown",
   "id": "written-pillow",
   "metadata": {},
   "source": [
    "This notebook demonstrates our `qdot` quantum dot product API call which performs general matrix multiplication with a NISQ quantum algorithm. We expect the quantum dot product to be faster than classical dot products for high dimensional vectors as quantum hardware matures."
   ]
  },
  {
   "cell_type": "markdown",
   "id": "welsh-blood",
   "metadata": {},
   "source": [
    "### Basic usage"
   ]
  },
  {
   "cell_type": "code",
   "execution_count": 1,
   "id": "integrated-active",
   "metadata": {
    "execution": {
     "iopub.execute_input": "2022-03-22T05:15:26.864215Z",
     "iopub.status.busy": "2022-03-22T05:15:26.863455Z",
     "iopub.status.idle": "2022-03-22T05:15:27.530993Z",
     "shell.execute_reply": "2022-03-22T05:15:27.530285Z"
    }
   },
   "outputs": [],
   "source": [
    "from qcware import forge\n",
    "# this line is for internal tracking; it is not necessary for use!\n",
    "forge.config.set_environment_source_file('qdot.ipynb')\n",
    "\n",
    "# Paste your API key below if not using Forge hosted notebooks\n",
    "# qcware.config.set_api_key('paste API key here')\n",
    "import numpy as np"
   ]
  },
  {
   "cell_type": "code",
   "execution_count": 2,
   "id": "difficult-paris",
   "metadata": {
    "execution": {
     "iopub.execute_input": "2022-03-22T05:15:27.547440Z",
     "iopub.status.busy": "2022-03-22T05:15:27.546392Z",
     "iopub.status.idle": "2022-03-22T05:15:27.890389Z",
     "shell.execute_reply": "2022-03-22T05:15:27.890897Z"
    }
   },
   "outputs": [
    {
     "data": {
      "text/plain": [
       "0.013903348450926112"
      ]
     },
     "execution_count": 2,
     "metadata": {},
     "output_type": "execute_result"
    }
   ],
   "source": [
    "# Dot product of 2-D vectors:\n",
    "a = np.array([1., 0.])\n",
    "b = np.array([0., 1.])\n",
    "\n",
    "forge.qutils.qdot(a, b)"
   ]
  },
  {
   "cell_type": "code",
   "execution_count": 3,
   "id": "generic-combine",
   "metadata": {
    "execution": {
     "iopub.execute_input": "2022-03-22T05:15:27.900533Z",
     "iopub.status.busy": "2022-03-22T05:15:27.899424Z",
     "iopub.status.idle": "2022-03-22T05:15:28.277251Z",
     "shell.execute_reply": "2022-03-22T05:15:28.276608Z"
    }
   },
   "outputs": [
    {
     "name": "stdout",
     "output_type": "stream",
     "text": [
      "a dot b using numpy: 28.228780885608764\n",
      "a dot b with qdot: 18.59326906765814\n"
     ]
    }
   ],
   "source": [
    "# qdot with larger vectors:\n",
    "a = np.random.rand(100)\n",
    "b = np.random.rand(100)\n",
    "\n",
    "numpy_result = np.dot(a, b)\n",
    "qdot_result = forge.qutils.qdot(a, b)\n",
    "\n",
    "print('a dot b using numpy:', numpy_result)\n",
    "print('a dot b with qdot:', qdot_result)"
   ]
  },
  {
   "cell_type": "markdown",
   "id": "operational-organizer",
   "metadata": {},
   "source": [
    "### Matrix multiplication\n",
    "\n",
    "`qdot` can be used for matrix multiplication more generally. It's therefore a great way to use quantum computing for many linear algebra applications."
   ]
  },
  {
   "cell_type": "code",
   "execution_count": 4,
   "id": "possible-israel",
   "metadata": {
    "execution": {
     "iopub.execute_input": "2022-03-22T05:15:28.289332Z",
     "iopub.status.busy": "2022-03-22T05:15:28.287164Z",
     "iopub.status.idle": "2022-03-22T05:15:28.619959Z",
     "shell.execute_reply": "2022-03-22T05:15:28.619344Z"
    }
   },
   "outputs": [
    {
     "name": "stdout",
     "output_type": "stream",
     "text": [
      "numpy matrix product:\n",
      " [[1.42361222 1.36212317 0.7126285  1.68281307]\n",
      " [1.34787513 0.95181999 0.46945984 1.13232544]\n",
      " [1.5680641  1.60694472 0.42562595 1.51622631]\n",
      " [1.06677431 0.86282349 0.4332251  0.97989541]]\n",
      "\n",
      "qdot matrix product:\n",
      " [[1.40958127 1.38137056 0.71139459 1.68752188]\n",
      " [1.33013754 0.94306747 0.46017117 1.12207517]\n",
      " [1.57373404 1.60625749 0.41797844 1.52429821]\n",
      " [1.08088035 0.83994797 0.40786497 0.93838474]]\n"
     ]
    }
   ],
   "source": [
    "# qdot with larger vectors:\n",
    "n = 4\n",
    "a = np.random.rand(n, n)\n",
    "b = np.random.rand(n, n)\n",
    "\n",
    "numpy_result = np.dot(a, b)\n",
    "qdot_result = forge.qutils.qdot(a, b)\n",
    "\n",
    "\n",
    "print('numpy matrix product:\\n', numpy_result)\n",
    "print('\\nqdot matrix product:\\n', qdot_result)"
   ]
  },
  {
   "cell_type": "markdown",
   "id": "mental-faith",
   "metadata": {},
   "source": [
    "### Running on quantum hardware\n",
    "\n",
    "Physical quantum hardware can be used by specifying the `backend` argument. Here we use `qdot` with IonQ's trapped ion technology."
   ]
  },
  {
   "cell_type": "code",
   "execution_count": 5,
   "id": "potential-accountability",
   "metadata": {
    "execution": {
     "iopub.execute_input": "2022-03-22T05:15:28.626792Z",
     "iopub.status.busy": "2022-03-22T05:15:28.625662Z",
     "iopub.status.idle": "2022-03-22T05:15:28.629179Z",
     "shell.execute_reply": "2022-03-22T05:15:28.628568Z"
    }
   },
   "outputs": [],
   "source": [
    "# Uncomment to use next available scheduling:\n",
    "forge.config.set_scheduling_mode(\"next_available\")\n",
    "\n",
    "a = np.random.rand(3)\n",
    "b = np.random.rand(3)\n",
    "\n",
    "# Uncomment this line to perform hardware run:\n",
    "# qcware.qutils.qdot(a, b, backend='awsbraket/ionq')"
   ]
  }
 ],
 "metadata": {
  "kernelspec": {
   "display_name": "Python 3 (ipykernel)",
   "language": "python",
   "name": "python3"
  },
  "language_info": {
   "codemirror_mode": {
    "name": "ipython",
    "version": 3
   },
   "file_extension": ".py",
   "mimetype": "text/x-python",
   "name": "python",
   "nbconvert_exporter": "python",
   "pygments_lexer": "ipython3",
   "version": "3.9.2"
  }
 },
 "nbformat": 4,
 "nbformat_minor": 5
}
