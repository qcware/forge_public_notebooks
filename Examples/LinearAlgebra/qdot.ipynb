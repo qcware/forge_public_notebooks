{
 "cells": [
  {
   "cell_type": "markdown",
   "id": "arbitrary-hometown",
   "metadata": {},
   "source": [
    "# Quantum Dot Product"
   ]
  },
  {
   "cell_type": "markdown",
   "id": "written-pillow",
   "metadata": {},
   "source": [
    "This notebook demonstrates our `qdot` quantum dot product API call which performs general matrix multiplication with a NISQ quantum algorithm. We expect the quantum dot product to be faster than classical dot products for high dimensional vectors as quantum hardware matures."
   ]
  },
  {
   "cell_type": "markdown",
   "id": "welsh-blood",
   "metadata": {},
   "source": [
    "### Basic usage"
   ]
  },
  {
   "cell_type": "code",
   "execution_count": 1,
   "id": "integrated-active",
   "metadata": {
    "execution": {
     "iopub.execute_input": "2021-12-22T05:17:59.433994Z",
     "iopub.status.busy": "2021-12-22T05:17:59.426952Z",
     "iopub.status.idle": "2021-12-22T05:18:00.029989Z",
     "shell.execute_reply": "2021-12-22T05:18:00.028729Z"
    }
   },
   "outputs": [],
   "source": [
    "from qcware import forge\n",
    "# this line is for internal tracking; it is not necessary for use!\n",
    "forge.config.set_environment_source_file('qdot.ipynb')\n",
    "\n",
    "# Paste your API key below if not using Forge hosted notebooks\n",
    "# qcware.config.set_api_key('paste API key here')\n",
    "import numpy as np"
   ]
  },
  {
   "cell_type": "code",
   "execution_count": 2,
   "id": "difficult-paris",
   "metadata": {
    "execution": {
     "iopub.execute_input": "2021-12-22T05:18:00.033772Z",
     "iopub.status.busy": "2021-12-22T05:18:00.033167Z",
     "iopub.status.idle": "2021-12-22T05:18:00.307491Z",
     "shell.execute_reply": "2021-12-22T05:18:00.306938Z"
    }
   },
   "outputs": [
    {
     "data": {
      "text/plain": [
       "0.017840851999957774"
      ]
     },
     "execution_count": 2,
     "metadata": {},
     "output_type": "execute_result"
    }
   ],
   "source": [
    "# Dot product of 2-D vectors:\n",
    "a = np.array([1., 0.])\n",
    "b = np.array([0., 1.])\n",
    "\n",
    "forge.qutils.qdot(a, b)"
   ]
  },
  {
   "cell_type": "code",
   "execution_count": 3,
   "id": "generic-combine",
   "metadata": {
    "execution": {
     "iopub.execute_input": "2021-12-22T05:18:00.316447Z",
     "iopub.status.busy": "2021-12-22T05:18:00.315537Z",
     "iopub.status.idle": "2021-12-22T05:18:00.613751Z",
     "shell.execute_reply": "2021-12-22T05:18:00.614302Z"
    }
   },
   "outputs": [
    {
     "name": "stdout",
     "output_type": "stream",
     "text": [
      "a dot b using numpy: 27.04522984788863\n",
      "a dot b with qdot: 27.68243219598232\n"
     ]
    }
   ],
   "source": [
    "# qdot with larger vectors:\n",
    "a = np.random.rand(100)\n",
    "b = np.random.rand(100)\n",
    "\n",
    "numpy_result = np.dot(a, b)\n",
    "qdot_result = forge.qutils.qdot(a, b)\n",
    "\n",
    "print('a dot b using numpy:', numpy_result)\n",
    "print('a dot b with qdot:', qdot_result)"
   ]
  },
  {
   "cell_type": "markdown",
   "id": "operational-organizer",
   "metadata": {},
   "source": [
    "### Matrix multiplication\n",
    "\n",
    "`qdot` can be used for matrix multiplication more generally. It's therefore a great way to use quantum computing for many linear algebra applications."
   ]
  },
  {
   "cell_type": "code",
   "execution_count": 4,
   "id": "possible-israel",
   "metadata": {
    "execution": {
     "iopub.execute_input": "2021-12-22T05:18:00.622993Z",
     "iopub.status.busy": "2021-12-22T05:18:00.622376Z",
     "iopub.status.idle": "2021-12-22T05:18:00.899190Z",
     "shell.execute_reply": "2021-12-22T05:18:00.898215Z"
    }
   },
   "outputs": [
    {
     "name": "stdout",
     "output_type": "stream",
     "text": [
      "numpy matrix product:\n",
      " [[1.37536631 0.63497377 0.95106315 1.1757156 ]\n",
      " [0.47754008 0.62254105 0.47143218 0.85440153]\n",
      " [0.99943845 0.36955242 0.62800291 0.72555089]\n",
      " [1.13059467 0.51795582 0.66834266 0.72097851]]\n",
      "\n",
      "qdot matrix product:\n",
      " [[1.36243713 0.6551084  0.95693332 1.20834816]\n",
      " [0.46075201 0.62281375 0.45769764 0.86636722]\n",
      " [1.00144016 0.38267069 0.63737828 0.72083092]\n",
      " [1.13946694 0.52810453 0.66216409 0.7237111 ]]\n"
     ]
    }
   ],
   "source": [
    "# qdot with larger vectors:\n",
    "n = 4\n",
    "a = np.random.rand(n, n)\n",
    "b = np.random.rand(n, n)\n",
    "\n",
    "numpy_result = np.dot(a, b)\n",
    "qdot_result = forge.qutils.qdot(a, b)\n",
    "\n",
    "\n",
    "print('numpy matrix product:\\n', numpy_result)\n",
    "print('\\nqdot matrix product:\\n', qdot_result)"
   ]
  },
  {
   "cell_type": "markdown",
   "id": "mental-faith",
   "metadata": {},
   "source": [
    "### Running on quantum hardware\n",
    "\n",
    "Physical quantum hardware can be used by specifying the `backend` argument. Here we use `qdot` with IonQ's trapped ion technology."
   ]
  },
  {
   "cell_type": "code",
   "execution_count": 5,
   "id": "potential-accountability",
   "metadata": {
    "execution": {
     "iopub.execute_input": "2021-12-22T05:18:00.907372Z",
     "iopub.status.busy": "2021-12-22T05:18:00.905705Z",
     "iopub.status.idle": "2021-12-22T05:18:00.910717Z",
     "shell.execute_reply": "2021-12-22T05:18:00.909836Z"
    }
   },
   "outputs": [],
   "source": [
    "# Uncomment to use next available scheduling:\n",
    "forge.config.set_scheduling_mode(\"next_available\")\n",
    "\n",
    "a = np.random.rand(3)\n",
    "b = np.random.rand(3)\n",
    "\n",
    "# Uncomment this line to perform hardware run:\n",
    "# qcware.qutils.qdot(a, b, backend='awsbraket/ionq')"
   ]
  }
 ],
 "metadata": {
  "kernelspec": {
   "display_name": "Python 3 (ipykernel)",
   "language": "python",
   "name": "python3"
  },
  "language_info": {
   "codemirror_mode": {
    "name": "ipython",
    "version": 3
   },
   "file_extension": ".py",
   "mimetype": "text/x-python",
   "name": "python",
   "nbconvert_exporter": "python",
   "pygments_lexer": "ipython3",
   "version": "3.9.2"
  }
 },
 "nbformat": 4,
 "nbformat_minor": 5
}
