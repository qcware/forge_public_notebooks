{
 "cells": [
  {
   "cell_type": "markdown",
   "id": "closed-example",
   "metadata": {},
   "source": [
    "# Brute Force Optimization\n",
    "\n",
    "`brute_force_minimize` is a good tool for checking solutions for problems with fewer than 28 variables."
   ]
  },
  {
   "cell_type": "markdown",
   "id": "certain-calcium",
   "metadata": {},
   "source": [
    "#### Define a function to get random QUBOs"
   ]
  },
  {
   "cell_type": "code",
   "execution_count": null,
   "id": "floppy-knitting",
   "metadata": {},
   "outputs": [],
   "source": [
    "from qcware.forge import optimization\n",
    "from qcware.types.optimization import PolynomialObjective, Constraints, BinaryProblem\n",
    "from random import randint\n",
    "\n",
    "def rand_qubo(n):\n",
    "    \"\"\"Create a QUBO with n variables.\"\"\"\n",
    "    qubo = {}\n",
    "    for i in range(n):\n",
    "        for j in range(i, n):\n",
    "            qubo[(i, j)] = randint(-2, 2)\n",
    "    return PolynomialObjective(\n",
    "        polynomial=qubo, \n",
    "        num_variables=n,\n",
    "        domain='boolean'\n",
    "    )"
   ]
  },
  {
   "cell_type": "markdown",
   "id": "armed-result",
   "metadata": {},
   "source": [
    "#### Solving with `brute_force_minimize`"
   ]
  },
  {
   "cell_type": "code",
   "execution_count": null,
   "id": "thrown-credit",
   "metadata": {},
   "outputs": [],
   "source": [
    "# Create a random QUBO with 5 variables\n",
    "qubo = rand_qubo(10)\n",
    "\n",
    "result = optimization.brute_force_minimize(\n",
    "    objective=qubo,\n",
    "    backend='qcware/cpu'\n",
    ")\n",
    "print(result)"
   ]
  },
  {
   "cell_type": "markdown",
   "id": "visible-benchmark",
   "metadata": {},
   "source": [
    "#### Additional solution information"
   ]
  },
  {
   "cell_type": "code",
   "execution_count": null,
   "id": "annual-freeware",
   "metadata": {},
   "outputs": [],
   "source": [
    "print('Number of optimal solutions:')\n",
    "print(result.num_minima)\n",
    "\n",
    "print('\\nList of optimal solutions:')\n",
    "print(result.int_argmin())"
   ]
  },
  {
   "cell_type": "markdown",
   "id": "collective-career",
   "metadata": {},
   "source": [
    "#### Solving large problems with GPU backend\n",
    "\n",
    "The GPU backend can be used to solve problems that would be infeasible on a CPU."
   ]
  },
  {
   "cell_type": "code",
   "execution_count": null,
   "id": "worthy-willow",
   "metadata": {},
   "outputs": [],
   "source": [
    "# Create a random QUBO with 22 variables.\n",
    "qubo = rand_qubo(22)\n",
    "\n",
    "result = optimization.brute_force_minimize(\n",
    "    objective=qubo,\n",
    "    backend='qcware/gpu'\n",
    ")\n",
    "print(result)"
   ]
  },
  {
   "cell_type": "code",
   "execution_count": null,
   "id": "natural-resolution",
   "metadata": {},
   "outputs": [],
   "source": []
  }
 ],
 "metadata": {
  "kernelspec": {
   "display_name": "Python 3",
   "language": "python",
   "name": "python3"
  },
  "language_info": {
   "codemirror_mode": {
    "name": "ipython",
    "version": 3
   },
   "file_extension": ".py",
   "mimetype": "text/x-python",
   "name": "python",
   "nbconvert_exporter": "python",
   "pygments_lexer": "ipython3",
   "version": "3.9.7"
  }
 },
 "nbformat": 4,
 "nbformat_minor": 5
}
