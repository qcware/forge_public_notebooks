{
 "cells": [
  {
   "cell_type": "markdown",
   "id": "presidential-password",
   "metadata": {},
   "source": [
    "# Brute Force Constraint Satisfaction"
   ]
  },
  {
   "cell_type": "markdown",
   "id": "interim-metallic",
   "metadata": {},
   "source": [
    "### Example\n",
    "\n",
    "Consider three boolean variables $a$, $b$, and $c$ (taking on the values 0 and 1) subject to the constraints\n",
    "\n",
    "- $a + b > 0$ (equivalently, $a$ OR $b$)\n",
    "- $b + c = 1$ (equivalently, $b$ XOR $c$).\n",
    "\n",
    "Here we do a brute-force search to find the satisfying assignments."
   ]
  },
  {
   "cell_type": "markdown",
   "id": "eleven-soldier",
   "metadata": {},
   "source": [
    "#### Construct constraints\n",
    "\n",
    "Note: An overview of how to define constraints in Forge is available in [another notebook](../ProblemComposition/constraints.ipynb)."
   ]
  },
  {
   "cell_type": "code",
   "execution_count": 1,
   "id": "eleven-bonus",
   "metadata": {
    "execution": {
     "iopub.execute_input": "2022-08-03T05:10:06.620102Z",
     "iopub.status.busy": "2022-08-03T05:10:06.619061Z",
     "iopub.status.idle": "2022-08-03T05:10:07.025156Z",
     "shell.execute_reply": "2022-08-03T05:10:07.022509Z"
    }
   },
   "outputs": [
    {
     "name": "stdout",
     "output_type": "stream",
     "text": [
      "Constraints:\n",
      "    Number of variables: 3\n",
      "    Total number of constraints: 2\n",
      "    Variable domain: boolean\n",
      "\n",
      "    Predicate      Number of Constraints    Highest Degree\n",
      "    -----------  -----------------------  ----------------\n",
      "    POSITIVE                           1                 1\n",
      "    ZERO                               1                 1\n",
      "\n",
      "    x_0 + x_1 > 0\n",
      "\n",
      "\n",
      "    -1 + x_1 + x_2 = 0\n"
     ]
    }
   ],
   "source": [
    "from qcware.types.optimization import Constraints, PolynomialObjective, BinaryProblem\n",
    "\n",
    "constraint_dict = {\n",
    "    # a + b > 0\n",
    "    'POSITIVE': [{(0,): 1, (1,): 1}],\n",
    "    \n",
    "     # -1 + b + c = 0\n",
    "    'ZERO': [{(): -1, (1,): 1, (2,): 1}]\n",
    "}\n",
    "\n",
    "cnstr = Constraints(\n",
    "    constraint_dict,\n",
    "    num_variables=3\n",
    ")\n",
    "\n",
    "print(cnstr)"
   ]
  },
  {
   "cell_type": "markdown",
   "id": "economic-probability",
   "metadata": {},
   "source": [
    "#### Specify problem instance\n",
    "\n",
    "Problem instances consist of:\n",
    "1. An [objective function](../ProblemComposition/objective_functions.ipynb)\n",
    "2. Constraints\n",
    "\n",
    "For our constraint satisfaction problem, the objective is trivial: "
   ]
  },
  {
   "cell_type": "code",
   "execution_count": 2,
   "id": "gothic-freedom",
   "metadata": {
    "execution": {
     "iopub.execute_input": "2022-08-03T05:10:07.030526Z",
     "iopub.status.busy": "2022-08-03T05:10:07.029975Z",
     "iopub.status.idle": "2022-08-03T05:10:07.041381Z",
     "shell.execute_reply": "2022-08-03T05:10:07.040248Z"
    }
   },
   "outputs": [
    {
     "name": "stdout",
     "output_type": "stream",
     "text": [
      "Objective:\n",
      "    0  (3 boolean variables)\n",
      "\n",
      "Constraints:\n",
      "    Number of variables: 3\n",
      "    Total number of constraints: 2\n",
      "    Variable domain: boolean\n",
      "\n",
      "    Predicate      Number of Constraints    Highest Degree\n",
      "    -----------  -----------------------  ----------------\n",
      "    POSITIVE                           1                 1\n",
      "    ZERO                               1                 1\n",
      "\n",
      "    x_0 + x_1 > 0\n",
      "\n",
      "\n",
      "    -1 + x_1 + x_2 = 0\n"
     ]
    }
   ],
   "source": [
    "obj = PolynomialObjective(\n",
    "    {},\n",
    "    num_variables=3\n",
    ")\n",
    "\n",
    "problem_instance = BinaryProblem(\n",
    "    objective=obj,\n",
    "    constraints=cnstr\n",
    ")\n",
    "\n",
    "print(problem_instance)"
   ]
  },
  {
   "cell_type": "markdown",
   "id": "mysterious-maldives",
   "metadata": {},
   "source": [
    "#### Solve"
   ]
  },
  {
   "cell_type": "code",
   "execution_count": 3,
   "id": "lyric-humor",
   "metadata": {
    "execution": {
     "iopub.execute_input": "2022-08-03T05:10:07.046509Z",
     "iopub.status.busy": "2022-08-03T05:10:07.046049Z",
     "iopub.status.idle": "2022-08-03T05:10:08.287790Z",
     "shell.execute_reply": "2022-08-03T05:10:08.285873Z"
    }
   },
   "outputs": [
    {
     "name": "stdout",
     "output_type": "stream",
     "text": [
      "[[0, 1, 0], [1, 0, 1], [1, 1, 0]]\n"
     ]
    }
   ],
   "source": [
    "from qcware.forge.optimization import brute_force_minimize\n",
    "\n",
    "result = brute_force_minimize(\n",
    "    objective=obj,\n",
    "    constraints=cnstr\n",
    ")\n",
    "\n",
    "print(result.int_argmin())"
   ]
  },
  {
   "cell_type": "code",
   "execution_count": null,
   "id": "excellent-dealing",
   "metadata": {},
   "outputs": [],
   "source": []
  }
 ],
 "metadata": {
  "kernelspec": {
   "display_name": "Python 3",
   "language": "python",
   "name": "python3"
  },
  "language_info": {
   "codemirror_mode": {
    "name": "ipython",
    "version": 3
   },
   "file_extension": ".py",
   "mimetype": "text/x-python",
   "name": "python",
   "nbconvert_exporter": "python",
   "pygments_lexer": "ipython3",
   "version": "3.9.2"
  }
 },
 "nbformat": 4,
 "nbformat_minor": 5
}
