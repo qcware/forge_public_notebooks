{
 "cells": [
  {
   "cell_type": "markdown",
   "id": "early-significance",
   "metadata": {},
   "source": [
    "# Constraints\n",
    "\n",
    "Constraints on binary variables are defined in a similar way to [objective funtions](./objective_functions.ipynb) and we recommend reading about objective functions first.\n",
    "\n",
    "#### Basic Example\n",
    "Consider 3 variables $a, b$, and $c$ which take on values 0 and 1. Suppose that we want to add a constraint that $a$ and $b$ cannot both be zero. Since $a, b \\in \\{0, 1\\}$,\n",
    "this constraint holds if and only if\n",
    "$$\n",
    "a + b > 0\n",
    "$$\n",
    "\n",
    "To specify this constraint on Forge, we build the polynomial $g(a, b, c) = a + b$ and we say that $g$ is positive."
   ]
  },
  {
   "cell_type": "code",
   "execution_count": 1,
   "id": "secret-prairie",
   "metadata": {
    "execution": {
     "iopub.execute_input": "2022-08-24T05:15:14.316145Z",
     "iopub.status.busy": "2022-08-24T05:15:14.314964Z",
     "iopub.status.idle": "2022-08-24T05:15:14.332990Z",
     "shell.execute_reply": "2022-08-24T05:15:14.331953Z"
    }
   },
   "outputs": [],
   "source": [
    "# See objective_functions.ipynb to understand how to define g\n",
    "g = {(0,): 1, (1,): 1}\n",
    "\n",
    "constraint_dict = {'POSITIVE': [g]}"
   ]
  },
  {
   "cell_type": "markdown",
   "id": "pharmaceutical-voice",
   "metadata": {},
   "source": [
    "Now we encapsulate this dictionary into Forge's Constraints type:"
   ]
  },
  {
   "cell_type": "code",
   "execution_count": 2,
   "id": "protective-monaco",
   "metadata": {
    "execution": {
     "iopub.execute_input": "2022-08-24T05:15:14.338002Z",
     "iopub.status.busy": "2022-08-24T05:15:14.337037Z",
     "iopub.status.idle": "2022-08-24T05:15:14.585949Z",
     "shell.execute_reply": "2022-08-24T05:15:14.584798Z"
    }
   },
   "outputs": [
    {
     "name": "stdout",
     "output_type": "stream",
     "text": [
      "Constraints:\n",
      "    Number of variables: 3\n",
      "    Total number of constraints: 1\n",
      "    Variable domain: boolean\n",
      "\n",
      "    Predicate      Number of Constraints    Highest Degree\n",
      "    -----------  -----------------------  ----------------\n",
      "    POSITIVE                           1                 1\n",
      "\n",
      "    x_0 + x_1 > 0\n"
     ]
    }
   ],
   "source": [
    "from qcware.types.optimization import Constraints\n",
    "\n",
    "cnstr = Constraints(\n",
    "    constraint_dict,\n",
    "    num_variables=3,\n",
    ")\n",
    "\n",
    "print(cnstr)"
   ]
  },
  {
   "cell_type": "markdown",
   "id": "obvious-benjamin",
   "metadata": {},
   "source": [
    "#### Multiple constraints"
   ]
  },
  {
   "cell_type": "markdown",
   "id": "hourly-horizontal",
   "metadata": {},
   "source": [
    "Suppose we also demand that $b + c > 0$. We now have two functions that must be positive:\n",
    "- $a + b > 0$\n",
    "- $b + c > 0$\n",
    "\n",
    "Defining this is easy on Forge:"
   ]
  },
  {
   "cell_type": "code",
   "execution_count": 3,
   "id": "hollow-challenge",
   "metadata": {
    "execution": {
     "iopub.execute_input": "2022-08-24T05:15:14.591431Z",
     "iopub.status.busy": "2022-08-24T05:15:14.590706Z",
     "iopub.status.idle": "2022-08-24T05:15:14.608042Z",
     "shell.execute_reply": "2022-08-24T05:15:14.606471Z"
    }
   },
   "outputs": [
    {
     "name": "stdout",
     "output_type": "stream",
     "text": [
      "Constraints:\n",
      "    Number of variables: 3\n",
      "    Total number of constraints: 2\n",
      "    Variable domain: boolean\n",
      "\n",
      "    Predicate      Number of Constraints    Highest Degree\n",
      "    -----------  -----------------------  ----------------\n",
      "    POSITIVE                           2                 1\n",
      "\n",
      "    x_0 + x_1 > 0\n",
      "    x_1 + x_2 > 0\n"
     ]
    }
   ],
   "source": [
    "# Constrained polynomials:\n",
    "g = {(0,): 1, (1,): 1}  # g(a, b, c) = a + b\n",
    "h = {(1,): 1, (2,): 1}  # h(a, b, c) = b + c\n",
    "\n",
    "# dict defining constraints:\n",
    "constraints = {\n",
    "    'POSITIVE': [g, h]\n",
    "}\n",
    "\n",
    "# Constraints object:\n",
    "constraints = Constraints(\n",
    "    constraints,\n",
    "    num_variables=3\n",
    ")\n",
    "print(constraints)"
   ]
  },
  {
   "cell_type": "markdown",
   "id": "metric-hunter",
   "metadata": {},
   "source": [
    "#### Types of constraints\n",
    "\n",
    "##### Predicates\n",
    "\n",
    "There are six possible conditions that we can directly put on a polynomial $g$:\n",
    "\n",
    "\n",
    "<table style=\"width:60%; text-align:center;\">\n",
    "  <tr>\n",
    "    <th>Constraint</th>\n",
    "    <th>Code</th>\n",
    "  </tr>\n",
    "  <tr>\n",
    "    <td> $g = 0$ </td>\n",
    "    <td> <code>{'ZERO': [g]}</code> </td>\n",
    "  </tr>\n",
    "  <tr>\n",
    "      <td>$g \\neq 0$</td>\n",
    "      <td><code>{'NONZERO': [g]}</code></td>\n",
    "  </tr>\n",
    "  <tr> \n",
    "    <td>$g > 0$</td>\n",
    "    <td><code>{'POSITIVE': [g]}</code></td>\n",
    "  </tr>\n",
    "  <tr>\n",
    "    <td>$g < 0$</td>\n",
    "    <td><code>{'NEGATIVE': [g]}</code></td>\n",
    "  </tr>\n",
    "  <tr>\n",
    "    <td>$g \\geq 0$</td>\n",
    "    <td><code>{'NONNEGATIVE': [g]}</code></td>\n",
    "  </tr>\n",
    "  <tr>\n",
    "    <td>$g \\leq 0$</td>\n",
    "    <td><code>{'NONPOSITIVE': [g]}</code></td>\n",
    "  </tr>\n",
    "</table>\n",
    "\n",
    "Rather than typing `'NONPOSITIVE'`, etc., using `Predicate` is good practice as it gives access to autocompletion and catches typos:"
   ]
  },
  {
   "cell_type": "code",
   "execution_count": 4,
   "id": "unauthorized-cheese",
   "metadata": {
    "execution": {
     "iopub.execute_input": "2022-08-24T05:15:14.613542Z",
     "iopub.status.busy": "2022-08-24T05:15:14.612420Z",
     "iopub.status.idle": "2022-08-24T05:15:14.631306Z",
     "shell.execute_reply": "2022-08-24T05:15:14.629630Z"
    }
   },
   "outputs": [],
   "source": [
    "from qcware.types.optimization import Predicate\n",
    "\n",
    "# No need to worry about mistyping when using Predicate\n",
    "constraints = {\n",
    "    Predicate.POSITIVE: [g],\n",
    "    Predicate.NONNEGATIVE: [h]\n",
    "}"
   ]
  },
  {
   "cell_type": "markdown",
   "id": "herbal-celebrity",
   "metadata": {},
   "source": [
    "##### Nonlinear constraints\n",
    "\n",
    "Nonlinear constraints like $a b c = 0$ are constructed just like other [polynomials](./objective_functions.ipynb) are."
   ]
  },
  {
   "cell_type": "code",
   "execution_count": 5,
   "id": "ready-colorado",
   "metadata": {
    "execution": {
     "iopub.execute_input": "2022-08-24T05:15:14.637873Z",
     "iopub.status.busy": "2022-08-24T05:15:14.637258Z",
     "iopub.status.idle": "2022-08-24T05:15:14.652301Z",
     "shell.execute_reply": "2022-08-24T05:15:14.649385Z"
    }
   },
   "outputs": [
    {
     "name": "stdout",
     "output_type": "stream",
     "text": [
      "Constraints:\n",
      "    Number of variables: 3\n",
      "    Total number of constraints: 1\n",
      "    Variable domain: boolean\n",
      "\n",
      "    Predicate      Number of Constraints    Highest Degree\n",
      "    -----------  -----------------------  ----------------\n",
      "    ZERO                               1                 3\n",
      "\n",
      "    x_0 x_1 x_2 = 0\n"
     ]
    }
   ],
   "source": [
    "constraints = {\n",
    "    Predicate.ZERO: [\n",
    "        {(0, 1, 2): 1}  # a * b * c = 0\n",
    "    ]\n",
    "}\n",
    "\n",
    "constraints = Constraints(\n",
    "    constraints,\n",
    "    num_variables=3\n",
    ")\n",
    "print(constraints)"
   ]
  },
  {
   "cell_type": "markdown",
   "id": "eight-barrel",
   "metadata": {},
   "source": [
    "#### Problem instances\n",
    "\n",
    "Problem instances consist of:\n",
    "1. An [objective function](./objective_functions.ipynb)\n",
    "2. Optional constraints\n",
    "\n",
    "These instances are the inputs for quantum optimization algorithms on Forge."
   ]
  },
  {
   "cell_type": "code",
   "execution_count": 6,
   "id": "brief-petite",
   "metadata": {
    "execution": {
     "iopub.execute_input": "2022-08-24T05:15:14.658587Z",
     "iopub.status.busy": "2022-08-24T05:15:14.658031Z",
     "iopub.status.idle": "2022-08-24T05:15:14.682828Z",
     "shell.execute_reply": "2022-08-24T05:15:14.681337Z"
    }
   },
   "outputs": [
    {
     "name": "stdout",
     "output_type": "stream",
     "text": [
      "Objective:\n",
      "    4 + x_0 + x_1 - x_2 + 3 x_0 x_1 + x_1 x_2  (3 boolean variables)\n",
      "\n",
      "Constraints:\n",
      "    Number of variables: 3\n",
      "    Total number of constraints: 3\n",
      "    Variable domain: boolean\n",
      "\n",
      "    Predicate      Number of Constraints    Highest Degree\n",
      "    -----------  -----------------------  ----------------\n",
      "    ZERO                               1                 3\n",
      "    POSITIVE                           2                 1\n",
      "\n",
      "    x_0 x_1 x_2 = 0\n",
      "\n",
      "\n",
      "    x_0 + x_1 > 0\n",
      "    x_1 + x_2 > 0\n"
     ]
    }
   ],
   "source": [
    "from qcware.types.optimization import BinaryProblem, PolynomialObjective\n",
    "\n",
    "# Build objective function\n",
    "objective_polynomial = {\n",
    "    (): 4,\n",
    "    (0,): 1, \n",
    "    (1,): 1, \n",
    "    (2,): -1, \n",
    "    (0, 1): 3,\n",
    "    (1, 2): 1, \n",
    "}\n",
    "\n",
    "objective_function = PolynomialObjective(\n",
    "    polynomial=objective_polynomial, \n",
    "    num_variables=3,\n",
    ")\n",
    "\n",
    "constraints = {\n",
    "    Predicate.POSITIVE: [\n",
    "        {(0,): 1, (1,): 1},  # a + b > 0\n",
    "        {(1,): 1, (2,): 1},  # b + c > 0\n",
    "    ],\n",
    "    Predicate.ZERO: [\n",
    "        {(0, 1, 2): 1} # a * b * c = 0\n",
    "    ]\n",
    "}\n",
    "\n",
    "constraints = Constraints(\n",
    "    constraints,\n",
    "    num_variables=3\n",
    ")\n",
    "\n",
    "\n",
    "# Construct problem instance\n",
    "problem_instance = BinaryProblem(\n",
    "    objective=objective_function,\n",
    "    constraints=constraints\n",
    ")\n",
    "\n",
    "print(problem_instance)"
   ]
  },
  {
   "cell_type": "code",
   "execution_count": null,
   "id": "adolescent-balloon",
   "metadata": {},
   "outputs": [],
   "source": []
  }
 ],
 "metadata": {
  "kernelspec": {
   "display_name": "Python 3",
   "language": "python",
   "name": "python3"
  },
  "language_info": {
   "codemirror_mode": {
    "name": "ipython",
    "version": 3
   },
   "file_extension": ".py",
   "mimetype": "text/x-python",
   "name": "python",
   "nbconvert_exporter": "python",
   "pygments_lexer": "ipython3",
   "version": "3.9.2"
  }
 },
 "nbformat": 4,
 "nbformat_minor": 5
}
