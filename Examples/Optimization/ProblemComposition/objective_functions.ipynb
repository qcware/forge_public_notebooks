{
 "cells": [
  {
   "cell_type": "markdown",
   "id": "thirty-moral",
   "metadata": {},
   "source": [
    "# Objective Functions\n",
    "\n",
    "Specifying a problem instance is the first step toward using Forge's binary optimization quantum algorithms."
   ]
  },
  {
   "cell_type": "markdown",
   "id": "talented-interstate",
   "metadata": {},
   "source": [
    "#### Declaring an objective function\n",
    "\n",
    "Consider the function\n",
    "\n",
    "$$\n",
    "f(x_0, x_1, x_2) = 4 + x_0 + x_1 - x_2 + 3 x_0 x_1 + x_1 x_2\n",
    "$$\n",
    "\n",
    "where $x_0, x_1$, and $x_2$ are boolean variables which can be either 0 or 1. We encode $f$ as a `PolynomialObjective`."
   ]
  },
  {
   "cell_type": "code",
   "execution_count": 1,
   "id": "blocked-dancing",
   "metadata": {
    "execution": {
     "iopub.execute_input": "2022-06-14T05:14:45.036946Z",
     "iopub.status.busy": "2022-06-14T05:14:45.036491Z",
     "iopub.status.idle": "2022-06-14T05:14:45.328720Z",
     "shell.execute_reply": "2022-06-14T05:14:45.327116Z"
    }
   },
   "outputs": [
    {
     "name": "stdout",
     "output_type": "stream",
     "text": [
      "4 + x_0 + x_1 - x_2 + 3 x_0 x_1 + x_1 x_2  (3 boolean variables)\n"
     ]
    }
   ],
   "source": [
    "from qcware.types.optimization import PolynomialObjective, Constraints, BinaryProblem\n",
    "\n",
    "# Keys designate variables in a term and values are coefficients.\n",
    "polynomial = {\n",
    "    (): 4,\n",
    "    (0,): 1, \n",
    "    (1,): 1, \n",
    "    (2,): -1, \n",
    "    (0, 1): 3,\n",
    "    (1, 2): 1, \n",
    "}\n",
    "\n",
    "objective_function = PolynomialObjective(\n",
    "    polynomial, \n",
    "    num_variables=3,\n",
    "    domain='boolean'\n",
    ")\n",
    "\n",
    "print(objective_function)"
   ]
  },
  {
   "cell_type": "markdown",
   "id": "mechanical-sellers",
   "metadata": {},
   "source": [
    "Properties of our objective function can be read off:"
   ]
  },
  {
   "cell_type": "code",
   "execution_count": 2,
   "id": "boring-vault",
   "metadata": {
    "execution": {
     "iopub.execute_input": "2022-06-14T05:14:45.333891Z",
     "iopub.status.busy": "2022-06-14T05:14:45.333363Z",
     "iopub.status.idle": "2022-06-14T05:14:45.351167Z",
     "shell.execute_reply": "2022-06-14T05:14:45.349829Z"
    }
   },
   "outputs": [
    {
     "data": {
      "text/plain": [
       "3"
      ]
     },
     "execution_count": 2,
     "metadata": {},
     "output_type": "execute_result"
    }
   ],
   "source": [
    "objective_function.num_variables"
   ]
  },
  {
   "cell_type": "code",
   "execution_count": 3,
   "id": "prescription-internet",
   "metadata": {
    "execution": {
     "iopub.execute_input": "2022-06-14T05:14:45.356874Z",
     "iopub.status.busy": "2022-06-14T05:14:45.356466Z",
     "iopub.status.idle": "2022-06-14T05:14:45.364495Z",
     "shell.execute_reply": "2022-06-14T05:14:45.363191Z"
    }
   },
   "outputs": [
    {
     "data": {
      "text/plain": [
       "2"
      ]
     },
     "execution_count": 3,
     "metadata": {},
     "output_type": "execute_result"
    }
   ],
   "source": [
    "# Polynomial degree of the objective (2 for a QUBO)\n",
    "objective_function.degree"
   ]
  },
  {
   "cell_type": "markdown",
   "id": "medical-repository",
   "metadata": {},
   "source": [
    "**Note**: `PolynomialObjective` requires that variables be enumerated as `0`, `1`, ..., `num_variables - 1`. See the following cells: "
   ]
  },
  {
   "cell_type": "code",
   "execution_count": 4,
   "id": "criminal-berlin",
   "metadata": {
    "execution": {
     "iopub.execute_input": "2022-06-14T05:14:45.376261Z",
     "iopub.status.busy": "2022-06-14T05:14:45.375448Z",
     "iopub.status.idle": "2022-06-14T05:14:45.381225Z",
     "shell.execute_reply": "2022-06-14T05:14:45.379763Z"
    }
   },
   "outputs": [],
   "source": [
    "# # This raises an error because num_variables=3 but we refer to x_5 in the polynomial:\n",
    "# objective_function = PolynomialObjective(\n",
    "#     polynomial={(0, 5): 7}, \n",
    "#     num_variables=3,\n",
    "#     domain='boolean'\n",
    "# )"
   ]
  },
  {
   "cell_type": "code",
   "execution_count": 5,
   "id": "sporting-petite",
   "metadata": {
    "execution": {
     "iopub.execute_input": "2022-06-14T05:14:45.387605Z",
     "iopub.status.busy": "2022-06-14T05:14:45.386630Z",
     "iopub.status.idle": "2022-06-14T05:14:45.396941Z",
     "shell.execute_reply": "2022-06-14T05:14:45.395627Z"
    }
   },
   "outputs": [],
   "source": [
    "# This does not raise an error although it contains superfluous variables (see below)\n",
    "objective_function = PolynomialObjective(\n",
    "    polynomial={(0, 5): 7}, \n",
    "    num_variables=6,\n",
    "    domain='boolean'\n",
    ")"
   ]
  },
  {
   "cell_type": "markdown",
   "id": "alpha-percentage",
   "metadata": {},
   "source": [
    "#### Problem instances\n",
    "\n",
    "Problem instances consist of:\n",
    "1. An objective function\n",
    "2. Optional [constraints](./constraints.ipynb)\n",
    "\n",
    "These instances are the inputs for quantum optimization algorithms on Forge."
   ]
  },
  {
   "cell_type": "code",
   "execution_count": 6,
   "id": "processed-former",
   "metadata": {
    "execution": {
     "iopub.execute_input": "2022-06-14T05:14:45.401586Z",
     "iopub.status.busy": "2022-06-14T05:14:45.400746Z",
     "iopub.status.idle": "2022-06-14T05:14:45.407270Z",
     "shell.execute_reply": "2022-06-14T05:14:45.406025Z"
    }
   },
   "outputs": [
    {
     "name": "stdout",
     "output_type": "stream",
     "text": [
      "Objective:\n",
      "    7 x_0 x_5  (6 boolean variables)\n",
      "\n",
      "Unconstrained\n"
     ]
    }
   ],
   "source": [
    "problem_instance = BinaryProblem(\n",
    "    objective=objective_function,\n",
    "    constraints=None\n",
    ")\n",
    "\n",
    "print(problem_instance)"
   ]
  },
  {
   "cell_type": "markdown",
   "id": "appropriate-politics",
   "metadata": {},
   "source": [
    "#### Simplification\n",
    "Objective functions are automatically represented in a unique simplified form"
   ]
  },
  {
   "cell_type": "code",
   "execution_count": 7,
   "id": "banner-township",
   "metadata": {
    "execution": {
     "iopub.execute_input": "2022-06-14T05:14:45.411790Z",
     "iopub.status.busy": "2022-06-14T05:14:45.411398Z",
     "iopub.status.idle": "2022-06-14T05:14:45.420815Z",
     "shell.execute_reply": "2022-06-14T05:14:45.419638Z"
    }
   },
   "outputs": [
    {
     "name": "stdout",
     "output_type": "stream",
     "text": [
      "{(0,): 6}\n"
     ]
    }
   ],
   "source": [
    "# (Note that x^2 is the same as x for a boolean variable x.)\n",
    "polynomial = {(0, 0): 6}\n",
    "\n",
    "objective_function = PolynomialObjective(\n",
    "    polynomial, \n",
    "    num_variables=3,\n",
    "    domain='boolean'\n",
    ")\n",
    "\n",
    "print(objective_function.polynomial)"
   ]
  },
  {
   "cell_type": "markdown",
   "id": "mechanical-federation",
   "metadata": {},
   "source": [
    "#### Spin variables\n",
    "\n",
    "Spin variables take on the values 1 and -1 instead of 0 and 1. To define such an objective function, use either `domain='spin'` or `domain=Domain.SPIN`:"
   ]
  },
  {
   "cell_type": "code",
   "execution_count": 8,
   "id": "formal-artwork",
   "metadata": {
    "execution": {
     "iopub.execute_input": "2022-06-14T05:14:45.425562Z",
     "iopub.status.busy": "2022-06-14T05:14:45.424600Z",
     "iopub.status.idle": "2022-06-14T05:14:45.434136Z",
     "shell.execute_reply": "2022-06-14T05:14:45.432905Z"
    }
   },
   "outputs": [
    {
     "name": "stdout",
     "output_type": "stream",
     "text": [
      "-2 z_0 z_1 + z_1 z_2 + 5  (3 spin variables)\n"
     ]
    }
   ],
   "source": [
    "polynomial = {\n",
    "    (0, 1): -2,\n",
    "    (1, 2): 1,\n",
    "    (1, 1): 5\n",
    "}\n",
    "\n",
    "objective_function = PolynomialObjective(\n",
    "    polynomial=polynomial, \n",
    "    num_variables=3,\n",
    "    domain='spin'\n",
    ")\n",
    "\n",
    "print(objective_function)"
   ]
  },
  {
   "cell_type": "markdown",
   "id": "double-milton",
   "metadata": {},
   "source": [
    "#### Computing values of objective functions"
   ]
  },
  {
   "cell_type": "code",
   "execution_count": 9,
   "id": "adult-venice",
   "metadata": {
    "execution": {
     "iopub.execute_input": "2022-06-14T05:14:45.438632Z",
     "iopub.status.busy": "2022-06-14T05:14:45.438258Z",
     "iopub.status.idle": "2022-06-14T05:14:45.451060Z",
     "shell.execute_reply": "2022-06-14T05:14:45.449867Z"
    }
   },
   "outputs": [
    {
     "data": {
      "text/plain": [
       "5"
      ]
     },
     "execution_count": 9,
     "metadata": {},
     "output_type": "execute_result"
    }
   ],
   "source": [
    "# Define the objective\n",
    "polynomial = {\n",
    "    (0,): 1, \n",
    "    (1,): 1, \n",
    "    (2,): -1, \n",
    "    (0, 1): 3,\n",
    "    (1, 2): 1, \n",
    "}\n",
    "objective_function = PolynomialObjective(\n",
    "    polynomial, \n",
    "    num_variables=3,\n",
    "    domain='boolean'\n",
    ")\n",
    "\n",
    "# Select variable values\n",
    "variable_assignment = {\n",
    "    0: 1,\n",
    "    1: 1,\n",
    "    2: 0\n",
    "}\n",
    "\n",
    "# Compute value\n",
    "objective_function.compute_value(variable_assignment)"
   ]
  },
  {
   "cell_type": "markdown",
   "id": "northern-trail",
   "metadata": {},
   "source": [
    "#### Advanced usage: superfluous variables\n",
    "\n",
    "A `PolynomialObjective` object tracks the number of variables you declare it to have even if it is constant in one or more of those variables. For example, the function\n",
    "$$\n",
    "f(x_0, x_1, x_2) = 10 x_2\n",
    "$$\n",
    "can be defined with"
   ]
  },
  {
   "cell_type": "code",
   "execution_count": 10,
   "id": "humanitarian-pharmacy",
   "metadata": {
    "execution": {
     "iopub.execute_input": "2022-06-14T05:14:45.455249Z",
     "iopub.status.busy": "2022-06-14T05:14:45.454824Z",
     "iopub.status.idle": "2022-06-14T05:14:45.463784Z",
     "shell.execute_reply": "2022-06-14T05:14:45.462603Z"
    }
   },
   "outputs": [
    {
     "name": "stdout",
     "output_type": "stream",
     "text": [
      "10 x_2  (3 boolean variables)\n"
     ]
    }
   ],
   "source": [
    "objective_function = PolynomialObjective(\n",
    "    polynomial={(2,): 10}, \n",
    "    num_variables=3,\n",
    ")\n",
    "\n",
    "print(objective_function)"
   ]
  },
  {
   "cell_type": "code",
   "execution_count": 11,
   "id": "prostate-rabbit",
   "metadata": {
    "execution": {
     "iopub.execute_input": "2022-06-14T05:14:45.467941Z",
     "iopub.status.busy": "2022-06-14T05:14:45.467564Z",
     "iopub.status.idle": "2022-06-14T05:14:45.474742Z",
     "shell.execute_reply": "2022-06-14T05:14:45.473603Z"
    }
   },
   "outputs": [
    {
     "data": {
      "text/plain": [
       "3"
      ]
     },
     "execution_count": 11,
     "metadata": {},
     "output_type": "execute_result"
    }
   ],
   "source": [
    "objective_function.num_variables"
   ]
  },
  {
   "cell_type": "code",
   "execution_count": 12,
   "id": "martial-inventory",
   "metadata": {
    "execution": {
     "iopub.execute_input": "2022-06-14T05:14:45.479505Z",
     "iopub.status.busy": "2022-06-14T05:14:45.478720Z",
     "iopub.status.idle": "2022-06-14T05:14:45.488782Z",
     "shell.execute_reply": "2022-06-14T05:14:45.487520Z"
    }
   },
   "outputs": [
    {
     "data": {
      "text/plain": [
       "1"
      ]
     },
     "execution_count": 12,
     "metadata": {},
     "output_type": "execute_result"
    }
   ],
   "source": [
    "# The number of variables that are not superfluous:\n",
    "objective_function.num_active_variables"
   ]
  },
  {
   "cell_type": "markdown",
   "id": "attended-field",
   "metadata": {},
   "source": [
    "To fully reduce an objective function and eliminate these variables, use `reduce_variables`."
   ]
  },
  {
   "cell_type": "code",
   "execution_count": 13,
   "id": "shared-block",
   "metadata": {
    "execution": {
     "iopub.execute_input": "2022-06-14T05:14:45.494038Z",
     "iopub.status.busy": "2022-06-14T05:14:45.493271Z",
     "iopub.status.idle": "2022-06-14T05:14:45.521954Z",
     "shell.execute_reply": "2022-06-14T05:14:45.520370Z"
    }
   },
   "outputs": [
    {
     "data": {
      "text/plain": [
       "{'polynomial': PolynomialObjective(\n",
       "     polynomial={(0,): 10}\n",
       "     num_variables=1\n",
       "     domain=Domain.BOOLEAN\n",
       "     variable_mapping={0: 'x_0'}\n",
       " ),\n",
       " 'mapping': {2: 0}}"
      ]
     },
     "execution_count": 13,
     "metadata": {},
     "output_type": "execute_result"
    }
   ],
   "source": [
    "objective_function.reduce_variables()"
   ]
  },
  {
   "cell_type": "markdown",
   "id": "disciplinary-coffee",
   "metadata": {},
   "source": [
    "The way that variables are transfered from the original polynomial to the reduced one is encoded in `mapping`."
   ]
  },
  {
   "cell_type": "markdown",
   "id": "legal-caution",
   "metadata": {},
   "source": [
    "#### Advanced usage: converting to `qubovert`\n",
    "\n",
    "[qubovert](./qubovert.ipynb) is a powerful tool for constructing and manipulating polynomials of binary variables. Objective functions in Forge can be constructed from `qubovert` objects and they can be converted back to them."
   ]
  },
  {
   "cell_type": "code",
   "execution_count": 14,
   "id": "juvenile-samuel",
   "metadata": {
    "execution": {
     "iopub.execute_input": "2022-06-14T05:14:45.527377Z",
     "iopub.status.busy": "2022-06-14T05:14:45.526515Z",
     "iopub.status.idle": "2022-06-14T05:14:45.537522Z",
     "shell.execute_reply": "2022-06-14T05:14:45.536227Z"
    }
   },
   "outputs": [
    {
     "name": "stdout",
     "output_type": "stream",
     "text": [
      "Created qubovert polynomial:\n",
      "{(0,): 1, (1,): 1, (2,): -1, (0, 1): 3, (1, 2): 1}\n"
     ]
    }
   ],
   "source": [
    "# Start with an objective function\n",
    "polynomial = {\n",
    "    (0,): 1, \n",
    "    (1,): 1, \n",
    "    (2,): -1, \n",
    "    (0, 1): 3,\n",
    "    (1, 2): 1, \n",
    "}\n",
    "objective_function = PolynomialObjective(\n",
    "    polynomial, \n",
    "    num_variables=3,\n",
    "    domain='boolean'\n",
    ")\n",
    "\n",
    "\n",
    "# Get the corresponding qubovert object\n",
    "pubo = objective_function.qubovert()\n",
    "\n",
    "print('Created qubovert polynomial:')\n",
    "print(pubo)"
   ]
  },
  {
   "cell_type": "code",
   "execution_count": 15,
   "id": "north-phoenix",
   "metadata": {
    "execution": {
     "iopub.execute_input": "2022-06-14T05:14:45.543166Z",
     "iopub.status.busy": "2022-06-14T05:14:45.542254Z",
     "iopub.status.idle": "2022-06-14T05:14:45.553255Z",
     "shell.execute_reply": "2022-06-14T05:14:45.551186Z"
    }
   },
   "outputs": [
    {
     "name": "stdout",
     "output_type": "stream",
     "text": [
      "{('x_0',): 1, ('x_1',): 1, ('x_2',): -1, ('x_0', 'x_1'): 3, ('x_1', 'x_2'): 1}\n"
     ]
    }
   ],
   "source": [
    "# String names can also be used\n",
    "pubo = objective_function.qubovert(use_variable_names=True)\n",
    "print(pubo)"
   ]
  },
  {
   "cell_type": "code",
   "execution_count": 16,
   "id": "voluntary-canyon",
   "metadata": {
    "execution": {
     "iopub.execute_input": "2022-06-14T05:14:45.557944Z",
     "iopub.status.busy": "2022-06-14T05:14:45.557440Z",
     "iopub.status.idle": "2022-06-14T05:14:45.564990Z",
     "shell.execute_reply": "2022-06-14T05:14:45.563662Z"
    }
   },
   "outputs": [
    {
     "name": "stdout",
     "output_type": "stream",
     "text": [
      "Converted to a spin polynomial:\n",
      "{'polynomial': {(0,): -1.25, (): 1.5, (1,): -1.5, (2,): 0.25, (0, 1): 0.75, (1, 2): 0.25}, 'mapping': {0: 0, 1: 1, 2: 2}}\n"
     ]
    }
   ],
   "source": [
    "# Convert to an equivalent polynomial with spin variables\n",
    "converted = objective_function.qubovert_spin()\n",
    "\n",
    "print('Converted to a spin polynomial:')\n",
    "print(converted)"
   ]
  },
  {
   "cell_type": "code",
   "execution_count": null,
   "id": "failing-prize",
   "metadata": {},
   "outputs": [],
   "source": []
  }
 ],
 "metadata": {
  "kernelspec": {
   "display_name": "Python 3",
   "language": "python",
   "name": "python3"
  },
  "language_info": {
   "codemirror_mode": {
    "name": "ipython",
    "version": 3
   },
   "file_extension": ".py",
   "mimetype": "text/x-python",
   "name": "python",
   "nbconvert_exporter": "python",
   "pygments_lexer": "ipython3",
   "version": "3.9.2"
  }
 },
 "nbformat": 4,
 "nbformat_minor": 5
}
