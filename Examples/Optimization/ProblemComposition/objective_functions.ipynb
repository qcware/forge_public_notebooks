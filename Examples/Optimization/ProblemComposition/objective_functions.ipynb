{
 "cells": [
  {
   "cell_type": "markdown",
   "id": "thirty-moral",
   "metadata": {},
   "source": [
    "# Objective Functions\n",
    "\n",
    "Specifying a problem instance is the first step toward using Forge's binary optimization quantum algorithms."
   ]
  },
  {
   "cell_type": "markdown",
   "id": "talented-interstate",
   "metadata": {},
   "source": [
    "#### Declaring an objective function\n",
    "\n",
    "Consider the function\n",
    "\n",
    "$$\n",
    "f(x_0, x_1, x_2) = 4 + x_0 + x_1 - x_2 + 3 x_0 x_1 + x_1 x_2\n",
    "$$\n",
    "\n",
    "where $x_0, x_1$, and $x_2$ are boolean variables which can be either 0 or 1. We encode $f$ as a `PolynomialObjective`."
   ]
  },
  {
   "cell_type": "code",
   "execution_count": 1,
   "id": "blocked-dancing",
   "metadata": {
    "execution": {
     "iopub.execute_input": "2022-07-30T05:14:38.676103Z",
     "iopub.status.busy": "2022-07-30T05:14:38.675525Z",
     "iopub.status.idle": "2022-07-30T05:14:38.925207Z",
     "shell.execute_reply": "2022-07-30T05:14:38.924023Z"
    }
   },
   "outputs": [
    {
     "name": "stdout",
     "output_type": "stream",
     "text": [
      "4 + x_0 + x_1 - x_2 + 3 x_0 x_1 + x_1 x_2  (3 boolean variables)\n"
     ]
    }
   ],
   "source": [
    "from qcware.types.optimization import PolynomialObjective, Constraints, BinaryProblem\n",
    "\n",
    "# Keys designate variables in a term and values are coefficients.\n",
    "polynomial = {\n",
    "    (): 4,\n",
    "    (0,): 1, \n",
    "    (1,): 1, \n",
    "    (2,): -1, \n",
    "    (0, 1): 3,\n",
    "    (1, 2): 1, \n",
    "}\n",
    "\n",
    "objective_function = PolynomialObjective(\n",
    "    polynomial, \n",
    "    num_variables=3,\n",
    "    domain='boolean'\n",
    ")\n",
    "\n",
    "print(objective_function)"
   ]
  },
  {
   "cell_type": "markdown",
   "id": "mechanical-sellers",
   "metadata": {},
   "source": [
    "Properties of our objective function can be read off:"
   ]
  },
  {
   "cell_type": "code",
   "execution_count": 2,
   "id": "boring-vault",
   "metadata": {
    "execution": {
     "iopub.execute_input": "2022-07-30T05:14:38.930006Z",
     "iopub.status.busy": "2022-07-30T05:14:38.929150Z",
     "iopub.status.idle": "2022-07-30T05:14:38.944180Z",
     "shell.execute_reply": "2022-07-30T05:14:38.943109Z"
    }
   },
   "outputs": [
    {
     "data": {
      "text/plain": [
       "3"
      ]
     },
     "execution_count": 2,
     "metadata": {},
     "output_type": "execute_result"
    }
   ],
   "source": [
    "objective_function.num_variables"
   ]
  },
  {
   "cell_type": "code",
   "execution_count": 3,
   "id": "prescription-internet",
   "metadata": {
    "execution": {
     "iopub.execute_input": "2022-07-30T05:14:38.948110Z",
     "iopub.status.busy": "2022-07-30T05:14:38.947771Z",
     "iopub.status.idle": "2022-07-30T05:14:38.954563Z",
     "shell.execute_reply": "2022-07-30T05:14:38.953363Z"
    }
   },
   "outputs": [
    {
     "data": {
      "text/plain": [
       "2"
      ]
     },
     "execution_count": 3,
     "metadata": {},
     "output_type": "execute_result"
    }
   ],
   "source": [
    "# Polynomial degree of the objective (2 for a QUBO)\n",
    "objective_function.degree"
   ]
  },
  {
   "cell_type": "markdown",
   "id": "medical-repository",
   "metadata": {},
   "source": [
    "**Note**: `PolynomialObjective` requires that variables be enumerated as `0`, `1`, ..., `num_variables - 1`. See the following cells: "
   ]
  },
  {
   "cell_type": "code",
   "execution_count": 4,
   "id": "criminal-berlin",
   "metadata": {
    "execution": {
     "iopub.execute_input": "2022-07-30T05:14:38.958656Z",
     "iopub.status.busy": "2022-07-30T05:14:38.958317Z",
     "iopub.status.idle": "2022-07-30T05:14:38.963794Z",
     "shell.execute_reply": "2022-07-30T05:14:38.962733Z"
    }
   },
   "outputs": [],
   "source": [
    "# # This raises an error because num_variables=3 but we refer to x_5 in the polynomial:\n",
    "# objective_function = PolynomialObjective(\n",
    "#     polynomial={(0, 5): 7}, \n",
    "#     num_variables=3,\n",
    "#     domain='boolean'\n",
    "# )"
   ]
  },
  {
   "cell_type": "code",
   "execution_count": 5,
   "id": "sporting-petite",
   "metadata": {
    "execution": {
     "iopub.execute_input": "2022-07-30T05:14:38.967787Z",
     "iopub.status.busy": "2022-07-30T05:14:38.967437Z",
     "iopub.status.idle": "2022-07-30T05:14:38.974878Z",
     "shell.execute_reply": "2022-07-30T05:14:38.973787Z"
    }
   },
   "outputs": [],
   "source": [
    "# This does not raise an error although it contains superfluous variables (see below)\n",
    "objective_function = PolynomialObjective(\n",
    "    polynomial={(0, 5): 7}, \n",
    "    num_variables=6,\n",
    "    domain='boolean'\n",
    ")"
   ]
  },
  {
   "cell_type": "markdown",
   "id": "alpha-percentage",
   "metadata": {},
   "source": [
    "#### Problem instances\n",
    "\n",
    "Problem instances consist of:\n",
    "1. An objective function\n",
    "2. Optional [constraints](./constraints.ipynb)\n",
    "\n",
    "These instances are the inputs for quantum optimization algorithms on Forge."
   ]
  },
  {
   "cell_type": "code",
   "execution_count": 6,
   "id": "processed-former",
   "metadata": {
    "execution": {
     "iopub.execute_input": "2022-07-30T05:14:38.978885Z",
     "iopub.status.busy": "2022-07-30T05:14:38.978561Z",
     "iopub.status.idle": "2022-07-30T05:14:38.984299Z",
     "shell.execute_reply": "2022-07-30T05:14:38.983217Z"
    }
   },
   "outputs": [
    {
     "name": "stdout",
     "output_type": "stream",
     "text": [
      "Objective:\n",
      "    7 x_0 x_5  (6 boolean variables)\n",
      "\n",
      "Unconstrained\n"
     ]
    }
   ],
   "source": [
    "problem_instance = BinaryProblem(\n",
    "    objective=objective_function,\n",
    "    constraints=None\n",
    ")\n",
    "\n",
    "print(problem_instance)"
   ]
  },
  {
   "cell_type": "markdown",
   "id": "appropriate-politics",
   "metadata": {},
   "source": [
    "#### Simplification\n",
    "Objective functions are automatically represented in a unique simplified form"
   ]
  },
  {
   "cell_type": "code",
   "execution_count": 7,
   "id": "banner-township",
   "metadata": {
    "execution": {
     "iopub.execute_input": "2022-07-30T05:14:38.988299Z",
     "iopub.status.busy": "2022-07-30T05:14:38.987977Z",
     "iopub.status.idle": "2022-07-30T05:14:38.996004Z",
     "shell.execute_reply": "2022-07-30T05:14:38.994866Z"
    }
   },
   "outputs": [
    {
     "name": "stdout",
     "output_type": "stream",
     "text": [
      "{(0,): 6}\n"
     ]
    }
   ],
   "source": [
    "# (Note that x^2 is the same as x for a boolean variable x.)\n",
    "polynomial = {(0, 0): 6}\n",
    "\n",
    "objective_function = PolynomialObjective(\n",
    "    polynomial, \n",
    "    num_variables=3,\n",
    "    domain='boolean'\n",
    ")\n",
    "\n",
    "print(objective_function.polynomial)"
   ]
  },
  {
   "cell_type": "markdown",
   "id": "mechanical-federation",
   "metadata": {},
   "source": [
    "#### Spin variables\n",
    "\n",
    "Spin variables take on the values 1 and -1 instead of 0 and 1. To define such an objective function, use either `domain='spin'` or `domain=Domain.SPIN`:"
   ]
  },
  {
   "cell_type": "code",
   "execution_count": 8,
   "id": "formal-artwork",
   "metadata": {
    "execution": {
     "iopub.execute_input": "2022-07-30T05:14:39.000474Z",
     "iopub.status.busy": "2022-07-30T05:14:39.000118Z",
     "iopub.status.idle": "2022-07-30T05:14:39.010592Z",
     "shell.execute_reply": "2022-07-30T05:14:39.009170Z"
    }
   },
   "outputs": [
    {
     "name": "stdout",
     "output_type": "stream",
     "text": [
      "-2 z_0 z_1 + z_1 z_2 + 5  (3 spin variables)\n"
     ]
    }
   ],
   "source": [
    "polynomial = {\n",
    "    (0, 1): -2,\n",
    "    (1, 2): 1,\n",
    "    (1, 1): 5\n",
    "}\n",
    "\n",
    "objective_function = PolynomialObjective(\n",
    "    polynomial=polynomial, \n",
    "    num_variables=3,\n",
    "    domain='spin'\n",
    ")\n",
    "\n",
    "print(objective_function)"
   ]
  },
  {
   "cell_type": "markdown",
   "id": "double-milton",
   "metadata": {},
   "source": [
    "#### Computing values of objective functions"
   ]
  },
  {
   "cell_type": "code",
   "execution_count": 9,
   "id": "adult-venice",
   "metadata": {
    "execution": {
     "iopub.execute_input": "2022-07-30T05:14:39.015094Z",
     "iopub.status.busy": "2022-07-30T05:14:39.014709Z",
     "iopub.status.idle": "2022-07-30T05:14:39.027720Z",
     "shell.execute_reply": "2022-07-30T05:14:39.026454Z"
    }
   },
   "outputs": [
    {
     "data": {
      "text/plain": [
       "5"
      ]
     },
     "execution_count": 9,
     "metadata": {},
     "output_type": "execute_result"
    }
   ],
   "source": [
    "# Define the objective\n",
    "polynomial = {\n",
    "    (0,): 1, \n",
    "    (1,): 1, \n",
    "    (2,): -1, \n",
    "    (0, 1): 3,\n",
    "    (1, 2): 1, \n",
    "}\n",
    "objective_function = PolynomialObjective(\n",
    "    polynomial, \n",
    "    num_variables=3,\n",
    "    domain='boolean'\n",
    ")\n",
    "\n",
    "# Select variable values\n",
    "variable_assignment = {\n",
    "    0: 1,\n",
    "    1: 1,\n",
    "    2: 0\n",
    "}\n",
    "\n",
    "# Compute value\n",
    "objective_function.compute_value(variable_assignment)"
   ]
  },
  {
   "cell_type": "markdown",
   "id": "northern-trail",
   "metadata": {},
   "source": [
    "#### Advanced usage: superfluous variables\n",
    "\n",
    "A `PolynomialObjective` object tracks the number of variables you declare it to have even if it is constant in one or more of those variables. For example, the function\n",
    "$$\n",
    "f(x_0, x_1, x_2) = 10 x_2\n",
    "$$\n",
    "can be defined with"
   ]
  },
  {
   "cell_type": "code",
   "execution_count": 10,
   "id": "humanitarian-pharmacy",
   "metadata": {
    "execution": {
     "iopub.execute_input": "2022-07-30T05:14:39.031717Z",
     "iopub.status.busy": "2022-07-30T05:14:39.031370Z",
     "iopub.status.idle": "2022-07-30T05:14:39.039130Z",
     "shell.execute_reply": "2022-07-30T05:14:39.038018Z"
    }
   },
   "outputs": [
    {
     "name": "stdout",
     "output_type": "stream",
     "text": [
      "10 x_2  (3 boolean variables)\n"
     ]
    }
   ],
   "source": [
    "objective_function = PolynomialObjective(\n",
    "    polynomial={(2,): 10}, \n",
    "    num_variables=3,\n",
    ")\n",
    "\n",
    "print(objective_function)"
   ]
  },
  {
   "cell_type": "code",
   "execution_count": 11,
   "id": "prostate-rabbit",
   "metadata": {
    "execution": {
     "iopub.execute_input": "2022-07-30T05:14:39.043781Z",
     "iopub.status.busy": "2022-07-30T05:14:39.043356Z",
     "iopub.status.idle": "2022-07-30T05:14:39.050552Z",
     "shell.execute_reply": "2022-07-30T05:14:39.049352Z"
    }
   },
   "outputs": [
    {
     "data": {
      "text/plain": [
       "3"
      ]
     },
     "execution_count": 11,
     "metadata": {},
     "output_type": "execute_result"
    }
   ],
   "source": [
    "objective_function.num_variables"
   ]
  },
  {
   "cell_type": "code",
   "execution_count": 12,
   "id": "martial-inventory",
   "metadata": {
    "execution": {
     "iopub.execute_input": "2022-07-30T05:14:39.054540Z",
     "iopub.status.busy": "2022-07-30T05:14:39.054192Z",
     "iopub.status.idle": "2022-07-30T05:14:39.061467Z",
     "shell.execute_reply": "2022-07-30T05:14:39.060259Z"
    }
   },
   "outputs": [
    {
     "data": {
      "text/plain": [
       "1"
      ]
     },
     "execution_count": 12,
     "metadata": {},
     "output_type": "execute_result"
    }
   ],
   "source": [
    "# The number of variables that are not superfluous:\n",
    "objective_function.num_active_variables"
   ]
  },
  {
   "cell_type": "markdown",
   "id": "attended-field",
   "metadata": {},
   "source": [
    "To fully reduce an objective function and eliminate these variables, use `reduce_variables`."
   ]
  },
  {
   "cell_type": "code",
   "execution_count": 13,
   "id": "shared-block",
   "metadata": {
    "execution": {
     "iopub.execute_input": "2022-07-30T05:14:39.065443Z",
     "iopub.status.busy": "2022-07-30T05:14:39.065085Z",
     "iopub.status.idle": "2022-07-30T05:14:39.073911Z",
     "shell.execute_reply": "2022-07-30T05:14:39.072451Z"
    }
   },
   "outputs": [
    {
     "data": {
      "text/plain": [
       "{'polynomial': PolynomialObjective(\n",
       "     polynomial={(0,): 10}\n",
       "     num_variables=1\n",
       "     domain=Domain.BOOLEAN\n",
       "     variable_mapping={0: 'x_0'}\n",
       " ),\n",
       " 'mapping': {2: 0}}"
      ]
     },
     "execution_count": 13,
     "metadata": {},
     "output_type": "execute_result"
    }
   ],
   "source": [
    "objective_function.reduce_variables()"
   ]
  },
  {
   "cell_type": "markdown",
   "id": "disciplinary-coffee",
   "metadata": {},
   "source": [
    "The way that variables are transfered from the original polynomial to the reduced one is encoded in `mapping`."
   ]
  },
  {
   "cell_type": "markdown",
   "id": "legal-caution",
   "metadata": {},
   "source": [
    "#### Advanced usage: converting to `qubovert`\n",
    "\n",
    "[qubovert](./qubovert.ipynb) is a powerful tool for constructing and manipulating polynomials of binary variables. Objective functions in Forge can be constructed from `qubovert` objects and they can be converted back to them."
   ]
  },
  {
   "cell_type": "code",
   "execution_count": 14,
   "id": "juvenile-samuel",
   "metadata": {
    "execution": {
     "iopub.execute_input": "2022-07-30T05:14:39.078931Z",
     "iopub.status.busy": "2022-07-30T05:14:39.078311Z",
     "iopub.status.idle": "2022-07-30T05:14:39.090233Z",
     "shell.execute_reply": "2022-07-30T05:14:39.088960Z"
    }
   },
   "outputs": [
    {
     "name": "stdout",
     "output_type": "stream",
     "text": [
      "Created qubovert polynomial:\n",
      "{(0,): 1, (1,): 1, (2,): -1, (0, 1): 3, (1, 2): 1}\n"
     ]
    }
   ],
   "source": [
    "# Start with an objective function\n",
    "polynomial = {\n",
    "    (0,): 1, \n",
    "    (1,): 1, \n",
    "    (2,): -1, \n",
    "    (0, 1): 3,\n",
    "    (1, 2): 1, \n",
    "}\n",
    "objective_function = PolynomialObjective(\n",
    "    polynomial, \n",
    "    num_variables=3,\n",
    "    domain='boolean'\n",
    ")\n",
    "\n",
    "\n",
    "# Get the corresponding qubovert object\n",
    "pubo = objective_function.qubovert()\n",
    "\n",
    "print('Created qubovert polynomial:')\n",
    "print(pubo)"
   ]
  },
  {
   "cell_type": "code",
   "execution_count": 15,
   "id": "north-phoenix",
   "metadata": {
    "execution": {
     "iopub.execute_input": "2022-07-30T05:14:39.095731Z",
     "iopub.status.busy": "2022-07-30T05:14:39.095282Z",
     "iopub.status.idle": "2022-07-30T05:14:39.103171Z",
     "shell.execute_reply": "2022-07-30T05:14:39.101648Z"
    }
   },
   "outputs": [
    {
     "name": "stdout",
     "output_type": "stream",
     "text": [
      "{('x_0',): 1, ('x_1',): 1, ('x_2',): -1, ('x_0', 'x_1'): 3, ('x_1', 'x_2'): 1}\n"
     ]
    }
   ],
   "source": [
    "# String names can also be used\n",
    "pubo = objective_function.qubovert(use_variable_names=True)\n",
    "print(pubo)"
   ]
  },
  {
   "cell_type": "code",
   "execution_count": 16,
   "id": "voluntary-canyon",
   "metadata": {
    "execution": {
     "iopub.execute_input": "2022-07-30T05:14:39.107901Z",
     "iopub.status.busy": "2022-07-30T05:14:39.107453Z",
     "iopub.status.idle": "2022-07-30T05:14:39.117530Z",
     "shell.execute_reply": "2022-07-30T05:14:39.115830Z"
    }
   },
   "outputs": [
    {
     "name": "stdout",
     "output_type": "stream",
     "text": [
      "Converted to a spin polynomial:\n",
      "{'polynomial': {(0,): -1.25, (): 1.5, (1,): -1.5, (2,): 0.25, (0, 1): 0.75, (1, 2): 0.25}, 'mapping': {0: 0, 1: 1, 2: 2}}\n"
     ]
    }
   ],
   "source": [
    "# Convert to an equivalent polynomial with spin variables\n",
    "converted = objective_function.qubovert_spin()\n",
    "\n",
    "print('Converted to a spin polynomial:')\n",
    "print(converted)"
   ]
  },
  {
   "cell_type": "code",
   "execution_count": null,
   "id": "failing-prize",
   "metadata": {},
   "outputs": [],
   "source": []
  }
 ],
 "metadata": {
  "kernelspec": {
   "display_name": "Python 3",
   "language": "python",
   "name": "python3"
  },
  "language_info": {
   "codemirror_mode": {
    "name": "ipython",
    "version": 3
   },
   "file_extension": ".py",
   "mimetype": "text/x-python",
   "name": "python",
   "nbconvert_exporter": "python",
   "pygments_lexer": "ipython3",
   "version": "3.9.2"
  }
 },
 "nbformat": 4,
 "nbformat_minor": 5
}
