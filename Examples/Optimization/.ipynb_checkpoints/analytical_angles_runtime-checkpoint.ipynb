{
 "cells": [
  {
   "cell_type": "markdown",
   "metadata": {},
   "source": [
    "# Compare runtime for QAOA depth _p_=1 angles search  #"
   ]
  },
  {
   "cell_type": "code",
   "execution_count": null,
   "metadata": {},
   "outputs": [],
   "source": [
    "import qcware"
   ]
  },
  {
   "cell_type": "markdown",
   "metadata": {},
   "source": [
    "## Table of Contents\n",
    "1. [Introduction](#introduction)\n",
    "2. [Example QAOA _p_ = 1 ](#example)  \n",
    "    2.1 [Angle Search Using Circuit Simulation](#simulation)  \n",
    "    2.1 [Analytical Angle Search Using `find_optimal_qaoa_angles`](#analytical)"
   ]
  },
  {
   "cell_type": "markdown",
   "metadata": {},
   "source": [
    "## 1. Introduction <a name=\"introduction\"></a>\n",
    "\n",
    "This notebook explores the use of the analytical angle determination functionality for the Quantum Approximate Optimization Algorithm (QAOA) [Farhi, Goldstone, Gutmann, arxiv:1411.4028] with depth $p=1$.\n",
    "\n",
    "QAOA generates approximate solutions for combinatorial optimization problems. For each $p$ step the circuit applies a couple of unitary operators, the cost operator dependent on the angle $\\gamma$, $U_C(\\gamma)$, and the mixing operator dependent on the angle $\\beta$, $U_B(\\beta)$. The total number of $\\beta$, $\\gamma$ angles is thus equal to $2p$. In order for the QAOA circuit to return the best possible solution, we need to classicaly optimize the angles present in the circuit by optimizing the expectation value of the cost function. \n",
    "\n",
    "In this notebook we will examine an example of depth 1 QAOA ($p=1$), optimizing two angles $(\\beta, \\gamma)$. We use an exhaustive search approach that scans a grid of possible $(\\beta, \\gamma)$ pairs and calculates the expectated performance of the algorithm.\n",
    "\n",
    "The normal approach for calculating the expected performance for a given $(\\beta, \\gamma)$, is to simulate the QAOA circuit. Each circuit simulation has runtime that is exponential in the number of qubits. So for circuits on large numbers of qubits this is very expensive.\n",
    "\n",
    "We present an algorithm that calculates this expectation value analytically, which is no longer exponential in the number of qubits.\n"
   ]
  },
  {
   "cell_type": "markdown",
   "metadata": {},
   "source": [
    "### QAOA Simulation Code ###\n",
    "Below is a class used for simulating a QAOA circuit using `quasar`, QC Ware's circuit library.\n"
   ]
  },
  {
   "cell_type": "code",
   "execution_count": null,
   "metadata": {},
   "outputs": [],
   "source": [
    "import quasar\n",
    "import qubovert as qv\n",
    "I, X, Y, Z = quasar.Pauli.IXYZ()\n",
    "\n",
    "class QAOA:\n",
    "    def __init__(self, cost_quso):\n",
    "        self.cost_quso = qv.QUSO(cost_quso)\n",
    "        self.num_qubits = self.cost_quso.num_binary_variables\n",
    "        self.backend = quasar.QuasarSimulatorBackend()\n",
    "        cost_pauli = quasar.Pauli.zero()\n",
    "        I, X, Y, Z = quasar.Pauli.IXYZ()\n",
    "        for qubits, coeff in cost_quso.items():\n",
    "            if len(qubits) == 0:\n",
    "                cost_pauli += coeff\n",
    "            elif len(qubits) == 1:\n",
    "                cost_pauli += Z[qubits[0]]*coeff\n",
    "            elif len(qubits) == 2:\n",
    "                cost_pauli += Z[qubits[0]]*Z[qubits[1]]*coeff\n",
    "            else:\n",
    "                raise ValueError(\"cost_quso keys must be tuples length <= 2\")\n",
    "        self.cost_pauli = cost_pauli\n",
    "    \n",
    "    def cost_circuit(self, gamma):\n",
    "        \"\"\"returns UC(gamma) circuit for quadratic spin function \n",
    "        described by dict cost_quso\"\"\"\n",
    "        circuit = quasar.Circuit()\n",
    "        for qubits, coeff in sorted(self.cost_quso.items()):\n",
    "            # skip identity\n",
    "            if len(qubits) == 0:\n",
    "                continue\n",
    "            elif len(qubits) == 1:\n",
    "                circuit.Rz(qubits[0], theta=coeff*gamma)\n",
    "            elif len(qubits) == 2:\n",
    "                circuit.CX(qubits[0], qubits[1])\n",
    "                circuit.Rz(qubits[1], theta=coeff*gamma)\n",
    "                circuit.CX(qubits[0], qubits[1])\n",
    "            else:\n",
    "                raise ValueError(\"cost_quso keys must be tuples length <= 2\")\n",
    "        return circuit\n",
    "\n",
    "    def mixing_circuit(self, beta):\n",
    "        \"\"\"returns UB(beta) circuit\"\"\"\n",
    "        circuit = quasar.Circuit()\n",
    "        for i in range(self.num_qubits):\n",
    "            circuit.Rx(i, theta=beta)\n",
    "        return circuit\n",
    "\n",
    "    def initial_state_circuit(self, num_qubits):\n",
    "        \"\"\"returns circuit that prepares the initial state\"\"\"\n",
    "        circuit = quasar.Circuit()\n",
    "        for i in range(num_qubits):\n",
    "            circuit.H(i)\n",
    "        return circuit\n",
    "\n",
    "    def get_circuit(self, betas, gammas):\n",
    "        \"\"\"returns a QAOA circuit for parameters `betas`, `gammas`\n",
    "        betas, gammas : float or list of floats\"\"\"\n",
    "        if isinstance(betas, float):\n",
    "            betas = [betas]\n",
    "        if isinstance(gammas, float):\n",
    "            gammas = [gammas]\n",
    "        p = len(betas)\n",
    "        circuit = self.initial_state_circuit(self.num_qubits)\n",
    "        for i in range(p):\n",
    "            beta, gamma = betas[i], gammas[i]\n",
    "            circuit = quasar.Circuit.join_in_time(\n",
    "                [circuit, \n",
    "                 self.cost_circuit(gamma),\n",
    "                 self.mixing_circuit(beta)])\n",
    "        return circuit\n",
    "\n",
    "    def expectation_value(self, betas, gammas):\n",
    "        circuit = self.get_circuit(betas, gammas)\n",
    "        return self.backend.run_pauli_expectation_value(circuit,self.cost_pauli).real\n"
   ]
  },
  {
   "cell_type": "markdown",
   "metadata": {},
   "source": [
    "### Heatmap Visualization Code ###\n",
    "below is code to visualize a grid of values for $\\beta, \\gamma$ as a heatmap"
   ]
  },
  {
   "cell_type": "code",
   "execution_count": null,
   "metadata": {},
   "outputs": [],
   "source": [
    "import matplotlib.pyplot as plt\n",
    "\n",
    "def heatmap(vals, colors):\n",
    "    fig, ax = plt.subplots(1,1)\n",
    "    img = ax.imshow(vals, cmap=colors,extent=[0, np.pi,np.pi,0])\n",
    "    ax.invert_yaxis()\n",
    "    x_label_list = [r\"0\",r\"$\\pi/4$\", r\"$\\pi/2$\", r\"$3\\pi/4$\",r\"$\\pi$\"]\n",
    "    ax.set_xticks([0, np.pi/4, np.pi/2, 3*np.pi/4,np.pi])\n",
    "    ax.set_xticklabels(x_label_list)\n",
    "    ax.set_yticks([0, np.pi/4, np.pi/2, 3*np.pi/4,np.pi])\n",
    "    ax.set_yticklabels(x_label_list)\n",
    "    plt.xlabel(r\"$\\beta$\")\n",
    "    plt.ylabel(r\"$\\gamma$\")\n",
    "    fig.colorbar(img)"
   ]
  },
  {
   "cell_type": "markdown",
   "metadata": {},
   "source": [
    "***\n",
    "# 2.  QAOA$_{p=1}$ Example <a name=\"example\"></a> #\n",
    "First, we specify the quadratic spin cost function that we want to minimize. \n",
    "Assuming $4$ spins, $z_0z_1z_2z_3$, and cost function $z_0 + z_1 -2 z_2 -4 z_3-2 z_0z_1  -6 z_2z_3$"
   ]
  },
  {
   "cell_type": "code",
   "execution_count": null,
   "metadata": {},
   "outputs": [],
   "source": [
    "cost_dict = {(0,): 1, (1,): 1, (0, 1): -2, (2,): -2, (3,): -4, (2, 3): -6}\n"
   ]
  },
  {
   "cell_type": "markdown",
   "metadata": {},
   "source": [
    "Next, specify `num_evals` as the number of different angles between $0$ and $\\pi$ to try for $\\beta$ and $\\gamma$.\n",
    "\n",
    "We will evaluate the expectation value of the cost function for a given number `num_evals` of points in the range $[ 0, \\pi ]$ for $\\beta$, and $\\gamma$. \n",
    "This means that the total number of evaluations will be `num_evals` * `num_evals`. \n"
   ]
  },
  {
   "cell_type": "code",
   "execution_count": null,
   "metadata": {},
   "outputs": [],
   "source": [
    "num_evals = 150"
   ]
  },
  {
   "cell_type": "markdown",
   "metadata": {},
   "source": [
    "## 2.1 Angle search Using Circuit Simulation <a name=\"simulation\"></a> ## \n",
    "Calculate the expectations of all `num_evals`*`num_evals` , $(\\beta, \\gamma)$ pairs, and display results as a heatmap."
   ]
  },
  {
   "cell_type": "code",
   "execution_count": null,
   "metadata": {},
   "outputs": [],
   "source": [
    "import time\n",
    "import numpy as np\n",
    "tic = time.time()\n",
    "qaoa = QAOA(cost_quso=cost_dict)\n",
    "simulated_expectations = np.zeros((num_evals, num_evals))\n",
    "betas = gammas = np.linspace(0, np.pi, num_evals)\n",
    "for beta_i, beta in enumerate(gammas):\n",
    "    for gamma_i, gamma in enumerate(betas):\n",
    "        simulated_expectations[gamma_i][beta_i] = qaoa.expectation_value(beta, gamma)\n",
    "toc = time.time()\n",
    "print(f\"calculated in {toc-tic} seconds\")\n",
    "\n",
    "heatmap(simulated_expectations, 'jet')\n",
    "plt.title(\"Expectation value of cost function\")\n",
    "plt.show()"
   ]
  },
  {
   "cell_type": "markdown",
   "metadata": {},
   "source": [
    "## 2.2 Analytical Angle Search Using `find_optimal_qaoa_angles` <a name=\"analytical\"></a> ##"
   ]
  },
  {
   "cell_type": "markdown",
   "metadata": {},
   "source": [
    "Next, we will call the `analytical_angle_determination` function to evaluate the expectation values of the cost function for the `num_evals`*`num_evals` points. \n",
    "We also can specify the number of minimum values that the function should return using `num_min_vals`. \n",
    "A higher number will not affect speed. \n",
    "`fastmath_flag_in` determines if the fastmath flag should be enabled. \n",
    "Setting it to `True` can affect precision. Lastly, `precision` determines the minimum distance between peaks."
   ]
  },
  {
   "cell_type": "markdown",
   "metadata": {},
   "source": [
    "The function returns a list of peak expectation values of the cost function in increasing order, and a list of the $\\beta$,$\\gamma$ pairs corresponding to those expectation values.\n",
    "\n"
   ]
  },
  {
   "cell_type": "code",
   "execution_count": null,
   "metadata": {},
   "outputs": [],
   "source": [
    "tic = time.time()\n",
    "opt_expectations, opt_bg_pairs, analytical_expectations = \\\n",
    "                qcware.optimization.find_optimal_qaoa_angles(cost_dict,\n",
    "                                               num_evals=num_evals,\n",
    "                                               num_min_vals=3,\n",
    "                                               fastmath_flag_in=True,\n",
    "                                               precision=10)\n",
    "toc = time.time()\n",
    "import pprint\n",
    "print(f\"calculated in {toc-tic} seconds\")\n",
    "print()\n",
    "print(\"Optimal Expectations:\")\n",
    "pprint.pprint(opt_expectations)\n",
    "print(\"BG pairs:\")\n",
    "pprint.pprint(opt_bg_pairs)\n",
    "heatmap(analytical_expectations, 'jet')\n",
    "plt.scatter(opt_bg_pairs[0][0], opt_bg_pairs[0][1], s=100, color='orange')\n",
    "plt.scatter(opt_bg_pairs[1][0],opt_bg_pairs[1][1], s=100, color='green')\n",
    "plt.show()"
   ]
  },
  {
   "cell_type": "markdown",
   "metadata": {},
   "source": [
    "Calculating these expectation values is **much** faster with `find_optimal_qaoa_angles`! "
   ]
  },
  {
   "cell_type": "markdown",
   "metadata": {},
   "source": [
    "Verify the two calculations give the same result."
   ]
  },
  {
   "cell_type": "code",
   "execution_count": null,
   "metadata": {},
   "outputs": [],
   "source": [
    "print(np.allclose(analytical_expectations, simulated_expectations))"
   ]
  },
  {
   "cell_type": "markdown",
   "metadata": {},
   "source": [
    "Alternatively we can make a 3D plot of the expectation value landscape."
   ]
  },
  {
   "cell_type": "code",
   "execution_count": null,
   "metadata": {},
   "outputs": [],
   "source": [
    "# Define the linear space to make a meshgrid with the number of points used.\n",
    "\n",
    "def threeplot(vals, colors, n_x):\n",
    "    x = np.linspace(0, np.pi, num_evals)\n",
    "    y = np.linspace(0, np.pi, num_evals)\n",
    "\n",
    "    X, Y = np.meshgrid(x, y)\n",
    "\n",
    "    # Make a 3D plot\n",
    "    fig = plt.figure()\n",
    "    ax = plt.axes(projection='3d')\n",
    "\n",
    "    ax.plot_surface(X, Y, vals, rstride=1, cstride=1,\n",
    "                     cmap=colors, edgecolor='none')\n",
    "\n",
    "    ax.set_title('- Expectation Value Analytical')\n",
    "\n",
    "    plt.xlabel('Beta')\n",
    "    plt.ylabel('Gamma')\n",
    "    plt.show(fig)\n",
    "    \n",
    "threeplot(-analytical_expectations, 'viridis', num_evals)"
   ]
  },
  {
   "cell_type": "markdown",
   "metadata": {},
   "source": [
    "<br><a href=\"#top\">Back to Table of Contents</a>"
   ]
  }
 ],
 "metadata": {
  "kernelspec": {
   "display_name": "Python 3",
   "language": "python",
   "name": "python3"
  },
  "language_info": {
   "codemirror_mode": {
    "name": "ipython",
    "version": 3
   },
   "file_extension": ".py",
   "mimetype": "text/x-python",
   "name": "python",
   "nbconvert_exporter": "python",
   "pygments_lexer": "ipython3",
   "version": "3.8.2"
  }
 },
 "nbformat": 4,
 "nbformat_minor": 4
}
