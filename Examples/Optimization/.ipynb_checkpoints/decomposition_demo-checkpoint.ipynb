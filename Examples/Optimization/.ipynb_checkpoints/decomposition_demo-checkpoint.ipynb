{
 "cells": [
  {
   "cell_type": "markdown",
   "metadata": {},
   "source": [
    "<a id='top'></a>\n",
    "# Decomposition\n",
    "### Advanced `solve_binary` usage\n",
    "\n",
    "\n",
    "## Table of Contents\n",
    "1. [Introduction](#introduction)\n",
    "2. [Problem Definition](#problem_definition)\n",
    "3. [Using Decomposition](#decomposition)\n",
    "4. [Further Documentation and Support](#doc_and_support)\n",
    "\n",
    "\n",
    "## 1. Introduction <a id=\"introduction\"></a>\n",
    "In this notebook, we will review an advanced option of QCWare's `solve_binary` function. Current quantum hardware has both limited qubit count and limited qubit connectivity. This means that large problems cannot fit onto the quantum computer. QC Ware's platform provides the functionality to iteratively large decompose a problem into smaller subproblems, and then solve each of those subproblems on a quantum computer.\n",
    "\n",
    "First we'll import the QC Ware library and enter our API key (your API key can be found on your dashboard on [Forge](https://forge.qcware.com))."
   ]
  },
  {
   "cell_type": "code",
   "execution_count": null,
   "metadata": {},
   "outputs": [],
   "source": [
    "import qcware"
   ]
  },
  {
   "cell_type": "markdown",
   "metadata": {},
   "source": [
    "## 2. Problem Definition <a id=\"problem_definition\"></a>\n",
    "\n",
    "Let's begin by creating a random large QUBO problem to try and solve. We will restrict the connectivity of the problem to next-to-nearest neighbors, with QUBO couplings taking values of either -1, 0, or 1."
   ]
  },
  {
   "cell_type": "code",
   "execution_count": null,
   "metadata": {},
   "outputs": [],
   "source": [
    "import random\n",
    "import itertools\n",
    "\n",
    "rand = lambda: random.choice((-1, 0, 1))\n",
    "\n",
    "# problem size\n",
    "N = 500\n",
    "\n",
    "# create the random QUBO\n",
    "Q = {}\n",
    "for i in range(N):\n",
    "    v = rand()\n",
    "    if v: Q[(i, i)] = v\n",
    "        \n",
    "    # nearest neighbor\n",
    "    if i+1 < N:\n",
    "        v = rand()\n",
    "        if v: Q[(i, i+1)] = v\n",
    "            \n",
    "    # next-to-nearest neighbor\n",
    "    if i+2 < N:\n",
    "        v = rand()\n",
    "        if v: Q[(i, i+1)] = v\n",
    "\n",
    "print(\"Q = \")\n",
    "for k, v in tuple(Q.items())[:10]:\n",
    "    print(k, v)\n",
    "print(\"...\")\n",
    "num_variables = max(itertools.chain.from_iterable(Q.keys()))+1\n",
    "print(\"This problem has {0} variables!\".format(max(itertools.chain.from_iterable(Q.keys()))+1))"
   ]
  },
  {
   "cell_type": "markdown",
   "metadata": {},
   "source": [
    "We will attempt to solve this problem with D'Wave's quantum annealer."
   ]
  },
  {
   "cell_type": "code",
   "execution_count": null,
   "metadata": {},
   "outputs": [],
   "source": [
    "# generate the BinaryProblem class\n",
    "qubo = qcware.types.optimization.PolynomialObjective(\n",
    "    polynomial=Q,\n",
    "    num_variables=N,\n",
    "    domain='boolean'\n",
    ")\n",
    "problem = qcware.types.optimization.BinaryProblem(Q_dict=qubo)\n",
    "# we'll use the \"await\" keyword and the async version to wait as long as it takes to get a result\n",
    "res = await qcware.optimization.solve_binary_2.call_async(Q=problem, backend='dwave/2000q')\n",
    "print(res)"
   ]
  },
  {
   "cell_type": "markdown",
   "metadata": {},
   "source": [
    "We received an error because the problem is too big to be embedded onto the quantum computer! Thus, we will have to solve this problem with decomposition."
   ]
  },
  {
   "cell_type": "markdown",
   "metadata": {},
   "source": [
    "## 3. Using Decomposition <a id=\"decomposition\"></a>\n",
    "\n",
    "Using decomposition with QC Ware's Platform requires specifying a few parameters. The following is taken directly from the `qcware.optimization.solve_binary` docstring.\n",
    "\n",
    "        number_of_blocks (:obj:`int`, optional): number of blocks to decompose problem into using\n",
    "            random decomposition. Default value :obj: `1` meaning no decomposition.\n",
    "            \n",
    "        iterations (:obj:`int`, optional): number of iterations to cycle through when using\n",
    "            random decomposition. Only valid if :obj: `number_of_blocks` is greater than 1.\n",
    "            Each iterations corresponds to solving all blocks of the decomposition once.\n",
    "            Default value :obj:`50`.\n",
    "            \n",
    "        initial_solution (:obj:`dict`, optional): initial solution seed for constructing the\n",
    "            blocks using random decomposition. If none is provided, a random solution is\n",
    "            initialized. Default value :obj: `None`.\n",
    "            \n",
    "        always_update_with_best (:obj:`bool`, optional):  solutions found using decomposition\n",
    "            do not monotonically get better with each iterations. The best solution is always returned,\n",
    "            but this flag determines whether or not to construct new decomposition using best solution.\n",
    "            Default value :obj: `True`.\n",
    "            \n",
    "        update_q_each_block_solution (:obj:`bool`, optional): each blocks decomposed Q matrix\n",
    "            can be constructed at the onset of block composition, or updated every time a block is\n",
    "            solved. Default value :obj: `True`.\n",
    "            \n",
    "We will leave the last three parameters as their default values and focus on the first two. `number_of_blocks` is an integer that specifies how many subproblems to break our problem into. Our problem contains `N` binary variables, thus each subproblem will have $\\sim$ `N / number_of_blocks` variables. At each iteration, each subproblem is solved once. Therefore, the total number of optimization procedures run is `iterations * number_of_blocks`. Since the solvers each have different sizes, we will have to specify `number_of_blocks` differently for each solver."
   ]
  },
  {
   "cell_type": "code",
   "execution_count": null,
   "metadata": {},
   "outputs": [],
   "source": [
    "iterations = 10\n",
    "\n",
    "async def solve(number_of_blocks, backend):\n",
    "    return await qcware.optimization.solve_binary_2.call_async(\n",
    "        Q=problem, backend=backend,\n",
    "        iterations=iterations, number_of_blocks=number_of_blocks\n",
    "    )"
   ]
  },
  {
   "cell_type": "markdown",
   "metadata": {},
   "source": [
    "We can now solve our large problem on various solvers! **Note that each of the following cells will take a long time to run!**\n",
    "\n",
    "We will begin with a *simulated annealing*."
   ]
  },
  {
   "cell_type": "code",
   "execution_count": null,
   "metadata": {},
   "outputs": [],
   "source": [
    "# res = solve(5, \"dwave/2000q\")\n",
    "# print(res)"
   ]
  },
  {
   "cell_type": "markdown",
   "metadata": {},
   "source": [
    "Next, we will use the *quantum annealer*."
   ]
  },
  {
   "cell_type": "code",
   "execution_count": null,
   "metadata": {},
   "outputs": [],
   "source": [
    "res = await solve(5, \"dwave/2000q\")\n",
    "print(res)"
   ]
  },
  {
   "cell_type": "markdown",
   "metadata": {},
   "source": [
    "Next, we will use a *brute-force* solver. Each subproblem can be at most 20 or so variables large!"
   ]
  },
  {
   "cell_type": "code",
   "execution_count": null,
   "metadata": {},
   "outputs": [],
   "source": [
    "num_blocks = num_variables // 10\n",
    "res = await solve(num_blocks, \"classical\")\n",
    "print(res)"
   ]
  },
  {
   "cell_type": "markdown",
   "metadata": {},
   "source": [
    "Finally, we will use *Google's QAOA simulator*."
   ]
  },
  {
   "cell_type": "code",
   "execution_count": null,
   "metadata": {},
   "outputs": [],
   "source": [
    "# res = solve(50, \"google_sw_qaoa\")\n",
    "# print(res)"
   ]
  },
  {
   "cell_type": "markdown",
   "metadata": {},
   "source": [
    "Any of the solvers available to you through your subscription can be used with decomposition!"
   ]
  },
  {
   "cell_type": "markdown",
   "metadata": {},
   "source": [
    "## 4. Further Documentation and Support  <a id=\"doc_and_support\"></a>\n",
    "\n",
    "For more examples of how to use the platform to solve real-world problems, please take a moment to look through our demos. We recommend exploring these demos as a next step towards harnessing the power of the quantum cloud for your applications.\n",
    "\n",
    "Complete documentation for all functions and parameters is available at https://platform.qcware.com/doc/qcware.html. For further support, please do not hesitate to contact the QC Ware team at support@qcware.com.\n",
    "\n",
    "<a href=\"#top\">Back to Table of Contents</a>"
   ]
  }
 ],
 "metadata": {
  "kernelspec": {
   "display_name": "Python 3",
   "language": "python",
   "name": "python3"
  },
  "language_info": {
   "codemirror_mode": {
    "name": "ipython",
    "version": 3
   },
   "file_extension": ".py",
   "mimetype": "text/x-python",
   "name": "python",
   "nbconvert_exporter": "python",
   "pygments_lexer": "ipython3",
   "version": "3.9.0+"
  }
 },
 "nbformat": 4,
 "nbformat_minor": 4
}
