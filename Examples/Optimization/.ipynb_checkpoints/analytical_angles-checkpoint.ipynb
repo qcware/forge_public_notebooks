{
 "cells": [
  {
   "cell_type": "markdown",
   "metadata": {},
   "source": [
    "# Analytical search for optimal QAOA angles for depth _p_=1 #"
   ]
  },
  {
   "cell_type": "code",
   "execution_count": null,
   "metadata": {},
   "outputs": [],
   "source": [
    "import qcware"
   ]
  },
  {
   "cell_type": "code",
   "execution_count": null,
   "metadata": {},
   "outputs": [],
   "source": [
    "import matplotlib\n",
    "matplotlib.__version__"
   ]
  },
  {
   "cell_type": "markdown",
   "metadata": {},
   "source": [
    "## Table of Contents\n",
    "1. [Introduction](#introduction)\n",
    "2. [Testing the analytical determination of angles functionality](#testing)\n",
    "3. [Analytical determination of angles functionality in Google results](#google)"
   ]
  },
  {
   "cell_type": "markdown",
   "metadata": {},
   "source": [
    "## 1. Introduction <a name=\"introduction\"></a>\n",
    "\n",
    "This notebook explores the use of the analytical angle determination functionality for the Quantum Approximate Optimization Algorithm (QAOA) [Farhi, Goldstone, Gutmann, arxiv:1411.4028] with depth $p=1$.\n",
    "\n",
    "QAOA generates approximate solutions for combinatorial optimization problems. The QAOA circuit depends on an integer value $p$, and its depth grows linearly with it. For each $p$ step the circuit applies a couple of unitary operators, the cost operator dependent on the angle $\\gamma$, $U_C(\\gamma)$, and the mixing operator dependent on the angle $\\beta$, $U_B(\\beta)$. The total number of $\\beta$, $\\gamma$ angles is thus equal to $2p$. In order for the QAOA circuit to return the best possible solution, we need to classicaly optimize the angles present in the circuit by optimizing the expectation value of the cost function. \n",
    "\n",
    "Many methods have been suggested to optimize these angles. Here we use the analytical formula determination method that will return all the guaranteed optimal angle pairs, and a plot of the expectation value landscape as a function of $\\beta$, $\\gamma$ for $p=1$.\n",
    "\n",
    "\n",
    "***"
   ]
  },
  {
   "cell_type": "markdown",
   "metadata": {},
   "source": [
    "## 2. Testing the analytical determination of angles functionality <a name=\"testing\"></a>\n",
    "\n",
    "In this section we show a simple example of how the analytical angle determination function works.\n",
    "\n",
    "First, we need to specify the quadratic spin cost function that we want to minimize. \n",
    "Assuming $4$ spins, $z_0z_1z_2z_3$, and cost function $z_0 + z_1 -2 z_2 -4 z_3-2 z_0z_1  -6 z_2z_3$ we thus have"
   ]
  },
  {
   "cell_type": "code",
   "execution_count": null,
   "metadata": {},
   "outputs": [],
   "source": [
    "Q = {(0,): 1, (1,): 1, (0, 1): -2, (2,): -2, (3,): -4, (2, 3): -6}"
   ]
  },
  {
   "cell_type": "markdown",
   "metadata": {},
   "source": [
    "Next, we will call the \"analytical_angle_determination\" function. This function will evaluate the expectation value of the cost function for a given number `n_linear` of points in the range $[ 0, \\pi ]$ for $\\beta$, and $\\gamma$. \n",
    "This means that the total number of evaluations will be `n_linear` * `n_linear`. \n",
    "We also need to specify the number of minimum values that the function should return using `num_min_vals`. \n",
    "A higher number will not affect speed. \n",
    "`fastmath_flag_in` determines if the fastmath flag should be enabled. \n",
    "Setting it to `True` can affect precision. Lastly, `precision` determines the minimum distance between peaks."
   ]
  },
  {
   "cell_type": "code",
   "execution_count": null,
   "metadata": {},
   "outputs": [],
   "source": [
    "expectations, bg_pairs, Z = \\\n",
    "                qcware.optimization.find_optimal_qaoa_angles(Q,\n",
    "                                               num_evals=150,\n",
    "                                               num_min_vals=10,\n",
    "                                               fastmath_flag_in=True,\n",
    "                                               precision=10)\n",
    "\n",
    "import pprint\n",
    "print(\"Expectations:\")\n",
    "pprint.pprint(expectations)\n",
    "print(\"BG pairs:\")\n",
    "pprint.pprint(bg_pairs)"
   ]
  },
  {
   "cell_type": "markdown",
   "metadata": {},
   "source": [
    "The function returns a list of peak expectation values of the cost function in increasing order, and a list of the $\\beta$,$\\gamma$ pairs corresponding to those expectation values. For this particular example we can see that we have $2$ pairs of optimal angles corresponding to the expectation value $-11.02$.\n",
    "\n",
    "If we increase the number of minimum values that we want to be returned,"
   ]
  },
  {
   "cell_type": "code",
   "execution_count": null,
   "metadata": {},
   "outputs": [],
   "source": [
    "expectations, bg_pairs, Z = \\\n",
    "                qcware.optimization.find_optimal_qaoa_angles(Q,\n",
    "                                               num_evals=150,\n",
    "                                               num_min_vals=100,\n",
    "                                               fastmath_flag_in=True,\n",
    "                                               precision=10)\n",
    "\n",
    "\n",
    "print('Expectations:')\n",
    "pprint.pprint(expectations)\n",
    "print('BG pairs:')\n",
    "pprint.pprint(bg_pairs)\n",
    "print('Number of expectations returned:',len(expectations))"
   ]
  },
  {
   "cell_type": "markdown",
   "metadata": {},
   "source": [
    "The function is unable to find the requested amount of minimum peaks and only all the found ones are returned. In this case 86.\n",
    "\n",
    "We can also plot the expectation value landscape as a 2D heatmap, which can be useful for visualization purposes."
   ]
  },
  {
   "cell_type": "code",
   "execution_count": null,
   "metadata": {},
   "outputs": [],
   "source": [
    "import matplotlib.pyplot as plt\n",
    "import numpy as np\n",
    "\n",
    "def heatmap(vals, colors):\n",
    "    fig, ax = plt.subplots(1,1)\n",
    "\n",
    "    img = ax.imshow(vals, cmap=colors,extent=[0, np.pi,np.pi,0])\n",
    "    \n",
    "    ax.invert_yaxis()\n",
    "\n",
    "    x_label_list = [r\"0\",r\"$\\pi/4$\", r\"$\\pi/2$\", r\"$3\\pi/4$\",r\"$\\pi$\"]\n",
    "\n",
    "    ax.set_xticks([0, np.pi/4, np.pi/2, 3*np.pi/4,np.pi])\n",
    "\n",
    "    ax.set_xticklabels(x_label_list)\n",
    "\n",
    "    ax.set_yticks([0, np.pi/4, np.pi/2, 3*np.pi/4,np.pi])\n",
    "\n",
    "    ax.set_yticklabels(x_label_list)\n",
    "\n",
    "    plt.xlabel(r\"$\\beta$\")\n",
    "\n",
    "    plt.ylabel(r\"$\\gamma$\")\n",
    "\n",
    "    fig.colorbar(img)\n",
    "\n",
    "heatmap(Z, 'jet')\n",
    "plt.scatter(bg_pairs[0][0], bg_pairs[0][1], s=100, color='orange')\n",
    "plt.scatter(bg_pairs[1][0],bg_pairs[1][1], s=100, color='green')\n",
    "plt.show()"
   ]
  },
  {
   "cell_type": "markdown",
   "metadata": {},
   "source": [
    "See how the two minima $-11.023612333401879$ occur at $(\\beta,\\gamma) = (0.6957889769695516, 1.8132682430115585) \\approx (0.221\\pi,0.577\\pi)$, and at $(\\beta,\\gamma) = (2.445803676620242, 1.3283244105782348) \\approx (0.778\\pi,0.423\\pi)$. The minima are marked by orange, and green dots respectively in the plot.\n",
    "\n",
    "Alternatively we can make a 3D plot of the expectation value landscape."
   ]
  },
  {
   "cell_type": "code",
   "execution_count": null,
   "metadata": {},
   "outputs": [],
   "source": [
    "# Define the linear space to make a meshgrid with the number of points used.\n",
    "\n",
    "n_linear=150\n",
    "\n",
    "def threeplot(vals, colors, n_x):\n",
    "    x = np.linspace(0, np.pi, n_linear)\n",
    "    y = np.linspace(0, np.pi, n_linear)\n",
    "\n",
    "    X, Y = np.meshgrid(x, y)\n",
    "\n",
    "    # Make a 3D plot\n",
    "    fig = plt.figure()\n",
    "    ax = plt.axes(projection='3d')\n",
    "\n",
    "    ax.plot_surface(X, Y, vals, rstride=1, cstride=1,\n",
    "                     cmap=colors, edgecolor='none')\n",
    "\n",
    "    ax.set_title('- Expectation Value Analytical')\n",
    "\n",
    "    plt.xlabel('Beta')\n",
    "    plt.ylabel('Gamma')\n",
    "    plt.show(fig)\n",
    "    \n",
    "threeplot(-Z, 'viridis', n_linear)"
   ]
  },
  {
   "cell_type": "markdown",
   "metadata": {},
   "source": [
    "## 3. Analytical determination of angles functionality in Google results <a name=\"google\"></a>\n",
    "\n",
    "This section will show how we can replicate the google result of arxiv:2004.04197 for QAOA with $p=1$ using our functionality and then go far beyond that.\n",
    "\n",
    "In the paper they study three differen types of problems instances: hardware grid, three-regular, and Sherrington-Kirkpatrick. Using Cirq we generate a single problem instance for each type, we define them below.\n"
   ]
  },
  {
   "cell_type": "code",
   "execution_count": null,
   "metadata": {},
   "outputs": [],
   "source": [
    "dict_hg={(0, 2): 1, (1, 2): 1, (2, 3): 1, (2, 6): 1, (1, 5): -1, (3, 7): -1, (5, 6): 1, (6, 7): 1, (6, 10): 1, (4, 5): 1, (5, 9): -1, (9, 10): -1, (7, 8): 1, (7, 11): 1, (10, 11): 1, (10, 14): -1, (8, 12): 1, (11, 12): -1, (11, 15): -1, (14, 15): -1, (12, 13): -1, (12, 16): 1, (15, 16): -1, (15, 19): 1, (13, 17): 1, (16, 17): 1, (16, 20): 1, (19, 20): 1, (17, 18): -1, (17, 21): 1, (20, 21): 1, (20, 22): 1}\n",
    "\n",
    "dict_3reg={(11, 16): 1, (1, 11): 1, (11, 19): 1, (8, 16): 1, (14, 16): 1, (3, 15): 1, (3, 21): 1, (3, 4): 1, (6, 15): 1, (15, 17): 1, (20, 21): 1, (17, 21): 1, (2, 12): 1, (1, 2): 1, (2, 13): 1, (8, 12): 1, (9, 12): 1, (9, 18): 1, (9, 20): 1, (0, 18): 1, (13, 18): 1, (1, 10): 1, (19, 20): 1, (0, 19): 1, (8, 14): 1, (4, 14): 1, (6, 7): 1, (0, 6): 1, (5, 7): 1, (7, 17): 1, (10, 13): 1, (5, 10): 1, (4, 5): 1}\n",
    "\n",
    "dict_sk={(0, 1): 1, (0, 2): 1, (0, 3): 1, (0, 4): 1, (0, 5): -1, (0, 6): -1, (0, 7): -1, (0, 8): -1, (0, 9): -1, (0, 10): -1, (1, 2): -1, (1, 3): -1, (1, 4): -1, (1, 5): 1, (1, 6): -1, (1, 7): -1, (1, 8): 1, (1, 9): 1, (1, 10): -1, (2, 3): -1, (2, 4): 1, (2, 5): 1, (2, 6): -1, (2, 7): -1, (2, 8): 1, (2, 9): 1, (2, 10): 1, (3, 4): 1, (3, 5): -1, (3, 6): -1, (3, 7): 1, (3, 8): -1, (3, 9): 1, (3, 10): -1, (4, 5): -1, (4, 6): 1, (4, 7): 1, (4, 8): 1, (4, 9): -1, (4, 10): 1, (5, 6): -1, (5, 7): -1, (5, 8): -1, (5, 9): -1, (5, 10): 1, (6, 7): 1, (6, 8): 1, (6, 9): 1, (6, 10): -1, (7, 8): -1, (7, 9): 1, (7, 10): -1, (8, 9): -1, (8, 10): -1, (9, 10): 1}"
   ]
  },
  {
   "cell_type": "markdown",
   "metadata": {},
   "source": [
    "We can now plot the expectation value landscapes and see that they are equal to those shown in Fig. 3 of the paper."
   ]
  },
  {
   "cell_type": "code",
   "execution_count": null,
   "metadata": {},
   "outputs": [],
   "source": [
    "expectations, bg_pairs, Z = \\\n",
    "                qcware.optimization.find_optimal_qaoa_angles(dict_hg,\n",
    "                                               num_evals=150,\n",
    "                                               num_min_vals=10,\n",
    "                                               fastmath_flag_in=True,\n",
    "                                               precision=30)\n",
    "\n",
    "heatmap(-Z, 'viridis')"
   ]
  },
  {
   "cell_type": "code",
   "execution_count": null,
   "metadata": {},
   "outputs": [],
   "source": [
    "expectations, bg_pairs, Z = \\\n",
    "                qcware.optimization.find_optimal_qaoa_angles(dict_3reg,\n",
    "                                               num_evals=150,\n",
    "                                               num_min_vals=10,\n",
    "                                               fastmath_flag_in=True,\n",
    "                                               precision=30)\n",
    "\n",
    "heatmap(-Z, 'viridis')"
   ]
  },
  {
   "cell_type": "code",
   "execution_count": null,
   "metadata": {},
   "outputs": [],
   "source": [
    "expectations, bg_pairs, Z = \\\n",
    "                qcware.optimization.find_optimal_qaoa_angles(dict_sk,\n",
    "                                               num_evals=150,\n",
    "                                               num_min_vals=10,\n",
    "                                               fastmath_flag_in=True,\n",
    "                                               precision=30)\n",
    "\n",
    "heatmap(-Z, 'viridis')"
   ]
  },
  {
   "cell_type": "markdown",
   "metadata": {},
   "source": [
    "Our function is, however, not limited to this types of problems. Next, we will generate the expectation value landscape of a 3-regular graph with 100 qubits and external fields.\n",
    "\n",
    "The first step is to write a function that generates the cost function"
   ]
  },
  {
   "cell_type": "code",
   "execution_count": null,
   "metadata": {},
   "outputs": [],
   "source": [
    "import networkx as nx\n",
    "import random\n",
    "\n",
    "def generate_rand_reg(d, n):\n",
    "    '''Generate a random d regular graph with n nodes with a general hamiltonian'''\n",
    "    G = nx.random_regular_graph(d, n, seed=999)\n",
    "    random.seed(999)\n",
    "    n_int=1\n",
    "    cost_dictionary = {}\n",
    "    for elm in list(G.nodes()):\n",
    "        cost_dictionary[elm, ] =random.randrange(-n_int, n_int+1,2*n_int)\n",
    "    edges = [sorted(elm) for elm in list(G.edges())]\n",
    "    for elm in edges:\n",
    "        cost_dictionary[elm[0], elm[1]] = random.randrange(-n_int, n_int+1,2*n_int)\n",
    "    return cost_dictionary, G\n",
    "\n",
    "Q, G = generate_rand_reg(3, 100)\n",
    "\n",
    "\n",
    "print('Q:')\n",
    "pprint.pprint(Q)"
   ]
  },
  {
   "cell_type": "markdown",
   "metadata": {},
   "source": [
    "Then we can generate the landscape and find the optimal angles."
   ]
  },
  {
   "cell_type": "code",
   "execution_count": null,
   "metadata": {},
   "outputs": [],
   "source": [
    "expectations, bg_pairs, Z = \\\n",
    "                qcware.optimization.find_optimal_qaoa_angles(Q,\n",
    "                                               num_evals=150,\n",
    "                                               num_min_vals=10,\n",
    "                                               fastmath_flag_in=True,\n",
    "                                               precision=30)\n",
    "\n",
    "heatmap(Z, 'viridis')\n",
    "print('Expectations:')\n",
    "pprint.pprint(expectations)\n",
    "print('BG pairs:')\n",
    "pprint.pprint(bg_pairs)"
   ]
  },
  {
   "cell_type": "markdown",
   "metadata": {},
   "source": [
    "<br><a href=\"#top\">Back to Table of Contents</a>"
   ]
  }
 ],
 "metadata": {
  "kernelspec": {
   "display_name": "Python 3",
   "language": "python",
   "name": "python3"
  },
  "language_info": {
   "codemirror_mode": {
    "name": "ipython",
    "version": 3
   },
   "file_extension": ".py",
   "mimetype": "text/x-python",
   "name": "python",
   "nbconvert_exporter": "python",
   "pygments_lexer": "ipython3",
   "version": "3.8.2"
  }
 },
 "nbformat": 4,
 "nbformat_minor": 4
}
