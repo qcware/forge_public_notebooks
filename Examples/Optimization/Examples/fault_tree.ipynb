{
 "cells": [
  {
   "cell_type": "markdown",
   "metadata": {},
   "source": [
    "<a id='top'></a>\n",
    "# A Quantum Approach for Fault Tree Analysis #\n",
    "\n",
    "\n",
    "## Table of Contents\n",
    "1. [Introduction](#introduction)\n",
    "2. [Fault Tree Analysis Problem](#prob_description)\n",
    "3. [Classical Solution using OR-Tools](#classical_solution)\n",
    "4. [Conversion of Fault Tree to the Quantum Regime](#quantum_solution)\n",
    "5. [Setting up the Problem using the QC Ware API](#problem)\n",
    "    <br>5.a. [Defining the Q Matrix](#Q_matrix)\n",
    "    <br>5.b. [Solving the Problem](#solve)\n",
    "\n",
    "\n",
    "## 1. Introduction <a name=\"introduction\"></a>\n",
    "\n",
    "This demo explores the use of quantum computing (QC) for the analysis of fault trees for engineering design and testing. \n",
    "\n",
    "In several industrial domains including energy, oil & gas, pharmaceuticals, electronics, and aerospace, significant computing resources are applied to system design, testing, and verification, especially related to safety compliance and regulations. Of particular interest is fault tree analysis (FTA)–determining the most probable sets of failure events in a complex system that lead to a top-level failure.\n",
    "\n",
    "Fault tree analysis (FTA) is a top-down, deductive failure analysis in which an undesired state of a system is analyzed using Boolean logic to combine a series of lower-level events. We aim to understand how the system can fail, to identify the best ways to reduce the failure probability, or to determine the probability of a particular system failure.\n",
    "\n",
    "For instance, NASA uses a form of FTA in order to determine the likelihood of catastrophic failure and to assess quantitative risks. They might, for instance, take the hypothetical case of a launch failure and work backwards to determine the most likely cause given their current protocols, hardware, etc. By understanding the most likely pathway \n",
    "that would lead to launch failure, NASA not only gets a better sense of how safe their launch is, but also gets the opportunity to improve their protocols based on the fault tree they develop.\n",
    "\n",
    "***\n",
    "## 2. Fault Tree Analysis Problem <a name=\"prob_description\"></a>\n",
    "\n",
    "The fault-tree that we aim to study in this notebook looks like this:\n",
    "![](https://files.slack.com/files-pri/T24940PQV-FFR7K200K/fault_tree.png?pub_secret=f370b437dc)\n",
    "\n",
    "\n",
    "Here we have a top event ($p_0$) at the top, and a number of input events ($e_0, e_1,e_2, e_3$) at the bottom that correspond to a failure or error in a system component or element. The input events can take the value 0 or 1: either there is a failure on that particular component (1) or it is working properly (0). Failure of the top event would correspond to system failure. The input events are connected to each other as inputs of logic gates ($G_1,G_2,G_3,G_4$). Boolean logic in the form of a series of logic gates is used to determine what value the top event takes. These logic gates form the fault-tree that we will use in this demo. The output of each gate ($z_0, z_1, z_2$) will act as input of other gates.\n",
    "\n",
    "The aim of this analysis is to find the smallest or most probable set of input events that by failing would lead to a top event failure. In general, there often are several sets of this size and thus we may find ourselves being intersted in more than one set of input events. What we are looking for is to determine how probable it is for the system to fail, or what conditions needs to be met in order for the most probable system failure to occur. This is done for safety reasons, to guarantee that the probability of the system failing is lower than the imposed treshold.\n",
    "\n",
    "Below we show the minimum cut set for the fault-tree we are studying, it corresponds to the configuration $e_0 = z_0 = z_1 = z_2 =1$ and $e_1=e_2=e_3=0$.\n",
    "\n",
    "![](https://files.slack.com/files-pri/T24940PQV-FFSP2V18E/fault_tree_cut_set.png?pub_secret=352f426394)\n",
    "\n",
    "Only by knowing the values of the input events ($e_i$) can the values of the other variables be derived following the logic of the fault tree. It is easy to see that this configuration leads to a top event failure $p_0=1$.\n",
    "\n"
   ]
  },
  {
   "cell_type": "markdown",
   "metadata": {},
   "source": [
    "***\n",
    "## 3. Classical solution using ```OR-Tools```<a name=\"classical_solution\"></a>\n",
    "```OR-Tools``` is an open source software suite for optimization, available from Google. It is possible to configure ```OR-Tools``` to use commercial solvers like ```CPLEX``` or ```Gurobi```, or open-source solvers like ```SCIP``` or ```GLPK```, but this involves building ```OR-Tools``` from source, and we will not discuss this here. Instead we will focus on using Google's ```GLOP``` solver which is available upon a standard installation. More information on ```OR-Tools``` can be found at the <a href=\"https://developers.google.com/optimization/introduction/overview\" style=\"text-decoration: none;\">OR-Tools homepage</a>. The user guide can be found <a href=\"https://jupyter-notebook.readthedocs.io/en/stable/notebook.html\" style=\"text-decoration: none;\">here</a>, which contains extensive documentation and lots of examples.\n",
    "\n",
    "Our fault tree diagnosis problem can be expressed as a binary optimization problem. We will assign a binary variable $e_i \\in \\{0,1\\}$ for every input event. Logic gate outputs will also be binary variables $z_j \\in \\{0,1\\}$. Then our fault tree diagnosis problem can be expressed by\n",
    "$$\n",
    "\\begin{equation}\n",
    "\\begin{split}\n",
    "\\text{minimize} \\;\\; & \\sum_{i} e_i  \\\\\n",
    "\\text{subject for each OR gate to} \\;\\; & y_1 \\ge x_1+ x_2 \\;\\; y_1 \\le x_1 \\;\\; y_1 \\le x_2 \\\\\n",
    "\\text{subject for each AND gate to} \\;\\; & y_1 \\le x_1+ x_2-1 \\;\\; y_1 \\ge x_1 \\;\\; y_1 \\ge x_2\n",
    "\\end{split}\n",
    "\\end{equation}\n",
    "$$\n",
    "\n",
    "Here $y_1$ corresponds to the output of the gate and $x_1$, $x_2$ to the inputs."
   ]
  },
  {
   "cell_type": "markdown",
   "metadata": {},
   "source": [
    "We first import the solver library from ```ortools```."
   ]
  },
  {
   "cell_type": "code",
   "execution_count": 1,
   "metadata": {
    "execution": {
     "iopub.execute_input": "2022-04-12T05:11:13.891384Z",
     "iopub.status.busy": "2022-04-12T05:11:13.890744Z",
     "iopub.status.idle": "2022-04-12T05:11:19.698885Z",
     "shell.execute_reply": "2022-04-12T05:11:19.698200Z"
    }
   },
   "outputs": [
    {
     "name": "stdout",
     "output_type": "stream",
     "text": [
      "Collecting ortools\r\n"
     ]
    },
    {
     "name": "stdout",
     "output_type": "stream",
     "text": [
      "  Downloading ortools-9.3.10497-cp39-cp39-manylinux_2_17_x86_64.manylinux2014_x86_64.whl (15.5 MB)\r\n",
      "\u001b[?25l     \u001b[90m━━━━━━━━━━━━━━━━━━━━━━━━━━━━━━━━━━━━━━━━\u001b[0m \u001b[32m0.0/15.5 MB\u001b[0m \u001b[31m?\u001b[0m eta \u001b[36m-:--:--\u001b[0m"
     ]
    },
    {
     "name": "stdout",
     "output_type": "stream",
     "text": [
      "\r",
      "\u001b[2K     \u001b[91m━\u001b[0m\u001b[90m╺\u001b[0m\u001b[90m━━━━━━━━━━━━━━━━━━━━━━━━━━━━━━━━━━━━━━\u001b[0m \u001b[32m0.4/15.5 MB\u001b[0m \u001b[31m12.6 MB/s\u001b[0m eta \u001b[36m0:00:02\u001b[0m\r",
      "\u001b[2K     \u001b[91m━━━━━━━━\u001b[0m\u001b[90m╺\u001b[0m\u001b[90m━━━━━━━━━━━━━━━━━━━━━━━━━━━━━━━\u001b[0m \u001b[32m3.1/15.5 MB\u001b[0m \u001b[31m45.5 MB/s\u001b[0m eta \u001b[36m0:00:01\u001b[0m"
     ]
    },
    {
     "name": "stdout",
     "output_type": "stream",
     "text": [
      "\r",
      "\u001b[2K     \u001b[91m━━━━━━━━━━━━━━━━━━━\u001b[0m\u001b[90m╺\u001b[0m\u001b[90m━━━━━━━━━━━━━━━━━━━━\u001b[0m \u001b[32m7.5/15.5 MB\u001b[0m \u001b[31m71.3 MB/s\u001b[0m eta \u001b[36m0:00:01\u001b[0m"
     ]
    },
    {
     "name": "stdout",
     "output_type": "stream",
     "text": [
      "\r",
      "\u001b[2K     \u001b[91m━━━━━━━━━━━━━━━━━━━━━━━━━━━━\u001b[0m\u001b[90m╺\u001b[0m\u001b[90m━━━━━━━━━━\u001b[0m \u001b[32m11.2/15.5 MB\u001b[0m \u001b[31m108.2 MB/s\u001b[0m eta \u001b[36m0:00:01\u001b[0m\r",
      "\u001b[2K     \u001b[91m━━━━━━━━━━━━━━━━━━━━━━━━━━━━━━━━━━━━\u001b[0m\u001b[91m╸\u001b[0m\u001b[90m━━\u001b[0m \u001b[32m14.7/15.5 MB\u001b[0m \u001b[31m106.3 MB/s\u001b[0m eta \u001b[36m0:00:01\u001b[0m"
     ]
    },
    {
     "name": "stdout",
     "output_type": "stream",
     "text": [
      "\r",
      "\u001b[2K     \u001b[91m━━━━━━━━━━━━━━━━━━━━━━━━━━━━━━━━━━━━━━\u001b[0m\u001b[91m╸\u001b[0m \u001b[32m15.5/15.5 MB\u001b[0m \u001b[31m101.8 MB/s\u001b[0m eta \u001b[36m0:00:01\u001b[0m"
     ]
    },
    {
     "name": "stdout",
     "output_type": "stream",
     "text": [
      "\r",
      "\u001b[2K     \u001b[91m━━━━━━━━━━━━━━━━━━━━━━━━━━━━━━━━━━━━━━\u001b[0m\u001b[91m╸\u001b[0m \u001b[32m15.5/15.5 MB\u001b[0m \u001b[31m101.8 MB/s\u001b[0m eta \u001b[36m0:00:01\u001b[0m\r",
      "\u001b[2K     \u001b[90m━━━━━━━━━━━━━━━━━━━━━━━━━━━━━━━━━━━━━━━━\u001b[0m \u001b[32m15.5/15.5 MB\u001b[0m \u001b[31m53.5 MB/s\u001b[0m eta \u001b[36m0:00:00\u001b[0m\r\n",
      "\u001b[?25h"
     ]
    },
    {
     "name": "stdout",
     "output_type": "stream",
     "text": [
      "Collecting protobuf>=3.19.4\r\n",
      "  Downloading protobuf-3.20.0-cp39-cp39-manylinux_2_5_x86_64.manylinux1_x86_64.whl (1.0 MB)\r\n",
      "\u001b[?25l     \u001b[90m━━━━━━━━━━━━━━━━━━━━━━━━━━━━━━━━━━━━━━━━\u001b[0m \u001b[32m0.0/1.0 MB\u001b[0m \u001b[31m?\u001b[0m eta \u001b[36m-:--:--\u001b[0m"
     ]
    },
    {
     "name": "stdout",
     "output_type": "stream",
     "text": [
      "\r",
      "\u001b[2K     \u001b[90m━━━━━━━━━━━━━━━━━━━━━━━━━━━━━━━━━━━━━━━━\u001b[0m \u001b[32m1.0/1.0 MB\u001b[0m \u001b[31m56.6 MB/s\u001b[0m eta \u001b[36m0:00:00\u001b[0m\r\n",
      "\u001b[?25h"
     ]
    },
    {
     "name": "stdout",
     "output_type": "stream",
     "text": [
      "Collecting absl-py>=0.13\r\n",
      "  Downloading absl_py-1.0.0-py3-none-any.whl (126 kB)\r\n",
      "\u001b[?25l     \u001b[90m━━━━━━━━━━━━━━━━━━━━━━━━━━━━━━━━━━━━━━━━\u001b[0m \u001b[32m0.0/126.7 KB\u001b[0m \u001b[31m?\u001b[0m eta \u001b[36m-:--:--\u001b[0m\r",
      "\u001b[2K     \u001b[90m━━━━━━━━━━━━━━━━━━━━━━━━━━━━━━━━━━━━━━\u001b[0m \u001b[32m126.7/126.7 KB\u001b[0m \u001b[31m17.6 MB/s\u001b[0m eta \u001b[36m0:00:00\u001b[0m\r\n",
      "\u001b[?25hRequirement already satisfied: numpy>=1.13.3 in /opt/venv/lib/python3.9/site-packages (from ortools) (1.21.2)\r\n"
     ]
    },
    {
     "name": "stdout",
     "output_type": "stream",
     "text": [
      "Requirement already satisfied: six in /opt/venv/lib/python3.9/site-packages (from absl-py>=0.13->ortools) (1.16.0)\r\n"
     ]
    },
    {
     "name": "stdout",
     "output_type": "stream",
     "text": [
      "Installing collected packages: protobuf, absl-py, ortools\r\n"
     ]
    },
    {
     "name": "stdout",
     "output_type": "stream",
     "text": [
      "Successfully installed absl-py-1.0.0 ortools-9.3.10497 protobuf-3.20.0\r\n"
     ]
    }
   ],
   "source": [
    "from qcware import forge\n",
    "# this line is for internal tracking; it is not necessary for use!\n",
    "forge.config.set_environment_source_file('fault_tree.ipynb')\n",
    "\n",
    "#NBVAL_IGNORE_OUTPUT\n",
    "!pip install ortools\n",
    "from ortools.linear_solver import pywraplp"
   ]
  },
  {
   "cell_type": "markdown",
   "metadata": {},
   "source": [
    "Next we instantiate the classical solver, and obtain the ```solver``` object."
   ]
  },
  {
   "cell_type": "code",
   "execution_count": 2,
   "metadata": {
    "execution": {
     "iopub.execute_input": "2022-04-12T05:11:19.705389Z",
     "iopub.status.busy": "2022-04-12T05:11:19.704646Z",
     "iopub.status.idle": "2022-04-12T05:11:19.707831Z",
     "shell.execute_reply": "2022-04-12T05:11:19.707197Z"
    }
   },
   "outputs": [],
   "source": [
    "# Instantiate a mixed-integer solver, naming it fault-tree-diagnosis\n",
    "solver = pywraplp.Solver('fault-tree-diagnosis', pywraplp.Solver.CBC_MIXED_INTEGER_PROGRAMMING)"
   ]
  },
  {
   "cell_type": "markdown",
   "metadata": {},
   "source": [
    "First, we define the binary problem variables."
   ]
  },
  {
   "cell_type": "code",
   "execution_count": 3,
   "metadata": {
    "execution": {
     "iopub.execute_input": "2022-04-12T05:11:19.714737Z",
     "iopub.status.busy": "2022-04-12T05:11:19.714128Z",
     "iopub.status.idle": "2022-04-12T05:11:19.717494Z",
     "shell.execute_reply": "2022-04-12T05:11:19.716847Z"
    }
   },
   "outputs": [],
   "source": [
    "# Define integer binary variables.\n",
    "e0 = solver.IntVar(0, 1, 'e0')\n",
    "e1 = solver.IntVar(0, 1, 'e1')\n",
    "e2 = solver.IntVar(0, 1, 'e2')\n",
    "e3 = solver.IntVar(0, 1, 'e3')\n",
    "z0 = solver.IntVar(0, 1, 'z0')\n",
    "z1 = solver.IntVar(0, 1, 'z1')\n",
    "z2 = solver.IntVar(0, 1, 'z2')"
   ]
  },
  {
   "cell_type": "markdown",
   "metadata": {},
   "source": [
    "Next, we set the constraints of the problem. To set the constraints, we will have to go over each gate."
   ]
  },
  {
   "cell_type": "code",
   "execution_count": 4,
   "metadata": {
    "execution": {
     "iopub.execute_input": "2022-04-12T05:11:19.734076Z",
     "iopub.status.busy": "2022-04-12T05:11:19.725771Z",
     "iopub.status.idle": "2022-04-12T05:11:19.737376Z",
     "shell.execute_reply": "2022-04-12T05:11:19.736489Z"
    }
   },
   "outputs": [],
   "source": [
    "## Constraint Gate 1: 0 <= e0 + e3 - z0 ; z0 - e0 >= 0 ; z0 - e3 >= 0\n",
    "constraint1 = solver.Constraint(0, solver.infinity())\n",
    "constraint1.SetCoefficient(e0, 1)\n",
    "constraint1.SetCoefficient(e3, 1)\n",
    "constraint1.SetCoefficient(z0, -1)\n",
    "\n",
    "constraint1 = solver.Constraint(0, solver.infinity())\n",
    "constraint1.SetCoefficient(e0, -1)\n",
    "constraint1.SetCoefficient(z0, 1)\n",
    "\n",
    "constraint1 = solver.Constraint(0, solver.infinity())\n",
    "constraint1.SetCoefficient(e3, -1)\n",
    "constraint1.SetCoefficient(z0, 1)\n",
    "\n",
    "# Constraint Gate 2: 0 <= e2 + z0 - z1 ; z1 - e2 >= 0 ; z1 - z0 >= 0\n",
    "constraint1 = solver.Constraint(0, solver.infinity())\n",
    "constraint1.SetCoefficient(e2, 1)\n",
    "constraint1.SetCoefficient(z0, 1)\n",
    "constraint1.SetCoefficient(z1, -1)\n",
    "\n",
    "constraint1 = solver.Constraint(0, solver.infinity())\n",
    "constraint1.SetCoefficient(e2, -1)\n",
    "constraint1.SetCoefficient(z1, 1)\n",
    "\n",
    "constraint1 = solver.Constraint(0, solver.infinity())\n",
    "constraint1.SetCoefficient(z0, -1)\n",
    "constraint1.SetCoefficient(z1, 1)\n",
    "\n",
    "# Constraint Gate 3: 0 <= e0 + e1 - z2 ; z2 - e0 >= 0 ; z2 - e1 >= 0\n",
    "constraint1 = solver.Constraint(0, solver.infinity())\n",
    "constraint1.SetCoefficient(e0, 1)\n",
    "constraint1.SetCoefficient(e1, 1)\n",
    "constraint1.SetCoefficient(z2, -1)\n",
    "\n",
    "constraint1 = solver.Constraint(0, solver.infinity())\n",
    "constraint1.SetCoefficient(e1, -1)\n",
    "constraint1.SetCoefficient(z2, 1)\n",
    "\n",
    "constraint1 = solver.Constraint(0, solver.infinity())\n",
    "constraint1.SetCoefficient(e0, -1)\n",
    "constraint1.SetCoefficient(z2, 1)\n",
    "\n",
    "# Constraint Gate 4: -2 <= -z1 - z2 ; z1 >= 1 ; z2 >= 1\n",
    "constraint1 = solver.Constraint(-2, solver.infinity())\n",
    "constraint1.SetCoefficient(z1, -1)\n",
    "constraint1.SetCoefficient(z2, -1)\n",
    "\n",
    "constraint1 = solver.Constraint(1, solver.infinity())\n",
    "constraint1.SetCoefficient(z1, 1)\n",
    "\n",
    "constraint1 = solver.Constraint(1, solver.infinity())\n",
    "constraint1.SetCoefficient(z2, 1)\n"
   ]
  },
  {
   "cell_type": "markdown",
   "metadata": {},
   "source": [
    "The objective function for the problem is then set."
   ]
  },
  {
   "cell_type": "code",
   "execution_count": 5,
   "metadata": {
    "execution": {
     "iopub.execute_input": "2022-04-12T05:11:19.743469Z",
     "iopub.status.busy": "2022-04-12T05:11:19.742842Z",
     "iopub.status.idle": "2022-04-12T05:11:19.745874Z",
     "shell.execute_reply": "2022-04-12T05:11:19.745338Z"
    }
   },
   "outputs": [],
   "source": [
    "# Minimize e0+e1+e2+e3\n",
    "objective = solver.Objective()\n",
    "objective.SetCoefficient(e0, 1)\n",
    "objective.SetCoefficient(e1, 1)\n",
    "objective.SetCoefficient(e2, 1)\n",
    "objective.SetCoefficient(e3, 1)\n",
    "objective.SetMinimization()"
   ]
  },
  {
   "cell_type": "markdown",
   "metadata": {},
   "source": [
    "We finally solve the problem and then verify that an optimal solution has been found."
   ]
  },
  {
   "cell_type": "code",
   "execution_count": 6,
   "metadata": {
    "execution": {
     "iopub.execute_input": "2022-04-12T05:11:19.754435Z",
     "iopub.status.busy": "2022-04-12T05:11:19.753814Z",
     "iopub.status.idle": "2022-04-12T05:11:19.758436Z",
     "shell.execute_reply": "2022-04-12T05:11:19.757873Z"
    }
   },
   "outputs": [],
   "source": [
    "result_status = solver.Solve()\n",
    "\n",
    "assert result_status == pywraplp.Solver.OPTIMAL"
   ]
  },
  {
   "cell_type": "markdown",
   "metadata": {},
   "source": [
    "Print the solution."
   ]
  },
  {
   "cell_type": "code",
   "execution_count": 7,
   "metadata": {
    "execution": {
     "iopub.execute_input": "2022-04-12T05:11:19.765456Z",
     "iopub.status.busy": "2022-04-12T05:11:19.764758Z",
     "iopub.status.idle": "2022-04-12T05:11:19.768642Z",
     "shell.execute_reply": "2022-04-12T05:11:19.768034Z"
    }
   },
   "outputs": [
    {
     "name": "stdout",
     "output_type": "stream",
     "text": [
      "\n",
      "\n",
      "Faulty event(s) that lead to a top event failure:\n",
      "e0\n"
     ]
    }
   ],
   "source": [
    "print(\"\\n\")\n",
    "print(\"Faulty event(s) that lead to a top event failure:\")\n",
    "for item in ['e0', 'e1', 'e2', 'e3']:\n",
    "    var = solver.LookupVariable(item)\n",
    "    if var.solution_value() == 1:\n",
    "        print(item)"
   ]
  },
  {
   "cell_type": "markdown",
   "metadata": {},
   "source": [
    "***\n",
    "## 4. Conversion of Fault Tree to the Quantum Regime<a name=\"quantum_solution\"></a>\n",
    "\n",
    "This section provides a detailed explanation on how to transform fault tree logic first to PUBO (polynomial unconstrained binary optimization) and then to QUBO (quadratic unconstrained binary optimization) notation that can be used as input to the quantum computer. \n",
    "\n",
    "Our aim is to show that a fault tree can be represented by a Pseudo-boolean function of the form \n",
    "\n",
    "$$\n",
    "H_{PUBO}(e_n,z_n,p_0)=H_{consist}(e_n,z_n,p_0)+H_{numfaults}(e_n,z_n,p_0)\n",
    "$$ \n",
    "\n",
    "where $e_n,z_n,p_0 \\in \\{0,1\\}$ are binary variable vectors representing the base events, outputs of gates, and top failure, respectively. A cut set is an assignment of values  $e_n,z_n \\to v_n \\in \\{0,1\\}, p_0 \\to 1$ that satisfies $H_{consist}(v_n,1)=0$ and $H_{PUBO}(v_n,1)=N_{numfaults}$ where $N_{numfaults}$ is the number of base events that satisfy $e_i=1$. The minimal cut set is a cut set $v_n$ with a minimum number of ones in $e_n$ e.g. for a length 4 vector $e_n=(e_0, e_1, e_2, e_3)$ a cut set would correspond to $(1, 1, e_2, e_3)$ and a sample minimal cut set would be $(1, 0, 0, 0)$ as long as $H_{consist}(v_n,1)=0$ for both solutions. Invalid solutions $w_n$ would result in a penalty of the form $H_{consist}(w_n,1)>0$. Thus, the minimum value of the $H_{PUBO}$ function would correspond to the shortest minimal cut set solution, higher value solutions would be minimal cut sets and super cut sets, and the highest values are given by invalid solutions. Our aim is to generate the $H_{PUBO}$ objective function that verifies mathematically the following two claims: an assignment $V$ such that the cost function $H_{PUBO}(V)$ takes its absolute minimum $H_{PUBO/min}$ corresponds to the shortest minimal cut set of the tree; we cannot claim the converse, that to every cut set there is an assignment $V$ such that $H_{PUBO}(V)=H_{PUBO/min}$. However, the quantum computer will generate solutions at and near the minimum in a probabilistic manner, finding shortest minimal cut sets, minimal cut sets, and super cut sets, and we will use postprocessing to validate solutions and to generate the final minimal cut set list.\n",
    "\n",
    "We can construct a PUBO polynomial whose ground states encode the solution to the shortest minimal cut set for a given fault tree by adding the following two terms to construct an objective function, \n",
    "\n",
    "$$\n",
    "H_{PUBO}=H_{consist}+H_{numfaults} .\n",
    "$$\n",
    "\n",
    "We describe next each of these terms, $H_{numfaults}$ is the addition of all the event of the fault tree. It takes the value of the number of faulty events in the solution.\n",
    "\n",
    "$$\n",
    "H_{numfaults}(\\{ e_i \\})= \\sum e_i \n",
    "$$\n",
    "\n",
    "$H_{consist}$ is the summation of the $H_{gates}$ objective functions for all the gates present in the fault tree.\n",
    "\n",
    "$$\n",
    "H_{consist}=\\sum_{j \\in gates} H^{(j)}_{gates}\n",
    "$$\n",
    "\n",
    "The $H_{gates}$ objective function represents the consistency of the logic of the gate i.e. it assigns a penalty to the solutions that don't fulfill the logic of that gate and takes minimum value when the logic is satisfied by the input and output variables of the gate. It reads,\n",
    "\n",
    "$$\n",
    "H^{(j)}_{gates}(\\{ \\textbf{x} \\},z_j,e_j)=\\lambda^{(j)}_{consist} XOR(gate_j(\\{ \\textbf{x}_j \\}_j), z_{j-1}) \n",
    "$$\n",
    "\n",
    "Here $z_j$ is the output, $\\textbf{x}_j$ the set of input variables for the $j$-th gate and $gate_j(\\{ \\textbf{x}_j \\}_j)$ a Boolean function denoting the expected nominal output from the $j$-th component. Input variables can be either outputs of other gates $z_k$ or events $e_k$. The $gate_j()$ function varies depending on the gate type, $XOR()$ it is just a particular case of this function, below you can find the expressions to be used for the nominal output of different gates with one or two inputs.\n",
    "\n",
    "$$\n",
    "AND(x_1,x_2)=x_1x_2\n",
    "$$\n",
    "$$\n",
    "OR(x_1,x_2)=x_1+x_2-x_1x_2\n",
    "$$ \n",
    "\n",
    "The $\\lambda^{(i)}_{consist}$ prefactor shows the relative importance of $H_{consist}$ with respect to $H_{numfaults}$. In this case it is more important that the solution satisfies the logic of the circuit than the number of faulty events is minimized, as this would lead to a random solution that is independent of the logic of the tree. The value of $\\lambda^{(i)}_{consist}$ is empirically set by the user to give the best performance for the problem class. For more information in the $\\lambda^{(i)}_{consist}$ parameter see below.\n",
    "\n",
    "Functions with higher than quadratic terms need to be reduced to that form. We will have to add ancilla variables of the form $q_{an}=q_i q_j$ to obtain the quadratic $H_{QUBO}$ objective function that can be used as input in the computer. It is not enough to make the substitution in the $H_{PUBO}$ expression to obtain $H_{QUBO}$, since the ancillas are new variables whose values are independent of the original variables, we need to penalize the incorrect variable assignments. We add a penalty term for each ancilla of the form\n",
    "$$\n",
    "E_{penalty}=\\delta (3q_{an}+q_i q_j-2q_i q_{an}-2 q_j q_{an} )\n",
    "$$\n",
    "Where $\\delta$ is a positive number representing the chosen penalty. \n",
    "\n",
    "Using these rules we can obtain the QUBO formulation of our sample fault-tree. As an exercise the reader could obtain this result and compare with the QUBO formulation obtained by the code below."
   ]
  },
  {
   "cell_type": "markdown",
   "metadata": {},
   "source": [
    "***\n",
    "## 5. Setting up the Problem using the QC Ware Client API <a name=\"problem\"></a>\n",
    "\n",
    "\n",
    "Next, we explain the formulation that we use to input the logic of the fault-tree into our QC code. Below we show the input corresponding to our sample fault tree,\n",
    "\n",
    "$$\n",
    "input: e0\n",
    "$$\n",
    "$$\n",
    "input: e1\n",
    "$$\n",
    "$$\n",
    "input: e2\n",
    "$$\n",
    "$$\n",
    "input: e3\n",
    "$$\n",
    "$$\n",
    "output: p0\n",
    "$$\n",
    "$$\n",
    "G1: z0 == e0 ~ || ~ e3\n",
    "$$\n",
    "$$\n",
    "G2: z1 == e2 ~ || ~ z0\n",
    "$$\n",
    "$$\n",
    "G3: z2 == e0 ~ || ~ e1\n",
    "$$\n",
    "$$\n",
    "G4: p0 == z1 ~ \\&\\& ~ z2\n",
    "$$\n",
    "\n",
    "This notation shows the inputs, outputs, and gates ($G$) of the fault tree. The inputs are the 3 base events $e_0,e_1,e_2$. The output is the top event that we label $p_0$, it will take the value $p_0=1$ when we are searching for system failures. In the following lines we describe the logic of each gate in the tree described as $G_n$. Here $z_i$ represents the output of the gate $G_{i+1}$. The $\\&\\&$ symbol corresponds to AND gates and $||$ to OR gates. For more general fault-trees the number of inputs, gates, and outputs will increase which will lead to a more complex logic."
   ]
  },
  {
   "cell_type": "markdown",
   "metadata": {},
   "source": [
    "### 5.a. Defining the Q Matrix <a name=\"Q_matrix\"></a>\n",
    "\n",
    "For the purpose of this notebook we will now input the structure of the fault by hand to generate a Q matrix that fits the QUBO formulation that our qcware optimization module can solve. We will do this by following the steps specified in the previous \"Mapping of the fault-tree analysis problem to QUBO\" section. For a more detailed description of the Q matrix, please see the Getting Started Guide. \n",
    "\n",
    "We will use the Python package `qubovert` that we developed to aid in the construction of QUBOs for binary optimization problems. We will install and import it here, along with the QC Ware module and other neccesary models."
   ]
  },
  {
   "cell_type": "code",
   "execution_count": 8,
   "metadata": {
    "execution": {
     "iopub.execute_input": "2022-04-12T05:11:19.779512Z",
     "iopub.status.busy": "2022-04-12T05:11:19.775385Z",
     "iopub.status.idle": "2022-04-12T05:11:22.660744Z",
     "shell.execute_reply": "2022-04-12T05:11:22.660112Z"
    }
   },
   "outputs": [],
   "source": [
    "%%capture\n",
    "!pip install qubovert\n",
    "\n",
    "import qubovert as qv\n",
    "import pprint"
   ]
  },
  {
   "cell_type": "markdown",
   "metadata": {},
   "source": [
    "Next, we need to specify the penalty value that we assign to $\\lambda$. In general it is very important to fine-tune this parameter! For this example, we will just set it to 4."
   ]
  },
  {
   "cell_type": "code",
   "execution_count": 9,
   "metadata": {
    "execution": {
     "iopub.execute_input": "2022-04-12T05:11:22.666091Z",
     "iopub.status.busy": "2022-04-12T05:11:22.665456Z",
     "iopub.status.idle": "2022-04-12T05:11:22.668717Z",
     "shell.execute_reply": "2022-04-12T05:11:22.667976Z"
    }
   },
   "outputs": [],
   "source": [
    "lam = 4"
   ]
  },
  {
   "cell_type": "markdown",
   "metadata": {},
   "source": [
    "We use `qubovert` to create a Polynomial Constrained Boolean Optimization (PCBO) object. We want to minimize $H_{numfaults}$; we also encode this into the PCBO."
   ]
  },
  {
   "cell_type": "code",
   "execution_count": 10,
   "metadata": {
    "execution": {
     "iopub.execute_input": "2022-04-12T05:11:22.674854Z",
     "iopub.status.busy": "2022-04-12T05:11:22.674249Z",
     "iopub.status.idle": "2022-04-12T05:11:22.677794Z",
     "shell.execute_reply": "2022-04-12T05:11:22.677277Z"
    }
   },
   "outputs": [
    {
     "name": "stdout",
     "output_type": "stream",
     "text": [
      "{('e0',): 1, ('e1',): 1, ('e2',): 1, ('e3',): 1}\n"
     ]
    }
   ],
   "source": [
    "errors = 'e0', 'e1', 'e2', 'e3'\n",
    "\n",
    "H = qv.PCBO()\n",
    "for e in errors:\n",
    "    H[(e,)] = 1\n",
    "    \n",
    "pprint.pprint(H)"
   ]
  },
  {
   "cell_type": "markdown",
   "metadata": {},
   "source": [
    "Next we enforce the constraints that create the `z`s (reproduced here for reference):\n",
    "$$\n",
    "G1: z0 == e0 ~ || ~ e3\n",
    "$$\n",
    "$$\n",
    "G2: z1 == e2 ~ || ~ z0\n",
    "$$\n",
    "$$\n",
    "G3: z2 == e0 ~ || ~ e1\n",
    "$$\n",
    "We will enforce these constraints with the penalty factor $\\lambda$."
   ]
  },
  {
   "cell_type": "code",
   "execution_count": 11,
   "metadata": {
    "execution": {
     "iopub.execute_input": "2022-04-12T05:11:22.687552Z",
     "iopub.status.busy": "2022-04-12T05:11:22.686665Z",
     "iopub.status.idle": "2022-04-12T05:11:22.694249Z",
     "shell.execute_reply": "2022-04-12T05:11:22.694705Z"
    }
   },
   "outputs": [
    {
     "name": "stdout",
     "output_type": "stream",
     "text": [
      "{('e0',): 9,\n",
      " ('e0', 'e1'): 4,\n",
      " ('e0', 'e3'): 4,\n",
      " ('e0', 'z2'): -8,\n",
      " ('e1',): 5,\n",
      " ('e1', 'z2'): -8,\n",
      " ('e2',): 5,\n",
      " ('e2', 'z1'): -8,\n",
      " ('e3',): 5,\n",
      " ('z0',): 8,\n",
      " ('z0', 'e0'): -8,\n",
      " ('z0', 'e2'): 4,\n",
      " ('z0', 'e3'): -8,\n",
      " ('z0', 'z1'): -8,\n",
      " ('z1',): 4,\n",
      " ('z2',): 4}\n"
     ]
    }
   ],
   "source": [
    "H.add_constraint_eq_OR(  # enforce that z0 = e0 OR e3\n",
    "    'z0', 'e0', 'e3', lam=lam\n",
    ").add_constraint_eq_OR(  # enforce that z1 = e2 OR z0\n",
    "    'z1', 'e2', 'z0', lam=lam\n",
    ").add_constraint_eq_OR(  # enforce that z2 = e0 OR e1\n",
    "    'z2', 'e0', 'e1', lam=lam\n",
    ")\n",
    "pprint.pprint(H)"
   ]
  },
  {
   "cell_type": "markdown",
   "metadata": {},
   "source": [
    "Finally we want to enforce the constraint that `p0 = 1` (reproduced here for reference)\n",
    "\n",
    "$$\n",
    "G4: p0 == z1 ~ \\&\\& ~ z2\n",
    "$$\n",
    "\n",
    "We want to make $z1 ~ \\& \\& ~ z2$ energetically favorable. This can be done without introducing the `p0` variable in the following way."
   ]
  },
  {
   "cell_type": "code",
   "execution_count": 12,
   "metadata": {
    "execution": {
     "iopub.execute_input": "2022-04-12T05:11:22.702030Z",
     "iopub.status.busy": "2022-04-12T05:11:22.700677Z",
     "iopub.status.idle": "2022-04-12T05:11:22.708080Z",
     "shell.execute_reply": "2022-04-12T05:11:22.708579Z"
    }
   },
   "outputs": [
    {
     "name": "stdout",
     "output_type": "stream",
     "text": [
      "{(): 4,\n",
      " ('e0',): 9,\n",
      " ('e0', 'e1'): 4,\n",
      " ('e0', 'e3'): 4,\n",
      " ('e0', 'z2'): -8,\n",
      " ('e1',): 5,\n",
      " ('e1', 'z2'): -8,\n",
      " ('e2',): 5,\n",
      " ('e2', 'z1'): -8,\n",
      " ('e3',): 5,\n",
      " ('z0',): 8,\n",
      " ('z0', 'e0'): -8,\n",
      " ('z0', 'e2'): 4,\n",
      " ('z0', 'e3'): -8,\n",
      " ('z0', 'z1'): -8,\n",
      " ('z1',): 4,\n",
      " ('z2',): 4,\n",
      " ('z2', 'z1'): -4}\n"
     ]
    }
   ],
   "source": [
    "H.add_constraint_AND('z1', 'z2', lam=lam)\n",
    "pprint.pprint(H)"
   ]
  },
  {
   "cell_type": "markdown",
   "metadata": {},
   "source": [
    "Thus we have encoded our problem! Let's look at the final binary optimization problem."
   ]
  },
  {
   "cell_type": "markdown",
   "metadata": {},
   "source": [
    "In particular, we are interested in the degree of the model."
   ]
  },
  {
   "cell_type": "code",
   "execution_count": 13,
   "metadata": {
    "execution": {
     "iopub.execute_input": "2022-04-12T05:11:22.714090Z",
     "iopub.status.busy": "2022-04-12T05:11:22.713363Z",
     "iopub.status.idle": "2022-04-12T05:11:22.716724Z",
     "shell.execute_reply": "2022-04-12T05:11:22.716115Z"
    }
   },
   "outputs": [
    {
     "name": "stdout",
     "output_type": "stream",
     "text": [
      "2\n"
     ]
    }
   ],
   "source": [
    "print(H.degree)"
   ]
  },
  {
   "cell_type": "markdown",
   "metadata": {},
   "source": [
    "Notice that `H` is already degree 2 and is thus a QUBO! However, we will still perform the following steps since they work even when the degree of the HOBO is greater than 2."
   ]
  },
  {
   "cell_type": "code",
   "execution_count": 14,
   "metadata": {
    "execution": {
     "iopub.execute_input": "2022-04-12T05:11:22.724719Z",
     "iopub.status.busy": "2022-04-12T05:11:22.723320Z",
     "iopub.status.idle": "2022-04-12T05:11:22.731319Z",
     "shell.execute_reply": "2022-04-12T05:11:22.731819Z"
    }
   },
   "outputs": [
    {
     "name": "stdout",
     "output_type": "stream",
     "text": [
      "{(): 4,\n",
      " (0,): 9,\n",
      " (0, 1): 4,\n",
      " (0, 3): 4,\n",
      " (0, 4): -8,\n",
      " (0, 6): -8,\n",
      " (1,): 5,\n",
      " (1, 6): -8,\n",
      " (2,): 5,\n",
      " (2, 4): 4,\n",
      " (2, 5): -8,\n",
      " (3,): 5,\n",
      " (3, 4): -8,\n",
      " (4,): 8,\n",
      " (4, 5): -8,\n",
      " (5,): 4,\n",
      " (5, 6): -4,\n",
      " (6,): 4}\n"
     ]
    }
   ],
   "source": [
    "qubo = H.to_qubo()\n",
    "pprint.pprint(qubo)"
   ]
  },
  {
   "cell_type": "markdown",
   "metadata": {},
   "source": [
    "Notice that the QUBO is labeled with integers, whereas the HOBO was labeled with strings. We can convert between the labels with the `H.convert_solution` method, discussed below."
   ]
  },
  {
   "cell_type": "markdown",
   "metadata": {},
   "source": [
    "### 5.b. Solving the Problem <a name=\"solve\"></a>\n",
    "\n",
    "We're now ready to solve the problem using QC Ware Platform's optimization function. We just need to input the BinaryProblem class, the solver that we aim to use, and our token. To ensure our formulation is correct, we will use a bruteforce solver, but you can change the `solver` keyword to any backend you would like."
   ]
  },
  {
   "cell_type": "markdown",
   "metadata": {},
   "source": [
    "The `qcware` `optimize_binary` function accepts the `BinaryProblem` class that is generated out of `qubovert`'s QUBOs. \n",
    "\n",
    "Notice also that we convert between the integer labeled QUBO and the string labeled HOBO with `H.convert_solution`. The `H.is_solution_valid` method returns whether or not all the constraints are satisfied."
   ]
  },
  {
   "cell_type": "code",
   "execution_count": 15,
   "metadata": {
    "execution": {
     "iopub.execute_input": "2022-04-12T05:11:22.745702Z",
     "iopub.status.busy": "2022-04-12T05:11:22.744511Z",
     "iopub.status.idle": "2022-04-12T05:11:23.396925Z",
     "shell.execute_reply": "2022-04-12T05:11:23.396291Z"
    }
   },
   "outputs": [
    {
     "name": "stdout",
     "output_type": "stream",
     "text": [
      "QUBO solution: (1, 0, 0, 0, 1, 1, 1)\n",
      "HOBO solution: {'e0': 1, 'e1': 0, 'e2': 0, 'e3': 0, 'z0': 1, 'z1': 1, 'z2': 1}\n",
      "\n",
      "solution satisfies all of the constraints\n",
      "minimum number of errors that lead to a top event failure: 1\n",
      "Faulty event(s) that lead to a top event failure: ['e0']\n"
     ]
    }
   ],
   "source": [
    "import qcware.types\n",
    "poly = qcware.types.optimization.PolynomialObjective(\n",
    "    polynomial=qubo.Q,\n",
    "    num_variables=qubo.num_binary_variables,\n",
    "    domain='boolean'\n",
    ")\n",
    "problem = qcware.types.optimization.BinaryProblem(objective=poly)\n",
    "\n",
    "result = forge.optimization.optimize_binary(instance=problem, backend='qcware/cpu')\n",
    "sol_qubo = result.lowest_value_bitstring\n",
    "solution = H.convert_solution(sol_qubo)\n",
    "\n",
    "print('QUBO solution:', sol_qubo)\n",
    "print('HOBO solution:', solution)\n",
    "print()\n",
    "\n",
    "if H.is_solution_valid(solution):\n",
    "    print(\"solution satisfies all of the constraints\")\n",
    "    print(\"minimum number of errors that lead to a top event failure:\", H.value(solution))\n",
    "    print(\"Faulty event(s) that lead to a top event failure:\", [e for e in errors if solution[e]])\n",
    "else:\n",
    "    print(\"solution does not satisfy all of the constraints\")"
   ]
  },
  {
   "cell_type": "markdown",
   "metadata": {},
   "source": [
    "We see that if just the error `e0` happens, a top level failure will occur."
   ]
  },
  {
   "cell_type": "markdown",
   "metadata": {},
   "source": [
    "The QC Ware Platform returns a solution that minimizes the cost. If the number of runs for each solver is not specified, it will run each solver several times and return the solution with the lowest cost. The returned solutions forms a characteristic distribution for each solver in the cost value spectrum. This means that each solver will not only return the lowest cost solution but also some suboptimal solutions. The platform then finds the best and returns it as the ultimate solution. Since this distribution is an inherent property of quantum systems there is a chance that some of the returned solutions will not be feasible i.e. the faulty events do not generate a top failure. So, we need to check if the returned solutions are feasible before applying them to our business problem. For some fault-trees it is possible that there are multiple solutions to the problem, and so we will have to gather different solutions with the same minimum number of faulty events in order to have a complete set of solutions."
   ]
  },
  {
   "cell_type": "markdown",
   "metadata": {},
   "source": [
    "This corresponds to the minimum cut set described at the beginning of this exercise.\n",
    "<br><a href=\"#top\">Back to Table of Contents</a>"
   ]
  }
 ],
 "metadata": {
  "kernelspec": {
   "display_name": "Python 3",
   "language": "python",
   "name": "python3"
  },
  "language_info": {
   "codemirror_mode": {
    "name": "ipython",
    "version": 3
   },
   "file_extension": ".py",
   "mimetype": "text/x-python",
   "name": "python",
   "nbconvert_exporter": "python",
   "pygments_lexer": "ipython3",
   "version": "3.9.2"
  }
 },
 "nbformat": 4,
 "nbformat_minor": 4
}
