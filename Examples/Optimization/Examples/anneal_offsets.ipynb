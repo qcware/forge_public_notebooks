{
 "cells": [
  {
   "cell_type": "markdown",
   "metadata": {},
   "source": [
    "<a id='top'></a>\n",
    "# Anneal Offsets\n",
    "### Advanced `optimize_binary` usage\n",
    "\n",
    "\n",
    "## Table of Contents\n",
    "1. [Introduction](#introduction)\n",
    "2. [Problem Definition](#problem_definition)\n",
    "3. [Using Anneal Offsets](#anneal_offsets)\n",
    "4. [Further Documentation and Support](#doc_and_support)\n",
    "\n",
    "\n",
    "## 1. Introduction <a id=\"introduction\"></a>\n",
    "In this notebook, we will review an advanced option of QCWare's `optimize_binary` function. The D'Wave QPU allows for [Anneal Offsets](https://docs.dwavesys.com/docs/latest/c_fd_ao.html), which are slight variations in the anneal start time for each qubit. In this notebook, we will show how to use the anneal offsets functionality through the QC Ware Platform. We will discuss a [method](https://arxiv.org/abs/1806.11091) that we developed for generating anneal offsets that often improves the performance of the quantum annealer and show how to use this method through our platform.\n",
    "\n",
    "First we'll import the QC Ware library and set our API key if necessary (you can find your API key on you [Forge](https://forge.qcware.com) dashboard.)"
   ]
  },
  {
   "cell_type": "code",
   "execution_count": 1,
   "metadata": {
    "execution": {
     "iopub.execute_input": "2022-11-05T05:12:28.812678Z",
     "iopub.status.busy": "2022-11-05T05:12:28.812377Z",
     "iopub.status.idle": "2022-11-05T05:12:29.224488Z",
     "shell.execute_reply": "2022-11-05T05:12:29.223789Z"
    }
   },
   "outputs": [],
   "source": [
    "from qcware import forge\n",
    "# this line is for internal tracking; it is not necessary for use!\n",
    "forge.config.set_environment_source_file('anneal_offsets.ipynb')\n"
   ]
  },
  {
   "cell_type": "markdown",
   "metadata": {},
   "source": [
    "## 2. Problem Definition <a id=\"problem_definition\"></a>\n",
    "\n",
    "Throughout this notebook, we will use the Alternating Sectors Chain (ASC) problem as an example. It is a very simple problem with trivial solutions and contains features that cause the quantum annealer to exhibit interesting behavior, thus making it a good example to study.\n",
    "\n",
    "The ASC problem requires four inputs;\n",
    "1. $N$, number of spins ($N \\in \\mathbb{Z}^{+}$),\n",
    "2. $\\ell$, chain-length ($\\ell \\in \\mathbb{Z}, \\ 1 \\leq \\ell \\leq N$),\n",
    "3. $w$, weak coupling ($w \\in \\mathbb{R}, \\ 0 \\leq w \\leq S$), and\n",
    "4. $S$, strong coupling ($S \\in \\mathbb{R}, \\ w \\leq S$).\n",
    "\n",
    "We define these below."
   ]
  },
  {
   "cell_type": "code",
   "execution_count": 2,
   "metadata": {
    "execution": {
     "iopub.execute_input": "2022-11-05T05:12:29.227699Z",
     "iopub.status.busy": "2022-11-05T05:12:29.227433Z",
     "iopub.status.idle": "2022-11-05T05:12:29.231187Z",
     "shell.execute_reply": "2022-11-05T05:12:29.230660Z"
    }
   },
   "outputs": [],
   "source": [
    "N = 40\n",
    "l = 4\n",
    "w = 1\n",
    "S = 2\n",
    "\n",
    "# check problem definition is valid\n",
    "assert isinstance(N, int)\n",
    "assert isinstance(l, int)\n",
    "assert N >= 1\n",
    "assert 1 <= l <= N\n",
    "assert 0 <= w <= S"
   ]
  },
  {
   "cell_type": "markdown",
   "metadata": {},
   "source": [
    "The ASC problem then becomes finding \n",
    "\n",
    "$$z^* = \\underset{z \\in \\{-1, 1 \\}^N}{\\operatorname{argmin}} H$$\n",
    "\n",
    "where \n",
    "\n",
    "$$H = \\sum_{i=0}^{N-2} J_{i, i+1}z_i z_{i+1}, \\qquad J_{i, i+1} = \\begin{cases}\n",
    "-w&\\text{if }\\left\\lfloor \\frac{i}{\\ell} \\right\\rfloor \\text{ is odd} \\\\\n",
    "-S&\\text{else}\n",
    "\\end{cases}$$\n",
    "\n",
    "Notice that the solution is two-fold degenerate, with simply all of the spins aligned;\n",
    "\n",
    "$$z_i = -1 \\ \\forall i \\in \\{0, 1, ..., N-1 \\} \\qquad {\\rm or} \\qquad z_i = 1 \\ \\forall i \\in \\{0, 1, ..., N-1 \\}$$\n",
    "\n",
    "This is an instance of a more general problem called the [Ising model](https://en.wikipedia.org/wiki/Ising_model). There is a one-to-one mapping between Quadratic Unconstrained Binary Optimization (QUBO) and Ising problems. \n",
    "\n",
    "Let $x = \\frac{z+1}{2}$, or $z = 2x-1$; then $x\\in \\{0, 1 \\}^N$. We can reformulate $H$ in terms of $x$ which will transform it into a QUBO formulation.\n",
    "\\begin{align*}\n",
    "H &= \\sum_{i=0}^{N-2} J_{i, i+1}z_i z_{i+1}\\\\\n",
    "& = \\sum_{i=0}^{N-2} J_{i, i+1}(2x_i-1)(2x_{i+1}-1)\\\\\n",
    "&= \\sum_{i=0}^{N-1}\\sum_{i'=0}^{N-1} Q_{ii'}x_ix_{i'} + {\\rm offset}\n",
    "\\end{align*}\n",
    "where\n",
    "$${\\rm offset} = \\sum_{i=0}^{N-2}J_{i,i+1}  \\qquad  Q_{ii'} = \\begin{cases}\n",
    "4J_{ii'}&\\text{if } i' = i+1\\\\\n",
    "-2J_{0,1}&\\text{if } i = i' = 0\\\\\n",
    "-2J_{N-2,N-1}&\\text{if } i = i' = N-1\\\\\n",
    "-2(J_{i-1,i}+J_{i, i+1})&\\text{if } i = i'\\\\\n",
    "0&{\\rm else}\n",
    "\\end{cases}$$\n",
    "\n",
    "Thus, $Q$ is our QUBO formulation, and the two solutions are now\n",
    "\n",
    "$$x_i = 0 \\ \\forall i \\in \\{0,1,...,N-1 \\} \\qquad {\\rm or} \\qquad x_i = 1 \\ \\forall i \\in \\{0,1,...,N-1 \\}$$\n",
    "\n",
    "Let's create the QUBO dictionary."
   ]
  },
  {
   "cell_type": "code",
   "execution_count": 3,
   "metadata": {
    "execution": {
     "iopub.execute_input": "2022-11-05T05:12:29.234069Z",
     "iopub.status.busy": "2022-11-05T05:12:29.233539Z",
     "iopub.status.idle": "2022-11-05T05:12:29.241886Z",
     "shell.execute_reply": "2022-11-05T05:12:29.241376Z"
    }
   },
   "outputs": [
    {
     "name": "stdout",
     "output_type": "stream",
     "text": [
      "First two chains (and start of the third) of the QUBO\n",
      "Q(0, 0) = 4\n",
      "Q(0, 1) = -8\n",
      "Q(1, 1) = 8\n",
      "Q(1, 2) = -8\n",
      "Q(2, 2) = 8\n",
      "Q(2, 3) = -8\n",
      "Q(3, 3) = 8\n",
      "Q(3, 4) = -8\n",
      "Q(4, 4) = 6\n",
      "Q(4, 5) = -4\n",
      "Q(5, 5) = 4\n",
      "Q(5, 6) = -4\n",
      "Q(6, 6) = 4\n",
      "Q(6, 7) = -4\n",
      "Q(7, 7) = 4\n",
      "Q(7, 8) = -4\n",
      "Q(8, 8) = 6\n",
      "Q(8, 9) = -8\n"
     ]
    }
   ],
   "source": [
    "def J(i, ip):\n",
    "    \"\"\" define the Ising couplings \"\"\"\n",
    "    if ip != i + 1 or not 0 <= i < N or not 0 <= ip < N:\n",
    "        return 0\n",
    "    elif (i // l) % 2:  # odd\n",
    "        return -w\n",
    "    else:  # even\n",
    "        return -S\n",
    "\n",
    "def q(i, ip):\n",
    "    \"\"\" define the QUBO values \"\"\"\n",
    "    if not 0 <= i < N or not 0 <= ip < N:\n",
    "        return 0\n",
    "    elif ip == i + 1:\n",
    "        return 4 * J(i, ip)\n",
    "    elif i == ip == 0:\n",
    "        return -2 * J(0, 1)\n",
    "    elif i == ip == N - 1:\n",
    "        return -2 * J(N - 2, N - 1)\n",
    "    elif i == ip:\n",
    "        return -2 * (J(i - 1, i) + J(i, i + 1))\n",
    "    else:\n",
    "        return 0\n",
    "\n",
    "# create the QUBO dictionary\n",
    "Q, offset = {}, 0\n",
    "for i in range(N):\n",
    "    offset += J(i, i + 1)\n",
    "    v = q(i, i)\n",
    "    if v: Q[(i, i)] = v\n",
    "    v = q(i, i + 1)\n",
    "    if v: Q[(i, i + 1)] = v\n",
    "        \n",
    "# show two 'chains' of the QUBO (and the start of the third chain).\n",
    "print(\"First two chains (and start of the third) of the QUBO\")\n",
    "for i in range(2*l+1):\n",
    "    print(\"Q(%d, %d) = %g\" % (i, i, Q.get((i, i), 0)))\n",
    "    print(\"Q(%d, %d) = %g\" % (i, i+1, Q.get((i, i+1), 0)))"
   ]
  },
  {
   "cell_type": "markdown",
   "metadata": {},
   "source": [
    "For covenience, let's define a function that checks whether or not we found one of the two correct solutions."
   ]
  },
  {
   "cell_type": "code",
   "execution_count": 4,
   "metadata": {
    "execution": {
     "iopub.execute_input": "2022-11-05T05:12:29.244116Z",
     "iopub.status.busy": "2022-11-05T05:12:29.243888Z",
     "iopub.status.idle": "2022-11-05T05:12:29.247899Z",
     "shell.execute_reply": "2022-11-05T05:12:29.247368Z"
    }
   },
   "outputs": [],
   "source": [
    "def is_correct_solution(solution):\n",
    "    return all(solution[i] == 0 for i in range(N)) or all(solution[i] == 1 for i in range(N))"
   ]
  },
  {
   "cell_type": "markdown",
   "metadata": {},
   "source": [
    "## 3. Using Anneal Offsets <a id=\"anneal_offsets\"></a>\n",
    "\n",
    "QC Ware's `optimize_binary` functionality allows low-level usage of the anneal offsets functionality through the `dwave_anneal_offsets` keyword argument where a list of offsets can be supplied and applied to the QPU (for details on applying anneal offsets to D'Wave's quantum annealer, see their [documentation](https://docs.dwavesys.com/docs/latest/c_fd_ao.html)). However, choosing anneal offsets is very challenging (requires 2048 specific qubit offsets!) and is indeed an ongoing research task. Researchers at QC Ware have developed a powerful heuristic for determining good anneal offset values given a particular QUBO. The heuristic requires a single input labeled $\\delta$, where $\\delta \\geq 0$ (in practice, $\\delta$ should be in $[0, 0.05]$). Given $\\delta$, we generate offsets for each qubit. We have shown our method to often give a performance advantage over standard quantum annealing; we will use the ASC chain example that we set up in [Section 2](#problem_definition) to show this.\n",
    "\n",
    "We will look at the success probability metric to analyze performance. We define the success probability to be $\\frac{c}{n}$, where $n$ is the number of times we have run our optimization algorithm and $c$ is the number of time we have found a correct solution (one of the two solutions mentioned above; all the variables equal to each other). Let's create a function to find the success probability for solving the ASC problem created above. We can supply a $\\delta$ to `optimize_binary` with the `dwave_anneal_offsets_delta` keyword."
   ]
  },
  {
   "cell_type": "markdown",
   "metadata": {},
   "source": [
    "Since this process can take a while, with multiple calls to the annealer, let's use the Python library `tqdm` to display a progress bar"
   ]
  },
  {
   "cell_type": "code",
   "execution_count": 5,
   "metadata": {
    "execution": {
     "iopub.execute_input": "2022-11-05T05:12:29.250159Z",
     "iopub.status.busy": "2022-11-05T05:12:29.249927Z",
     "iopub.status.idle": "2022-11-05T05:12:31.413821Z",
     "shell.execute_reply": "2022-11-05T05:12:31.413148Z"
    }
   },
   "outputs": [
    {
     "name": "stdout",
     "output_type": "stream",
     "text": [
      "Collecting tqdm\r\n",
      "  Downloading tqdm-4.64.1-py2.py3-none-any.whl (78 kB)\r\n",
      "\u001b[?25l     \u001b[90m━━━━━━━━━━━━━━━━━━━━━━━━━━━━━━━━━━━━━━━━\u001b[0m \u001b[32m0.0/78.5 kB\u001b[0m \u001b[31m?\u001b[0m eta \u001b[36m-:--:--\u001b[0m\r",
      "\u001b[2K     \u001b[90m━━━━━━━━━━━━━━━━━━━━━━━━━━━━━━━━━━━━━━━━\u001b[0m \u001b[32m78.5/78.5 kB\u001b[0m \u001b[31m13.0 MB/s\u001b[0m eta \u001b[36m0:00:00\u001b[0m\r\n",
      "\u001b[?25h"
     ]
    },
    {
     "name": "stdout",
     "output_type": "stream",
     "text": [
      "Installing collected packages: tqdm\r\n"
     ]
    },
    {
     "name": "stdout",
     "output_type": "stream",
     "text": [
      "Successfully installed tqdm-4.64.1\r\n"
     ]
    }
   ],
   "source": [
    "!pip install tqdm\n",
    "from tqdm.notebook import tnrange, tqdm"
   ]
  },
  {
   "cell_type": "code",
   "execution_count": 6,
   "metadata": {
    "execution": {
     "iopub.execute_input": "2022-11-05T05:12:31.416938Z",
     "iopub.status.busy": "2022-11-05T05:12:31.416656Z",
     "iopub.status.idle": "2022-11-05T05:12:31.421562Z",
     "shell.execute_reply": "2022-11-05T05:12:31.421022Z"
    }
   },
   "outputs": [],
   "source": [
    "import qcware.types\n",
    "def find_success_probability(n=20, delta=None):\n",
    "    \"\"\" n is the number of runs, if delta is None, then we do not use anneal offsets \"\"\"\n",
    "    \n",
    "    c = 0\n",
    "    for _ in tnrange(n, desc=f\"Delta={delta}\"):\n",
    "        # transform our Q into a BinaryProblem class\n",
    "        objective = qcware.types.optimization.PolynomialObjective(\n",
    "            polynomial=Q,\n",
    "            num_variables=N,\n",
    "            domain='boolean'\n",
    "        )\n",
    "        problem = qcware.types.optimization.BinaryProblem(objective=objective)\n",
    "        # call qcware's optimize_binary function for solving QUBOs\n",
    "        res = forge.optimization.optimize_binary(instance=problem, backend='dwave/2000q', dwave_anneal_offsets_delta=delta)\n",
    "        # check if we found a correct solution\n",
    "        if is_correct_solution(res.lowest_value_bitstring):\n",
    "            c += 1\n",
    "    \n",
    "    return c / n"
   ]
  },
  {
   "cell_type": "markdown",
   "metadata": {},
   "source": [
    "Finally, let's compare the performances! We will solve the ASC problem for various values of $\\delta$ and see how the success probability changes. **The following cell will take few minutes to complete.** *Note: we have found that using our anneal offsets method tends to give significantly better results when solving the ASC problem than standard quantum annealing; however, quantum annealing is inherently probabilistic and therefore may not always give the same results. Run this notebook a few times, or increase the value of `n` in the `find_success_probability` function to get better statistics!*\n",
    "\n",
    "Note: this cell is commented out by default because it can take over 20-30 minutes to run--just uncomment it to try it!"
   ]
  },
  {
   "cell_type": "code",
   "execution_count": 7,
   "metadata": {
    "execution": {
     "iopub.execute_input": "2022-11-05T05:12:31.423832Z",
     "iopub.status.busy": "2022-11-05T05:12:31.423630Z",
     "iopub.status.idle": "2022-11-05T05:12:31.426553Z",
     "shell.execute_reply": "2022-11-05T05:12:31.426036Z"
    }
   },
   "outputs": [],
   "source": [
    "# standard = find_success_probability()\n",
    "# print(\"Standard quantum annealing found a success probability of\", standard)\n",
    "# forge.config.set_client_timeout(20*60)\n",
    "# for delta in (.01, .02, .03, .04, .05):\n",
    "#     sp = find_success_probability(delta=delta)\n",
    "#     print(\"The anneal offsets heuristic with delta =\", delta, \"found a success probability of\", sp)"
   ]
  },
  {
   "cell_type": "markdown",
   "metadata": {},
   "source": [
    "## 4. Further Documentation and Support  <a id=\"doc_and_support\"></a>\n",
    "Please see our [publication](https://arxiv.org/abs/1806.11091) for a detailed description of our anneal offsets method.\n",
    "\n",
    "For more examples of how to use the platform to solve real-world problems, please take a moment to look through our demos. We recommend exploring these demos as a next step towards harnessing the power of the quantum cloud for your applications.\n",
    "\n",
    "Complete documentation for all functions and parameters is available at https://qcware.readthedocs.io/en/latest/. For further support, please do not hesitate to contact the QC Ware team at support@qcware.com.\n",
    "\n",
    "<a href=\"#top\">Back to Table of Contents</a>"
   ]
  }
 ],
 "metadata": {
  "kernelspec": {
   "display_name": "Python 3",
   "language": "python",
   "name": "python3"
  },
  "language_info": {
   "codemirror_mode": {
    "name": "ipython",
    "version": 3
   },
   "file_extension": ".py",
   "mimetype": "text/x-python",
   "name": "python",
   "nbconvert_exporter": "python",
   "pygments_lexer": "ipython3",
   "version": "3.9.2"
  }
 },
 "nbformat": 4,
 "nbformat_minor": 4
}
