{
 "cells": [
  {
   "cell_type": "markdown",
   "metadata": {},
   "source": [
    "<a id='top'></a>\n",
    "# A Quantum Approach for Set Cover #\n",
    "\n",
    "## Table of Contents\n",
    "1. [Introduction](#set_introduction)\n",
    "2. [Weighted Set Cover Problem](#set_cover_problem)\n",
    "3. [Classical Solution using OR-Tools](#classical_solution_OR_Tools)\n",
    "4. [Conversion of Set Cover to the Quantum Regime](#set_cover_quantum_regime)\n",
    "5. [Setting up the Problem Using the QC Ware Client API](#qcware_client_API)\n",
    "    <br>5.a. [Execution via IBM's Qiskit using the QC Ware API](#qcware_API_IBM_qiskit)\n",
    "    <br>5.b. [Execution via a brute-force simulator](#brute_force_simulator)\n",
    "    <br>5.c. [Execution via D-Wave's Systems Quantum Annealer using the QC Ware API](#quantum_annealer_API_dwave)\n",
    "  \n",
    "\n",
    "## 1. Introduction <a id=\"set_introduction\"></a>\n",
    "Our next example is a solver for the set cover problem. Given a set of elements $\\mathcal{\\{1,2,...,n\\}}$ (called the universe) and a collection $\\mathcal{S}$ of $\\mathcal{m}$ sets whose union equals the universe, the set cover problem is to identify the smallest sub-collection of $\\mathcal{S}$ whose union equals the universe. For example, consider the universe $\\mathcal{U=\\{1,2,3,4,5\\}}$ and the collection of sets $\\mathcal{S=\\{\\{1,2,3\\},\\{2,4\\},\\{3,4\\},\\{4,5\\}\\}}$. Clearly the union of $\\mathcal{S}$ is $\\mathcal{U}$. However, we can cover all of the elements with the following, smaller number of sets: $\\mathcal{S=\\{\\{1,2,3\\}, \\{4,5\\}\\}}$[<sup>1</sup>](https://en.wikipedia.org/wiki/Set_cover_problem).\n",
    "\n",
    "Let's say you run a top secret lab and you'd like to hire a group of security personnel that will watch that lab for 24 hours each day. But you're also on a budget so you don't want to hire more people than you have to. You get a list of candidates and each candidate tells you what times they're available for. Your job is to find the smallest number of candidates such that all hours of the day are accounted for, which is in essence, a set cover problem.\n",
    "\n",
    "Maybe we have five candidates and there are four 6 hour time slots we're trying to fill. A visual representation of the candidates and their availability might look like this:\n",
    "\n",
    "![](https://files.slack.com/files-pri/T24940PQV-FDD3C4RT3/example_table.png?pub_secret=908ab1bfbb)\n",
    "\n",
    "We can see that there are a couple of ways that we could hire candidates to fill up the available time slots. For instance, hiring A, C, and D works, but so does hiring B and E. Since the second option requires hiring only two candidates rather than three, it satisfies the conditions of the set cover problem by giving us the minimum number of candidates required to fill our time space."
   ]
  },
  {
   "cell_type": "markdown",
   "metadata": {},
   "source": [
    "***\n",
    "# 2. Weighted Set Cover Problem <a id=\"set_cover_problem\"></a>\n",
    "\n",
    "The problem that we describe above is an example of a **weighted set cover** problem. This is a classic problem in combinatorial optimization. \n",
    "\n",
    "We can formulate the problem as an integer (binary) optimization problem. Assign a binary variable $x_t \\in \\{0,1\\}$ for every element $t \\in \\mathcal{T}$, which will be referred to as **subset indicator variables**. Also for all $t \\in \\mathcal{T}$, and $s \\in \\mathcal{S}$, we define $c_{ts} = 1$ if $s \\in t$, and $c_{ts} = 0$ if $s \\notin t$. Then our weighted set cover problem goals can be expressed by the following MILP (Mixed-Integer Linear Program):\n",
    "\n",
    "$$\n",
    "\\begin{equation}\n",
    "\\begin{split}\n",
    "\\text{minimize} \\;\\; & \\sum_{t \\in \\mathcal{T}} w(t) \\; x_t  \\\\\n",
    "\\text{subject to} \\;\\; & \\sum_{t \\in \\mathcal{T}} c_{ts} x_t \\geq 1, \\;\\; \\forall \\;\\; s \\in \\mathcal{S}  \\\\\n",
    "& x_t \\in \\{0,1\\}, \\;\\; \\forall \\;\\; t \\in \\mathcal{T}.\n",
    "\\end{split}\n",
    "\\end{equation}\n",
    "$$\n",
    "\n",
    "The first constraint expresses the fact that each element $s \\in \\mathcal{S}$ must be covered by at least one element $t \\in \\mathcal{T}$, which is the **set cover** constraint, from which the problem derives its name."
   ]
  },
  {
   "cell_type": "markdown",
   "metadata": {},
   "source": [
    "***\n",
    "Now let's apply this to our example above. Suppose $\\mathcal{S}$ = time_slots = $\\mathcal\\{1,2,3,4\\}$, and let $\\mathcal{T}$ = candidates = $\\mathcal\\{a,b,c,d,e\\}$, where \n",
    "\n",
    "$$\n",
    "\\begin{equation}\n",
    "\\begin{split}\n",
    "a &= \\{1\\} \\\\\n",
    "b &= \\{1,3\\} \\\\\n",
    "c &= \\{3,4\\} \\\\\n",
    "d &= \\{2\\} \\\\\n",
    "e &= \\{2,4\\}\n",
    "\\end{split}\n",
    "\\end{equation}\n",
    "$$\n",
    "\n",
    "We will represent $c_{ts}$ using a cost matrix $C$ defined below, with rows representing each of the 5 candidates, and columns representing their availability for each time slot (1 for available, 0 for not available)\n",
    "\n",
    "$$\n",
    "C = \n",
    "\\begin{bmatrix}\n",
    "1 & 0 & 0 & 0 \\\\\n",
    "1 & 0 & 1 & 0 \\\\\n",
    "0 & 0 & 1 & 1 \\\\\n",
    "0 & 1 & 0 & 0 \\\\\n",
    "0 & 1 & 0 & 1\n",
    "\\end{bmatrix}\n",
    "\\;\\;\n",
    "$$\n",
    "\n",
    "We also need to define a cost function $w$, which will tell us how much it costs to employ an employee for a single shift. To simplify things, we'll just say that all shifts have a cost of 1: \n",
    "\n",
    "$$w(t) = 1$$ \n",
    "\n",
    "Thus, we're trying to pick the combination of candidates that minimizes the number of shifts we have to pay for while still covering all shifts available."
   ]
  },
  {
   "cell_type": "markdown",
   "metadata": {},
   "source": [
    "***\n",
    "## 3. Classical solution using ```OR-Tools```<a id=\"classical_solution_OR_Tools\"></a>\n",
    "```OR-Tools``` is an open source software suite for optimization available from Google, which can be used with both commercial and open-source solvers. In this example we will use Google's ```GLOP``` solver which comes standard with the ```OR-Tools``` installation. More information on ```OR-Tools``` can be found at the <a href=\"https://developers.google.com/optimization/introduction/overview\" style=\"text-decoration: none;\">OR-Tools homepage</a>. The user guide can be found <a href=\"https://jupyter-notebook.readthedocs.io/en/stable/notebook.html\" style=\"text-decoration: none;\">here</a>, which contains extensive documentation and lots of examples.\n",
    "\n",
    "We now go through the step by step solution for the set cover problem in Python, using ```ortools```."
   ]
  },
  {
   "cell_type": "markdown",
   "metadata": {},
   "source": [
    "We first import the solver library from ```ortools```."
   ]
  },
  {
   "cell_type": "code",
   "execution_count": 1,
   "metadata": {
    "execution": {
     "iopub.execute_input": "2022-02-28T05:23:21.379488Z",
     "iopub.status.busy": "2022-02-28T05:23:21.378503Z",
     "iopub.status.idle": "2022-02-28T05:23:25.009906Z",
     "shell.execute_reply": "2022-02-28T05:23:25.009215Z"
    }
   },
   "outputs": [
    {
     "name": "stdout",
     "output_type": "stream",
     "text": [
      "Requirement already satisfied: ortools in /opt/venv/lib/python3.9/site-packages (9.2.9972)\r\n",
      "Requirement already satisfied: protobuf>=3.19.1 in /opt/venv/lib/python3.9/site-packages (from ortools) (3.19.4)\r\n",
      "Requirement already satisfied: absl-py>=0.13 in /opt/venv/lib/python3.9/site-packages (from ortools) (1.0.0)\r\n",
      "Requirement already satisfied: numpy>=1.13.3 in /opt/venv/lib/python3.9/site-packages (from ortools) (1.21.2)\r\n",
      "Requirement already satisfied: six in /opt/venv/lib/python3.9/site-packages (from absl-py>=0.13->ortools) (1.16.0)\r\n"
     ]
    }
   ],
   "source": [
    "from qcware import forge\n",
    "# this line is for internal tracking; it is not necessary for use!\n",
    "forge.config.set_environment_source_file('set_cover.ipynb')\n",
    "\n",
    "#NBVAL_IGNORE_OUTPUT\n",
    "!pip install ortools\n",
    "from ortools.linear_solver import pywraplp"
   ]
  },
  {
   "cell_type": "markdown",
   "metadata": {},
   "source": [
    "We now represent the problem data and print it for the user."
   ]
  },
  {
   "cell_type": "code",
   "execution_count": 2,
   "metadata": {
    "execution": {
     "iopub.execute_input": "2022-02-28T05:23:25.019235Z",
     "iopub.status.busy": "2022-02-28T05:23:25.018274Z",
     "iopub.status.idle": "2022-02-28T05:23:25.024180Z",
     "shell.execute_reply": "2022-02-28T05:23:25.023621Z"
    }
   },
   "outputs": [
    {
     "name": "stdout",
     "output_type": "stream",
     "text": [
      "The time slots are:\n",
      "1\n",
      "2\n",
      "3\n",
      "4\n",
      "\n",
      "\n",
      "The candidates' available times:\n",
      "a : {1}\n",
      "b : {1, 3}\n",
      "c : {3, 4}\n",
      "d : {2}\n",
      "e : {2, 4}\n"
     ]
    }
   ],
   "source": [
    "# Represent the problem data\n",
    "time_slots = [1, 2, 3, 4]\n",
    "candidates = {'a':{1}, 'b':{1, 3}, 'c':{3, 4}, 'd':{2}, 'e':{2,4}}\n",
    "\n",
    "# Print the problem\n",
    "print(\"The time slots are:\")\n",
    "for item in time_slots:\n",
    "    print(item)\n",
    "\n",
    "print(\"\\n\")\n",
    "print(\"The candidates' available times:\")\n",
    "for key, val in candidates.items():\n",
    "    print(key, \":\", val)"
   ]
  },
  {
   "cell_type": "markdown",
   "metadata": {},
   "source": [
    "Next we instantiate the classical solver, and obtain the ```solver``` object."
   ]
  },
  {
   "cell_type": "code",
   "execution_count": 3,
   "metadata": {
    "execution": {
     "iopub.execute_input": "2022-02-28T05:23:25.029580Z",
     "iopub.status.busy": "2022-02-28T05:23:25.028835Z",
     "iopub.status.idle": "2022-02-28T05:23:25.031786Z",
     "shell.execute_reply": "2022-02-28T05:23:25.031134Z"
    }
   },
   "outputs": [],
   "source": [
    "# Instantiate a mixed-integer solver, naming it Weighted-Set-Cover\n",
    "solver = pywraplp.Solver('Weighted-Set-Cover', pywraplp.Solver.CBC_MIXED_INTEGER_PROGRAMMING)"
   ]
  },
  {
   "cell_type": "markdown",
   "metadata": {},
   "source": [
    "First, we define the binary problem variables."
   ]
  },
  {
   "cell_type": "code",
   "execution_count": 4,
   "metadata": {
    "execution": {
     "iopub.execute_input": "2022-02-28T05:23:25.037878Z",
     "iopub.status.busy": "2022-02-28T05:23:25.037211Z",
     "iopub.status.idle": "2022-02-28T05:23:25.040415Z",
     "shell.execute_reply": "2022-02-28T05:23:25.039859Z"
    }
   },
   "outputs": [],
   "source": [
    "# Define integer binary variables.\n",
    "xa = solver.IntVar(0, 1, 'a')\n",
    "xb = solver.IntVar(0, 1, 'b')\n",
    "xc = solver.IntVar(0, 1, 'c')\n",
    "xd = solver.IntVar(0, 1, 'd')\n",
    "xe = solver.IntVar(0, 1, 'e')"
   ]
  },
  {
   "cell_type": "markdown",
   "metadata": {},
   "source": [
    "Next, we set the constraints of the problem. To get the constraints, we simply read down each column of the cost matrix $C$. For instance, column 1 represents the first time slot. Since candidates A and B are the only ones available at this time, our first constraint is that we must hire either candidate A or B (or both)."
   ]
  },
  {
   "cell_type": "code",
   "execution_count": 5,
   "metadata": {
    "execution": {
     "iopub.execute_input": "2022-02-28T05:23:25.048197Z",
     "iopub.status.busy": "2022-02-28T05:23:25.047556Z",
     "iopub.status.idle": "2022-02-28T05:23:25.050646Z",
     "shell.execute_reply": "2022-02-28T05:23:25.050053Z"
    }
   },
   "outputs": [],
   "source": [
    "# Constraint 1: xa + xb >= 1\n",
    "constraint1 = solver.Constraint(1, solver.infinity())\n",
    "constraint1.SetCoefficient(xa, 1)\n",
    "constraint1.SetCoefficient(xb, 1)\n",
    "\n",
    "# Constraint 2: xd + xe >= 1\n",
    "constraint2 = solver.Constraint(1, solver.infinity())\n",
    "constraint2.SetCoefficient(xd, 1)\n",
    "constraint2.SetCoefficient(xe, 1)\n",
    "\n",
    "# Constraint 3: xb + xc >= 1\n",
    "constraint3 = solver.Constraint(1, solver.infinity())\n",
    "constraint3.SetCoefficient(xb, 1)\n",
    "constraint3.SetCoefficient(xc, 1)\n",
    "\n",
    "# Constraint 4: xc + xe >= 1\n",
    "constraint4 = solver.Constraint(1, solver.infinity())\n",
    "constraint4.SetCoefficient(xc, 1)\n",
    "constraint4.SetCoefficient(xe, 1)"
   ]
  },
  {
   "cell_type": "markdown",
   "metadata": {},
   "source": [
    "The objective function for the problem is then set."
   ]
  },
  {
   "cell_type": "code",
   "execution_count": 6,
   "metadata": {
    "execution": {
     "iopub.execute_input": "2022-02-28T05:23:25.056038Z",
     "iopub.status.busy": "2022-02-28T05:23:25.055440Z",
     "iopub.status.idle": "2022-02-28T05:23:25.058385Z",
     "shell.execute_reply": "2022-02-28T05:23:25.057842Z"
    }
   },
   "outputs": [],
   "source": [
    "# Minimize xa + xb + xc + xd + xe\n",
    "objective = solver.Objective()\n",
    "objective.SetCoefficient(xa, 1)\n",
    "objective.SetCoefficient(xb, 1)\n",
    "objective.SetCoefficient(xc, 1)\n",
    "objective.SetCoefficient(xd, 1)\n",
    "objective.SetCoefficient(xe, 1)\n",
    "objective.SetMinimization()"
   ]
  },
  {
   "cell_type": "markdown",
   "metadata": {},
   "source": [
    "We finally solve the problem and then verify that an optimal solution has been found."
   ]
  },
  {
   "cell_type": "code",
   "execution_count": 7,
   "metadata": {
    "execution": {
     "iopub.execute_input": "2022-02-28T05:23:25.066682Z",
     "iopub.status.busy": "2022-02-28T05:23:25.065866Z",
     "iopub.status.idle": "2022-02-28T05:23:25.068607Z",
     "shell.execute_reply": "2022-02-28T05:23:25.068109Z"
    }
   },
   "outputs": [],
   "source": [
    "# Solve the problem and print the solution\n",
    "result_status = solver.Solve()\n",
    "\n",
    "# Verify the problem has an optimal solution.\n",
    "assert result_status == pywraplp.Solver.OPTIMAL"
   ]
  },
  {
   "cell_type": "markdown",
   "metadata": {},
   "source": [
    "Let's print the solution to confirm the result."
   ]
  },
  {
   "cell_type": "code",
   "execution_count": 8,
   "metadata": {
    "execution": {
     "iopub.execute_input": "2022-02-28T05:23:25.074813Z",
     "iopub.status.busy": "2022-02-28T05:23:25.073998Z",
     "iopub.status.idle": "2022-02-28T05:23:25.077292Z",
     "shell.execute_reply": "2022-02-28T05:23:25.077745Z"
    }
   },
   "outputs": [
    {
     "name": "stdout",
     "output_type": "stream",
     "text": [
      "\n",
      "\n",
      "The best candidates are:\n",
      "b :  {1, 3}\n",
      "e :  {2, 4}\n"
     ]
    }
   ],
   "source": [
    "# Print the selected sets in the optimal solution\n",
    "print(\"\\n\")\n",
    "print(\"The best candidates are:\")\n",
    "for item in ['a', 'b', 'c', 'd', 'e']:\n",
    "    var = solver.LookupVariable(item)\n",
    "    if var.solution_value() == 1:\n",
    "        print(item, \": \", candidates[item])"
   ]
  },
  {
   "cell_type": "markdown",
   "metadata": {},
   "source": [
    "***\n",
    "## 4. Conversion of Set Cover to the Quantum Regime <a id=\"set_cover_quantum_regime\"></a>\n",
    "We're now ready to look at how to solve this problem in the quantum regime. We first need to convert our problem into a quadratic unconstrained binary optimazation, or QUBO, problem. One advantage to this approach is that it makes the problem ammenable to both existing annealing and gate-based quantum computing hardware architectures.\n",
    "\n",
    "For Operations Research professionals wondering how to formulate their problems as a QUBO, this paper <a href=\"https://arxiv.org/pdf/1302.5843.pdf\" style=\"text-decoration: none;\">Ising formulations of many NP problems</a>, by Andrew Lucas, 2014, gives Ising formulations of many NP problems, which one can in turn use to obtain the QUBO forms suitable for multiple backend solvers. In particular, the paper also covers the **set cover** problem. We will follow the same method outlined in this paper.\n",
    "\n",
    "**Note: There are many ways to convert the set cover problem to QUBO form. Here we focus on a particular reduction.**\n",
    "\n",
    "We recall the set cover problem expressed as an optimization problem\n",
    "\n",
    "$$\n",
    "\\begin{equation}\n",
    "\\begin{split}\n",
    "\\text{minimize} \\;\\; & \\sum_{t \\in \\mathcal{T}} w(t) \\; x_t  \\\\\n",
    "\\text{subject to} \\;\\; & \\sum_{t \\in \\mathcal{T}} c_{ts} x_t \\geq 1, \\;\\; \\forall \\;\\; s \\in \\mathcal{S}  \\\\\n",
    "& x_t \\in \\{0,1\\}, \\;\\; \\forall \\;\\; t \\in \\mathcal{T}.\n",
    "\\end{split}\n",
    "\\end{equation}\n",
    "$$\n",
    "\n",
    "The basic idea of the reduction in the <a href=\"https://arxiv.org/pdf/1302.5843.pdf\" style=\"text-decoration: none;\">Lucas' paper</a> is to introduce additional binary variables into the problem, and find an equivalent problem where the system of inequality constraints become equality constraints. To this extent we introduce the binary variables $y_{s,m}$ which serve as a count of the number of times each element of $\\mathcal{S}$ has been covered. Specifically\n",
    "\n",
    "$$\n",
    "y_{s,m} =\n",
    "\\begin{cases}\n",
    "1 & \\;\\; \\text{if} \\;\\; s \\in \\mathcal{S} \\text{ is covered } m \\text{ times} \\\\\n",
    "0 & \\;\\; \\text{otherwise}.\n",
    "\\end{cases}\n",
    "$$\n",
    "\n",
    "The variables $y_{s,m}$ will be called **ancilla binary variables**. We want each element to be covered at least once, and thus we need $m \\geq 1$. However we can also easily find an upper bound on $m$, namely the maximum number of times any element will be covered if we included all the elements $t \\in \\mathcal{T}$ in our solution. Let this number be $M$.\n",
    "\n",
    "Now for every element $s \\in \\mathcal{S}$, exactly one of the variables $y_{s,m}$ is $1$, and all the rest are $0$, for all $1 \\leq m \\leq M$, and for fixed $s$, and thus we have the following constraints\n",
    "\n",
    "$$\n",
    "\\begin{split}\n",
    "& \\sum_{m=1}^{M} y_{s,m} = 1 \\\\\n",
    "& \\sum_{m=1}^{M} m y_{s,m} = \\sum_{t \\in \\mathcal{T}} c_{ts} x_t,\n",
    "\\end{split}\n",
    "$$\n",
    "\n",
    "for all $s \\in \\mathcal{S}$.\n",
    "\n",
    "We can thus restate the goals of the weighted set cover problem as the following equivalent binary optimization problem:\n",
    "\n",
    "$$\n",
    "\\begin{equation}\n",
    "\\begin{split}\n",
    "\\text{minimize} \\;\\; & \\sum_{t \\in \\mathcal{T}} w(t) \\; x_t \\\\\n",
    "\\text{subject to} \\;\\; & \\sum_{m=1}^{M} y_{s,m} = 1, \\;\\; \\forall \\;\\; s \\in \\mathcal{S} \\\\\n",
    "& \\sum_{m=1}^{M} m y_{s,m} = \\sum_{t \\in \\mathcal{T}} c_{ts} x_t, \\;\\; \\forall \\;\\; s \\in \\mathcal{S} \\\\\n",
    "& x_t \\in \\{0,1\\}, \\;\\; \\forall \\;\\; t \\in \\mathcal{T}.\n",
    "\\end{split}\n",
    "\\end{equation}\n",
    "$$\n",
    "\n",
    "The final step involves conversion of the above optimization problem into QUBO form, by including the equality constraints into the objective function as a penalty term after squaring and summing all of them, leading to the following problem:\n",
    "\n",
    "$$\n",
    "\\begin{equation}\n",
    "\\begin{split}\n",
    "\\text{minimize} \\;\\; & H_A + H_B  \\\\\n",
    "\\text{subject to} \\;\\; & x_t \\in \\{0,1\\}, \\;\\; \\forall \\;\\; t \\in \\mathcal{T},\n",
    "\\end{split}\n",
    "\\end{equation}\n",
    "$$\n",
    "\n",
    "where\n",
    "\n",
    "$$\n",
    "\\begin{equation}\n",
    "\\begin{split}\n",
    "H_A &= A \\sum_{s \\in \\mathcal{S}} \\left( \\sum_{m=1}^{M} y_{s,m} - 1 \\right)^2 + A \\sum_{s \\in \\mathcal{S}} \\left( \\sum_{m=1}^{M} m y_{s,m} - \\sum_{t \\in \\mathcal{T}} c_{ts} x_t \\right)^2 \\\\\n",
    "H_B &= \\sum_{t \\in \\mathcal{T}} w(t) \\; x_t \\;,\n",
    "\\end{split}\n",
    "\\end{equation}\n",
    "$$\n",
    "and $A$ is a sufficiently large constant.\n",
    "\n",
    "The problem we obtained reduces to the formulation of set cover in the <a href=\"https://arxiv.org/pdf/1302.5843.pdf\" style=\"text-decoration: none;\">Lucas' paper</a>, for the special case $w(t) = 1$, for all $t \\in \\mathcal{T}$.\n",
    "\n",
    "Using QC Ware's API, we can solve this problem with the `optimize_binary()` function.  With the `optimize_binary()` function, the user has the option to choose from a number of different backend solvers.  Without having to change the way the QUBO is input, QC Ware's tools then automatically formulate the problem in a way that is suitable for the selected solver's corresponding software and hardware environment.  For this particular example, we will demonstrate how to use two solvers on the QC Ware API. The first is `qiskit_aqua_qaoa`, which is an implementation of the QAOA algorithm [<sup>2</sup>](https://arxiv.org/abs/1411.4028) for (classical) energy minimization problems of the Ising model, developed using IBM's Qiskit [<sup>3</sup>](https://qiskit.org) Aqua [<sup>4</sup>](https://qiskit.org/aqua) software framework. The second solver is the D-Wave quantum annealing-based hardware."
   ]
  },
  {
   "cell_type": "markdown",
   "metadata": {},
   "source": [
    "***\n",
    "## 5. Setting up the Problem Using the QC Ware Client API <a id=\"qcware_client_API\"></a>\n",
    "We first have to import the QC Ware module and enter your API key (you can find your API key on your dashboard on [Forge](https://forge.qcware.com))\n",
    "\n",
    "We'll also import python's pretty-printing module `pprint` for a few displays."
   ]
  },
  {
   "cell_type": "code",
   "execution_count": 9,
   "metadata": {
    "execution": {
     "iopub.execute_input": "2022-02-28T05:23:25.082004Z",
     "iopub.status.busy": "2022-02-28T05:23:25.081314Z",
     "iopub.status.idle": "2022-02-28T05:23:25.083858Z",
     "shell.execute_reply": "2022-02-28T05:23:25.084308Z"
    }
   },
   "outputs": [],
   "source": [
    "import qcware.types\n",
    "import pprint"
   ]
  },
  {
   "cell_type": "markdown",
   "metadata": {},
   "source": [
    "We'll then define the various time slots we're looking to fill by representing them sequentially as time-slot 1, 2, 3, or 4:"
   ]
  },
  {
   "cell_type": "code",
   "execution_count": 10,
   "metadata": {
    "execution": {
     "iopub.execute_input": "2022-02-28T05:23:25.088975Z",
     "iopub.status.busy": "2022-02-28T05:23:25.088376Z",
     "iopub.status.idle": "2022-02-28T05:23:25.091333Z",
     "shell.execute_reply": "2022-02-28T05:23:25.090778Z"
    }
   },
   "outputs": [],
   "source": [
    "time_slots = {1, 2, 3, 4}"
   ]
  },
  {
   "cell_type": "markdown",
   "metadata": {},
   "source": [
    "We define our candidates a dictionary mapping the candidate name to the time slots that they can cover."
   ]
  },
  {
   "cell_type": "code",
   "execution_count": 11,
   "metadata": {
    "execution": {
     "iopub.execute_input": "2022-02-28T05:23:25.096238Z",
     "iopub.status.busy": "2022-02-28T05:23:25.095676Z",
     "iopub.status.idle": "2022-02-28T05:23:25.098535Z",
     "shell.execute_reply": "2022-02-28T05:23:25.098046Z"
    }
   },
   "outputs": [],
   "source": [
    "candidates = {\n",
    "    'cA': {1}, \n",
    "    'cB': {1, 3}, \n",
    "    'cC': {3, 4}, \n",
    "    'cD': {2}, \n",
    "    'cE': {2, 4}\n",
    "}"
   ]
  },
  {
   "cell_type": "markdown",
   "metadata": {},
   "source": [
    "Because of the way that we have to formulate the problem as a QUBO, we also have to define a variable `B` as the cost of having a set. In our example, we can this of this as how many salaries we have to pay for each candidate that we hire. So, we set B = 1 since each person we hire will cost us one salary and our job will be to minimize the number of salaries we have to pay. We'll also define a variable `A`, which is an arbitrary coefficient necessary for formulating the problem and is equivalent to the \"big-M\" parameter in mathematical modeling."
   ]
  },
  {
   "cell_type": "code",
   "execution_count": 12,
   "metadata": {
    "execution": {
     "iopub.execute_input": "2022-02-28T05:23:25.103253Z",
     "iopub.status.busy": "2022-02-28T05:23:25.102381Z",
     "iopub.status.idle": "2022-02-28T05:23:25.105271Z",
     "shell.execute_reply": "2022-02-28T05:23:25.104686Z"
    }
   },
   "outputs": [],
   "source": [
    "B = 1.0\n",
    "A = 3.0"
   ]
  },
  {
   "cell_type": "markdown",
   "metadata": {},
   "source": [
    "We now have to generate a Q matrix that fits the QUBO formulation that we defined earlier. For a more detailed description of the format expected for the Q matrix by the QC Ware API, please see the Getting Started Guide."
   ]
  },
  {
   "cell_type": "markdown",
   "metadata": {},
   "source": [
    "We next want to initialize the Q dictionary. Keys of Q will be represented by tuples (i,j), which correspond to an (i,j) position in the Q-matrix. The values within Q are the matrix element in the (i,j) position of the Q-matrix. Will use the Python package `qubovert` to deal with our QUBO manipulations. We will create a Polynomial Constrained Boolean Optimization (PCBO) object. \n",
    "\n",
    "First we create our boolean variables $x_t$."
   ]
  },
  {
   "cell_type": "code",
   "execution_count": 13,
   "metadata": {
    "execution": {
     "iopub.execute_input": "2022-02-28T05:23:25.110146Z",
     "iopub.status.busy": "2022-02-28T05:23:25.109598Z",
     "iopub.status.idle": "2022-02-28T05:23:25.112682Z",
     "shell.execute_reply": "2022-02-28T05:23:25.113206Z"
    }
   },
   "outputs": [],
   "source": [
    "# !pip install qubovert\n",
    "from qubovert import boolean_var\n",
    "\n",
    "x = {c: boolean_var(c) for c in candidates}"
   ]
  },
  {
   "cell_type": "markdown",
   "metadata": {},
   "source": [
    "Next we create the objective function that we want to minimize, $$H = B\\sum_{t \\in \\mathcal{T}} x_t.$$"
   ]
  },
  {
   "cell_type": "code",
   "execution_count": 14,
   "metadata": {
    "execution": {
     "iopub.execute_input": "2022-02-28T05:23:25.118443Z",
     "iopub.status.busy": "2022-02-28T05:23:25.117756Z",
     "iopub.status.idle": "2022-02-28T05:23:25.121162Z",
     "shell.execute_reply": "2022-02-28T05:23:25.120580Z"
    }
   },
   "outputs": [
    {
     "name": "stdout",
     "output_type": "stream",
     "text": [
      "{('cA',): 1.0, ('cB',): 1.0, ('cC',): 1.0, ('cD',): 1.0, ('cE',): 1.0}\n"
     ]
    }
   ],
   "source": [
    "H = B * sum(x.values())\n",
    "pprint.pprint(H)"
   ]
  },
  {
   "cell_type": "markdown",
   "metadata": {},
   "source": [
    "Next we add the constraint that \n",
    "$$\\forall \\;\\; s \\in \\mathcal{S} \\quad \\sum_{t \\in \\mathcal{T}} c_{ts} x_t \\geq 1,$$\n",
    "or equivalently,\n",
    "$$\\forall \\;\\; s \\in \\mathcal{S} \\quad \\sum_{t \\in \\mathcal{T}} c_{ts} x_t - 1\\geq 0.$$\n",
    "We enforce this constraint with the lagrange multiplier $\\lambda = A$. "
   ]
  },
  {
   "cell_type": "code",
   "execution_count": 15,
   "metadata": {
    "execution": {
     "iopub.execute_input": "2022-02-28T05:23:25.129799Z",
     "iopub.status.busy": "2022-02-28T05:23:25.129185Z",
     "iopub.status.idle": "2022-02-28T05:23:25.137859Z",
     "shell.execute_reply": "2022-02-28T05:23:25.138537Z"
    }
   },
   "outputs": [
    {
     "name": "stdout",
     "output_type": "stream",
     "text": [
      "{(): 12.0,\n",
      " ('cA',): -2.0,\n",
      " ('cB',): -5.0,\n",
      " ('cB', 'cA'): 3.0,\n",
      " ('cB', 'cC'): 3.0,\n",
      " ('cC',): -5.0,\n",
      " ('cD',): -2.0,\n",
      " ('cE',): -5.0,\n",
      " ('cE', 'cC'): 3.0,\n",
      " ('cE', 'cD'): 3.0}\n"
     ]
    }
   ],
   "source": [
    "for t in time_slots:\n",
    "    H.add_constraint_ge_zero(\n",
    "        sum(x[c] for c, v in candidates.items() if t in v) - 1,\n",
    "        lam=A\n",
    "    )\n",
    "    \n",
    "pprint.pprint(H)"
   ]
  },
  {
   "cell_type": "markdown",
   "metadata": {},
   "source": [
    "Notice that ancilla variables were added to enforce the inequality constraints., labeled by `'__a'`."
   ]
  },
  {
   "cell_type": "markdown",
   "metadata": {},
   "source": [
    "We note that the degree of `H` is only 2 and is therefore already a QUBO."
   ]
  },
  {
   "cell_type": "code",
   "execution_count": 16,
   "metadata": {
    "execution": {
     "iopub.execute_input": "2022-02-28T05:23:25.151103Z",
     "iopub.status.busy": "2022-02-28T05:23:25.150400Z",
     "iopub.status.idle": "2022-02-28T05:23:25.153843Z",
     "shell.execute_reply": "2022-02-28T05:23:25.154290Z"
    }
   },
   "outputs": [
    {
     "data": {
      "text/plain": [
       "2"
      ]
     },
     "execution_count": 16,
     "metadata": {},
     "output_type": "execute_result"
    }
   ],
   "source": [
    "H.degree"
   ]
  },
  {
   "cell_type": "markdown",
   "metadata": {},
   "source": [
    "We will still do the standard procedure since it works even if the degree of `H` is greater than 2."
   ]
  },
  {
   "cell_type": "code",
   "execution_count": 17,
   "metadata": {
    "execution": {
     "iopub.execute_input": "2022-02-28T05:23:25.159904Z",
     "iopub.status.busy": "2022-02-28T05:23:25.159221Z",
     "iopub.status.idle": "2022-02-28T05:23:25.165238Z",
     "shell.execute_reply": "2022-02-28T05:23:25.165714Z"
    }
   },
   "outputs": [
    {
     "name": "stdout",
     "output_type": "stream",
     "text": [
      "{(): 12.0,\n",
      " (0,): -2.0,\n",
      " (0, 1): 3.0,\n",
      " (1,): -5.0,\n",
      " (1, 2): 3.0,\n",
      " (2,): -5.0,\n",
      " (2, 4): 3.0,\n",
      " (3,): -2.0,\n",
      " (3, 4): 3.0,\n",
      " (4,): -5.0}\n"
     ]
    }
   ],
   "source": [
    "qubo = H.to_qubo()\n",
    "pprint.pprint(qubo)"
   ]
  },
  {
   "cell_type": "markdown",
   "metadata": {},
   "source": [
    "### 5.a. Execution via IBM's Qiskit using the QC Ware API<a id=\"qcware_API_IBM_qiskit\"></a>\n",
    "\n",
    "We're now ready to solve the problem using QC Ware's API on the IBM simulator or IBM 20 qubit chip. The following call takes as arguments the BinaryProblem class for any QUBO problem and an API key necessary for authentication, embeds the QUBO problem on IBM's QAOA implementation, initiates the execution, and returns the solution found.\n",
    "\n",
    "At the present time, QAOA simulation takes a long time (upwards of an hour!) so this is commented out; uncomment it if you have some time to spare!"
   ]
  },
  {
   "cell_type": "code",
   "execution_count": 18,
   "metadata": {
    "execution": {
     "iopub.execute_input": "2022-02-28T05:23:25.169895Z",
     "iopub.status.busy": "2022-02-28T05:23:25.169147Z",
     "iopub.status.idle": "2022-02-28T05:23:25.172202Z",
     "shell.execute_reply": "2022-02-28T05:23:25.171641Z"
    }
   },
   "outputs": [],
   "source": [
    "#problem=qcware.types.optimization.BinaryProblem()\n",
    "#problem=problem.set_problem(qubo)\n",
    "\n",
    "#solution = qcware.optimization.optimize_binary(instance=problem, key=QCWARE_API_KEY, solver='ibm_sw_qaoa')"
   ]
  },
  {
   "cell_type": "markdown",
   "metadata": {},
   "source": [
    "### 5.b. Execution via a brute-force simulator<a id=\"brute_force_simulator\"></a>\n",
    "\n",
    "For very small problems, a brute-force approach iterates through every possibility and finds the most optimal result.  For obvious reasons, this is a *terrible* approach for a problem of real size, but is invaluable for troubleshooting and verifying small problems."
   ]
  },
  {
   "cell_type": "code",
   "execution_count": 19,
   "metadata": {
    "execution": {
     "iopub.execute_input": "2022-02-28T05:23:25.181608Z",
     "iopub.status.busy": "2022-02-28T05:23:25.180184Z",
     "iopub.status.idle": "2022-02-28T05:23:25.466583Z",
     "shell.execute_reply": "2022-02-28T05:23:25.465739Z"
    }
   },
   "outputs": [
    {
     "name": "stdout",
     "output_type": "stream",
     "text": [
      "Objective value: -10\n",
      "Solution: (0, 1, 0, 0, 1)\n"
     ]
    }
   ],
   "source": [
    "poly = qcware.types.optimization.PolynomialObjective(\n",
    "    polynomial=qubo.Q,\n",
    "    num_variables=qubo.num_binary_variables,\n",
    "    domain='boolean'\n",
    "    )\n",
    "problem = qcware.types.optimization.BinaryProblem(objective=poly)\n",
    "\n",
    "solution = forge.optimization.optimize_binary(instance=problem, backend='qcware/cpu')\n",
    "print(solution)"
   ]
  },
  {
   "cell_type": "markdown",
   "metadata": {},
   "source": [
    "With this approach to Set Cover, we require up to $N+n(1+\\log N)$ logical variables (recall that $N$ is the number of time slots, and $n$ is the number of candidates).  This means, for instance, that on IBM's $20$-qubit chip, we can in principle run problem sizes where $N+n(1+\\log N)\\leq20$.\n",
    "\n",
    "Lets look at the solution.\n",
    "\n",
    "Notice that we use the `H.convert_solution` method to convert the solution to the QUBO back to the solution to the PCBO. Notice also that we use the `H.remove_ancilla_from_solution` method to remove the ancilla information that was just used to enforce the inequality constraints. Finally, the `H.is_solution_valid` method checks to see if all the constraints are satisfied."
   ]
  },
  {
   "cell_type": "code",
   "execution_count": 20,
   "metadata": {
    "execution": {
     "iopub.execute_input": "2022-02-28T05:23:25.474506Z",
     "iopub.status.busy": "2022-02-28T05:23:25.473693Z",
     "iopub.status.idle": "2022-02-28T05:23:25.477585Z",
     "shell.execute_reply": "2022-02-28T05:23:25.477019Z"
    }
   },
   "outputs": [
    {
     "name": "stdout",
     "output_type": "stream",
     "text": [
      "solution: {'cA': 0, 'cB': 1, 'cC': 0, 'cD': 0, 'cE': 1}\n",
      "solution is valid\n"
     ]
    }
   ],
   "source": [
    "lowest_value_bitstring = solution.lowest_value_bitstring\n",
    "H_solution = H.convert_solution(lowest_value_bitstring)\n",
    "print(\"solution:\", H.remove_ancilla_from_solution(H_solution))\n",
    "\n",
    "print(\"solution is\", \"valid\" if H.is_solution_valid(H_solution) else \"invalid\")"
   ]
  },
  {
   "cell_type": "markdown",
   "metadata": {},
   "source": [
    "We see that the best solution is the one where candidate B and candidate E cover their available times."
   ]
  },
  {
   "cell_type": "markdown",
   "metadata": {},
   "source": [
    "### 5.c. Execution via D-Wave's Systems Quantum Annealer using the QC Ware API<a id=\"quantum_annealer_API_dwave\"></a>\n",
    "\n",
    "Alternatively, we can solve this problem using the same setup and QC Ware's API on the D-Wave Systems Quantum Annealer[<sup>2</sup>](https://www.dwavesys.com/tutorials/background-reading-series/introduction-d-wave-quantum-hardware).\n",
    "\n",
    "The following call takes as arguments the `BinaryProblem` class for any QUBO problem and an API key necessary for authentication, embeds the QUBO problem on the quantum annealing hardware, initiates the quantum annealing process, and returns the best solution found by that process."
   ]
  },
  {
   "cell_type": "code",
   "execution_count": 21,
   "metadata": {
    "execution": {
     "iopub.execute_input": "2022-02-28T05:23:25.488487Z",
     "iopub.status.busy": "2022-02-28T05:23:25.487850Z",
     "iopub.status.idle": "2022-02-28T05:23:36.206587Z",
     "shell.execute_reply": "2022-02-28T05:23:36.205910Z"
    }
   },
   "outputs": [
    {
     "name": "stdout",
     "output_type": "stream",
     "text": [
      "Objective value: -10\n",
      "Solution: (0, 1, 0, 0, 1)\n"
     ]
    }
   ],
   "source": [
    "poly = qcware.types.optimization.PolynomialObjective(\n",
    "    polynomial=qubo.Q,\n",
    "    num_variables=qubo.num_binary_variables,\n",
    "    domain='boolean'\n",
    "    )\n",
    "problem = qcware.types.optimization.BinaryProblem(objective=poly)\n",
    "\n",
    "solution = forge.optimization.optimize_binary(instance=problem, backend='dwave/2000q')\n",
    "print(solution)"
   ]
  },
  {
   "cell_type": "markdown",
   "metadata": {},
   "source": [
    "The round trip time for this quantum computation is approximately 5 seconds and is independent of the size of the problem. With the default parameters during the \"optimize_binary\" call the quantum annealer actually runs the problem 10,000 times, each one taking approximately 5 micro-seconds. We then select the best solution found by the annealer across all these runs and return that back to the user. \n",
    "\n",
    "With this approach to Set Cover, we require up to $N+n(1+\\log N)$ (we briefly recall again that $N$ is the number of time slots, and $n$ is the number of candidates) logical variables.  This means that on an D-Wave 2000Q, we can in principle run problem sizes where $N+n(1+\\log N)\\leq60$.\n",
    "\n",
    "We can display the solution just as we did above:"
   ]
  },
  {
   "cell_type": "code",
   "execution_count": 22,
   "metadata": {
    "execution": {
     "iopub.execute_input": "2022-02-28T05:23:36.212490Z",
     "iopub.status.busy": "2022-02-28T05:23:36.211854Z",
     "iopub.status.idle": "2022-02-28T05:23:36.215284Z",
     "shell.execute_reply": "2022-02-28T05:23:36.215745Z"
    }
   },
   "outputs": [
    {
     "name": "stdout",
     "output_type": "stream",
     "text": [
      "solution: {'cA': 0, 'cB': 1, 'cC': 0, 'cD': 0, 'cE': 1}\n",
      "solution is valid\n"
     ]
    }
   ],
   "source": [
    "H_solution = H.convert_solution(solution.lowest_value_bitstring)\n",
    "print(\"solution:\", H.remove_ancilla_from_solution(H_solution))\n",
    "\n",
    "print(\"solution is\", \"valid\" if H.is_solution_valid(H_solution) else \"invalid\")"
   ]
  },
  {
   "cell_type": "markdown",
   "metadata": {},
   "source": [
    "Looking back at the figure from earlier, we can easily verify the correctness of the solution. However, it is not necessarily optimal (whereas brute-force always is).\n",
    "\n",
    "![](https://files.slack.com/files-pri/T24940PQV-FDD3C4RT3/example_table.png?pub_secret=908ab1bfbb)\n",
    "\n",
    "Congratulations, you just used a quantum circuit-based computer and a quantum annealer to solve an NP-complete problem!\n",
    "\n",
    "Note: If you are viewing this on GitHub and want to access QC Ware's API to execute the notebook you will need an API key. Please reach out support@qcware.com to request access.\n",
    "<br><a href=\"#top\">Back to Table of Contents</a>"
   ]
  }
 ],
 "metadata": {
  "kernelspec": {
   "display_name": "Python 3",
   "language": "python",
   "name": "python3"
  },
  "language_info": {
   "codemirror_mode": {
    "name": "ipython",
    "version": 3
   },
   "file_extension": ".py",
   "mimetype": "text/x-python",
   "name": "python",
   "nbconvert_exporter": "python",
   "pygments_lexer": "ipython3",
   "version": "3.9.2"
  }
 },
 "nbformat": 4,
 "nbformat_minor": 4
}
