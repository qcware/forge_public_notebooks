{
 "cells": [
  {
   "cell_type": "markdown",
   "metadata": {},
   "source": [
    "<a id='top'></a>\n",
    "# A Quantum Approach for Job Shop Scheduling #\n",
    "\n",
    "## Table of Contents\n",
    "1. [Introduction](#job_introduction)\n",
    "2. [Detailed problem description](#prob_description)\n",
    "    <br>2.a. [The constraints](#the_constraints)\n",
    "    <br>2.b. [The final objective function](final_objective_function)\n",
    "3. [Coding up the problem](#code_problem)\n",
    "    <br>3.a. [Problem parameters](#problem_parameters)\n",
    "    <br>3.b. [Constructing the objective function](#const_objective_function)\n",
    "4. [Quantum Computing Solution with the QC Ware API](#quantum_solution)\n",
    "    <br>4.a. [Execution via IBM's quantum environment](#quantum_env_IBM)\n",
    "    <br>4.b. [Execution via Google's quantum environment](#quantum_env_google)\n",
    "    <br>4.c. [Execution via D-Wave's hardware framework](#hardware_framework_dwave)\n",
    "    <br>4.d. [Bonus: the purely classical brute force solver as a debugging tool](#brute_force_debugging_tool)\n",
    "  \n",
    "\n",
    "## 1. Introduction <a id=\"job_introduction\"></a>\n",
    "\n",
    "The job shop scheduling problem is the problem of optimally allocating a set of jobs to a set of workers in such a way that the makespan is minimized.  The makespan of a project is the total time required to complete all jobs."
   ]
  },
  {
   "cell_type": "markdown",
   "metadata": {},
   "source": [
    "***\n",
    "# 2. Detailed problem description <a id=\"prob_description\"></a>\n",
    "\n",
    "While there are many different ways of formally modelling the problem, here we focus on a quadratic unconstrained binary optimization (QUBO) model of the problem.  This allows us to treat the problem both on universal quantum computers as well as on special purpose quantum annealers.  Before we proceed, we briefly mention that for Operations Research professionals wondering how to formulate their problems as a QUBO, the paper <a href=\"https://arxiv.org/pdf/1302.5843.pdf\" style=\"text-decoration: none;\">Ising formulations of many NP problems</a>, by Andrew Lucas, 2014, gives <em>Ising</em> formulations of many NP problems.  Given that Ising and QUBO problems are equivalent under the appropriate transformation, one can in turn use these to obtain the QUBO forms.\n",
    "\n",
    "Let us now formally define the problem.  Suppose we are interested in completing $N$ jobs,  and we have access to $m$ workers who can complete these jobs.  Furthermore, assume each job $i\\in\\{1,\\dots,N\\}$ takes time $L_i$ to complete.  While other formulations are certainly possible, here we make the simplifying assumption that a given job will take each worker the same amount of time, i.e., $L_i$ is independent of the worker $\\alpha\\in\\{1,\\dots,m\\}$.  Let $V_{\\alpha}$ be the set of jobs assigned to worker $\\alpha$.  Define the length of the worker $\\alpha$ to be \n",
    "\\begin{equation}\n",
    "M_{\\alpha}:=\\sum_{i\\in V_{\\alpha}}L_i.\n",
    "\\end{equation}\n",
    "Our goal is to assign jobs to workers in such a way that $\\text{max}(M_{\\alpha})$ is minimized.  This means that the makespan of the project is minimized.\n",
    "\n",
    "For each $i,\\alpha$, we introduce a binary decision variable $x_{i,\\alpha}$ which equals 1 if job $i$ is assigned to worker $\\alpha$, and 0 otherwise.  Without loss of generality, assume that $M_{1}\\geq M_{\\alpha}$.  Under this assumption, the goal would be to minimize, over all feasible assignments of the decision variables, the term\n",
    "\\begin{equation}\n",
    "H_{B}:=BM_{1}=B\\sum_{i=1}^{N}L_ix_{i,1},\n",
    "\\end{equation}\n",
    "where $B\\in(0,\\infty]$ is a scaling parameter we choose later.\n",
    "\n",
    "## 2.a. The constraints <a id=\"the_constraints\"></a>\n",
    "\n",
    "What do we mean by \"feasible\" assignments?  We are only interested in assigmnets of the decision variables which satisfy the following two constraints:\n",
    "\\begin{equation}\n",
    "\\sum_{\\alpha=1}^{m}x_{i,\\alpha}=1 \\; \\forall \\; i\\in\\{1,\\dots,N\\}, \\tag{Constraint 1}\n",
    "\\end{equation}\n",
    "and\n",
    "\\begin{equation}\n",
    "M_{1}\\geq M_{\\alpha} \\; \\forall \\; \\alpha\\in\\{2,\\dots,m\\} \\tag{Constraint 2}.\n",
    "\\end{equation}\n",
    "The first constraint can be interpreted as the requirement that each job be assigned to precisely one worker.  The second constraint can be interpreted as the requirement that no worker have an assignment of jobs which takes longer to complete than those of worker 1.  We will enforce these constraints by including the appropriate penalty functions in the final objective function.\n",
    "\n",
    "### Constraint 1: Ensuring each job is assigned\n",
    "\n",
    "Let us start with Constraint 1, which is simpler to take care of.  To do so, we simply need to include a term of the form\n",
    "\\begin{equation}\n",
    "H^{1}_{A}:=A\\sum_{i=1}^{N}\\left(1-\\sum_{\\alpha=1}^{m}x_{i,\\alpha}\\right)^2,\n",
    "\\end{equation}\n",
    "where $A\\in(0,\\infty)$ is a scaling parameter we choose later.  Note that $H^{1}_{A}\\geq 0$, and it equals 0 (i.e., it's minimum) if and only if the assignment satisfies Constraint 1.\n",
    "\n",
    "### Constraint 2: Ensuring worker 1 has more work than any other worker\n",
    "\n",
    "The second constraint is a bit trickier to enforce.  First, introduce an additional binary decision variable $y_{n,\\alpha}$ for each $\\alpha\\in\\{2,\\dots,m\\}, n\\in\\{0,\\dots,\\lfloor\\log_{2}\\mathcal{M}\\rfloor\\}$.  We will elaborate on $\\mathcal{M}$ shortly.  For now, consider the expression\n",
    "\\begin{equation}\n",
    "H^{2}_{A}:=A\\sum_{\\alpha=2}^{m}\\left(\\sum_{n=0}^{\\lfloor\\log_{2}\\mathcal{M}\\rfloor}2^ny_{n,\\alpha}+\\sum_{i=1}^{N}L_{i}(x_{i,\\alpha}-x_{i,1})\\right)^2.\n",
    "\\end{equation}\n",
    "Note that $H^{2}_{A}\\geq0$, and it equals 0 (i.e., its minimum) whenever \\begin{equation}\n",
    "\\sum_{n=0}^{\\lfloor\\log_{2}\\mathcal{M}\\rfloor}2^ny_{n,\\alpha}+\\sum_{i=1}^{N}L_{i}(x_{i,\\alpha}-x_{i,1})\\overset{!}{=}0 \\; \\forall \\; \\alpha\\in\\{2,\\dots,m\\}.\n",
    "\\end{equation}\n",
    "Because $\\sum_{n=0}^{\\lfloor\\log_{2}\\mathcal{M}\\rfloor}2^ny_{n,\\alpha}\\geq 0$, the above equation can hold only if $\\sum_{i=1}^{N}L_{i}(x_{i,\\alpha}-x_{i,1})=M_{\\alpha}-M_{1}\\leq0 \\; \\forall \\; \\alpha\\in\\{2,\\dots,m\\}$, i.e., precisely if Constraint 2 is satisfied!  More specifically, assuming $M_{\\alpha}-M_{1}\\leq0$, note that the above equation holds whenever the $\\{y_{n,\\alpha}\\}$ are the digits in the binary expansion of $M_{\\alpha}-M_{1}$.  This means that $\\mathcal{M}$ needs to be large enough so that $\\lfloor\\log_{2}\\mathcal{M}+1\\rfloor$ binary digits suffice to express $M_{\\alpha}-M_{1}$.  That holds whenever $\\mathcal{M}\\overset{!}{\\geq} M_{\\alpha}-M_{1}$.  Because $M_{\\alpha}-M_{1}\\leq N\\max_{i}L_{i}$, we can ensure this by choosing $\\mathcal{M}=N\\max_{i}L_{i}$.\n",
    "\n",
    "## 2.b. The final objective function <a id=\"final_objective_function\"></a>\n",
    "\n",
    "We can now construct our final objective function by adding the terms we have constructed above.\n",
    "\\begin{equation}\n",
    "H:=H^{1}_{A}+H^{2}_{A}+H_{B}=\n",
    "\\end{equation}\n",
    "\\begin{equation}\n",
    "A\\sum_{i=1}^{N}\\left(1-\\sum_{\\alpha=1}^{m}x_{i,\\alpha}\\right)^2+A\\sum_{\\alpha=2}^{m}\\left(\\sum_{n=0}^{\\lfloor\\log_{2}\\mathcal{M}\\rfloor}2^ny_{n,\\alpha}+\\sum_{i=1}^{N}L_{i}(x_{i,\\alpha}-x_{i,1})\\right)^2+B\\sum_{i=1}^{N}L_ix_{i,1}.\n",
    "\\end{equation}\n",
    "\n",
    "In order to guarantee that that the ground state encodes the solution, we require $0<B\\max{(L_i)}<A$.  The number of logical variables required is $mN+(m-1)\\lfloor1+\\log\\mathcal{M}\\rfloor$."
   ]
  },
  {
   "cell_type": "markdown",
   "metadata": {},
   "source": [
    "***\n",
    "# 3. Coding up the problem <a id=\"code_problem\"></a>\n",
    "\n",
    "## 3.a. Problem parameters <a id=\"problem_parameters\"></a>\n",
    "\n",
    "We are now ready to start writing the code we'll use to treat this problem.  We start by importing the native python module `random`, which provides the functionality to generate pseduo-random numbers; we'll also use the built-in module `pprint` to pretty-print some results."
   ]
  },
  {
   "cell_type": "code",
   "execution_count": 1,
   "metadata": {
    "execution": {
     "iopub.execute_input": "2022-01-19T05:12:23.812636Z",
     "iopub.status.busy": "2022-01-19T05:12:23.809273Z",
     "iopub.status.idle": "2022-01-19T05:12:24.406039Z",
     "shell.execute_reply": "2022-01-19T05:12:24.405306Z"
    }
   },
   "outputs": [],
   "source": [
    "from qcware import forge\n",
    "# this line is for internal tracking; it is not necessary for use!\n",
    "forge.config.set_environment_source_file('job_shop_scheduling.ipynb')\n",
    "\n",
    "import random\n",
    "import pprint\n",
    "\n",
    "# for consistency, we'll seed the random number to a predetermined value\n",
    "random.seed(42)"
   ]
  },
  {
   "cell_type": "markdown",
   "metadata": {},
   "source": [
    "We choose the number of jobs."
   ]
  },
  {
   "cell_type": "code",
   "execution_count": 2,
   "metadata": {
    "execution": {
     "iopub.execute_input": "2022-01-19T05:12:24.411322Z",
     "iopub.status.busy": "2022-01-19T05:12:24.410621Z",
     "iopub.status.idle": "2022-01-19T05:12:24.413911Z",
     "shell.execute_reply": "2022-01-19T05:12:24.413381Z"
    }
   },
   "outputs": [],
   "source": [
    "N = 3"
   ]
  },
  {
   "cell_type": "markdown",
   "metadata": {},
   "source": [
    "Whe choose the number of workers."
   ]
  },
  {
   "cell_type": "code",
   "execution_count": 3,
   "metadata": {
    "execution": {
     "iopub.execute_input": "2022-01-19T05:12:24.418720Z",
     "iopub.status.busy": "2022-01-19T05:12:24.418029Z",
     "iopub.status.idle": "2022-01-19T05:12:24.420505Z",
     "shell.execute_reply": "2022-01-19T05:12:24.421139Z"
    }
   },
   "outputs": [],
   "source": [
    "m = 3"
   ]
  },
  {
   "cell_type": "markdown",
   "metadata": {},
   "source": [
    "We choose the time it takes to complete each job."
   ]
  },
  {
   "cell_type": "code",
   "execution_count": 4,
   "metadata": {
    "execution": {
     "iopub.execute_input": "2022-01-19T05:12:24.428779Z",
     "iopub.status.busy": "2022-01-19T05:12:24.427700Z",
     "iopub.status.idle": "2022-01-19T05:12:24.432569Z",
     "shell.execute_reply": "2022-01-19T05:12:24.432006Z"
    }
   },
   "outputs": [
    {
     "name": "stdout",
     "output_type": "stream",
     "text": [
      "Job 1 would take 2 units of time\n",
      "Job 2 would take 1 units of time\n",
      "Job 3 would take 5 units of time\n"
     ]
    }
   ],
   "source": [
    "# the following code would generate random job lengths; \n",
    "\n",
    "lengths = list(range(1, 10+1))\n",
    "L = {}\n",
    "for i in range(1, N+1):\n",
    "    L[i] = random.choice(lengths)\n",
    "\n",
    "for (k, v) in L.items():\n",
    "    print(\"Job {0} would take {1} units of time\".format(k, v))"
   ]
  },
  {
   "cell_type": "markdown",
   "metadata": {},
   "source": [
    "Here the choose the scaling parameters $A$ and $B$.  Recall that we can guarantee that the global ground state encodes the solution by choosing $A>B\\max_{i=1}^{N}(L_i)$."
   ]
  },
  {
   "cell_type": "code",
   "execution_count": 5,
   "metadata": {
    "execution": {
     "iopub.execute_input": "2022-01-19T05:12:24.438196Z",
     "iopub.status.busy": "2022-01-19T05:12:24.437190Z",
     "iopub.status.idle": "2022-01-19T05:12:24.440058Z",
     "shell.execute_reply": "2022-01-19T05:12:24.440622Z"
    }
   },
   "outputs": [],
   "source": [
    "# Penalty terms\n",
    "B = 1\n",
    "A = B * max(L.values())"
   ]
  },
  {
   "cell_type": "markdown",
   "metadata": {},
   "source": [
    "## 3.b. Constructing the objective function <a id=\"const_objective_function\"></a>\n",
    "\n",
    "We are now ready to start coding up the QUBO. We will use the Python package `qubovert` that we developed to aid in binary optimization formulations. Let's install it and import `boolean_var`. We will use it to create a Polynomial Constrained Boolean Optimization (PCBO) object."
   ]
  },
  {
   "cell_type": "code",
   "execution_count": 6,
   "metadata": {
    "execution": {
     "iopub.execute_input": "2022-01-19T05:12:24.445680Z",
     "iopub.status.busy": "2022-01-19T05:12:24.445040Z",
     "iopub.status.idle": "2022-01-19T05:12:24.448234Z",
     "shell.execute_reply": "2022-01-19T05:12:24.448764Z"
    }
   },
   "outputs": [],
   "source": [
    "from qubovert import boolean_var"
   ]
  },
  {
   "cell_type": "markdown",
   "metadata": {},
   "source": [
    "Now we will create the $x_{i,\\alpha}$ variables. We'll create a dictionary `x` such that `x[(i, alpha)]` will return the variable for $x_{i,\\alpha}$."
   ]
  },
  {
   "cell_type": "code",
   "execution_count": 7,
   "metadata": {
    "execution": {
     "iopub.execute_input": "2022-01-19T05:12:24.454440Z",
     "iopub.status.busy": "2022-01-19T05:12:24.453759Z",
     "iopub.status.idle": "2022-01-19T05:12:24.457432Z",
     "shell.execute_reply": "2022-01-19T05:12:24.456737Z"
    }
   },
   "outputs": [],
   "source": [
    "x = {\n",
    "    (i, alpha): boolean_var('x(%d, %d)' % (i, alpha)) \n",
    "    for i in range(1, N+1) for alpha in range(1, m+1)\n",
    "}"
   ]
  },
  {
   "cell_type": "markdown",
   "metadata": {},
   "source": [
    "Now we create the $M_\\alpha$'s. Recall that\n",
    "$$M_{\\alpha} = \\sum_{i=1}^N L_i x_{i, \\alpha}.$$\n",
    "We create a dictionary `M` such that `M[alpha]` returns $M_{\\alpha}$."
   ]
  },
  {
   "cell_type": "code",
   "execution_count": 8,
   "metadata": {
    "execution": {
     "iopub.execute_input": "2022-01-19T05:12:24.464680Z",
     "iopub.status.busy": "2022-01-19T05:12:24.463761Z",
     "iopub.status.idle": "2022-01-19T05:12:24.466504Z",
     "shell.execute_reply": "2022-01-19T05:12:24.467093Z"
    }
   },
   "outputs": [],
   "source": [
    "M = {\n",
    "    alpha: sum(L[i] * x[(i, alpha)] for i in range(1, N+1)) \n",
    "    for alpha in range(1, m+1)\n",
    "}"
   ]
  },
  {
   "cell_type": "markdown",
   "metadata": {},
   "source": [
    "Next we will encode $H_B = B M_1$. "
   ]
  },
  {
   "cell_type": "code",
   "execution_count": 9,
   "metadata": {
    "execution": {
     "iopub.execute_input": "2022-01-19T05:12:24.471970Z",
     "iopub.status.busy": "2022-01-19T05:12:24.471272Z",
     "iopub.status.idle": "2022-01-19T05:12:24.476353Z",
     "shell.execute_reply": "2022-01-19T05:12:24.475673Z"
    }
   },
   "outputs": [
    {
     "name": "stdout",
     "output_type": "stream",
     "text": [
      "{('x(1, 1)',): 2, ('x(2, 1)',): 1, ('x(3, 1)',): 5}\n"
     ]
    }
   ],
   "source": [
    "H = B * M[1]\n",
    "\n",
    "pprint.pprint(H)"
   ]
  },
  {
   "cell_type": "markdown",
   "metadata": {},
   "source": [
    "Now we encode the first constraint,\n",
    "$$\\sum_{\\alpha=1}^{m}x_{i,\\alpha}=1 \\quad \\forall \\; i\\in\\{1,\\dots,N\\},$$\n",
    "or equivalently\n",
    "$$\\sum_{\\alpha=1}^{m}x_{i,\\alpha}-1=0 \\quad \\forall \\; i\\in\\{1,\\dots,N\\}.$$\n",
    "Recall that we enforce this constraint with the penalty factor $A$."
   ]
  },
  {
   "cell_type": "code",
   "execution_count": 10,
   "metadata": {
    "execution": {
     "iopub.execute_input": "2022-01-19T05:12:24.487507Z",
     "iopub.status.busy": "2022-01-19T05:12:24.486669Z",
     "iopub.status.idle": "2022-01-19T05:12:24.497779Z",
     "shell.execute_reply": "2022-01-19T05:12:24.497111Z"
    }
   },
   "outputs": [
    {
     "name": "stdout",
     "output_type": "stream",
     "text": [
      "{(): 15,\n",
      " ('x(1, 1)',): -3,\n",
      " ('x(1, 1)', 'x(1, 3)'): 10,\n",
      " ('x(1, 2)',): -5,\n",
      " ('x(1, 2)', 'x(1, 1)'): 10,\n",
      " ('x(1, 2)', 'x(1, 3)'): 10,\n",
      " ('x(1, 3)',): -5,\n",
      " ('x(2, 1)',): -4,\n",
      " ('x(2, 1)', 'x(2, 2)'): 10,\n",
      " ('x(2, 2)',): -5,\n",
      " ('x(2, 3)',): -5,\n",
      " ('x(2, 3)', 'x(2, 1)'): 10,\n",
      " ('x(2, 3)', 'x(2, 2)'): 10,\n",
      " ('x(3, 1)', 'x(3, 2)'): 10,\n",
      " ('x(3, 2)',): -5,\n",
      " ('x(3, 3)',): -5,\n",
      " ('x(3, 3)', 'x(3, 1)'): 10,\n",
      " ('x(3, 3)', 'x(3, 2)'): 10}\n"
     ]
    }
   ],
   "source": [
    "for i in range(1, N+1):\n",
    "    H.add_constraint_eq_zero(\n",
    "        sum(x[(i, alpha)] for alpha in range(1, m+1)) - 1,\n",
    "        lam=A\n",
    "    )\n",
    "    \n",
    "pprint.pprint(H)"
   ]
  },
  {
   "cell_type": "markdown",
   "metadata": {},
   "source": [
    "Now we encode the second constraint,\n",
    "$$M_{1}\\geq M_{\\alpha} \\quad \\forall \\; \\alpha\\in\\{2,\\dots,m\\},$$\n",
    "or equivalently\n",
    "$$M_{1} - M_{\\alpha}\\geq 0 \\quad \\forall \\; \\alpha\\in\\{2,\\dots,m\\}.$$\n",
    "Recall that we enforce this constraint with the penalty factor $A$."
   ]
  },
  {
   "cell_type": "code",
   "execution_count": 11,
   "metadata": {
    "execution": {
     "iopub.execute_input": "2022-01-19T05:12:24.510010Z",
     "iopub.status.busy": "2022-01-19T05:12:24.509113Z",
     "iopub.status.idle": "2022-01-19T05:12:24.512164Z",
     "shell.execute_reply": "2022-01-19T05:12:24.511610Z"
    }
   },
   "outputs": [],
   "source": [
    "for alpha in range(2, m+1):\n",
    "    H.add_constraint_ge_zero(M[1] - M[alpha], lam=A)\n",
    "\n",
    "# print(H)  # large output"
   ]
  },
  {
   "cell_type": "markdown",
   "metadata": {},
   "source": [
    "Notice that ancilla variables, labeled with `__a`, were automatically added to enforce the constraints."
   ]
  },
  {
   "cell_type": "markdown",
   "metadata": {},
   "source": [
    "We note that the degree of `H` is only 2 and is therefore already a QUBO."
   ]
  },
  {
   "cell_type": "code",
   "execution_count": 12,
   "metadata": {
    "execution": {
     "iopub.execute_input": "2022-01-19T05:12:24.520859Z",
     "iopub.status.busy": "2022-01-19T05:12:24.520221Z",
     "iopub.status.idle": "2022-01-19T05:12:24.528689Z",
     "shell.execute_reply": "2022-01-19T05:12:24.528135Z"
    }
   },
   "outputs": [
    {
     "data": {
      "text/plain": [
       "2"
      ]
     },
     "execution_count": 12,
     "metadata": {},
     "output_type": "execute_result"
    }
   ],
   "source": [
    "H.degree"
   ]
  },
  {
   "cell_type": "markdown",
   "metadata": {},
   "source": [
    "We will still do the standard procedure since it works even if the degree of `H` is greater than 2."
   ]
  },
  {
   "cell_type": "code",
   "execution_count": 13,
   "metadata": {
    "execution": {
     "iopub.execute_input": "2022-01-19T05:12:24.535551Z",
     "iopub.status.busy": "2022-01-19T05:12:24.534920Z",
     "iopub.status.idle": "2022-01-19T05:12:24.538163Z",
     "shell.execute_reply": "2022-01-19T05:12:24.537494Z"
    }
   },
   "outputs": [],
   "source": [
    "qubo = H.to_qubo()\n",
    "# print(qubo)  # large output"
   ]
  },
  {
   "cell_type": "markdown",
   "metadata": {},
   "source": [
    "Now the QUBO formulation is complete! We can summarize what we have done in this section in the following schematic:\n",
    "\n",
    "![](https://files.slack.com/files-pri/T24940PQV-FH78R2A07/job_shop_scheduling_schematic.png?pub_secret=3ef8d30f11)"
   ]
  },
  {
   "cell_type": "markdown",
   "metadata": {},
   "source": [
    "***\n",
    "## 4. Quantum Computing Solution with the QC Ware API <a id=\"quantum_solution\"></a>\n",
    "\n",
    "Using QC Ware's API, we can solve this problem with the `optimize_binary()` function.  With the `optimize_binary()` function, the user has the option to choose from a number of different backend solvers.  Without having to change the way the QUBO is input, QC Ware's tools then automatically formulate the problem in a way that is suitable for the selected solver's corresponding software and hardware environment.  This allows the user to explore with minimal hassel the backend that might be most well-suited for her application.\n",
    "\n",
    "Let us take a look at a few different solvers.  We start by importing the `qcware` module and entering your API key as necessary (you can find your API key on your dashboard on [Forge](https://forge.qcware.com))."
   ]
  },
  {
   "cell_type": "code",
   "execution_count": 14,
   "metadata": {
    "execution": {
     "iopub.execute_input": "2022-01-19T05:12:24.543108Z",
     "iopub.status.busy": "2022-01-19T05:12:24.542315Z",
     "iopub.status.idle": "2022-01-19T05:12:24.546049Z",
     "shell.execute_reply": "2022-01-19T05:12:24.545420Z"
    }
   },
   "outputs": [],
   "source": [
    "import qcware.types"
   ]
  },
  {
   "cell_type": "markdown",
   "metadata": {},
   "source": [
    "We now have a formulated problem, it only remains to choose a backend solver to execute on.\n",
    "\n",
    "Let's create the function `solve` that calls Forge and interprets the solution. Notice that we use the `H.convert_solution` method to convert the solution of the QUBO to the solution of the PCBO. We also use the `H.remove_ancilla_from_solution` method to remove all the ancilla information from the solution since they were only added to help enforce constraints. Finally, the `H.is_solution_valid` method checks to see if the proposed solution satisfies all of the constraints."
   ]
  },
  {
   "cell_type": "code",
   "execution_count": 15,
   "metadata": {
    "execution": {
     "iopub.execute_input": "2022-01-19T05:12:24.554782Z",
     "iopub.status.busy": "2022-01-19T05:12:24.554079Z",
     "iopub.status.idle": "2022-01-19T05:12:24.558110Z",
     "shell.execute_reply": "2022-01-19T05:12:24.556962Z"
    }
   },
   "outputs": [],
   "source": [
    "def solve_with(backend):\n",
    "    poly = qcware.types.optimization.PolynomialObjective(\n",
    "    polynomial=qubo.Q,\n",
    "    num_variables=qubo.num_binary_variables,\n",
    "    domain='boolean'\n",
    "    )\n",
    "    problem = qcware.types.optimization.BinaryProblem(objective=poly)\n",
    "    response = forge.optimization.optimize_binary(instance=problem, backend=backend, dwave_num_reads=50)\n",
    "    \n",
    "    qubo_solution = response.lowest_value_bitstring\n",
    "    pcbo_solution = H.convert_solution(qubo_solution)\n",
    "    \n",
    "    if H.is_solution_valid(pcbo_solution):\n",
    "        print(\"solution is valid\\n\")\n",
    "    else:\n",
    "        print(\"solution is invalid\\n\")\n",
    "        \n",
    "    print(\"objective value:\", H.value(pcbo_solution))\n",
    "    pprint.pprint(H.remove_ancilla_from_solution(pcbo_solution))"
   ]
  },
  {
   "cell_type": "markdown",
   "metadata": {},
   "source": [
    "Notice that the problem has 17 binary variables."
   ]
  },
  {
   "cell_type": "code",
   "execution_count": 16,
   "metadata": {
    "execution": {
     "iopub.execute_input": "2022-01-19T05:12:24.564346Z",
     "iopub.status.busy": "2022-01-19T05:12:24.563204Z",
     "iopub.status.idle": "2022-01-19T05:12:24.568521Z",
     "shell.execute_reply": "2022-01-19T05:12:24.567385Z"
    }
   },
   "outputs": [
    {
     "data": {
      "text/plain": [
       "17"
      ]
     },
     "execution_count": 16,
     "metadata": {},
     "output_type": "execute_result"
    }
   ],
   "source": [
    "H.num_binary_variables"
   ]
  },
  {
   "cell_type": "markdown",
   "metadata": {},
   "source": [
    "Therefore, we can use the brute force solver to test our problem formulation!  The brute-force solver (what you get when solving a binary problem with the `qcware/cpu` backend) can take quite a while, so we'll need to either set the default timout to something large or use the `async`/`await` keywords as in the `Retrieving_Long_Task_Results.ipynb` notebook.  Here, let's just set the default timeout to something large like 5 minutes."
   ]
  },
  {
   "cell_type": "code",
   "execution_count": 17,
   "metadata": {
    "execution": {
     "iopub.execute_input": "2022-01-19T05:12:24.582622Z",
     "iopub.status.busy": "2022-01-19T05:12:24.578513Z",
     "iopub.status.idle": "2022-01-19T05:13:15.671320Z",
     "shell.execute_reply": "2022-01-19T05:13:15.672065Z"
    }
   },
   "outputs": [
    {
     "name": "stdout",
     "output_type": "stream",
     "text": [
      "solution is valid\n",
      "\n",
      "objective value: 5\n",
      "{'x(1, 1)': 0,\n",
      " 'x(1, 2)': 0,\n",
      " 'x(1, 3)': 1,\n",
      " 'x(2, 1)': 0,\n",
      " 'x(2, 2)': 0,\n",
      " 'x(2, 3)': 1,\n",
      " 'x(3, 1)': 1,\n",
      " 'x(3, 2)': 0,\n",
      " 'x(3, 3)': 0}\n"
     ]
    }
   ],
   "source": [
    "forge.config.set_client_timeout(5*60)\n",
    "solve_with('qcware/cpu')"
   ]
  },
  {
   "cell_type": "markdown",
   "metadata": {},
   "source": [
    "We see that the nonzero entries are `x(3, 1)`, `x(1, 3)`, and `x(2, 3)`. Recall that the first number corresponds to the index `i` indicating the job, and the second number corresponds to `alpha` indicating the worker. Therefore, we see that a optimal solution is for worker 1 to cover job 3 and for worker 3 to cover jobs 1 and 2. The objective value is 5, indicating that the total length of the schedule is 5."
   ]
  },
  {
   "cell_type": "markdown",
   "metadata": {},
   "source": [
    "### 4.a. Execution via IBM's quantum environment <a id=\"quantum_env_IBM\"></a>\n",
    "\n",
    "The first solver we explore is `ibm_sw_qaoa`, which is an implementation of the quantum approximate optimization aglorithm (QAOA) [<sup>2</sup>](https://arxiv.org/abs/1411.4028) for (classical) energy minimization problems of the Ising model, developed using IBM's Qiskit [<sup>3</sup>](https://qiskit.org) Aqua [<sup>4</sup>](https://qiskit.org/aqua) software framework.  We brielfy recall that any Ising solver (such as `ibm_sw_qaoa`) can also be used for QUBOs due to the mathematical equivalence between QUBOs and Ising problems under the appropriate transformation.  This in turns allows us to solve our QUBO formulation of the portfolio optimization problem.\n",
    "\n",
    "*Note*: The software QAOA solver runs as a quantum circuit emulator and can take a very long time (upwards of an hour) to return a result, so the following code is commented out; uncomment if you have some time to burn!"
   ]
  },
  {
   "cell_type": "code",
   "execution_count": 18,
   "metadata": {
    "execution": {
     "iopub.execute_input": "2022-01-19T05:13:15.680057Z",
     "iopub.status.busy": "2022-01-19T05:13:15.675571Z",
     "iopub.status.idle": "2022-01-19T05:13:15.682014Z",
     "shell.execute_reply": "2022-01-19T05:13:15.683019Z"
    }
   },
   "outputs": [],
   "source": [
    "# solve('ibm_sw_qaoa')"
   ]
  },
  {
   "cell_type": "markdown",
   "metadata": {},
   "source": [
    "### 4.b. Execution via Google's quantum environment <a id=\"quantum_env_google\"></a>\n",
    "\n",
    "The second solver we explore is `google_qaoa`, which is an implementaton of the QAOA for (classical) energy minimization problems of the Ising model, developed using Google's Cirq  [<sup>5</sup>](https://ai.googleblog.com/2018/07/announcing-cirq-open-source-framework.html) software framework.  As we can see below, switching to this different backend is done simply by changing the value of the string corresponding desired backend solver.  Similarly, this solver takes a long time to run, so it's commented out for now!"
   ]
  },
  {
   "cell_type": "code",
   "execution_count": 19,
   "metadata": {
    "execution": {
     "iopub.execute_input": "2022-01-19T05:13:15.688703Z",
     "iopub.status.busy": "2022-01-19T05:13:15.687623Z",
     "iopub.status.idle": "2022-01-19T05:13:15.690518Z",
     "shell.execute_reply": "2022-01-19T05:13:15.691505Z"
    }
   },
   "outputs": [],
   "source": [
    "# solve('google_qaoa')"
   ]
  },
  {
   "cell_type": "markdown",
   "metadata": {},
   "source": [
    "### 4.c. Execution via D-Wave's hardware <a id=\"hardware_framework_dwave\"></a>\n",
    "\n",
    "Finally, we will solve the problem with D'Wave's quantum annealer.\n",
    "\n",
    "Again, as we can see below, despite the notably different architectures of universal quantum computers and special purpose quantum annealers, switching to this different backend is done simply by changing the value of the string corresponding desired backend solver."
   ]
  },
  {
   "cell_type": "code",
   "execution_count": 20,
   "metadata": {
    "execution": {
     "iopub.execute_input": "2022-01-19T05:13:15.704909Z",
     "iopub.status.busy": "2022-01-19T05:13:15.703854Z",
     "iopub.status.idle": "2022-01-19T05:13:30.060295Z",
     "shell.execute_reply": "2022-01-19T05:13:30.059366Z"
    }
   },
   "outputs": [
    {
     "name": "stdout",
     "output_type": "stream",
     "text": [
      "solution is invalid\n",
      "\n",
      "objective value: 15\n",
      "{'x(1, 1)': 0,\n",
      " 'x(1, 2)': 0,\n",
      " 'x(1, 3)': 0,\n",
      " 'x(2, 1)': 0,\n",
      " 'x(2, 2)': 0,\n",
      " 'x(2, 3)': 1,\n",
      " 'x(3, 1)': 1,\n",
      " 'x(3, 2)': 1,\n",
      " 'x(3, 3)': 0}\n"
     ]
    }
   ],
   "source": [
    "solve_with('dwave/2000q')"
   ]
  },
  {
   "cell_type": "markdown",
   "metadata": {},
   "source": [
    "Note: If you are viewing this on GitHub and want to access QC Ware's API to execute the notebook you will need an API key. Please reach out stanford.schor@qcware.com to request access.\n",
    "<br><a href=\"#top\">Back to Table of Contents</a>"
   ]
  }
 ],
 "metadata": {
  "kernelspec": {
   "display_name": "Python 3",
   "language": "python",
   "name": "python3"
  },
  "language_info": {
   "codemirror_mode": {
    "name": "ipython",
    "version": 3
   },
   "file_extension": ".py",
   "mimetype": "text/x-python",
   "name": "python",
   "nbconvert_exporter": "python",
   "pygments_lexer": "ipython3",
   "version": "3.9.2"
  }
 },
 "nbformat": 4,
 "nbformat_minor": 4
}
