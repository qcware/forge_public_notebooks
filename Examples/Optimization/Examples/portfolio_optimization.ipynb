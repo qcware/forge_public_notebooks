{
 "cells": [
  {
   "cell_type": "markdown",
   "metadata": {},
   "source": [
    "<a id='top'></a>\n",
    "# A Quantum Approach for Portfolio Optimization #\n",
    "\n",
    "## Table of Contents\n",
    "1. [Introduction](#introduction)\n",
    "2. [Portfolio Optimization Problem](#prob_description)\n",
    "    <br>2.a. [Classical Solution Using OR-Tools (TBD!!!)](#classical_solution_using_OR)\n",
    "    <br>2.b. [Creating the QUBO representation](#qubo)\n",
    "3. [Quantum computing solution using the QC Ware API](#quantum_solution)\n",
    "    <br>3.a. [Execution via IBM's Qiskit software simulator using the QC Ware API](#qiskit_software_simulator)\n",
    "    <br>3.b. [Execution via Google's software simulator using the QC Ware API](#google_software_simulator)\n",
    "    <br>3.c. [Execution via D-Wave Systems' Quantum Annealer using the QC Ware API](#dwave_quantum_annealer)\n",
    "    <br>3.d. [Execution via a classical brute force solver](#classical_brute_solver)\n",
    "  \n",
    "\n",
    "# 1. Introduction <a id=\"introduction\"></a>\n",
    "\n",
    "Portfolio optimization is the problem of optimally allocating a budget to a collection of assets. Real world examples can be found throughout the stock market world: groups and individuals want to invest their money in order to maximize profit and minimize risk.  Here, \"optimal\" can mean a number of different things.  For example, one could define \"optimal\" to mean that the expected value of the return is maximized, though in practice this naive approach is typically not very useful. Ultimately, \"optimality\" is precisly definied via an objective function, which we cover in more detail in the next section.\n",
    "\n",
    "One widely used definition of optimality comes from \n",
    "<a href=\"https://www.math.ust.hk/~maykwok/courses/ma362/07F/markowitz_JF.pdf\" style=\"text-decoration: none;\">Markowitz</a>.  Informally speaking, Markowitz proposed that an allocation is optimal whenever the corresponding expected return is maximized <em>and</em> variance is minimized.  In other words, one seeks to maximize gains, while at the same time minimize risk. The following diagram will give you a sense of how we'll be approaching this problem.\n",
    "\n",
    "![](https://files.slack.com/files-pri/T24940PQV-FHDQYHM6U/problem_setup.png?pub_secret=2c46907453)"
   ]
  },
  {
   "cell_type": "markdown",
   "metadata": {},
   "source": [
    "# 2. Portfolio Optimization Problem <a id=\"prob_description\"></a>\n",
    "\n",
    "While there are many different ways of formally modelling the problem, here we focus on a quadratic unconstrained binary optimization (QUBO) model. This allows us to run the problem both on universal quantum computers as well as on special purpose quantum annealers. \n",
    "\n",
    "For Operations Research professionals wondering how to formulate their problems as a QUBO, the paper <a href=\"https://arxiv.org/pdf/1302.5843.pdf\" style=\"text-decoration: none;\">Ising formulations of many NP problems</a>, by Andrew Lucas, 2014, gives <em>Ising</em> formulations of many NP problems. Given that Ising and QUBO problems are equivalent under the appropriate transformation, one can in turn use these to obtain the QUBO forms.\n",
    "\n",
    "Let's formally define the problem. Suppose the decision maker has a total budget $B$ she must allocate among $n$ assets. For each asset, $i$, we assume she has the option to allocate either some non-zero quantity $B_i>0$, or $0$. In this set-up, her choice is a binary one: either buy a $B_i$ of the asset or none at all. Because we can't invest more money than we have, we know that\n",
    "\n",
    "$$\n",
    "\\begin{equation}\n",
    "\\sum_{i=1}^{n}x_{i}B_{i} \\leq B\n",
    "\\end{equation}\n",
    "$$ \n",
    "\n",
    "We can use $R_i$ to denote the return from asset $i$ if a budget of $B_i$ is allocated towards this asset.  So, $R$ represents the return from the entire portfolio.  In other words,\n",
    "\n",
    "$$\n",
    "\\begin{equation}\n",
    "R=\\sum_{i=1}^{n}R_{i}\n",
    "\\end{equation}\n",
    "$$\n",
    "\n",
    "Therefore, the expected return from the portfolio is\n",
    "\n",
    "$$\n",
    "\\begin{equation}\\label{eq:expected_return}\\tag{1}\n",
    "\\text{E}(R)=\\sum_{i=1}^{n}\\text{E}(R_{i})\n",
    "\\end{equation}\n",
    "$$\n",
    "\n",
    "Next, consider the variance of $R$, which is given by\n",
    "\n",
    "$$\n",
    "\\begin{equation}\\label{eq:variance}\\tag{2}\n",
    "\\text{Var}(R)=\\sum_{i,j=1}^{n}\\text{Cov}(R_{i},R_{j})\n",
    "\\end{equation}\n",
    "$$\n",
    "\n",
    "where $\\text{Cov}(R_{i},R_{j})$ is the co-variance of the random variables $R_{i}$ and $R_{j}$. In this case the covariance between assets can be thought of as a measure of the risk of the portfolio. \n",
    "\n",
    "In the Markowitz model, one seeks to maximize equation $\\eqref{eq:expected_return}$ while minimizing $\\eqref{eq:variance}$.\n",
    "\n",
    "Typically, this problem is expressed with the following formulation:\n",
    "\n",
    "$$\n",
    "\\begin{equation}\n",
    "\\begin{split}\n",
    "\\min_{x_{i}\\in{\\{0,1\\}}} \\;\\; & \\sum_{i=1}^{n}-x_{i}\\text{E}(R_{i}) \n",
    "\\;\\; +\\;&\\theta\\sum_{i,j=1}^{n}x_{i}x_{j}\\text{Cov}(R_{i},R_{j})\n",
    "\\end{split}\n",
    "\\end{equation}\n",
    "$$\n",
    "\n",
    "subject to\n",
    "\n",
    "$$\n",
    "\\begin{equation}\n",
    "\\sum_{i=1}^{n}x_{i}B_{i} \\leq B\n",
    "\\end{equation}\n",
    "$$\n",
    "\n",
    "$$\n",
    "\\begin{equation}\n",
    "x_{i}\\in\\{0,1\\}\n",
    "\\end{equation}\n",
    "$$\n",
    "\n",
    "## 2.a Classical Solution Using OR-Tools (TBD!!!) <a id=\"classical_solution_using_OR\"></a>"
   ]
  },
  {
   "cell_type": "markdown",
   "metadata": {},
   "source": [
    "<div id=\"qubo\" />\n",
    "\n",
    "## 2.b Creating the QUBO representation\n",
    "\n",
    "We're now ready to convert this into a QUBO problem. Our QUBO problem will look remarkably similar but will include the addition of another term not typically seen in the classical formulation:\n",
    "\n",
    "$$\n",
    "\\begin{equation}\n",
    "\\begin{split}\n",
    "\\min_{x_{i}\\in{\\{0,1\\}}} \\;\\; & \\theta_{1}\\sum_{i=1}^{n}-x_{i}\\text{E}(R_{i}) \\\\\n",
    "\\;\\;  +\\;&\\theta_{2}\\sum_{i,j=1}^{n}x_{i}x_{j}\\text{Cov}(R_{i},R_{j})  \\\\\n",
    " +\\;&\\theta_{3}\\left(\\sum_{i=1}^{n}x_{i}B_{i}-B\\right)^{2}\n",
    "\\end{split}\n",
    "\\end{equation}\n",
    "$$\n",
    "\n",
    "The parameters $0\\leq\\theta_{1},\\theta_{2},\\theta_{3}<\\infty$ represent the relative importance of each term to the decision maker, and she is free to change these parameters to best reflect that (we'll give some examples of this in the next paragraph).  The first term in the objective function represents the expected return, i.e. the gain.  The second term represents the variance in the return, i.e. the risk.  Finally, the last term penalizes our decision maker when the sum of all $B_i$ is lower than the total available budget $B$.\n",
    "\n",
    "The parameters $\\theta_{1},\\theta_{2}$, and $\\theta_{3}$ represent the relative importance to the decision maker of each term, and she is free to change these parameters to best reflect that.  For instance, in the extreme case that the decision maker does not care about risk, but only about the possible gains, then she may set $\\theta_{1}\\gg\\theta_{2}$.  On the other hand, if she is very risk averse she could set $\\theta_{2}\\gg\\theta_{1}$. Finally,  $\\theta_{3}$ can be adjusted to modulate the penalty of allocations which involve investing a total amount that is less than $B$."
   ]
  },
  {
   "cell_type": "markdown",
   "metadata": {},
   "source": [
    "We are now ready to start writing the code we'll use to approach this problem.  We start by importing the native python module `random`, which provides the functionality to generate pseudo-random numbers. This allows us to generate a random dataset that we will use to generate results.  We intentionally seed the random number generator so that the results are the same between runs (you can change the seed to try new values!)"
   ]
  },
  {
   "cell_type": "code",
   "execution_count": 1,
   "metadata": {
    "execution": {
     "iopub.execute_input": "2022-07-05T05:11:59.571914Z",
     "iopub.status.busy": "2022-07-05T05:11:59.571562Z",
     "iopub.status.idle": "2022-07-05T05:12:00.305923Z",
     "shell.execute_reply": "2022-07-05T05:12:00.304937Z"
    }
   },
   "outputs": [],
   "source": [
    "from qcware import forge\n",
    "# this line is for internal tracking; it is not necessary for use!\n",
    "forge.config.set_environment_source_file('portfolio_optimization.ipynb')\n",
    "\n",
    "import random\n",
    "random.seed(42)"
   ]
  },
  {
   "cell_type": "markdown",
   "metadata": {},
   "source": [
    "Next, we set the values of the free parameters $\\theta_{1},\\theta_{2},\\theta_{3}$; recall that these parameters were introduced in the section immediately following the QUBO problem statement."
   ]
  },
  {
   "cell_type": "code",
   "execution_count": 2,
   "metadata": {
    "execution": {
     "iopub.execute_input": "2022-07-05T05:12:00.312736Z",
     "iopub.status.busy": "2022-07-05T05:12:00.311662Z",
     "iopub.status.idle": "2022-07-05T05:12:00.317653Z",
     "shell.execute_reply": "2022-07-05T05:12:00.316657Z"
    }
   },
   "outputs": [
    {
     "name": "stdout",
     "output_type": "stream",
     "text": [
      "theta1=1\n",
      "theta2=1\n",
      "theta3=1\n"
     ]
    }
   ],
   "source": [
    "theta1=1\n",
    "theta2=1\n",
    "theta3=1\n",
    "print(\"theta1={0}\".format(theta1))\n",
    "print(\"theta2={0}\".format(theta2))\n",
    "print(\"theta3={0}\".format(theta3))"
   ]
  },
  {
   "cell_type": "markdown",
   "metadata": {},
   "source": [
    "Next, we choose the number of assets. For this very simple example we'll set the assets to 3, but feel free to generate a different number."
   ]
  },
  {
   "cell_type": "code",
   "execution_count": 3,
   "metadata": {
    "execution": {
     "iopub.execute_input": "2022-07-05T05:12:00.323194Z",
     "iopub.status.busy": "2022-07-05T05:12:00.322476Z",
     "iopub.status.idle": "2022-07-05T05:12:00.327251Z",
     "shell.execute_reply": "2022-07-05T05:12:00.326344Z"
    }
   },
   "outputs": [],
   "source": [
    "num_assets=3"
   ]
  },
  {
   "cell_type": "markdown",
   "metadata": {},
   "source": [
    "For each of the assets, $i$, we will randomly generate the associated price, $B_i$. For simplicity, we define two positive integers `min_cost` and `max_cost`.  The prices will be chosen at random from the set of integers in the interval [`min_cost`,`max_cost`]."
   ]
  },
  {
   "cell_type": "code",
   "execution_count": 4,
   "metadata": {
    "execution": {
     "iopub.execute_input": "2022-07-05T05:12:00.332334Z",
     "iopub.status.busy": "2022-07-05T05:12:00.331688Z",
     "iopub.status.idle": "2022-07-05T05:12:00.341239Z",
     "shell.execute_reply": "2022-07-05T05:12:00.340165Z"
    }
   },
   "outputs": [
    {
     "name": "stdout",
     "output_type": "stream",
     "text": [
      "Allowable asset allocation quantities: {0: 2, 1: 1, 2: 5}\n"
     ]
    }
   ],
   "source": [
    "min_cost=1\n",
    "max_cost=10\n",
    "possible_costs=list(range(min_cost,max_cost+1))\n",
    "costs={i:random.choice(possible_costs) for i in range(num_assets)}\n",
    "print(\"Allowable asset allocation quantities: {0}\".format(costs))"
   ]
  },
  {
   "cell_type": "markdown",
   "metadata": {},
   "source": [
    "Next, we choose the total budget, $B$."
   ]
  },
  {
   "cell_type": "code",
   "execution_count": 5,
   "metadata": {
    "execution": {
     "iopub.execute_input": "2022-07-05T05:12:00.345831Z",
     "iopub.status.busy": "2022-07-05T05:12:00.344862Z",
     "iopub.status.idle": "2022-07-05T05:12:00.352384Z",
     "shell.execute_reply": "2022-07-05T05:12:00.351156Z"
    }
   },
   "outputs": [
    {
     "name": "stdout",
     "output_type": "stream",
     "text": [
      "Total budget: 4.0\n"
     ]
    }
   ],
   "source": [
    "B=sum([costs[key] for key in costs])/2.\n",
    "print(\"Total budget: {0}\".format(B))"
   ]
  },
  {
   "cell_type": "markdown",
   "metadata": {},
   "source": [
    "Next, we generate the expected returns, $\\text{E}(R_i)$, associated to each asset.  Again, for simplicity, we define two positive integers `min_return` and `max_return`.  The expected returns will be chosen at random from the set of integers in the interval [`min_return`,`max_return`]. "
   ]
  },
  {
   "cell_type": "code",
   "execution_count": 6,
   "metadata": {
    "execution": {
     "iopub.execute_input": "2022-07-05T05:12:00.356507Z",
     "iopub.status.busy": "2022-07-05T05:12:00.356004Z",
     "iopub.status.idle": "2022-07-05T05:12:00.365402Z",
     "shell.execute_reply": "2022-07-05T05:12:00.364138Z"
    }
   },
   "outputs": [
    {
     "name": "stdout",
     "output_type": "stream",
     "text": [
      "Expected returns: {0: 4, 1: 4, 2: 3}\n"
     ]
    }
   ],
   "source": [
    "min_return=1\n",
    "max_return=10\n",
    "possible_returns=list(range(min_return,max_return+1))\n",
    "E={(i,i):random.choice(possible_returns) for i in range(num_assets)}\n",
    "print(\"Expected returns: {0}\".format( {key[0]:E[key] for key in E}))"
   ]
  },
  {
   "cell_type": "markdown",
   "metadata": {},
   "source": [
    "Next, we generate the expected covariances $\\text{Cov}(R_i,R_j)$ associated to each pair of assets.  We define two integers `min_covariance` and `max_covariance`, and set the prices at random from the set of integers in the interval [`min_covariance`,`max_covariance`]. "
   ]
  },
  {
   "cell_type": "code",
   "execution_count": 7,
   "metadata": {
    "execution": {
     "iopub.execute_input": "2022-07-05T05:12:00.368928Z",
     "iopub.status.busy": "2022-07-05T05:12:00.368626Z",
     "iopub.status.idle": "2022-07-05T05:12:00.376224Z",
     "shell.execute_reply": "2022-07-05T05:12:00.374838Z"
    }
   },
   "outputs": [
    {
     "name": "stdout",
     "output_type": "stream",
     "text": [
      "Covariances: {(0, 1): -7, (0, 2): 7, (1, 2): -8}\n"
     ]
    }
   ],
   "source": [
    "Cov={}\n",
    "min_covariance=-10\n",
    "max_covariance=10\n",
    "possible_covariances=list(range(min_covariance,max_covariance+1))\n",
    "for i in range(num_assets):\n",
    "    for j in range(i+1,num_assets):\n",
    "        Cov[(i,j)]=random.choice(possible_covariances)\n",
    "print(\"Covariances: {0}\".format(Cov))"
   ]
  },
  {
   "cell_type": "markdown",
   "metadata": {},
   "source": [
    "In this section we take care of the third term in the objective function."
   ]
  },
  {
   "cell_type": "code",
   "execution_count": 8,
   "metadata": {
    "execution": {
     "iopub.execute_input": "2022-07-05T05:12:00.379561Z",
     "iopub.status.busy": "2022-07-05T05:12:00.379288Z",
     "iopub.status.idle": "2022-07-05T05:12:00.385354Z",
     "shell.execute_reply": "2022-07-05T05:12:00.384207Z"
    }
   },
   "outputs": [],
   "source": [
    "penalty={}\n",
    "for i in range(num_assets):\n",
    "    penalty[(i,i)]=costs[i]*costs[i]-2*B*costs[i]\n",
    "    for j in range(i+1,num_assets):\n",
    "        penalty[(i,j)]=2*costs[i]*costs[j]\n",
    "offset=theta3*B*B"
   ]
  },
  {
   "cell_type": "markdown",
   "metadata": {},
   "source": [
    "Finally, we merge all the dictionaries we have created and form our final QUBO."
   ]
  },
  {
   "cell_type": "code",
   "execution_count": 9,
   "metadata": {
    "execution": {
     "iopub.execute_input": "2022-07-05T05:12:00.388661Z",
     "iopub.status.busy": "2022-07-05T05:12:00.388382Z",
     "iopub.status.idle": "2022-07-05T05:12:00.394377Z",
     "shell.execute_reply": "2022-07-05T05:12:00.393439Z"
    }
   },
   "outputs": [
    {
     "name": "stdout",
     "output_type": "stream",
     "text": [
      "Final QUBO: {(0, 0): -16.0, (0, 1): -3, (0, 2): 27, (1, 1): -11.0, (1, 2): 2, (2, 2): -18.0}\n"
     ]
    }
   ],
   "source": [
    "Q={}\n",
    "for key in penalty:\n",
    "    Q[key]=theta3*penalty[key]\n",
    "for key in Cov:\n",
    "    Q[key]+=theta2*Cov[key]\n",
    "for key in E:\n",
    "    Q[key]+=-theta1*E[key]\n",
    "\n",
    "print(\"Final QUBO: {0}\".format(Q))"
   ]
  },
  {
   "cell_type": "markdown",
   "metadata": {},
   "source": [
    "We can visualize the QUBO matrix that we've just made as the following:\n",
    "\n",
    "$$\n",
    "Q =\n",
    "\\begin{pmatrix}\n",
    "E(R_{1}) & Cov(R_{1},R_{2}) & Cov(R_{1},R_{3})\\\\\n",
    "0 & E(R_{2}) & Cov(R_{2},R_{3}) \\\\\n",
    "0 & 0 & E(R_{3})\n",
    "\\end{pmatrix}\n",
    "\\;\\;\n",
    "$$"
   ]
  },
  {
   "cell_type": "markdown",
   "metadata": {},
   "source": [
    "***\n",
    "## 3. Quantum Computing Solution using the QC Ware API<a id=\"quantum_solution\"></a>\n",
    "\n",
    "Using QC Ware's API, we can solve this problem with the `optimize_binary()` function.  With the `optimize_binary()` function, the user has the option to choose from a number of different backend solvers.  Without having to change the way the QUBO is input, QC Ware's tools then automatically formulate the problem in a way that is suitable for the selected solver's corresponding software and hardware environment.  This allows the user to explore with minimal hassle the backend that might be most well-suited for her application.\n",
    "\n",
    "Let us take a look at a few different solvers.  We start by importing the `qcware` module and entering your API key if needed (not necessary on Forge-hosted notebooks)"
   ]
  },
  {
   "cell_type": "code",
   "execution_count": 10,
   "metadata": {
    "execution": {
     "iopub.execute_input": "2022-07-05T05:12:00.399694Z",
     "iopub.status.busy": "2022-07-05T05:12:00.399424Z",
     "iopub.status.idle": "2022-07-05T05:12:00.404001Z",
     "shell.execute_reply": "2022-07-05T05:12:00.403127Z"
    }
   },
   "outputs": [],
   "source": [
    "import qcware.types\n",
    "import qubovert as qv"
   ]
  },
  {
   "cell_type": "markdown",
   "metadata": {},
   "source": [
    "### 3.a Execution via a classical QAOA simulator using the QC Ware API <a id=\"qaoa_software_simulator\"></a>\n",
    "\n",
    "The first solver we explore is `qcware/cpu_simulator`, which is an implementation of the quantum approximate optimization aglorithm (QAOA) [<sup>2</sup>](https://arxiv.org/abs/1411.4028) for (classical) energy minimization problems of the Ising model, developed using QCWare's Quasar simulator.  We briefly recall that any Ising solver can also be used for QUBOs due to the mathematical equivalence between QUBOs and Ising problems under the appropriate transformation.  This in turns allows us to solve our QUBO formulation of the portfolio optimization problem.\n",
    "\n",
    "The following call takes two arguments:\n",
    "1. the `BinaryProblem` class, which represents our QUBO, and\n",
    "2. a string, `qcware/cpu_simulator`, which is the name of the desired backend solver."
   ]
  },
  {
   "cell_type": "code",
   "execution_count": 11,
   "metadata": {
    "execution": {
     "iopub.execute_input": "2022-07-05T05:12:00.407258Z",
     "iopub.status.busy": "2022-07-05T05:12:00.406983Z",
     "iopub.status.idle": "2022-07-05T05:12:01.482617Z",
     "shell.execute_reply": "2022-07-05T05:12:01.481543Z"
    }
   },
   "outputs": [
    {
     "name": "stdout",
     "output_type": "stream",
     "text": [
      "Objective value: -30\n",
      "Solution: (1, 1, 0) (and 0 other equally good solutions)\n"
     ]
    }
   ],
   "source": [
    "qubo = qv.QUBO(Q)\n",
    "poly = qcware.types.optimization.PolynomialObjective(\n",
    "    polynomial=qubo.Q,\n",
    "    num_variables=qubo.num_binary_variables,\n",
    "    domain='boolean'\n",
    "    )\n",
    "problem = qcware.types.optimization.BinaryProblem(objective=poly)\n",
    "\n",
    "solver1='qcware/cpu_simulator'\n",
    "response = forge.optimization.optimize_binary(instance=problem, backend=solver1)\n",
    "print(response)"
   ]
  },
  {
   "cell_type": "markdown",
   "metadata": {},
   "source": [
    "### 3.b Execution via D-Wave Systems' Quantum Annealer using the QC Ware API <a id=\"dwave_quantum_annealer\"></a>\n",
    "\n",
    "While the above two solvers target two distinct universal quantum computing software frameworks, we can also target a special purpose quantum annealing hardware framework: the D-Wave 2000Q [<sup>6</sup>](https://www.dwavesys.com).  As an example, let us use the solver `dwave_hardware`, which is an implementation of the simulated annealing algorithm [<sup>7</sup>](https://docs.dwavesys.com/docs/latest/c_solver_2.html) for (classical) energy minimization problems of the Ising model, developed using D-Wave's Ocean [<sup>8</sup>](https://docs.dwavesys.com/docs/latest/index.html) software framework.\n",
    "\n",
    "Again, as we can see below, despite the notably different architectures of universal quantum computers and special purpose quantum annealers, switching to this different backend is done simply by changing the value of the string corresponding desired backend solver."
   ]
  },
  {
   "cell_type": "code",
   "execution_count": 12,
   "metadata": {
    "execution": {
     "iopub.execute_input": "2022-07-05T05:12:01.488199Z",
     "iopub.status.busy": "2022-07-05T05:12:01.487774Z",
     "iopub.status.idle": "2022-07-05T05:12:06.547514Z",
     "shell.execute_reply": "2022-07-05T05:12:06.546080Z"
    }
   },
   "outputs": [
    {
     "name": "stdout",
     "output_type": "stream",
     "text": [
      "Objective value: -30\n",
      "Solution: (1, 1, 0)\n"
     ]
    }
   ],
   "source": [
    "qubo = qv.QUBO(Q)\n",
    "poly = qcware.types.optimization.PolynomialObjective(\n",
    "    polynomial=qubo.Q,\n",
    "    num_variables=qubo.num_binary_variables,\n",
    "    domain='boolean'\n",
    "    )\n",
    "problem = qcware.types.optimization.BinaryProblem(objective=poly)\n",
    "\n",
    "solver3='dwave/2000q'\n",
    "response = forge.optimization.optimize_binary(instance=problem, backend=solver3)\n",
    "print(response)"
   ]
  },
  {
   "cell_type": "markdown",
   "metadata": {},
   "source": [
    "### 3.c Execution via a classical brute force solver <a id=\"classical_brute_solver\"></a>\n",
    "\n",
    "As a fourth and final example, we briefly demonstrate the use of the `brute_force` solver.  This is a purely classical solver, and it solves the problem via the most primitive algorithm.  As the name suggests, this solver simply loops over all possible solutions, and keeps track of the configuration with the lowest energy.  Due to its primitive nature, this algorithm is limited to rather small problem sizes in practice.  On the other hand, because this algorithm returns the global optima with probability 1, it can be used with smaller problems as a debugging tool."
   ]
  },
  {
   "cell_type": "code",
   "execution_count": 13,
   "metadata": {
    "execution": {
     "iopub.execute_input": "2022-07-05T05:12:06.552219Z",
     "iopub.status.busy": "2022-07-05T05:12:06.551406Z",
     "iopub.status.idle": "2022-07-05T05:12:06.862497Z",
     "shell.execute_reply": "2022-07-05T05:12:06.861388Z"
    }
   },
   "outputs": [
    {
     "name": "stdout",
     "output_type": "stream",
     "text": [
      "Objective value: -30\n",
      "Solution: (1, 1, 0)\n"
     ]
    }
   ],
   "source": [
    "qubo = qv.QUBO(Q)\n",
    "poly = qcware.types.optimization.PolynomialObjective(\n",
    "    polynomial=qubo.Q,\n",
    "    num_variables=qubo.num_binary_variables,\n",
    "    domain='boolean'\n",
    "    )\n",
    "problem = qcware.types.optimization.BinaryProblem(objective=poly)\n",
    "\n",
    "solver4='qcware/cpu'\n",
    "response = forge.optimization.optimize_binary(instance=problem, backend=solver4)\n",
    "print(response)"
   ]
  },
  {
   "cell_type": "markdown",
   "metadata": {},
   "source": [
    "Note: If you are viewing this on GitHub and want to access QC Ware's API to execute the notebook you will need an API key.\n",
    "<br><a href=\"#top\">Back to Table of Contents</a>"
   ]
  }
 ],
 "metadata": {
  "kernelspec": {
   "display_name": "Python 3",
   "language": "python",
   "name": "python3"
  },
  "language_info": {
   "codemirror_mode": {
    "name": "ipython",
    "version": 3
   },
   "file_extension": ".py",
   "mimetype": "text/x-python",
   "name": "python",
   "nbconvert_exporter": "python",
   "pygments_lexer": "ipython3",
   "version": "3.9.2"
  }
 },
 "nbformat": 4,
 "nbformat_minor": 4
}
