{
 "cells": [
  {
   "cell_type": "markdown",
   "metadata": {},
   "source": [
    "<div style=\"background-color: #cfc ; padding: 20px; border-radius: 10px ; border: 2px solid green;\">\n",
    "<p>\n",
    "<font size=\"+3\">  <b> <center> NISQ Amplitude Estimation notebook</center></b></font>\n",
    "</p>    \n",
    "</div>"
   ]
  },
  {
   "cell_type": "markdown",
   "metadata": {},
   "source": [
    "## Import QCWare libraries"
   ]
  },
  {
   "cell_type": "code",
   "execution_count": 1,
   "metadata": {
    "execution": {
     "iopub.execute_input": "2021-12-09T05:07:49.276710Z",
     "iopub.status.busy": "2021-12-09T05:07:49.276036Z",
     "iopub.status.idle": "2021-12-09T05:07:49.812808Z",
     "shell.execute_reply": "2021-12-09T05:07:49.811564Z"
    }
   },
   "outputs": [],
   "source": [
    "import quasar\n",
    "from qcware import forge\n",
    "import numpy as np\n",
    "from qcware.forge.qutils import create_qdot_circuit\n",
    "from qcware.forge.montecarlo.nisqAE import make_schedule, run_schedule, run_unary, compute_mle"
   ]
  },
  {
   "cell_type": "markdown",
   "metadata": {},
   "source": [
    "## The NISQ Amplitude Estimation algorithm\n",
    "\n",
    "Let us provide a high level description of the NISQ Amplitude Estimation method.\n",
    "\n",
    "We start with an initial quantum circuit $\\mathcal{A}$, which we assume performs a general mapping of the form \n",
    "$\\lvert 0 \\rangle \\mapsto cos(\\theta) \\lvert 0 \\rangle \\lvert bad \\rangle + sin(\\theta) \\lvert 1 \\rangle \\lvert good \\rangle$. \n",
    "\n",
    "Our goal is to estimate within some accuracy $\\epsilon$ the probability of getting a good state, namely estimate the parameter $\\theta$.\n",
    "\n",
    "The main idea is that not only do we have the possibility to sample from this quantum circuit directly (that gives us outcome $\\lvert 1 \\rangle$ with probability $\\sin^2(\\theta)$), but we can create deeper quantum circuits by repeating this initial quantum circuit sequentially, so that sampling from all these quantum circuits with different depths and cleverly combining all the results, reduces the total number of samples. "
   ]
  },
  {
   "cell_type": "markdown",
   "metadata": {},
   "source": [
    "The way to create these deeper quantum circuits is by defining the iteration circuit as $S_\\chi\\mathcal{A}^\\dagger S_0 \\mathcal{A}$, where $S_{\\chi}$ is a unitary operator that flips the phase of the good states and $S_0$ is a unitary operation theta flips the $\\lvert 0 \\rangle$ state. Then, the circuit corresponding to depth $D$ is a concatenation of the initial circuit and $D$ times of the iteration circuit. In many cases, the definition of the optimal iteration circuit can be automated, but one can also provide their own iteration circuit. "
   ]
  },
  {
   "cell_type": "markdown",
   "metadata": {},
   "source": [
    "The next important part of the quantum Amplitude Estimation method is to define a schedule of which circuits to sample from and how many times. In other words, we need to define a schedule, which is a list of pairs {($D_1$,$N_1$), ($D_2$,$N_2$),...($D_k$,$N_k$)}, that tells the quantum algorithm to run each quantum circuit of depth $D_i$ for $N_i$ shots. Different schedules give different accuracies with different number of samples! Here, we have some predefined types of schedules ('linear','exponential','powerlaw,'direct') one can use or one can define their own schedule by just providing a list.\n",
    "\n",
    "Last, we perform a Maximum Likelihood Estimation to provide the most accurate value."
   ]
  },
  {
   "cell_type": "markdown",
   "metadata": {},
   "source": [
    "### Example 1"
   ]
  },
  {
   "cell_type": "markdown",
   "metadata": {},
   "source": [
    "The simplest possible case: a circuit such that $\\lvert 0 \\rangle \\mapsto cos(\\theta) \\lvert 0 \\rangle + sin(\\theta) \\lvert 1 \\rangle$ for some unknown $\\theta$. The goal is to estimate $\\theta$ within $\\epsilon$."
   ]
  },
  {
   "cell_type": "markdown",
   "metadata": {},
   "source": [
    "#### Define the initial_circuit"
   ]
  },
  {
   "cell_type": "code",
   "execution_count": 2,
   "metadata": {
    "execution": {
     "iopub.execute_input": "2021-12-09T05:07:49.821553Z",
     "iopub.status.busy": "2021-12-09T05:07:49.820571Z",
     "iopub.status.idle": "2021-12-09T05:07:49.826085Z",
     "shell.execute_reply": "2021-12-09T05:07:49.826692Z"
    }
   },
   "outputs": [
    {
     "name": "stdout",
     "output_type": "stream",
     "text": [
      "Theta is:  1.2059919357410576 \n",
      "\n",
      "T  : |0 |\n",
      "\n",
      "q0 : -Rx-\n",
      "         \n",
      "T  : |0 |\n",
      "\n"
     ]
    }
   ],
   "source": [
    "# Example 1 : one qubit rotation\n",
    "\n",
    "theta = np.random.rand(1)[0] * np.pi/2\n",
    "print(\"Theta is: \", theta,\"\\n\")\n",
    "\n",
    "initial_circuit = quasar.Circuit().Rx(0,theta=theta)\n",
    "print(initial_circuit)"
   ]
  },
  {
   "cell_type": "markdown",
   "metadata": {},
   "source": [
    "#### Define a schedule"
   ]
  },
  {
   "cell_type": "code",
   "execution_count": 3,
   "metadata": {
    "execution": {
     "iopub.execute_input": "2021-12-09T05:07:49.840387Z",
     "iopub.status.busy": "2021-12-09T05:07:49.834908Z",
     "iopub.status.idle": "2021-12-09T05:07:50.127532Z",
     "shell.execute_reply": "2021-12-09T05:07:50.126852Z"
    }
   },
   "outputs": [],
   "source": [
    "# Examples of schedules\n",
    "# (schedule_type='direct', n_shots=10000) : [[0,10000]]\n",
    "# (schedule_type='linear', max_depth=10,n_shots=10):  [[0,10],[1,10],[2,10],[3,10],[4,10],...,[10,10]]\n",
    "# (schedule_type='exponential', max_depth=20,n_shots=10) [[1,10],[2,10],[4,10],[8,10],[16,10]]\n",
    "# (schedule_type='powerlaw', beta=0.2, n_shots=10) : this is a more complicated schedule that depends on beta\n",
    "# which takes values from [0.1 , 0.9]. Attention, the exponent beta can result in very large computations\n",
    "\n",
    "\n",
    "schedule = None         # provide a schedule, eg [[0,20],[1,20],[2,20]] or put None for predefined schedule types\n",
    "schedule_type = 'linear' # schedule type: 'direct', 'linear','exponential','powerlaw', (only if schedule=None)\n",
    "n_shots = 10             # shots per circuit\n",
    "max_depth = 20    # parameter for 'linear' and 'exponential' to define the maximum depth of a circuit\n",
    "beta = 0.2              # parameter for the 'powerlaw' schedule between [0.1,0.9]\n",
    "\n",
    "epsilon = 0.005 # the accuracy parameter\n",
    "\n",
    "schedule = make_schedule(schedule_type=schedule_type, n_shots=n_shots, beta=beta, epsilon=epsilon)"
   ]
  },
  {
   "cell_type": "code",
   "execution_count": 4,
   "metadata": {
    "execution": {
     "iopub.execute_input": "2021-12-09T05:07:50.142009Z",
     "iopub.status.busy": "2021-12-09T05:07:50.141135Z",
     "iopub.status.idle": "2021-12-09T05:07:50.144956Z",
     "shell.execute_reply": "2021-12-09T05:07:50.145440Z"
    }
   },
   "outputs": [
    {
     "data": {
      "text/plain": [
       "[[0, 10],\n",
       " [1, 10],\n",
       " [2, 10],\n",
       " [3, 10],\n",
       " [4, 10],\n",
       " [5, 10],\n",
       " [6, 10],\n",
       " [7, 10],\n",
       " [8, 10],\n",
       " [9, 10],\n",
       " [10, 10],\n",
       " [11, 10],\n",
       " [12, 10],\n",
       " [13, 10],\n",
       " [14, 10],\n",
       " [15, 10],\n",
       " [16, 10],\n",
       " [17, 10],\n",
       " [18, 10],\n",
       " [19, 10],\n",
       " [20, 10]]"
      ]
     },
     "execution_count": 4,
     "metadata": {},
     "output_type": "execute_result"
    }
   ],
   "source": [
    "schedule"
   ]
  },
  {
   "cell_type": "markdown",
   "metadata": {},
   "source": [
    "#### Get the samples for the quantum circuits\n",
    "\n",
    "Here we use the function nisqAE_unary( ) which works for one-qubit circuits and circuits that only have support on unary states. This function takes as inputs only the initial_circuit and a schedule, computes the iteration circuit  internally and outputs an estimate. It uses the most NISQ circuits."
   ]
  },
  {
   "cell_type": "code",
   "execution_count": 5,
   "metadata": {
    "execution": {
     "iopub.execute_input": "2021-12-09T05:07:50.153030Z",
     "iopub.status.busy": "2021-12-09T05:07:50.152335Z",
     "iopub.status.idle": "2021-12-09T05:07:50.536677Z",
     "shell.execute_reply": "2021-12-09T05:07:50.536007Z"
    }
   },
   "outputs": [],
   "source": [
    "# we use the nisqAE_unary function that works for one qubit circuits or when the circuits only produce unary states\n",
    "results = run_unary(initial_circuit, schedule)"
   ]
  },
  {
   "cell_type": "code",
   "execution_count": 6,
   "metadata": {
    "execution": {
     "iopub.execute_input": "2021-12-09T05:07:50.544727Z",
     "iopub.status.busy": "2021-12-09T05:07:50.543941Z",
     "iopub.status.idle": "2021-12-09T05:07:50.549996Z",
     "shell.execute_reply": "2021-12-09T05:07:50.549409Z"
    }
   },
   "outputs": [
    {
     "data": {
      "text/plain": [
       "[[[0, 10], 9],\n",
       " [[1, 10], 1],\n",
       " [[2, 10], 1],\n",
       " [[3, 10], 3],\n",
       " [[4, 10], 10],\n",
       " [[5, 10], 6],\n",
       " [[6, 10], 0],\n",
       " [[7, 10], 2],\n",
       " [[8, 10], 10],\n",
       " [[9, 10], 6],\n",
       " [[10, 10], 0],\n",
       " [[11, 10], 4],\n",
       " [[12, 10], 9],\n",
       " [[13, 10], 9],\n",
       " [[14, 10], 3],\n",
       " [[15, 10], 0],\n",
       " [[16, 10], 7],\n",
       " [[17, 10], 9],\n",
       " [[18, 10], 6],\n",
       " [[19, 10], 0],\n",
       " [[20, 10], 4]]"
      ]
     },
     "execution_count": 6,
     "metadata": {},
     "output_type": "execute_result"
    }
   ],
   "source": [
    "results"
   ]
  },
  {
   "cell_type": "markdown",
   "metadata": {},
   "source": [
    "#### Post process them with MLE"
   ]
  },
  {
   "cell_type": "code",
   "execution_count": 7,
   "metadata": {
    "execution": {
     "iopub.execute_input": "2021-12-09T05:07:50.558175Z",
     "iopub.status.busy": "2021-12-09T05:07:50.557547Z",
     "iopub.status.idle": "2021-12-09T05:07:51.477027Z",
     "shell.execute_reply": "2021-12-09T05:07:51.476385Z"
    }
   },
   "outputs": [
    {
     "name": "stdout",
     "output_type": "stream",
     "text": [
      "NISQ AE estimate: 1.2079423753052756\n",
      "Real value: 1.2059919357410576\n"
     ]
    },
    {
     "name": "stdout",
     "output_type": "stream",
     "text": [
      "Estimation error: 0.0019504395642180317\n"
     ]
    }
   ],
   "source": [
    "# calculate_nisqAE_MLE(results,0.001)\n",
    "\n",
    "# check if the value is close to the real one\n",
    "print('NISQ AE estimate:', compute_mle(results,0.001))\n",
    "print('Real value:', theta)\n",
    "print('Estimation error:', np.abs(compute_mle(results,0.001) - theta) )"
   ]
  },
  {
   "cell_type": "markdown",
   "metadata": {},
   "source": [
    "### Example 2\n",
    "\n",
    "We now use the qdot circuit that estimates the dot product between two input vectors. This is a unary quantum circuit so we can still use the nisqAE_unary( ) function."
   ]
  },
  {
   "cell_type": "code",
   "execution_count": 8,
   "metadata": {
    "execution": {
     "iopub.execute_input": "2021-12-09T05:07:51.487075Z",
     "iopub.status.busy": "2021-12-09T05:07:51.486152Z",
     "iopub.status.idle": "2021-12-09T05:07:51.735994Z",
     "shell.execute_reply": "2021-12-09T05:07:51.735195Z"
    }
   },
   "outputs": [
    {
     "name": "stdout",
     "output_type": "stream",
     "text": [
      "T  : |0|1|2|3|4|5|\n",
      "\n",
      "q0 : -X-B-B-B-B-B-\n",
      "        | | | | | \n",
      "q1 : ---|-|-S-|-|-\n",
      "        | |   | | \n",
      "q2 : ---|-S-B-S-|-\n",
      "        |   |   | \n",
      "q3 : ---|---S---|-\n",
      "        |       | \n",
      "q4 : ---S-B-B-B-S-\n",
      "          | | |   \n",
      "q5 : -----|-S-|---\n",
      "          |   |   \n",
      "q6 : -----S-B-S---\n",
      "            |     \n",
      "q7 : -------S-----\n",
      "                  \n",
      "T  : |0|1|2|3|4|5|\n",
      "\n"
     ]
    }
   ],
   "source": [
    "dimension = 8\n",
    "\n",
    "x = np.random.rand(dimension)\n",
    "x = x/np.linalg.norm(x)\n",
    "y = np.random.rand(dimension)\n",
    "y = y/np.linalg.norm(y)\n",
    "\n",
    "dot_circuit = create_qdot_circuit(x,y,loader_mode=\"parallel\",absolute=True)\n",
    "print(dot_circuit)"
   ]
  },
  {
   "cell_type": "code",
   "execution_count": 9,
   "metadata": {
    "execution": {
     "iopub.execute_input": "2021-12-09T05:07:51.747118Z",
     "iopub.status.busy": "2021-12-09T05:07:51.745774Z",
     "iopub.status.idle": "2021-12-09T05:07:53.482344Z",
     "shell.execute_reply": "2021-12-09T05:07:53.483675Z"
    }
   },
   "outputs": [
    {
     "name": "stdout",
     "output_type": "stream",
     "text": [
      "NISQ AE estimate: 0.5157053795390641\n",
      "Real value: 0.514993953761738\n",
      "Estimation error: 0.0007114257773261912\n"
     ]
    }
   ],
   "source": [
    "schedule = make_schedule(schedule_type=schedule_type, n_shots=n_shots, beta=beta, epsilon= epsilon)\n",
    "results2 = run_unary(dot_circuit, schedule)\n",
    "estimated_theta = compute_mle(results2,0.001)\n",
    "\n",
    "# compute the estimated dot product\n",
    "estimated_dot= np.sin(estimated_theta)**2\n",
    "\n",
    "# check if the value is close to the real one\n",
    "print('NISQ AE estimate:', estimated_dot)\n",
    "print('Real value:', np.dot(x,y)**2)\n",
    "print('Estimation error:', np.abs(estimated_dot - np.dot(x,y)**2) )"
   ]
  },
  {
   "cell_type": "markdown",
   "metadata": {},
   "source": [
    "### Example 3\n",
    "\n",
    "We can also directly compute the iteration circuit ourselves and provide the target qubits and states to the more general function run_nisqAE_schedule( ). This is what we have done for pricing European Options using quantum Monte Carlo methods. \n",
    "\n",
    "Here we show it again for the one-qubit rotation circuit. "
   ]
  },
  {
   "cell_type": "code",
   "execution_count": 10,
   "metadata": {
    "execution": {
     "iopub.execute_input": "2021-12-09T05:07:53.496906Z",
     "iopub.status.busy": "2021-12-09T05:07:53.487349Z",
     "iopub.status.idle": "2021-12-09T05:07:54.755936Z",
     "shell.execute_reply": "2021-12-09T05:07:54.754610Z"
    }
   },
   "outputs": [
    {
     "name": "stdout",
     "output_type": "stream",
     "text": [
      "NISQ AE estimate: 0.6314601233715484\n",
      "Real value: 0.6301911458891744\n",
      "Estimation error: 0.0012689774823740896\n"
     ]
    }
   ],
   "source": [
    "# Example 1 : one qubit rotation\n",
    "\n",
    "theta = np.random.rand(1)[0] * np.pi/2\n",
    "\n",
    "initial_circuit = quasar.Circuit().Rx(0,theta=theta)\n",
    "iteration_circuit = quasar.Circuit().Z(0).Rx(0,theta=-theta).Z(0).Rx(0,theta=theta)\n",
    "\n",
    "schedule = make_schedule(schedule_type=schedule_type, n_shots=n_shots, beta=beta, epsilon= epsilon)\n",
    "results3 = run_schedule(\n",
    "    initial_circuit=initial_circuit, \n",
    "    iteration_circuit=iteration_circuit, \n",
    "    target_qubits=[0],\n",
    "    target_states=[1],\n",
    "    schedule=schedule)\n",
    "estimated_theta = compute_mle(results3,0.001)\n",
    "\n",
    "# check if the value is close to the real one\n",
    "print('NISQ AE estimate:', estimated_theta)\n",
    "print('Real value:', theta)\n",
    "print('Estimation error:', np.abs(estimated_theta - theta) )"
   ]
  },
  {
   "cell_type": "code",
   "execution_count": null,
   "metadata": {},
   "outputs": [],
   "source": []
  }
 ],
 "metadata": {
  "kernelspec": {
   "display_name": "Python 3 (ipykernel)",
   "language": "python",
   "name": "python3"
  },
  "language_info": {
   "codemirror_mode": {
    "name": "ipython",
    "version": 3
   },
   "file_extension": ".py",
   "mimetype": "text/x-python",
   "name": "python",
   "nbconvert_exporter": "python",
   "pygments_lexer": "ipython3",
   "version": "3.9.2"
  }
 },
 "nbformat": 4,
 "nbformat_minor": 4
}
