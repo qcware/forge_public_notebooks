{
 "cells": [
  {
   "cell_type": "markdown",
   "metadata": {},
   "source": [
    "<div style=\"background-color: #cfc ; padding: 20px; border-radius: 10px ; border: 2px solid green;\">\n",
    "<p>\n",
    "<font size=\"+3\">  <b> <center> NISQ Amplitude Estimation</center></b></font>\n",
    "</p>    \n",
    "</div>"
   ]
  },
  {
   "cell_type": "markdown",
   "metadata": {},
   "source": [
    "## Import QCWare libraries"
   ]
  },
  {
   "cell_type": "code",
   "execution_count": 1,
   "metadata": {
    "execution": {
     "iopub.execute_input": "2022-02-26T05:20:11.473027Z",
     "iopub.status.busy": "2022-02-26T05:20:11.472394Z",
     "iopub.status.idle": "2022-02-26T05:20:12.057842Z",
     "shell.execute_reply": "2022-02-26T05:20:12.058451Z"
    }
   },
   "outputs": [],
   "source": [
    "import quasar\n",
    "from qcware import forge\n",
    "import numpy as np\n",
    "from qcware.forge.montecarlo.nisqAE import make_schedule, run_schedule, run_unary, compute_mle"
   ]
  },
  {
   "cell_type": "markdown",
   "metadata": {},
   "source": [
    "## The NISQ Amplitude Estimation algorithm\n",
    "\n",
    "Let us provide a high level description of the NISQ Amplitude Estimation method.\n",
    "\n",
    "We start with an initial quantum circuit $\\mathcal{A}$, which we assume performs a general mapping of the form \n",
    "$\\lvert 0 \\rangle \\mapsto cos(\\theta) \\lvert 0 \\rangle \\lvert bad \\rangle + sin(\\theta) \\lvert 1 \\rangle \\lvert good \\rangle$. \n",
    "\n",
    "Our goal is to estimate within some accuracy $\\epsilon$ the probability of getting a good state, namely estimate the parameter $\\theta$.\n",
    "\n",
    "The main idea is that not only do we have the possibility to sample from this quantum circuit directly (that gives us outcome $\\lvert 1 \\rangle$ with probability $\\sin^2(\\theta)$), but we can create deeper quantum circuits by repeating this initial quantum circuit sequentially, so that sampling from all these quantum circuits with different depths and cleverly combining all the results, reduces the total number of samples. "
   ]
  },
  {
   "cell_type": "markdown",
   "metadata": {},
   "source": [
    "The way to create these deeper quantum circuits is by defining the iteration circuit as $S_\\chi\\mathcal{A}^\\dagger S_0 \\mathcal{A}$, where $S_{\\chi}$ is a unitary operator that flips the phase of the good states and $S_0$ is a unitary operation theta flips the $\\lvert 0 \\rangle$ state. Then, the circuit corresponding to depth $D$ is a concatenation of the initial circuit and $D$ times of the iteration circuit. In many cases, the definition of the optimal iteration circuit can be automated, but one can also provide their own iteration circuit. "
   ]
  },
  {
   "cell_type": "markdown",
   "metadata": {},
   "source": [
    "The next important part of the quantum Amplitude Estimation method is to define a schedule of which circuits to sample from and how many times. In other words, we need to define a schedule, which is a list of pairs {($D_1$,$N_1$), ($D_2$,$N_2$),...($D_k$,$N_k$)}, that tells the quantum algorithm to run each quantum circuit of depth $D_i$ for $N_i$ shots. Different schedules give different accuracies with different number of samples! Here, we have some predefined types of schedules ('linear','exponential','powerlaw,'direct') one can use or one can define their own schedule by just providing a list.\n",
    "\n",
    "Last, we perform a Maximum Likelihood Estimation to provide the most accurate value."
   ]
  },
  {
   "cell_type": "markdown",
   "metadata": {},
   "source": [
    "# Example 1"
   ]
  },
  {
   "cell_type": "markdown",
   "metadata": {},
   "source": [
    "The simplest possible case: a circuit such that $\\lvert 0 \\rangle \\mapsto cos(\\theta) \\lvert 0 \\rangle + sin(\\theta) \\lvert 1 \\rangle$ for some unknown $\\theta$. The goal is to estimate $\\theta$ within $\\epsilon$."
   ]
  },
  {
   "cell_type": "markdown",
   "metadata": {},
   "source": [
    "### Define the initial_circuit"
   ]
  },
  {
   "cell_type": "code",
   "execution_count": 2,
   "metadata": {
    "execution": {
     "iopub.execute_input": "2022-02-26T05:20:12.066322Z",
     "iopub.status.busy": "2022-02-26T05:20:12.065135Z",
     "iopub.status.idle": "2022-02-26T05:20:12.069640Z",
     "shell.execute_reply": "2022-02-26T05:20:12.069114Z"
    }
   },
   "outputs": [
    {
     "name": "stdout",
     "output_type": "stream",
     "text": [
      "Theta is:  0.4657601884148984 \n",
      "\n",
      "T  : |0 |\n",
      "\n",
      "q0 : -Rx-\n",
      "         \n",
      "T  : |0 |\n",
      "\n"
     ]
    }
   ],
   "source": [
    "# Example 1 : one qubit rotation\n",
    "\n",
    "theta = np.random.rand(1)[0] * np.pi/2\n",
    "print(\"Theta is: \", theta,\"\\n\")\n",
    "\n",
    "initial_circuit = quasar.Circuit().Rx(0,theta=theta)\n",
    "print(initial_circuit)"
   ]
  },
  {
   "cell_type": "markdown",
   "metadata": {},
   "source": [
    "### Choose a schedule"
   ]
  },
  {
   "cell_type": "markdown",
   "metadata": {},
   "source": [
    "#### Examples of schedules\n",
    " - (schedule_type='direct', n_shots=10000):<br/>\n",
    "         -> [[0,10000]]\n",
    " - (schedule_type='linear', max_depth=10,n_shots=10):<br/>\n",
    "         -> [[0,10],[1,10],[2,10],[3,10],[4,10],...,[10,10]]\n",
    " - (schedule_type='exponential', max_depth=20,n_shots=10):<br/>\n",
    "         -> [[1,10],[2,10],[4,10],[8,10],[16,10]]\n",
    " - schedule_type='powerlaw', beta=0.15, n_shots=10):<br/>\n",
    "         -> [[0, 10], [6, 10], [21, 10], [49, 10], [94, 10]]\n",
    "   - This is a more complicated schedule whose max depth depends on beta.\n",
    "   - Note, beta can result in very large computations.\n"
   ]
  },
  {
   "cell_type": "code",
   "execution_count": 3,
   "metadata": {
    "execution": {
     "iopub.execute_input": "2022-02-26T05:20:12.080771Z",
     "iopub.status.busy": "2022-02-26T05:20:12.079673Z",
     "iopub.status.idle": "2022-02-26T05:20:12.384457Z",
     "shell.execute_reply": "2022-02-26T05:20:12.383881Z"
    }
   },
   "outputs": [],
   "source": [
    "epsilon = 0.005 # the accuracy parameter\n",
    "\n",
    "schedule = make_schedule(\n",
    "    schedule_type = \"exponential\", \n",
    "    n_shots = 10,\n",
    "    max_depth = 20,\n",
    "    epsilon = epsilon\n",
    ")"
   ]
  },
  {
   "cell_type": "code",
   "execution_count": 4,
   "metadata": {
    "execution": {
     "iopub.execute_input": "2022-02-26T05:20:12.398006Z",
     "iopub.status.busy": "2022-02-26T05:20:12.397254Z",
     "iopub.status.idle": "2022-02-26T05:20:12.401385Z",
     "shell.execute_reply": "2022-02-26T05:20:12.400805Z"
    }
   },
   "outputs": [
    {
     "data": {
      "text/plain": [
       "[[1, 10], [2, 10], [4, 10], [8, 10], [16, 10]]"
      ]
     },
     "execution_count": 4,
     "metadata": {},
     "output_type": "execute_result"
    }
   ],
   "source": [
    "schedule"
   ]
  },
  {
   "cell_type": "markdown",
   "metadata": {},
   "source": [
    "### Get the samples for the quantum circuits\n",
    "\n",
    "Here we use the function run_unary( ) which works for one-qubit circuits and circuits that only have support on unary states. This function takes as inputs only the initial_circuit and a schedule, computes the iteration circuit  internally and outputs an estimate. It uses the most NISQ circuits."
   ]
  },
  {
   "cell_type": "code",
   "execution_count": 5,
   "metadata": {
    "execution": {
     "iopub.execute_input": "2022-02-26T05:20:12.408202Z",
     "iopub.status.busy": "2022-02-26T05:20:12.405701Z",
     "iopub.status.idle": "2022-02-26T05:20:12.733462Z",
     "shell.execute_reply": "2022-02-26T05:20:12.732378Z"
    }
   },
   "outputs": [],
   "source": [
    "results = run_unary(initial_circuit, schedule)"
   ]
  },
  {
   "cell_type": "markdown",
   "metadata": {},
   "source": [
    "### Post process them with MLE and compare"
   ]
  },
  {
   "cell_type": "code",
   "execution_count": 6,
   "metadata": {
    "execution": {
     "iopub.execute_input": "2022-02-26T05:20:12.741933Z",
     "iopub.status.busy": "2022-02-26T05:20:12.741077Z",
     "iopub.status.idle": "2022-02-26T05:20:13.017896Z",
     "shell.execute_reply": "2022-02-26T05:20:13.017314Z"
    }
   },
   "outputs": [
    {
     "name": "stdout",
     "output_type": "stream",
     "text": [
      "NISQ AE estimate: 0.471238898038469\n",
      "Real value: 0.4657601884148984\n",
      "Estimation error: 0.00547870962357061\n"
     ]
    }
   ],
   "source": [
    "estimated_theta = compute_mle(results, epsilon)\n",
    "\n",
    "print('NISQ AE estimate:', estimated_theta)\n",
    "print('Real value:', theta)\n",
    "print('Estimation error:', np.abs(estimated_theta - theta) )"
   ]
  },
  {
   "cell_type": "markdown",
   "metadata": {},
   "source": [
    "# Example 2\n",
    "\n",
    "We now use the qdot circuit that estimates the dot product between two input vectors. This is a unary quantum circuit so we can still use the run_unary( ) function."
   ]
  },
  {
   "cell_type": "markdown",
   "metadata": {},
   "source": [
    "### Define the initial_circuit"
   ]
  },
  {
   "cell_type": "code",
   "execution_count": 7,
   "metadata": {
    "execution": {
     "iopub.execute_input": "2022-02-26T05:20:13.030618Z",
     "iopub.status.busy": "2022-02-26T05:20:13.029889Z",
     "iopub.status.idle": "2022-02-26T05:20:13.294359Z",
     "shell.execute_reply": "2022-02-26T05:20:13.293466Z"
    }
   },
   "outputs": [
    {
     "name": "stdout",
     "output_type": "stream",
     "text": [
      "Qdot circuit between\n",
      " x: [0.128 0.289 0.396 0.64  0.36  0.43  0.116 0.073]\n",
      " y: [0.621 0.034 0.229 0.709 0.071 0.207 0.05  0.083]\n",
      "\n",
      "\n",
      " T  : |0|1|2|3|4|5|\n",
      "\n",
      "q0 : -X-B-B-B-B-B-\n",
      "        | | | | | \n",
      "q1 : ---|-|-S-|-|-\n",
      "        | |   | | \n",
      "q2 : ---|-S-B-S-|-\n",
      "        |   |   | \n",
      "q3 : ---|---S---|-\n",
      "        |       | \n",
      "q4 : ---S-B-B-B-S-\n",
      "          | | |   \n",
      "q5 : -----|-S-|---\n",
      "          |   |   \n",
      "q6 : -----S-B-S---\n",
      "            |     \n",
      "q7 : -------S-----\n",
      "                  \n",
      "T  : |0|1|2|3|4|5|\n",
      "\n"
     ]
    }
   ],
   "source": [
    "from qcware.forge.qutils import create_qdot_circuit\n",
    "\n",
    "x = np.random.rand(8)\n",
    "x = x/np.linalg.norm(x)\n",
    "y = np.random.rand(8)\n",
    "y = y/np.linalg.norm(y)\n",
    "\n",
    "initial_circuit = create_qdot_circuit(x, y, loader_mode=\"parallel\", absolute=True)\n",
    "\n",
    "print(\"Qdot circuit between\")\n",
    "print(\" x:\", np.round(x, 3))\n",
    "print(\" y:\", np.round(y, 3))\n",
    "print(\"\\n\\n\", initial_circuit)"
   ]
  },
  {
   "cell_type": "code",
   "execution_count": 8,
   "metadata": {
    "execution": {
     "iopub.execute_input": "2022-02-26T05:20:13.303901Z",
     "iopub.status.busy": "2022-02-26T05:20:13.297673Z",
     "iopub.status.idle": "2022-02-26T05:20:14.074697Z",
     "shell.execute_reply": "2022-02-26T05:20:14.074019Z"
    }
   },
   "outputs": [
    {
     "name": "stdout",
     "output_type": "stream",
     "text": [
      "NISQ AE estimate: 0.5782172325201156\n",
      "Real value: 0.5781292381617443\n",
      "Estimation error: 8.799435837125724e-05\n"
     ]
    }
   ],
   "source": [
    "results = run_unary(initial_circuit, schedule)\n",
    "estimated_theta = compute_mle(results, epsilon)\n",
    "\n",
    "# compute the estimated dot product\n",
    "estimated_dot= np.sin(estimated_theta)**2\n",
    "\n",
    "# check if the value is close to the real one\n",
    "print('NISQ AE estimate:', estimated_dot)\n",
    "print('Real value:', np.dot(x,y)**2)\n",
    "print('Estimation error:', np.abs(estimated_dot - np.dot(x,y)**2) )"
   ]
  },
  {
   "cell_type": "markdown",
   "metadata": {},
   "source": [
    "# Example 3\n",
    "\n",
    "We can also directly compute the iteration circuit ourselves and provide the target qubits and states to the more general function run_nisqAE_schedule( ). This is what we have done for pricing European Options using quantum Monte Carlo methods. \n",
    "\n",
    "Here we show it again for the one-qubit rotation circuit. "
   ]
  },
  {
   "cell_type": "markdown",
   "metadata": {},
   "source": [
    "### Define the initial_circuit and iteration_circuit"
   ]
  },
  {
   "cell_type": "code",
   "execution_count": 9,
   "metadata": {
    "execution": {
     "iopub.execute_input": "2022-02-26T05:20:14.081972Z",
     "iopub.status.busy": "2022-02-26T05:20:14.081317Z",
     "iopub.status.idle": "2022-02-26T05:20:14.085171Z",
     "shell.execute_reply": "2022-02-26T05:20:14.084386Z"
    }
   },
   "outputs": [],
   "source": [
    "theta = np.random.rand(1)[0] * np.pi/2\n",
    "\n",
    "initial_circuit = quasar.Circuit().Rx(0,theta=theta)\n",
    "iteration_circuit = quasar.Circuit().Z(0).Rx(0,theta=-theta).Z(0).Rx(0,theta=theta)"
   ]
  },
  {
   "cell_type": "markdown",
   "metadata": {},
   "source": [
    "### Make and run the powerlaw schedule"
   ]
  },
  {
   "cell_type": "code",
   "execution_count": 10,
   "metadata": {
    "execution": {
     "iopub.execute_input": "2022-02-26T05:20:14.094238Z",
     "iopub.status.busy": "2022-02-26T05:20:14.093252Z",
     "iopub.status.idle": "2022-02-26T05:20:14.745047Z",
     "shell.execute_reply": "2022-02-26T05:20:14.744061Z"
    }
   },
   "outputs": [],
   "source": [
    "schedule = make_schedule(schedule_type=\"powerlaw\", n_shots=20, beta=0.2, epsilon=epsilon)\n",
    "results = run_schedule(\n",
    "    initial_circuit = initial_circuit, \n",
    "    iteration_circuit = iteration_circuit, \n",
    "    target_qubits = [0],\n",
    "    target_states = [1],\n",
    "    schedule = schedule\n",
    ")"
   ]
  },
  {
   "cell_type": "markdown",
   "metadata": {},
   "source": [
    "### Compare results"
   ]
  },
  {
   "cell_type": "code",
   "execution_count": 11,
   "metadata": {
    "execution": {
     "iopub.execute_input": "2022-02-26T05:20:14.756117Z",
     "iopub.status.busy": "2022-02-26T05:20:14.755118Z",
     "iopub.status.idle": "2022-02-26T05:20:15.058963Z",
     "shell.execute_reply": "2022-02-26T05:20:15.059669Z"
    }
   },
   "outputs": [
    {
     "name": "stdout",
     "output_type": "stream",
     "text": [
      "NISQ AE estimate: 0.3455751918948773\n",
      "Real value: 0.3454660678265531\n",
      "Estimation error: 0.00010912406832419563\n"
     ]
    }
   ],
   "source": [
    "estimated_theta = compute_mle(results, epsilon)\n",
    "\n",
    "# check if the value is close to the real one\n",
    "print('NISQ AE estimate:', estimated_theta)\n",
    "print('Real value:', theta)\n",
    "print('Estimation error:', np.abs(estimated_theta - theta))"
   ]
  }
 ],
 "metadata": {
  "kernelspec": {
   "display_name": "Python 3 (ipykernel)",
   "language": "python",
   "name": "python3"
  },
  "language_info": {
   "codemirror_mode": {
    "name": "ipython",
    "version": 3
   },
   "file_extension": ".py",
   "mimetype": "text/x-python",
   "name": "python",
   "nbconvert_exporter": "python",
   "pygments_lexer": "ipython3",
   "version": "3.9.2"
  }
 },
 "nbformat": 4,
 "nbformat_minor": 4
}
