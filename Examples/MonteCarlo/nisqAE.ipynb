{
 "cells": [
  {
   "cell_type": "markdown",
   "metadata": {},
   "source": [
    "<div style=\"background-color: #cfc ; padding: 20px; border-radius: 10px ; border: 2px solid green;\">\n",
    "<p>\n",
    "<font size=\"+3\">  <b> <center> NISQ Amplitude Estimation</center></b></font>\n",
    "</p>    \n",
    "</div>"
   ]
  },
  {
   "cell_type": "markdown",
   "metadata": {},
   "source": [
    "## Import QCWare libraries"
   ]
  },
  {
   "cell_type": "code",
   "execution_count": 1,
   "metadata": {
    "execution": {
     "iopub.execute_input": "2022-03-04T05:20:40.623871Z",
     "iopub.status.busy": "2022-03-04T05:20:40.623160Z",
     "iopub.status.idle": "2022-03-04T05:20:41.352767Z",
     "shell.execute_reply": "2022-03-04T05:20:41.351737Z"
    }
   },
   "outputs": [],
   "source": [
    "import quasar\n",
    "from qcware import forge\n",
    "import numpy as np\n",
    "from qcware.forge.montecarlo.nisqAE import make_schedule, run_schedule, run_unary, compute_mle"
   ]
  },
  {
   "cell_type": "markdown",
   "metadata": {},
   "source": [
    "## The NISQ Amplitude Estimation algorithm\n",
    "\n",
    "Let us provide a high level description of the NISQ Amplitude Estimation method.\n",
    "\n",
    "We start with an initial quantum circuit $\\mathcal{A}$, which we assume performs a general mapping of the form \n",
    "$\\lvert 0 \\rangle \\mapsto cos(\\theta) \\lvert 0 \\rangle \\lvert bad \\rangle + sin(\\theta) \\lvert 1 \\rangle \\lvert good \\rangle$. \n",
    "\n",
    "Our goal is to estimate within some accuracy $\\epsilon$ the probability of getting a good state, namely estimate the parameter $\\theta$.\n",
    "\n",
    "The main idea is that not only do we have the possibility to sample from this quantum circuit directly (that gives us outcome $\\lvert 1 \\rangle$ with probability $\\sin^2(\\theta)$), but we can create deeper quantum circuits by repeating this initial quantum circuit sequentially, so that sampling from all these quantum circuits with different depths and cleverly combining all the results, reduces the total number of samples. "
   ]
  },
  {
   "cell_type": "markdown",
   "metadata": {},
   "source": [
    "The way to create these deeper quantum circuits is by defining the iteration circuit as $S_\\chi\\mathcal{A}^\\dagger S_0 \\mathcal{A}$, where $S_{\\chi}$ is a unitary operator that flips the phase of the good states and $S_0$ is a unitary operation theta flips the $\\lvert 0 \\rangle$ state. Then, the circuit corresponding to depth $D$ is a concatenation of the initial circuit and $D$ times of the iteration circuit. In many cases, the definition of the optimal iteration circuit can be automated, but one can also provide their own iteration circuit. "
   ]
  },
  {
   "cell_type": "markdown",
   "metadata": {},
   "source": [
    "The next important part of the quantum Amplitude Estimation method is to define a schedule of which circuits to sample from and how many times. In other words, we need to define a schedule, which is a list of pairs {($D_1$,$N_1$), ($D_2$,$N_2$),...($D_k$,$N_k$)}, that tells the quantum algorithm to run each quantum circuit of depth $D_i$ for $N_i$ shots. Different schedules give different accuracies with different number of samples! Here, we have some predefined types of schedules ('linear','exponential','powerlaw,'direct') one can use or one can define their own schedule by just providing a list.\n",
    "\n",
    "Last, we perform a Maximum Likelihood Estimation to provide the most accurate value."
   ]
  },
  {
   "cell_type": "markdown",
   "metadata": {},
   "source": [
    "# Example 1"
   ]
  },
  {
   "cell_type": "markdown",
   "metadata": {},
   "source": [
    "The simplest possible case: a circuit such that $\\lvert 0 \\rangle \\mapsto cos(\\theta) \\lvert 0 \\rangle + sin(\\theta) \\lvert 1 \\rangle$ for some unknown $\\theta$. The goal is to estimate $\\theta$ within $\\epsilon$."
   ]
  },
  {
   "cell_type": "markdown",
   "metadata": {},
   "source": [
    "### Define the initial_circuit"
   ]
  },
  {
   "cell_type": "code",
   "execution_count": 2,
   "metadata": {
    "execution": {
     "iopub.execute_input": "2022-03-04T05:20:41.363628Z",
     "iopub.status.busy": "2022-03-04T05:20:41.361953Z",
     "iopub.status.idle": "2022-03-04T05:20:41.367129Z",
     "shell.execute_reply": "2022-03-04T05:20:41.368087Z"
    }
   },
   "outputs": [
    {
     "name": "stdout",
     "output_type": "stream",
     "text": [
      "Theta is:  1.0426145930462032 \n",
      "\n",
      "T  : |0 |\n",
      "\n",
      "q0 : -Rx-\n",
      "         \n",
      "T  : |0 |\n",
      "\n"
     ]
    }
   ],
   "source": [
    "# Example 1 : one qubit rotation\n",
    "\n",
    "theta = np.random.rand(1)[0] * np.pi/2\n",
    "print(\"Theta is: \", theta,\"\\n\")\n",
    "\n",
    "initial_circuit = quasar.Circuit().Rx(0,theta=theta)\n",
    "print(initial_circuit)"
   ]
  },
  {
   "cell_type": "markdown",
   "metadata": {},
   "source": [
    "### Choose a schedule"
   ]
  },
  {
   "cell_type": "markdown",
   "metadata": {},
   "source": [
    "#### Examples of schedules\n",
    " - (schedule_type='direct', n_shots=10000):<br/>\n",
    "         -> [[0,10000]]\n",
    " - (schedule_type='linear', max_depth=10,n_shots=10):<br/>\n",
    "         -> [[0,10],[1,10],[2,10],[3,10],[4,10],...,[10,10]]\n",
    " - (schedule_type='exponential', max_depth=20,n_shots=10):<br/>\n",
    "         -> [[1,10],[2,10],[4,10],[8,10],[16,10]]\n",
    " - schedule_type='powerlaw', beta=0.15, n_shots=10):<br/>\n",
    "         -> [[0, 10], [6, 10], [21, 10], [49, 10], [94, 10]]\n",
    "   - This is a more complicated schedule whose max depth depends on beta.\n",
    "   - Note, beta can result in very large computations.\n"
   ]
  },
  {
   "cell_type": "code",
   "execution_count": 3,
   "metadata": {
    "execution": {
     "iopub.execute_input": "2022-03-04T05:20:41.376519Z",
     "iopub.status.busy": "2022-03-04T05:20:41.374066Z",
     "iopub.status.idle": "2022-03-04T05:20:41.706631Z",
     "shell.execute_reply": "2022-03-04T05:20:41.707582Z"
    }
   },
   "outputs": [],
   "source": [
    "epsilon = 0.005 # the accuracy parameter\n",
    "\n",
    "schedule = make_schedule(\n",
    "    schedule_type = \"exponential\", \n",
    "    n_shots = 10,\n",
    "    max_depth = 20,\n",
    "    epsilon = epsilon\n",
    ")"
   ]
  },
  {
   "cell_type": "code",
   "execution_count": 4,
   "metadata": {
    "execution": {
     "iopub.execute_input": "2022-03-04T05:20:41.724007Z",
     "iopub.status.busy": "2022-03-04T05:20:41.712512Z",
     "iopub.status.idle": "2022-03-04T05:20:41.727508Z",
     "shell.execute_reply": "2022-03-04T05:20:41.728494Z"
    }
   },
   "outputs": [
    {
     "data": {
      "text/plain": [
       "[[1, 10], [2, 10], [4, 10], [8, 10], [16, 10]]"
      ]
     },
     "execution_count": 4,
     "metadata": {},
     "output_type": "execute_result"
    }
   ],
   "source": [
    "schedule"
   ]
  },
  {
   "cell_type": "markdown",
   "metadata": {},
   "source": [
    "### Get the samples for the quantum circuits\n",
    "\n",
    "Here we use the function run_unary( ) which works for one-qubit circuits and circuits that only have support on unary states. This function takes as inputs only the initial_circuit and a schedule, computes the iteration circuit  internally and outputs an estimate. It uses the most NISQ circuits."
   ]
  },
  {
   "cell_type": "code",
   "execution_count": 5,
   "metadata": {
    "execution": {
     "iopub.execute_input": "2022-03-04T05:20:41.747373Z",
     "iopub.status.busy": "2022-03-04T05:20:41.744641Z",
     "iopub.status.idle": "2022-03-04T05:20:42.120119Z",
     "shell.execute_reply": "2022-03-04T05:20:42.119497Z"
    }
   },
   "outputs": [],
   "source": [
    "results = run_unary(initial_circuit, schedule)"
   ]
  },
  {
   "cell_type": "markdown",
   "metadata": {},
   "source": [
    "### Post process them with MLE and compare"
   ]
  },
  {
   "cell_type": "code",
   "execution_count": 6,
   "metadata": {
    "execution": {
     "iopub.execute_input": "2022-03-04T05:20:42.133835Z",
     "iopub.status.busy": "2022-03-04T05:20:42.132694Z",
     "iopub.status.idle": "2022-03-04T05:20:42.477236Z",
     "shell.execute_reply": "2022-03-04T05:20:42.476247Z"
    }
   },
   "outputs": [
    {
     "name": "stdout",
     "output_type": "stream",
     "text": [
      "NISQ AE estimate: 1.0367255756846319\n",
      "Real value: 1.0426145930462032\n",
      "Estimation error: 0.005889017361571325\n"
     ]
    }
   ],
   "source": [
    "estimated_theta = compute_mle(results, epsilon)\n",
    "\n",
    "print('NISQ AE estimate:', estimated_theta)\n",
    "print('Real value:', theta)\n",
    "print('Estimation error:', np.abs(estimated_theta - theta) )"
   ]
  },
  {
   "cell_type": "markdown",
   "metadata": {},
   "source": [
    "# Example 2\n",
    "\n",
    "We now use the qdot circuit that estimates the dot product between two input vectors. This is a unary quantum circuit so we can still use the run_unary( ) function."
   ]
  },
  {
   "cell_type": "markdown",
   "metadata": {},
   "source": [
    "### Define the initial_circuit"
   ]
  },
  {
   "cell_type": "code",
   "execution_count": 7,
   "metadata": {
    "execution": {
     "iopub.execute_input": "2022-03-04T05:20:42.491930Z",
     "iopub.status.busy": "2022-03-04T05:20:42.491000Z",
     "iopub.status.idle": "2022-03-04T05:20:42.836554Z",
     "shell.execute_reply": "2022-03-04T05:20:42.837466Z"
    }
   },
   "outputs": [
    {
     "name": "stdout",
     "output_type": "stream",
     "text": [
      "Qdot circuit between\n",
      " x: [0.448 0.58  0.272 0.128 0.432 0.246 0.165 0.314]\n",
      " y: [0.507 0.105 0.002 0.279 0.507 0.056 0.376 0.503]\n",
      "\n",
      "\n",
      " T  : |0|1|2|3|4|5|\n",
      "\n",
      "q0 : -X-B-B-B-B-B-\n",
      "        | | | | | \n",
      "q1 : ---|-|-S-|-|-\n",
      "        | |   | | \n",
      "q2 : ---|-S-B-S-|-\n",
      "        |   |   | \n",
      "q3 : ---|---S---|-\n",
      "        |       | \n",
      "q4 : ---S-B-B-B-S-\n",
      "          | | |   \n",
      "q5 : -----|-S-|---\n",
      "          |   |   \n",
      "q6 : -----S-B-S---\n",
      "            |     \n",
      "q7 : -------S-----\n",
      "                  \n",
      "T  : |0|1|2|3|4|5|\n",
      "\n"
     ]
    }
   ],
   "source": [
    "from qcware.forge.qutils import create_qdot_circuit\n",
    "\n",
    "x = np.random.rand(8)\n",
    "x = x/np.linalg.norm(x)\n",
    "y = np.random.rand(8)\n",
    "y = y/np.linalg.norm(y)\n",
    "\n",
    "initial_circuit = create_qdot_circuit(x, y, loader_mode=\"parallel\", absolute=True)\n",
    "\n",
    "print(\"Qdot circuit between\")\n",
    "print(\" x:\", np.round(x, 3))\n",
    "print(\" y:\", np.round(y, 3))\n",
    "print(\"\\n\\n\", initial_circuit)"
   ]
  },
  {
   "cell_type": "code",
   "execution_count": 8,
   "metadata": {
    "execution": {
     "iopub.execute_input": "2022-03-04T05:20:42.851561Z",
     "iopub.status.busy": "2022-03-04T05:20:42.850556Z",
     "iopub.status.idle": "2022-03-04T05:20:43.638658Z",
     "shell.execute_reply": "2022-03-04T05:20:43.637909Z"
    }
   },
   "outputs": [
    {
     "name": "stdout",
     "output_type": "stream",
     "text": [
      "NISQ AE estimate: 0.5936906572928623\n",
      "Real value: 0.6031549532130182\n",
      "Estimation error: 0.009464295920155852\n"
     ]
    }
   ],
   "source": [
    "results = run_unary(initial_circuit, schedule)\n",
    "estimated_theta = compute_mle(results, epsilon)\n",
    "\n",
    "# compute the estimated dot product\n",
    "estimated_dot= np.sin(estimated_theta)**2\n",
    "\n",
    "# check if the value is close to the real one\n",
    "print('NISQ AE estimate:', estimated_dot)\n",
    "print('Real value:', np.dot(x,y)**2)\n",
    "print('Estimation error:', np.abs(estimated_dot - np.dot(x,y)**2) )"
   ]
  },
  {
   "cell_type": "markdown",
   "metadata": {},
   "source": [
    "# Example 3\n",
    "\n",
    "We can also directly compute the iteration circuit ourselves and provide the target qubits and states to the more general function run_nisqAE_schedule( ). This is what we have done for pricing European Options using quantum Monte Carlo methods. \n",
    "\n",
    "Here we show it again for the one-qubit rotation circuit. "
   ]
  },
  {
   "cell_type": "markdown",
   "metadata": {},
   "source": [
    "### Define the initial_circuit and iteration_circuit"
   ]
  },
  {
   "cell_type": "code",
   "execution_count": 9,
   "metadata": {
    "execution": {
     "iopub.execute_input": "2022-03-04T05:20:43.650157Z",
     "iopub.status.busy": "2022-03-04T05:20:43.647313Z",
     "iopub.status.idle": "2022-03-04T05:20:43.655251Z",
     "shell.execute_reply": "2022-03-04T05:20:43.656252Z"
    }
   },
   "outputs": [],
   "source": [
    "theta = np.random.rand(1)[0] * np.pi/2\n",
    "\n",
    "initial_circuit = quasar.Circuit().Rx(0,theta=theta)\n",
    "iteration_circuit = quasar.Circuit().Z(0).Rx(0,theta=-theta).Z(0).Rx(0,theta=theta)"
   ]
  },
  {
   "cell_type": "markdown",
   "metadata": {},
   "source": [
    "### Make and run the powerlaw schedule"
   ]
  },
  {
   "cell_type": "code",
   "execution_count": 10,
   "metadata": {
    "execution": {
     "iopub.execute_input": "2022-03-04T05:20:43.670320Z",
     "iopub.status.busy": "2022-03-04T05:20:43.669117Z",
     "iopub.status.idle": "2022-03-04T05:20:44.370114Z",
     "shell.execute_reply": "2022-03-04T05:20:44.369139Z"
    }
   },
   "outputs": [],
   "source": [
    "schedule = make_schedule(schedule_type=\"powerlaw\", n_shots=20, beta=0.2, epsilon=epsilon)\n",
    "results = run_schedule(\n",
    "    initial_circuit = initial_circuit, \n",
    "    iteration_circuit = iteration_circuit, \n",
    "    target_qubits = [0],\n",
    "    target_states = [1],\n",
    "    schedule = schedule\n",
    ")"
   ]
  },
  {
   "cell_type": "markdown",
   "metadata": {},
   "source": [
    "### Compare results"
   ]
  },
  {
   "cell_type": "code",
   "execution_count": 11,
   "metadata": {
    "execution": {
     "iopub.execute_input": "2022-03-04T05:20:44.381503Z",
     "iopub.status.busy": "2022-03-04T05:20:44.380369Z",
     "iopub.status.idle": "2022-03-04T05:20:44.671060Z",
     "shell.execute_reply": "2022-03-04T05:20:44.670335Z"
    }
   },
   "outputs": [
    {
     "name": "stdout",
     "output_type": "stream",
     "text": [
      "NISQ AE estimate: 0.3769911184307752\n",
      "Real value: 0.378793828948168\n",
      "Estimation error: 0.0018027105173927804\n"
     ]
    }
   ],
   "source": [
    "estimated_theta = compute_mle(results, epsilon)\n",
    "\n",
    "# check if the value is close to the real one\n",
    "print('NISQ AE estimate:', estimated_theta)\n",
    "print('Real value:', theta)\n",
    "print('Estimation error:', np.abs(estimated_theta - theta))"
   ]
  }
 ],
 "metadata": {
  "kernelspec": {
   "display_name": "Python 3 (ipykernel)",
   "language": "python",
   "name": "python3"
  },
  "language_info": {
   "codemirror_mode": {
    "name": "ipython",
    "version": 3
   },
   "file_extension": ".py",
   "mimetype": "text/x-python",
   "name": "python",
   "nbconvert_exporter": "python",
   "pygments_lexer": "ipython3",
   "version": "3.9.2"
  }
 },
 "nbformat": 4,
 "nbformat_minor": 4
}
