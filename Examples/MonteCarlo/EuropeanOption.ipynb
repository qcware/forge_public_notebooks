{
 "cells": [
  {
   "cell_type": "markdown",
   "metadata": {},
   "source": [
    "<div style=\"background-color: #cfc ; padding: 20px; border-radius: 10px ; border: 2px solid green;\">\n",
    "<p><font size=\"+3\"><b><center> European Option Pricing </center></b></font>\n",
    "</p>\n",
    "<p>\n",
    "<font size=\"3px\">  <center> A demonstration of the Forge Monte Carlo API.</center></font>\n",
    "</p>    \n",
    "</div>"
   ]
  },
  {
   "cell_type": "markdown",
   "metadata": {},
   "source": [
    "<div class=\"alert alert-block alert-warning\">\n",
    "    Note: The following notebook uses features of Forge (data loaders) which are not available to Developer-level (free) accounts.\n",
    "</div>\n",
    "\n",
    "**forge.montecarlo** is Forge's API for Quantum Monte Carlo simulations.\n",
    "\n",
    "Our ambition is to deliver the first real applications of quantitative finance with Quantum Monte Carlo simulations. The following notebook will show you how to price a European option with quantum computers using Forge.\n",
    "\n",
    "This notebook leverages european_option.py, which defines the circuits for option pricing."
   ]
  },
  {
   "cell_type": "markdown",
   "metadata": {},
   "source": [
    "## Import QCWare libraries"
   ]
  },
  {
   "cell_type": "code",
   "execution_count": 1,
   "metadata": {
    "execution": {
     "iopub.execute_input": "2022-06-08T05:11:51.195309Z",
     "iopub.status.busy": "2022-06-08T05:11:51.194614Z",
     "iopub.status.idle": "2022-06-08T05:11:52.524275Z",
     "shell.execute_reply": "2022-06-08T05:11:52.523067Z"
    },
    "tags": []
   },
   "outputs": [],
   "source": [
    "import quasar\n",
    "import qcware\n",
    "import numpy as np\n",
    "from qcware.forge import qutils\n",
    "from european_option import EuropeanOption"
   ]
  },
  {
   "cell_type": "markdown",
   "metadata": {},
   "source": [
    "## Define the EuropeanOption\n",
    "<div class=\"alert alert-block alert-warning\">\n",
    "The call to EuropeanOption below requires a paid account due to its use of qio.loader.\n",
    "</div>"
   ]
  },
  {
   "cell_type": "code",
   "execution_count": 2,
   "metadata": {
    "execution": {
     "iopub.execute_input": "2022-06-08T05:11:52.529753Z",
     "iopub.status.busy": "2022-06-08T05:11:52.529244Z",
     "iopub.status.idle": "2022-06-08T05:11:52.864588Z",
     "shell.execute_reply": "2022-06-08T05:11:52.863323Z"
    },
    "tags": []
   },
   "outputs": [],
   "source": [
    "epsilon = 0.005             # Precision parameter for the estimate\n",
    "n_asset_prices = 8          # Asset price distribution will be discretized in 8 parts. This means we'll use 8 qubits to simulate prices, and 1 qubit to compute payoff. \n",
    "\n",
    "initial_asset_price = 100\n",
    "strike_price = 110\n",
    "interest_rate = 0.05\n",
    "volatility = 0.1\n",
    "time_to_simulate = 1        # Time to simulate in years\n",
    "option_type = 'C'           # Call option\n",
    "\n",
    "new_product = EuropeanOption(n_asset_prices, initial_asset_price, strike_price, interest_rate, volatility, time_to_simulate, option_type, epsilon)"
   ]
  },
  {
   "cell_type": "markdown",
   "metadata": {},
   "source": [
    "#### Price with Black-Scholes formula\n",
    "\n",
    "This is a closed-form solution that makes several assumptions about the market."
   ]
  },
  {
   "cell_type": "code",
   "execution_count": 3,
   "metadata": {
    "execution": {
     "iopub.execute_input": "2022-06-08T05:11:52.876460Z",
     "iopub.status.busy": "2022-06-08T05:11:52.870172Z",
     "iopub.status.idle": "2022-06-08T05:11:52.883233Z",
     "shell.execute_reply": "2022-06-08T05:11:52.882164Z"
    }
   },
   "outputs": [
    {
     "name": "stdout",
     "output_type": "stream",
     "text": [
      "Price with Black Scholes formula: 2.174\n",
      "[ 84.04901448  90.07132738  96.09364029 102.11595319 108.13826609\n",
      " 114.16057899 120.18289189 126.20520479]\n"
     ]
    }
   ],
   "source": [
    "print(\"Price with Black Scholes formula:\",round(new_product.bsm,3))\n",
    "print(new_product.asset_distribution)"
   ]
  },
  {
   "cell_type": "markdown",
   "metadata": {},
   "source": [
    "#### Run a perfect simulation of the quantum pricing circuit on a CPU simulator\n",
    "\n",
    "Note: we're limited in precision by the fact that we're discretizing the asset price distribution into 8 parts, so we can't hope to match the Black-Scholes estimate exactly."
   ]
  },
  {
   "cell_type": "code",
   "execution_count": 4,
   "metadata": {
    "execution": {
     "iopub.execute_input": "2022-06-08T05:11:52.890985Z",
     "iopub.status.busy": "2022-06-08T05:11:52.889711Z",
     "iopub.status.idle": "2022-06-08T05:11:53.775317Z",
     "shell.execute_reply": "2022-06-08T05:11:53.774205Z"
    }
   },
   "outputs": [
    {
     "name": "stdout",
     "output_type": "stream",
     "text": [
      "Perfect simulation price after discretization: 1.9441536619918698\n"
     ]
    }
   ],
   "source": [
    "perfect_price = new_product.price(n_shots=None)\n",
    "print('Perfect simulation price after discretization:',perfect_price)"
   ]
  },
  {
   "cell_type": "markdown",
   "metadata": {
    "tags": []
   },
   "source": [
    "#### What's the goal of the montecarlo API?\n",
    "We just ran a perfect simulation of the quantum pricing algorithm on the cpu simulator, taking n_shots = infinity. Take note of this result.\n",
    "\n",
    "We'll now try to get close to this result with <b>far fewer runs of the model (fewer \"oracle calls\")</b> using the quantum monte carlo API.\n",
    "\n",
    "Here's our first attempt, using all the default parameters:"
   ]
  },
  {
   "cell_type": "code",
   "execution_count": 5,
   "metadata": {
    "execution": {
     "iopub.execute_input": "2022-06-08T05:11:53.780689Z",
     "iopub.status.busy": "2022-06-08T05:11:53.779558Z",
     "iopub.status.idle": "2022-06-08T05:11:54.936315Z",
     "shell.execute_reply": "2022-06-08T05:11:54.935080Z"
    }
   },
   "outputs": [
    {
     "name": "stdout",
     "output_type": "stream",
     "text": [
      "Estimated price: 2.0247506459197493\n",
      "Shots: 110\n",
      "Model runs: 1210\n"
     ]
    }
   ],
   "source": [
    "quantum_price = new_product.price()\n",
    "print('Estimated price:', quantum_price)\n",
    "print('Shots:', new_product.shots)\n",
    "print('Model runs:', new_product.oracle_calls)"
   ]
  },
  {
   "cell_type": "markdown",
   "metadata": {},
   "source": [
    "## Going deeper into the quantum Monte Carlo method\n",
    "\n",
    "Let us provide a high level description of the quantum Monte Carlo method.\n",
    "\n",
    "We start with the model, which is a quantum circuit which we can measure directly to get a sample. For example here, the quantum circuit creates a distribution over asset prices and then computes the payoff function for each of them in superposition, so that when we measure we get a sample from the distribution of the expected payoff. \n",
    "\n",
    "The main idea is that not only do we have the possibility to sample from this quantum circuit directly, but we can create deeper quantum circuits by repeating this quantum model sequentially, so that sampling from all these quantum circuits with different depths and cleverly combining all the results, reduces the total number of samples. \n",
    "\n",
    "Thus, the first important part of the quantum Monte Carlo method is to define a schedule of which circuits to samples from and how many times. In other words, we need to define a schedule, which is a list of pairs {($D_1$,$N_1$), ($D_2$,$N_2$),...($D_k$,$N_k$)}, that tells the quantum algorithm to run each quantum circuit of depth $D_i$ for $N_i$ shots. Different schedules give different accuracies with different number of samples!\n",
    "\n",
    "Here, we have some predefined types of schedules ('linear','exponential','powerlaw,'direct') one can use or one can define their own schedule by just providing as a list."
   ]
  },
  {
   "cell_type": "markdown",
   "metadata": {},
   "source": [
    "### Schedules for quantum pricing"
   ]
  },
  {
   "cell_type": "markdown",
   "metadata": {},
   "source": [
    "We can use different types of schedules for the quantum pricing algorithm.\n",
    "\n",
    "#### Examples of schedules\n",
    " - (schedule_type='direct', n_shots=10000):<br/>\n",
    "         -> [[0,10000]]\n",
    " - (schedule_type='linear', max_depth=10,n_shots=10):<br/>\n",
    "         -> [[0,10],[1,10],[2,10],[3,10],[4,10],...,[10,10]]\n",
    " - (schedule_type='exponential', max_depth=20,n_shots=10):<br/>\n",
    "         -> [[1,10],[2,10],[4,10],[8,10],[16,10]]\n",
    " - schedule_type='powerlaw', beta=0.15, n_shots=10):<br/>\n",
    "         -> [[0, 10], [6, 10], [21, 10], [49, 10], [94, 10]]\n",
    "   - This is a more complicated schedule whose max depth depends on beta.\n",
    "   - Note, beta can result in very large computations.\n"
   ]
  },
  {
   "cell_type": "markdown",
   "metadata": {},
   "source": [
    "#### Print the schedule used in the previous example"
   ]
  },
  {
   "cell_type": "code",
   "execution_count": 6,
   "metadata": {
    "execution": {
     "iopub.execute_input": "2022-06-08T05:11:54.941418Z",
     "iopub.status.busy": "2022-06-08T05:11:54.941034Z",
     "iopub.status.idle": "2022-06-08T05:11:54.947735Z",
     "shell.execute_reply": "2022-06-08T05:11:54.946412Z"
    }
   },
   "outputs": [
    {
     "name": "stdout",
     "output_type": "stream",
     "text": [
      "[[0, 10], [1, 10], [2, 10], [3, 10], [4, 10], [5, 10], [6, 10], [7, 10], [8, 10], [9, 10], [10, 10]]\n"
     ]
    }
   ],
   "source": [
    "print(new_product.schedule)"
   ]
  },
  {
   "cell_type": "markdown",
   "metadata": {},
   "source": [
    "#### Benchmark different schedules"
   ]
  },
  {
   "cell_type": "code",
   "execution_count": 7,
   "metadata": {
    "execution": {
     "iopub.execute_input": "2022-06-08T05:11:54.952018Z",
     "iopub.status.busy": "2022-06-08T05:11:54.951624Z",
     "iopub.status.idle": "2022-06-08T05:12:58.374246Z",
     "shell.execute_reply": "2022-06-08T05:12:58.373025Z"
    }
   },
   "outputs": [
    {
     "name": "stdout",
     "output_type": "stream",
     "text": [
      "Perfect price after discretization: 1.9441536619918698\n"
     ]
    },
    {
     "name": "stdout",
     "output_type": "stream",
     "text": [
      "\n",
      "Direct Schedule (no amplitude estimation)\n",
      " Estimated price: 1.9413351971712158\n",
      " Model runs: 100000\n"
     ]
    },
    {
     "name": "stdout",
     "output_type": "stream",
     "text": [
      "\n",
      "Linear Schedule\n",
      " Estimated price: 1.9413351971712158\n",
      " Model runs: 1210\n"
     ]
    },
    {
     "name": "stdout",
     "output_type": "stream",
     "text": [
      "\n",
      "Exponential Schedule\n",
      " Estimated price: 2.0247506459197493\n",
      " Model runs: 670\n"
     ]
    },
    {
     "name": "stdout",
     "output_type": "stream",
     "text": [
      "\n",
      "Powerlaw Schedule\n",
      " Estimated price: 1.9413351971712158\n",
      " Model runs: 139030\n"
     ]
    }
   ],
   "source": [
    "# 1. perfect simulation\n",
    "perfect_price = new_product.price(n_shots=None)\n",
    "print('Perfect price after discretization:',perfect_price)\n",
    "\n",
    "# 2. direct schedule (no amplitude estimation)\n",
    "direct_price = new_product.price(schedule_type='direct', n_shots=100000)\n",
    "print('\\nDirect Schedule (no amplitude estimation)')\n",
    "print(' Estimated price:', direct_price)\n",
    "print(' Model runs:', new_product.oracle_calls)\n",
    "\n",
    "# 3. linear schedule\n",
    "quantum_price = new_product.price(schedule_type='linear', max_depth=10, n_shots=10)\n",
    "print('\\nLinear Schedule')\n",
    "print(' Estimated price:', quantum_price)\n",
    "print(' Model runs:', new_product.oracle_calls)\n",
    "\n",
    "# 3. exponential schedule\n",
    "quantum_price = new_product.price(schedule_type='exponential', max_depth=20, n_shots=10)\n",
    "print('\\nExponential Schedule')\n",
    "print(' Estimated price:', quantum_price)\n",
    "print(' Model runs:', new_product.oracle_calls)\n",
    "\n",
    "# 4. powerlaw schedule,\n",
    "quantum_price = new_product.price(schedule_type='powerlaw', n_shots=10, beta=0.8)\n",
    "print('\\nPowerlaw Schedule')\n",
    "print(' Estimated price:', quantum_price)\n",
    "print(' Model runs:', new_product.oracle_calls)\n"
   ]
  },
  {
   "cell_type": "markdown",
   "metadata": {},
   "source": [
    "### Looking into the quantum circuits\n",
    "\n",
    "We can check the quantum circuits that correspond to the model (initial_circuit) and to the iteration circuit sequentially in the quantum Monte Carlo method (iteration_circuit)"
   ]
  },
  {
   "cell_type": "code",
   "execution_count": 8,
   "metadata": {
    "execution": {
     "iopub.execute_input": "2022-06-08T05:12:58.378912Z",
     "iopub.status.busy": "2022-06-08T05:12:58.378133Z",
     "iopub.status.idle": "2022-06-08T05:12:58.384661Z",
     "shell.execute_reply": "2022-06-08T05:12:58.383531Z"
    }
   },
   "outputs": [
    {
     "name": "stdout",
     "output_type": "stream",
     "text": [
      "Initial circuit – Oracle\n",
      "\n",
      "T  : |0|1|2|3|4 |5|6 |7|8 |9|10|11|12|13|14|15|\n",
      "\n",
      "q0 : -X-B-B-B----------------------------------\n",
      "        | | |                                  \n",
      "q1 : ---|-|-S----------------------------------\n",
      "        | |                                    \n",
      "q2 : ---|-S-B----------------------------------\n",
      "        |   |                                  \n",
      "q3 : ---|---S----------------------------------\n",
      "        |                                      \n",
      "q4 : ---S-B-B----------------------------------\n",
      "          | |                                  \n",
      "q5 : -----|-S----@----@------------------------\n",
      "          |      |    |                        \n",
      "q6 : -----S-B----|----|----@----@--------------\n",
      "            |    |    |    |    |              \n",
      "q7 : -------S----|----|----|----|-----@-----@--\n",
      "                 |    |    |    |     |     |  \n",
      "q8 : ---------Ry-X-Ry-X-Ry-X-Ry-X--Ry-X--Ry-X--\n",
      "                                               \n",
      "T  : |0|1|2|3|4 |5|6 |7|8 |9|10|11|12|13|14|15|\n",
      "\n"
     ]
    }
   ],
   "source": [
    "print('Initial circuit – Oracle\\n')\n",
    "print(new_product.initial_circuit)"
   ]
  },
  {
   "cell_type": "code",
   "execution_count": 9,
   "metadata": {
    "execution": {
     "iopub.execute_input": "2022-06-08T05:12:58.388450Z",
     "iopub.status.busy": "2022-06-08T05:12:58.388079Z",
     "iopub.status.idle": "2022-06-08T05:12:58.394706Z",
     "shell.execute_reply": "2022-06-08T05:12:58.393608Z"
    }
   },
   "outputs": [
    {
     "name": "stdout",
     "output_type": "stream",
     "text": [
      "Iteration circuit \n",
      "\n",
      "T  : |0|1|2 |3|4 |5|6 |7|8 |9|10|11|12|13|14|15|16|17|18|19|20|21|22|23|24|25|\n",
      "\n",
      "q0 : ----------------------------------B--B--B--@--Z--B--B--B-----------------\n",
      "                                       |  |  |  |     |  |  |                 \n",
      "q1 : ----------------------------------S--|--|--|-----|--|--S-----------------\n",
      "                                          |  |  |     |  |                    \n",
      "q2 : ----------------------------------B--S--|--|-----|--S--B-----------------\n",
      "                                       |     |  |     |     |                 \n",
      "q3 : ----------------------------------S-----|--|-----|-----S-----------------\n",
      "                                             |  |     |                       \n",
      "q4 : ----------------------------------B--B--S--|-----S--B--B-----------------\n",
      "                                       |  |     |        |  |                 \n",
      "q5 : -----------------------@----@-----S--|-----|--------|--S-----@-----@-----\n",
      "                            |    |        |     |        |        |     |     \n",
      "q6 : -------------@----@----|----|-----B--S-----|--------S--B-----|-----|-----\n",
      "                  |    |    |    |     |        |           |     |     |     \n",
      "q7 : ---@----@----|----|----|----|-----S--------|-----------S-----|-----|-----\n",
      "        |    |    |    |    |    |              |                 |     |     \n",
      "q8 : -Z-X-Ry-X-Ry-X-Ry-X-Ry-X-Ry-X--Ry----------Z--------------Ry-X--Ry-X--Ry-\n",
      "                                                                              \n",
      "T  : |0|1|2 |3|4 |5|6 |7|8 |9|10|11|12|13|14|15|16|17|18|19|20|21|22|23|24|25|\n",
      "\n",
      "T  :  26|27|28|29|30|31|32|\n",
      "\n",
      "q0 :  ---------------------\n",
      "                           \n",
      "q1 :  ---------------------\n",
      "                           \n",
      "q2 :  ---------------------\n",
      "                           \n",
      "q3 :  ---------------------\n",
      "                           \n",
      "q4 :  ---------------------\n",
      "                           \n",
      "q5 :  ---------------------\n",
      "                           \n",
      "q6 :  @-----@--------------\n",
      "      |     |              \n",
      "q7 :  |-----|-----@-----@--\n",
      "      |     |     |     |  \n",
      "q8 :  X--Ry-X--Ry-X--Ry-X--\n",
      "                           \n",
      "T  :  26|27|28|29|30|31|32|\n",
      "\n"
     ]
    }
   ],
   "source": [
    "print('Iteration circuit \\n')\n",
    "print(new_product.iteration_circuit)"
   ]
  },
  {
   "cell_type": "markdown",
   "metadata": {},
   "source": [
    "#### Using parallel quantum circuits\n",
    "\n",
    "We can also use a different type of quantum circuit that uses more qubits has less depth."
   ]
  },
  {
   "cell_type": "code",
   "execution_count": 10,
   "metadata": {
    "execution": {
     "iopub.execute_input": "2022-06-08T05:12:58.398829Z",
     "iopub.status.busy": "2022-06-08T05:12:58.398484Z",
     "iopub.status.idle": "2022-06-08T05:13:00.459055Z",
     "shell.execute_reply": "2022-06-08T05:13:00.457678Z"
    }
   },
   "outputs": [
    {
     "data": {
      "text/plain": [
       "2.0247506459197493"
      ]
     },
     "execution_count": 10,
     "metadata": {},
     "output_type": "execute_result"
    }
   ],
   "source": [
    "# one optional parameter for optimizing depth vs qubits\n",
    "mode = 'parallel'   # 'parallel' = optimized depth, 'sequential' = optimized number of qubits\n",
    "\n",
    "# Define a new European Option product\n",
    "new_product_parallel = EuropeanOption(n_asset_prices, initial_asset_price, strike_price, interest_rate, volatility, time_to_simulate, option_type, epsilon, mode=mode)\n",
    "new_product_parallel.price()"
   ]
  },
  {
   "cell_type": "code",
   "execution_count": 11,
   "metadata": {
    "execution": {
     "iopub.execute_input": "2022-06-08T05:13:00.464664Z",
     "iopub.status.busy": "2022-06-08T05:13:00.463881Z",
     "iopub.status.idle": "2022-06-08T05:13:00.470620Z",
     "shell.execute_reply": "2022-06-08T05:13:00.469482Z"
    }
   },
   "outputs": [
    {
     "name": "stdout",
     "output_type": "stream",
     "text": [
      "T   : |0|1|2|3|4 |5|6 |7|8 |9|10|11|12|13|14|15|\n",
      "\n",
      "q0  : -X-B-B-B----------------------------------\n",
      "         | | |                                  \n",
      "q1  : ---|-|-S----------------------------------\n",
      "         | |                                    \n",
      "q2  : ---|-S-B----------------------------------\n",
      "         |   |                                  \n",
      "q3  : ---|---S----------------------------------\n",
      "         |                                      \n",
      "q4  : ---S-B-B----------------------------------\n",
      "           | |                                  \n",
      "q5  : -----|-S----@----@------------------------\n",
      "           |      |    |                        \n",
      "q6  : -----S-B----|----|----@----@--------------\n",
      "             |    |    |    |    |              \n",
      "q7  : -------S----|----|----|----|-----@-----@--\n",
      "                  |    |    |    |     |     |  \n",
      "q8  : ---------Ry-X-Ry-X----|----|-----|-----|--\n",
      "                            |    |     |     |  \n",
      "q9  : -------------------Ry-X-Ry-X-----|-----|--\n",
      "                                       |     |  \n",
      "q10 : ------------------------------Ry-X--Ry-X--\n",
      "                                                \n",
      "T   : |0|1|2|3|4 |5|6 |7|8 |9|10|11|12|13|14|15|\n",
      "\n"
     ]
    }
   ],
   "source": [
    "print(new_product_parallel.initial_circuit)"
   ]
  },
  {
   "cell_type": "code",
   "execution_count": 12,
   "metadata": {
    "execution": {
     "iopub.execute_input": "2022-06-08T05:13:00.475785Z",
     "iopub.status.busy": "2022-06-08T05:13:00.475400Z",
     "iopub.status.idle": "2022-06-08T05:13:00.482926Z",
     "shell.execute_reply": "2022-06-08T05:13:00.481656Z"
    }
   },
   "outputs": [
    {
     "name": "stdout",
     "output_type": "stream",
     "text": [
      "T   : |0|1|2 |3|4 |5|6 |7|8 |9|10|11|12|13|14|15|16|17|18|19|20|21|22|23|24|25|\n",
      "\n",
      "q0  : ----------------------------------B--B--B--@--@--@--Z--B--B--B-----------\n",
      "                                        |  |  |  |  |  |     |  |  |           \n",
      "q1  : ----------------------------------S--|--|--|--|--|-----|--|--S-----------\n",
      "                                           |  |  |  |  |     |  |              \n",
      "q2  : ----------------------------------B--S--|--|--|--|-----|--S--B-----------\n",
      "                                        |     |  |  |  |     |     |           \n",
      "q3  : ----------------------------------S-----|--|--|--|-----|-----S-----------\n",
      "                                              |  |  |  |     |                 \n",
      "q4  : ----------------------------------B--B--S--|--|--|-----S--B--B-----------\n",
      "                                        |  |     |  |  |        |  |           \n",
      "q5  : -----------------------@----@-----S--|-----|--|--|--------|--S-----@-----\n",
      "                             |    |        |     |  |  |        |        |     \n",
      "q6  : -------------@----@----|----|-----B--S-----|--|--|--------S--B-----|-----\n",
      "                   |    |    |    |     |        |  |  |           |     |     \n",
      "q7  : ---@----@----|----|----|----|-----S--------|--|--|-----------S-----|-----\n",
      "         |    |    |    |    |    |              |  |  |                 |     \n",
      "q8  : -Z-|----|----|----|----X-Ry-X--Ry----------Z--|--|--------------Ry-X--Ry-\n",
      "         |    |    |    |                           |  |                       \n",
      "q9  : -Z-|----|----X-Ry-X-Ry------------------------Z--|-----------------------\n",
      "         |    |                                        |                       \n",
      "q10 : -Z-X-Ry-X-Ry-------------------------------------Z-----------------------\n",
      "                                                                               \n",
      "T   : |0|1|2 |3|4 |5|6 |7|8 |9|10|11|12|13|14|15|16|17|18|19|20|21|22|23|24|25|\n",
      "\n",
      "T   :  26|27|28|29|30|31|32|33|34|\n",
      "\n",
      "q0  :  ---------------------------\n",
      "                                  \n",
      "q1  :  ---------------------------\n",
      "                                  \n",
      "q2  :  ---------------------------\n",
      "                                  \n",
      "q3  :  ---------------------------\n",
      "                                  \n",
      "q4  :  ---------------------------\n",
      "                                  \n",
      "q5  :  @--------------------------\n",
      "       |                          \n",
      "q6  :  |-----@-----@--------------\n",
      "       |     |     |              \n",
      "q7  :  |-----|-----|-----@-----@--\n",
      "       |     |     |     |     |  \n",
      "q8  :  X-----|-----|-----|-----|--\n",
      "             |     |     |     |  \n",
      "q9  :  ---Ry-X--Ry-X-----|-----|--\n",
      "                         |     |  \n",
      "q10 :  ---------------Ry-X--Ry-X--\n",
      "                                  \n",
      "T   :  26|27|28|29|30|31|32|33|34|\n",
      "\n"
     ]
    }
   ],
   "source": [
    "print(new_product_parallel.iteration_circuit)"
   ]
  },
  {
   "cell_type": "markdown",
   "metadata": {},
   "source": [
    "#### Defining your own quantum circuits\n",
    "\n",
    "You can define your own circuits for applying the quantum Monte Carlo methods. More details on the NISQ Amplitude Estimation notebook"
   ]
  }
 ],
 "metadata": {
  "kernelspec": {
   "display_name": "Python 3 (ipykernel)",
   "language": "python",
   "name": "python3"
  },
  "language_info": {
   "codemirror_mode": {
    "name": "ipython",
    "version": 3
   },
   "file_extension": ".py",
   "mimetype": "text/x-python",
   "name": "python",
   "nbconvert_exporter": "python",
   "pygments_lexer": "ipython3",
   "version": "3.9.2"
  }
 },
 "nbformat": 4,
 "nbformat_minor": 4
}
