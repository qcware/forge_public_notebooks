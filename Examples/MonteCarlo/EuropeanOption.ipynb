{
 "cells": [
  {
   "cell_type": "markdown",
   "metadata": {},
   "source": [
    "<div style=\"background-color: #cfc ; padding: 20px; border-radius: 10px ; border: 2px solid green;\">\n",
    "<p><font size=\"+3\"><b><center> qcware.qMC </center></b></font>\n",
    "</p>\n",
    "<p>\n",
    "<font size=\"+3\">  <b> <center> The Quantum Monte Carlo API</center></b></font>\n",
    "</p>    \n",
    "</div>"
   ]
  },
  {
   "cell_type": "markdown",
   "metadata": {},
   "source": [
    "**qcware.qMC** is Forge's API for Quantum Monte Carlo simulations.\n",
    "\n",
    "Our ambition is to deliver the first real applications of quantitative finance with Quantum Monte Carlo simulations. The following notebook will show you how to price a European option with quantum computers using Forge."
   ]
  },
  {
   "cell_type": "markdown",
   "metadata": {},
   "source": [
    "## Import QCWare libraries"
   ]
  },
  {
   "cell_type": "code",
   "execution_count": 1,
   "metadata": {
    "execution": {
     "iopub.execute_input": "2021-12-13T02:45:42.915727Z",
     "iopub.status.busy": "2021-12-13T02:45:42.914788Z",
     "iopub.status.idle": "2021-12-13T02:45:42.918287Z",
     "shell.execute_reply": "2021-12-13T02:45:42.918842Z"
    }
   },
   "outputs": [],
   "source": [
    "import os,sys,inspect"
   ]
  },
  {
   "cell_type": "code",
   "execution_count": 2,
   "metadata": {
    "execution": {
     "iopub.execute_input": "2021-12-13T02:45:42.924311Z",
     "iopub.status.busy": "2021-12-13T02:45:42.923672Z",
     "iopub.status.idle": "2021-12-13T02:45:44.097782Z",
     "shell.execute_reply": "2021-12-13T02:45:44.096751Z"
    },
    "tags": []
   },
   "outputs": [],
   "source": [
    "import quasar\n",
    "import qcware\n",
    "import numpy as np\n",
    "from qcware.forge import qutils\n",
    "from qcware.forge.montecarlo.nisqAE import make_schedule#, nisqAE, MLE_for_nisqAE\n",
    "from european_option import EuropeanOption\n"
   ]
  },
  {
   "cell_type": "markdown",
   "metadata": {},
   "source": [
    "## Classical parameters for option pricing"
   ]
  },
  {
   "cell_type": "code",
   "execution_count": 3,
   "metadata": {
    "execution": {
     "iopub.execute_input": "2021-12-13T02:45:44.104736Z",
     "iopub.status.busy": "2021-12-13T02:45:44.103789Z",
     "iopub.status.idle": "2021-12-13T02:45:44.107207Z",
     "shell.execute_reply": "2021-12-13T02:45:44.106537Z"
    },
    "tags": []
   },
   "outputs": [],
   "source": [
    "# Define classical parameters for the Option pricing\n",
    "\n",
    "nAssetPrices = 8      # Number of different Asset Prices generated for the probability distribution\n",
    "S0 = 100              # Initial Asset Price\n",
    "K = 110               # Strike\n",
    "r = 0.05              # interest rate\n",
    "sigma = 0.1           # Volatility\n",
    "T = 1                 # Time to maturity\n",
    "optionType = 'C'      # 'C' = European Call Option, 'P' = European Put Option\n",
    "epsilon = 0.005        # precision parameter for the estimate"
   ]
  },
  {
   "cell_type": "markdown",
   "metadata": {},
   "source": [
    "## The EuropeanOption class"
   ]
  },
  {
   "cell_type": "code",
   "execution_count": 4,
   "metadata": {
    "execution": {
     "iopub.execute_input": "2021-12-13T02:45:44.117366Z",
     "iopub.status.busy": "2021-12-13T02:45:44.116238Z",
     "iopub.status.idle": "2021-12-13T02:45:44.431600Z",
     "shell.execute_reply": "2021-12-13T02:45:44.430780Z"
    },
    "tags": []
   },
   "outputs": [],
   "source": [
    "# Define a new European Option product\n",
    "newProduct = EuropeanOption(nAssetPrices,S0,K,r,sigma,T,optionType,epsilon)"
   ]
  },
  {
   "cell_type": "code",
   "execution_count": 5,
   "metadata": {
    "execution": {
     "iopub.execute_input": "2021-12-13T02:45:44.438133Z",
     "iopub.status.busy": "2021-12-13T02:45:44.437192Z",
     "iopub.status.idle": "2021-12-13T02:45:44.441376Z",
     "shell.execute_reply": "2021-12-13T02:45:44.441952Z"
    }
   },
   "outputs": [
    {
     "name": "stdout",
     "output_type": "stream",
     "text": [
      "Price with Black Scholes formula: 2.174\n"
     ]
    }
   ],
   "source": [
    "# Price with Black-Scholes formula\n",
    "print(\"Price with Black Scholes formula:\",round(newProduct.BSM,3))"
   ]
  },
  {
   "cell_type": "markdown",
   "metadata": {},
   "source": [
    "### Price using the default NISQ Ampitude Estimation algorithm"
   ]
  },
  {
   "cell_type": "code",
   "execution_count": 6,
   "metadata": {
    "execution": {
     "iopub.execute_input": "2021-12-13T02:45:44.449914Z",
     "iopub.status.busy": "2021-12-13T02:45:44.448650Z",
     "iopub.status.idle": "2021-12-13T02:45:45.642942Z",
     "shell.execute_reply": "2021-12-13T02:45:45.643491Z"
    }
   },
   "outputs": [
    {
     "data": {
      "text/plain": [
       "2.0247506459197493"
      ]
     },
     "execution_count": 6,
     "metadata": {},
     "output_type": "execute_result"
    }
   ],
   "source": [
    "newProduct.price()"
   ]
  },
  {
   "cell_type": "markdown",
   "metadata": {},
   "source": [
    "## Going deeper into the quantum Monte Carlo method\n",
    "\n",
    "Let us provide a high level description of the quantum Monte Carlo method.\n",
    "\n",
    "We start with the model, which is a quantum circuit which we can measure directly to get a sample. For example here, the quantum circuit creates a distribution over asset prices and then computes the payoff function for each of them in superposition, so that when we measure we get a sample from the distribution of the expected payoff. \n",
    "\n",
    "The main idea is that not only do we have the possibility to sample from this quantum circuit directly, but we can create deeper quantum circuits by repeating this quantum model sequentially, so that sampling from all these quantum circuits with different depths and cleverly combining all the results, reduces the total number of samples. \n",
    "\n",
    "Thus, the first important part of the quantum Monte Carlo method is to define a schedule of which circuits to samples from and how many times. In other words, we need to define a schedule, which is a list of pairs {($D_1$,$N_1$), ($D_2$,$N_2$),...($D_k$,$N_k$)}, that tells the quantum algorithm to run each quantum circuit of depth $D_i$ for $N_i$ shots. Different schedules give different accuracies with different number of samples!\n",
    "\n",
    "Here, we have some predefined types of schedules ('linear','exponential','powerlaw,'direct') one can use or one can define their own schedule by just providing as a list."
   ]
  },
  {
   "cell_type": "markdown",
   "metadata": {},
   "source": [
    "### Schedules for quantum pricing"
   ]
  },
  {
   "cell_type": "markdown",
   "metadata": {},
   "source": [
    "We can use different types of schedules for the quantum pricing algorithm."
   ]
  },
  {
   "cell_type": "code",
   "execution_count": 7,
   "metadata": {
    "execution": {
     "iopub.execute_input": "2021-12-13T02:45:45.649671Z",
     "iopub.status.busy": "2021-12-13T02:45:45.648958Z",
     "iopub.status.idle": "2021-12-13T02:45:45.653468Z",
     "shell.execute_reply": "2021-12-13T02:45:45.652775Z"
    }
   },
   "outputs": [],
   "source": [
    "# Examples of schedules\n",
    "# (scheduleType='direct', nShots=10000) : [[0,10000]]\n",
    "# (scheduleType='linear', maxDepth=10,nShots=10):  [[0,10],[1,10],[2,10],[3,10],[4,10],...,[10,10]]\n",
    "# (scheduleType='exponential', maxDepth=20,nShots=10) [[1,10],[2,10],[4,10],[8,10],[16,10]]\n",
    "# (scheduleType='powerlaw', beta=0.2, nShots=10) : this is a more complicated schedule that depends on beta\n",
    "# which takes values from [0.1 , 0.9]. Attention, the exponent beta can result in very large computations\n",
    "\n",
    "\n",
    "# Schedule parameters are optional. By default, a linear schedule of maxDepth=10 and nShots=10 will be used\n",
    "schedule = None         # provide a schedule, eg [[0,20],[1,20],[2,20]] or put None for predefined schedule types\n",
    "scheduleType = 'exponential' # schedule type: 'direct', 'linear','exponential','powerlaw', (only if schedule=None)\n",
    "nShots = 10             # shots per circuit\n",
    "maxDepth = 20    # parameter for 'linear' and 'exponential' to define the maximum depth of a circuit\n",
    "beta = 0.3              # parameter for the 'powerlaw' schedule between [0.1,0.9]"
   ]
  },
  {
   "cell_type": "code",
   "execution_count": 8,
   "metadata": {
    "execution": {
     "iopub.execute_input": "2021-12-13T02:45:45.661262Z",
     "iopub.status.busy": "2021-12-13T02:45:45.660582Z",
     "iopub.status.idle": "2021-12-13T02:45:46.745697Z",
     "shell.execute_reply": "2021-12-13T02:45:46.746623Z"
    }
   },
   "outputs": [
    {
     "data": {
      "text/plain": [
       "1.9413351971712158"
      ]
     },
     "execution_count": 8,
     "metadata": {},
     "output_type": "execute_result"
    }
   ],
   "source": [
    "# we can price again with a different schedule\n",
    "newProduct.price(scheduleType='exponential', maxDepth=16,nShots=10)"
   ]
  },
  {
   "cell_type": "code",
   "execution_count": 9,
   "metadata": {
    "execution": {
     "iopub.execute_input": "2021-12-13T02:45:46.753523Z",
     "iopub.status.busy": "2021-12-13T02:45:46.752549Z",
     "iopub.status.idle": "2021-12-13T02:45:46.755961Z",
     "shell.execute_reply": "2021-12-13T02:45:46.756581Z"
    }
   },
   "outputs": [
    {
     "name": "stdout",
     "output_type": "stream",
     "text": [
      "[[1, 10], [2, 10], [4, 10], [8, 10], [16, 10]]\n"
     ]
    }
   ],
   "source": [
    "# You can print the schedule that was used for the pricing\n",
    "print(newProduct.schedule)"
   ]
  },
  {
   "cell_type": "markdown",
   "metadata": {},
   "source": [
    "#### Benchmark different schedules"
   ]
  },
  {
   "cell_type": "code",
   "execution_count": 10,
   "metadata": {
    "execution": {
     "iopub.execute_input": "2021-12-13T02:45:46.767752Z",
     "iopub.status.busy": "2021-12-13T02:45:46.767000Z",
     "iopub.status.idle": "2021-12-13T02:45:53.307107Z",
     "shell.execute_reply": "2021-12-13T02:45:53.306471Z"
    }
   },
   "outputs": [
    {
     "name": "stdout",
     "output_type": "stream",
     "text": [
      "Exact price after discretization : 1.9441536619918698\n"
     ]
    },
    {
     "name": "stdout",
     "output_type": "stream",
     "text": [
      "Quantum price - direct 1.9413351971712158\n",
      "Samples - direct 100000\n"
     ]
    },
    {
     "name": "stdout",
     "output_type": "stream",
     "text": [
      "Quantum price - linear 1.9413351971712158\n",
      "Samples - linear 1210\n"
     ]
    },
    {
     "name": "stdout",
     "output_type": "stream",
     "text": [
      "Quantum price - exponential 1.9413351971712158\n",
      "Samples - linear 670\n"
     ]
    },
    {
     "name": "stdout",
     "output_type": "stream",
     "text": [
      "Quantum price - powerlaw 1.9413351971712158\n",
      "Samples - powerlaw 5610\n"
     ]
    }
   ],
   "source": [
    "# benchmarking\n",
    "# We are going to test how well the different schdules\n",
    "# approximate the real value and \n",
    "# how many samples they use\n",
    "\n",
    "# 1. real value\n",
    "realPrice = newProduct.price(nShots=None)\n",
    "print('Exact price after discretization :',realPrice)\n",
    "\n",
    "# 2. classical value\n",
    "classicalPrice = newProduct.price(scheduleType='direct', nShots=100000)\n",
    "print('Quantum price - direct', classicalPrice)\n",
    "print('Samples - direct', newProduct.samples)\n",
    "#print(newProduct.schedule)\n",
    "\n",
    "# 3. quantum value – linear schedule\n",
    "quantumPrice=newProduct.price(scheduleType='linear', maxDepth=10,nShots=10)\n",
    "print('Quantum price - linear', quantumPrice)\n",
    "print('Samples - linear', newProduct.samples)\n",
    "#print(newProduct.schedule)\n",
    "\n",
    "# 3. quantum value – linear schedule\n",
    "quantumPrice=newProduct.price(scheduleType='exponential', maxDepth=20,nShots=10)\n",
    "print('Quantum price - exponential', quantumPrice)\n",
    "print('Samples - linear', newProduct.samples)\n",
    "#print(newProduct.schedule)\n",
    "\n",
    "# 4. quantum value – powerlaw schedule beta=beta,\n",
    "quantumPrice = newProduct.price(scheduleType='powerlaw', nShots=10, beta=0.2)\n",
    "print('Quantum price - powerlaw', quantumPrice)\n",
    "print('Samples - powerlaw', newProduct.samples)\n",
    "#print(newProduct.schedule)\n"
   ]
  },
  {
   "cell_type": "markdown",
   "metadata": {},
   "source": [
    "### Looking into the quantum circuits\n",
    "\n",
    "We can check the quantum circuits that correspond to the model (initiak_circuit) and to the iteration circuit sequentially in the quantum Monte Carlo method (iteration_circuit)"
   ]
  },
  {
   "cell_type": "code",
   "execution_count": 11,
   "metadata": {
    "execution": {
     "iopub.execute_input": "2021-12-13T02:45:53.313929Z",
     "iopub.status.busy": "2021-12-13T02:45:53.313022Z",
     "iopub.status.idle": "2021-12-13T02:45:53.316289Z",
     "shell.execute_reply": "2021-12-13T02:45:53.316905Z"
    }
   },
   "outputs": [
    {
     "name": "stdout",
     "output_type": "stream",
     "text": [
      "Initial circuit – Oracle\n",
      "\n",
      "T  : |0|1|2|3|4 |5|6 |7|8 |9|10|11|12|13|14|15|\n",
      "\n",
      "q0 : -X-B-B-B----------------------------------\n",
      "        | | |                                  \n",
      "q1 : ---|-|-S----------------------------------\n",
      "        | |                                    \n",
      "q2 : ---|-S-B----------------------------------\n",
      "        |   |                                  \n",
      "q3 : ---|---S----------------------------------\n",
      "        |                                      \n",
      "q4 : ---S-B-B----------------------------------\n",
      "          | |                                  \n",
      "q5 : -----|-S----@----@------------------------\n",
      "          |      |    |                        \n",
      "q6 : -----S-B----|----|----@----@--------------\n",
      "            |    |    |    |    |              \n",
      "q7 : -------S----|----|----|----|-----@-----@--\n",
      "                 |    |    |    |     |     |  \n",
      "q8 : ---------Ry-X-Ry-X-Ry-X-Ry-X--Ry-X--Ry-X--\n",
      "                                               \n",
      "T  : |0|1|2|3|4 |5|6 |7|8 |9|10|11|12|13|14|15|\n",
      "\n"
     ]
    }
   ],
   "source": [
    "print('Initial circuit – Oracle\\n')\n",
    "print(newProduct.initial_circuit)"
   ]
  },
  {
   "cell_type": "code",
   "execution_count": 12,
   "metadata": {
    "execution": {
     "iopub.execute_input": "2021-12-13T02:45:53.323438Z",
     "iopub.status.busy": "2021-12-13T02:45:53.322504Z",
     "iopub.status.idle": "2021-12-13T02:45:53.325850Z",
     "shell.execute_reply": "2021-12-13T02:45:53.326386Z"
    }
   },
   "outputs": [
    {
     "name": "stdout",
     "output_type": "stream",
     "text": [
      "Iteration circuit \n",
      "\n",
      "T  : |0|1|2 |3|4 |5|6 |7|8 |9|10|11|12|13|14|15|16|17|18|19|20|21|22|23|24|25|\n",
      "\n",
      "q0 : ----------------------------------B--B--B--@--Z--B--B--B-----------------\n",
      "                                       |  |  |  |     |  |  |                 \n",
      "q1 : ----------------------------------S--|--|--|-----|--|--S-----------------\n",
      "                                          |  |  |     |  |                    \n",
      "q2 : ----------------------------------B--S--|--|-----|--S--B-----------------\n",
      "                                       |     |  |     |     |                 \n",
      "q3 : ----------------------------------S-----|--|-----|-----S-----------------\n",
      "                                             |  |     |                       \n",
      "q4 : ----------------------------------B--B--S--|-----S--B--B-----------------\n",
      "                                       |  |     |        |  |                 \n",
      "q5 : -----------------------@----@-----S--|-----|--------|--S-----@-----@-----\n",
      "                            |    |        |     |        |        |     |     \n",
      "q6 : -------------@----@----|----|-----B--S-----|--------S--B-----|-----|-----\n",
      "                  |    |    |    |     |        |           |     |     |     \n",
      "q7 : ---@----@----|----|----|----|-----S--------|-----------S-----|-----|-----\n",
      "        |    |    |    |    |    |              |                 |     |     \n",
      "q8 : -Z-X-Ry-X-Ry-X-Ry-X-Ry-X-Ry-X--Ry----------Z--------------Ry-X--Ry-X--Ry-\n",
      "                                                                              \n",
      "T  : |0|1|2 |3|4 |5|6 |7|8 |9|10|11|12|13|14|15|16|17|18|19|20|21|22|23|24|25|\n",
      "\n",
      "T  :  26|27|28|29|30|31|32|\n",
      "\n",
      "q0 :  ---------------------\n",
      "                           \n",
      "q1 :  ---------------------\n",
      "                           \n",
      "q2 :  ---------------------\n",
      "                           \n",
      "q3 :  ---------------------\n",
      "                           \n",
      "q4 :  ---------------------\n",
      "                           \n",
      "q5 :  ---------------------\n",
      "                           \n",
      "q6 :  @-----@--------------\n",
      "      |     |              \n",
      "q7 :  |-----|-----@-----@--\n",
      "      |     |     |     |  \n",
      "q8 :  X--Ry-X--Ry-X--Ry-X--\n",
      "                           \n",
      "T  :  26|27|28|29|30|31|32|\n",
      "\n"
     ]
    }
   ],
   "source": [
    "print('Iteration circuit \\n')\n",
    "print(newProduct.iteration_circuit)"
   ]
  },
  {
   "cell_type": "markdown",
   "metadata": {},
   "source": [
    "#### Using parallel quantum circuits\n",
    "\n",
    "We can use a different type of quantum circuits that uses more qubits but swallower circuits"
   ]
  },
  {
   "cell_type": "code",
   "execution_count": 13,
   "metadata": {
    "execution": {
     "iopub.execute_input": "2021-12-13T02:45:53.335494Z",
     "iopub.status.busy": "2021-12-13T02:45:53.334793Z",
     "iopub.status.idle": "2021-12-13T02:45:55.268079Z",
     "shell.execute_reply": "2021-12-13T02:45:55.268604Z"
    }
   },
   "outputs": [
    {
     "data": {
      "text/plain": [
       "1.9413351971712158"
      ]
     },
     "execution_count": 13,
     "metadata": {},
     "output_type": "execute_result"
    }
   ],
   "source": [
    "# one optional parameter for optimizing depth vs qubits\n",
    "mode = 'parallel'   # 'parallel' = optimized depth, 'sequential' = optimized number of qubits\n",
    "\n",
    "# Define a new European Option product\n",
    "newProduct_parallel = EuropeanOption(nAssetPrices,S0,K,r,sigma,T,optionType,epsilon,mode=mode)\n",
    "newProduct_parallel.price()"
   ]
  },
  {
   "cell_type": "code",
   "execution_count": 14,
   "metadata": {
    "execution": {
     "iopub.execute_input": "2021-12-13T02:45:55.275308Z",
     "iopub.status.busy": "2021-12-13T02:45:55.274092Z",
     "iopub.status.idle": "2021-12-13T02:45:55.277728Z",
     "shell.execute_reply": "2021-12-13T02:45:55.278506Z"
    }
   },
   "outputs": [
    {
     "name": "stdout",
     "output_type": "stream",
     "text": [
      "T   : |0|1|2|3|4 |5|6 |7|8 |9|10|11|12|13|14|15|\n",
      "\n",
      "q0  : -X-B-B-B----------------------------------\n",
      "         | | |                                  \n",
      "q1  : ---|-|-S----------------------------------\n",
      "         | |                                    \n",
      "q2  : ---|-S-B----------------------------------\n",
      "         |   |                                  \n",
      "q3  : ---|---S----------------------------------\n",
      "         |                                      \n",
      "q4  : ---S-B-B----------------------------------\n",
      "           | |                                  \n",
      "q5  : -----|-S----@----@------------------------\n",
      "           |      |    |                        \n",
      "q6  : -----S-B----|----|----@----@--------------\n",
      "             |    |    |    |    |              \n",
      "q7  : -------S----|----|----|----|-----@-----@--\n",
      "                  |    |    |    |     |     |  \n",
      "q8  : ---------Ry-X-Ry-X----|----|-----|-----|--\n",
      "                            |    |     |     |  \n",
      "q9  : -------------------Ry-X-Ry-X-----|-----|--\n",
      "                                       |     |  \n",
      "q10 : ------------------------------Ry-X--Ry-X--\n",
      "                                                \n",
      "T   : |0|1|2|3|4 |5|6 |7|8 |9|10|11|12|13|14|15|\n",
      "\n"
     ]
    }
   ],
   "source": [
    "print(newProduct_parallel.initial_circuit)"
   ]
  },
  {
   "cell_type": "code",
   "execution_count": 15,
   "metadata": {
    "execution": {
     "iopub.execute_input": "2021-12-13T02:45:55.285213Z",
     "iopub.status.busy": "2021-12-13T02:45:55.284115Z",
     "iopub.status.idle": "2021-12-13T02:45:55.287569Z",
     "shell.execute_reply": "2021-12-13T02:45:55.288111Z"
    }
   },
   "outputs": [
    {
     "name": "stdout",
     "output_type": "stream",
     "text": [
      "T   : |0|1|2 |3|4 |5|6 |7|8 |9|10|11|12|13|14|15|16|17|18|19|20|21|22|23|24|25|\n",
      "\n",
      "q0  : ----------------------------------B--B--B--@--@--@--Z--B--B--B-----------\n",
      "                                        |  |  |  |  |  |     |  |  |           \n",
      "q1  : ----------------------------------S--|--|--|--|--|-----|--|--S-----------\n",
      "                                           |  |  |  |  |     |  |              \n",
      "q2  : ----------------------------------B--S--|--|--|--|-----|--S--B-----------\n",
      "                                        |     |  |  |  |     |     |           \n",
      "q3  : ----------------------------------S-----|--|--|--|-----|-----S-----------\n",
      "                                              |  |  |  |     |                 \n",
      "q4  : ----------------------------------B--B--S--|--|--|-----S--B--B-----------\n",
      "                                        |  |     |  |  |        |  |           \n",
      "q5  : -----------------------@----@-----S--|-----|--|--|--------|--S-----@-----\n",
      "                             |    |        |     |  |  |        |        |     \n",
      "q6  : -------------@----@----|----|-----B--S-----|--|--|--------S--B-----|-----\n",
      "                   |    |    |    |     |        |  |  |           |     |     \n",
      "q7  : ---@----@----|----|----|----|-----S--------|--|--|-----------S-----|-----\n",
      "         |    |    |    |    |    |              |  |  |                 |     \n",
      "q8  : -Z-|----|----|----|----X-Ry-X--Ry----------Z--|--|--------------Ry-X--Ry-\n",
      "         |    |    |    |                           |  |                       \n",
      "q9  : -Z-|----|----X-Ry-X-Ry------------------------Z--|-----------------------\n",
      "         |    |                                        |                       \n",
      "q10 : -Z-X-Ry-X-Ry-------------------------------------Z-----------------------\n",
      "                                                                               \n",
      "T   : |0|1|2 |3|4 |5|6 |7|8 |9|10|11|12|13|14|15|16|17|18|19|20|21|22|23|24|25|\n",
      "\n",
      "T   :  26|27|28|29|30|31|32|33|34|\n",
      "\n",
      "q0  :  ---------------------------\n",
      "                                  \n",
      "q1  :  ---------------------------\n",
      "                                  \n",
      "q2  :  ---------------------------\n",
      "                                  \n",
      "q3  :  ---------------------------\n",
      "                                  \n",
      "q4  :  ---------------------------\n",
      "                                  \n",
      "q5  :  @--------------------------\n",
      "       |                          \n",
      "q6  :  |-----@-----@--------------\n",
      "       |     |     |              \n",
      "q7  :  |-----|-----|-----@-----@--\n",
      "       |     |     |     |     |  \n",
      "q8  :  X-----|-----|-----|-----|--\n",
      "             |     |     |     |  \n",
      "q9  :  ---Ry-X--Ry-X-----|-----|--\n",
      "                         |     |  \n",
      "q10 :  ---------------Ry-X--Ry-X--\n",
      "                                  \n",
      "T   :  26|27|28|29|30|31|32|33|34|\n",
      "\n"
     ]
    }
   ],
   "source": [
    "print(newProduct_parallel.iteration_circuit)"
   ]
  },
  {
   "cell_type": "markdown",
   "metadata": {},
   "source": [
    "#### Defining your own quantum circuits\n",
    "\n",
    "You can define your own circuits for applying the quantum Monte Carlo methods. More details on the NISQ Amplitude Estimation notebook"
   ]
  },
  {
   "cell_type": "code",
   "execution_count": null,
   "metadata": {},
   "outputs": [],
   "source": []
  }
 ],
 "metadata": {
  "kernelspec": {
   "display_name": "Python 3 (ipykernel)",
   "language": "python",
   "name": "python3"
  },
  "language_info": {
   "codemirror_mode": {
    "name": "ipython",
    "version": 3
   },
   "file_extension": ".py",
   "mimetype": "text/x-python",
   "name": "python",
   "nbconvert_exporter": "python",
   "pygments_lexer": "ipython3",
   "version": "3.9.2"
  }
 },
 "nbformat": 4,
 "nbformat_minor": 4
}
