{
 "cells": [
  {
   "cell_type": "markdown",
   "metadata": {},
   "source": [
    "<div style=\"background-color: #cfc ; padding: 20px; border-radius: 10px ; border: 2px solid green;\">\n",
    "<p><font size=\"+3\"><b><center> qcware.qMC </center></b></font>\n",
    "</p>\n",
    "<p>\n",
    "<font size=\"+3\">  <b> <center> The Quantum Monte Carlo API</center></b></font>\n",
    "</p>    \n",
    "</div>"
   ]
  },
  {
   "cell_type": "markdown",
   "metadata": {},
   "source": [
    "**qcware.qMC** is Forge's API for Quantum Monte Carlo simulations.\n",
    "\n",
    "Our ambition is to deliver the first real applications of quantitative finance with Quantum Monte Carlo simulations. The following notebook will show you how to price a European option with quantum computers using Forge."
   ]
  },
  {
   "cell_type": "markdown",
   "metadata": {},
   "source": [
    "## Import QCWare libraries"
   ]
  },
  {
   "cell_type": "code",
   "execution_count": 1,
   "metadata": {
    "execution": {
     "iopub.execute_input": "2022-01-05T05:09:02.303348Z",
     "iopub.status.busy": "2022-01-05T05:09:02.302198Z",
     "iopub.status.idle": "2022-01-05T05:09:02.306791Z",
     "shell.execute_reply": "2022-01-05T05:09:02.306148Z"
    }
   },
   "outputs": [],
   "source": [
    "import os,sys,inspect"
   ]
  },
  {
   "cell_type": "code",
   "execution_count": 2,
   "metadata": {
    "execution": {
     "iopub.execute_input": "2022-01-05T05:09:02.312660Z",
     "iopub.status.busy": "2022-01-05T05:09:02.311853Z",
     "iopub.status.idle": "2022-01-05T05:09:03.441191Z",
     "shell.execute_reply": "2022-01-05T05:09:03.441755Z"
    },
    "tags": []
   },
   "outputs": [],
   "source": [
    "import quasar\n",
    "import qcware\n",
    "import numpy as np\n",
    "from qcware.forge import qutils\n",
    "from qcware.forge.montecarlo.nisqAE import make_schedule#, nisqAE, MLE_for_nisqAE\n",
    "from european_option import EuropeanOption\n"
   ]
  },
  {
   "cell_type": "markdown",
   "metadata": {},
   "source": [
    "## Classical parameters for option pricing"
   ]
  },
  {
   "cell_type": "code",
   "execution_count": 3,
   "metadata": {
    "execution": {
     "iopub.execute_input": "2022-01-05T05:09:03.448890Z",
     "iopub.status.busy": "2022-01-05T05:09:03.447664Z",
     "iopub.status.idle": "2022-01-05T05:09:03.451206Z",
     "shell.execute_reply": "2022-01-05T05:09:03.450479Z"
    },
    "tags": []
   },
   "outputs": [],
   "source": [
    "# Define classical parameters for the Option pricing\n",
    "\n",
    "nAssetPrices = 8      # Number of different Asset Prices generated for the probability distribution\n",
    "S0 = 100              # Initial Asset Price\n",
    "K = 110               # Strike\n",
    "r = 0.05              # interest rate\n",
    "sigma = 0.1           # Volatility\n",
    "T = 1                 # Time to maturity\n",
    "optionType = 'C'      # 'C' = European Call Option, 'P' = European Put Option\n",
    "epsilon = 0.005        # precision parameter for the estimate"
   ]
  },
  {
   "cell_type": "markdown",
   "metadata": {},
   "source": [
    "## The EuropeanOption class"
   ]
  },
  {
   "cell_type": "code",
   "execution_count": 4,
   "metadata": {
    "execution": {
     "iopub.execute_input": "2022-01-05T05:09:03.462704Z",
     "iopub.status.busy": "2022-01-05T05:09:03.459973Z",
     "iopub.status.idle": "2022-01-05T05:09:04.058932Z",
     "shell.execute_reply": "2022-01-05T05:09:04.059451Z"
    },
    "tags": []
   },
   "outputs": [],
   "source": [
    "# Define a new European Option product\n",
    "newProduct = EuropeanOption(nAssetPrices,S0,K,r,sigma,T,optionType,epsilon)"
   ]
  },
  {
   "cell_type": "code",
   "execution_count": 5,
   "metadata": {
    "execution": {
     "iopub.execute_input": "2022-01-05T05:09:04.064950Z",
     "iopub.status.busy": "2022-01-05T05:09:04.064001Z",
     "iopub.status.idle": "2022-01-05T05:09:04.068648Z",
     "shell.execute_reply": "2022-01-05T05:09:04.067974Z"
    }
   },
   "outputs": [
    {
     "name": "stdout",
     "output_type": "stream",
     "text": [
      "Price with Black Scholes formula: 2.174\n"
     ]
    }
   ],
   "source": [
    "# Price with Black-Scholes formula\n",
    "print(\"Price with Black Scholes formula:\",round(newProduct.BSM,3))"
   ]
  },
  {
   "cell_type": "markdown",
   "metadata": {},
   "source": [
    "### Price using the default NISQ Ampitude Estimation algorithm"
   ]
  },
  {
   "cell_type": "code",
   "execution_count": 6,
   "metadata": {
    "execution": {
     "iopub.execute_input": "2022-01-05T05:09:04.075664Z",
     "iopub.status.busy": "2022-01-05T05:09:04.074936Z",
     "iopub.status.idle": "2022-01-05T05:09:05.350232Z",
     "shell.execute_reply": "2022-01-05T05:09:05.348634Z"
    }
   },
   "outputs": [
    {
     "data": {
      "text/plain": [
       "1.9413351971712158"
      ]
     },
     "execution_count": 6,
     "metadata": {},
     "output_type": "execute_result"
    }
   ],
   "source": [
    "newProduct.price()"
   ]
  },
  {
   "cell_type": "markdown",
   "metadata": {},
   "source": [
    "## Going deeper into the quantum Monte Carlo method\n",
    "\n",
    "Let us provide a high level description of the quantum Monte Carlo method.\n",
    "\n",
    "We start with the model, which is a quantum circuit which we can measure directly to get a sample. For example here, the quantum circuit creates a distribution over asset prices and then computes the payoff function for each of them in superposition, so that when we measure we get a sample from the distribution of the expected payoff. \n",
    "\n",
    "The main idea is that not only do we have the possibility to sample from this quantum circuit directly, but we can create deeper quantum circuits by repeating this quantum model sequentially, so that sampling from all these quantum circuits with different depths and cleverly combining all the results, reduces the total number of samples. \n",
    "\n",
    "Thus, the first important part of the quantum Monte Carlo method is to define a schedule of which circuits to samples from and how many times. In other words, we need to define a schedule, which is a list of pairs {($D_1$,$N_1$), ($D_2$,$N_2$),...($D_k$,$N_k$)}, that tells the quantum algorithm to run each quantum circuit of depth $D_i$ for $N_i$ shots. Different schedules give different accuracies with different number of samples!\n",
    "\n",
    "Here, we have some predefined types of schedules ('linear','exponential','powerlaw,'direct') one can use or one can define their own schedule by just providing as a list."
   ]
  },
  {
   "cell_type": "markdown",
   "metadata": {},
   "source": [
    "### Schedules for quantum pricing"
   ]
  },
  {
   "cell_type": "markdown",
   "metadata": {},
   "source": [
    "We can use different types of schedules for the quantum pricing algorithm."
   ]
  },
  {
   "cell_type": "code",
   "execution_count": 7,
   "metadata": {
    "execution": {
     "iopub.execute_input": "2022-01-05T05:09:05.356434Z",
     "iopub.status.busy": "2022-01-05T05:09:05.355331Z",
     "iopub.status.idle": "2022-01-05T05:09:05.364119Z",
     "shell.execute_reply": "2022-01-05T05:09:05.363542Z"
    }
   },
   "outputs": [],
   "source": [
    "# Examples of schedules\n",
    "# (scheduleType='direct', nShots=10000) : [[0,10000]]\n",
    "# (scheduleType='linear', maxDepth=10,nShots=10):  [[0,10],[1,10],[2,10],[3,10],[4,10],...,[10,10]]\n",
    "# (scheduleType='exponential', maxDepth=20,nShots=10) [[1,10],[2,10],[4,10],[8,10],[16,10]]\n",
    "# (scheduleType='powerlaw', beta=0.2, nShots=10) : this is a more complicated schedule that depends on beta\n",
    "# which takes values from [0.1 , 0.9]. Attention, the exponent beta can result in very large computations\n",
    "\n",
    "\n",
    "# Schedule parameters are optional. By default, a linear schedule of maxDepth=10 and nShots=10 will be used\n",
    "schedule = None         # provide a schedule, eg [[0,20],[1,20],[2,20]] or put None for predefined schedule types\n",
    "scheduleType = 'exponential' # schedule type: 'direct', 'linear','exponential','powerlaw', (only if schedule=None)\n",
    "nShots = 10             # shots per circuit\n",
    "maxDepth = 20    # parameter for 'linear' and 'exponential' to define the maximum depth of a circuit\n",
    "beta = 0.3              # parameter for the 'powerlaw' schedule between [0.1,0.9]"
   ]
  },
  {
   "cell_type": "code",
   "execution_count": 8,
   "metadata": {
    "execution": {
     "iopub.execute_input": "2022-01-05T05:09:05.375363Z",
     "iopub.status.busy": "2022-01-05T05:09:05.374610Z",
     "iopub.status.idle": "2022-01-05T05:09:06.627064Z",
     "shell.execute_reply": "2022-01-05T05:09:06.627964Z"
    }
   },
   "outputs": [
    {
     "data": {
      "text/plain": [
       "2.5559893752940566"
      ]
     },
     "execution_count": 8,
     "metadata": {},
     "output_type": "execute_result"
    }
   ],
   "source": [
    "# we can price again with a different schedule\n",
    "newProduct.price(scheduleType='exponential', maxDepth=16,nShots=10)"
   ]
  },
  {
   "cell_type": "code",
   "execution_count": 9,
   "metadata": {
    "execution": {
     "iopub.execute_input": "2022-01-05T05:09:06.653070Z",
     "iopub.status.busy": "2022-01-05T05:09:06.651105Z",
     "iopub.status.idle": "2022-01-05T05:09:06.654776Z",
     "shell.execute_reply": "2022-01-05T05:09:06.652057Z"
    }
   },
   "outputs": [
    {
     "name": "stdout",
     "output_type": "stream",
     "text": [
      "[[1, 10], [2, 10], [4, 10], [8, 10], [16, 10]]\n"
     ]
    }
   ],
   "source": [
    "# You can print the schedule that was used for the pricing\n",
    "print(newProduct.schedule)"
   ]
  },
  {
   "cell_type": "markdown",
   "metadata": {},
   "source": [
    "#### Benchmark different schedules"
   ]
  },
  {
   "cell_type": "code",
   "execution_count": 10,
   "metadata": {
    "execution": {
     "iopub.execute_input": "2022-01-05T05:09:06.667293Z",
     "iopub.status.busy": "2022-01-05T05:09:06.666500Z",
     "iopub.status.idle": "2022-01-05T05:09:14.697755Z",
     "shell.execute_reply": "2022-01-05T05:09:14.699672Z"
    }
   },
   "outputs": [
    {
     "name": "stdout",
     "output_type": "stream",
     "text": [
      "Exact price after discretization : 1.9441536619918698\n"
     ]
    },
    {
     "name": "stdout",
     "output_type": "stream",
     "text": [
      "Quantum price - direct 1.9413351971712158\n",
      "Samples - direct 100000\n"
     ]
    },
    {
     "name": "stdout",
     "output_type": "stream",
     "text": [
      "Quantum price - linear 1.9413351971712158\n",
      "Samples - linear 1210\n"
     ]
    },
    {
     "name": "stdout",
     "output_type": "stream",
     "text": [
      "Quantum price - exponential 1.859439948910947\n",
      "Samples - linear 670\n"
     ]
    },
    {
     "name": "stdout",
     "output_type": "stream",
     "text": [
      "Quantum price - powerlaw 1.9413351971712158\n",
      "Samples - powerlaw 5610\n"
     ]
    }
   ],
   "source": [
    "# benchmarking\n",
    "# We are going to test how well the different schdules\n",
    "# approximate the real value and \n",
    "# how many samples they use\n",
    "\n",
    "# 1. real value\n",
    "realPrice = newProduct.price(nShots=None)\n",
    "print('Exact price after discretization :',realPrice)\n",
    "\n",
    "# 2. classical value\n",
    "classicalPrice = newProduct.price(scheduleType='direct', nShots=100000)\n",
    "print('Quantum price - direct', classicalPrice)\n",
    "print('Samples - direct', newProduct.samples)\n",
    "#print(newProduct.schedule)\n",
    "\n",
    "# 3. quantum value – linear schedule\n",
    "quantumPrice=newProduct.price(scheduleType='linear', maxDepth=10,nShots=10)\n",
    "print('Quantum price - linear', quantumPrice)\n",
    "print('Samples - linear', newProduct.samples)\n",
    "#print(newProduct.schedule)\n",
    "\n",
    "# 3. quantum value – linear schedule\n",
    "quantumPrice=newProduct.price(scheduleType='exponential', maxDepth=20,nShots=10)\n",
    "print('Quantum price - exponential', quantumPrice)\n",
    "print('Samples - linear', newProduct.samples)\n",
    "#print(newProduct.schedule)\n",
    "\n",
    "# 4. quantum value – powerlaw schedule beta=beta,\n",
    "quantumPrice = newProduct.price(scheduleType='powerlaw', nShots=10, beta=0.2)\n",
    "print('Quantum price - powerlaw', quantumPrice)\n",
    "print('Samples - powerlaw', newProduct.samples)\n",
    "#print(newProduct.schedule)\n"
   ]
  },
  {
   "cell_type": "markdown",
   "metadata": {},
   "source": [
    "### Looking into the quantum circuits\n",
    "\n",
    "We can check the quantum circuits that correspond to the model (initiak_circuit) and to the iteration circuit sequentially in the quantum Monte Carlo method (iteration_circuit)"
   ]
  },
  {
   "cell_type": "code",
   "execution_count": 11,
   "metadata": {
    "execution": {
     "iopub.execute_input": "2022-01-05T05:09:14.707550Z",
     "iopub.status.busy": "2022-01-05T05:09:14.705324Z",
     "iopub.status.idle": "2022-01-05T05:09:14.717925Z",
     "shell.execute_reply": "2022-01-05T05:09:14.719381Z"
    }
   },
   "outputs": [
    {
     "name": "stdout",
     "output_type": "stream",
     "text": [
      "Initial circuit – Oracle\n",
      "\n",
      "T  : |0|1|2|3|4 |5|6 |7|8 |9|10|11|12|13|14|15|\n",
      "\n",
      "q0 : -X-B-B-B----------------------------------\n",
      "        | | |                                  \n",
      "q1 : ---|-|-S----------------------------------\n",
      "        | |                                    \n",
      "q2 : ---|-S-B----------------------------------\n",
      "        |   |                                  \n",
      "q3 : ---|---S----------------------------------\n",
      "        |                                      \n",
      "q4 : ---S-B-B----------------------------------\n",
      "          | |                                  \n",
      "q5 : -----|-S----@----@------------------------\n",
      "          |      |    |                        \n",
      "q6 : -----S-B----|----|----@----@--------------\n",
      "            |    |    |    |    |              \n",
      "q7 : -------S----|----|----|----|-----@-----@--\n",
      "                 |    |    |    |     |     |  \n",
      "q8 : ---------Ry-X-Ry-X-Ry-X-Ry-X--Ry-X--Ry-X--\n",
      "                                               \n",
      "T  : |0|1|2|3|4 |5|6 |7|8 |9|10|11|12|13|14|15|\n",
      "\n"
     ]
    }
   ],
   "source": [
    "print('Initial circuit – Oracle\\n')\n",
    "print(newProduct.initial_circuit)"
   ]
  },
  {
   "cell_type": "code",
   "execution_count": 12,
   "metadata": {
    "execution": {
     "iopub.execute_input": "2022-01-05T05:09:14.733850Z",
     "iopub.status.busy": "2022-01-05T05:09:14.729889Z",
     "iopub.status.idle": "2022-01-05T05:09:14.737430Z",
     "shell.execute_reply": "2022-01-05T05:09:14.738488Z"
    }
   },
   "outputs": [
    {
     "name": "stdout",
     "output_type": "stream",
     "text": [
      "Iteration circuit \n",
      "\n",
      "T  : |0|1|2 |3|4 |5|6 |7|8 |9|10|11|12|13|14|15|16|17|18|19|20|21|22|23|24|25|\n",
      "\n",
      "q0 : ----------------------------------B--B--B--@--Z--B--B--B-----------------\n",
      "                                       |  |  |  |     |  |  |                 \n",
      "q1 : ----------------------------------S--|--|--|-----|--|--S-----------------\n",
      "                                          |  |  |     |  |                    \n",
      "q2 : ----------------------------------B--S--|--|-----|--S--B-----------------\n",
      "                                       |     |  |     |     |                 \n",
      "q3 : ----------------------------------S-----|--|-----|-----S-----------------\n",
      "                                             |  |     |                       \n",
      "q4 : ----------------------------------B--B--S--|-----S--B--B-----------------\n",
      "                                       |  |     |        |  |                 \n",
      "q5 : -----------------------@----@-----S--|-----|--------|--S-----@-----@-----\n",
      "                            |    |        |     |        |        |     |     \n",
      "q6 : -------------@----@----|----|-----B--S-----|--------S--B-----|-----|-----\n",
      "                  |    |    |    |     |        |           |     |     |     \n",
      "q7 : ---@----@----|----|----|----|-----S--------|-----------S-----|-----|-----\n",
      "        |    |    |    |    |    |              |                 |     |     \n",
      "q8 : -Z-X-Ry-X-Ry-X-Ry-X-Ry-X-Ry-X--Ry----------Z--------------Ry-X--Ry-X--Ry-\n",
      "                                                                              \n",
      "T  : |0|1|2 |3|4 |5|6 |7|8 |9|10|11|12|13|14|15|16|17|18|19|20|21|22|23|24|25|\n",
      "\n",
      "T  :  26|27|28|29|30|31|32|\n",
      "\n",
      "q0 :  ---------------------\n",
      "                           \n",
      "q1 :  ---------------------\n",
      "                           \n",
      "q2 :  ---------------------\n",
      "                           \n",
      "q3 :  ---------------------\n",
      "                           \n",
      "q4 :  ---------------------\n",
      "                           \n",
      "q5 :  ---------------------\n",
      "                           \n",
      "q6 :  @-----@--------------\n",
      "      |     |              \n",
      "q7 :  |-----|-----@-----@--\n",
      "      |     |     |     |  \n",
      "q8 :  X--Ry-X--Ry-X--Ry-X--\n",
      "                           \n",
      "T  :  26|27|28|29|30|31|32|\n",
      "\n"
     ]
    }
   ],
   "source": [
    "print('Iteration circuit \\n')\n",
    "print(newProduct.iteration_circuit)"
   ]
  },
  {
   "cell_type": "markdown",
   "metadata": {},
   "source": [
    "#### Using parallel quantum circuits\n",
    "\n",
    "We can use a different type of quantum circuits that uses more qubits but swallower circuits"
   ]
  },
  {
   "cell_type": "code",
   "execution_count": 13,
   "metadata": {
    "execution": {
     "iopub.execute_input": "2022-01-05T05:09:14.752247Z",
     "iopub.status.busy": "2022-01-05T05:09:14.751081Z",
     "iopub.status.idle": "2022-01-05T05:09:16.810588Z",
     "shell.execute_reply": "2022-01-05T05:09:16.809995Z"
    }
   },
   "outputs": [
    {
     "data": {
      "text/plain": [
       "1.9413351971712158"
      ]
     },
     "execution_count": 13,
     "metadata": {},
     "output_type": "execute_result"
    }
   ],
   "source": [
    "# one optional parameter for optimizing depth vs qubits\n",
    "mode = 'parallel'   # 'parallel' = optimized depth, 'sequential' = optimized number of qubits\n",
    "\n",
    "# Define a new European Option product\n",
    "newProduct_parallel = EuropeanOption(nAssetPrices,S0,K,r,sigma,T,optionType,epsilon,mode=mode)\n",
    "newProduct_parallel.price()"
   ]
  },
  {
   "cell_type": "code",
   "execution_count": 14,
   "metadata": {
    "execution": {
     "iopub.execute_input": "2022-01-05T05:09:16.816691Z",
     "iopub.status.busy": "2022-01-05T05:09:16.815714Z",
     "iopub.status.idle": "2022-01-05T05:09:16.819866Z",
     "shell.execute_reply": "2022-01-05T05:09:16.819300Z"
    }
   },
   "outputs": [
    {
     "name": "stdout",
     "output_type": "stream",
     "text": [
      "T   : |0|1|2|3|4 |5|6 |7|8 |9|10|11|12|13|14|15|\n",
      "\n",
      "q0  : -X-B-B-B----------------------------------\n",
      "         | | |                                  \n",
      "q1  : ---|-|-S----------------------------------\n",
      "         | |                                    \n",
      "q2  : ---|-S-B----------------------------------\n",
      "         |   |                                  \n",
      "q3  : ---|---S----------------------------------\n",
      "         |                                      \n",
      "q4  : ---S-B-B----------------------------------\n",
      "           | |                                  \n",
      "q5  : -----|-S----@----@------------------------\n",
      "           |      |    |                        \n",
      "q6  : -----S-B----|----|----@----@--------------\n",
      "             |    |    |    |    |              \n",
      "q7  : -------S----|----|----|----|-----@-----@--\n",
      "                  |    |    |    |     |     |  \n",
      "q8  : ---------Ry-X-Ry-X----|----|-----|-----|--\n",
      "                            |    |     |     |  \n",
      "q9  : -------------------Ry-X-Ry-X-----|-----|--\n",
      "                                       |     |  \n",
      "q10 : ------------------------------Ry-X--Ry-X--\n",
      "                                                \n",
      "T   : |0|1|2|3|4 |5|6 |7|8 |9|10|11|12|13|14|15|\n",
      "\n"
     ]
    }
   ],
   "source": [
    "print(newProduct_parallel.initial_circuit)"
   ]
  },
  {
   "cell_type": "code",
   "execution_count": 15,
   "metadata": {
    "execution": {
     "iopub.execute_input": "2022-01-05T05:09:16.825698Z",
     "iopub.status.busy": "2022-01-05T05:09:16.825038Z",
     "iopub.status.idle": "2022-01-05T05:09:16.829594Z",
     "shell.execute_reply": "2022-01-05T05:09:16.828860Z"
    }
   },
   "outputs": [
    {
     "name": "stdout",
     "output_type": "stream",
     "text": [
      "T   : |0|1|2 |3|4 |5|6 |7|8 |9|10|11|12|13|14|15|16|17|18|19|20|21|22|23|24|25|\n",
      "\n",
      "q0  : ----------------------------------B--B--B--@--@--@--Z--B--B--B-----------\n",
      "                                        |  |  |  |  |  |     |  |  |           \n",
      "q1  : ----------------------------------S--|--|--|--|--|-----|--|--S-----------\n",
      "                                           |  |  |  |  |     |  |              \n",
      "q2  : ----------------------------------B--S--|--|--|--|-----|--S--B-----------\n",
      "                                        |     |  |  |  |     |     |           \n",
      "q3  : ----------------------------------S-----|--|--|--|-----|-----S-----------\n",
      "                                              |  |  |  |     |                 \n",
      "q4  : ----------------------------------B--B--S--|--|--|-----S--B--B-----------\n",
      "                                        |  |     |  |  |        |  |           \n",
      "q5  : -----------------------@----@-----S--|-----|--|--|--------|--S-----@-----\n",
      "                             |    |        |     |  |  |        |        |     \n",
      "q6  : -------------@----@----|----|-----B--S-----|--|--|--------S--B-----|-----\n",
      "                   |    |    |    |     |        |  |  |           |     |     \n",
      "q7  : ---@----@----|----|----|----|-----S--------|--|--|-----------S-----|-----\n",
      "         |    |    |    |    |    |              |  |  |                 |     \n",
      "q8  : -Z-|----|----|----|----X-Ry-X--Ry----------Z--|--|--------------Ry-X--Ry-\n",
      "         |    |    |    |                           |  |                       \n",
      "q9  : -Z-|----|----X-Ry-X-Ry------------------------Z--|-----------------------\n",
      "         |    |                                        |                       \n",
      "q10 : -Z-X-Ry-X-Ry-------------------------------------Z-----------------------\n",
      "                                                                               \n",
      "T   : |0|1|2 |3|4 |5|6 |7|8 |9|10|11|12|13|14|15|16|17|18|19|20|21|22|23|24|25|\n",
      "\n",
      "T   :  26|27|28|29|30|31|32|33|34|\n",
      "\n",
      "q0  :  ---------------------------\n",
      "                                  \n",
      "q1  :  ---------------------------\n",
      "                                  \n",
      "q2  :  ---------------------------\n",
      "                                  \n",
      "q3  :  ---------------------------\n",
      "                                  \n",
      "q4  :  ---------------------------\n",
      "                                  \n",
      "q5  :  @--------------------------\n",
      "       |                          \n",
      "q6  :  |-----@-----@--------------\n",
      "       |     |     |              \n",
      "q7  :  |-----|-----|-----@-----@--\n",
      "       |     |     |     |     |  \n",
      "q8  :  X-----|-----|-----|-----|--\n",
      "             |     |     |     |  \n",
      "q9  :  ---Ry-X--Ry-X-----|-----|--\n",
      "                         |     |  \n",
      "q10 :  ---------------Ry-X--Ry-X--\n",
      "                                  \n",
      "T   :  26|27|28|29|30|31|32|33|34|\n",
      "\n"
     ]
    }
   ],
   "source": [
    "print(newProduct_parallel.iteration_circuit)"
   ]
  },
  {
   "cell_type": "markdown",
   "metadata": {},
   "source": [
    "#### Defining your own quantum circuits\n",
    "\n",
    "You can define your own circuits for applying the quantum Monte Carlo methods. More details on the NISQ Amplitude Estimation notebook"
   ]
  },
  {
   "cell_type": "code",
   "execution_count": null,
   "metadata": {},
   "outputs": [],
   "source": []
  }
 ],
 "metadata": {
  "kernelspec": {
   "display_name": "Python 3 (ipykernel)",
   "language": "python",
   "name": "python3"
  },
  "language_info": {
   "codemirror_mode": {
    "name": "ipython",
    "version": 3
   },
   "file_extension": ".py",
   "mimetype": "text/x-python",
   "name": "python",
   "nbconvert_exporter": "python",
   "pygments_lexer": "ipython3",
   "version": "3.9.2"
  }
 },
 "nbformat": 4,
 "nbformat_minor": 4
}
