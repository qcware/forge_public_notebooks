{
 "cells": [
  {
   "cell_type": "markdown",
   "id": "neural-injection",
   "metadata": {},
   "source": [
    "# Classification with QNearestCentroid\n",
    "\n",
    "This notebook provides a simple example usage of classifying data with the quantum algorithm `QNearestCentroid` and shows how to run the algorithm on IonQ hardware. "
   ]
  },
  {
   "cell_type": "code",
   "execution_count": null,
   "id": "posted-toyota",
   "metadata": {},
   "outputs": [],
   "source": [
    "from qcware import forge\n",
    "# this line is for internal tracking; it is not necessary for use!\n",
    "forge.config.set_environment_source_file('classification.ipynb')\n",
    "\n",
    "import numpy as np\n",
    "import matplotlib.pyplot as plt \n",
    "# Paste your API key below if not using Forge hosted notebooks\n",
    "# forge.config.set_api_key('paste API key here')"
   ]
  },
  {
   "cell_type": "markdown",
   "id": "saved-command",
   "metadata": {},
   "source": [
    "### Generate data"
   ]
  },
  {
   "cell_type": "code",
   "execution_count": null,
   "id": "committed-macintosh",
   "metadata": {},
   "outputs": [],
   "source": [
    "# Data with labels\n",
    "num_data_points = 15\n",
    "coordinates = 0.25 * np.random.randn(num_data_points, 2) + \\\n",
    "    [[i // 5 - 1, 0] for i in range(num_data_points)]\n",
    "labels = np.array([i // 5 for i in range(num_data_points)])\n",
    "\n",
    "# Extra unclassified data points\n",
    "unclassified_coordinates = np.random.randn(15, 2)\n",
    "\n",
    "\n",
    "\n",
    "plt.scatter(unclassified_coordinates[:,0], \n",
    "            unclassified_coordinates[:,1], \n",
    "            c = 'black', \n",
    "            label='Unclassified Data')\n",
    "plt.scatter(coordinates[:,0], \n",
    "            coordinates[:,1], c = labels, \n",
    "            marker='x', label='Labeled data used for learning')\n",
    "plt.legend()\n",
    "plt.axis('tight')\n",
    "plt.title('Data for Classification')\n",
    "plt.tight_layout()\n",
    "plt.show()"
   ]
  },
  {
   "cell_type": "markdown",
   "id": "found-criticism",
   "metadata": {},
   "source": [
    "### Classify data"
   ]
  },
  {
   "cell_type": "code",
   "execution_count": null,
   "id": "prompt-fiber",
   "metadata": {},
   "outputs": [],
   "source": [
    "quantum_result = forge.qml.fit_and_predict(\n",
    "    coordinates,\n",
    "    y=labels,\n",
    "    T=unclassified_coordinates,\n",
    "    model='QNearestCentroid',\n",
    "    backend='qcware/cpu_simulator')\n",
    "\n",
    "print('Labels found with QNearestCentroid:')\n",
    "print(quantum_result)"
   ]
  },
  {
   "cell_type": "markdown",
   "id": "reasonable-haiti",
   "metadata": {},
   "source": [
    "### Visualize results"
   ]
  },
  {
   "cell_type": "code",
   "execution_count": null,
   "id": "trained-fancy",
   "metadata": {},
   "outputs": [],
   "source": [
    "plt.scatter(unclassified_coordinates[:,0], \n",
    "            unclassified_coordinates[:,1], \n",
    "            c = quantum_result, \n",
    "            label='Classified by QNearestCentroid')\n",
    "plt.scatter(coordinates[:,0], \n",
    "            coordinates[:,1], c = labels, \n",
    "            marker='x', label='Labeled data used for learning')\n",
    "plt.legend()\n",
    "plt.axis('tight')\n",
    "plt.title('QNearestCentroid Result')\n",
    "plt.tight_layout()\n",
    "plt.show()"
   ]
  },
  {
   "cell_type": "markdown",
   "id": "approximate-galaxy",
   "metadata": {},
   "source": [
    "### Classification on IonQ hardware\n",
    "\n",
    "Setting `backend=awsbreaket/ionq` is all that's needed to run this job on quantum hardware."
   ]
  },
  {
   "cell_type": "code",
   "execution_count": null,
   "id": "constitutional-buddy",
   "metadata": {},
   "outputs": [],
   "source": [
    "# Uncomment the next line to schedule the run for the next available window.\n",
    "# forge.config.set_scheduling_mode(\"next_available\")\n",
    "\n",
    "# Uncomment to perform hardware run:\n",
    "# ionq_result = forge.qml.fit_and_predict(\n",
    "#     coordinates,\n",
    "#     y=labels,\n",
    "#     T=unclassified_coordinates,\n",
    "#     model='QNearestCentroid',\n",
    "#     backend='awsbraket/ionq',\n",
    "#     parameters = {'num_measurements': 16}\n",
    "# )"
   ]
  }
 ],
 "metadata": {
  "kernelspec": {
   "display_name": "Python 3",
   "language": "python",
   "name": "python3"
  },
  "language_info": {
   "codemirror_mode": {
    "name": "ipython",
    "version": 3
   },
   "file_extension": ".py",
   "mimetype": "text/x-python",
   "name": "python",
   "nbconvert_exporter": "python",
   "pygments_lexer": "ipython3",
   "version": "3.9.2"
  }
 },
 "nbformat": 4,
 "nbformat_minor": 5
}
