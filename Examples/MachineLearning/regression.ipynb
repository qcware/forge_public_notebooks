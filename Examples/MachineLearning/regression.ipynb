{
 "cells": [
  {
   "cell_type": "markdown",
   "id": "sorted-force",
   "metadata": {},
   "source": [
    "# Regression with QNeighborsRegressor"
   ]
  },
  {
   "cell_type": "code",
   "execution_count": null,
   "id": "norwegian-accused",
   "metadata": {},
   "outputs": [],
   "source": [
    "from qcware import forge\n",
    "# this line is for internal tracking; it is not necessary for use!\n",
    "forge.config.set_environment_source_file('regression.ipynb')\n",
    "\n",
    "from qcware.forge.qml import fit_and_predict\n",
    "import numpy as np\n",
    "import matplotlib.pyplot as plt "
   ]
  },
  {
   "cell_type": "markdown",
   "id": "genuine-pharmaceutical",
   "metadata": {},
   "source": [
    "### Generate data"
   ]
  },
  {
   "cell_type": "code",
   "execution_count": null,
   "id": "german-petite",
   "metadata": {},
   "outputs": [],
   "source": [
    "data_x = np.sort(5 * np.random.rand(40))\n",
    "data_values = np.sin(data_x**2).ravel()\n",
    "\n",
    "# Add noise to data\n",
    "data_values[::5] += 1 * (0.5 - np.random.rand(8))\n",
    "\n",
    "regression_x = np.linspace(0, 5, 501)\n",
    "\n",
    "data_x = data_x.reshape(-1, 1)\n",
    "regression_x = regression_x.reshape(-1, 1)\n",
    "\n",
    "plt.scatter(data_x, data_values, color='darkorange')\n",
    "plt.title('Data for Regression')\n",
    "plt.show()"
   ]
  },
  {
   "cell_type": "markdown",
   "id": "dimensional-present",
   "metadata": {},
   "source": [
    "### Perform quantum regression"
   ]
  },
  {
   "cell_type": "code",
   "execution_count": null,
   "id": "communist-comfort",
   "metadata": {},
   "outputs": [],
   "source": [
    "n_neighbors = 5\n",
    "qlabels = fit_and_predict(\n",
    "    data_x,\n",
    "    y=data_values,\n",
    "    T=regression_x, \n",
    "    model='QNeighborsRegressor', \n",
    "    parameters={'n_neighbors': n_neighbors}\n",
    ")"
   ]
  },
  {
   "cell_type": "markdown",
   "id": "small-interest",
   "metadata": {},
   "source": [
    "### Visualize results"
   ]
  },
  {
   "cell_type": "code",
   "execution_count": null,
   "id": "brilliant-butterfly",
   "metadata": {},
   "outputs": [],
   "source": [
    "plt.scatter(data_x, data_values, color='darkorange', label='data')\n",
    "plt.plot(regression_x, qlabels, color='navy', label='prediction')\n",
    "plt.axis('tight')\n",
    "plt.legend()\n",
    "plt.title('Quantum Regression')\n",
    "plt.tight_layout()\n",
    "plt.show()"
   ]
  },
  {
   "cell_type": "code",
   "execution_count": null,
   "id": "quantitative-cliff",
   "metadata": {},
   "outputs": [],
   "source": [
    "regression_x"
   ]
  },
  {
   "cell_type": "code",
   "execution_count": null,
   "id": "alleged-sauce",
   "metadata": {},
   "outputs": [],
   "source": []
  }
 ],
 "metadata": {
  "kernelspec": {
   "display_name": "Python 3",
   "language": "python",
   "name": "python3"
  },
  "language_info": {
   "codemirror_mode": {
    "name": "ipython",
    "version": 3
   },
   "file_extension": ".py",
   "mimetype": "text/x-python",
   "name": "python",
   "nbconvert_exporter": "python",
   "pygments_lexer": "ipython3",
   "version": "3.9.2"
  }
 },
 "nbformat": 4,
 "nbformat_minor": 5
}
