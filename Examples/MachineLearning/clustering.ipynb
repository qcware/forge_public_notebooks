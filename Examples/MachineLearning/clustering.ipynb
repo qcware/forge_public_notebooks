{
 "cells": [
  {
   "cell_type": "markdown",
   "metadata": {},
   "source": [
    "# Clustering US States with QMeans\n",
    "\n",
    "This notebook looks at a data on US states and clusters them using the quantum machine learning `fit_and_predict` function."
   ]
  },
  {
   "cell_type": "code",
   "execution_count": 1,
   "metadata": {
    "execution": {
     "iopub.execute_input": "2021-11-11T05:07:24.213273Z",
     "iopub.status.busy": "2021-11-11T05:07:24.210246Z",
     "iopub.status.idle": "2021-11-11T05:07:24.900532Z",
     "shell.execute_reply": "2021-11-11T05:07:24.899442Z"
    }
   },
   "outputs": [],
   "source": [
    "from qcware.forge.qml import fit_and_predict\n",
    "from qcware import forge\n",
    "# this line is for internal tracking; it is not necessary for use!\n",
    "forge.config.set_environment_source_file('clustering.ipynb')\n",
    "\n",
    "# Paste your API key below if not using Forge hosted notebooks\n",
    "# qcware.config.set_api_key('paste API key here')"
   ]
  },
  {
   "cell_type": "markdown",
   "metadata": {},
   "source": [
    "### Import data from CSV file\n",
    "\n",
    "Double click on clustering_data.csv"
   ]
  },
  {
   "cell_type": "code",
   "execution_count": 2,
   "metadata": {
    "execution": {
     "iopub.execute_input": "2021-11-11T05:07:24.911490Z",
     "iopub.status.busy": "2021-11-11T05:07:24.910269Z",
     "iopub.status.idle": "2021-11-11T05:07:24.923207Z",
     "shell.execute_reply": "2021-11-11T05:07:24.924015Z"
    }
   },
   "outputs": [],
   "source": [
    "import numpy as np\n",
    "\n",
    "import csv\n",
    "states = []\n",
    "with open('./clustering_data.csv', 'r') as csv_file:\n",
    "    csv_reader = csv.reader(csv_file, delimiter=',')\n",
    "    for line in csv_reader:\n",
    "        states.append(line[0])\n",
    "states = states[1:] # clip header\n",
    "\n",
    "state_data = np.genfromtxt('./clustering_data.csv', delimiter=',')\n",
    "state_data = state_data[1:,1:] # clip headers\n",
    "# Normalize data\n",
    "state_data = state_data / np.linalg.norm(state_data, axis=0)"
   ]
  },
  {
   "cell_type": "markdown",
   "metadata": {},
   "source": [
    "### Run q-means clustering"
   ]
  },
  {
   "cell_type": "code",
   "execution_count": 3,
   "metadata": {
    "execution": {
     "iopub.execute_input": "2021-11-11T05:07:24.930491Z",
     "iopub.status.busy": "2021-11-11T05:07:24.929528Z",
     "iopub.status.idle": "2021-11-11T05:07:24.932637Z",
     "shell.execute_reply": "2021-11-11T05:07:24.932102Z"
    }
   },
   "outputs": [],
   "source": [
    "n_clusters = 6"
   ]
  },
  {
   "cell_type": "code",
   "execution_count": 4,
   "metadata": {
    "execution": {
     "iopub.execute_input": "2021-11-11T05:07:24.939806Z",
     "iopub.status.busy": "2021-11-11T05:07:24.938804Z",
     "iopub.status.idle": "2021-11-11T05:07:34.623507Z",
     "shell.execute_reply": "2021-11-11T05:07:34.622688Z"
    }
   },
   "outputs": [],
   "source": [
    "qlabels = fit_and_predict(\n",
    "    state_data,model='QMeans', \n",
    "    parameters={'n_clusters': n_clusters}, \n",
    "    backend='qcware/cpu_simulator'\n",
    ")"
   ]
  },
  {
   "cell_type": "markdown",
   "metadata": {},
   "source": [
    "### Results"
   ]
  },
  {
   "cell_type": "code",
   "execution_count": 5,
   "metadata": {
    "execution": {
     "iopub.execute_input": "2021-11-11T05:07:34.633696Z",
     "iopub.status.busy": "2021-11-11T05:07:34.632469Z",
     "iopub.status.idle": "2021-11-11T05:07:34.643960Z",
     "shell.execute_reply": "2021-11-11T05:07:34.643248Z"
    }
   },
   "outputs": [
    {
     "name": "stdout",
     "output_type": "stream",
     "text": [
      "Quantum labels from q-means:\n",
      "\n",
      "Group 0:\n",
      "  Alabama\n",
      "  Florida\n",
      "  Georgia\n",
      "  Louisiana\n",
      "  Mississippi\n",
      "  North Carolina\n",
      "  South Carolina\n",
      "\n",
      "Group 1:\n",
      "  Arizona\n",
      "  California\n",
      "  Hawaii\n",
      "  Nevada\n",
      "  Oregon\n",
      "  Texas\n",
      "  Washington\n",
      "\n",
      "Group 2:\n",
      "  Colorado\n",
      "  Idaho\n",
      "  Montana\n",
      "  New Mexico\n",
      "  Utah\n",
      "  Wyoming\n",
      "\n",
      "Group 3:\n",
      "  Iowa\n",
      "  Maine\n",
      "  Michigan\n",
      "  Minnesota\n",
      "  Nebraska\n",
      "  New Hampshire\n",
      "  New York\n",
      "  North Dakota\n",
      "  South Dakota\n",
      "  Vermont\n",
      "  Wisconsin\n",
      "\n",
      "Group 4:\n",
      "  Alaska\n",
      "\n",
      "Group 5:\n",
      "  Arkansas\n",
      "  Connecticut\n",
      "  Delaware\n",
      "  Illinois\n",
      "  Indiana\n",
      "  Kansas\n",
      "  Kentucky\n",
      "  Maryland\n",
      "  Massachusetts\n",
      "  Missouri\n",
      "  New Jersey\n",
      "  Ohio\n",
      "  Oklahoma\n",
      "  Pennsylvania\n",
      "  Rhode Island\n",
      "  Tennessee\n",
      "  Virginia\n",
      "  West Virginia\n"
     ]
    }
   ],
   "source": [
    "print('Quantum labels from q-means:')\n",
    "\n",
    "q_clusters = {i: [] for i in range(n_clusters)}\n",
    "for s, label in zip(states, qlabels):\n",
    "    q_clusters[label].append(s)\n",
    "    \n",
    "    \n",
    "for i, group in q_clusters.items():\n",
    "    print(f'\\nGroup {i}:')\n",
    "    for s in group:\n",
    "        print('  ' + str(s))"
   ]
  }
 ],
 "metadata": {
  "kernelspec": {
   "display_name": "Python 3",
   "language": "python",
   "name": "python3"
  },
  "language_info": {
   "codemirror_mode": {
    "name": "ipython",
    "version": 3
   },
   "file_extension": ".py",
   "mimetype": "text/x-python",
   "name": "python",
   "nbconvert_exporter": "python",
   "pygments_lexer": "ipython3",
   "version": "3.9.2"
  }
 },
 "nbformat": 4,
 "nbformat_minor": 4
}
