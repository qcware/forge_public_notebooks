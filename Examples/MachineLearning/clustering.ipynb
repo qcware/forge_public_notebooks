{
 "cells": [
  {
   "cell_type": "markdown",
   "metadata": {},
   "source": [
    "# Clustering US States with QMeans\n",
    "\n",
    "This notebook looks at a data on US states and clusters them using the quantum machine learning `fit_and_predict` function."
   ]
  },
  {
   "cell_type": "code",
   "execution_count": 1,
   "metadata": {
    "execution": {
     "iopub.execute_input": "2021-12-22T05:18:09.212762Z",
     "iopub.status.busy": "2021-12-22T05:18:09.211794Z",
     "iopub.status.idle": "2021-12-22T05:18:09.717215Z",
     "shell.execute_reply": "2021-12-22T05:18:09.716405Z"
    }
   },
   "outputs": [],
   "source": [
    "from qcware.forge.qml import fit_and_predict\n",
    "from qcware import forge\n",
    "# this line is for internal tracking; it is not necessary for use!\n",
    "forge.config.set_environment_source_file('clustering.ipynb')\n",
    "\n",
    "# Paste your API key below if not using Forge hosted notebooks\n",
    "# qcware.config.set_api_key('paste API key here')"
   ]
  },
  {
   "cell_type": "markdown",
   "metadata": {},
   "source": [
    "### Import data from CSV file\n",
    "\n",
    "Double click on clustering_data.csv"
   ]
  },
  {
   "cell_type": "code",
   "execution_count": 2,
   "metadata": {
    "execution": {
     "iopub.execute_input": "2021-12-22T05:18:09.723477Z",
     "iopub.status.busy": "2021-12-22T05:18:09.722796Z",
     "iopub.status.idle": "2021-12-22T05:18:09.980877Z",
     "shell.execute_reply": "2021-12-22T05:18:09.980295Z"
    }
   },
   "outputs": [
    {
     "data": {
      "text/html": [
       "<div>\n",
       "<style scoped>\n",
       "    .dataframe tbody tr th:only-of-type {\n",
       "        vertical-align: middle;\n",
       "    }\n",
       "\n",
       "    .dataframe tbody tr th {\n",
       "        vertical-align: top;\n",
       "    }\n",
       "\n",
       "    .dataframe thead th {\n",
       "        text-align: right;\n",
       "    }\n",
       "</style>\n",
       "<table border=\"1\" class=\"dataframe\">\n",
       "  <thead>\n",
       "    <tr style=\"text-align: right;\">\n",
       "      <th></th>\n",
       "      <th>State</th>\n",
       "      <th>Code</th>\n",
       "      <th>Tidal Shoreline</th>\n",
       "      <th>Summer Avg Temp</th>\n",
       "      <th>Winter Avg Temp</th>\n",
       "      <th>Highest Elevation</th>\n",
       "      <th>Lowest Elevation</th>\n",
       "      <th>Mean Elevation</th>\n",
       "      <th>Rainfall</th>\n",
       "    </tr>\n",
       "  </thead>\n",
       "  <tbody>\n",
       "    <tr>\n",
       "      <th>0</th>\n",
       "      <td>Alabama</td>\n",
       "      <td>AL</td>\n",
       "      <td>607</td>\n",
       "      <td>26</td>\n",
       "      <td>8</td>\n",
       "      <td>2413</td>\n",
       "      <td>0</td>\n",
       "      <td>500</td>\n",
       "      <td>58.3</td>\n",
       "    </tr>\n",
       "    <tr>\n",
       "      <th>1</th>\n",
       "      <td>Alaska</td>\n",
       "      <td>AK</td>\n",
       "      <td>33904</td>\n",
       "      <td>11</td>\n",
       "      <td>-16</td>\n",
       "      <td>20310</td>\n",
       "      <td>0</td>\n",
       "      <td>1900</td>\n",
       "      <td>22.5</td>\n",
       "    </tr>\n",
       "    <tr>\n",
       "      <th>2</th>\n",
       "      <td>Arizona</td>\n",
       "      <td>AZ</td>\n",
       "      <td>0</td>\n",
       "      <td>26</td>\n",
       "      <td>6</td>\n",
       "      <td>12637</td>\n",
       "      <td>72</td>\n",
       "      <td>4100</td>\n",
       "      <td>13.6</td>\n",
       "    </tr>\n",
       "    <tr>\n",
       "      <th>3</th>\n",
       "      <td>Arkansas</td>\n",
       "      <td>AR</td>\n",
       "      <td>0</td>\n",
       "      <td>26</td>\n",
       "      <td>5</td>\n",
       "      <td>2753</td>\n",
       "      <td>55</td>\n",
       "      <td>650</td>\n",
       "      <td>50.6</td>\n",
       "    </tr>\n",
       "    <tr>\n",
       "      <th>4</th>\n",
       "      <td>California</td>\n",
       "      <td>CA</td>\n",
       "      <td>3427</td>\n",
       "      <td>23</td>\n",
       "      <td>8</td>\n",
       "      <td>14505</td>\n",
       "      <td>-279</td>\n",
       "      <td>2900</td>\n",
       "      <td>22.2</td>\n",
       "    </tr>\n",
       "  </tbody>\n",
       "</table>\n",
       "</div>"
      ],
      "text/plain": [
       "        State Code  Tidal Shoreline  Summer Avg Temp  Winter Avg Temp  \\\n",
       "0     Alabama   AL              607               26                8   \n",
       "1      Alaska   AK            33904               11              -16   \n",
       "2     Arizona   AZ                0               26                6   \n",
       "3    Arkansas   AR                0               26                5   \n",
       "4  California   CA             3427               23                8   \n",
       "\n",
       "   Highest Elevation  Lowest Elevation  Mean Elevation  Rainfall  \n",
       "0               2413                 0             500      58.3  \n",
       "1              20310                 0            1900      22.5  \n",
       "2              12637                72            4100      13.6  \n",
       "3               2753                55             650      50.6  \n",
       "4              14505              -279            2900      22.2  "
      ]
     },
     "execution_count": 2,
     "metadata": {},
     "output_type": "execute_result"
    }
   ],
   "source": [
    "import numpy as np\n",
    "import pandas as pd\n",
    "\n",
    "states_df = pd.read_csv('./clustering_data.csv')\n",
    "\n",
    "state_data = states_df.drop(columns=[\"State\", \"Code\"]).values\n",
    "state_data = state_data / np.linalg.norm(state_data, axis=0)\n",
    "\n",
    "states_df.head()"
   ]
  },
  {
   "cell_type": "markdown",
   "metadata": {},
   "source": [
    "### Run q-means clustering"
   ]
  },
  {
   "cell_type": "code",
   "execution_count": 3,
   "metadata": {
    "execution": {
     "iopub.execute_input": "2021-12-22T05:18:09.985814Z",
     "iopub.status.busy": "2021-12-22T05:18:09.985232Z",
     "iopub.status.idle": "2021-12-22T05:18:09.989241Z",
     "shell.execute_reply": "2021-12-22T05:18:09.990002Z"
    }
   },
   "outputs": [],
   "source": [
    "n_clusters = 6"
   ]
  },
  {
   "cell_type": "code",
   "execution_count": 4,
   "metadata": {
    "execution": {
     "iopub.execute_input": "2021-12-22T05:18:09.995852Z",
     "iopub.status.busy": "2021-12-22T05:18:09.995206Z",
     "iopub.status.idle": "2021-12-22T05:18:19.104689Z",
     "shell.execute_reply": "2021-12-22T05:18:19.105376Z"
    }
   },
   "outputs": [],
   "source": [
    "states_df[\"Cluster\"] = fit_and_predict(\n",
    "    X=state_data,\n",
    "    model='QMeans', \n",
    "    parameters={'n_clusters': n_clusters}, \n",
    "    backend='qcware/cpu_simulator'\n",
    ")"
   ]
  },
  {
   "cell_type": "markdown",
   "metadata": {},
   "source": [
    "### Results"
   ]
  },
  {
   "cell_type": "code",
   "execution_count": 5,
   "metadata": {
    "execution": {
     "iopub.execute_input": "2021-12-22T05:18:19.113203Z",
     "iopub.status.busy": "2021-12-22T05:18:19.112226Z",
     "iopub.status.idle": "2021-12-22T05:18:19.139282Z",
     "shell.execute_reply": "2021-12-22T05:18:19.138738Z"
    }
   },
   "outputs": [
    {
     "name": "stdout",
     "output_type": "stream",
     "text": [
      "Quantum labels from q-means:\n",
      "\n",
      "Group 0:\n",
      "  Connecticut\n",
      "  Illinois\n",
      "  Indiana\n",
      "  Iowa\n",
      "  Kansas\n",
      "  Maine\n",
      "  Massachusetts\n",
      "  Michigan\n",
      "  Minnesota\n",
      "  Nebraska\n",
      "  New Hampshire\n",
      "  New York\n",
      "  North Dakota\n",
      "  Ohio\n",
      "  Pennsylvania\n",
      "  South Dakota\n",
      "  Vermont\n",
      "  Wisconsin\n",
      "\n",
      "Group 1:\n",
      "  Colorado\n",
      "  Montana\n",
      "  New Mexico\n",
      "  Utah\n",
      "  Wyoming\n",
      "\n",
      "Group 2:\n",
      "  Alabama\n",
      "  Arkansas\n",
      "  Delaware\n",
      "  Georgia\n",
      "  Kentucky\n",
      "  Maryland\n",
      "  Mississippi\n",
      "  Missouri\n",
      "  New Jersey\n",
      "  North Carolina\n",
      "  Oklahoma\n",
      "  Rhode Island\n",
      "  South Carolina\n",
      "  Tennessee\n",
      "  Texas\n",
      "  Virginia\n",
      "  West Virginia\n",
      "\n",
      "Group 3:\n",
      "  Alaska\n",
      "\n",
      "Group 4:\n",
      "  Florida\n",
      "  Hawaii\n",
      "  Louisiana\n",
      "\n",
      "Group 5:\n",
      "  Arizona\n",
      "  California\n",
      "  Idaho\n",
      "  Nevada\n",
      "  Oregon\n",
      "  Washington\n"
     ]
    }
   ],
   "source": [
    "print('Quantum labels from q-means:')\n",
    "\n",
    "# Group by cluster and print each state\n",
    "for cluster_idx, cluster in states_df.groupby(by=[\"Cluster\"]):\n",
    "    print(f'\\nGroup {cluster_idx}:')\n",
    "    \n",
    "    for _, state in cluster.iterrows():\n",
    "        print('  ' + state[\"State\"])"
   ]
  }
 ],
 "metadata": {
  "kernelspec": {
   "display_name": "Python 3 (ipykernel)",
   "language": "python",
   "name": "python3"
  },
  "language_info": {
   "codemirror_mode": {
    "name": "ipython",
    "version": 3
   },
   "file_extension": ".py",
   "mimetype": "text/x-python",
   "name": "python",
   "nbconvert_exporter": "python",
   "pygments_lexer": "ipython3",
   "version": "3.9.2"
  }
 },
 "nbformat": 4,
 "nbformat_minor": 4
}
