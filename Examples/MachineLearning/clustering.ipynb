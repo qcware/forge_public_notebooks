{
 "cells": [
  {
   "cell_type": "markdown",
   "metadata": {},
   "source": [
    "# Clustering US States with QMeans\n",
    "\n",
    "This notebook looks at a data on US states and clusters them using the quantum machine learning `fit_and_predict` function."
   ]
  },
  {
   "cell_type": "code",
   "execution_count": 1,
   "metadata": {
    "execution": {
     "iopub.execute_input": "2021-09-07T05:15:50.101878Z",
     "iopub.status.busy": "2021-09-07T05:15:50.100798Z",
     "iopub.status.idle": "2021-09-07T05:15:50.934464Z",
     "shell.execute_reply": "2021-09-07T05:15:50.933793Z"
    }
   },
   "outputs": [],
   "source": [
    "from qcware.forge.qml import fit_and_predict\n",
    "from qcware import forge\n",
    "# this line is for internal tracking; it is not necessary for use!\n",
    "forge.config.set_environment_source_file('clustering.ipynb')\n",
    "\n",
    "# Paste your API key below if not using Forge hosted notebooks\n",
    "# qcware.config.set_api_key('paste API key here')"
   ]
  },
  {
   "cell_type": "markdown",
   "metadata": {},
   "source": [
    "### Import data from CSV file\n",
    "\n",
    "Double click on clustering_data.csv"
   ]
  },
  {
   "cell_type": "code",
   "execution_count": 2,
   "metadata": {
    "execution": {
     "iopub.execute_input": "2021-09-07T05:15:50.946644Z",
     "iopub.status.busy": "2021-09-07T05:15:50.941650Z",
     "iopub.status.idle": "2021-09-07T05:15:50.957174Z",
     "shell.execute_reply": "2021-09-07T05:15:50.956545Z"
    }
   },
   "outputs": [],
   "source": [
    "import numpy as np\n",
    "\n",
    "import csv\n",
    "states = []\n",
    "with open('./clustering_data.csv', 'r') as csv_file:\n",
    "    csv_reader = csv.reader(csv_file, delimiter=',')\n",
    "    for line in csv_reader:\n",
    "        states.append(line[0])\n",
    "states = states[1:] # clip header\n",
    "\n",
    "state_data = np.genfromtxt('./clustering_data.csv', delimiter=',')\n",
    "state_data = state_data[1:,1:] # clip headers\n",
    "# Normalize data\n",
    "state_data = state_data / np.linalg.norm(state_data, axis=0)"
   ]
  },
  {
   "cell_type": "markdown",
   "metadata": {},
   "source": [
    "### Run q-means clustering"
   ]
  },
  {
   "cell_type": "code",
   "execution_count": 3,
   "metadata": {
    "execution": {
     "iopub.execute_input": "2021-09-07T05:15:50.963139Z",
     "iopub.status.busy": "2021-09-07T05:15:50.962408Z",
     "iopub.status.idle": "2021-09-07T05:15:50.966249Z",
     "shell.execute_reply": "2021-09-07T05:15:50.965544Z"
    }
   },
   "outputs": [],
   "source": [
    "n_clusters = 6"
   ]
  },
  {
   "cell_type": "code",
   "execution_count": 4,
   "metadata": {
    "execution": {
     "iopub.execute_input": "2021-09-07T05:15:50.972600Z",
     "iopub.status.busy": "2021-09-07T05:15:50.971517Z",
     "iopub.status.idle": "2021-09-07T05:16:02.057649Z",
     "shell.execute_reply": "2021-09-07T05:16:02.057037Z"
    }
   },
   "outputs": [],
   "source": [
    "qlabels = fit_and_predict(\n",
    "    state_data,model='QMeans', \n",
    "    parameters={'n_clusters': n_clusters}, \n",
    "    backend='qcware/cpu_simulator'\n",
    ")"
   ]
  },
  {
   "cell_type": "markdown",
   "metadata": {},
   "source": [
    "### Results"
   ]
  },
  {
   "cell_type": "code",
   "execution_count": 5,
   "metadata": {
    "execution": {
     "iopub.execute_input": "2021-09-07T05:16:02.068289Z",
     "iopub.status.busy": "2021-09-07T05:16:02.065137Z",
     "iopub.status.idle": "2021-09-07T05:16:02.079577Z",
     "shell.execute_reply": "2021-09-07T05:16:02.078825Z"
    }
   },
   "outputs": [
    {
     "name": "stdout",
     "output_type": "stream",
     "text": [
      "Quantum labels from q-means:\n",
      "\n",
      "Group 0:\n",
      "  Connecticut\n",
      "  Delaware\n",
      "  Illinois\n",
      "  Indiana\n",
      "  Iowa\n",
      "  Kansas\n",
      "  Kentucky\n",
      "  Maine\n",
      "  Maryland\n",
      "  Massachusetts\n",
      "  Michigan\n",
      "  Missouri\n",
      "  New Hampshire\n",
      "  New Jersey\n",
      "  New York\n",
      "  Ohio\n",
      "  Pennsylvania\n",
      "  Rhode Island\n",
      "  Vermont\n",
      "  West Virginia\n",
      "\n",
      "Group 1:\n",
      "  Alabama\n",
      "  Arkansas\n",
      "  Florida\n",
      "  Georgia\n",
      "  Hawaii\n",
      "  Louisiana\n",
      "  Mississippi\n",
      "  North Carolina\n",
      "  Oklahoma\n",
      "  South Carolina\n",
      "  Tennessee\n",
      "  Texas\n",
      "  Virginia\n",
      "\n",
      "Group 2:\n",
      "  Colorado\n",
      "  New Mexico\n",
      "  Utah\n",
      "  Wyoming\n",
      "\n",
      "Group 3:\n",
      "  Arizona\n",
      "  California\n",
      "  Idaho\n",
      "  Nevada\n",
      "  Oregon\n",
      "  Washington\n",
      "\n",
      "Group 4:\n",
      "  Minnesota\n",
      "  Montana\n",
      "  Nebraska\n",
      "  North Dakota\n",
      "  South Dakota\n",
      "  Wisconsin\n",
      "\n",
      "Group 5:\n",
      "  Alaska\n"
     ]
    }
   ],
   "source": [
    "print('Quantum labels from q-means:')\n",
    "\n",
    "q_clusters = {i: [] for i in range(n_clusters)}\n",
    "for s, label in zip(states, qlabels):\n",
    "    q_clusters[label].append(s)\n",
    "    \n",
    "    \n",
    "for i, group in q_clusters.items():\n",
    "    print(f'\\nGroup {i}:')\n",
    "    for s in group:\n",
    "        print('  ' + str(s))"
   ]
  }
 ],
 "metadata": {
  "kernelspec": {
   "display_name": "Python 3",
   "language": "python",
   "name": "python3"
  },
  "language_info": {
   "codemirror_mode": {
    "name": "ipython",
    "version": 3
   },
   "file_extension": ".py",
   "mimetype": "text/x-python",
   "name": "python",
   "nbconvert_exporter": "python",
   "pygments_lexer": "ipython3",
   "version": "3.9.2"
  }
 },
 "nbformat": 4,
 "nbformat_minor": 4
}
