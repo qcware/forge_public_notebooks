{
 "cells": [
  {
   "cell_type": "markdown",
   "metadata": {},
   "source": [
    "<div style=\"background-color: #cfc ; padding: 20px; border-radius: 10px ; border: 2px solid green;\">\n",
    "<p><font size=\"+3\"><b><center> qcware.qML </center></b></font>\n",
    "</p>\n",
    "<p>\n",
    "<font size=\"+3\">  <b> <center> The Quantum Machine Learning API</center></b></font>\n",
    "</p>    \n",
    "</div>"
   ]
  },
  {
   "cell_type": "markdown",
   "metadata": {},
   "source": [
    "**qcware.qML** is Forge's API for Machine Learning applications. \n",
    "\n",
    "Before going any further, make sure you have run the **Getting Started** notebook, to install the qml library and learn about our data loaders and distance estimation procedures that power our qml API. Once you are done with that, you can go ahead with our Unsupervised Learning functionalities.\n"
   ]
  },
  {
   "cell_type": "markdown",
   "metadata": {},
   "source": [
    "<div style=\"background-color: #cfc ; padding: 10px; border-radius: 10px ; border: 1px solid green;\">\n",
    "<font size=\"+2\"><b> 2. Unsupervised Learning </b></font>\n",
    "</div>"
   ]
  },
  {
   "cell_type": "markdown",
   "metadata": {},
   "source": [
    "We present NISQ versions of quantum clustering for unsupervised learning. Our API is built on top of scikit-learn, one of the most widely-used libraries for classical ML. And it's ready to run on your simulator or hardware of your choice! Well, most of them at least!\n"
   ]
  },
  {
   "cell_type": "markdown",
   "metadata": {},
   "source": [
    "<div style=\"background-color: #cfc ; padding: 8px; border-radius: 8px ; border: 1px solid green;\">\n",
    "<font size=\"+1\"><b> 2.1 Clustering </b></font>\n",
    "</div>"
   ]
  },
  {
   "cell_type": "markdown",
   "metadata": {},
   "source": [
    "**qcware.qml.clustering** provides NISQ versions of quantum clustering algorithms for unsupervised learning. \n",
    "\n",
    "In this release, we developed NISQ versions of the canonical KMeans clustering algorithm, based on our Data Loaders and our Distance Metrics procedures. Once again, you may not be able to run your real datasets just yet, but, for the time being, one can make the best out of the NISQ machines and get ready for higher performance and accuracy as the quantum hardware improves. We can also work together and use our tools to see what type of hardware one would need in order to run domain-specific clustering applications and also benchmark different hardware technologies."
   ]
  },
  {
   "cell_type": "markdown",
   "metadata": {},
   "source": [
    "There is the same function call with the following syntax and parameters\n",
    "\n",
    "    fit_and_predict(X, T, model, parameters, backend)\n",
    "    \n",
    "        - X: an 2d array holding the training points of size [n_samples, n_features]  \n",
    "        - T: an 2d array holding the test points of size [n_tests, n_features]. \n",
    "            (optional argument) If T is not given, then X is taken as the test data. \n",
    "        - model: QMeans\n",
    "        - parameters: {n_clusters, loader_mode = 'parallel' or 'optimized'}\n",
    "        - backend: **all the available backends**\n",
    "\n",
    "Note that there are no labels y in unsupervised learning."
   ]
  },
  {
   "cell_type": "markdown",
   "metadata": {},
   "source": [
    "**Example**\n",
    "\n",
    "Last Example for the time being. Define your training data. Call the fit_and_predict function with 'QMeans', and get back your results coming from measurements on a quantum circuit."
   ]
  },
  {
   "cell_type": "code",
   "execution_count": null,
   "metadata": {},
   "outputs": [],
   "source": [
    "# let's create some synthetic data\n",
    "from generate_data_clusters import generate_data_clusters\n",
    "from qcware.qml import fit_and_predict\n",
    "from plot import plot\n",
    "n_clusters = 4\n",
    "n_points = 10\n",
    "dimension = 2\n",
    "X = generate_data_clusters(n_clusters = n_clusters, \n",
    "                              n_points = n_points, \n",
    "                              dimension = dimension, \n",
    "                              add_labels=False)\n",
    "\n",
    "# let's run the quantum regressor\n",
    "qlabels = fit_and_predict(X,model='QMeans', parameters={'n_clusters': n_clusters, 'loader_mode':'parallel'})\n",
    "print('Quantum labels  ', qlabels)\n",
    "\n",
    "#import KMeans from scikit-learn for benchmarking\n",
    "from sklearn.cluster import KMeans\n",
    "clabels = KMeans(n_clusters=n_clusters).fit(X).predict(X)\n",
    "print('Classical labels',clabels)\n",
    "\n",
    "if dimension==2:\n",
    "    plot(X,qlabels,'QMeans')\n",
    "    plot(X,clabels,'KMeans')"
   ]
  }
 ],
 "metadata": {
  "kernelspec": {
   "display_name": "Python 3",
   "language": "python",
   "name": "python3"
  },
  "language_info": {
   "codemirror_mode": {
    "name": "ipython",
    "version": 3
   },
   "file_extension": ".py",
   "mimetype": "text/x-python",
   "name": "python",
   "nbconvert_exporter": "python",
   "pygments_lexer": "ipython3",
   "version": "3.9.0+"
  }
 },
 "nbformat": 4,
 "nbformat_minor": 4
}
