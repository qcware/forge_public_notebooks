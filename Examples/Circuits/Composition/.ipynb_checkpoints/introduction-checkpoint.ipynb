{
 "cells": [
  {
   "cell_type": "markdown",
   "metadata": {},
   "source": [
    "# Circuit-Model Programming in Forge #\n",
    "\n",
    "Circuit-model programming in Forge uses our *Quasar* library to provide an abstract interface to a number of simulators and quantum computers.  The Quasar library is available open-source, including a very capable classical simulator, so this introductory notebook just details some differences between \"Quasar on Forge\" and the base Quasar library; other notebooks in this directory should fill in some more of the blanks.\n",
    "\n",
    "Let's run a basic bell-pair circuit!"
   ]
  },
  {
   "cell_type": "code",
   "execution_count": null,
   "metadata": {},
   "outputs": [],
   "source": [
    "import qcware.config\n",
    "# this line is for internal tracking; it is not necessary for use!\n",
    "qcware.config.set_environment_source_file('introduction.ipynb')\n",
    "import quasar\n",
    "circuit = quasar.Circuit().H(0).CX(0,1)\n",
    "print(circuit)"
   ]
  },
  {
   "cell_type": "markdown",
   "metadata": {},
   "source": [
    "To run this circuit over Forge, we'll need to use the client library `qcware` to set up our API key and instantiate a backend.  When instantiating a backend, you must pass a Forge backend string, such as `qcware/cpu_simulator`."
   ]
  },
  {
   "cell_type": "code",
   "execution_count": null,
   "metadata": {},
   "outputs": [],
   "source": [
    "import qcware\n",
    "from qcware.circuits.quasar_backend import QuasarBackend\n",
    "backend = QuasarBackend('qcware/cpu_simulator')"
   ]
  },
  {
   "cell_type": "markdown",
   "metadata": {},
   "source": [
    "Depending on the backend chosen, you have many different options for running a circuit, including statevector simulation (returning a full statevector), measurement-based computing (returning a histogram of measurements), and many different powerful options such as Pauli expectation values.  Here, let's take advantage of the fact that we're running on a simulator and run a quick statevector simulation.\n",
    "\n",
    "For the Forge backend to quasar, you must use keywords for _all_ arguments; this is slightly non-pythonic, but it takes little more space and makes the code somewhat clearer."
   ]
  },
  {
   "cell_type": "code",
   "execution_count": null,
   "metadata": {},
   "outputs": [],
   "source": [
    "backend.run_statevector(circuit=circuit)"
   ]
  },
  {
   "cell_type": "markdown",
   "metadata": {},
   "source": [
    "Of course, being a simulator, you could always run measurements just as you would on quantum hardware.  This returns a Quasar `ProbabilityHistogram` object."
   ]
  },
  {
   "cell_type": "code",
   "execution_count": null,
   "metadata": {},
   "outputs": [],
   "source": [
    "hist=backend.run_measurement(circuit=circuit)\n",
    "print(hist)"
   ]
  }
 ],
 "metadata": {
  "kernelspec": {
   "display_name": "Python 3 (ipykernel)",
   "language": "python",
   "name": "python3"
  },
  "language_info": {
   "codemirror_mode": {
    "name": "ipython",
    "version": 3
   },
   "file_extension": ".py",
   "mimetype": "text/x-python",
   "name": "python",
   "nbconvert_exporter": "python",
   "pygments_lexer": "ipython3",
   "version": "3.9.5"
  }
 },
 "nbformat": 4,
 "nbformat_minor": 4
}
