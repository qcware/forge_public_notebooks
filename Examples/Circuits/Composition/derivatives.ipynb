{
 "cells": [
  {
   "cell_type": "code",
   "execution_count": 1,
   "metadata": {
    "execution": {
     "iopub.execute_input": "2022-05-26T05:13:38.963985Z",
     "iopub.status.busy": "2022-05-26T05:13:38.952682Z",
     "iopub.status.idle": "2022-05-26T05:13:39.633719Z",
     "shell.execute_reply": "2022-05-26T05:13:39.633006Z"
    }
   },
   "outputs": [],
   "source": [
    "from qcware import forge\n",
    "# this line is for internal tracking; it is not necessary for use!\n",
    "forge.config.set_environment_source_file('derivatives.ipynb')\n",
    "import quasar"
   ]
  },
  {
   "cell_type": "code",
   "execution_count": 2,
   "metadata": {
    "execution": {
     "iopub.execute_input": "2022-05-26T05:13:39.639516Z",
     "iopub.status.busy": "2022-05-26T05:13:39.638499Z",
     "iopub.status.idle": "2022-05-26T05:13:39.641494Z",
     "shell.execute_reply": "2022-05-26T05:13:39.640932Z"
    }
   },
   "outputs": [],
   "source": [
    "# as always, when using Forge we must set our API key if not using Forge-hosted notebooks\n"
   ]
  },
  {
   "cell_type": "code",
   "execution_count": 3,
   "metadata": {
    "execution": {
     "iopub.execute_input": "2022-05-26T05:13:39.646846Z",
     "iopub.status.busy": "2022-05-26T05:13:39.645924Z",
     "iopub.status.idle": "2022-05-26T05:13:39.649255Z",
     "shell.execute_reply": "2022-05-26T05:13:39.648660Z"
    }
   },
   "outputs": [],
   "source": [
    "backend = forge.circuits.QuasarBackend('qcware/cpu_simulator')\n",
    "nmeasurement = None"
   ]
  },
  {
   "cell_type": "code",
   "execution_count": 4,
   "metadata": {
    "execution": {
     "iopub.execute_input": "2022-05-26T05:13:39.657557Z",
     "iopub.status.busy": "2022-05-26T05:13:39.656670Z",
     "iopub.status.idle": "2022-05-26T05:13:39.659805Z",
     "shell.execute_reply": "2022-05-26T05:13:39.660313Z"
    }
   },
   "outputs": [
    {
     "name": "stdout",
     "output_type": "stream",
     "text": [
      "T  : |0 |1|2 |3|\n",
      "\n",
      "q0 : -Ry-@----X-\n",
      "         |    | \n",
      "q1 : -Ry-Z-Ry-@-\n",
      "                \n",
      "T  : |0 |1|2 |3|\n",
      "\n"
     ]
    }
   ],
   "source": [
    "circuit = quasar.Circuit().Ry(0,theta=0.1).Ry(1, theta=-0.2).CZ(0,1).Ry(1, theta=+0.2).CX(1,0)\n",
    "print(circuit)"
   ]
  },
  {
   "cell_type": "code",
   "execution_count": 5,
   "metadata": {
    "execution": {
     "iopub.execute_input": "2022-05-26T05:13:39.667382Z",
     "iopub.status.busy": "2022-05-26T05:13:39.666639Z",
     "iopub.status.idle": "2022-05-26T05:13:39.670546Z",
     "shell.execute_reply": "2022-05-26T05:13:39.669840Z"
    }
   },
   "outputs": [
    {
     "name": "stdout",
     "output_type": "stream",
     "text": [
      "+1.0*I\n",
      "+1.0*Z0\n",
      "+3.0*Z0*Z1\n",
      "+2.0*Z1\n"
     ]
    }
   ],
   "source": [
    "I, X, Y, Z = quasar.Pauli.IXYZ()\n",
    "pauli = I[-1] + Z[0] + 2.0 * Z[1] + 3.0 * Z[0] * Z[1]\n",
    "print(pauli)"
   ]
  },
  {
   "cell_type": "markdown",
   "metadata": {},
   "source": [
    "## Derivatives"
   ]
  },
  {
   "cell_type": "code",
   "execution_count": 6,
   "metadata": {
    "execution": {
     "iopub.execute_input": "2022-05-26T05:13:39.677264Z",
     "iopub.status.busy": "2022-05-26T05:13:39.676527Z",
     "iopub.status.idle": "2022-05-26T05:13:40.274939Z",
     "shell.execute_reply": "2022-05-26T05:13:40.274270Z"
    }
   },
   "outputs": [
    {
     "name": "stdout",
     "output_type": "stream",
     "text": [
      "6.917243474764716\n"
     ]
    }
   ],
   "source": [
    "value = backend.run_pauli_expectation_value(\n",
    "    circuit=circuit, pauli=pauli, nmeasurement=nmeasurement)\n",
    "print(value)"
   ]
  },
  {
   "cell_type": "code",
   "execution_count": 7,
   "metadata": {
    "execution": {
     "iopub.execute_input": "2022-05-26T05:13:40.283217Z",
     "iopub.status.busy": "2022-05-26T05:13:40.280388Z",
     "iopub.status.idle": "2022-05-26T05:13:40.607003Z",
     "shell.execute_reply": "2022-05-26T05:13:40.606134Z"
    }
   },
   "outputs": [
    {
     "name": "stdout",
     "output_type": "stream",
     "text": [
      "[-1.64960972+0.j  0.01429936+0.j -0.01429936+0.j]\n"
     ]
    }
   ],
   "source": [
    "gradient = backend.run_pauli_expectation_value_gradient(\n",
    "        circuit=circuit, pauli=pauli, nmeasurement=nmeasurement)\n",
    "print(gradient)"
   ]
  },
  {
   "cell_type": "code",
   "execution_count": 8,
   "metadata": {
    "execution": {
     "iopub.execute_input": "2022-05-26T05:13:40.618039Z",
     "iopub.status.busy": "2022-05-26T05:13:40.616609Z",
     "iopub.status.idle": "2022-05-26T05:13:40.941682Z",
     "shell.execute_reply": "2022-05-26T05:13:40.940834Z"
    }
   },
   "outputs": [
    {
     "name": "stdout",
     "output_type": "stream",
     "text": [
      "[ 0.01429936+0.j -0.01429936+0.j]\n"
     ]
    }
   ],
   "source": [
    "gradient = backend.run_pauli_expectation_value_gradient(\n",
    "        circuit=circuit, pauli=pauli, parameter_indices=[1,2], nmeasurement=nmeasurement)\n",
    "print(gradient)"
   ]
  }
 ],
 "metadata": {
  "kernelspec": {
   "display_name": "Python 3",
   "language": "python",
   "name": "python3"
  },
  "language_info": {
   "codemirror_mode": {
    "name": "ipython",
    "version": 3
   },
   "file_extension": ".py",
   "mimetype": "text/x-python",
   "name": "python",
   "nbconvert_exporter": "python",
   "pygments_lexer": "ipython3",
   "version": "3.9.2"
  }
 },
 "nbformat": 4,
 "nbformat_minor": 4
}
