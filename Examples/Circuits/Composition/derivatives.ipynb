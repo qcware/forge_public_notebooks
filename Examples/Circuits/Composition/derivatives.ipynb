{
 "cells": [
  {
   "cell_type": "code",
   "execution_count": 1,
   "metadata": {
    "execution": {
     "iopub.execute_input": "2022-10-29T05:08:55.607976Z",
     "iopub.status.busy": "2022-10-29T05:08:55.607650Z",
     "iopub.status.idle": "2022-10-29T05:08:56.003509Z",
     "shell.execute_reply": "2022-10-29T05:08:56.002579Z"
    }
   },
   "outputs": [],
   "source": [
    "from qcware import forge\n",
    "# this line is for internal tracking; it is not necessary for use!\n",
    "forge.config.set_environment_source_file('derivatives.ipynb')\n",
    "import quasar"
   ]
  },
  {
   "cell_type": "code",
   "execution_count": 2,
   "metadata": {
    "execution": {
     "iopub.execute_input": "2022-10-29T05:08:56.007600Z",
     "iopub.status.busy": "2022-10-29T05:08:56.007143Z",
     "iopub.status.idle": "2022-10-29T05:08:56.010479Z",
     "shell.execute_reply": "2022-10-29T05:08:56.009874Z"
    }
   },
   "outputs": [],
   "source": [
    "# as always, when using Forge we must set our API key if not using Forge-hosted notebooks\n"
   ]
  },
  {
   "cell_type": "code",
   "execution_count": 3,
   "metadata": {
    "execution": {
     "iopub.execute_input": "2022-10-29T05:08:56.013016Z",
     "iopub.status.busy": "2022-10-29T05:08:56.012508Z",
     "iopub.status.idle": "2022-10-29T05:08:56.015606Z",
     "shell.execute_reply": "2022-10-29T05:08:56.015111Z"
    }
   },
   "outputs": [],
   "source": [
    "backend = forge.circuits.QuasarBackend('qcware/cpu_simulator')\n",
    "nmeasurement = None"
   ]
  },
  {
   "cell_type": "code",
   "execution_count": 4,
   "metadata": {
    "execution": {
     "iopub.execute_input": "2022-10-29T05:08:56.018137Z",
     "iopub.status.busy": "2022-10-29T05:08:56.017600Z",
     "iopub.status.idle": "2022-10-29T05:08:56.021918Z",
     "shell.execute_reply": "2022-10-29T05:08:56.021399Z"
    }
   },
   "outputs": [
    {
     "name": "stdout",
     "output_type": "stream",
     "text": [
      "T  : |0 |1|2 |3|\n",
      "\n",
      "q0 : -Ry-@----X-\n",
      "         |    | \n",
      "q1 : -Ry-Z-Ry-@-\n",
      "                \n",
      "T  : |0 |1|2 |3|\n",
      "\n"
     ]
    }
   ],
   "source": [
    "circuit = quasar.Circuit().Ry(0,theta=0.1).Ry(1, theta=-0.2).CZ(0,1).Ry(1, theta=+0.2).CX(1,0)\n",
    "print(circuit)"
   ]
  },
  {
   "cell_type": "code",
   "execution_count": 5,
   "metadata": {
    "execution": {
     "iopub.execute_input": "2022-10-29T05:08:56.024381Z",
     "iopub.status.busy": "2022-10-29T05:08:56.023893Z",
     "iopub.status.idle": "2022-10-29T05:08:56.028333Z",
     "shell.execute_reply": "2022-10-29T05:08:56.027731Z"
    }
   },
   "outputs": [
    {
     "name": "stdout",
     "output_type": "stream",
     "text": [
      "+1.0*I\n",
      "+1.0*Z0\n",
      "+3.0*Z0*Z1\n",
      "+2.0*Z1\n"
     ]
    }
   ],
   "source": [
    "I, X, Y, Z = quasar.Pauli.IXYZ()\n",
    "pauli = I[-1] + Z[0] + 2.0 * Z[1] + 3.0 * Z[0] * Z[1]\n",
    "print(pauli)"
   ]
  },
  {
   "cell_type": "markdown",
   "metadata": {},
   "source": [
    "## Derivatives"
   ]
  },
  {
   "cell_type": "code",
   "execution_count": 6,
   "metadata": {
    "execution": {
     "iopub.execute_input": "2022-10-29T05:08:56.030983Z",
     "iopub.status.busy": "2022-10-29T05:08:56.030472Z",
     "iopub.status.idle": "2022-10-29T05:08:56.461635Z",
     "shell.execute_reply": "2022-10-29T05:08:56.460948Z"
    }
   },
   "outputs": [
    {
     "name": "stdout",
     "output_type": "stream",
     "text": [
      "6.917243474764716\n"
     ]
    }
   ],
   "source": [
    "value = backend.run_pauli_expectation_value(\n",
    "    circuit=circuit, pauli=pauli, nmeasurement=nmeasurement)\n",
    "print(value)"
   ]
  },
  {
   "cell_type": "code",
   "execution_count": 7,
   "metadata": {
    "execution": {
     "iopub.execute_input": "2022-10-29T05:08:56.465225Z",
     "iopub.status.busy": "2022-10-29T05:08:56.464598Z",
     "iopub.status.idle": "2022-10-29T05:08:56.753219Z",
     "shell.execute_reply": "2022-10-29T05:08:56.752613Z"
    }
   },
   "outputs": [
    {
     "name": "stdout",
     "output_type": "stream",
     "text": [
      "[-1.64960972+0.j  0.01429936+0.j -0.01429936+0.j]\n"
     ]
    }
   ],
   "source": [
    "gradient = backend.run_pauli_expectation_value_gradient(\n",
    "        circuit=circuit, pauli=pauli, nmeasurement=nmeasurement)\n",
    "print(gradient)"
   ]
  },
  {
   "cell_type": "code",
   "execution_count": 8,
   "metadata": {
    "execution": {
     "iopub.execute_input": "2022-10-29T05:08:56.756197Z",
     "iopub.status.busy": "2022-10-29T05:08:56.755934Z",
     "iopub.status.idle": "2022-10-29T05:08:56.971752Z",
     "shell.execute_reply": "2022-10-29T05:08:56.970803Z"
    }
   },
   "outputs": [
    {
     "name": "stdout",
     "output_type": "stream",
     "text": [
      "[ 0.01429936+0.j -0.01429936+0.j]\n"
     ]
    }
   ],
   "source": [
    "gradient = backend.run_pauli_expectation_value_gradient(\n",
    "        circuit=circuit, pauli=pauli, parameter_indices=[1,2], nmeasurement=nmeasurement)\n",
    "print(gradient)"
   ]
  }
 ],
 "metadata": {
  "kernelspec": {
   "display_name": "Python 3",
   "language": "python",
   "name": "python3"
  },
  "language_info": {
   "codemirror_mode": {
    "name": "ipython",
    "version": 3
   },
   "file_extension": ".py",
   "mimetype": "text/x-python",
   "name": "python",
   "nbconvert_exporter": "python",
   "pygments_lexer": "ipython3",
   "version": "3.9.2"
  }
 },
 "nbformat": 4,
 "nbformat_minor": 4
}
