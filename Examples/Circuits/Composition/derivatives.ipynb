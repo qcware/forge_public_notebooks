{
 "cells": [
  {
   "cell_type": "code",
   "execution_count": 1,
   "metadata": {
    "execution": {
     "iopub.execute_input": "2021-07-15T20:30:10.058648Z",
     "iopub.status.busy": "2021-07-15T20:30:10.058028Z",
     "iopub.status.idle": "2021-07-15T20:30:10.348220Z",
     "shell.execute_reply": "2021-07-15T20:30:10.348669Z"
    }
   },
   "outputs": [],
   "source": [
    "import qcware.config\n",
    "# this line is for internal tracking; it is not necessary for use!\n",
    "qcware.config.set_environment_source_file('derivatives.ipynb')\n",
    "import quasar"
   ]
  },
  {
   "cell_type": "code",
   "execution_count": 2,
   "metadata": {
    "execution": {
     "iopub.execute_input": "2021-07-15T20:30:10.351405Z",
     "iopub.status.busy": "2021-07-15T20:30:10.350851Z",
     "iopub.status.idle": "2021-07-15T20:30:10.356122Z",
     "shell.execute_reply": "2021-07-15T20:30:10.355640Z"
    }
   },
   "outputs": [],
   "source": [
    "# as always, when using Forge we must set our API key if not using Forge-hosted notebooks\n",
    "import qcware"
   ]
  },
  {
   "cell_type": "code",
   "execution_count": 3,
   "metadata": {
    "execution": {
     "iopub.execute_input": "2021-07-15T20:30:10.360039Z",
     "iopub.status.busy": "2021-07-15T20:30:10.359405Z",
     "iopub.status.idle": "2021-07-15T20:30:10.471899Z",
     "shell.execute_reply": "2021-07-15T20:30:10.471380Z"
    }
   },
   "outputs": [],
   "source": [
    "from qcware.circuits.quasar_backend import QuasarBackend\n",
    "backend = QuasarBackend('qcware/cpu_simulator')\n",
    "nmeasurement = None"
   ]
  },
  {
   "cell_type": "code",
   "execution_count": 4,
   "metadata": {
    "execution": {
     "iopub.execute_input": "2021-07-15T20:30:10.476870Z",
     "iopub.status.busy": "2021-07-15T20:30:10.476366Z",
     "iopub.status.idle": "2021-07-15T20:30:10.479991Z",
     "shell.execute_reply": "2021-07-15T20:30:10.479366Z"
    }
   },
   "outputs": [
    {
     "name": "stdout",
     "output_type": "stream",
     "text": [
      "T  : |0 |1|2 |3|\n",
      "\n",
      "q0 : -Ry-@----X-\n",
      "         |    | \n",
      "q1 : -Ry-Z-Ry-@-\n",
      "                \n",
      "T  : |0 |1|2 |3|\n",
      "\n"
     ]
    }
   ],
   "source": [
    "circuit = quasar.Circuit().Ry(0,theta=0.1).Ry(1, theta=-0.2).CZ(0,1).Ry(1, theta=+0.2).CX(1,0)\n",
    "print(circuit)"
   ]
  },
  {
   "cell_type": "code",
   "execution_count": 5,
   "metadata": {
    "execution": {
     "iopub.execute_input": "2021-07-15T20:30:10.484329Z",
     "iopub.status.busy": "2021-07-15T20:30:10.483824Z",
     "iopub.status.idle": "2021-07-15T20:30:10.487492Z",
     "shell.execute_reply": "2021-07-15T20:30:10.486953Z"
    }
   },
   "outputs": [
    {
     "name": "stdout",
     "output_type": "stream",
     "text": [
      "+1.0*I\n",
      "+1.0*Z0\n",
      "+3.0*Z0*Z1\n",
      "+2.0*Z1\n"
     ]
    }
   ],
   "source": [
    "I, X, Y, Z = quasar.Pauli.IXYZ()\n",
    "pauli = I[-1] + Z[0] + 2.0 * Z[1] + 3.0 * Z[0] * Z[1]\n",
    "print(pauli)"
   ]
  },
  {
   "cell_type": "markdown",
   "metadata": {},
   "source": [
    "## Derivatives"
   ]
  },
  {
   "cell_type": "code",
   "execution_count": 6,
   "metadata": {
    "execution": {
     "iopub.execute_input": "2021-07-15T20:30:10.493894Z",
     "iopub.status.busy": "2021-07-15T20:30:10.493268Z",
     "iopub.status.idle": "2021-07-15T20:30:10.890166Z",
     "shell.execute_reply": "2021-07-15T20:30:10.889622Z"
    }
   },
   "outputs": [
    {
     "name": "stdout",
     "output_type": "stream",
     "text": [
      "6.917243474764716\n"
     ]
    }
   ],
   "source": [
    "value = backend.run_pauli_expectation_value(\n",
    "    circuit=circuit, pauli=pauli, nmeasurement=nmeasurement)\n",
    "print(value)"
   ]
  },
  {
   "cell_type": "code",
   "execution_count": 7,
   "metadata": {
    "execution": {
     "iopub.execute_input": "2021-07-15T20:30:10.896362Z",
     "iopub.status.busy": "2021-07-15T20:30:10.895780Z",
     "iopub.status.idle": "2021-07-15T20:30:11.086072Z",
     "shell.execute_reply": "2021-07-15T20:30:11.085472Z"
    }
   },
   "outputs": [
    {
     "name": "stdout",
     "output_type": "stream",
     "text": [
      "[-1.64960972+0.j  0.01429936+0.j -0.01429936+0.j]\n"
     ]
    }
   ],
   "source": [
    "gradient = backend.run_pauli_expectation_value_gradient(\n",
    "        circuit=circuit, pauli=pauli, nmeasurement=nmeasurement)\n",
    "print(gradient)"
   ]
  },
  {
   "cell_type": "code",
   "execution_count": 8,
   "metadata": {
    "execution": {
     "iopub.execute_input": "2021-07-15T20:30:11.091453Z",
     "iopub.status.busy": "2021-07-15T20:30:11.090953Z",
     "iopub.status.idle": "2021-07-15T20:30:11.284991Z",
     "shell.execute_reply": "2021-07-15T20:30:11.285438Z"
    }
   },
   "outputs": [
    {
     "name": "stdout",
     "output_type": "stream",
     "text": [
      "[ 0.01429936+0.j -0.01429936+0.j]\n"
     ]
    }
   ],
   "source": [
    "gradient = backend.run_pauli_expectation_value_gradient(\n",
    "        circuit=circuit, pauli=pauli, parameter_indices=[1,2], nmeasurement=nmeasurement)\n",
    "print(gradient)"
   ]
  }
 ],
 "metadata": {
  "kernelspec": {
   "display_name": "Python 3 (ipykernel)",
   "language": "python",
   "name": "python3"
  },
  "language_info": {
   "codemirror_mode": {
    "name": "ipython",
    "version": 3
   },
   "file_extension": ".py",
   "mimetype": "text/x-python",
   "name": "python",
   "nbconvert_exporter": "python",
   "pygments_lexer": "ipython3",
   "version": "3.9.2"
  }
 },
 "nbformat": 4,
 "nbformat_minor": 4
}
