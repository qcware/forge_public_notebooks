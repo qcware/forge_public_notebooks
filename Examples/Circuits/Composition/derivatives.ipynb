{
 "cells": [
  {
   "cell_type": "code",
   "execution_count": 1,
   "metadata": {
    "execution": {
     "iopub.execute_input": "2022-10-30T05:10:56.715634Z",
     "iopub.status.busy": "2022-10-30T05:10:56.714925Z",
     "iopub.status.idle": "2022-10-30T05:10:57.110045Z",
     "shell.execute_reply": "2022-10-30T05:10:57.109275Z"
    }
   },
   "outputs": [],
   "source": [
    "from qcware import forge\n",
    "# this line is for internal tracking; it is not necessary for use!\n",
    "forge.config.set_environment_source_file('derivatives.ipynb')\n",
    "import quasar"
   ]
  },
  {
   "cell_type": "code",
   "execution_count": 2,
   "metadata": {
    "execution": {
     "iopub.execute_input": "2022-10-30T05:10:57.113222Z",
     "iopub.status.busy": "2022-10-30T05:10:57.112873Z",
     "iopub.status.idle": "2022-10-30T05:10:57.116739Z",
     "shell.execute_reply": "2022-10-30T05:10:57.116257Z"
    }
   },
   "outputs": [],
   "source": [
    "# as always, when using Forge we must set our API key if not using Forge-hosted notebooks\n"
   ]
  },
  {
   "cell_type": "code",
   "execution_count": 3,
   "metadata": {
    "execution": {
     "iopub.execute_input": "2022-10-30T05:10:57.118947Z",
     "iopub.status.busy": "2022-10-30T05:10:57.118714Z",
     "iopub.status.idle": "2022-10-30T05:10:57.121787Z",
     "shell.execute_reply": "2022-10-30T05:10:57.121086Z"
    }
   },
   "outputs": [],
   "source": [
    "backend = forge.circuits.QuasarBackend('qcware/cpu_simulator')\n",
    "nmeasurement = None"
   ]
  },
  {
   "cell_type": "code",
   "execution_count": 4,
   "metadata": {
    "execution": {
     "iopub.execute_input": "2022-10-30T05:10:57.124119Z",
     "iopub.status.busy": "2022-10-30T05:10:57.123877Z",
     "iopub.status.idle": "2022-10-30T05:10:57.128479Z",
     "shell.execute_reply": "2022-10-30T05:10:57.127905Z"
    }
   },
   "outputs": [
    {
     "name": "stdout",
     "output_type": "stream",
     "text": [
      "T  : |0 |1|2 |3|\n",
      "\n",
      "q0 : -Ry-@----X-\n",
      "         |    | \n",
      "q1 : -Ry-Z-Ry-@-\n",
      "                \n",
      "T  : |0 |1|2 |3|\n",
      "\n"
     ]
    }
   ],
   "source": [
    "circuit = quasar.Circuit().Ry(0,theta=0.1).Ry(1, theta=-0.2).CZ(0,1).Ry(1, theta=+0.2).CX(1,0)\n",
    "print(circuit)"
   ]
  },
  {
   "cell_type": "code",
   "execution_count": 5,
   "metadata": {
    "execution": {
     "iopub.execute_input": "2022-10-30T05:10:57.131212Z",
     "iopub.status.busy": "2022-10-30T05:10:57.130832Z",
     "iopub.status.idle": "2022-10-30T05:10:57.134903Z",
     "shell.execute_reply": "2022-10-30T05:10:57.134372Z"
    }
   },
   "outputs": [
    {
     "name": "stdout",
     "output_type": "stream",
     "text": [
      "+1.0*I\n",
      "+1.0*Z0\n",
      "+3.0*Z0*Z1\n",
      "+2.0*Z1\n"
     ]
    }
   ],
   "source": [
    "I, X, Y, Z = quasar.Pauli.IXYZ()\n",
    "pauli = I[-1] + Z[0] + 2.0 * Z[1] + 3.0 * Z[0] * Z[1]\n",
    "print(pauli)"
   ]
  },
  {
   "cell_type": "markdown",
   "metadata": {},
   "source": [
    "## Derivatives"
   ]
  },
  {
   "cell_type": "code",
   "execution_count": 6,
   "metadata": {
    "execution": {
     "iopub.execute_input": "2022-10-30T05:10:57.137314Z",
     "iopub.status.busy": "2022-10-30T05:10:57.136826Z",
     "iopub.status.idle": "2022-10-30T05:10:57.579471Z",
     "shell.execute_reply": "2022-10-30T05:10:57.578573Z"
    }
   },
   "outputs": [
    {
     "name": "stdout",
     "output_type": "stream",
     "text": [
      "6.917243474764716\n"
     ]
    }
   ],
   "source": [
    "value = backend.run_pauli_expectation_value(\n",
    "    circuit=circuit, pauli=pauli, nmeasurement=nmeasurement)\n",
    "print(value)"
   ]
  },
  {
   "cell_type": "code",
   "execution_count": 7,
   "metadata": {
    "execution": {
     "iopub.execute_input": "2022-10-30T05:10:57.582867Z",
     "iopub.status.busy": "2022-10-30T05:10:57.582467Z",
     "iopub.status.idle": "2022-10-30T05:10:57.832327Z",
     "shell.execute_reply": "2022-10-30T05:10:57.831364Z"
    }
   },
   "outputs": [
    {
     "name": "stdout",
     "output_type": "stream",
     "text": [
      "[-1.64960972+0.j  0.01429936+0.j -0.01429936+0.j]\n"
     ]
    }
   ],
   "source": [
    "gradient = backend.run_pauli_expectation_value_gradient(\n",
    "        circuit=circuit, pauli=pauli, nmeasurement=nmeasurement)\n",
    "print(gradient)"
   ]
  },
  {
   "cell_type": "code",
   "execution_count": 8,
   "metadata": {
    "execution": {
     "iopub.execute_input": "2022-10-30T05:10:57.837102Z",
     "iopub.status.busy": "2022-10-30T05:10:57.836535Z",
     "iopub.status.idle": "2022-10-30T05:10:58.066219Z",
     "shell.execute_reply": "2022-10-30T05:10:58.065245Z"
    }
   },
   "outputs": [
    {
     "name": "stdout",
     "output_type": "stream",
     "text": [
      "[ 0.01429936+0.j -0.01429936+0.j]\n"
     ]
    }
   ],
   "source": [
    "gradient = backend.run_pauli_expectation_value_gradient(\n",
    "        circuit=circuit, pauli=pauli, parameter_indices=[1,2], nmeasurement=nmeasurement)\n",
    "print(gradient)"
   ]
  }
 ],
 "metadata": {
  "kernelspec": {
   "display_name": "Python 3",
   "language": "python",
   "name": "python3"
  },
  "language_info": {
   "codemirror_mode": {
    "name": "ipython",
    "version": 3
   },
   "file_extension": ".py",
   "mimetype": "text/x-python",
   "name": "python",
   "nbconvert_exporter": "python",
   "pygments_lexer": "ipython3",
   "version": "3.9.2"
  }
 },
 "nbformat": 4,
 "nbformat_minor": 4
}
