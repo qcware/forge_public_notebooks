{
 "cells": [
  {
   "cell_type": "code",
   "execution_count": 1,
   "metadata": {
    "execution": {
     "iopub.execute_input": "2021-08-10T05:17:53.947776Z",
     "iopub.status.busy": "2021-08-10T05:17:53.946594Z",
     "iopub.status.idle": "2021-08-10T05:17:54.742453Z",
     "shell.execute_reply": "2021-08-10T05:17:54.741421Z"
    }
   },
   "outputs": [],
   "source": [
    "from qcware import forge\n",
    "# this line is for internal tracking; it is not necessary for use!\n",
    "forge.config.set_environment_source_file('derivatives.ipynb')\n",
    "import quasar"
   ]
  },
  {
   "cell_type": "code",
   "execution_count": 2,
   "metadata": {
    "execution": {
     "iopub.execute_input": "2021-08-10T05:17:54.746990Z",
     "iopub.status.busy": "2021-08-10T05:17:54.746406Z",
     "iopub.status.idle": "2021-08-10T05:17:54.750717Z",
     "shell.execute_reply": "2021-08-10T05:17:54.750152Z"
    }
   },
   "outputs": [],
   "source": [
    "# as always, when using Forge we must set our API key if not using Forge-hosted notebooks\n"
   ]
  },
  {
   "cell_type": "code",
   "execution_count": 3,
   "metadata": {
    "execution": {
     "iopub.execute_input": "2021-08-10T05:17:54.756069Z",
     "iopub.status.busy": "2021-08-10T05:17:54.755188Z",
     "iopub.status.idle": "2021-08-10T05:17:54.760023Z",
     "shell.execute_reply": "2021-08-10T05:17:54.759484Z"
    }
   },
   "outputs": [],
   "source": [
    "backend = forge.circuits.QuasarBackend('qcware/cpu_simulator')\n",
    "nmeasurement = None"
   ]
  },
  {
   "cell_type": "code",
   "execution_count": 4,
   "metadata": {
    "execution": {
     "iopub.execute_input": "2021-08-10T05:17:54.766477Z",
     "iopub.status.busy": "2021-08-10T05:17:54.765542Z",
     "iopub.status.idle": "2021-08-10T05:17:54.769970Z",
     "shell.execute_reply": "2021-08-10T05:17:54.769317Z"
    }
   },
   "outputs": [
    {
     "name": "stdout",
     "output_type": "stream",
     "text": [
      "T  : |0 |1|2 |3|\n",
      "\n",
      "q0 : -Ry-@----X-\n",
      "         |    | \n",
      "q1 : -Ry-Z-Ry-@-\n",
      "                \n",
      "T  : |0 |1|2 |3|\n",
      "\n"
     ]
    }
   ],
   "source": [
    "circuit = quasar.Circuit().Ry(0,theta=0.1).Ry(1, theta=-0.2).CZ(0,1).Ry(1, theta=+0.2).CX(1,0)\n",
    "print(circuit)"
   ]
  },
  {
   "cell_type": "code",
   "execution_count": 5,
   "metadata": {
    "execution": {
     "iopub.execute_input": "2021-08-10T05:17:54.777105Z",
     "iopub.status.busy": "2021-08-10T05:17:54.776360Z",
     "iopub.status.idle": "2021-08-10T05:17:54.782015Z",
     "shell.execute_reply": "2021-08-10T05:17:54.782851Z"
    }
   },
   "outputs": [
    {
     "name": "stdout",
     "output_type": "stream",
     "text": [
      "+1.0*I\n",
      "+1.0*Z0\n",
      "+3.0*Z0*Z1\n",
      "+2.0*Z1\n"
     ]
    }
   ],
   "source": [
    "I, X, Y, Z = quasar.Pauli.IXYZ()\n",
    "pauli = I[-1] + Z[0] + 2.0 * Z[1] + 3.0 * Z[0] * Z[1]\n",
    "print(pauli)"
   ]
  },
  {
   "cell_type": "markdown",
   "metadata": {},
   "source": [
    "## Derivatives"
   ]
  },
  {
   "cell_type": "code",
   "execution_count": 6,
   "metadata": {
    "execution": {
     "iopub.execute_input": "2021-08-10T05:17:54.796108Z",
     "iopub.status.busy": "2021-08-10T05:17:54.795042Z",
     "iopub.status.idle": "2021-08-10T05:17:55.451665Z",
     "shell.execute_reply": "2021-08-10T05:17:55.452364Z"
    }
   },
   "outputs": [
    {
     "name": "stdout",
     "output_type": "stream",
     "text": [
      "6.917243474764716\n"
     ]
    }
   ],
   "source": [
    "value = backend.run_pauli_expectation_value(\n",
    "    circuit=circuit, pauli=pauli, nmeasurement=nmeasurement)\n",
    "print(value)"
   ]
  },
  {
   "cell_type": "code",
   "execution_count": 7,
   "metadata": {
    "execution": {
     "iopub.execute_input": "2021-08-10T05:17:55.459586Z",
     "iopub.status.busy": "2021-08-10T05:17:55.458953Z",
     "iopub.status.idle": "2021-08-10T05:17:55.780164Z",
     "shell.execute_reply": "2021-08-10T05:17:55.780725Z"
    }
   },
   "outputs": [
    {
     "name": "stdout",
     "output_type": "stream",
     "text": [
      "[-1.64960972+0.j  0.01429936+0.j -0.01429936+0.j]\n"
     ]
    }
   ],
   "source": [
    "gradient = backend.run_pauli_expectation_value_gradient(\n",
    "        circuit=circuit, pauli=pauli, nmeasurement=nmeasurement)\n",
    "print(gradient)"
   ]
  },
  {
   "cell_type": "code",
   "execution_count": 8,
   "metadata": {
    "execution": {
     "iopub.execute_input": "2021-08-10T05:17:55.788791Z",
     "iopub.status.busy": "2021-08-10T05:17:55.787825Z",
     "iopub.status.idle": "2021-08-10T05:17:56.120795Z",
     "shell.execute_reply": "2021-08-10T05:17:56.118950Z"
    }
   },
   "outputs": [
    {
     "name": "stdout",
     "output_type": "stream",
     "text": [
      "[ 0.01429936+0.j -0.01429936+0.j]\n"
     ]
    }
   ],
   "source": [
    "gradient = backend.run_pauli_expectation_value_gradient(\n",
    "        circuit=circuit, pauli=pauli, parameter_indices=[1,2], nmeasurement=nmeasurement)\n",
    "print(gradient)"
   ]
  }
 ],
 "metadata": {
  "kernelspec": {
   "display_name": "Python 3",
   "language": "python",
   "name": "python3"
  },
  "language_info": {
   "codemirror_mode": {
    "name": "ipython",
    "version": 3
   },
   "file_extension": ".py",
   "mimetype": "text/x-python",
   "name": "python",
   "nbconvert_exporter": "python",
   "pygments_lexer": "ipython3",
   "version": "3.9.2"
  }
 },
 "nbformat": 4,
 "nbformat_minor": 4
}
