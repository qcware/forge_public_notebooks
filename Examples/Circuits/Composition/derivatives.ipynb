{
 "cells": [
  {
   "cell_type": "code",
   "execution_count": 1,
   "metadata": {
    "execution": {
     "iopub.execute_input": "2021-07-19T05:18:23.849369Z",
     "iopub.status.busy": "2021-07-19T05:18:23.848742Z",
     "iopub.status.idle": "2021-07-19T05:18:24.273258Z",
     "shell.execute_reply": "2021-07-19T05:18:24.272428Z"
    }
   },
   "outputs": [],
   "source": [
    "import qcware.config\n",
    "# this line is for internal tracking; it is not necessary for use!\n",
    "qcware.config.set_environment_source_file('derivatives.ipynb')\n",
    "import quasar"
   ]
  },
  {
   "cell_type": "code",
   "execution_count": 2,
   "metadata": {
    "execution": {
     "iopub.execute_input": "2021-07-19T05:18:24.279047Z",
     "iopub.status.busy": "2021-07-19T05:18:24.278091Z",
     "iopub.status.idle": "2021-07-19T05:18:24.284736Z",
     "shell.execute_reply": "2021-07-19T05:18:24.285222Z"
    }
   },
   "outputs": [],
   "source": [
    "# as always, when using Forge we must set our API key if not using Forge-hosted notebooks\n",
    "import qcware"
   ]
  },
  {
   "cell_type": "code",
   "execution_count": 3,
   "metadata": {
    "execution": {
     "iopub.execute_input": "2021-07-19T05:18:24.292666Z",
     "iopub.status.busy": "2021-07-19T05:18:24.291119Z",
     "iopub.status.idle": "2021-07-19T05:18:24.454289Z",
     "shell.execute_reply": "2021-07-19T05:18:24.453503Z"
    }
   },
   "outputs": [],
   "source": [
    "from qcware.circuits.quasar_backend import QuasarBackend\n",
    "backend = QuasarBackend('qcware/cpu_simulator')\n",
    "nmeasurement = None"
   ]
  },
  {
   "cell_type": "code",
   "execution_count": 4,
   "metadata": {
    "execution": {
     "iopub.execute_input": "2021-07-19T05:18:24.461210Z",
     "iopub.status.busy": "2021-07-19T05:18:24.460469Z",
     "iopub.status.idle": "2021-07-19T05:18:24.464573Z",
     "shell.execute_reply": "2021-07-19T05:18:24.463905Z"
    }
   },
   "outputs": [
    {
     "name": "stdout",
     "output_type": "stream",
     "text": [
      "T  : |0 |1|2 |3|\n",
      "\n",
      "q0 : -Ry-@----X-\n",
      "         |    | \n",
      "q1 : -Ry-Z-Ry-@-\n",
      "                \n",
      "T  : |0 |1|2 |3|\n",
      "\n"
     ]
    }
   ],
   "source": [
    "circuit = quasar.Circuit().Ry(0,theta=0.1).Ry(1, theta=-0.2).CZ(0,1).Ry(1, theta=+0.2).CX(1,0)\n",
    "print(circuit)"
   ]
  },
  {
   "cell_type": "code",
   "execution_count": 5,
   "metadata": {
    "execution": {
     "iopub.execute_input": "2021-07-19T05:18:24.470704Z",
     "iopub.status.busy": "2021-07-19T05:18:24.470071Z",
     "iopub.status.idle": "2021-07-19T05:18:24.473822Z",
     "shell.execute_reply": "2021-07-19T05:18:24.473171Z"
    }
   },
   "outputs": [
    {
     "name": "stdout",
     "output_type": "stream",
     "text": [
      "+1.0*I\n",
      "+1.0*Z0\n",
      "+3.0*Z0*Z1\n",
      "+2.0*Z1\n"
     ]
    }
   ],
   "source": [
    "I, X, Y, Z = quasar.Pauli.IXYZ()\n",
    "pauli = I[-1] + Z[0] + 2.0 * Z[1] + 3.0 * Z[0] * Z[1]\n",
    "print(pauli)"
   ]
  },
  {
   "cell_type": "markdown",
   "metadata": {},
   "source": [
    "## Derivatives"
   ]
  },
  {
   "cell_type": "code",
   "execution_count": 6,
   "metadata": {
    "execution": {
     "iopub.execute_input": "2021-07-19T05:18:24.482821Z",
     "iopub.status.busy": "2021-07-19T05:18:24.481809Z",
     "iopub.status.idle": "2021-07-19T05:18:24.957726Z",
     "shell.execute_reply": "2021-07-19T05:18:24.957182Z"
    }
   },
   "outputs": [
    {
     "name": "stdout",
     "output_type": "stream",
     "text": [
      "6.917243474764716\n"
     ]
    }
   ],
   "source": [
    "value = backend.run_pauli_expectation_value(\n",
    "    circuit=circuit, pauli=pauli, nmeasurement=nmeasurement)\n",
    "print(value)"
   ]
  },
  {
   "cell_type": "code",
   "execution_count": 7,
   "metadata": {
    "execution": {
     "iopub.execute_input": "2021-07-19T05:18:24.966133Z",
     "iopub.status.busy": "2021-07-19T05:18:24.965488Z",
     "iopub.status.idle": "2021-07-19T05:18:25.236904Z",
     "shell.execute_reply": "2021-07-19T05:18:25.236015Z"
    }
   },
   "outputs": [
    {
     "name": "stdout",
     "output_type": "stream",
     "text": [
      "[-1.64960972+0.j  0.01429936+0.j -0.01429936+0.j]\n"
     ]
    }
   ],
   "source": [
    "gradient = backend.run_pauli_expectation_value_gradient(\n",
    "        circuit=circuit, pauli=pauli, nmeasurement=nmeasurement)\n",
    "print(gradient)"
   ]
  },
  {
   "cell_type": "code",
   "execution_count": 8,
   "metadata": {
    "execution": {
     "iopub.execute_input": "2021-07-19T05:18:25.254264Z",
     "iopub.status.busy": "2021-07-19T05:18:25.252306Z",
     "iopub.status.idle": "2021-07-19T05:18:25.543923Z",
     "shell.execute_reply": "2021-07-19T05:18:25.544537Z"
    }
   },
   "outputs": [
    {
     "name": "stdout",
     "output_type": "stream",
     "text": [
      "[ 0.01429936+0.j -0.01429936+0.j]\n"
     ]
    }
   ],
   "source": [
    "gradient = backend.run_pauli_expectation_value_gradient(\n",
    "        circuit=circuit, pauli=pauli, parameter_indices=[1,2], nmeasurement=nmeasurement)\n",
    "print(gradient)"
   ]
  }
 ],
 "metadata": {
  "kernelspec": {
   "display_name": "Python 3 (ipykernel)",
   "language": "python",
   "name": "python3"
  },
  "language_info": {
   "codemirror_mode": {
    "name": "ipython",
    "version": 3
   },
   "file_extension": ".py",
   "mimetype": "text/x-python",
   "name": "python",
   "nbconvert_exporter": "python",
   "pygments_lexer": "ipython3",
   "version": "3.9.2"
  }
 },
 "nbformat": 4,
 "nbformat_minor": 4
}
