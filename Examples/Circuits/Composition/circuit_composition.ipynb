{
 "cells": [
  {
   "cell_type": "markdown",
   "metadata": {},
   "source": [
    "# Circuit Composition\n",
    "We provide some utility functions to join, slice, and otherwise manipulate quantum circuits. The quick-reference guide is:\n",
    " * `copy` - make a copy of the circuit. Setting the params of the new circuit will not affect the params of the original circuit.\n",
    " * `join_in_qubits` - join a list of circuits in qubit space.\n",
    " * `join_in_time` - join a list of circuits in time.\n",
    " * `slice` - slice out a subset of times and/or qubits.\n",
    " * `reverse` - return a reversed-in-time version.\n",
    " * `adjoint` - return the adjoint of the circuit.\n",
    " * `sparse` - remove empty time and/or qubit moments.\n",
    " * `center` - translate the circuit to a new origin.\n",
    " * `add_gate` - an explicit method to add individual gates at specified qubits and times.\n",
    " * `add_gates` - add the gates another circuit into self, essentially a sequential version of `add_gate`.\n",
    " * `remove_gate` - remove a gate at a given qubits/times key.\n",
    " * `replace_gate` - replace a gate at a given qubits/times key."
   ]
  },
  {
   "cell_type": "markdown",
   "metadata": {},
   "source": [
    "## Slicing and Dicing"
   ]
  },
  {
   "cell_type": "code",
   "execution_count": 1,
   "metadata": {
    "execution": {
     "iopub.execute_input": "2021-11-21T05:08:59.026496Z",
     "iopub.status.busy": "2021-11-21T05:08:59.022692Z",
     "iopub.status.idle": "2021-11-21T05:08:59.610522Z",
     "shell.execute_reply": "2021-11-21T05:08:59.609726Z"
    }
   },
   "outputs": [],
   "source": [
    "from qcware import forge\n",
    "# this line is for internal tracking; it is not necessary for use!\n",
    "forge.config.set_environment_source_file('circuit_composition.ipynb')\n",
    "import numpy as np\n",
    "import quasar"
   ]
  },
  {
   "cell_type": "markdown",
   "metadata": {},
   "source": [
    "Use `join_in_qubits` static method to join two or more circuits in qubit space:"
   ]
  },
  {
   "cell_type": "code",
   "execution_count": 2,
   "metadata": {
    "execution": {
     "iopub.execute_input": "2021-11-21T05:08:59.618494Z",
     "iopub.status.busy": "2021-11-21T05:08:59.617541Z",
     "iopub.status.idle": "2021-11-21T05:08:59.621687Z",
     "shell.execute_reply": "2021-11-21T05:08:59.622385Z"
    }
   },
   "outputs": [
    {
     "name": "stdout",
     "output_type": "stream",
     "text": [
      "T  : |0 |\n",
      "\n",
      "q0 : -Ry-\n",
      "         \n",
      "T  : |0 |\n",
      "\n"
     ]
    }
   ],
   "source": [
    "circuit_ry = quasar.Circuit()\n",
    "circuit_ry.Ry(0)\n",
    "print(circuit_ry)"
   ]
  },
  {
   "cell_type": "code",
   "execution_count": 3,
   "metadata": {
    "execution": {
     "iopub.execute_input": "2021-11-21T05:08:59.630688Z",
     "iopub.status.busy": "2021-11-21T05:08:59.629522Z",
     "iopub.status.idle": "2021-11-21T05:08:59.633781Z",
     "shell.execute_reply": "2021-11-21T05:08:59.634623Z"
    }
   },
   "outputs": [
    {
     "name": "stdout",
     "output_type": "stream",
     "text": [
      "T  : |0 |\n",
      "\n",
      "q0 : -Ry-\n",
      "         \n",
      "q1 : -Ry-\n",
      "         \n",
      "T  : |0 |\n",
      "\n"
     ]
    }
   ],
   "source": [
    "circuit_ry2 = quasar.Circuit.join_in_qubits([circuit_ry]*2)\n",
    "print(circuit_ry2)"
   ]
  },
  {
   "cell_type": "markdown",
   "metadata": {},
   "source": [
    "Use the `join_in_time` static method to join two or more circuits in time:"
   ]
  },
  {
   "cell_type": "code",
   "execution_count": 4,
   "metadata": {
    "execution": {
     "iopub.execute_input": "2021-11-21T05:08:59.643808Z",
     "iopub.status.busy": "2021-11-21T05:08:59.642778Z",
     "iopub.status.idle": "2021-11-21T05:08:59.646202Z",
     "shell.execute_reply": "2021-11-21T05:08:59.646751Z"
    }
   },
   "outputs": [
    {
     "name": "stdout",
     "output_type": "stream",
     "text": [
      "T  : |0|\n",
      "\n",
      "q0 : -@-\n",
      "      | \n",
      "q1 : -X-\n",
      "        \n",
      "T  : |0|\n",
      "\n"
     ]
    }
   ],
   "source": [
    "circuit_cx = quasar.Circuit()\n",
    "circuit_cx.CX(0,1)\n",
    "print(circuit_cx)"
   ]
  },
  {
   "cell_type": "code",
   "execution_count": 5,
   "metadata": {
    "execution": {
     "iopub.execute_input": "2021-11-21T05:08:59.654799Z",
     "iopub.status.busy": "2021-11-21T05:08:59.654033Z",
     "iopub.status.idle": "2021-11-21T05:08:59.657385Z",
     "shell.execute_reply": "2021-11-21T05:08:59.657944Z"
    }
   },
   "outputs": [
    {
     "name": "stdout",
     "output_type": "stream",
     "text": [
      "T  : |0 |1|2 |3|4 |\n",
      "\n",
      "q0 : -Ry-@-Ry-@-Ry-\n",
      "         |    |    \n",
      "q1 : -Ry-X-Ry-X-Ry-\n",
      "                   \n",
      "T  : |0 |1|2 |3|4 |\n",
      "\n"
     ]
    }
   ],
   "source": [
    "circuit = quasar.Circuit.join_in_time([circuit_ry2, circuit_cx]*2 + [circuit_ry2])\n",
    "print(circuit)"
   ]
  },
  {
   "cell_type": "markdown",
   "metadata": {},
   "source": [
    "Use the `slice` method to extract a slice of a subset of time values by supplying the `times` argument:"
   ]
  },
  {
   "cell_type": "code",
   "execution_count": 6,
   "metadata": {
    "execution": {
     "iopub.execute_input": "2021-11-21T05:08:59.666159Z",
     "iopub.status.busy": "2021-11-21T05:08:59.665231Z",
     "iopub.status.idle": "2021-11-21T05:08:59.668585Z",
     "shell.execute_reply": "2021-11-21T05:08:59.669094Z"
    }
   },
   "outputs": [
    {
     "name": "stdout",
     "output_type": "stream",
     "text": [
      "T  : |0 |1|2 |\n",
      "\n",
      "q0 : -Ry-@-Ry-\n",
      "         |    \n",
      "q1 : -Ry-X-Ry-\n",
      "              \n",
      "T  : |0 |1|2 |\n",
      "\n"
     ]
    }
   ],
   "source": [
    "print(circuit.slice(times=[0,1,2]))"
   ]
  },
  {
   "cell_type": "markdown",
   "metadata": {},
   "source": [
    "Use the `slice` method to extract a subset of qubit indices by supplying the `qubits` argument:"
   ]
  },
  {
   "cell_type": "code",
   "execution_count": 7,
   "metadata": {
    "execution": {
     "iopub.execute_input": "2021-11-21T05:08:59.677034Z",
     "iopub.status.busy": "2021-11-21T05:08:59.675855Z",
     "iopub.status.idle": "2021-11-21T05:08:59.679702Z",
     "shell.execute_reply": "2021-11-21T05:08:59.680219Z"
    }
   },
   "outputs": [
    {
     "name": "stdout",
     "output_type": "stream",
     "text": [
      "T  : |0 |1|2 |3|4 |\n",
      "\n",
      "q0 : -Ry---Ry---Ry-\n",
      "                   \n",
      "T  : |0 |1|2 |3|4 |\n",
      "\n"
     ]
    }
   ],
   "source": [
    "print(circuit.slice(qubits=[1]))"
   ]
  },
  {
   "cell_type": "markdown",
   "metadata": {},
   "source": [
    "Use the `sparse` method to remove empty time and/or qubit indices:"
   ]
  },
  {
   "cell_type": "code",
   "execution_count": 8,
   "metadata": {
    "execution": {
     "iopub.execute_input": "2021-11-21T05:08:59.688038Z",
     "iopub.status.busy": "2021-11-21T05:08:59.687155Z",
     "iopub.status.idle": "2021-11-21T05:08:59.691308Z",
     "shell.execute_reply": "2021-11-21T05:08:59.690645Z"
    }
   },
   "outputs": [
    {
     "name": "stdout",
     "output_type": "stream",
     "text": [
      "T  : |0 |1 |2 |\n",
      "\n",
      "q0 : -Ry-Ry-Ry-\n",
      "               \n",
      "T  : |0 |1 |2 |\n",
      "\n"
     ]
    }
   ],
   "source": [
    "print(circuit.slice(qubits=[1]).sparse())"
   ]
  },
  {
   "cell_type": "markdown",
   "metadata": {},
   "source": [
    "Use the `reverse` method to obtain the time-reversed ordering of the circuit (gate time order reversed, but no gate adjoints taken):"
   ]
  },
  {
   "cell_type": "code",
   "execution_count": 9,
   "metadata": {
    "execution": {
     "iopub.execute_input": "2021-11-21T05:08:59.698430Z",
     "iopub.status.busy": "2021-11-21T05:08:59.697564Z",
     "iopub.status.idle": "2021-11-21T05:08:59.702748Z",
     "shell.execute_reply": "2021-11-21T05:08:59.703779Z"
    }
   },
   "outputs": [
    {
     "name": "stdout",
     "output_type": "stream",
     "text": [
      "T  : |0 |1|2 |3|4 |\n",
      "\n",
      "q0 : -Ry-@-Ry-@-Ry-\n",
      "         |    |    \n",
      "q1 : -Ry-X-Ry-X-Ry-\n",
      "                   \n",
      "T  : |0 |1|2 |3|4 |\n",
      "\n"
     ]
    }
   ],
   "source": [
    "print(circuit.reverse())"
   ]
  },
  {
   "cell_type": "markdown",
   "metadata": {},
   "source": [
    "Use the `adjoint` method to obtain the adjoint of the circuit (gate time order reversed and gate adjoints taken):"
   ]
  },
  {
   "cell_type": "code",
   "execution_count": 10,
   "metadata": {
    "execution": {
     "iopub.execute_input": "2021-11-21T05:08:59.711937Z",
     "iopub.status.busy": "2021-11-21T05:08:59.708213Z",
     "iopub.status.idle": "2021-11-21T05:08:59.715940Z",
     "shell.execute_reply": "2021-11-21T05:08:59.716470Z"
    }
   },
   "outputs": [
    {
     "name": "stdout",
     "output_type": "stream",
     "text": [
      "T  : |0 |1|2 |3|4 |\n",
      "\n",
      "q0 : -Ry-@-Ry-@-Ry-\n",
      "         |    |    \n",
      "q1 : -Ry-X-Ry-X-Ry-\n",
      "                   \n",
      "T  : |0 |1|2 |3|4 |\n",
      "\n"
     ]
    }
   ],
   "source": [
    "print(circuit.adjoint())"
   ]
  },
  {
   "cell_type": "markdown",
   "metadata": {},
   "source": [
    "## Slice: Another Look"
   ]
  },
  {
   "cell_type": "markdown",
   "metadata": {},
   "source": [
    "The `slice` method is actually rather powerful due to the use of optional arguments for `qubits` and `times` (source keys in the circuit being sliced) and `qubits_to` and `times_to` (target keys in the circuit being constructed by the slice). We will examine these rules on the following example circuit:"
   ]
  },
  {
   "cell_type": "code",
   "execution_count": 11,
   "metadata": {
    "execution": {
     "iopub.execute_input": "2021-11-21T05:08:59.726993Z",
     "iopub.status.busy": "2021-11-21T05:08:59.725464Z",
     "iopub.status.idle": "2021-11-21T05:08:59.730603Z",
     "shell.execute_reply": "2021-11-21T05:08:59.731575Z"
    }
   },
   "outputs": [
    {
     "name": "stdout",
     "output_type": "stream",
     "text": [
      "T  : |0|1|2|3|\n",
      "\n",
      "q0 : -X-Y---Z-\n",
      "              \n",
      "q1 : -Y-Z---X-\n",
      "              \n",
      "q2 : ---------\n",
      "              \n",
      "q3 : -Z-X---Y-\n",
      "              \n",
      "T  : |0|1|2|3|\n",
      "\n"
     ]
    }
   ],
   "source": [
    "circuit = quasar.Circuit()\n",
    "circuit.X(0).Y(1).Z(3)\n",
    "circuit.Y(0).Z(1).X(3)\n",
    "circuit.Z(0, times=3).X(1, times=3).Y(3, times=3)\n",
    "print(circuit)"
   ]
  },
  {
   "cell_type": "markdown",
   "metadata": {},
   "source": [
    "By default, if either the `times` or `qubits` arguments is not specified, that dimension of the circuit is left untouched. If the `times` or `qubits` argument is specified but the corresponding `times_to` or `qubits_to` argument is not specified, the `_to` target indices are inferred to start at zero and increase sequentially. E.g., the following call to `slice` maps `qubits=[0, 1, 3]` to `qubits_to=[0, 1, 2]`, and leaves the time keys untouched:"
   ]
  },
  {
   "cell_type": "code",
   "execution_count": 12,
   "metadata": {
    "execution": {
     "iopub.execute_input": "2021-11-21T05:08:59.748067Z",
     "iopub.status.busy": "2021-11-21T05:08:59.747337Z",
     "iopub.status.idle": "2021-11-21T05:08:59.754929Z",
     "shell.execute_reply": "2021-11-21T05:08:59.754121Z"
    }
   },
   "outputs": [
    {
     "name": "stdout",
     "output_type": "stream",
     "text": [
      "T  : |0|1|2|3|\n",
      "\n",
      "q0 : -X-Y---Z-\n",
      "              \n",
      "q1 : -Y-Z---X-\n",
      "              \n",
      "q2 : -Z-X---Y-\n",
      "              \n",
      "T  : |0|1|2|3|\n",
      "\n"
     ]
    }
   ],
   "source": [
    "print(circuit.slice(qubits=[0, 1, 3]))"
   ]
  },
  {
   "cell_type": "markdown",
   "metadata": {},
   "source": [
    "Similarly, the following call to slice maps `times=[0, 1, 3]` to `times_to=[0, 1, 2]` and leaves the qubit keys untouched:"
   ]
  },
  {
   "cell_type": "code",
   "execution_count": 13,
   "metadata": {
    "execution": {
     "iopub.execute_input": "2021-11-21T05:08:59.762224Z",
     "iopub.status.busy": "2021-11-21T05:08:59.761413Z",
     "iopub.status.idle": "2021-11-21T05:08:59.764625Z",
     "shell.execute_reply": "2021-11-21T05:08:59.765165Z"
    }
   },
   "outputs": [
    {
     "name": "stdout",
     "output_type": "stream",
     "text": [
      "T  : |0|1|2|\n",
      "\n",
      "q0 : -X-Y-Z-\n",
      "            \n",
      "q1 : -Y-Z-X-\n",
      "            \n",
      "q2 : -------\n",
      "            \n",
      "q3 : -Z-X-Y-\n",
      "            \n",
      "T  : |0|1|2|\n",
      "\n"
     ]
    }
   ],
   "source": [
    "print(circuit.slice(times=[0, 1, 3]))"
   ]
  },
  {
   "cell_type": "markdown",
   "metadata": {},
   "source": [
    "Providing both source and target indices to `slice` allows for more explicit control, e.g., by reordering time and/or qubit keys while controlling empty spaces in the circuit:"
   ]
  },
  {
   "cell_type": "code",
   "execution_count": 14,
   "metadata": {
    "execution": {
     "iopub.execute_input": "2021-11-21T05:08:59.774919Z",
     "iopub.status.busy": "2021-11-21T05:08:59.773664Z",
     "iopub.status.idle": "2021-11-21T05:08:59.777797Z",
     "shell.execute_reply": "2021-11-21T05:08:59.778504Z"
    }
   },
   "outputs": [
    {
     "name": "stdout",
     "output_type": "stream",
     "text": [
      "T  : |0|1|2|3|\n",
      "\n",
      "q0 : -Z-X---Y-\n",
      "              \n",
      "q1 : -Y-Z---X-\n",
      "              \n",
      "q2 : ---------\n",
      "              \n",
      "q3 : -X-Y---Z-\n",
      "              \n",
      "T  : |0|1|2|3|\n",
      "\n"
     ]
    }
   ],
   "source": [
    "print(circuit.slice(qubits=[0, 1, 3], qubits_to=[3, 1, 0]))"
   ]
  },
  {
   "cell_type": "code",
   "execution_count": 15,
   "metadata": {
    "execution": {
     "iopub.execute_input": "2021-11-21T05:08:59.786186Z",
     "iopub.status.busy": "2021-11-21T05:08:59.785077Z",
     "iopub.status.idle": "2021-11-21T05:08:59.789295Z",
     "shell.execute_reply": "2021-11-21T05:08:59.790150Z"
    }
   },
   "outputs": [
    {
     "name": "stdout",
     "output_type": "stream",
     "text": [
      "T  : |0|1|2|3|4|5|\n",
      "\n",
      "q0 : -Z-Y-------X-\n",
      "                  \n",
      "q1 : -X-Z-------Y-\n",
      "                  \n",
      "q2 : -------------\n",
      "                  \n",
      "q3 : -Y-X-------Z-\n",
      "                  \n",
      "T  : |0|1|2|3|4|5|\n",
      "\n"
     ]
    }
   ],
   "source": [
    "print(circuit.slice(times=[0, 1, 3], times_to=[5, 1, 0]))"
   ]
  },
  {
   "cell_type": "markdown",
   "metadata": {},
   "source": [
    "In all cases, the qubits and times arguments can be freely mixed:"
   ]
  },
  {
   "cell_type": "code",
   "execution_count": 16,
   "metadata": {
    "execution": {
     "iopub.execute_input": "2021-11-21T05:08:59.801669Z",
     "iopub.status.busy": "2021-11-21T05:08:59.800431Z",
     "iopub.status.idle": "2021-11-21T05:08:59.805490Z",
     "shell.execute_reply": "2021-11-21T05:08:59.806118Z"
    }
   },
   "outputs": [
    {
     "name": "stdout",
     "output_type": "stream",
     "text": [
      "T   : |0|1|2|3|4|5|\n",
      "\n",
      "q-2 : -Z-Y-------X-\n",
      "                   \n",
      "q-1 : -X-Z-------Y-\n",
      "                   \n",
      "T   : |0|1|2|3|4|5|\n",
      "\n"
     ]
    }
   ],
   "source": [
    "print(circuit.slice(\n",
    "    qubits=[0, 1],\n",
    "    qubits_to=[-2, -1],\n",
    "    times=[0, 1, 3], \n",
    "    times_to=[5, 1, 0]))"
   ]
  },
  {
   "cell_type": "markdown",
   "metadata": {},
   "source": [
    "After extensive slicing, a call to `center` can be useful to reset the origin of the circuit:"
   ]
  },
  {
   "cell_type": "code",
   "execution_count": 17,
   "metadata": {
    "execution": {
     "iopub.execute_input": "2021-11-21T05:08:59.814148Z",
     "iopub.status.busy": "2021-11-21T05:08:59.813228Z",
     "iopub.status.idle": "2021-11-21T05:08:59.816764Z",
     "shell.execute_reply": "2021-11-21T05:08:59.817367Z"
    }
   },
   "outputs": [
    {
     "name": "stdout",
     "output_type": "stream",
     "text": [
      "T  : |0|1|2|3|4|5|\n",
      "\n",
      "q0 : -Z-Y-------X-\n",
      "                  \n",
      "q1 : -X-Z-------Y-\n",
      "                  \n",
      "T  : |0|1|2|3|4|5|\n",
      "\n"
     ]
    }
   ],
   "source": [
    "print(circuit.slice(\n",
    "    qubits=[0, 1],\n",
    "    qubits_to=[-2, -1],\n",
    "    times=[0, 1, 3], \n",
    "    times_to=[5, 1, 0]).center())"
   ]
  },
  {
   "cell_type": "markdown",
   "metadata": {},
   "source": [
    "## Fine-Grained Control: add_gate and add_gates"
   ]
  },
  {
   "cell_type": "markdown",
   "metadata": {},
   "source": [
    "Fine-grained control of circuit construction can be accomplished with the `add_gate` and `add_gates` methods, and corresponding functionality in gate construction helper methods like `H`, `CX`, and `Ry`. For instance:"
   ]
  },
  {
   "cell_type": "code",
   "execution_count": 18,
   "metadata": {
    "execution": {
     "iopub.execute_input": "2021-11-21T05:08:59.829812Z",
     "iopub.status.busy": "2021-11-21T05:08:59.825799Z",
     "iopub.status.idle": "2021-11-21T05:08:59.834176Z",
     "shell.execute_reply": "2021-11-21T05:08:59.833094Z"
    }
   },
   "outputs": [
    {
     "name": "stdout",
     "output_type": "stream",
     "text": [
      "T  : |0 |1|2 |3|4 |5|6 |7 |8|9 |10|11|12|13|14|\n",
      "\n",
      "q0 : -Ry-@----X-----------------------------H--\n",
      "         |    |                                \n",
      "q1 : -Ry-Z-Ry-@----@----X-------------------H--\n",
      "                   |    |                      \n",
      "q2 : -----------Ry-Z-Ry-@--@----X-----------H--\n",
      "                           |    |              \n",
      "q3 : -------------------Ry-Z-Ry-@--@-----X--H--\n",
      "                                   |     |     \n",
      "q4 : ---------------------------Ry-Z--Ry-@--H--\n",
      "                                               \n",
      "T  : |0 |1|2 |3|4 |5|6 |7 |8|9 |10|11|12|13|14|\n",
      "\n"
     ]
    }
   ],
   "source": [
    "gadget = quasar.Circuit().Ry(1).CZ(0,1).Ry(1).CX(1,0)\n",
    "circuit = quasar.Circuit()\n",
    "circuit.Ry(qubit=0, times=0)\n",
    "circuit.add_gates(gadget, (0,1), times=(0,1,2,3))\n",
    "circuit.add_gates(gadget, (1,2), time_start=4)\n",
    "circuit.add_gates(gadget, (2,3), time_placement='early')\n",
    "circuit.add_gates(gadget, (3,4))\n",
    "circuit.H(0, time_placement='next')\n",
    "circuit.H(1, time_placement='late')\n",
    "circuit.H(2, time_placement='late')\n",
    "circuit.H(3, time_placement='late')\n",
    "circuit.H(4, time_placement='late')\n",
    "print(circuit)"
   ]
  },
  {
   "cell_type": "markdown",
   "metadata": {},
   "source": [
    "This example deserves a moment of study. First, note that all of the `Circuit` helper methods to add individual gates, such as `H`, `CX`, and `Ry` actually call the `add_gate` method, and pass along any keyword arguments. Therefore, these methods all act like the one-gate equivalent of `add_circuit`. Next, both `add_gate` and `add_circuit` always require the user to provide the `qubits` argument (either an `int` qubit index for a one-qubit gate or a `tuple` of `int` for one-or-more-qubit gates). For the helper methods such as `H`, `CX`, and `Ry`, an explicit list of qubit indices corresponding to, e.g., control (`qubitA`) and target (`qubitB`) qubits is used. For the time axis, the `add_gate` and `add_circuit` methods default to using the `'early'` `time_placement` argument, which adds the new gate or circuit at the right end of the circuit, and then slides the new gate or circuit as far to the left as possible. Optionally, the user can manually specify the `time_placement` argument as being `'early'`, `'late'`, or `'next'`. The `'late'` option tries to start adding the new gate or circuit in the last time moment present in the current circuit, but pushes the entry back to a new time moment if a conflict arises. The `'next'` option always opens a new time moment and starts entry from that point. The `time_placement` argument is trumped by the explicit `time` argument (an `int`), which always starts the entry of the new gate or circuit at the specfied `time_start`, and proceeds contiguously, with an error thrown if conflicts are found. For the `add_circuit` method, the `time_start` argument is trumped by the explicit `times` argument (a sequence of `int`) that explicitly specifies the logical mapping of added circuit time moments to the absolute time moments of `self`."
   ]
  },
  {
   "cell_type": "markdown",
   "metadata": {},
   "source": [
    "## Gate Addition Keys"
   ]
  },
  {
   "cell_type": "markdown",
   "metadata": {},
   "source": [
    "When using automatic time placement features like the `time_placement` argument in `add_gate`, the user might want to keep track of where the gate was actually placed. To this end, we provide the `return_key` optional argument of `add_gate` which, when set to `True` changes the return type of `add_gate` to the qubit and time keys of the call to `add_gate` instead of the usual `self` for chaining. The `return_key` optional argument falls through all gate addition sugar methods: "
   ]
  },
  {
   "cell_type": "code",
   "execution_count": 19,
   "metadata": {
    "execution": {
     "iopub.execute_input": "2021-11-21T05:08:59.841781Z",
     "iopub.status.busy": "2021-11-21T05:08:59.841097Z",
     "iopub.status.idle": "2021-11-21T05:08:59.845408Z",
     "shell.execute_reply": "2021-11-21T05:08:59.844824Z"
    }
   },
   "outputs": [
    {
     "name": "stdout",
     "output_type": "stream",
     "text": [
      "T  : |0|1|2 |\n",
      "\n",
      "q0 : -H-@----\n",
      "        |    \n",
      "q1 : -Y-X-Ry-\n",
      "             \n",
      "T  : |0|1|2 |\n",
      "\n",
      "(2,) (1,)\n"
     ]
    }
   ],
   "source": [
    "circuit2 = quasar.Circuit().H(0).Y(1).CX(0,1)\n",
    "times, qubits = circuit2.Ry(1, theta=0.1, return_key=True)\n",
    "print(circuit2)\n",
    "print(times, qubits)"
   ]
  },
  {
   "cell_type": "markdown",
   "metadata": {},
   "source": [
    "E.g., the last `Ry` gate above was added at qubit index `1` and time index `2`. "
   ]
  },
  {
   "cell_type": "markdown",
   "metadata": {},
   "source": [
    "## Gate Removal and Replacement"
   ]
  },
  {
   "cell_type": "markdown",
   "metadata": {},
   "source": [
    "Gates can be removed from the circuit by calling the `remove_gate` method:"
   ]
  },
  {
   "cell_type": "code",
   "execution_count": 20,
   "metadata": {
    "execution": {
     "iopub.execute_input": "2021-11-21T05:08:59.852583Z",
     "iopub.status.busy": "2021-11-21T05:08:59.851604Z",
     "iopub.status.idle": "2021-11-21T05:08:59.855000Z",
     "shell.execute_reply": "2021-11-21T05:08:59.855528Z"
    }
   },
   "outputs": [
    {
     "name": "stdout",
     "output_type": "stream",
     "text": [
      "T  : |0 |1|2 |3|4 |5|6 |7 |8|9 |10|11|12|13|14|\n",
      "\n",
      "q0 : -Ry-@----X-----------------------------H--\n",
      "         |    |                                \n",
      "q1 : -Ry-Z-Ry-@----@----X-------------------H--\n",
      "                   |    |                      \n",
      "q2 : -----------Ry-Z-Ry-@--@----X-----------H--\n",
      "                           |    |              \n",
      "q3 : -------------------Ry-Z-Ry-@--@--------H--\n",
      "                                   |           \n",
      "q4 : ---------------------------Ry-Z--Ry----H--\n",
      "                                               \n",
      "T  : |0 |1|2 |3|4 |5|6 |7 |8|9 |10|11|12|13|14|\n",
      "\n"
     ]
    }
   ],
   "source": [
    "circuit.remove_gate(qubits=(4,3), times=(13,))\n",
    "print(circuit)"
   ]
  },
  {
   "cell_type": "markdown",
   "metadata": {},
   "source": [
    "Note that while we guarantee the validity of `remove_gate`, we have made zero effort to make this operation efficient - there is a roughly O(`ngate`) overhead to rebuild the `Circuit` indexing arrays in each call to `remove_gate`. If, instead, your use case is to replace one gate with another, you can use the much more efficient `replace_gate` method: "
   ]
  },
  {
   "cell_type": "code",
   "execution_count": 21,
   "metadata": {
    "execution": {
     "iopub.execute_input": "2021-11-21T05:08:59.862608Z",
     "iopub.status.busy": "2021-11-21T05:08:59.861866Z",
     "iopub.status.idle": "2021-11-21T05:08:59.864886Z",
     "shell.execute_reply": "2021-11-21T05:08:59.865380Z"
    }
   },
   "outputs": [
    {
     "name": "stdout",
     "output_type": "stream",
     "text": [
      "T  : |0 |1|2 |3|4 |5|6 |7 |8|9 |10|11|12|13|14|\n",
      "\n",
      "q0 : -Ry-@----X-----------------------------H--\n",
      "         |    |                                \n",
      "q1 : -Ry-Z-Ry-@----@----X-------------------H--\n",
      "                   |    |                      \n",
      "q2 : -----------Ry-Z-Ry-@--@----X-----------H--\n",
      "                           |    |              \n",
      "q3 : -------------------Ry-Z-Ry-@--@--------H--\n",
      "                                   |           \n",
      "q4 : ---------------------------Ry-Y--Ry----H--\n",
      "                                               \n",
      "T  : |0 |1|2 |3|4 |5|6 |7 |8|9 |10|11|12|13|14|\n",
      "\n"
     ]
    }
   ],
   "source": [
    "circuit.replace_gate(gate=quasar.Gate.CY, qubits=(3,4), times=(11,))\n",
    "print(circuit)"
   ]
  }
 ],
 "metadata": {
  "kernelspec": {
   "display_name": "Python 3",
   "language": "python",
   "name": "python3"
  },
  "language_info": {
   "codemirror_mode": {
    "name": "ipython",
    "version": 3
   },
   "file_extension": ".py",
   "mimetype": "text/x-python",
   "name": "python",
   "nbconvert_exporter": "python",
   "pygments_lexer": "ipython3",
   "version": "3.9.2"
  }
 },
 "nbformat": 4,
 "nbformat_minor": 4
}
