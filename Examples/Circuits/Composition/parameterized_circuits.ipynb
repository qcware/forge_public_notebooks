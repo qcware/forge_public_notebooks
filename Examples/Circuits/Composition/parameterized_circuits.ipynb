{
 "cells": [
  {
   "cell_type": "markdown",
   "metadata": {},
   "source": [
    "# Circuit Parameter Manipulation"
   ]
  },
  {
   "cell_type": "markdown",
   "metadata": {},
   "source": [
    "This tutorial covers the common use case of constructing a circuit with continuously variable parameters (today only in `Rx`, `Ry`, or `Rz` gates), evaluating the expectation value of a Hermitian operator supplied in sparse Pauli form using ideal statevector simulation, and then taking the gradient of the expectation value with respect to the values of the circuit rotation angle parameters. Such exercises are ubiquitous in variational quantum algorithms such as QAOA and VQE, e.g., in gradient-based algorithms to optimize the variational quantum circuit parameters. We have provided some utility functions to make these exercises easy to implement and rather fast to run (particularly when ideal statevector simulation in the infinite statistical sampling limit is invoked)."
   ]
  },
  {
   "cell_type": "code",
   "execution_count": 1,
   "metadata": {
    "execution": {
     "iopub.execute_input": "2021-11-03T05:06:52.297842Z",
     "iopub.status.busy": "2021-11-03T05:06:52.296939Z",
     "iopub.status.idle": "2021-11-03T05:06:53.022950Z",
     "shell.execute_reply": "2021-11-03T05:06:53.022086Z"
    }
   },
   "outputs": [],
   "source": [
    "from qcware import forge\n",
    "# this line is for internal tracking; it is not necessary for use!\n",
    "forge.config.set_environment_source_file('parameterized_circuits.ipynb')\n",
    "\n",
    "import quasar\n",
    "import time # We'll roughly time some quasar operations below"
   ]
  },
  {
   "cell_type": "markdown",
   "metadata": {},
   "source": [
    "## Case-Study Circuit"
   ]
  },
  {
   "cell_type": "markdown",
   "metadata": {},
   "source": [
    "First, let's build a CIS state preparation circuit. We start by building a gadget to move amplitude from one singly-excited ket to another:"
   ]
  },
  {
   "cell_type": "code",
   "execution_count": 2,
   "metadata": {
    "execution": {
     "iopub.execute_input": "2021-11-03T05:06:53.030922Z",
     "iopub.status.busy": "2021-11-03T05:06:53.029781Z",
     "iopub.status.idle": "2021-11-03T05:06:53.035446Z",
     "shell.execute_reply": "2021-11-03T05:06:53.034831Z"
    }
   },
   "outputs": [
    {
     "name": "stdout",
     "output_type": "stream",
     "text": [
      "T  : |0 |1|2 |3|\n",
      "\n",
      "q0 : ----@----X-\n",
      "         |    | \n",
      "q1 : -Ry-Z-Ry-@-\n",
      "                \n",
      "T  : |0 |1|2 |3|\n",
      "\n"
     ]
    }
   ],
   "source": [
    "gadget = quasar.Circuit().Ry(1).CZ(0,1).Ry(1).CX(1,0)\n",
    "print(gadget)"
   ]
  },
  {
   "cell_type": "markdown",
   "metadata": {},
   "source": [
    "Then use the ``add_gates`` utility function to quickly build up the full CIS state preparation circuit:"
   ]
  },
  {
   "cell_type": "code",
   "execution_count": 3,
   "metadata": {
    "execution": {
     "iopub.execute_input": "2021-11-03T05:06:53.054214Z",
     "iopub.status.busy": "2021-11-03T05:06:53.044689Z",
     "iopub.status.idle": "2021-11-03T05:06:53.061782Z",
     "shell.execute_reply": "2021-11-03T05:06:53.060533Z"
    }
   },
   "outputs": [
    {
     "name": "stdout",
     "output_type": "stream",
     "text": [
      "T   : |0 |1|2 |3 |4|5 |6 |7|8 |9 |10|11|12|13|14|15|16|17|18|19|20|21|22|23|24|\n",
      "\n",
      "q0  : -X--@----X---------------------------------------------------------------\n",
      "          |    |                                                               \n",
      "q1  : -Ry-Z-Ry-@--@----X-------------------------------------------------------\n",
      "                  |    |                                                       \n",
      "q2  : ---------Ry-Z-Ry-@--@----X-----------------------------------------------\n",
      "                          |    |                                               \n",
      "q3  : -----------------Ry-Z-Ry-@--@-----X--------------------------------------\n",
      "                                  |     |                                      \n",
      "q4  : -------------------------Ry-Z--Ry-@--@-----X-----------------------------\n",
      "                                           |     |                             \n",
      "q5  : ----------------------------------Ry-Z--Ry-@--@-----X--------------------\n",
      "                                                    |     |                    \n",
      "q6  : -------------------------------------------Ry-Z--Ry-@--@-----X-----------\n",
      "                                                             |     |           \n",
      "q7  : ----------------------------------------------------Ry-Z--Ry-@--@-----X--\n",
      "                                                                      |     |  \n",
      "q8  : -------------------------------------------------------------Ry-Z--Ry-@--\n",
      "                                                                               \n",
      "q9  : ----------------------------------------------------------------------Ry-\n",
      "                                                                               \n",
      "q10 : -------------------------------------------------------------------------\n",
      "                                                                               \n",
      "T   : |0 |1|2 |3 |4|5 |6 |7|8 |9 |10|11|12|13|14|15|16|17|18|19|20|21|22|23|24|\n",
      "\n",
      "T   :  25|26|27|28|29|30|\n",
      "\n",
      "q0  :  ------------------\n",
      "                         \n",
      "q1  :  ------------------\n",
      "                         \n",
      "q2  :  ------------------\n",
      "                         \n",
      "q3  :  ------------------\n",
      "                         \n",
      "q4  :  ------------------\n",
      "                         \n",
      "q5  :  ------------------\n",
      "                         \n",
      "q6  :  ------------------\n",
      "                         \n",
      "q7  :  ------------------\n",
      "                         \n",
      "q8  :  @-----X-----------\n",
      "       |     |           \n",
      "q9  :  Z--Ry-@--@-----X--\n",
      "                |     |  \n",
      "q10 :  ------Ry-Z--Ry-@--\n",
      "                         \n",
      "T   :  25|26|27|28|29|30|\n",
      "\n"
     ]
    }
   ],
   "source": [
    "N = 10 # Increase this to get some more dramatic timing examples below\n",
    "circuit = quasar.Circuit().X(0)\n",
    "for I in range(N):\n",
    "    circuit.add_gates(circuit=gadget, qubits=(I, I+1))\n",
    "print(circuit)"
   ]
  },
  {
   "cell_type": "markdown",
   "metadata": {},
   "source": [
    "## Parameter Manipulation"
   ]
  },
  {
   "cell_type": "markdown",
   "metadata": {},
   "source": [
    "Cool circuit, bro. So where are all the parameters, how do we figure out what they are, and how do we set their values? To get started with this, let's invoke the `parameter_str` utility property of `Circuit`:"
   ]
  },
  {
   "cell_type": "code",
   "execution_count": 4,
   "metadata": {
    "execution": {
     "iopub.execute_input": "2021-11-03T05:06:53.068560Z",
     "iopub.status.busy": "2021-11-03T05:06:53.067648Z",
     "iopub.status.idle": "2021-11-03T05:06:53.074738Z",
     "shell.execute_reply": "2021-11-03T05:06:53.073378Z"
    }
   },
   "outputs": [
    {
     "name": "stdout",
     "output_type": "stream",
     "text": [
      "Index Time       Qubits     Name       Gate      :     Value\n",
      "0     (0,)       (1,)       theta      Ry        :  0.000000\n",
      "1     (2,)       (1,)       theta      Ry        :  0.000000\n",
      "2     (3,)       (2,)       theta      Ry        :  0.000000\n",
      "3     (5,)       (2,)       theta      Ry        :  0.000000\n",
      "4     (6,)       (3,)       theta      Ry        :  0.000000\n",
      "5     (8,)       (3,)       theta      Ry        :  0.000000\n",
      "6     (9,)       (4,)       theta      Ry        :  0.000000\n",
      "7     (11,)      (4,)       theta      Ry        :  0.000000\n",
      "8     (12,)      (5,)       theta      Ry        :  0.000000\n",
      "9     (14,)      (5,)       theta      Ry        :  0.000000\n",
      "10    (15,)      (6,)       theta      Ry        :  0.000000\n",
      "11    (17,)      (6,)       theta      Ry        :  0.000000\n",
      "12    (18,)      (7,)       theta      Ry        :  0.000000\n",
      "13    (20,)      (7,)       theta      Ry        :  0.000000\n",
      "14    (21,)      (8,)       theta      Ry        :  0.000000\n",
      "15    (23,)      (8,)       theta      Ry        :  0.000000\n",
      "16    (24,)      (9,)       theta      Ry        :  0.000000\n",
      "17    (26,)      (9,)       theta      Ry        :  0.000000\n",
      "18    (27,)      (10,)      theta      Ry        :  0.000000\n",
      "19    (29,)      (10,)      theta      Ry        :  0.000000\n",
      "\n"
     ]
    }
   ],
   "source": [
    "print(circuit.parameter_str)"
   ]
  },
  {
   "cell_type": "markdown",
   "metadata": {},
   "source": [
    "This provides a textual summary of all mutable parameters in `Circuit`, including a breakdown of the `times` and `qubits` key of the involved `Gate`, the name of that `Gate`, and the parameter name within that `Gate`, as well as the current value of the parameter. The parameters of a `Circuit` object have a strong lexical indexing order (referred to as the `parameter_index` order) determined first by the `times` and `qubits` key of the involved `Gate` (i.e., the underlying lexical `Gate` index order), followed by the definitional ordering of each parameter within the `Gate` (for multi-parameter `Gate` objects). For instance, the `10`-th `parameter_index` in our `Circuit` corresponds to the `theta` parameter of the `Ry` gates at `time` index `15` and `qubit` index `6` - its value is currently `0.0`."
   ]
  },
  {
   "cell_type": "markdown",
   "metadata": {},
   "source": [
    "Before we start setting parameters, let's look at some more attributes that help us to locate and characterize these parameters. The `nparameter` property tells how many total parameters are in the `Circuit` object:"
   ]
  },
  {
   "cell_type": "code",
   "execution_count": 5,
   "metadata": {
    "execution": {
     "iopub.execute_input": "2021-11-03T05:06:53.083221Z",
     "iopub.status.busy": "2021-11-03T05:06:53.081691Z",
     "iopub.status.idle": "2021-11-03T05:06:53.087885Z",
     "shell.execute_reply": "2021-11-03T05:06:53.089036Z"
    }
   },
   "outputs": [
    {
     "name": "stdout",
     "output_type": "stream",
     "text": [
      "20\n"
     ]
    }
   ],
   "source": [
    "print(circuit.nparameter)"
   ]
  },
  {
   "cell_type": "markdown",
   "metadata": {},
   "source": [
    "The `parameters` property is an `OrderedDict` of parameter (`times`, `qubits`, `parameter_key`) keys to parameter values. We'll print this out somewhat reasonably here: "
   ]
  },
  {
   "cell_type": "code",
   "execution_count": 6,
   "metadata": {
    "execution": {
     "iopub.execute_input": "2021-11-03T05:06:53.098414Z",
     "iopub.status.busy": "2021-11-03T05:06:53.097306Z",
     "iopub.status.idle": "2021-11-03T05:06:53.106398Z",
     "shell.execute_reply": "2021-11-03T05:06:53.105706Z"
    }
   },
   "outputs": [
    {
     "name": "stdout",
     "output_type": "stream",
     "text": [
      "      (0,)       (1,)    'theta': 0.000000\n",
      "      (2,)       (1,)    'theta': 0.000000\n",
      "      (3,)       (2,)    'theta': 0.000000\n",
      "      (5,)       (2,)    'theta': 0.000000\n",
      "      (6,)       (3,)    'theta': 0.000000\n",
      "      (8,)       (3,)    'theta': 0.000000\n",
      "      (9,)       (4,)    'theta': 0.000000\n",
      "     (11,)       (4,)    'theta': 0.000000\n",
      "     (12,)       (5,)    'theta': 0.000000\n",
      "     (14,)       (5,)    'theta': 0.000000\n",
      "     (15,)       (6,)    'theta': 0.000000\n",
      "     (17,)       (6,)    'theta': 0.000000\n",
      "     (18,)       (7,)    'theta': 0.000000\n",
      "     (20,)       (7,)    'theta': 0.000000\n",
      "     (21,)       (8,)    'theta': 0.000000\n",
      "     (23,)       (8,)    'theta': 0.000000\n",
      "     (24,)       (9,)    'theta': 0.000000\n",
      "     (26,)       (9,)    'theta': 0.000000\n",
      "     (27,)      (10,)    'theta': 0.000000\n",
      "     (29,)      (10,)    'theta': 0.000000\n"
     ]
    }
   ],
   "source": [
    "# print(circuit.parameters)\n",
    "for key, value in circuit.parameters.items():\n",
    "    times, qubits, parameter_key = key\n",
    "    print('%10r %10r %10r: %8.6f' % (times, qubits, parameter_key, value))"
   ]
  },
  {
   "cell_type": "markdown",
   "metadata": {},
   "source": [
    "If you don't want the whole `parameters` dictionary, you can also have either the `parameter_keys` or `parameter_values` in isolation:"
   ]
  },
  {
   "cell_type": "code",
   "execution_count": 7,
   "metadata": {
    "execution": {
     "iopub.execute_input": "2021-11-03T05:06:53.113103Z",
     "iopub.status.busy": "2021-11-03T05:06:53.112047Z",
     "iopub.status.idle": "2021-11-03T05:06:53.117767Z",
     "shell.execute_reply": "2021-11-03T05:06:53.116801Z"
    }
   },
   "outputs": [
    {
     "name": "stdout",
     "output_type": "stream",
     "text": [
      "[((0,), (1,), 'theta'), ((2,), (1,), 'theta'), ((3,), (2,), 'theta'), ((5,), (2,), 'theta'), ((6,), (3,), 'theta'), ((8,), (3,), 'theta'), ((9,), (4,), 'theta'), ((11,), (4,), 'theta'), ((12,), (5,), 'theta'), ((14,), (5,), 'theta'), ((15,), (6,), 'theta'), ((17,), (6,), 'theta'), ((18,), (7,), 'theta'), ((20,), (7,), 'theta'), ((21,), (8,), 'theta'), ((23,), (8,), 'theta'), ((24,), (9,), 'theta'), ((26,), (9,), 'theta'), ((27,), (10,), 'theta'), ((29,), (10,), 'theta')]\n",
      "[0.0, 0.0, 0.0, 0.0, 0.0, 0.0, 0.0, 0.0, 0.0, 0.0, 0.0, 0.0, 0.0, 0.0, 0.0, 0.0, 0.0, 0.0, 0.0, 0.0]\n"
     ]
    }
   ],
   "source": [
    "print(circuit.parameter_keys)\n",
    "print(circuit.parameter_values)"
   ]
  },
  {
   "cell_type": "markdown",
   "metadata": {},
   "source": [
    "In another common use case, you have the `times` and `qubits` key of a `Gate` object, and want to know what parameter indices it covers in the `Circuit` object. For this, the `parameter_indices` property is provided:"
   ]
  },
  {
   "cell_type": "code",
   "execution_count": 8,
   "metadata": {
    "execution": {
     "iopub.execute_input": "2021-11-03T05:06:53.127862Z",
     "iopub.status.busy": "2021-11-03T05:06:53.126626Z",
     "iopub.status.idle": "2021-11-03T05:06:53.138430Z",
     "shell.execute_reply": "2021-11-03T05:06:53.137643Z"
    }
   },
   "outputs": [
    {
     "name": "stdout",
     "output_type": "stream",
     "text": [
      "      (0,)       (0,): ()\n",
      "      (0,)       (1,): (0,)\n",
      "      (1,)     (0, 1): ()\n",
      "      (2,)       (1,): (1,)\n",
      "      (3,)     (1, 0): ()\n",
      "      (3,)       (2,): (2,)\n",
      "      (4,)     (1, 2): ()\n",
      "      (5,)       (2,): (3,)\n",
      "      (6,)     (2, 1): ()\n",
      "      (6,)       (3,): (4,)\n",
      "      (7,)     (2, 3): ()\n",
      "      (8,)       (3,): (5,)\n",
      "      (9,)     (3, 2): ()\n",
      "      (9,)       (4,): (6,)\n",
      "     (10,)     (3, 4): ()\n",
      "     (11,)       (4,): (7,)\n",
      "     (12,)     (4, 3): ()\n",
      "     (12,)       (5,): (8,)\n",
      "     (13,)     (4, 5): ()\n",
      "     (14,)       (5,): (9,)\n",
      "     (15,)     (5, 4): ()\n",
      "     (15,)       (6,): (10,)\n",
      "     (16,)     (5, 6): ()\n",
      "     (17,)       (6,): (11,)\n",
      "     (18,)     (6, 5): ()\n",
      "     (18,)       (7,): (12,)\n",
      "     (19,)     (6, 7): ()\n",
      "     (20,)       (7,): (13,)\n",
      "     (21,)     (7, 6): ()\n",
      "     (21,)       (8,): (14,)\n",
      "     (22,)     (7, 8): ()\n",
      "     (23,)       (8,): (15,)\n",
      "     (24,)     (8, 7): ()\n",
      "     (24,)       (9,): (16,)\n",
      "     (25,)     (8, 9): ()\n",
      "     (26,)       (9,): (17,)\n",
      "     (27,)     (9, 8): ()\n",
      "     (27,)      (10,): (18,)\n",
      "     (28,)    (9, 10): ()\n",
      "     (29,)      (10,): (19,)\n",
      "     (30,)    (10, 9): ()\n"
     ]
    }
   ],
   "source": [
    "# print(circuit.parameter_indices)\n",
    "for key, parameter_indices in circuit.parameter_indices.items():\n",
    "    times, qubits = key\n",
    "    print('%10r %10r: %r' % (times, qubits, parameter_indices))"
   ]
  },
  {
   "cell_type": "markdown",
   "metadata": {},
   "source": [
    "Note how the `H`, `CX`, and `CZ` gates do not have any parameters, while the `Ry` gates have one each. The `parameter_indices` method can often be used in concert with automatic time placement in the `add_gate` method and the `return_key` optional argument to `add_gate` to determine where each `Gate` object is automatically added in time and from thence which lexical parameter indices correspond to that `Gate`. `return_key` falls through any gate addition sugar methods. For instance:"
   ]
  },
  {
   "cell_type": "code",
   "execution_count": 9,
   "metadata": {
    "execution": {
     "iopub.execute_input": "2021-11-03T05:06:53.148425Z",
     "iopub.status.busy": "2021-11-03T05:06:53.147463Z",
     "iopub.status.idle": "2021-11-03T05:06:53.152654Z",
     "shell.execute_reply": "2021-11-03T05:06:53.151926Z"
    }
   },
   "outputs": [
    {
     "name": "stdout",
     "output_type": "stream",
     "text": [
      "T  : |0 |1 |\n",
      "\n",
      "q0 : -Rx-Rz-\n",
      "            \n",
      "q1 : -Ry----\n",
      "            \n",
      "T  : |0 |1 |\n",
      "\n",
      "(1,) (0,)\n",
      "(2,)\n"
     ]
    }
   ],
   "source": [
    "circuit2 = quasar.Circuit().Rx(0).Ry(1)\n",
    "# Where is the following Rz gate added? \n",
    "# (Note that time placement is determined automatically)\n",
    "Rz_times, Rz_qubits = circuit2.Rz(0, return_key=True)\n",
    "print(circuit2)\n",
    "print(Rz_times, Rz_qubits)\n",
    "# Maybe add more gates here\n",
    "# ...\n",
    "# At this point, what parameter indices are represented by the Rz gate?\n",
    "print(circuit2.parameter_indices[(Rz_times, Rz_qubits)])"
   ]
  },
  {
   "cell_type": "markdown",
   "metadata": {},
   "source": [
    "Now to set the values of the parameters. You can set these one at a time with full knowledge of the parameter key via the `set_parameter` method:"
   ]
  },
  {
   "cell_type": "code",
   "execution_count": 10,
   "metadata": {
    "execution": {
     "iopub.execute_input": "2021-11-03T05:06:53.161193Z",
     "iopub.status.busy": "2021-11-03T05:06:53.158610Z",
     "iopub.status.idle": "2021-11-03T05:06:53.169511Z",
     "shell.execute_reply": "2021-11-03T05:06:53.168172Z"
    }
   },
   "outputs": [
    {
     "name": "stdout",
     "output_type": "stream",
     "text": [
      "Index Time       Qubits     Name       Gate      :     Value\n",
      "0     (0,)       (1,)       theta      Ry        :  0.000000\n",
      "1     (2,)       (1,)       theta      Ry        :  0.000000\n",
      "2     (3,)       (2,)       theta      Ry        :  0.000000\n",
      "3     (5,)       (2,)       theta      Ry        :  0.000000\n",
      "4     (6,)       (3,)       theta      Ry        :  0.000000\n",
      "5     (8,)       (3,)       theta      Ry        :  0.000000\n",
      "6     (9,)       (4,)       theta      Ry        :  0.000000\n",
      "7     (11,)      (4,)       theta      Ry        :  0.000000\n",
      "8     (12,)      (5,)       theta      Ry        :  0.000000\n",
      "9     (14,)      (5,)       theta      Ry        :  0.000000\n",
      "10    (15,)      (6,)       theta      Ry        :  0.000000\n",
      "11    (17,)      (6,)       theta      Ry        :  0.000000\n",
      "12    (18,)      (7,)       theta      Ry        :  0.000000\n",
      "13    (20,)      (7,)       theta      Ry        :  0.000000\n",
      "14    (21,)      (8,)       theta      Ry        :  0.000000\n",
      "15    (23,)      (8,)       theta      Ry        :  1.000000\n",
      "16    (24,)      (9,)       theta      Ry        :  0.000000\n",
      "17    (26,)      (9,)       theta      Ry        :  0.000000\n",
      "18    (27,)      (10,)      theta      Ry        :  0.000000\n",
      "19    (29,)      (10,)      theta      Ry        :  0.000000\n",
      "\n"
     ]
    }
   ],
   "source": [
    "circuit.set_parameter(((23,), (8,), 'theta'), 1.0)\n",
    "print(circuit.parameter_str)"
   ]
  },
  {
   "cell_type": "markdown",
   "metadata": {},
   "source": [
    "Or several at a time with the `set_parameters` method:"
   ]
  },
  {
   "cell_type": "code",
   "execution_count": 11,
   "metadata": {
    "execution": {
     "iopub.execute_input": "2021-11-03T05:06:53.179173Z",
     "iopub.status.busy": "2021-11-03T05:06:53.177980Z",
     "iopub.status.idle": "2021-11-03T05:06:53.184036Z",
     "shell.execute_reply": "2021-11-03T05:06:53.185634Z"
    }
   },
   "outputs": [
    {
     "name": "stdout",
     "output_type": "stream",
     "text": [
      "Index Time       Qubits     Name       Gate      :     Value\n",
      "0     (0,)       (1,)       theta      Ry        :  0.000000\n",
      "1     (2,)       (1,)       theta      Ry        :  0.000000\n",
      "2     (3,)       (2,)       theta      Ry        :  0.000000\n",
      "3     (5,)       (2,)       theta      Ry        :  0.000000\n",
      "4     (6,)       (3,)       theta      Ry        :  0.000000\n",
      "5     (8,)       (3,)       theta      Ry        :  0.000000\n",
      "6     (9,)       (4,)       theta      Ry        :  0.000000\n",
      "7     (11,)      (4,)       theta      Ry        :  0.000000\n",
      "8     (12,)      (5,)       theta      Ry        :  0.000000\n",
      "9     (14,)      (5,)       theta      Ry        :  0.000000\n",
      "10    (15,)      (6,)       theta      Ry        :  0.000000\n",
      "11    (17,)      (6,)       theta      Ry        :  0.000000\n",
      "12    (18,)      (7,)       theta      Ry        :  0.000000\n",
      "13    (20,)      (7,)       theta      Ry        :  0.200000\n",
      "14    (21,)      (8,)       theta      Ry        :  0.300000\n",
      "15    (23,)      (8,)       theta      Ry        :  1.000000\n",
      "16    (24,)      (9,)       theta      Ry        :  0.000000\n",
      "17    (26,)      (9,)       theta      Ry        :  0.000000\n",
      "18    (27,)      (10,)      theta      Ry        :  0.000000\n",
      "19    (29,)      (10,)      theta      Ry        :  0.000000\n",
      "\n"
     ]
    }
   ],
   "source": [
    "circuit.set_parameters({\n",
    "    ((20,), (7,), 'theta') : 0.2,\n",
    "    ((21,), (8,), 'theta') : 0.3,\n",
    "    })\n",
    "print(circuit.parameter_str)"
   ]
  },
  {
   "cell_type": "markdown",
   "metadata": {},
   "source": [
    "However, full knowledge of the parameter key is somewhat verbose, and is entirely equivalent to knowledge of the integer parameter index. To set parameters instead in terms of parameter index, we provide the `set_parameter_values` method, which takes a `parameter_values` list and an optional `parameter_indices` list (needed if only a subset and/or a number of non-sequential parameters are set):"
   ]
  },
  {
   "cell_type": "code",
   "execution_count": 12,
   "metadata": {
    "execution": {
     "iopub.execute_input": "2021-11-03T05:06:53.223175Z",
     "iopub.status.busy": "2021-11-03T05:06:53.196268Z",
     "iopub.status.idle": "2021-11-03T05:06:53.229331Z",
     "shell.execute_reply": "2021-11-03T05:06:53.228441Z"
    }
   },
   "outputs": [
    {
     "name": "stdout",
     "output_type": "stream",
     "text": [
      "Index Time       Qubits     Name       Gate      :     Value\n",
      "0     (0,)       (1,)       theta      Ry        :  0.000000\n",
      "1     (2,)       (1,)       theta      Ry        :  0.000000\n",
      "2     (3,)       (2,)       theta      Ry        :  0.500000\n",
      "3     (5,)       (2,)       theta      Ry        :  0.000000\n",
      "4     (6,)       (3,)       theta      Ry        :  0.400000\n",
      "5     (8,)       (3,)       theta      Ry        :  0.000000\n",
      "6     (9,)       (4,)       theta      Ry        :  0.000000\n",
      "7     (11,)      (4,)       theta      Ry        :  0.000000\n",
      "8     (12,)      (5,)       theta      Ry        :  0.000000\n",
      "9     (14,)      (5,)       theta      Ry        :  0.000000\n",
      "10    (15,)      (6,)       theta      Ry        :  0.000000\n",
      "11    (17,)      (6,)       theta      Ry        :  0.000000\n",
      "12    (18,)      (7,)       theta      Ry        :  0.000000\n",
      "13    (20,)      (7,)       theta      Ry        :  0.200000\n",
      "14    (21,)      (8,)       theta      Ry        :  0.300000\n",
      "15    (23,)      (8,)       theta      Ry        :  1.000000\n",
      "16    (24,)      (9,)       theta      Ry        :  0.000000\n",
      "17    (26,)      (9,)       theta      Ry        :  0.000000\n",
      "18    (27,)      (10,)      theta      Ry        :  0.000000\n",
      "19    (29,)      (10,)      theta      Ry        :  0.000000\n",
      "\n"
     ]
    }
   ],
   "source": [
    "circuit.set_parameter_values([0.4, 0.5], parameter_indices=[4,2])\n",
    "print(circuit.parameter_str)"
   ]
  },
  {
   "cell_type": "markdown",
   "metadata": {},
   "source": [
    "Here's a quick example of how things look a little different if `Gate` objects have multiple parameters:"
   ]
  },
  {
   "cell_type": "code",
   "execution_count": 13,
   "metadata": {
    "execution": {
     "iopub.execute_input": "2021-11-03T05:06:53.241442Z",
     "iopub.status.busy": "2021-11-03T05:06:53.240763Z",
     "iopub.status.idle": "2021-11-03T05:06:53.402294Z",
     "shell.execute_reply": "2021-11-03T05:06:53.400335Z"
    }
   },
   "outputs": [
    {
     "name": "stdout",
     "output_type": "stream",
     "text": [
      "T  : |0 |1   |\n",
      "\n",
      "q0 : -Ry-SO4A-\n",
      "         |    \n",
      "q1 : ----SO4B-\n",
      "              \n",
      "T  : |0 |1   |\n",
      "\n",
      "Index Time       Qubits     Name       Gate      :     Value\n",
      "0     (0,)       (0,)       theta      Ry        :  0.000000\n",
      "1     (1,)       (0, 1)     A          SO4       :  0.000000\n",
      "2     (1,)       (0, 1)     B          SO4       :  0.000000\n",
      "3     (1,)       (0, 1)     C          SO4       :  0.000000\n",
      "4     (1,)       (0, 1)     D          SO4       :  0.000000\n",
      "5     (1,)       (0, 1)     E          SO4       :  0.000000\n",
      "6     (1,)       (0, 1)     F          SO4       :  0.000000\n",
      "\n",
      "      (0,)       (0,): (0,)\n",
      "      (1,)     (0, 1): (1, 2, 3, 4, 5, 6)\n"
     ]
    }
   ],
   "source": [
    "circuit3 = quasar.Circuit().Ry(0).SO4(0,1)\n",
    "print(circuit3)\n",
    "print(circuit3.parameter_str)\n",
    "for key, parameter_indices in circuit3.parameter_indices.items():\n",
    "    times, qubits = key\n",
    "    print('%10r %10r: %r' % (times, qubits, parameter_indices))"
   ]
  },
  {
   "cell_type": "markdown",
   "metadata": {},
   "source": [
    "Now back to our case-study CIS circuit. We'll set the parameters to something deterministic but sensible before proceeding to the rest of the exercise:"
   ]
  },
  {
   "cell_type": "code",
   "execution_count": 14,
   "metadata": {
    "execution": {
     "iopub.execute_input": "2021-11-03T05:06:53.419109Z",
     "iopub.status.busy": "2021-11-03T05:06:53.416079Z",
     "iopub.status.idle": "2021-11-03T05:06:53.433299Z",
     "shell.execute_reply": "2021-11-03T05:06:53.444175Z"
    }
   },
   "outputs": [
    {
     "name": "stdout",
     "output_type": "stream",
     "text": [
      "Index Time       Qubits     Name       Gate      :     Value\n",
      "0     (0,)       (1,)       theta      Ry        :  1.000000\n",
      "1     (2,)       (1,)       theta      Ry        : -1.000000\n",
      "2     (3,)       (2,)       theta      Ry        :  0.941176\n",
      "3     (5,)       (2,)       theta      Ry        : -0.941176\n",
      "4     (6,)       (3,)       theta      Ry        :  0.882353\n",
      "5     (8,)       (3,)       theta      Ry        : -0.882353\n",
      "6     (9,)       (4,)       theta      Ry        :  0.823529\n",
      "7     (11,)      (4,)       theta      Ry        : -0.823529\n",
      "8     (12,)      (5,)       theta      Ry        :  0.764706\n",
      "9     (14,)      (5,)       theta      Ry        : -0.764706\n",
      "10    (15,)      (6,)       theta      Ry        :  0.705882\n",
      "11    (17,)      (6,)       theta      Ry        : -0.705882\n",
      "12    (18,)      (7,)       theta      Ry        :  0.647059\n",
      "13    (20,)      (7,)       theta      Ry        : -0.647059\n",
      "14    (21,)      (8,)       theta      Ry        :  0.588235\n",
      "15    (23,)      (8,)       theta      Ry        : -0.588235\n",
      "16    (24,)      (9,)       theta      Ry        :  0.529412\n",
      "17    (26,)      (9,)       theta      Ry        : -0.529412\n",
      "18    (27,)      (10,)      theta      Ry        :  0.470588\n",
      "19    (29,)      (10,)      theta      Ry        : -0.470588\n",
      "\n"
     ]
    }
   ],
   "source": [
    "parameter_values = []\n",
    "for I in range(N):\n",
    "    value = (1.0 - I / 17.0)\n",
    "    parameter_values.append(+value)\n",
    "    parameter_values.append(-value)\n",
    "circuit.set_parameter_values(parameter_values)\n",
    "print(circuit.parameter_str)"
   ]
  },
  {
   "cell_type": "markdown",
   "metadata": {},
   "source": [
    "## Pauli Expectation Values and Gradients"
   ]
  },
  {
   "cell_type": "markdown",
   "metadata": {},
   "source": [
    "Let us define $|\\Psi (\\{ \\theta_g \\}) \\rangle$ as the statevector generated by `circuit` at the current parameter values:"
   ]
  },
  {
   "cell_type": "code",
   "execution_count": 15,
   "metadata": {
    "execution": {
     "iopub.execute_input": "2021-11-03T05:06:53.466318Z",
     "iopub.status.busy": "2021-11-03T05:06:53.464865Z",
     "iopub.status.idle": "2021-11-03T05:06:53.476865Z",
     "shell.execute_reply": "2021-11-03T05:06:53.477623Z"
    }
   },
   "outputs": [
    {
     "name": "stdout",
     "output_type": "stream",
     "text": [
      "T   : |0 |1|2 |3 |4|5 |6 |7|8 |9 |10|11|12|13|14|15|16|17|18|19|20|21|22|23|24|\n",
      "\n",
      "q0  : -X--@----X---------------------------------------------------------------\n",
      "          |    |                                                               \n",
      "q1  : -Ry-Z-Ry-@--@----X-------------------------------------------------------\n",
      "                  |    |                                                       \n",
      "q2  : ---------Ry-Z-Ry-@--@----X-----------------------------------------------\n",
      "                          |    |                                               \n",
      "q3  : -----------------Ry-Z-Ry-@--@-----X--------------------------------------\n",
      "                                  |     |                                      \n",
      "q4  : -------------------------Ry-Z--Ry-@--@-----X-----------------------------\n",
      "                                           |     |                             \n",
      "q5  : ----------------------------------Ry-Z--Ry-@--@-----X--------------------\n",
      "                                                    |     |                    \n",
      "q6  : -------------------------------------------Ry-Z--Ry-@--@-----X-----------\n",
      "                                                             |     |           \n",
      "q7  : ----------------------------------------------------Ry-Z--Ry-@--@-----X--\n",
      "                                                                      |     |  \n",
      "q8  : -------------------------------------------------------------Ry-Z--Ry-@--\n",
      "                                                                               \n",
      "q9  : ----------------------------------------------------------------------Ry-\n",
      "                                                                               \n",
      "q10 : -------------------------------------------------------------------------\n",
      "                                                                               \n",
      "T   : |0 |1|2 |3 |4|5 |6 |7|8 |9 |10|11|12|13|14|15|16|17|18|19|20|21|22|23|24|\n",
      "\n",
      "T   :  25|26|27|28|29|30|\n",
      "\n",
      "q0  :  ------------------\n",
      "                         \n",
      "q1  :  ------------------\n",
      "                         \n",
      "q2  :  ------------------\n",
      "                         \n",
      "q3  :  ------------------\n",
      "                         \n",
      "q4  :  ------------------\n",
      "                         \n",
      "q5  :  ------------------\n",
      "                         \n",
      "q6  :  ------------------\n",
      "                         \n",
      "q7  :  ------------------\n",
      "                         \n",
      "q8  :  @-----X-----------\n",
      "       |     |           \n",
      "q9  :  Z--Ry-@--@-----X--\n",
      "                |     |  \n",
      "q10 :  ------Ry-Z--Ry-@--\n",
      "                         \n",
      "T   :  25|26|27|28|29|30|\n",
      "\n",
      "Index Time       Qubits     Name       Gate      :     Value\n",
      "0     (0,)       (1,)       theta      Ry        :  1.000000\n",
      "1     (2,)       (1,)       theta      Ry        : -1.000000\n",
      "2     (3,)       (2,)       theta      Ry        :  0.941176\n",
      "3     (5,)       (2,)       theta      Ry        : -0.941176\n",
      "4     (6,)       (3,)       theta      Ry        :  0.882353\n",
      "5     (8,)       (3,)       theta      Ry        : -0.882353\n",
      "6     (9,)       (4,)       theta      Ry        :  0.823529\n",
      "7     (11,)      (4,)       theta      Ry        : -0.823529\n",
      "8     (12,)      (5,)       theta      Ry        :  0.764706\n",
      "9     (14,)      (5,)       theta      Ry        : -0.764706\n",
      "10    (15,)      (6,)       theta      Ry        :  0.705882\n",
      "11    (17,)      (6,)       theta      Ry        : -0.705882\n",
      "12    (18,)      (7,)       theta      Ry        :  0.647059\n",
      "13    (20,)      (7,)       theta      Ry        : -0.647059\n",
      "14    (21,)      (8,)       theta      Ry        :  0.588235\n",
      "15    (23,)      (8,)       theta      Ry        : -0.588235\n",
      "16    (24,)      (9,)       theta      Ry        :  0.529412\n",
      "17    (26,)      (9,)       theta      Ry        : -0.529412\n",
      "18    (27,)      (10,)      theta      Ry        :  0.470588\n",
      "19    (29,)      (10,)      theta      Ry        : -0.470588\n",
      "\n"
     ]
    }
   ],
   "source": [
    "print(circuit)\n",
    "print(circuit.parameter_str)"
   ]
  },
  {
   "cell_type": "markdown",
   "metadata": {},
   "source": [
    "We can also define a Pauli-sparse Hermitian operator $\\hat O$:"
   ]
  },
  {
   "cell_type": "code",
   "execution_count": 16,
   "metadata": {
    "execution": {
     "iopub.execute_input": "2021-11-03T05:06:53.483587Z",
     "iopub.status.busy": "2021-11-03T05:06:53.482122Z",
     "iopub.status.idle": "2021-11-03T05:06:53.505136Z",
     "shell.execute_reply": "2021-11-03T05:06:53.506011Z"
    }
   },
   "outputs": [
    {
     "name": "stdout",
     "output_type": "stream",
     "text": [
      "+0.1*Z0\n",
      "+0.2*Z1\n",
      "+0.3*Z2\n",
      "+0.4*Z3\n",
      "+0.5*Z4\n",
      "+0.6*Z5\n",
      "+0.7*Z6\n",
      "+0.8*Z7\n",
      "+0.9*Z8\n",
      "+1.0*Z9\n",
      "+1.1*Z10\n"
     ]
    }
   ],
   "source": [
    "I, X, Y, Z = quasar.Pauli.IXYZ()\n",
    "pauli = quasar.Pauli.zero()\n",
    "for k in range(N+1):\n",
    "    pauli += (k + 1) / 10.0 * Z[k]\n",
    "print(pauli)"
   ]
  },
  {
   "cell_type": "markdown",
   "metadata": {},
   "source": [
    "A common quantum primitive is to compute the total observable expectation value $O (\\{ \\theta_g \\}) \\equiv \\langle \\Psi (\\{ \\theta_g \\} ) | \\hat O | \\Psi (\\{ \\theta_g \\})\\rangle$ at the current parameter set $\\{ \\theta_g \\}$:"
   ]
  },
  {
   "cell_type": "code",
   "execution_count": 17,
   "metadata": {
    "execution": {
     "iopub.execute_input": "2021-11-03T05:06:53.518249Z",
     "iopub.status.busy": "2021-11-03T05:06:53.508944Z",
     "iopub.status.idle": "2021-11-03T05:06:53.894277Z",
     "shell.execute_reply": "2021-11-03T05:06:53.896857Z"
    }
   },
   "outputs": [
    {
     "name": "stdout",
     "output_type": "stream",
     "text": [
      "5.136727323306033\n",
      "  3.688E-01 s\n"
     ]
    }
   ],
   "source": [
    "backend1 = forge.circuits.QuasarBackend('qcware/cpu_simulator')\n",
    "start = time.time()\n",
    "print(backend1.run_pauli_expectation_value(\n",
    "    circuit=circuit,\n",
    "    pauli=pauli,\n",
    "    ))\n",
    "print('%11.3E s' % (time.time() - start))"
   ]
  },
  {
   "cell_type": "markdown",
   "metadata": {},
   "source": [
    "Another useful quantum primitive is to compute the gradient of the total observable expectation value with respect to the circuit parameters $\\frac{\\partial O}{\\partial \\theta_g}$. This can be done in either the ideal infinite sampling limit or with finite sampling by using the parameter shift method [e.g., $\\frac{\\partial O}{\\partial \\theta_g} = O (\\theta_g + \\pi/4) - O(\\theta_g - \\pi / 4)$ for $\\hat R$ gates]."
   ]
  },
  {
   "cell_type": "code",
   "execution_count": 18,
   "metadata": {
    "execution": {
     "iopub.execute_input": "2021-11-03T05:06:53.914156Z",
     "iopub.status.busy": "2021-11-03T05:06:53.903540Z",
     "iopub.status.idle": "2021-11-03T05:06:54.839849Z",
     "shell.execute_reply": "2021-11-03T05:06:54.840375Z"
    }
   },
   "outputs": [
    {
     "name": "stdout",
     "output_type": "stream",
     "text": [
      "[ 1.15629257+0.j -1.15629257+0.j  0.70715111+0.j -0.70715111+0.j\n",
      "  0.37236343+0.j -0.37236343+0.j  0.12284096+0.j -0.12284096+0.j\n",
      " -0.0546916 +0.j  0.0546916 +0.j -0.16590857+0.j  0.16590857+0.j\n",
      " -0.21446376+0.j  0.21446376+0.j -0.2067745 +0.j  0.2067745 +0.j\n",
      " -0.15548969+0.j  0.15548969+0.j -0.07965275+0.j  0.07965275+0.j]\n",
      "  9.285E-01 s\n"
     ]
    }
   ],
   "source": [
    "backend1 = forge.circuits.QuasarBackend('qcware/cpu_simulator')\n",
    "start = time.time()\n",
    "print(backend1.run_pauli_expectation_value_gradient(\n",
    "    circuit=circuit,\n",
    "    pauli=pauli,\n",
    "    ))\n",
    "print('%11.3E s' % (time.time() - start))"
   ]
  },
  {
   "cell_type": "markdown",
   "metadata": {},
   "source": [
    "This can be restricted to user-desired parameter indices to lower the cost, using the `parameter_indices` optional argument:"
   ]
  },
  {
   "cell_type": "code",
   "execution_count": 19,
   "metadata": {
    "execution": {
     "iopub.execute_input": "2021-11-03T05:06:54.851239Z",
     "iopub.status.busy": "2021-11-03T05:06:54.850472Z",
     "iopub.status.idle": "2021-11-03T05:06:55.275067Z",
     "shell.execute_reply": "2021-11-03T05:06:55.273554Z"
    }
   },
   "outputs": [
    {
     "name": "stdout",
     "output_type": "stream",
     "text": [
      "[ 1.15629257+0.j -1.15629257+0.j  0.70715111+0.j -0.70715111+0.j]\n",
      "  4.194E-01 s\n"
     ]
    }
   ],
   "source": [
    "backend1 = forge.circuits.QuasarBackend('qcware/cpu_simulator')\n",
    "start = time.time()\n",
    "print(backend1.run_pauli_expectation_value_gradient(\n",
    "    circuit=circuit,\n",
    "    pauli=pauli,\n",
    "    parameter_indices=[0,1,2,3]\n",
    "    ))\n",
    "print('%11.3E s' % (time.time() - start))"
   ]
  }
 ],
 "metadata": {
  "kernelspec": {
   "display_name": "Python 3",
   "language": "python",
   "name": "python3"
  },
  "language_info": {
   "codemirror_mode": {
    "name": "ipython",
    "version": 3
   },
   "file_extension": ".py",
   "mimetype": "text/x-python",
   "name": "python",
   "nbconvert_exporter": "python",
   "pygments_lexer": "ipython3",
   "version": "3.9.2"
  }
 },
 "nbformat": 4,
 "nbformat_minor": 4
}
