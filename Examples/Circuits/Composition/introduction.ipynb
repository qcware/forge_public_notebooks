{
 "cells": [
  {
   "cell_type": "markdown",
   "metadata": {},
   "source": [
    "# Circuit-Model Programming in Forge #\n",
    "\n",
    "Circuit-model programming in Forge uses our *Quasar* library to provide an abstract interface to a number of simulators and quantum computers.  The Quasar library is available open-source, including a very capable classical simulator, so this introductory notebook just details some differences between \"Quasar on Forge\" and the base Quasar library; other notebooks in this directory should fill in some more of the blanks.\n",
    "\n",
    "Let's run a basic bell-pair circuit!"
   ]
  },
  {
   "cell_type": "code",
   "execution_count": 1,
   "metadata": {
    "execution": {
     "iopub.execute_input": "2022-11-08T05:10:15.507231Z",
     "iopub.status.busy": "2022-11-08T05:10:15.506776Z",
     "iopub.status.idle": "2022-11-08T05:10:15.927776Z",
     "shell.execute_reply": "2022-11-08T05:10:15.927019Z"
    }
   },
   "outputs": [
    {
     "name": "stdout",
     "output_type": "stream",
     "text": [
      "T  : |0|1|\n",
      "\n",
      "q0 : -H-@-\n",
      "        | \n",
      "q1 : ---X-\n",
      "          \n",
      "T  : |0|1|\n",
      "\n"
     ]
    }
   ],
   "source": [
    "from qcware import forge\n",
    "# this line is for internal tracking; it is not necessary for use!\n",
    "forge.config.set_environment_source_file('introduction.ipynb')\n",
    "import quasar\n",
    "circuit = quasar.Circuit().H(0).CX(0,1)\n",
    "print(circuit)"
   ]
  },
  {
   "cell_type": "markdown",
   "metadata": {},
   "source": [
    "To run this circuit over Forge, we'll need to use the client library `qcware` to set up our API key and instantiate a backend.  When instantiating a backend, you must pass a Forge backend string, such as `qcware/cpu_simulator`."
   ]
  },
  {
   "cell_type": "code",
   "execution_count": 2,
   "metadata": {
    "execution": {
     "iopub.execute_input": "2022-11-08T05:10:15.931025Z",
     "iopub.status.busy": "2022-11-08T05:10:15.930433Z",
     "iopub.status.idle": "2022-11-08T05:10:15.934160Z",
     "shell.execute_reply": "2022-11-08T05:10:15.933525Z"
    }
   },
   "outputs": [],
   "source": [
    "backend = forge.circuits.QuasarBackend('qcware/cpu_simulator')"
   ]
  },
  {
   "cell_type": "markdown",
   "metadata": {},
   "source": [
    "Depending on the backend chosen, you have many different options for running a circuit, including statevector simulation (returning a full statevector), measurement-based computing (returning a histogram of measurements), and many different powerful options such as Pauli expectation values.  Here, let's take advantage of the fact that we're running on a simulator and run a quick statevector simulation.\n",
    "\n",
    "For the Forge backend to quasar, you must use keywords for _all_ arguments; this is slightly non-pythonic, but it takes little more space and makes the code somewhat clearer."
   ]
  },
  {
   "cell_type": "code",
   "execution_count": 3,
   "metadata": {
    "execution": {
     "iopub.execute_input": "2022-11-08T05:10:15.936902Z",
     "iopub.status.busy": "2022-11-08T05:10:15.936586Z",
     "iopub.status.idle": "2022-11-08T05:10:16.178064Z",
     "shell.execute_reply": "2022-11-08T05:10:16.177418Z"
    }
   },
   "outputs": [
    {
     "data": {
      "text/plain": [
       "array([0.70710678+0.j, 0.        +0.j, 0.        +0.j, 0.70710678+0.j])"
      ]
     },
     "execution_count": 3,
     "metadata": {},
     "output_type": "execute_result"
    }
   ],
   "source": [
    "backend.run_statevector(circuit=circuit)"
   ]
  },
  {
   "cell_type": "markdown",
   "metadata": {},
   "source": [
    "Of course, being a simulator, you could always run measurements just as you would on quantum hardware.  This returns a Quasar `ProbabilityHistogram` object."
   ]
  },
  {
   "cell_type": "code",
   "execution_count": 4,
   "metadata": {
    "execution": {
     "iopub.execute_input": "2022-11-08T05:10:16.181583Z",
     "iopub.status.busy": "2022-11-08T05:10:16.180881Z",
     "iopub.status.idle": "2022-11-08T05:10:16.409900Z",
     "shell.execute_reply": "2022-11-08T05:10:16.408882Z"
    }
   },
   "outputs": [
    {
     "name": "stdout",
     "output_type": "stream",
     "text": [
      "nqubit       : 2\n",
      "nmeasurement : None\n",
      "|00> : 0.500000\n",
      "|11> : 0.500000\n",
      "\n"
     ]
    }
   ],
   "source": [
    "hist=backend.run_measurement(circuit=circuit)\n",
    "print(hist)"
   ]
  }
 ],
 "metadata": {
  "kernelspec": {
   "display_name": "Python 3",
   "language": "python",
   "name": "python3"
  },
  "language_info": {
   "codemirror_mode": {
    "name": "ipython",
    "version": 3
   },
   "file_extension": ".py",
   "mimetype": "text/x-python",
   "name": "python",
   "nbconvert_exporter": "python",
   "pygments_lexer": "ipython3",
   "version": "3.9.2"
  }
 },
 "nbformat": 4,
 "nbformat_minor": 4
}
