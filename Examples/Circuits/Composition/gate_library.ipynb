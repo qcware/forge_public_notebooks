{
 "cells": [
  {
   "cell_type": "markdown",
   "metadata": {},
   "source": [
    "# Quasar Gate Library\n",
    "Any function which can generate a $2^N \\times 2^N$ unitary matrix $\\hat U$ for $N\\in\\{1,2\\}$ from an `OrderedDict` of parameters can be adapted to be used as a `Gate` object within quasar (see the custom gate demo: [quasar-custom-gates.ipynb](quasar-custom-gates.ipynb)). However, in QIS, there are a handful of extremely common gates that one expects in any quantum simulator environment. We provide these as static attributes (for parameter-free gates) or static methods (for parameter-including gates) of the `Gate` class. This tutorial enumerates the existing names quasar gate library.\n",
    "\n",
    "Note: quasar uses the convention $\\hat R_{\\hat P} (\\theta) \\equiv \\exp(-i \\theta \\hat P)$ to define rotation matrices. Other codes may use the \"half-turn notation\" $\\hat R_{\\hat P} (\\theta) \\equiv \\exp(-i (\\theta / 2) \\hat P)$."
   ]
  },
  {
   "cell_type": "code",
   "execution_count": 1,
   "metadata": {
    "execution": {
     "iopub.execute_input": "2022-02-16T05:06:59.094811Z",
     "iopub.status.busy": "2022-02-16T05:06:59.093782Z",
     "iopub.status.idle": "2022-02-16T05:06:59.713404Z",
     "shell.execute_reply": "2022-02-16T05:06:59.713997Z"
    }
   },
   "outputs": [],
   "source": [
    "from qcware import forge\n",
    "# this line is for internal tracking; it is not necessary for use!\n",
    "forge.config.set_environment_source_file('gate_library.ipynb')\n",
    "\n",
    "import numpy as np\n",
    "import quasar"
   ]
  },
  {
   "cell_type": "markdown",
   "metadata": {},
   "source": [
    "## 1-Qubit Parameter-Free Gates\n",
    "The $\\hat I$ (identity) gate:"
   ]
  },
  {
   "cell_type": "code",
   "execution_count": 2,
   "metadata": {
    "execution": {
     "iopub.execute_input": "2022-02-16T05:06:59.722017Z",
     "iopub.status.busy": "2022-02-16T05:06:59.720647Z",
     "iopub.status.idle": "2022-02-16T05:06:59.727355Z",
     "shell.execute_reply": "2022-02-16T05:06:59.726846Z"
    }
   },
   "outputs": [
    {
     "name": "stdout",
     "output_type": "stream",
     "text": [
      "[[1.+0.j 0.+0.j]\n",
      " [0.+0.j 1.+0.j]]\n"
     ]
    }
   ],
   "source": [
    "print(quasar.Gate.I.operator)"
   ]
  },
  {
   "cell_type": "markdown",
   "metadata": {},
   "source": [
    "The $\\hat X$ (NOT) gate:"
   ]
  },
  {
   "cell_type": "code",
   "execution_count": 3,
   "metadata": {
    "execution": {
     "iopub.execute_input": "2022-02-16T05:06:59.734886Z",
     "iopub.status.busy": "2022-02-16T05:06:59.733916Z",
     "iopub.status.idle": "2022-02-16T05:06:59.737897Z",
     "shell.execute_reply": "2022-02-16T05:06:59.738529Z"
    }
   },
   "outputs": [
    {
     "name": "stdout",
     "output_type": "stream",
     "text": [
      "[[0.+0.j 1.+0.j]\n",
      " [1.+0.j 0.+0.j]]\n"
     ]
    }
   ],
   "source": [
    "print(quasar.Gate.X.operator)"
   ]
  },
  {
   "cell_type": "markdown",
   "metadata": {},
   "source": [
    "The $\\hat Y$ gate:"
   ]
  },
  {
   "cell_type": "code",
   "execution_count": 4,
   "metadata": {
    "execution": {
     "iopub.execute_input": "2022-02-16T05:06:59.743569Z",
     "iopub.status.busy": "2022-02-16T05:06:59.742961Z",
     "iopub.status.idle": "2022-02-16T05:06:59.746554Z",
     "shell.execute_reply": "2022-02-16T05:06:59.745979Z"
    }
   },
   "outputs": [
    {
     "name": "stdout",
     "output_type": "stream",
     "text": [
      "[[ 0.+0.j -0.-1.j]\n",
      " [ 0.+1.j  0.+0.j]]\n"
     ]
    }
   ],
   "source": [
    "print(quasar.Gate.Y.operator)"
   ]
  },
  {
   "cell_type": "markdown",
   "metadata": {},
   "source": [
    "The $\\hat Z$ gate:"
   ]
  },
  {
   "cell_type": "code",
   "execution_count": 5,
   "metadata": {
    "execution": {
     "iopub.execute_input": "2022-02-16T05:06:59.751581Z",
     "iopub.status.busy": "2022-02-16T05:06:59.750950Z",
     "iopub.status.idle": "2022-02-16T05:06:59.753707Z",
     "shell.execute_reply": "2022-02-16T05:06:59.754293Z"
    }
   },
   "outputs": [
    {
     "name": "stdout",
     "output_type": "stream",
     "text": [
      "[[ 1.+0.j  0.+0.j]\n",
      " [ 0.+0.j -1.+0.j]]\n"
     ]
    }
   ],
   "source": [
    "print(quasar.Gate.Z.operator)"
   ]
  },
  {
   "cell_type": "markdown",
   "metadata": {},
   "source": [
    "The $\\hat H$ (Hadamard) gate:"
   ]
  },
  {
   "cell_type": "code",
   "execution_count": 6,
   "metadata": {
    "execution": {
     "iopub.execute_input": "2022-02-16T05:06:59.759058Z",
     "iopub.status.busy": "2022-02-16T05:06:59.758473Z",
     "iopub.status.idle": "2022-02-16T05:06:59.762562Z",
     "shell.execute_reply": "2022-02-16T05:06:59.763039Z"
    }
   },
   "outputs": [
    {
     "name": "stdout",
     "output_type": "stream",
     "text": [
      "[[ 0.70710678+0.j  0.70710678+0.j]\n",
      " [ 0.70710678+0.j -0.70710678+0.j]]\n"
     ]
    }
   ],
   "source": [
    "print(quasar.Gate.H.operator)"
   ]
  },
  {
   "cell_type": "markdown",
   "metadata": {},
   "source": [
    "The $\\hat S$ (phase) gate:"
   ]
  },
  {
   "cell_type": "code",
   "execution_count": 7,
   "metadata": {
    "execution": {
     "iopub.execute_input": "2022-02-16T05:06:59.767969Z",
     "iopub.status.busy": "2022-02-16T05:06:59.767367Z",
     "iopub.status.idle": "2022-02-16T05:06:59.770296Z",
     "shell.execute_reply": "2022-02-16T05:06:59.770754Z"
    }
   },
   "outputs": [
    {
     "name": "stdout",
     "output_type": "stream",
     "text": [
      "[[1.+0.j 0.+0.j]\n",
      " [0.+0.j 0.+1.j]]\n"
     ]
    }
   ],
   "source": [
    "print(quasar.Gate.S.operator)"
   ]
  },
  {
   "cell_type": "markdown",
   "metadata": {},
   "source": [
    "The $\\hat S^{\\dagger}$ (phase-adjoint) gate:"
   ]
  },
  {
   "cell_type": "code",
   "execution_count": 8,
   "metadata": {
    "execution": {
     "iopub.execute_input": "2022-02-16T05:06:59.775632Z",
     "iopub.status.busy": "2022-02-16T05:06:59.775048Z",
     "iopub.status.idle": "2022-02-16T05:06:59.778433Z",
     "shell.execute_reply": "2022-02-16T05:06:59.777911Z"
    }
   },
   "outputs": [
    {
     "name": "stdout",
     "output_type": "stream",
     "text": [
      "[[ 1.+0.j  0.+0.j]\n",
      " [ 0.+0.j -0.-1.j]]\n"
     ]
    }
   ],
   "source": [
    "print(quasar.Gate.ST.operator)"
   ]
  },
  {
   "cell_type": "markdown",
   "metadata": {},
   "source": [
    "The $\\hat T$ gate:"
   ]
  },
  {
   "cell_type": "code",
   "execution_count": 9,
   "metadata": {
    "execution": {
     "iopub.execute_input": "2022-02-16T05:06:59.783930Z",
     "iopub.status.busy": "2022-02-16T05:06:59.783170Z",
     "iopub.status.idle": "2022-02-16T05:06:59.786241Z",
     "shell.execute_reply": "2022-02-16T05:06:59.785723Z"
    }
   },
   "outputs": [
    {
     "name": "stdout",
     "output_type": "stream",
     "text": [
      "[[1.        +0.j         0.        +0.j        ]\n",
      " [0.        +0.j         0.70710678+0.70710678j]]\n"
     ]
    }
   ],
   "source": [
    "print(quasar.Gate.T.operator)"
   ]
  },
  {
   "cell_type": "markdown",
   "metadata": {},
   "source": [
    "The $\\hat T^{\\dagger}$ gate:"
   ]
  },
  {
   "cell_type": "code",
   "execution_count": 10,
   "metadata": {
    "execution": {
     "iopub.execute_input": "2022-02-16T05:06:59.791271Z",
     "iopub.status.busy": "2022-02-16T05:06:59.790650Z",
     "iopub.status.idle": "2022-02-16T05:06:59.793442Z",
     "shell.execute_reply": "2022-02-16T05:06:59.793924Z"
    }
   },
   "outputs": [
    {
     "name": "stdout",
     "output_type": "stream",
     "text": [
      "[[1.        +0.j         0.        +0.j        ]\n",
      " [0.        +0.j         0.70710678-0.70710678j]]\n"
     ]
    }
   ],
   "source": [
    "print(quasar.Gate.TT.operator)"
   ]
  },
  {
   "cell_type": "markdown",
   "metadata": {},
   "source": [
    "The $\\hat R_x (\\theta = -\\pi / 4) = \\exp(+i (\\pi / 4) \\hat X)$ gate (transforms to $\\hat Y$ basis): "
   ]
  },
  {
   "cell_type": "code",
   "execution_count": 11,
   "metadata": {
    "execution": {
     "iopub.execute_input": "2022-02-16T05:06:59.799101Z",
     "iopub.status.busy": "2022-02-16T05:06:59.798420Z",
     "iopub.status.idle": "2022-02-16T05:06:59.801065Z",
     "shell.execute_reply": "2022-02-16T05:06:59.801687Z"
    }
   },
   "outputs": [
    {
     "name": "stdout",
     "output_type": "stream",
     "text": [
      "[[0.70710678+0.j         0.        +0.70710678j]\n",
      " [0.        +0.70710678j 0.70710678+0.j        ]]\n"
     ]
    }
   ],
   "source": [
    "print(quasar.Gate.Rx2.operator)"
   ]
  },
  {
   "cell_type": "markdown",
   "metadata": {},
   "source": [
    "The $\\hat R_x (\\theta = +\\pi / 4) = \\exp(-i (\\pi / 4) \\hat X)$ gate (transforms from the $\\hat Y$ basis): "
   ]
  },
  {
   "cell_type": "code",
   "execution_count": 12,
   "metadata": {
    "execution": {
     "iopub.execute_input": "2022-02-16T05:06:59.806702Z",
     "iopub.status.busy": "2022-02-16T05:06:59.806100Z",
     "iopub.status.idle": "2022-02-16T05:06:59.808623Z",
     "shell.execute_reply": "2022-02-16T05:06:59.809109Z"
    }
   },
   "outputs": [
    {
     "name": "stdout",
     "output_type": "stream",
     "text": [
      "[[0.70710678+0.j         0.        -0.70710678j]\n",
      " [0.        -0.70710678j 0.70710678+0.j        ]]\n"
     ]
    }
   ],
   "source": [
    "print(quasar.Gate.Rx2T.operator)"
   ]
  },
  {
   "cell_type": "markdown",
   "metadata": {},
   "source": [
    "## 1-Qubit Parameter-Based Gates\n",
    "The $\\hat R_x (\\theta) \\equiv \\exp(-i \\theta \\hat X)$ gate:"
   ]
  },
  {
   "cell_type": "code",
   "execution_count": 13,
   "metadata": {
    "execution": {
     "iopub.execute_input": "2022-02-16T05:06:59.814305Z",
     "iopub.status.busy": "2022-02-16T05:06:59.813650Z",
     "iopub.status.idle": "2022-02-16T05:06:59.816492Z",
     "shell.execute_reply": "2022-02-16T05:06:59.816966Z"
    }
   },
   "outputs": [
    {
     "name": "stdout",
     "output_type": "stream",
     "text": [
      "[[0.70710678+0.j         0.        -0.70710678j]\n",
      " [0.        -0.70710678j 0.70710678+0.j        ]]\n"
     ]
    }
   ],
   "source": [
    "print(quasar.Gate.Rx(theta=np.pi/4.0).operator)"
   ]
  },
  {
   "cell_type": "markdown",
   "metadata": {},
   "source": [
    "The $\\hat R_y (\\theta) \\equiv \\exp(-i \\theta \\hat Y)$ gate:"
   ]
  },
  {
   "cell_type": "code",
   "execution_count": 14,
   "metadata": {
    "execution": {
     "iopub.execute_input": "2022-02-16T05:06:59.822747Z",
     "iopub.status.busy": "2022-02-16T05:06:59.822166Z",
     "iopub.status.idle": "2022-02-16T05:06:59.824997Z",
     "shell.execute_reply": "2022-02-16T05:06:59.825530Z"
    }
   },
   "outputs": [
    {
     "name": "stdout",
     "output_type": "stream",
     "text": [
      "[[ 0.70710678+0.j -0.70710678+0.j]\n",
      " [ 0.70710678+0.j  0.70710678+0.j]]\n"
     ]
    }
   ],
   "source": [
    "print(quasar.Gate.Ry(theta=np.pi/4.0).operator)"
   ]
  },
  {
   "cell_type": "markdown",
   "metadata": {},
   "source": [
    "The $\\hat R_z (\\theta) \\equiv \\exp(-i \\theta \\hat Z)$ gate:"
   ]
  },
  {
   "cell_type": "code",
   "execution_count": 15,
   "metadata": {
    "execution": {
     "iopub.execute_input": "2022-02-16T05:06:59.830806Z",
     "iopub.status.busy": "2022-02-16T05:06:59.830211Z",
     "iopub.status.idle": "2022-02-16T05:06:59.833042Z",
     "shell.execute_reply": "2022-02-16T05:06:59.833505Z"
    }
   },
   "outputs": [
    {
     "name": "stdout",
     "output_type": "stream",
     "text": [
      "[[0.70710678-0.70710678j 0.        +0.j        ]\n",
      " [0.        +0.j         0.70710678+0.70710678j]]\n"
     ]
    }
   ],
   "source": [
    "print(quasar.Gate.Rz(theta=np.pi/4.0).operator)"
   ]
  },
  {
   "cell_type": "markdown",
   "metadata": {},
   "source": [
    "The $u3(\\theta, \\phi, \\lambda)$ gate:\n",
    "\\begin{equation}\n",
    "u3(\\theta, \\phi, \\lambda)\n",
    "\\equiv\n",
    "\\left [\n",
    "\\begin{array}{cc}\n",
    "\\cos(\\theta / 2) & -e^{i \\phi} \\sin(\\theta / 2) \\\\\n",
    "+e^{i \\lambda} \\sin(\\theta / 2) & e^{i(\\phi + \\lambda)} \\cos(\\theta / 2) \\\\\n",
    "\\end{array}\n",
    "\\right ]\n",
    "\\end{equation}"
   ]
  },
  {
   "cell_type": "code",
   "execution_count": 16,
   "metadata": {
    "execution": {
     "iopub.execute_input": "2022-02-16T05:06:59.838902Z",
     "iopub.status.busy": "2022-02-16T05:06:59.838070Z",
     "iopub.status.idle": "2022-02-16T05:06:59.841630Z",
     "shell.execute_reply": "2022-02-16T05:06:59.841127Z"
    }
   },
   "outputs": [
    {
     "name": "stdout",
     "output_type": "stream",
     "text": [
      "[[ 0.96891242+0.j         -0.23635403-0.07311287j]\n",
      " [ 0.22787414+0.09634364j  0.7410651 +0.62419052j]]\n"
     ]
    }
   ],
   "source": [
    "print(quasar.Gate.u3(theta=0.5, phi=0.4, lam=0.3).operator)"
   ]
  },
  {
   "cell_type": "markdown",
   "metadata": {},
   "source": [
    "The $u2(\\phi, \\lambda) \\equiv u3(\\pi/2, \\phi, \\lambda)$ gate:\n",
    "\\begin{equation}\n",
    "u2(\\phi, \\lambda)\n",
    "\\equiv\n",
    "\\frac{1}{\\sqrt{2}}\n",
    "\\left [\n",
    "\\begin{array}{cc}\n",
    "1 & -e^{i \\phi}  \\\\\n",
    "+e^{i \\lambda} & e^{i(\\phi + \\lambda)} \\\\\n",
    "\\end{array}\n",
    "\\right ]\n",
    "\\end{equation}"
   ]
  },
  {
   "cell_type": "code",
   "execution_count": 17,
   "metadata": {
    "execution": {
     "iopub.execute_input": "2022-02-16T05:06:59.848545Z",
     "iopub.status.busy": "2022-02-16T05:06:59.847701Z",
     "iopub.status.idle": "2022-02-16T05:06:59.851215Z",
     "shell.execute_reply": "2022-02-16T05:06:59.850715Z"
    }
   },
   "outputs": [
    {
     "name": "stdout",
     "output_type": "stream",
     "text": [
      "[[ 0.70710678+0.j         -0.67552491-0.20896434j]\n",
      " [ 0.65128847+0.27536035j  0.5408251 +0.4555307j ]]\n",
      "[[ 0.70710678+0.j         -0.67552491-0.20896434j]\n",
      " [ 0.65128847+0.27536035j  0.5408251 +0.4555307j ]]\n"
     ]
    }
   ],
   "source": [
    "print(quasar.Gate.u2(phi=0.4, lam=0.3).operator)\n",
    "print(quasar.Gate.u3(theta=np.pi / 2.0, phi=0.4, lam=0.3).operator)"
   ]
  },
  {
   "cell_type": "markdown",
   "metadata": {},
   "source": [
    "The $u1(\\lambda) \\equiv u3(0, 0, \\lambda)$ gate:\n",
    "\\begin{equation}\n",
    "u1(\\lambda)\n",
    "\\equiv\n",
    "\\left [\n",
    "\\begin{array}{cc}\n",
    "1 & 0  \\\\\n",
    "0 & e^{i\\lambda} \\\\\n",
    "\\end{array}\n",
    "\\right ]\n",
    "\\end{equation}"
   ]
  },
  {
   "cell_type": "code",
   "execution_count": 18,
   "metadata": {
    "execution": {
     "iopub.execute_input": "2022-02-16T05:06:59.857628Z",
     "iopub.status.busy": "2022-02-16T05:06:59.856885Z",
     "iopub.status.idle": "2022-02-16T05:06:59.860506Z",
     "shell.execute_reply": "2022-02-16T05:06:59.859879Z"
    }
   },
   "outputs": [
    {
     "name": "stdout",
     "output_type": "stream",
     "text": [
      "[[1.        +0.j         0.        +0.j        ]\n",
      " [0.        +0.j         0.95533649+0.29552021j]]\n",
      "[[1.        +0.j         0.        -0.j        ]\n",
      " [0.        +0.j         0.95533649+0.29552021j]]\n"
     ]
    }
   ],
   "source": [
    "print(quasar.Gate.u1(lam=0.3).operator)\n",
    "print(quasar.Gate.u3(lam=0.3).operator)"
   ]
  },
  {
   "cell_type": "markdown",
   "metadata": {},
   "source": [
    "## 2-Qubit Parameter-Free Gates"
   ]
  },
  {
   "cell_type": "markdown",
   "metadata": {},
   "source": [
    "The controlled $\\hat X$ (aka CNOT) gate:"
   ]
  },
  {
   "cell_type": "code",
   "execution_count": 19,
   "metadata": {
    "execution": {
     "iopub.execute_input": "2022-02-16T05:06:59.865341Z",
     "iopub.status.busy": "2022-02-16T05:06:59.864644Z",
     "iopub.status.idle": "2022-02-16T05:06:59.867891Z",
     "shell.execute_reply": "2022-02-16T05:06:59.868356Z"
    }
   },
   "outputs": [
    {
     "name": "stdout",
     "output_type": "stream",
     "text": [
      "[[1.+0.j 0.+0.j 0.+0.j 0.+0.j]\n",
      " [0.+0.j 1.+0.j 0.+0.j 0.+0.j]\n",
      " [0.+0.j 0.+0.j 0.+0.j 1.+0.j]\n",
      " [0.+0.j 0.+0.j 1.+0.j 0.+0.j]]\n"
     ]
    }
   ],
   "source": [
    "print(quasar.Gate.CX.operator)"
   ]
  },
  {
   "cell_type": "markdown",
   "metadata": {},
   "source": [
    "The controlled $\\hat Y$ gate:"
   ]
  },
  {
   "cell_type": "code",
   "execution_count": 20,
   "metadata": {
    "execution": {
     "iopub.execute_input": "2022-02-16T05:06:59.873748Z",
     "iopub.status.busy": "2022-02-16T05:06:59.873059Z",
     "iopub.status.idle": "2022-02-16T05:06:59.876468Z",
     "shell.execute_reply": "2022-02-16T05:06:59.875944Z"
    }
   },
   "outputs": [
    {
     "name": "stdout",
     "output_type": "stream",
     "text": [
      "[[ 1.+0.j  0.+0.j  0.+0.j  0.+0.j]\n",
      " [ 0.+0.j  1.+0.j  0.+0.j  0.+0.j]\n",
      " [ 0.+0.j  0.+0.j  0.+0.j -0.-1.j]\n",
      " [ 0.+0.j  0.+0.j  0.+1.j  0.+0.j]]\n"
     ]
    }
   ],
   "source": [
    "print(quasar.Gate.CY.operator)"
   ]
  },
  {
   "cell_type": "markdown",
   "metadata": {},
   "source": [
    "The controlled $\\hat Z$ gate:"
   ]
  },
  {
   "cell_type": "code",
   "execution_count": 21,
   "metadata": {
    "execution": {
     "iopub.execute_input": "2022-02-16T05:06:59.881763Z",
     "iopub.status.busy": "2022-02-16T05:06:59.881068Z",
     "iopub.status.idle": "2022-02-16T05:06:59.883876Z",
     "shell.execute_reply": "2022-02-16T05:06:59.884326Z"
    }
   },
   "outputs": [
    {
     "name": "stdout",
     "output_type": "stream",
     "text": [
      "[[ 1.+0.j  0.+0.j  0.+0.j  0.+0.j]\n",
      " [ 0.+0.j  1.+0.j  0.+0.j  0.+0.j]\n",
      " [ 0.+0.j  0.+0.j  1.+0.j  0.+0.j]\n",
      " [ 0.+0.j  0.+0.j  0.+0.j -1.+0.j]]\n"
     ]
    }
   ],
   "source": [
    "print(quasar.Gate.CZ.operator)"
   ]
  },
  {
   "cell_type": "markdown",
   "metadata": {},
   "source": [
    "The controlled $\\hat S$ gate:"
   ]
  },
  {
   "cell_type": "code",
   "execution_count": 22,
   "metadata": {
    "execution": {
     "iopub.execute_input": "2022-02-16T05:06:59.896700Z",
     "iopub.status.busy": "2022-02-16T05:06:59.895650Z",
     "iopub.status.idle": "2022-02-16T05:06:59.898082Z",
     "shell.execute_reply": "2022-02-16T05:06:59.896147Z"
    }
   },
   "outputs": [
    {
     "name": "stdout",
     "output_type": "stream",
     "text": [
      "[[1.+0.j 0.+0.j 0.+0.j 0.+0.j]\n",
      " [0.+0.j 1.+0.j 0.+0.j 0.+0.j]\n",
      " [0.+0.j 0.+0.j 1.+0.j 0.+0.j]\n",
      " [0.+0.j 0.+0.j 0.+0.j 0.+1.j]]\n"
     ]
    }
   ],
   "source": [
    "print(quasar.Gate.CS.operator)"
   ]
  },
  {
   "cell_type": "markdown",
   "metadata": {},
   "source": [
    "The controlled $\\hat S^{\\adjoint}$ gate:"
   ]
  },
  {
   "cell_type": "code",
   "execution_count": 23,
   "metadata": {
    "execution": {
     "iopub.execute_input": "2022-02-16T05:06:59.904634Z",
     "iopub.status.busy": "2022-02-16T05:06:59.903909Z",
     "iopub.status.idle": "2022-02-16T05:06:59.907800Z",
     "shell.execute_reply": "2022-02-16T05:06:59.907178Z"
    }
   },
   "outputs": [
    {
     "name": "stdout",
     "output_type": "stream",
     "text": [
      "[[ 1.+0.j  0.+0.j  0.+0.j  0.+0.j]\n",
      " [ 0.+0.j  1.+0.j  0.+0.j  0.+0.j]\n",
      " [ 0.+0.j  0.+0.j  1.+0.j  0.+0.j]\n",
      " [ 0.+0.j  0.+0.j  0.+0.j -0.-1.j]]\n"
     ]
    }
   ],
   "source": [
    "print(quasar.Gate.CST.operator)"
   ]
  },
  {
   "cell_type": "markdown",
   "metadata": {},
   "source": [
    "The SWAP gate:"
   ]
  },
  {
   "cell_type": "code",
   "execution_count": 24,
   "metadata": {
    "execution": {
     "iopub.execute_input": "2022-02-16T05:06:59.913164Z",
     "iopub.status.busy": "2022-02-16T05:06:59.912488Z",
     "iopub.status.idle": "2022-02-16T05:06:59.915843Z",
     "shell.execute_reply": "2022-02-16T05:06:59.915252Z"
    }
   },
   "outputs": [
    {
     "name": "stdout",
     "output_type": "stream",
     "text": [
      "[[1.+0.j 0.+0.j 0.+0.j 0.+0.j]\n",
      " [0.+0.j 0.+0.j 1.+0.j 0.+0.j]\n",
      " [0.+0.j 1.+0.j 0.+0.j 0.+0.j]\n",
      " [0.+0.j 0.+0.j 0.+0.j 1.+0.j]]\n"
     ]
    }
   ],
   "source": [
    "print(quasar.Gate.SWAP.operator)"
   ]
  },
  {
   "cell_type": "markdown",
   "metadata": {},
   "source": [
    "## 2-Qubit Parameter-Based Gates\n",
    "The controlled $\\hat F$ gate:\n",
    "\\begin{equation}\n",
    "\\hat U_{\\mathrm{CF}} (\\theta)\n",
    "\\equiv\n",
    "\\left [\n",
    "\\begin{array}{cccc}\n",
    "1 & 0 & 0 & 0 \\\\\n",
    "0 & 1 & 0 & 0 \\\\\n",
    "0 & 0 & +\\cos(\\theta) & +\\sin(\\theta) \\\\\n",
    "0 & 0 & +\\sin(\\theta) & -\\cos(\\theta) \\\\\n",
    "\\end{array}\n",
    "\\right ]\n",
    "\\end{equation}"
   ]
  },
  {
   "cell_type": "code",
   "execution_count": 25,
   "metadata": {
    "execution": {
     "iopub.execute_input": "2022-02-16T05:06:59.921475Z",
     "iopub.status.busy": "2022-02-16T05:06:59.920823Z",
     "iopub.status.idle": "2022-02-16T05:06:59.924078Z",
     "shell.execute_reply": "2022-02-16T05:06:59.923566Z"
    }
   },
   "outputs": [
    {
     "name": "stdout",
     "output_type": "stream",
     "text": [
      "[[ 1.        +0.j  0.        +0.j  0.        +0.j  0.        +0.j]\n",
      " [ 0.        +0.j  1.        +0.j  0.        +0.j  0.        +0.j]\n",
      " [ 0.        +0.j  0.        +0.j  0.70710678+0.j  0.70710678+0.j]\n",
      " [ 0.        +0.j  0.        +0.j  0.70710678+0.j -0.70710678+0.j]]\n"
     ]
    }
   ],
   "source": [
    "print(quasar.Gate.CF(theta=np.pi/4.0).operator)"
   ]
  },
  {
   "cell_type": "markdown",
   "metadata": {},
   "source": [
    "The exponential parametrization of $SO(4)$: https://arxiv.org/pdf/1901.01234.pdf"
   ]
  },
  {
   "cell_type": "code",
   "execution_count": 26,
   "metadata": {
    "execution": {
     "iopub.execute_input": "2022-02-16T05:06:59.929277Z",
     "iopub.status.busy": "2022-02-16T05:06:59.928555Z",
     "iopub.status.idle": "2022-02-16T05:07:00.202644Z",
     "shell.execute_reply": "2022-02-16T05:07:00.203568Z"
    }
   },
   "outputs": [
    {
     "name": "stdout",
     "output_type": "stream",
     "text": [
      "[[ 0.9348924 +0.j -0.01339019+0.j  0.09978843+0.j  0.34035154+0.j]\n",
      " [-0.19968474+0.j  0.80519462+0.j  0.19761001+0.j  0.52224316+0.j]\n",
      " [-0.22948621+0.j -0.49406208+0.j  0.74034573+0.j  0.39386157+0.j]\n",
      " [-0.18286137+0.j -0.32769648+0.j -0.63472888+0.j  0.67549684+0.j]]\n"
     ]
    }
   ],
   "source": [
    "print(quasar.Gate.SO4(A=0.1, B=0.2, C=0.3, D=0.4, E=0.5, F=0.6).operator)"
   ]
  },
  {
   "cell_type": "markdown",
   "metadata": {},
   "source": [
    "An alternative parametrization of $SO(4)$:"
   ]
  },
  {
   "cell_type": "code",
   "execution_count": 27,
   "metadata": {
    "execution": {
     "iopub.execute_input": "2022-02-16T05:07:00.208054Z",
     "iopub.status.busy": "2022-02-16T05:07:00.207097Z",
     "iopub.status.idle": "2022-02-16T05:07:00.215839Z",
     "shell.execute_reply": "2022-02-16T05:07:00.216830Z"
    }
   },
   "outputs": [
    {
     "name": "stdout",
     "output_type": "stream",
     "text": [
      "[[ 0.36051638+0.j -0.33891257+0.j -0.44175252+0.j -0.74834546+0.j]\n",
      " [ 0.51034913+0.j  0.77196413+0.j -0.36256602+0.j  0.11027705+0.j]\n",
      " [ 0.73319467+0.j -0.18603098+0.j  0.65195854+0.j  0.05261287+0.j]\n",
      " [ 0.26832308+0.j -0.50458114+0.j -0.49834793+0.j  0.65195854+0.j]]\n"
     ]
    }
   ],
   "source": [
    "print(quasar.Gate.SO42(thetaIY=0.1, thetaYI=0.2, thetaXY=0.3, thetaYX=0.4, thetaZY=0.5, thetaYZ=0.6).operator)"
   ]
  },
  {
   "cell_type": "markdown",
   "metadata": {},
   "source": [
    "## Special Parameter-Free Gates\n",
    "Sometimes the user has a known, parameter-free unitary matrix $\\hat U$, and wants a gate corresponding to this. To help in this case, we provide the simple `U1` and `U2` methods to construct custom parameter-free gates:"
   ]
  },
  {
   "cell_type": "code",
   "execution_count": 28,
   "metadata": {
    "execution": {
     "iopub.execute_input": "2022-02-16T05:07:00.221317Z",
     "iopub.status.busy": "2022-02-16T05:07:00.220377Z",
     "iopub.status.idle": "2022-02-16T05:07:00.227099Z",
     "shell.execute_reply": "2022-02-16T05:07:00.228047Z"
    }
   },
   "outputs": [
    {
     "name": "stdout",
     "output_type": "stream",
     "text": [
      "[[1.+0.j 0.+0.j]\n",
      " [0.+0.j 1.+0.j]]\n"
     ]
    }
   ],
   "source": [
    "print(quasar.Gate.U1(U=np.eye(2, dtype=np.complex128)).operator)"
   ]
  },
  {
   "cell_type": "code",
   "execution_count": 29,
   "metadata": {
    "execution": {
     "iopub.execute_input": "2022-02-16T05:07:00.232423Z",
     "iopub.status.busy": "2022-02-16T05:07:00.231472Z",
     "iopub.status.idle": "2022-02-16T05:07:00.238425Z",
     "shell.execute_reply": "2022-02-16T05:07:00.239530Z"
    }
   },
   "outputs": [
    {
     "name": "stdout",
     "output_type": "stream",
     "text": [
      "[[1.+0.j 0.+0.j 0.+0.j 0.+0.j]\n",
      " [0.+0.j 1.+0.j 0.+0.j 0.+0.j]\n",
      " [0.+0.j 0.+0.j 1.+0.j 0.+0.j]\n",
      " [0.+0.j 0.+0.j 0.+0.j 1.+0.j]]\n"
     ]
    }
   ],
   "source": [
    "print(quasar.Gate.U2(U=np.eye(4, dtype=np.complex128)).operator)"
   ]
  },
  {
   "cell_type": "markdown",
   "metadata": {},
   "source": [
    "The updated gate library can be found by looking at the documentation of the `Gate` class:"
   ]
  },
  {
   "cell_type": "code",
   "execution_count": 30,
   "metadata": {
    "execution": {
     "iopub.execute_input": "2022-02-16T05:07:00.243724Z",
     "iopub.status.busy": "2022-02-16T05:07:00.242767Z",
     "iopub.status.idle": "2022-02-16T05:07:00.262318Z",
     "shell.execute_reply": "2022-02-16T05:07:00.263275Z"
    }
   },
   "outputs": [
    {
     "name": "stdout",
     "output_type": "stream",
     "text": [
      "Help on class Gate in module quasar.circuit:\n",
      "\n",
      "class Gate(builtins.object)\n",
      " |  Gate(nqubit, operator_function, parameters, name, ascii_symbols, involutary=False, adjoint_function=None)\n",
      " |  \n",
      " |  Class Gate represents a quantum gate operation, i.e., a (usually) \n",
      " |  unitary operator acting on a specific number of qubits.\n",
      " |      \n",
      " |  This specific Gate class represents a \"primitive\" gate with an explicitly\n",
      " |  defined operator that occupies a single time index. Primitive Gate objects\n",
      " |  do not contain any subsidiary Gate or :class:`quasar.circuit.Circuit` objects.\n",
      " |  \n",
      " |  Methods defined here:\n",
      " |  \n",
      " |  R_ion = _GateR_ion(theta=0.0, phi=0.0)\n",
      " |  \n",
      " |  Rx_ion = _GateRx_ion(theta=0.0)\n",
      " |  \n",
      " |  Ry_ion = _GateRy_ion(theta=0.0)\n",
      " |  \n",
      " |  Rz_ion = _GateRz_ion(theta=0.0)\n",
      " |  \n",
      " |  XX_ion = _GateXX_ion(chi=0.0)\n",
      " |  \n",
      " |  __init__(self, nqubit, operator_function, parameters, name, ascii_symbols, involutary=False, adjoint_function=None)\n",
      " |      Gate initializer (verbatim).\n",
      " |      \n",
      " |      Params/Attributes:\n",
      " |          nqubit (int) - number of qubits.\n",
      " |          operator_function (function of OrderedDict of str : float ->\n",
      " |              np.ndarray of shape (2**nqubit,)*2) - function that yields the\n",
      " |              Gate operator matrix corresponding to the current parameter\n",
      " |              dictionary.\n",
      " |          parameters (OrderedDict of str : float) - parameter declarations\n",
      " |              and initial values for this Gate. Gates without parameters will\n",
      " |              have an empty OrderedDict for this field.\n",
      " |          name (str) - name of Gate. The name of the gate and the number of\n",
      " |              qubits are occasionally used as a shorthand for the Gate\n",
      " |              definition. E.g., all 1-nqubit gates with the name \"Ry\" are\n",
      " |              assumed to be quasar Ry gates by certain transpilation and\n",
      " |              runtime functions.\n",
      " |          ascii_symbols (list of str of size nqubit) - ASCII symbol to\n",
      " |              display on each qubit index during ASCII circuit printing.\n",
      " |              involutary (bool, default False) - setting involutary to True\n",
      " |              (1st priority) indicates that the gate is its own adjoint,\n",
      " |              meaning that a copy of this Gate can be returned in the\n",
      " |              `adjoint` function.\n",
      " |          adjoint_function (function of OrderedDict of str : float -> Gate or\n",
      " |              None (default)) - setting adjoint function to a non-None type\n",
      " |              provides a custom recipe to return a sensible adjoint Gate for\n",
      " |              this Gate, with the current parameters provided as input\n",
      " |              arguments to the adjoint function.\n",
      " |  \n",
      " |  __str__(self)\n",
      " |      str: String representation of this Gate (``self.name``)\n",
      " |  \n",
      " |  adjoint(self)\n",
      " |      Make the adjoint of the current Gate (always a copy).\n",
      " |      \n",
      " |      Returns:\n",
      " |          (Gate): a Gate representing the adjoint of the current Gate\n",
      " |      \n",
      " |          * If ``self.involuntary`` is `True`, a copy of ``self`` is returned.\n",
      " |      \n",
      " |          * Else if ``self.adjoint_function`` is not `None`, ``self.adjoint_function(self.parameters)`` is called and used to return the desired Gate.\n",
      " |      \n",
      " |          * Else an extended copy of the current Gate with property dressed adjoint ``operator_function`` and `'^+'` added to name and ``ascii_symbols`` is returned (always works correctly, but `'^+^+^+'` runs build up under repeated calls to adjoint).\n",
      " |  \n",
      " |  apply_to_statevector(self, statevector1, statevector2, qubits, dtype=<class 'numpy.complex128'>)\n",
      " |      Apply this gate to **statevector1**, acting on qubit indices in **qubits**,\n",
      " |      and return the result, along with a scratch statevector. Ideally, no\n",
      " |      statevector allocations will be performed in the course of this operation\n",
      " |      - a scratch statevector is provided as input to help with this.\n",
      " |      \n",
      " |      Either or both of **statevector1** and **statevector2** may be modified.\n",
      " |      One of them is modified to contain the resultant statevector, and\n",
      " |      then this output statevector and the new scratch statevector are returned.\n",
      " |      \n",
      " |      Args:\n",
      " |          statevector1 (``np.ndarray``, shape `2**N`): input statevector\n",
      " |          statevector2 (``np.ndarray``, shape `2**N`): scratch statevector\n",
      " |          qubits (iterable of `ints`, size ``self.nqubit``): qubit indices to apply this gate to\n",
      " |          dtype (real or complex dtype): the dtype to perform the computation at. The gate operator\n",
      " |              will be cast to this dtype. Note that using real dtypes (`float64` \n",
      " |              or `float32`) can reduce storage and runtime, but the imaginary parts\n",
      " |              of the input wfn and all gate unitary operators will be discarded\n",
      " |              without checking. In these cases, the user is responsible for\n",
      " |              ensuring that the circuit works on `O(2^N)` rather than `U(2^N)`\n",
      " |              and that the output is valid. (default - `np.complex128`)\n",
      " |      \n",
      " |      Returns:\n",
      " |          ``np.ndarray``, shape `2**N`: **output**, **scratch** - output statevector, then scratch statevector\n",
      " |  \n",
      " |  copy(self)\n",
      " |      Make a deep copy of the current Gate. \n",
      " |      \n",
      " |      Returns:\n",
      " |          Gate: a copy of this Gate whose parameters may be modified without\n",
      " |          modifying the parameters of ``self``.\n",
      " |  \n",
      " |  exploded_gates(self)\n",
      " |  \n",
      " |  set_parameter(self, key, value)\n",
      " |      Set the value of a parameter of this Gate. The result is\n",
      " |      ``self.parameters[key]`` = **value**.\n",
      " |      \n",
      " |      Args:\n",
      " |          key (str): the key of the parameter\n",
      " |          value (float): the value of the parameter\n",
      " |      \n",
      " |      Raises:\n",
      " |          RuntimeError: if the Gate does not have a parameter corresponding to **key**.\n",
      " |  \n",
      " |  set_parameters(self, parameters)\n",
      " |      Set the values of multiple parameters of this Gate. ``self.parameters`` \n",
      " |      is updated with the contents of **parameters** by calling ``self.set_parameter`` \n",
      " |      for each key/value pair.\n",
      " |      \n",
      " |      Args:\n",
      " |          parameters (dict of str : float): dict of parameter values\n",
      " |  \n",
      " |  test_operator_equivalence(gate1, gate2, operator_tolerance=1e-12)\n",
      " |      Test if the operator matrices of two gates are numerically\n",
      " |      equivalent to within a maximum absolute derivation of **operator_tolerance**.\n",
      " |      \n",
      " |      Note that the gates might still have different recipes, but produce the\n",
      " |      same operator. Therefore, this definition should be considered to be an\n",
      " |      intermediate level of equivalence.\n",
      " |      \n",
      " |      Args:\n",
      " |          gate1 (Gate): first gate to compare\n",
      " |          gate2 (Gate): second gate to compare\n",
      " |          operator_tolerance (float): maximum absolute deviation threshold for \n",
      " |              declaring Gate operator matrices to be identical. (default - `1.0E-12`)\n",
      " |      \n",
      " |      Returns:\n",
      " |          bool: True` if the gates are equivalent under the definition \n",
      " |          above, else `False`.\n",
      " |  \n",
      " |  ----------------------------------------------------------------------\n",
      " |  Class methods defined here:\n",
      " |  \n",
      " |  unchecked_gate(nqubit, operator_function, parameters, name, ascii_symbols, involutary=False, adjoint_function=None) from builtins.type\n",
      " |      Creates a gate by forcibly bypassing all validation checks, to increase\n",
      " |      performance in cases where the gate is known to be valid (for example,\n",
      " |      creation of \"stock\" gates or serialization)\n",
      " |  \n",
      " |  ----------------------------------------------------------------------\n",
      " |  Static methods defined here:\n",
      " |  \n",
      " |  CF = _CF(theta=0.0)\n",
      " |      Controlled F gate\n",
      " |  \n",
      " |  G = _GateG(theta=0.0)\n",
      " |      Givens Gate defined as\n",
      " |      \n",
      " |        [ 1  0           0            0 ]\n",
      " |        [ 0  cos(theta)  sin(theta)   0 ]\n",
      " |        [ 0  -sin(theta) cos(theta)   0 ]\n",
      " |        [ 0  0           0            1 ]\n",
      " |  \n",
      " |  PX = _GatePX(theta=0.0)\n",
      " |      Pair exchange gate (4-qubit Givens gate).\n",
      " |  \n",
      " |  RBS = _GateRBS(theta=0.0)\n",
      " |      Reconfigurable Beam Splitter gate; defined as\n",
      " |      \n",
      " |      .. code-block:: python\n",
      " |          \n",
      " |         [ 1  0           0           0 ]\n",
      " |         [ 0  cos(theta)  sin(theta)  0 ]\n",
      " |         [ 0  -sin(theta) cos(theta)  0 ]\n",
      " |         [ 0  0           0           1 ]\n",
      " |  \n",
      " |  Rx = _GateRx(theta=0.0)\n",
      " |      Rx (theta) = ``exp(-i * theta * x)``\n",
      " |  \n",
      " |  Ry = _GateRy(theta=0.0)\n",
      " |      Ry (theta) = ``exp(-i * theta * Y)``\n",
      " |  \n",
      " |  Rz = _GateRz(theta=0.0)\n",
      " |      Rz (theta) = ``exp(-i * theta * Z)``\n",
      " |  \n",
      " |  SO4 = _GateSO4(A=0.0, B=0.0, C=0.0, D=0.0, E=0.0, F=0.0)\n",
      " |  \n",
      " |  SO42 = _GateSO42(thetaIY=0.0, thetaYI=0.0, thetaXY=0.0, thetaYX=0.0, thetaZY=0.0, thetaYZ=0.0)\n",
      " |  \n",
      " |  U1 = _GateU1(U)\n",
      " |      An explicit 1-body gate that is specified by the user.\n",
      " |  \n",
      " |  U2 = _GateU2(U)\n",
      " |      An explicit 2-body gate that is specified by the user.\n",
      " |  \n",
      " |  U4 = _GateU4(U)\n",
      " |      An explicit 4-body gate that is specified by the user.\n",
      " |  \n",
      " |  iRBS = _GateiRBS(theta=0.0)\n",
      " |  \n",
      " |  u1 = _Gateu1(lam=0.0)\n",
      " |  \n",
      " |  u2 = _Gateu2(phi=0.0, lam=0.0)\n",
      " |  \n",
      " |  u3 = _Gateu3(theta=0.0, phi=0.0, lam=0.0)\n",
      " |  \n",
      " |  ----------------------------------------------------------------------\n",
      " |  Readonly properties defined here:\n",
      " |  \n",
      " |  is_composite\n",
      " |      bool: Is this Gate :class:`quasar.circuit.CompositeGate` (containing subgates) (always `False`)\n",
      " |  \n",
      " |  is_controlled\n",
      " |      bool: Is this Gate :class:`quasar.circuit.ControlledGate` (containing controls + Gate) (always `False`)\n",
      " |  \n",
      " |  nparameter\n",
      " |      int: Total number of parameters in this Gate\n",
      " |  \n",
      " |  ntime\n",
      " |      int: Number of time indices occupied by this Gate (always `1`)\n",
      " |  \n",
      " |  operator\n",
      " |      ``np.ndarray``, shape `(2**N,)*2`: The `(2**N,)*2` operator (unitary) matrix underlying this Gate,\n",
      " |      built from the current parameter state. \n",
      " |      \n",
      " |      The action of the gate on a given state is given graphically as,\n",
      " |      \n",
      " |          .. math:: | \\Psi > -G- | \\Psi' >\n",
      " |      \n",
      " |      and mathematically as,\n",
      " |      \n",
      " |          .. math:: | \\Psi_I' > = \\sum_J U_IJ | \\Psi_J >\n",
      " |  \n",
      " |  ----------------------------------------------------------------------\n",
      " |  Data descriptors defined here:\n",
      " |  \n",
      " |  __dict__\n",
      " |      dictionary for instance variables (if defined)\n",
      " |  \n",
      " |  __weakref__\n",
      " |      list of weak references to the object (if defined)\n",
      " |  \n",
      " |  ----------------------------------------------------------------------\n",
      " |  Data and other attributes defined here:\n",
      " |  \n",
      " |  CCX = <quasar.circuit.Gate object>\n",
      " |  \n",
      " |  CS = <quasar.circuit.Gate object>\n",
      " |  \n",
      " |  CST = <quasar.circuit.Gate object>\n",
      " |  \n",
      " |  CSWAP = <quasar.circuit.Gate object>\n",
      " |  \n",
      " |  CX = <quasar.circuit.Gate object>\n",
      " |  \n",
      " |  CY = <quasar.circuit.Gate object>\n",
      " |  \n",
      " |  CZ = <quasar.circuit.Gate object>\n",
      " |  \n",
      " |  H = <quasar.circuit.Gate object>\n",
      " |  \n",
      " |  I = <quasar.circuit.Gate object>\n",
      " |  \n",
      " |  Rx2 = <quasar.circuit.Gate object>\n",
      " |  \n",
      " |  Rx2T = <quasar.circuit.Gate object>\n",
      " |  \n",
      " |  S = <quasar.circuit.Gate object>\n",
      " |  \n",
      " |  ST = <quasar.circuit.Gate object>\n",
      " |  \n",
      " |  SWAP = <quasar.circuit.Gate object>\n",
      " |  \n",
      " |  T = <quasar.circuit.Gate object>\n",
      " |  \n",
      " |  TT = <quasar.circuit.Gate object>\n",
      " |  \n",
      " |  X = <quasar.circuit.Gate object>\n",
      " |  \n",
      " |  Y = <quasar.circuit.Gate object>\n",
      " |  \n",
      " |  Z = <quasar.circuit.Gate object>\n",
      "\n"
     ]
    }
   ],
   "source": [
    "help(quasar.Gate)"
   ]
  },
  {
   "cell_type": "markdown",
   "metadata": {},
   "source": [
    "## Matrix Library\n",
    "We also provide a utility library of common matrices used to build many of the above gates in the `Matrix` class. For instance:"
   ]
  },
  {
   "cell_type": "code",
   "execution_count": 31,
   "metadata": {
    "execution": {
     "iopub.execute_input": "2022-02-16T05:07:00.267991Z",
     "iopub.status.busy": "2022-02-16T05:07:00.267056Z",
     "iopub.status.idle": "2022-02-16T05:07:00.272534Z",
     "shell.execute_reply": "2022-02-16T05:07:00.273387Z"
    }
   },
   "outputs": [
    {
     "name": "stdout",
     "output_type": "stream",
     "text": [
      "[[1.+0.j 0.+0.j 0.+0.j 0.+0.j]\n",
      " [0.+0.j 1.+0.j 0.+0.j 0.+0.j]\n",
      " [0.+0.j 0.+0.j 0.+0.j 1.+0.j]\n",
      " [0.+0.j 0.+0.j 1.+0.j 0.+0.j]]\n"
     ]
    }
   ],
   "source": [
    "print(quasar.Matrix.CX)"
   ]
  },
  {
   "cell_type": "code",
   "execution_count": 32,
   "metadata": {
    "execution": {
     "iopub.execute_input": "2022-02-16T05:07:00.278182Z",
     "iopub.status.busy": "2022-02-16T05:07:00.277071Z",
     "iopub.status.idle": "2022-02-16T05:07:00.282458Z",
     "shell.execute_reply": "2022-02-16T05:07:00.283204Z"
    }
   },
   "outputs": [
    {
     "name": "stdout",
     "output_type": "stream",
     "text": [
      "[[0.70710678+0.j         0.        -0.70710678j]\n",
      " [0.        -0.70710678j 0.70710678+0.j        ]]\n"
     ]
    }
   ],
   "source": [
    "print(quasar.Matrix.Rx(theta=np.pi/4.0))"
   ]
  },
  {
   "cell_type": "code",
   "execution_count": 33,
   "metadata": {
    "execution": {
     "iopub.execute_input": "2022-02-16T05:07:00.287867Z",
     "iopub.status.busy": "2022-02-16T05:07:00.286906Z",
     "iopub.status.idle": "2022-02-16T05:07:00.292524Z",
     "shell.execute_reply": "2022-02-16T05:07:00.295904Z"
    }
   },
   "outputs": [
    {
     "name": "stdout",
     "output_type": "stream",
     "text": [
      "[[ 0.98877108+0.j         -0.14869156-0.01491892j]\n",
      " [ 0.14645932+0.02968877j  0.94460909+0.29220183j]]\n"
     ]
    }
   ],
   "source": [
    "print(quasar.Matrix.u3(theta=0.3, phi=0.2, lam=0.1))"
   ]
  },
  {
   "cell_type": "markdown",
   "metadata": {},
   "source": [
    "To see the list of available matrices:"
   ]
  },
  {
   "cell_type": "code",
   "execution_count": 34,
   "metadata": {
    "execution": {
     "iopub.execute_input": "2022-02-16T05:07:00.304321Z",
     "iopub.status.busy": "2022-02-16T05:07:00.301033Z",
     "iopub.status.idle": "2022-02-16T05:07:00.334699Z",
     "shell.execute_reply": "2022-02-16T05:07:00.334123Z"
    }
   },
   "outputs": [
    {
     "name": "stdout",
     "output_type": "stream",
     "text": [
      "Help on class Matrix in module quasar.circuit:\n",
      "\n",
      "class Matrix(builtins.object)\n",
      " |  Class Matrix holds several common matrices encountered in quantum circuits.\n",
      " |  \n",
      " |  These matrices are stored in ``np.ndarray`` with ``dtype=np.complex128``.\n",
      " |  \n",
      " |  The naming/ordering of the matrices in Quasar follows that of Nielsen and\n",
      " |  Chuang, *except* that rotation matrices are specfied in full turns:\n",
      " |  \n",
      " |      Rz(theta) = ``exp(-i*theta*Z)``\n",
      " |  \n",
      " |  whereas Nielsen and Chuang define these in half turns:\n",
      " |  \n",
      " |      Rz^NC(theta) = ``exp(-i*theta*Z/2)``\n",
      " |  \n",
      " |  Static methods defined here:\n",
      " |  \n",
      " |  G(theta=0.0)\n",
      " |      The 2-qubit Givens matrix\n",
      " |      \n",
      " |      Params:\n",
      " |          theta (float) - rotation angle.\n",
      " |      Returns:\n",
      " |          (np.ndarray) - G matrix for the specified value of theta.\n",
      " |  \n",
      " |  PX(theta=0.0)\n",
      " |      The 4-qubit pair-exchange gate.\n",
      " |      \n",
      " |      4-qubit Givens rotation.\n",
      " |      \n",
      " |      Params:\n",
      " |          theta (float) - rotation angle.\n",
      " |      Returns:\n",
      " |          (np.ndarray) - PX matrix for the specified value of theta.\n",
      " |  \n",
      " |  R_ion(theta=0.0, phi=0.0)\n",
      " |  \n",
      " |  Rx(theta=0.0)\n",
      " |      The 1-qubit Rx (rotation about X) matrix\n",
      " |      \n",
      " |      Defined as,\n",
      " |      \n",
      " |          U = ``exp(-i*theta*X)``\n",
      " |      \n",
      " |      Args:\n",
      " |          theta (float): rotation angle (default - `0.0`)\n",
      " |      \n",
      " |      Returns:\n",
      " |          ``np.ndarray``: Rx matrix for the specified value of **theta**\n",
      " |  \n",
      " |  Ry(theta=0.0)\n",
      " |      The 1-qubit Ry (rotation about Y) matrix\n",
      " |      \n",
      " |      Defined as,\n",
      " |      \n",
      " |          U = ``exp(-i*theta*Y)``\n",
      " |      \n",
      " |      Args:\n",
      " |          theta (float): rotation angle (default - `0.0`)\n",
      " |      \n",
      " |      Returns:\n",
      " |          ``np.ndarray``: Ry matrix for the specified value of **theta**\n",
      " |  \n",
      " |  Rz(theta=0.0)\n",
      " |      The 1-qubit Rz (rotation about Z) matrix\n",
      " |      \n",
      " |      Defined as,\n",
      " |      \n",
      " |          U = ``exp(-i*theta*Z)``\n",
      " |      \n",
      " |      Args:\n",
      " |          theta (float): rotation angle (default - `0.0`)\n",
      " |      \n",
      " |      Returns:\n",
      " |          ``np.ndarray``: Rz matrix for the specified value of **theta**\n",
      " |  \n",
      " |  Rz_ion(theta=0.0)\n",
      " |  \n",
      " |  XX_ion(chi=0.0)\n",
      " |  \n",
      " |  u1(lam=0.0)\n",
      " |  \n",
      " |  u2(phi=0.0, lam=0.0)\n",
      " |  \n",
      " |  u3(theta=0.0, phi=0.0, lam=0.0)\n",
      " |  \n",
      " |  ----------------------------------------------------------------------\n",
      " |  Data descriptors defined here:\n",
      " |  \n",
      " |  __dict__\n",
      " |      dictionary for instance variables (if defined)\n",
      " |  \n",
      " |  __weakref__\n",
      " |      list of weak references to the object (if defined)\n",
      " |  \n",
      " |  ----------------------------------------------------------------------\n",
      " |  Data and other attributes defined here:\n",
      " |  \n",
      " |  CCX = array([[1.+0.j, 0.+0.j, 0.+0.j, 0.+0.j, 0.+0.j, ...0.+0.j, 0.+0....\n",
      " |  \n",
      " |  CS = array([[1.+0.j, 0.+0.j, 0.+0.j, 0.+0.j],\n",
      " |         ....+0.j],\n",
      " |        ...\n",
      " |  \n",
      " |  CST = array([[ 1.+0.j,  0.+0.j,  0.+0.j,  0.+0.j],\n",
      " |     ...j],\n",
      " |         [ ...\n",
      " |  \n",
      " |  CSWAP = array([[1.+0.j, 0.+0.j, 0.+0.j, 0.+0.j, 0.+0.j, ...0.+0.j, 0.+...\n",
      " |  \n",
      " |  CX = array([[1.+0.j, 0.+0.j, 0.+0.j, 0.+0.j],\n",
      " |         ....+0.j],\n",
      " |        ...\n",
      " |  \n",
      " |  CY = array([[ 1.+0.j,  0.+0.j,  0.+0.j,  0.+0.j],\n",
      " |     ...j],\n",
      " |         [ 0...\n",
      " |  \n",
      " |  CZ = array([[ 1.+0.j,  0.+0.j,  0.+0.j,  0.+0.j],\n",
      " |     ...j],\n",
      " |         [ 0...\n",
      " |  \n",
      " |  H = array([[ 0.70710678+0.j,  0.70710678+0.j],\n",
      " |         [ 0.70710678+0.j...\n",
      " |  \n",
      " |  I = array([[1.+0.j, 0.+0.j],\n",
      " |         [0.+0.j, 1.+0.j]])\n",
      " |  \n",
      " |  II = array([[1.+0.j, 0.+0.j, 0.+0.j, 0.+0.j],\n",
      " |         ....+0.j],\n",
      " |        ...\n",
      " |  \n",
      " |  IX = array([[0.+0.j, 1.+0.j, 0.+0.j, 0.+0.j],\n",
      " |         ....+0.j],\n",
      " |        ...\n",
      " |  \n",
      " |  IY = array([[0.+0.j, 0.-1.j, 0.+0.j, 0.-0.j],\n",
      " |         ....-1.j],\n",
      " |        ...\n",
      " |  \n",
      " |  IZ = array([[ 1.+0.j,  0.+0.j,  0.+0.j,  0.+0.j],\n",
      " |     ...j],\n",
      " |         [ 0...\n",
      " |  \n",
      " |  Rx2 = array([[0.70710678+0.j        , 0.        +0.707...0.        +0....\n",
      " |  \n",
      " |  Rx2T = array([[0.70710678+0.j        , 0.        -0.707...0.        -0...\n",
      " |  \n",
      " |  S = array([[1.+0.j, 0.+0.j],\n",
      " |         [0.+0.j, 0.+1.j]])\n",
      " |  \n",
      " |  ST = array([[ 1.+0.j,  0.+0.j],\n",
      " |         [ 0.+0.j, -0.-1.j]])\n",
      " |  \n",
      " |  SWAP = array([[1.+0.j, 0.+0.j, 0.+0.j, 0.+0.j],\n",
      " |         ....+0.j],\n",
      " |      ...\n",
      " |  \n",
      " |  T = array([[1.        +0.j        , 0.        +0.j  ...0.        +0.j ...\n",
      " |  \n",
      " |  TT = array([[1.        +0.j        , 0.        +0.j  ...0.        +0.j...\n",
      " |  \n",
      " |  X = array([[0.+0.j, 1.+0.j],\n",
      " |         [1.+0.j, 0.+0.j]])\n",
      " |  \n",
      " |  XI = array([[0.+0.j, 0.+0.j, 1.+0.j, 0.+0.j],\n",
      " |         ....+0.j],\n",
      " |        ...\n",
      " |  \n",
      " |  XX = array([[0.+0.j, 0.+0.j, 0.+0.j, 1.+0.j],\n",
      " |         ....+0.j],\n",
      " |        ...\n",
      " |  \n",
      " |  XY = array([[0.+0.j, 0.-0.j, 0.+0.j, 0.-1.j],\n",
      " |         ....-0.j],\n",
      " |        ...\n",
      " |  \n",
      " |  XZ = array([[ 0.+0.j,  0.+0.j,  1.+0.j,  0.+0.j],\n",
      " |     ...j],\n",
      " |         [ 0...\n",
      " |  \n",
      " |  Y = array([[ 0.+0.j, -0.-1.j],\n",
      " |         [ 0.+1.j,  0.+0.j]])\n",
      " |  \n",
      " |  YI = array([[0.+0.j, 0.+0.j, 0.-1.j, 0.-0.j],\n",
      " |         ....+0.j],\n",
      " |        ...\n",
      " |  \n",
      " |  YX = array([[0.+0.j, 0.+0.j, 0.-0.j, 0.-1.j],\n",
      " |         ....+0.j],\n",
      " |        ...\n",
      " |  \n",
      " |  YY = array([[ 0.+0.j,  0.-0.j,  0.-0.j, -1.+0.j],\n",
      " |     ...j],\n",
      " |         [-1...\n",
      " |  \n",
      " |  YZ = array([[ 0.+0.j,  0.+0.j,  0.-1.j,  0.-0.j],\n",
      " |     ...j],\n",
      " |         [ 0...\n",
      " |  \n",
      " |  Z = array([[ 1.+0.j,  0.+0.j],\n",
      " |         [ 0.+0.j, -1.+0.j]])\n",
      " |  \n",
      " |  ZI = array([[ 1.+0.j,  0.+0.j,  0.+0.j,  0.+0.j],\n",
      " |     ...j],\n",
      " |         [ 0...\n",
      " |  \n",
      " |  ZX = array([[ 0.+0.j,  1.+0.j,  0.+0.j,  0.+0.j],\n",
      " |     ...j],\n",
      " |         [ 0...\n",
      " |  \n",
      " |  ZY = array([[ 0.+0.j,  0.-1.j,  0.+0.j,  0.-0.j],\n",
      " |     ...j],\n",
      " |         [ 0...\n",
      " |  \n",
      " |  ZZ = array([[ 1.+0.j,  0.+0.j,  0.+0.j,  0.+0.j],\n",
      " |     ...j],\n",
      " |         [ 0...\n",
      "\n"
     ]
    }
   ],
   "source": [
    "help(quasar.Matrix)"
   ]
  }
 ],
 "metadata": {
  "kernelspec": {
   "display_name": "Python 3",
   "language": "python",
   "name": "python3"
  },
  "language_info": {
   "codemirror_mode": {
    "name": "ipython",
    "version": 3
   },
   "file_extension": ".py",
   "mimetype": "text/x-python",
   "name": "python",
   "nbconvert_exporter": "python",
   "pygments_lexer": "ipython3",
   "version": "3.9.2"
  }
 },
 "nbformat": 4,
 "nbformat_minor": 4
}
