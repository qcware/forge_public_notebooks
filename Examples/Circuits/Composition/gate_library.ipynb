{
 "cells": [
  {
   "cell_type": "markdown",
   "metadata": {},
   "source": [
    "# Quasar Gate Library\n",
    "Any function which can generate a $2^N \\times 2^N$ unitary matrix $\\hat U$ for $N\\in\\{1,2\\}$ from an `OrderedDict` of parameters can be adapted to be used as a `Gate` object within quasar (see the custom gate demo: [quasar-custom-gates.ipynb](quasar-custom-gates.ipynb)). However, in QIS, there are a handful of extremely common gates that one expects in any quantum simulator environment. We provide these as static attributes (for parameter-free gates) or static methods (for parameter-including gates) of the `Gate` class. This tutorial enumerates the existing names quasar gate library.\n",
    "\n",
    "Note: quasar uses the convention $\\hat R_{\\hat P} (\\theta) \\equiv \\exp(-i \\theta \\hat P)$ to define rotation matrices. Other codes may use the \"half-turn notation\" $\\hat R_{\\hat P} (\\theta) \\equiv \\exp(-i (\\theta / 2) \\hat P)$."
   ]
  },
  {
   "cell_type": "code",
   "execution_count": 1,
   "metadata": {
    "execution": {
     "iopub.execute_input": "2021-11-27T05:07:30.287118Z",
     "iopub.status.busy": "2021-11-27T05:07:30.286210Z",
     "iopub.status.idle": "2021-11-27T05:07:30.897111Z",
     "shell.execute_reply": "2021-11-27T05:07:30.896102Z"
    }
   },
   "outputs": [],
   "source": [
    "from qcware import forge\n",
    "# this line is for internal tracking; it is not necessary for use!\n",
    "forge.config.set_environment_source_file('gate_library.ipynb')\n",
    "\n",
    "import numpy as np\n",
    "import quasar"
   ]
  },
  {
   "cell_type": "markdown",
   "metadata": {},
   "source": [
    "## 1-Qubit Parameter-Free Gates\n",
    "The $\\hat I$ (identity) gate:"
   ]
  },
  {
   "cell_type": "code",
   "execution_count": 2,
   "metadata": {
    "execution": {
     "iopub.execute_input": "2021-11-27T05:07:30.903465Z",
     "iopub.status.busy": "2021-11-27T05:07:30.902860Z",
     "iopub.status.idle": "2021-11-27T05:07:30.908743Z",
     "shell.execute_reply": "2021-11-27T05:07:30.908277Z"
    }
   },
   "outputs": [
    {
     "name": "stdout",
     "output_type": "stream",
     "text": [
      "[[1.+0.j 0.+0.j]\n",
      " [0.+0.j 1.+0.j]]\n"
     ]
    }
   ],
   "source": [
    "print(quasar.Gate.I.operator)"
   ]
  },
  {
   "cell_type": "markdown",
   "metadata": {},
   "source": [
    "The $\\hat X$ (NOT) gate:"
   ]
  },
  {
   "cell_type": "code",
   "execution_count": 3,
   "metadata": {
    "execution": {
     "iopub.execute_input": "2021-11-27T05:07:30.914225Z",
     "iopub.status.busy": "2021-11-27T05:07:30.913605Z",
     "iopub.status.idle": "2021-11-27T05:07:30.919632Z",
     "shell.execute_reply": "2021-11-27T05:07:30.919030Z"
    }
   },
   "outputs": [
    {
     "name": "stdout",
     "output_type": "stream",
     "text": [
      "[[0.+0.j 1.+0.j]\n",
      " [1.+0.j 0.+0.j]]\n"
     ]
    }
   ],
   "source": [
    "print(quasar.Gate.X.operator)"
   ]
  },
  {
   "cell_type": "markdown",
   "metadata": {},
   "source": [
    "The $\\hat Y$ gate:"
   ]
  },
  {
   "cell_type": "code",
   "execution_count": 4,
   "metadata": {
    "execution": {
     "iopub.execute_input": "2021-11-27T05:07:30.925463Z",
     "iopub.status.busy": "2021-11-27T05:07:30.924616Z",
     "iopub.status.idle": "2021-11-27T05:07:30.929617Z",
     "shell.execute_reply": "2021-11-27T05:07:30.928857Z"
    }
   },
   "outputs": [
    {
     "name": "stdout",
     "output_type": "stream",
     "text": [
      "[[ 0.+0.j -0.-1.j]\n",
      " [ 0.+1.j  0.+0.j]]\n"
     ]
    }
   ],
   "source": [
    "print(quasar.Gate.Y.operator)"
   ]
  },
  {
   "cell_type": "markdown",
   "metadata": {},
   "source": [
    "The $\\hat Z$ gate:"
   ]
  },
  {
   "cell_type": "code",
   "execution_count": 5,
   "metadata": {
    "execution": {
     "iopub.execute_input": "2021-11-27T05:07:30.935991Z",
     "iopub.status.busy": "2021-11-27T05:07:30.934217Z",
     "iopub.status.idle": "2021-11-27T05:07:30.938669Z",
     "shell.execute_reply": "2021-11-27T05:07:30.939435Z"
    }
   },
   "outputs": [
    {
     "name": "stdout",
     "output_type": "stream",
     "text": [
      "[[ 1.+0.j  0.+0.j]\n",
      " [ 0.+0.j -1.+0.j]]\n"
     ]
    }
   ],
   "source": [
    "print(quasar.Gate.Z.operator)"
   ]
  },
  {
   "cell_type": "markdown",
   "metadata": {},
   "source": [
    "The $\\hat H$ (Hadamard) gate:"
   ]
  },
  {
   "cell_type": "code",
   "execution_count": 6,
   "metadata": {
    "execution": {
     "iopub.execute_input": "2021-11-27T05:07:30.945174Z",
     "iopub.status.busy": "2021-11-27T05:07:30.944307Z",
     "iopub.status.idle": "2021-11-27T05:07:30.948541Z",
     "shell.execute_reply": "2021-11-27T05:07:30.949235Z"
    }
   },
   "outputs": [
    {
     "name": "stdout",
     "output_type": "stream",
     "text": [
      "[[ 0.70710678+0.j  0.70710678+0.j]\n",
      " [ 0.70710678+0.j -0.70710678+0.j]]\n"
     ]
    }
   ],
   "source": [
    "print(quasar.Gate.H.operator)"
   ]
  },
  {
   "cell_type": "markdown",
   "metadata": {},
   "source": [
    "The $\\hat S$ (phase) gate:"
   ]
  },
  {
   "cell_type": "code",
   "execution_count": 7,
   "metadata": {
    "execution": {
     "iopub.execute_input": "2021-11-27T05:07:30.954906Z",
     "iopub.status.busy": "2021-11-27T05:07:30.954046Z",
     "iopub.status.idle": "2021-11-27T05:07:30.957714Z",
     "shell.execute_reply": "2021-11-27T05:07:30.958509Z"
    }
   },
   "outputs": [
    {
     "name": "stdout",
     "output_type": "stream",
     "text": [
      "[[1.+0.j 0.+0.j]\n",
      " [0.+0.j 0.+1.j]]\n"
     ]
    }
   ],
   "source": [
    "print(quasar.Gate.S.operator)"
   ]
  },
  {
   "cell_type": "markdown",
   "metadata": {},
   "source": [
    "The $\\hat S^{\\dagger}$ (phase-adjoint) gate:"
   ]
  },
  {
   "cell_type": "code",
   "execution_count": 8,
   "metadata": {
    "execution": {
     "iopub.execute_input": "2021-11-27T05:07:30.963945Z",
     "iopub.status.busy": "2021-11-27T05:07:30.963292Z",
     "iopub.status.idle": "2021-11-27T05:07:30.967406Z",
     "shell.execute_reply": "2021-11-27T05:07:30.966641Z"
    }
   },
   "outputs": [
    {
     "name": "stdout",
     "output_type": "stream",
     "text": [
      "[[ 1.+0.j  0.+0.j]\n",
      " [ 0.+0.j -0.-1.j]]\n"
     ]
    }
   ],
   "source": [
    "print(quasar.Gate.ST.operator)"
   ]
  },
  {
   "cell_type": "markdown",
   "metadata": {},
   "source": [
    "The $\\hat T$ gate:"
   ]
  },
  {
   "cell_type": "code",
   "execution_count": 9,
   "metadata": {
    "execution": {
     "iopub.execute_input": "2021-11-27T05:07:30.973482Z",
     "iopub.status.busy": "2021-11-27T05:07:30.972595Z",
     "iopub.status.idle": "2021-11-27T05:07:30.977571Z",
     "shell.execute_reply": "2021-11-27T05:07:30.976933Z"
    }
   },
   "outputs": [
    {
     "name": "stdout",
     "output_type": "stream",
     "text": [
      "[[1.        +0.j         0.        +0.j        ]\n",
      " [0.        +0.j         0.70710678+0.70710678j]]\n"
     ]
    }
   ],
   "source": [
    "print(quasar.Gate.T.operator)"
   ]
  },
  {
   "cell_type": "markdown",
   "metadata": {},
   "source": [
    "The $\\hat T^{\\dagger}$ gate:"
   ]
  },
  {
   "cell_type": "code",
   "execution_count": 10,
   "metadata": {
    "execution": {
     "iopub.execute_input": "2021-11-27T05:07:30.982904Z",
     "iopub.status.busy": "2021-11-27T05:07:30.981984Z",
     "iopub.status.idle": "2021-11-27T05:07:30.985336Z",
     "shell.execute_reply": "2021-11-27T05:07:30.985899Z"
    }
   },
   "outputs": [
    {
     "name": "stdout",
     "output_type": "stream",
     "text": [
      "[[1.        +0.j         0.        +0.j        ]\n",
      " [0.        +0.j         0.70710678-0.70710678j]]\n"
     ]
    }
   ],
   "source": [
    "print(quasar.Gate.TT.operator)"
   ]
  },
  {
   "cell_type": "markdown",
   "metadata": {},
   "source": [
    "The $\\hat R_x (\\theta = -\\pi / 4) = \\exp(+i (\\pi / 4) \\hat X)$ gate (transforms to $\\hat Y$ basis): "
   ]
  },
  {
   "cell_type": "code",
   "execution_count": 11,
   "metadata": {
    "execution": {
     "iopub.execute_input": "2021-11-27T05:07:30.991510Z",
     "iopub.status.busy": "2021-11-27T05:07:30.990633Z",
     "iopub.status.idle": "2021-11-27T05:07:30.993932Z",
     "shell.execute_reply": "2021-11-27T05:07:30.994414Z"
    }
   },
   "outputs": [
    {
     "name": "stdout",
     "output_type": "stream",
     "text": [
      "[[0.70710678+0.j         0.        +0.70710678j]\n",
      " [0.        +0.70710678j 0.70710678+0.j        ]]\n"
     ]
    }
   ],
   "source": [
    "print(quasar.Gate.Rx2.operator)"
   ]
  },
  {
   "cell_type": "markdown",
   "metadata": {},
   "source": [
    "The $\\hat R_x (\\theta = +\\pi / 4) = \\exp(-i (\\pi / 4) \\hat X)$ gate (transforms from the $\\hat Y$ basis): "
   ]
  },
  {
   "cell_type": "code",
   "execution_count": 12,
   "metadata": {
    "execution": {
     "iopub.execute_input": "2021-11-27T05:07:31.000227Z",
     "iopub.status.busy": "2021-11-27T05:07:30.999423Z",
     "iopub.status.idle": "2021-11-27T05:07:31.002670Z",
     "shell.execute_reply": "2021-11-27T05:07:31.003354Z"
    }
   },
   "outputs": [
    {
     "name": "stdout",
     "output_type": "stream",
     "text": [
      "[[0.70710678+0.j         0.        -0.70710678j]\n",
      " [0.        -0.70710678j 0.70710678+0.j        ]]\n"
     ]
    }
   ],
   "source": [
    "print(quasar.Gate.Rx2T.operator)"
   ]
  },
  {
   "cell_type": "markdown",
   "metadata": {},
   "source": [
    "## 1-Qubit Parameter-Based Gates\n",
    "The $\\hat R_x (\\theta) \\equiv \\exp(-i \\theta \\hat X)$ gate:"
   ]
  },
  {
   "cell_type": "code",
   "execution_count": 13,
   "metadata": {
    "execution": {
     "iopub.execute_input": "2021-11-27T05:07:31.009020Z",
     "iopub.status.busy": "2021-11-27T05:07:31.008057Z",
     "iopub.status.idle": "2021-11-27T05:07:31.011471Z",
     "shell.execute_reply": "2021-11-27T05:07:31.012170Z"
    }
   },
   "outputs": [
    {
     "name": "stdout",
     "output_type": "stream",
     "text": [
      "[[0.70710678+0.j         0.        -0.70710678j]\n",
      " [0.        -0.70710678j 0.70710678+0.j        ]]\n"
     ]
    }
   ],
   "source": [
    "print(quasar.Gate.Rx(theta=np.pi/4.0).operator)"
   ]
  },
  {
   "cell_type": "markdown",
   "metadata": {},
   "source": [
    "The $\\hat R_y (\\theta) \\equiv \\exp(-i \\theta \\hat Y)$ gate:"
   ]
  },
  {
   "cell_type": "code",
   "execution_count": 14,
   "metadata": {
    "execution": {
     "iopub.execute_input": "2021-11-27T05:07:31.017520Z",
     "iopub.status.busy": "2021-11-27T05:07:31.016697Z",
     "iopub.status.idle": "2021-11-27T05:07:31.019979Z",
     "shell.execute_reply": "2021-11-27T05:07:31.020648Z"
    }
   },
   "outputs": [
    {
     "name": "stdout",
     "output_type": "stream",
     "text": [
      "[[ 0.70710678+0.j -0.70710678+0.j]\n",
      " [ 0.70710678+0.j  0.70710678+0.j]]\n"
     ]
    }
   ],
   "source": [
    "print(quasar.Gate.Ry(theta=np.pi/4.0).operator)"
   ]
  },
  {
   "cell_type": "markdown",
   "metadata": {},
   "source": [
    "The $\\hat R_z (\\theta) \\equiv \\exp(-i \\theta \\hat Z)$ gate:"
   ]
  },
  {
   "cell_type": "code",
   "execution_count": 15,
   "metadata": {
    "execution": {
     "iopub.execute_input": "2021-11-27T05:07:31.026429Z",
     "iopub.status.busy": "2021-11-27T05:07:31.025744Z",
     "iopub.status.idle": "2021-11-27T05:07:31.029557Z",
     "shell.execute_reply": "2021-11-27T05:07:31.028814Z"
    }
   },
   "outputs": [
    {
     "name": "stdout",
     "output_type": "stream",
     "text": [
      "[[0.70710678-0.70710678j 0.        +0.j        ]\n",
      " [0.        +0.j         0.70710678+0.70710678j]]\n"
     ]
    }
   ],
   "source": [
    "print(quasar.Gate.Rz(theta=np.pi/4.0).operator)"
   ]
  },
  {
   "cell_type": "markdown",
   "metadata": {},
   "source": [
    "The $u3(\\theta, \\phi, \\lambda)$ gate:\n",
    "\\begin{equation}\n",
    "u3(\\theta, \\phi, \\lambda)\n",
    "\\equiv\n",
    "\\left [\n",
    "\\begin{array}{cc}\n",
    "\\cos(\\theta / 2) & -e^{i \\phi} \\sin(\\theta / 2) \\\\\n",
    "+e^{i \\lambda} \\sin(\\theta / 2) & e^{i(\\phi + \\lambda)} \\cos(\\theta / 2) \\\\\n",
    "\\end{array}\n",
    "\\right ]\n",
    "\\end{equation}"
   ]
  },
  {
   "cell_type": "code",
   "execution_count": 16,
   "metadata": {
    "execution": {
     "iopub.execute_input": "2021-11-27T05:07:31.036192Z",
     "iopub.status.busy": "2021-11-27T05:07:31.035329Z",
     "iopub.status.idle": "2021-11-27T05:07:31.039674Z",
     "shell.execute_reply": "2021-11-27T05:07:31.038950Z"
    }
   },
   "outputs": [
    {
     "name": "stdout",
     "output_type": "stream",
     "text": [
      "[[ 0.96891242+0.j         -0.23635403-0.07311287j]\n",
      " [ 0.22787414+0.09634364j  0.7410651 +0.62419052j]]\n"
     ]
    }
   ],
   "source": [
    "print(quasar.Gate.u3(theta=0.5, phi=0.4, lam=0.3).operator)"
   ]
  },
  {
   "cell_type": "markdown",
   "metadata": {},
   "source": [
    "The $u2(\\phi, \\lambda) \\equiv u3(\\pi/2, \\phi, \\lambda)$ gate:\n",
    "\\begin{equation}\n",
    "u2(\\phi, \\lambda)\n",
    "\\equiv\n",
    "\\frac{1}{\\sqrt{2}}\n",
    "\\left [\n",
    "\\begin{array}{cc}\n",
    "1 & -e^{i \\phi}  \\\\\n",
    "+e^{i \\lambda} & e^{i(\\phi + \\lambda)} \\\\\n",
    "\\end{array}\n",
    "\\right ]\n",
    "\\end{equation}"
   ]
  },
  {
   "cell_type": "code",
   "execution_count": 17,
   "metadata": {
    "execution": {
     "iopub.execute_input": "2021-11-27T05:07:31.046561Z",
     "iopub.status.busy": "2021-11-27T05:07:31.045262Z",
     "iopub.status.idle": "2021-11-27T05:07:31.049492Z",
     "shell.execute_reply": "2021-11-27T05:07:31.050101Z"
    }
   },
   "outputs": [
    {
     "name": "stdout",
     "output_type": "stream",
     "text": [
      "[[ 0.70710678+0.j         -0.67552491-0.20896434j]\n",
      " [ 0.65128847+0.27536035j  0.5408251 +0.4555307j ]]\n",
      "[[ 0.70710678+0.j         -0.67552491-0.20896434j]\n",
      " [ 0.65128847+0.27536035j  0.5408251 +0.4555307j ]]\n"
     ]
    }
   ],
   "source": [
    "print(quasar.Gate.u2(phi=0.4, lam=0.3).operator)\n",
    "print(quasar.Gate.u3(theta=np.pi / 2.0, phi=0.4, lam=0.3).operator)"
   ]
  },
  {
   "cell_type": "markdown",
   "metadata": {},
   "source": [
    "The $u1(\\lambda) \\equiv u3(0, 0, \\lambda)$ gate:\n",
    "\\begin{equation}\n",
    "u1(\\lambda)\n",
    "\\equiv\n",
    "\\left [\n",
    "\\begin{array}{cc}\n",
    "1 & 0  \\\\\n",
    "0 & e^{i\\lambda} \\\\\n",
    "\\end{array}\n",
    "\\right ]\n",
    "\\end{equation}"
   ]
  },
  {
   "cell_type": "code",
   "execution_count": 18,
   "metadata": {
    "execution": {
     "iopub.execute_input": "2021-11-27T05:07:31.059485Z",
     "iopub.status.busy": "2021-11-27T05:07:31.058441Z",
     "iopub.status.idle": "2021-11-27T05:07:31.064116Z",
     "shell.execute_reply": "2021-11-27T05:07:31.063398Z"
    }
   },
   "outputs": [
    {
     "name": "stdout",
     "output_type": "stream",
     "text": [
      "[[1.        +0.j         0.        +0.j        ]\n",
      " [0.        +0.j         0.95533649+0.29552021j]]\n",
      "[[1.        +0.j         0.        -0.j        ]\n",
      " [0.        +0.j         0.95533649+0.29552021j]]\n"
     ]
    }
   ],
   "source": [
    "print(quasar.Gate.u1(lam=0.3).operator)\n",
    "print(quasar.Gate.u3(lam=0.3).operator)"
   ]
  },
  {
   "cell_type": "markdown",
   "metadata": {},
   "source": [
    "## 2-Qubit Parameter-Free Gates"
   ]
  },
  {
   "cell_type": "markdown",
   "metadata": {},
   "source": [
    "The controlled $\\hat X$ (aka CNOT) gate:"
   ]
  },
  {
   "cell_type": "code",
   "execution_count": 19,
   "metadata": {
    "execution": {
     "iopub.execute_input": "2021-11-27T05:07:31.069792Z",
     "iopub.status.busy": "2021-11-27T05:07:31.069176Z",
     "iopub.status.idle": "2021-11-27T05:07:31.071744Z",
     "shell.execute_reply": "2021-11-27T05:07:31.072225Z"
    }
   },
   "outputs": [
    {
     "name": "stdout",
     "output_type": "stream",
     "text": [
      "[[1.+0.j 0.+0.j 0.+0.j 0.+0.j]\n",
      " [0.+0.j 1.+0.j 0.+0.j 0.+0.j]\n",
      " [0.+0.j 0.+0.j 0.+0.j 1.+0.j]\n",
      " [0.+0.j 0.+0.j 1.+0.j 0.+0.j]]\n"
     ]
    }
   ],
   "source": [
    "print(quasar.Gate.CX.operator)"
   ]
  },
  {
   "cell_type": "markdown",
   "metadata": {},
   "source": [
    "The controlled $\\hat Y$ gate:"
   ]
  },
  {
   "cell_type": "code",
   "execution_count": 20,
   "metadata": {
    "execution": {
     "iopub.execute_input": "2021-11-27T05:07:31.078242Z",
     "iopub.status.busy": "2021-11-27T05:07:31.077363Z",
     "iopub.status.idle": "2021-11-27T05:07:31.080771Z",
     "shell.execute_reply": "2021-11-27T05:07:31.081542Z"
    }
   },
   "outputs": [
    {
     "name": "stdout",
     "output_type": "stream",
     "text": [
      "[[ 1.+0.j  0.+0.j  0.+0.j  0.+0.j]\n",
      " [ 0.+0.j  1.+0.j  0.+0.j  0.+0.j]\n",
      " [ 0.+0.j  0.+0.j  0.+0.j -0.-1.j]\n",
      " [ 0.+0.j  0.+0.j  0.+1.j  0.+0.j]]\n"
     ]
    }
   ],
   "source": [
    "print(quasar.Gate.CY.operator)"
   ]
  },
  {
   "cell_type": "markdown",
   "metadata": {},
   "source": [
    "The controlled $\\hat Z$ gate:"
   ]
  },
  {
   "cell_type": "code",
   "execution_count": 21,
   "metadata": {
    "execution": {
     "iopub.execute_input": "2021-11-27T05:07:31.087379Z",
     "iopub.status.busy": "2021-11-27T05:07:31.086567Z",
     "iopub.status.idle": "2021-11-27T05:07:31.090038Z",
     "shell.execute_reply": "2021-11-27T05:07:31.090703Z"
    }
   },
   "outputs": [
    {
     "name": "stdout",
     "output_type": "stream",
     "text": [
      "[[ 1.+0.j  0.+0.j  0.+0.j  0.+0.j]\n",
      " [ 0.+0.j  1.+0.j  0.+0.j  0.+0.j]\n",
      " [ 0.+0.j  0.+0.j  1.+0.j  0.+0.j]\n",
      " [ 0.+0.j  0.+0.j  0.+0.j -1.+0.j]]\n"
     ]
    }
   ],
   "source": [
    "print(quasar.Gate.CZ.operator)"
   ]
  },
  {
   "cell_type": "markdown",
   "metadata": {},
   "source": [
    "The controlled $\\hat S$ gate:"
   ]
  },
  {
   "cell_type": "code",
   "execution_count": 22,
   "metadata": {
    "execution": {
     "iopub.execute_input": "2021-11-27T05:07:31.099620Z",
     "iopub.status.busy": "2021-11-27T05:07:31.098765Z",
     "iopub.status.idle": "2021-11-27T05:07:31.104283Z",
     "shell.execute_reply": "2021-11-27T05:07:31.103504Z"
    }
   },
   "outputs": [
    {
     "name": "stdout",
     "output_type": "stream",
     "text": [
      "[[1.+0.j 0.+0.j 0.+0.j 0.+0.j]\n",
      " [0.+0.j 1.+0.j 0.+0.j 0.+0.j]\n",
      " [0.+0.j 0.+0.j 1.+0.j 0.+0.j]\n",
      " [0.+0.j 0.+0.j 0.+0.j 0.+1.j]]\n"
     ]
    }
   ],
   "source": [
    "print(quasar.Gate.CS.operator)"
   ]
  },
  {
   "cell_type": "markdown",
   "metadata": {},
   "source": [
    "The controlled $\\hat S^{\\adjoint}$ gate:"
   ]
  },
  {
   "cell_type": "code",
   "execution_count": 23,
   "metadata": {
    "execution": {
     "iopub.execute_input": "2021-11-27T05:07:31.109825Z",
     "iopub.status.busy": "2021-11-27T05:07:31.109218Z",
     "iopub.status.idle": "2021-11-27T05:07:31.112320Z",
     "shell.execute_reply": "2021-11-27T05:07:31.112800Z"
    }
   },
   "outputs": [
    {
     "name": "stdout",
     "output_type": "stream",
     "text": [
      "[[ 1.+0.j  0.+0.j  0.+0.j  0.+0.j]\n",
      " [ 0.+0.j  1.+0.j  0.+0.j  0.+0.j]\n",
      " [ 0.+0.j  0.+0.j  1.+0.j  0.+0.j]\n",
      " [ 0.+0.j  0.+0.j  0.+0.j -0.-1.j]]\n"
     ]
    }
   ],
   "source": [
    "print(quasar.Gate.CST.operator)"
   ]
  },
  {
   "cell_type": "markdown",
   "metadata": {},
   "source": [
    "The SWAP gate:"
   ]
  },
  {
   "cell_type": "code",
   "execution_count": 24,
   "metadata": {
    "execution": {
     "iopub.execute_input": "2021-11-27T05:07:31.118561Z",
     "iopub.status.busy": "2021-11-27T05:07:31.117865Z",
     "iopub.status.idle": "2021-11-27T05:07:31.121005Z",
     "shell.execute_reply": "2021-11-27T05:07:31.121662Z"
    }
   },
   "outputs": [
    {
     "name": "stdout",
     "output_type": "stream",
     "text": [
      "[[1.+0.j 0.+0.j 0.+0.j 0.+0.j]\n",
      " [0.+0.j 0.+0.j 1.+0.j 0.+0.j]\n",
      " [0.+0.j 1.+0.j 0.+0.j 0.+0.j]\n",
      " [0.+0.j 0.+0.j 0.+0.j 1.+0.j]]\n"
     ]
    }
   ],
   "source": [
    "print(quasar.Gate.SWAP.operator)"
   ]
  },
  {
   "cell_type": "markdown",
   "metadata": {},
   "source": [
    "## 2-Qubit Parameter-Based Gates\n",
    "The controlled $\\hat F$ gate:\n",
    "\\begin{equation}\n",
    "\\hat U_{\\mathrm{CF}} (\\theta)\n",
    "\\equiv\n",
    "\\left [\n",
    "\\begin{array}{cccc}\n",
    "1 & 0 & 0 & 0 \\\\\n",
    "0 & 1 & 0 & 0 \\\\\n",
    "0 & 0 & +\\cos(\\theta) & +\\sin(\\theta) \\\\\n",
    "0 & 0 & +\\sin(\\theta) & -\\cos(\\theta) \\\\\n",
    "\\end{array}\n",
    "\\right ]\n",
    "\\end{equation}"
   ]
  },
  {
   "cell_type": "code",
   "execution_count": 25,
   "metadata": {
    "execution": {
     "iopub.execute_input": "2021-11-27T05:07:31.129011Z",
     "iopub.status.busy": "2021-11-27T05:07:31.128043Z",
     "iopub.status.idle": "2021-11-27T05:07:31.131534Z",
     "shell.execute_reply": "2021-11-27T05:07:31.132393Z"
    }
   },
   "outputs": [
    {
     "name": "stdout",
     "output_type": "stream",
     "text": [
      "[[ 1.        +0.j  0.        +0.j  0.        +0.j  0.        +0.j]\n",
      " [ 0.        +0.j  1.        +0.j  0.        +0.j  0.        +0.j]\n",
      " [ 0.        +0.j  0.        +0.j  0.70710678+0.j  0.70710678+0.j]\n",
      " [ 0.        +0.j  0.        +0.j  0.70710678+0.j -0.70710678+0.j]]\n"
     ]
    }
   ],
   "source": [
    "print(quasar.Gate.CF(theta=np.pi/4.0).operator)"
   ]
  },
  {
   "cell_type": "markdown",
   "metadata": {},
   "source": [
    "The exponential parametrization of $SO(4)$: https://arxiv.org/pdf/1901.01234.pdf"
   ]
  },
  {
   "cell_type": "code",
   "execution_count": 26,
   "metadata": {
    "execution": {
     "iopub.execute_input": "2021-11-27T05:07:31.138468Z",
     "iopub.status.busy": "2021-11-27T05:07:31.137472Z",
     "iopub.status.idle": "2021-11-27T05:07:31.492393Z",
     "shell.execute_reply": "2021-11-27T05:07:31.493222Z"
    }
   },
   "outputs": [
    {
     "name": "stdout",
     "output_type": "stream",
     "text": [
      "[[ 0.9348924 +0.j -0.01339019+0.j  0.09978843+0.j  0.34035154+0.j]\n",
      " [-0.19968474+0.j  0.80519462+0.j  0.19761001+0.j  0.52224316+0.j]\n",
      " [-0.22948621+0.j -0.49406208+0.j  0.74034573+0.j  0.39386157+0.j]\n",
      " [-0.18286137+0.j -0.32769648+0.j -0.63472888+0.j  0.67549684+0.j]]\n"
     ]
    }
   ],
   "source": [
    "print(quasar.Gate.SO4(A=0.1, B=0.2, C=0.3, D=0.4, E=0.5, F=0.6).operator)"
   ]
  },
  {
   "cell_type": "markdown",
   "metadata": {},
   "source": [
    "An alternative parametrization of $SO(4)$:"
   ]
  },
  {
   "cell_type": "code",
   "execution_count": 27,
   "metadata": {
    "execution": {
     "iopub.execute_input": "2021-11-27T05:07:31.500037Z",
     "iopub.status.busy": "2021-11-27T05:07:31.496514Z",
     "iopub.status.idle": "2021-11-27T05:07:31.506570Z",
     "shell.execute_reply": "2021-11-27T05:07:31.507144Z"
    }
   },
   "outputs": [
    {
     "name": "stdout",
     "output_type": "stream",
     "text": [
      "[[ 0.36051638+0.j -0.33891257+0.j -0.44175252+0.j -0.74834546+0.j]\n",
      " [ 0.51034913+0.j  0.77196413+0.j -0.36256602+0.j  0.11027705+0.j]\n",
      " [ 0.73319467+0.j -0.18603098+0.j  0.65195854+0.j  0.05261287+0.j]\n",
      " [ 0.26832308+0.j -0.50458114+0.j -0.49834793+0.j  0.65195854+0.j]]\n"
     ]
    }
   ],
   "source": [
    "print(quasar.Gate.SO42(thetaIY=0.1, thetaYI=0.2, thetaXY=0.3, thetaYX=0.4, thetaZY=0.5, thetaYZ=0.6).operator)"
   ]
  },
  {
   "cell_type": "markdown",
   "metadata": {},
   "source": [
    "## Special Parameter-Free Gates\n",
    "Sometimes the user has a known, parameter-free unitary matrix $\\hat U$, and wants a gate corresponding to this. To help in this case, we provide the simple `U1` and `U2` methods to construct custom parameter-free gates:"
   ]
  },
  {
   "cell_type": "code",
   "execution_count": 28,
   "metadata": {
    "execution": {
     "iopub.execute_input": "2021-11-27T05:07:31.516436Z",
     "iopub.status.busy": "2021-11-27T05:07:31.515489Z",
     "iopub.status.idle": "2021-11-27T05:07:31.519183Z",
     "shell.execute_reply": "2021-11-27T05:07:31.520516Z"
    }
   },
   "outputs": [
    {
     "name": "stdout",
     "output_type": "stream",
     "text": [
      "[[1.+0.j 0.+0.j]\n",
      " [0.+0.j 1.+0.j]]\n"
     ]
    }
   ],
   "source": [
    "print(quasar.Gate.U1(U=np.eye(2, dtype=np.complex128)).operator)"
   ]
  },
  {
   "cell_type": "code",
   "execution_count": 29,
   "metadata": {
    "execution": {
     "iopub.execute_input": "2021-11-27T05:07:31.528092Z",
     "iopub.status.busy": "2021-11-27T05:07:31.527210Z",
     "iopub.status.idle": "2021-11-27T05:07:31.532352Z",
     "shell.execute_reply": "2021-11-27T05:07:31.532936Z"
    }
   },
   "outputs": [
    {
     "name": "stdout",
     "output_type": "stream",
     "text": [
      "[[1.+0.j 0.+0.j 0.+0.j 0.+0.j]\n",
      " [0.+0.j 1.+0.j 0.+0.j 0.+0.j]\n",
      " [0.+0.j 0.+0.j 1.+0.j 0.+0.j]\n",
      " [0.+0.j 0.+0.j 0.+0.j 1.+0.j]]\n"
     ]
    }
   ],
   "source": [
    "print(quasar.Gate.U2(U=np.eye(4, dtype=np.complex128)).operator)"
   ]
  },
  {
   "cell_type": "markdown",
   "metadata": {},
   "source": [
    "The updated gate library can be found by looking at the documentation of the `Gate` class:"
   ]
  },
  {
   "cell_type": "code",
   "execution_count": 30,
   "metadata": {
    "execution": {
     "iopub.execute_input": "2021-11-27T05:07:31.541243Z",
     "iopub.status.busy": "2021-11-27T05:07:31.540436Z",
     "iopub.status.idle": "2021-11-27T05:07:31.556331Z",
     "shell.execute_reply": "2021-11-27T05:07:31.557330Z"
    }
   },
   "outputs": [
    {
     "name": "stdout",
     "output_type": "stream",
     "text": [
      "Help on class Gate in module quasar.circuit:\n",
      "\n",
      "class Gate(builtins.object)\n",
      " |  Gate(nqubit, operator_function, parameters, name, ascii_symbols, involutary=False, adjoint_function=None)\n",
      " |  \n",
      " |  Class Gate represents a quantum gate operation, i.e., a (usually) \n",
      " |  unitary operator acting on a specific number of qubits.\n",
      " |      \n",
      " |  This specific Gate class represents a \"primitive\" gate with an explicitly\n",
      " |  defined operator that occupies a single time index. Primitive Gate objects\n",
      " |  do not contain any subsidiary Gate or :class:`quasar.circuit.Circuit` objects.\n",
      " |  \n",
      " |  Methods defined here:\n",
      " |  \n",
      " |  R_ion = _GateR_ion(theta=0.0, phi=0.0)\n",
      " |  \n",
      " |  Rx_ion = _GateRx_ion(theta=0.0)\n",
      " |  \n",
      " |  Ry_ion = _GateRy_ion(theta=0.0)\n",
      " |  \n",
      " |  Rz_ion = _GateRz_ion(theta=0.0)\n",
      " |  \n",
      " |  XX_ion = _GateXX_ion(chi=0.0)\n",
      " |  \n",
      " |  __init__(self, nqubit, operator_function, parameters, name, ascii_symbols, involutary=False, adjoint_function=None)\n",
      " |      Gate initializer (verbatim).\n",
      " |      \n",
      " |      Params/Attributes:\n",
      " |          nqubit (int) - number of qubits.\n",
      " |          operator_function (function of OrderedDict of str : float ->\n",
      " |              np.ndarray of shape (2**nqubit,)*2) - function that yields the\n",
      " |              Gate operator matrix corresponding to the current parameter\n",
      " |              dictionary.\n",
      " |          parameters (OrderedDict of str : float) - parameter declarations\n",
      " |              and initial values for this Gate. Gates without parameters will\n",
      " |              have an empty OrderedDict for this field.\n",
      " |          name (str) - name of Gate. The name of the gate and the number of\n",
      " |              qubits are occasionally used as a shorthand for the Gate\n",
      " |              definition. E.g., all 1-nqubit gates with the name \"Ry\" are\n",
      " |              assumed to be quasar Ry gates by certain transpilation and\n",
      " |              runtime functions.\n",
      " |          ascii_symbols (list of str of size nqubit) - ASCII symbol to\n",
      " |              display on each qubit index during ASCII circuit printing.\n",
      " |              involutary (bool, default False) - setting involutary to True\n",
      " |              (1st priority) indicates that the gate is its own adjoint,\n",
      " |              meaning that a copy of this Gate can be returned in the\n",
      " |              `adjoint` function.\n",
      " |          adjoint_function (function of OrderedDict of str : float -> Gate or\n",
      " |              None (default)) - setting adjoint function to a non-None type\n",
      " |              provides a custom recipe to return a sensible adjoint Gate for\n",
      " |              this Gate, with the current parameters provided as input\n",
      " |              arguments to the adjoint function.\n",
      " |  \n",
      " |  __str__(self)\n",
      " |      str: String representation of this Gate (``self.name``)\n",
      " |  \n",
      " |  adjoint(self)\n",
      " |      Make the adjoint of the current Gate (always a copy).\n",
      " |      \n",
      " |      Returns:\n",
      " |          (Gate): a Gate representing the adjoint of the current Gate\n",
      " |      \n",
      " |          * If ``self.involuntary`` is `True`, a copy of ``self`` is returned.\n",
      " |      \n",
      " |          * Else if ``self.adjoint_function`` is not `None`, ``self.adjoint_function(self.parameters)`` is called and used to return the desired Gate.\n",
      " |      \n",
      " |          * Else an extended copy of the current Gate with property dressed adjoint ``operator_function`` and `'^+'` added to name and ``ascii_symbols`` is returned (always works correctly, but `'^+^+^+'` runs build up under repeated calls to adjoint).\n",
      " |  \n",
      " |  apply_to_statevector(self, statevector1, statevector2, qubits, dtype=<class 'numpy.complex128'>)\n",
      " |      Apply this gate to **statevector1**, acting on qubit indices in **qubits**,\n",
      " |      and return the result, along with a scratch statevector. Ideally, no\n",
      " |      statevector allocations will be performed in the course of this operation\n",
      " |      - a scratch statevector is provided as input to help with this.\n",
      " |      \n",
      " |      Either or both of **statevector1** and **statevector2** may be modified.\n",
      " |      One of them is modified to contain the resultant statevector, and\n",
      " |      then this output statevector and the new scratch statevector are returned.\n",
      " |      \n",
      " |      Args:\n",
      " |          statevector1 (``np.ndarray``, shape `2**N`): input statevector\n",
      " |          statevector2 (``np.ndarray``, shape `2**N`): scratch statevector\n",
      " |          qubits (iterable of `ints`, size ``self.nqubit``): qubit indices to apply this gate to\n",
      " |          dtype (real or complex dtype): the dtype to perform the computation at. The gate operator\n",
      " |              will be cast to this dtype. Note that using real dtypes (`float64` \n",
      " |              or `float32`) can reduce storage and runtime, but the imaginary parts\n",
      " |              of the input wfn and all gate unitary operators will be discarded\n",
      " |              without checking. In these cases, the user is responsible for\n",
      " |              ensuring that the circuit works on `O(2^N)` rather than `U(2^N)`\n",
      " |              and that the output is valid. (default - `np.complex128`)\n",
      " |      \n",
      " |      Returns:\n",
      " |          ``np.ndarray``, shape `2**N`: **output**, **scratch** - output statevector, then scratch statevector\n",
      " |  \n",
      " |  copy(self)\n",
      " |      Make a deep copy of the current Gate. \n",
      " |      \n",
      " |      Returns:\n",
      " |          Gate: a copy of this Gate whose parameters may be modified without\n",
      " |          modifying the parameters of ``self``.\n",
      " |  \n",
      " |  exploded_gates(self)\n",
      " |  \n",
      " |  set_parameter(self, key, value)\n",
      " |      Set the value of a parameter of this Gate. The result is\n",
      " |      ``self.parameters[key]`` = **value**.\n",
      " |      \n",
      " |      Args:\n",
      " |          key (str): the key of the parameter\n",
      " |          value (float): the value of the parameter\n",
      " |      \n",
      " |      Raises:\n",
      " |          RuntimeError: if the Gate does not have a parameter corresponding to **key**.\n",
      " |  \n",
      " |  set_parameters(self, parameters)\n",
      " |      Set the values of multiple parameters of this Gate. ``self.parameters`` \n",
      " |      is updated with the contents of **parameters** by calling ``self.set_parameter`` \n",
      " |      for each key/value pair.\n",
      " |      \n",
      " |      Args:\n",
      " |          parameters (dict of str : float): dict of parameter values\n",
      " |  \n",
      " |  test_operator_equivalence(gate1, gate2, operator_tolerance=1e-12)\n",
      " |      Test if the operator matrices of two gates are numerically\n",
      " |      equivalent to within a maximum absolute derivation of **operator_tolerance**.\n",
      " |      \n",
      " |      Note that the gates might still have different recipes, but produce the\n",
      " |      same operator. Therefore, this definition should be considered to be an\n",
      " |      intermediate level of equivalence.\n",
      " |      \n",
      " |      Args:\n",
      " |          gate1 (Gate): first gate to compare\n",
      " |          gate2 (Gate): second gate to compare\n",
      " |          operator_tolerance (float): maximum absolute deviation threshold for \n",
      " |              declaring Gate operator matrices to be identical. (default - `1.0E-12`)\n",
      " |      \n",
      " |      Returns:\n",
      " |          bool: True` if the gates are equivalent under the definition \n",
      " |          above, else `False`.\n",
      " |  \n",
      " |  ----------------------------------------------------------------------\n",
      " |  Class methods defined here:\n",
      " |  \n",
      " |  unchecked_gate(nqubit, operator_function, parameters, name, ascii_symbols, involutary=False, adjoint_function=None) from builtins.type\n",
      " |      Creates a gate by forcibly bypassing all validation checks, to increase\n",
      " |      performance in cases where the gate is known to be valid (for example,\n",
      " |      creation of \"stock\" gates or serialization)\n",
      " |  \n",
      " |  ----------------------------------------------------------------------\n",
      " |  Static methods defined here:\n",
      " |  \n",
      " |  CF = _CF(theta=0.0)\n",
      " |      Controlled F gate\n",
      " |  \n",
      " |  G = _GateG(theta=0.0)\n",
      " |      Givens Gate defined as\n",
      " |      \n",
      " |        [ 1  0           0            0 ]\n",
      " |        [ 0  cos(theta)  sin(theta)   0 ]\n",
      " |        [ 0  -sin(theta) cos(theta)   0 ]\n",
      " |        [ 0  0           0            1 ]\n",
      " |  \n",
      " |  PX = _GatePX(theta=0.0)\n",
      " |      Pair exchange gate (4-qubit Givens gate).\n",
      " |  \n",
      " |  RBS = _GateRBS(theta=0.0)\n",
      " |      Reconfigurable Beam Splitter gate; defined as\n",
      " |      \n",
      " |      .. code-block:: python\n",
      " |          \n",
      " |         [ 1  0           0           0 ]\n",
      " |         [ 0  cos(theta)  sin(theta)  0 ]\n",
      " |         [ 0  -sin(theta) cos(theta)  0 ]\n",
      " |         [ 0  0           0           1 ]\n",
      " |  \n",
      " |  Rx = _GateRx(theta=0.0)\n",
      " |      Rx (theta) = ``exp(-i * theta * x)``\n",
      " |  \n",
      " |  Ry = _GateRy(theta=0.0)\n",
      " |      Ry (theta) = ``exp(-i * theta * Y)``\n",
      " |  \n",
      " |  Rz = _GateRz(theta=0.0)\n",
      " |      Rz (theta) = ``exp(-i * theta * Z)``\n",
      " |  \n",
      " |  SO4 = _GateSO4(A=0.0, B=0.0, C=0.0, D=0.0, E=0.0, F=0.0)\n",
      " |  \n",
      " |  SO42 = _GateSO42(thetaIY=0.0, thetaYI=0.0, thetaXY=0.0, thetaYX=0.0, thetaZY=0.0, thetaYZ=0.0)\n",
      " |  \n",
      " |  U1 = _GateU1(U)\n",
      " |      An explicit 1-body gate that is specified by the user.\n",
      " |  \n",
      " |  U2 = _GateU2(U)\n",
      " |      An explicit 2-body gate that is specified by the user.\n",
      " |  \n",
      " |  U4 = _GateU4(U)\n",
      " |      An explicit 4-body gate that is specified by the user.\n",
      " |  \n",
      " |  iRBS = _GateiRBS(theta=0.0)\n",
      " |  \n",
      " |  u1 = _Gateu1(lam=0.0)\n",
      " |  \n",
      " |  u2 = _Gateu2(phi=0.0, lam=0.0)\n",
      " |  \n",
      " |  u3 = _Gateu3(theta=0.0, phi=0.0, lam=0.0)\n",
      " |  \n",
      " |  ----------------------------------------------------------------------\n",
      " |  Readonly properties defined here:\n",
      " |  \n",
      " |  is_composite\n",
      " |      bool: Is this Gate :class:`quasar.circuit.CompositeGate` (containing subgates) (always `False`)\n",
      " |  \n",
      " |  is_controlled\n",
      " |      bool: Is this Gate :class:`quasar.circuit.ControlledGate` (containing controls + Gate) (always `False`)\n",
      " |  \n",
      " |  nparameter\n",
      " |      int: Total number of parameters in this Gate\n",
      " |  \n",
      " |  ntime\n",
      " |      int: Number of time indices occupied by this Gate (always `1`)\n",
      " |  \n",
      " |  operator\n",
      " |      ``np.ndarray``, shape `(2**N,)*2`: The `(2**N,)*2` operator (unitary) matrix underlying this Gate,\n",
      " |      built from the current parameter state. \n",
      " |      \n",
      " |      The action of the gate on a given state is given graphically as,\n",
      " |      \n",
      " |          .. math:: | \\Psi > -G- | \\Psi' >\n",
      " |      \n",
      " |      and mathematically as,\n",
      " |      \n",
      " |          .. math:: | \\Psi_I' > = \\sum_J U_IJ | \\Psi_J >\n",
      " |  \n",
      " |  ----------------------------------------------------------------------\n",
      " |  Data descriptors defined here:\n",
      " |  \n",
      " |  __dict__\n",
      " |      dictionary for instance variables (if defined)\n",
      " |  \n",
      " |  __weakref__\n",
      " |      list of weak references to the object (if defined)\n",
      " |  \n",
      " |  ----------------------------------------------------------------------\n",
      " |  Data and other attributes defined here:\n",
      " |  \n",
      " |  CCX = <quasar.circuit.Gate object>\n",
      " |  \n",
      " |  CS = <quasar.circuit.Gate object>\n",
      " |  \n",
      " |  CST = <quasar.circuit.Gate object>\n",
      " |  \n",
      " |  CSWAP = <quasar.circuit.Gate object>\n",
      " |  \n",
      " |  CX = <quasar.circuit.Gate object>\n",
      " |  \n",
      " |  CY = <quasar.circuit.Gate object>\n",
      " |  \n",
      " |  CZ = <quasar.circuit.Gate object>\n",
      " |  \n",
      " |  H = <quasar.circuit.Gate object>\n",
      " |  \n",
      " |  I = <quasar.circuit.Gate object>\n",
      " |  \n",
      " |  Rx2 = <quasar.circuit.Gate object>\n",
      " |  \n",
      " |  Rx2T = <quasar.circuit.Gate object>\n",
      " |  \n",
      " |  S = <quasar.circuit.Gate object>\n",
      " |  \n",
      " |  ST = <quasar.circuit.Gate object>\n",
      " |  \n",
      " |  SWAP = <quasar.circuit.Gate object>\n",
      " |  \n",
      " |  T = <quasar.circuit.Gate object>\n",
      " |  \n",
      " |  TT = <quasar.circuit.Gate object>\n",
      " |  \n",
      " |  X = <quasar.circuit.Gate object>\n",
      " |  \n",
      " |  Y = <quasar.circuit.Gate object>\n",
      " |  \n",
      " |  Z = <quasar.circuit.Gate object>\n",
      "\n"
     ]
    }
   ],
   "source": [
    "help(quasar.Gate)"
   ]
  },
  {
   "cell_type": "markdown",
   "metadata": {},
   "source": [
    "## Matrix Library\n",
    "We also provide a utility library of common matrices used to build many of the above gates in the `Matrix` class. For instance:"
   ]
  },
  {
   "cell_type": "code",
   "execution_count": 31,
   "metadata": {
    "execution": {
     "iopub.execute_input": "2021-11-27T05:07:31.566223Z",
     "iopub.status.busy": "2021-11-27T05:07:31.564266Z",
     "iopub.status.idle": "2021-11-27T05:07:31.570792Z",
     "shell.execute_reply": "2021-11-27T05:07:31.569500Z"
    }
   },
   "outputs": [
    {
     "name": "stdout",
     "output_type": "stream",
     "text": [
      "[[1.+0.j 0.+0.j 0.+0.j 0.+0.j]\n",
      " [0.+0.j 1.+0.j 0.+0.j 0.+0.j]\n",
      " [0.+0.j 0.+0.j 0.+0.j 1.+0.j]\n",
      " [0.+0.j 0.+0.j 1.+0.j 0.+0.j]]\n"
     ]
    }
   ],
   "source": [
    "print(quasar.Matrix.CX)"
   ]
  },
  {
   "cell_type": "code",
   "execution_count": 32,
   "metadata": {
    "execution": {
     "iopub.execute_input": "2021-11-27T05:07:31.581646Z",
     "iopub.status.busy": "2021-11-27T05:07:31.579740Z",
     "iopub.status.idle": "2021-11-27T05:07:31.584893Z",
     "shell.execute_reply": "2021-11-27T05:07:31.584083Z"
    }
   },
   "outputs": [
    {
     "name": "stdout",
     "output_type": "stream",
     "text": [
      "[[0.70710678+0.j         0.        -0.70710678j]\n",
      " [0.        -0.70710678j 0.70710678+0.j        ]]\n"
     ]
    }
   ],
   "source": [
    "print(quasar.Matrix.Rx(theta=np.pi/4.0))"
   ]
  },
  {
   "cell_type": "code",
   "execution_count": 33,
   "metadata": {
    "execution": {
     "iopub.execute_input": "2021-11-27T05:07:31.593437Z",
     "iopub.status.busy": "2021-11-27T05:07:31.591609Z",
     "iopub.status.idle": "2021-11-27T05:07:31.595828Z",
     "shell.execute_reply": "2021-11-27T05:07:31.595283Z"
    }
   },
   "outputs": [
    {
     "name": "stdout",
     "output_type": "stream",
     "text": [
      "[[ 0.98877108+0.j         -0.14869156-0.01491892j]\n",
      " [ 0.14645932+0.02968877j  0.94460909+0.29220183j]]\n"
     ]
    }
   ],
   "source": [
    "print(quasar.Matrix.u3(theta=0.3, phi=0.2, lam=0.1))"
   ]
  },
  {
   "cell_type": "markdown",
   "metadata": {},
   "source": [
    "To see the list of available matrices:"
   ]
  },
  {
   "cell_type": "code",
   "execution_count": 34,
   "metadata": {
    "execution": {
     "iopub.execute_input": "2021-11-27T05:07:31.602802Z",
     "iopub.status.busy": "2021-11-27T05:07:31.602188Z",
     "iopub.status.idle": "2021-11-27T05:07:31.624010Z",
     "shell.execute_reply": "2021-11-27T05:07:31.624512Z"
    }
   },
   "outputs": [
    {
     "name": "stdout",
     "output_type": "stream",
     "text": [
      "Help on class Matrix in module quasar.circuit:\n",
      "\n",
      "class Matrix(builtins.object)\n",
      " |  Class Matrix holds several common matrices encountered in quantum circuits.\n",
      " |  \n",
      " |  These matrices are stored in ``np.ndarray`` with ``dtype=np.complex128``.\n",
      " |  \n",
      " |  The naming/ordering of the matrices in Quasar follows that of Nielsen and\n",
      " |  Chuang, *except* that rotation matrices are specfied in full turns:\n",
      " |  \n",
      " |      Rz(theta) = ``exp(-i*theta*Z)``\n",
      " |  \n",
      " |  whereas Nielsen and Chuang define these in half turns:\n",
      " |  \n",
      " |      Rz^NC(theta) = ``exp(-i*theta*Z/2)``\n",
      " |  \n",
      " |  Static methods defined here:\n",
      " |  \n",
      " |  G(theta=0.0)\n",
      " |      The 2-qubit Givens matrix\n",
      " |      \n",
      " |      Params:\n",
      " |          theta (float) - rotation angle.\n",
      " |      Returns:\n",
      " |          (np.ndarray) - G matrix for the specified value of theta.\n",
      " |  \n",
      " |  PX(theta=0.0)\n",
      " |      The 4-qubit pair-exchange gate.\n",
      " |      \n",
      " |      4-qubit Givens rotation.\n",
      " |      \n",
      " |      Params:\n",
      " |          theta (float) - rotation angle.\n",
      " |      Returns:\n",
      " |          (np.ndarray) - PX matrix for the specified value of theta.\n",
      " |  \n",
      " |  R_ion(theta=0.0, phi=0.0)\n",
      " |  \n",
      " |  Rx(theta=0.0)\n",
      " |      The 1-qubit Rx (rotation about X) matrix\n",
      " |      \n",
      " |      Defined as,\n",
      " |      \n",
      " |          U = ``exp(-i*theta*X)``\n",
      " |      \n",
      " |      Args:\n",
      " |          theta (float): rotation angle (default - `0.0`)\n",
      " |      \n",
      " |      Returns:\n",
      " |          ``np.ndarray``: Rx matrix for the specified value of **theta**\n",
      " |  \n",
      " |  Ry(theta=0.0)\n",
      " |      The 1-qubit Ry (rotation about Y) matrix\n",
      " |      \n",
      " |      Defined as,\n",
      " |      \n",
      " |          U = ``exp(-i*theta*Y)``\n",
      " |      \n",
      " |      Args:\n",
      " |          theta (float): rotation angle (default - `0.0`)\n",
      " |      \n",
      " |      Returns:\n",
      " |          ``np.ndarray``: Ry matrix for the specified value of **theta**\n",
      " |  \n",
      " |  Rz(theta=0.0)\n",
      " |      The 1-qubit Rz (rotation about Z) matrix\n",
      " |      \n",
      " |      Defined as,\n",
      " |      \n",
      " |          U = ``exp(-i*theta*Z)``\n",
      " |      \n",
      " |      Args:\n",
      " |          theta (float): rotation angle (default - `0.0`)\n",
      " |      \n",
      " |      Returns:\n",
      " |          ``np.ndarray``: Rz matrix for the specified value of **theta**\n",
      " |  \n",
      " |  Rz_ion(theta=0.0)\n",
      " |  \n",
      " |  XX_ion(chi=0.0)\n",
      " |  \n",
      " |  u1(lam=0.0)\n",
      " |  \n",
      " |  u2(phi=0.0, lam=0.0)\n",
      " |  \n",
      " |  u3(theta=0.0, phi=0.0, lam=0.0)\n",
      " |  \n",
      " |  ----------------------------------------------------------------------\n",
      " |  Data descriptors defined here:\n",
      " |  \n",
      " |  __dict__\n",
      " |      dictionary for instance variables (if defined)\n",
      " |  \n",
      " |  __weakref__\n",
      " |      list of weak references to the object (if defined)\n",
      " |  \n",
      " |  ----------------------------------------------------------------------\n",
      " |  Data and other attributes defined here:\n",
      " |  \n",
      " |  CCX = array([[1.+0.j, 0.+0.j, 0.+0.j, 0.+0.j, 0.+0.j, ...0.+0.j, 0.+0....\n",
      " |  \n",
      " |  CS = array([[1.+0.j, 0.+0.j, 0.+0.j, 0.+0.j],\n",
      " |         ....+0.j],\n",
      " |        ...\n",
      " |  \n",
      " |  CST = array([[ 1.+0.j,  0.+0.j,  0.+0.j,  0.+0.j],\n",
      " |     ...j],\n",
      " |         [ ...\n",
      " |  \n",
      " |  CSWAP = array([[1.+0.j, 0.+0.j, 0.+0.j, 0.+0.j, 0.+0.j, ...0.+0.j, 0.+...\n",
      " |  \n",
      " |  CX = array([[1.+0.j, 0.+0.j, 0.+0.j, 0.+0.j],\n",
      " |         ....+0.j],\n",
      " |        ...\n",
      " |  \n",
      " |  CY = array([[ 1.+0.j,  0.+0.j,  0.+0.j,  0.+0.j],\n",
      " |     ...j],\n",
      " |         [ 0...\n",
      " |  \n",
      " |  CZ = array([[ 1.+0.j,  0.+0.j,  0.+0.j,  0.+0.j],\n",
      " |     ...j],\n",
      " |         [ 0...\n",
      " |  \n",
      " |  H = array([[ 0.70710678+0.j,  0.70710678+0.j],\n",
      " |         [ 0.70710678+0.j...\n",
      " |  \n",
      " |  I = array([[1.+0.j, 0.+0.j],\n",
      " |         [0.+0.j, 1.+0.j]])\n",
      " |  \n",
      " |  II = array([[1.+0.j, 0.+0.j, 0.+0.j, 0.+0.j],\n",
      " |         ....+0.j],\n",
      " |        ...\n",
      " |  \n",
      " |  IX = array([[0.+0.j, 1.+0.j, 0.+0.j, 0.+0.j],\n",
      " |         ....+0.j],\n",
      " |        ...\n",
      " |  \n",
      " |  IY = array([[0.+0.j, 0.-1.j, 0.+0.j, 0.-0.j],\n",
      " |         ....-1.j],\n",
      " |        ...\n",
      " |  \n",
      " |  IZ = array([[ 1.+0.j,  0.+0.j,  0.+0.j,  0.+0.j],\n",
      " |     ...j],\n",
      " |         [ 0...\n",
      " |  \n",
      " |  Rx2 = array([[0.70710678+0.j        , 0.        +0.707...0.        +0....\n",
      " |  \n",
      " |  Rx2T = array([[0.70710678+0.j        , 0.        -0.707...0.        -0...\n",
      " |  \n",
      " |  S = array([[1.+0.j, 0.+0.j],\n",
      " |         [0.+0.j, 0.+1.j]])\n",
      " |  \n",
      " |  ST = array([[ 1.+0.j,  0.+0.j],\n",
      " |         [ 0.+0.j, -0.-1.j]])\n",
      " |  \n",
      " |  SWAP = array([[1.+0.j, 0.+0.j, 0.+0.j, 0.+0.j],\n",
      " |         ....+0.j],\n",
      " |      ...\n",
      " |  \n",
      " |  T = array([[1.        +0.j        , 0.        +0.j  ...0.        +0.j ...\n",
      " |  \n",
      " |  TT = array([[1.        +0.j        , 0.        +0.j  ...0.        +0.j...\n",
      " |  \n",
      " |  X = array([[0.+0.j, 1.+0.j],\n",
      " |         [1.+0.j, 0.+0.j]])\n",
      " |  \n",
      " |  XI = array([[0.+0.j, 0.+0.j, 1.+0.j, 0.+0.j],\n",
      " |         ....+0.j],\n",
      " |        ...\n",
      " |  \n",
      " |  XX = array([[0.+0.j, 0.+0.j, 0.+0.j, 1.+0.j],\n",
      " |         ....+0.j],\n",
      " |        ...\n",
      " |  \n",
      " |  XY = array([[0.+0.j, 0.-0.j, 0.+0.j, 0.-1.j],\n",
      " |         ....-0.j],\n",
      " |        ...\n",
      " |  \n",
      " |  XZ = array([[ 0.+0.j,  0.+0.j,  1.+0.j,  0.+0.j],\n",
      " |     ...j],\n",
      " |         [ 0...\n",
      " |  \n",
      " |  Y = array([[ 0.+0.j, -0.-1.j],\n",
      " |         [ 0.+1.j,  0.+0.j]])\n",
      " |  \n",
      " |  YI = array([[0.+0.j, 0.+0.j, 0.-1.j, 0.-0.j],\n",
      " |         ....+0.j],\n",
      " |        ...\n",
      " |  \n",
      " |  YX = array([[0.+0.j, 0.+0.j, 0.-0.j, 0.-1.j],\n",
      " |         ....+0.j],\n",
      " |        ...\n",
      " |  \n",
      " |  YY = array([[ 0.+0.j,  0.-0.j,  0.-0.j, -1.+0.j],\n",
      " |     ...j],\n",
      " |         [-1...\n",
      " |  \n",
      " |  YZ = array([[ 0.+0.j,  0.+0.j,  0.-1.j,  0.-0.j],\n",
      " |     ...j],\n",
      " |         [ 0...\n",
      " |  \n",
      " |  Z = array([[ 1.+0.j,  0.+0.j],\n",
      " |         [ 0.+0.j, -1.+0.j]])\n",
      " |  \n",
      " |  ZI = array([[ 1.+0.j,  0.+0.j,  0.+0.j,  0.+0.j],\n",
      " |     ...j],\n",
      " |         [ 0...\n",
      " |  \n",
      " |  ZX = array([[ 0.+0.j,  1.+0.j,  0.+0.j,  0.+0.j],\n",
      " |     ...j],\n",
      " |         [ 0...\n",
      " |  \n",
      " |  ZY = array([[ 0.+0.j,  0.-1.j,  0.+0.j,  0.-0.j],\n",
      " |     ...j],\n",
      " |         [ 0...\n",
      " |  \n",
      " |  ZZ = array([[ 1.+0.j,  0.+0.j,  0.+0.j,  0.+0.j],\n",
      " |     ...j],\n",
      " |         [ 0...\n",
      "\n"
     ]
    }
   ],
   "source": [
    "help(quasar.Matrix)"
   ]
  }
 ],
 "metadata": {
  "kernelspec": {
   "display_name": "Python 3",
   "language": "python",
   "name": "python3"
  },
  "language_info": {
   "codemirror_mode": {
    "name": "ipython",
    "version": 3
   },
   "file_extension": ".py",
   "mimetype": "text/x-python",
   "name": "python",
   "nbconvert_exporter": "python",
   "pygments_lexer": "ipython3",
   "version": "3.9.2"
  }
 },
 "nbformat": 4,
 "nbformat_minor": 4
}
