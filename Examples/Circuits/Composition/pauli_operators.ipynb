{
 "cells": [
  {
   "cell_type": "markdown",
   "metadata": {},
   "source": [
    "# Pauli Objects"
   ]
  },
  {
   "cell_type": "markdown",
   "metadata": {},
   "source": [
    "## Introduction and Arithmetic"
   ]
  },
  {
   "cell_type": "markdown",
   "metadata": {},
   "source": [
    "Pauli operators acting on the $N$-qubit Hilbert space are ubiquitous in quantum circuit computations. In domain applications like QAOA and VQE, these often appear with a sparse structure corresponding to the physics of the problem at hand. To efficiently manipulate such operators and compute expectation values over the relevant Pauli strings, `quasar` features a `Pauli` class (and associated utility classes) that provide for sparse representation and intuitive manipulation of Pauli-type objects. "
   ]
  },
  {
   "cell_type": "markdown",
   "metadata": {},
   "source": [
    "To get started, let's grab some utility objects that generate the Pauli operators on individual qubit indices:"
   ]
  },
  {
   "cell_type": "code",
   "execution_count": 1,
   "metadata": {
    "execution": {
     "iopub.execute_input": "2022-08-13T05:09:11.473245Z",
     "iopub.status.busy": "2022-08-13T05:09:11.472303Z",
     "iopub.status.idle": "2022-08-13T05:09:12.191104Z",
     "shell.execute_reply": "2022-08-13T05:09:12.189938Z"
    }
   },
   "outputs": [],
   "source": [
    "from qcware import forge\n",
    "# this line is for internal tracking; it is not necessary for use!\n",
    "forge.config.set_environment_source_file('pauli_operators.ipynb')\n",
    "\n",
    "import numpy as np\n",
    "import quasar\n",
    "I, X, Y, Z = quasar.Pauli.IXYZ()"
   ]
  },
  {
   "cell_type": "markdown",
   "metadata": {},
   "source": [
    "Now, we can use these to start building up Pauli operators. "
   ]
  },
  {
   "cell_type": "code",
   "execution_count": 2,
   "metadata": {
    "execution": {
     "iopub.execute_input": "2022-08-13T05:09:12.196269Z",
     "iopub.status.busy": "2022-08-13T05:09:12.195674Z",
     "iopub.status.idle": "2022-08-13T05:09:12.208435Z",
     "shell.execute_reply": "2022-08-13T05:09:12.207159Z"
    }
   },
   "outputs": [
    {
     "name": "stdout",
     "output_type": "stream",
     "text": [
      "+4.0*I\n",
      "+(1-2j)*X0\n",
      "-1.0*X0*Y1\n",
      "+0.25*X0*Y1*Z2\n",
      "+2j*Y0\n",
      "+2j*Z0\n"
     ]
    }
   ],
   "source": [
    "pauli = I[-1] + X[0] - X[0] * Y[1] + 0.5 * X[0] * Y[1] * Z[2] - X[0] * Y[1] * Z[2] / 4.0\n",
    "pauli += 1.0\n",
    "pauli += 2.0 * (X[0] + Z[0]) * (X[0] + Y[0])\n",
    "pauli += pauli\n",
    "pauli /= 2.0\n",
    "print(pauli)"
   ]
  },
  {
   "cell_type": "markdown",
   "metadata": {},
   "source": [
    "How did that work? Next, `I/X/Y/Z` are \"`PauliStarter`\" objects that generate `Pauli` objects when indexed by the `[]` operator:"
   ]
  },
  {
   "cell_type": "code",
   "execution_count": 3,
   "metadata": {
    "execution": {
     "iopub.execute_input": "2022-08-13T05:09:12.213352Z",
     "iopub.status.busy": "2022-08-13T05:09:12.212980Z",
     "iopub.status.idle": "2022-08-13T05:09:12.222863Z",
     "shell.execute_reply": "2022-08-13T05:09:12.221842Z"
    }
   },
   "outputs": [
    {
     "name": "stdout",
     "output_type": "stream",
     "text": [
      "<class 'quasar.pauli.PauliStarter'>\n",
      "+1.0*X3\n",
      "<class 'quasar.pauli.Pauli'>\n"
     ]
    }
   ],
   "source": [
    "print(type(X))\n",
    "print(X[3])\n",
    "print(type(X[3]))"
   ]
  },
  {
   "cell_type": "markdown",
   "metadata": {},
   "source": [
    "**Technical Note:** Note that in the `Pauli` objects themselves, we only store the overall `I` operator and products of `X`, `Y`, and `Z` strings. Therefore, the `I` `PauliStarter` object is indexed the same as the `X`, `Y`, and `Z` `PauliStarter` objects, but the specific index applied to the `I` `PauliStarter` object has no effect. A loose (but not required convention) is to use `I[-1]` to indicate the overall `I` operator:"
   ]
  },
  {
   "cell_type": "code",
   "execution_count": 4,
   "metadata": {
    "execution": {
     "iopub.execute_input": "2022-08-13T05:09:12.228355Z",
     "iopub.status.busy": "2022-08-13T05:09:12.227217Z",
     "iopub.status.idle": "2022-08-13T05:09:12.241744Z",
     "shell.execute_reply": "2022-08-13T05:09:12.239725Z"
    }
   },
   "outputs": [
    {
     "name": "stdout",
     "output_type": "stream",
     "text": [
      "+1.0*I\n",
      "+1.0*I\n",
      "+1.0*X0\n",
      "+1.0*X0\n"
     ]
    }
   ],
   "source": [
    "print(I[-1])\n",
    "print(I[1])\n",
    "print(I[-1] * X[0])\n",
    "print(I[1] * X[0])"
   ]
  },
  {
   "cell_type": "markdown",
   "metadata": {},
   "source": [
    "Next, we have overloaded all relevant arithmetic operators within the `Pauli` class to allow arithmetic composition of linear combinations of products of single-qubit Pauli operators. These work with either `float` or `complex` coefficients:"
   ]
  },
  {
   "cell_type": "code",
   "execution_count": 5,
   "metadata": {
    "execution": {
     "iopub.execute_input": "2022-08-13T05:09:12.248450Z",
     "iopub.status.busy": "2022-08-13T05:09:12.247884Z",
     "iopub.status.idle": "2022-08-13T05:09:12.259085Z",
     "shell.execute_reply": "2022-08-13T05:09:12.257510Z"
    }
   },
   "outputs": [
    {
     "name": "stdout",
     "output_type": "stream",
     "text": [
      "-1j*X0\n"
     ]
    }
   ],
   "source": [
    "print(-1.j * X[0])"
   ]
  },
  {
   "cell_type": "markdown",
   "metadata": {},
   "source": [
    "Note that products of Pauli operators on the same qubit index are automatically reduced to linear or constant complexity by the Pauli multiplication rules:"
   ]
  },
  {
   "cell_type": "code",
   "execution_count": 6,
   "metadata": {
    "execution": {
     "iopub.execute_input": "2022-08-13T05:09:12.269531Z",
     "iopub.status.busy": "2022-08-13T05:09:12.269047Z",
     "iopub.status.idle": "2022-08-13T05:09:12.287796Z",
     "shell.execute_reply": "2022-08-13T05:09:12.286599Z"
    }
   },
   "outputs": [
    {
     "name": "stdout",
     "output_type": "stream",
     "text": [
      "+1.0*I\n",
      "+1j*Z0\n",
      "-1j*Y0\n",
      "-1j*Z0\n",
      "+1.0*I\n",
      "+1j*X0\n",
      "+1j*Y0\n",
      "-1j*X0\n",
      "+1.0*I\n",
      "+1j*I\n",
      "-1j*I\n"
     ]
    }
   ],
   "source": [
    "print(X[0]*X[0])\n",
    "print(X[0]*Y[0])\n",
    "print(X[0]*Z[0])\n",
    "print(Y[0]*X[0])\n",
    "print(Y[0]*Y[0])\n",
    "print(Y[0]*Z[0])\n",
    "print(Z[0]*X[0])\n",
    "print(Z[0]*Y[0])\n",
    "print(Z[0]*Z[0])\n",
    "print(X[0]*Y[0]*Z[0])\n",
    "print(Y[0]*X[0]*Z[0])"
   ]
  },
  {
   "cell_type": "markdown",
   "metadata": {},
   "source": [
    "## Pauli Summary Attributes"
   ]
  },
  {
   "cell_type": "markdown",
   "metadata": {},
   "source": [
    "The unique occupied qubit indices over all strings encountered in a `Pauli` object are provided in the `qubits` property:"
   ]
  },
  {
   "cell_type": "code",
   "execution_count": 7,
   "metadata": {
    "execution": {
     "iopub.execute_input": "2022-08-13T05:09:12.294208Z",
     "iopub.status.busy": "2022-08-13T05:09:12.293146Z",
     "iopub.status.idle": "2022-08-13T05:09:12.300217Z",
     "shell.execute_reply": "2022-08-13T05:09:12.299190Z"
    }
   },
   "outputs": [
    {
     "name": "stdout",
     "output_type": "stream",
     "text": [
      "SortedSet([0, 2, 3])\n"
     ]
    }
   ],
   "source": [
    "pauli = X[0] + Y[2] + Z[3]\n",
    "print(pauli.qubits)"
   ]
  },
  {
   "cell_type": "markdown",
   "metadata": {},
   "source": [
    "The attribute `nqubit` is the total number of qubits between `min_qubit` and `max_qubit` (including any blank qubit indices). The attribute `nqubit_sparse` is the number of occupied qubits (excluding bland qubit indices):"
   ]
  },
  {
   "cell_type": "code",
   "execution_count": 8,
   "metadata": {
    "execution": {
     "iopub.execute_input": "2022-08-13T05:09:12.306425Z",
     "iopub.status.busy": "2022-08-13T05:09:12.305293Z",
     "iopub.status.idle": "2022-08-13T05:09:12.317928Z",
     "shell.execute_reply": "2022-08-13T05:09:12.316532Z"
    }
   },
   "outputs": [
    {
     "name": "stdout",
     "output_type": "stream",
     "text": [
      "4\n",
      "3\n",
      "0\n",
      "3\n"
     ]
    }
   ],
   "source": [
    "print(pauli.nqubit)\n",
    "print(pauli.nqubit_sparse)\n",
    "print(pauli.min_qubit)\n",
    "print(pauli.max_qubit)"
   ]
  },
  {
   "cell_type": "markdown",
   "metadata": {},
   "source": [
    "The maximum order attribute is the maximum number of one-qubit Pauli operators currently present in the `Pauli` object:"
   ]
  },
  {
   "cell_type": "code",
   "execution_count": 9,
   "metadata": {
    "execution": {
     "iopub.execute_input": "2022-08-13T05:09:12.326195Z",
     "iopub.status.busy": "2022-08-13T05:09:12.325036Z",
     "iopub.status.idle": "2022-08-13T05:09:12.338111Z",
     "shell.execute_reply": "2022-08-13T05:09:12.336744Z"
    }
   },
   "outputs": [
    {
     "name": "stdout",
     "output_type": "stream",
     "text": [
      "1\n"
     ]
    }
   ],
   "source": [
    "print(pauli.max_order)"
   ]
  },
  {
   "cell_type": "markdown",
   "metadata": {},
   "source": [
    "The number of terms attribute is the number of Pauli strings currently present in the `Pauli` object:"
   ]
  },
  {
   "cell_type": "code",
   "execution_count": 10,
   "metadata": {
    "execution": {
     "iopub.execute_input": "2022-08-13T05:09:12.345995Z",
     "iopub.status.busy": "2022-08-13T05:09:12.344529Z",
     "iopub.status.idle": "2022-08-13T05:09:12.354991Z",
     "shell.execute_reply": "2022-08-13T05:09:12.353538Z"
    }
   },
   "outputs": [
    {
     "name": "stdout",
     "output_type": "stream",
     "text": [
      "3\n"
     ]
    }
   ],
   "source": [
    "print(pauli.nterm)"
   ]
  },
  {
   "cell_type": "markdown",
   "metadata": {},
   "source": [
    "These are easily printable in a handy summary string:"
   ]
  },
  {
   "cell_type": "code",
   "execution_count": 11,
   "metadata": {
    "execution": {
     "iopub.execute_input": "2022-08-13T05:09:12.361716Z",
     "iopub.status.busy": "2022-08-13T05:09:12.361294Z",
     "iopub.status.idle": "2022-08-13T05:09:12.368379Z",
     "shell.execute_reply": "2022-08-13T05:09:12.366979Z"
    }
   },
   "outputs": [
    {
     "name": "stdout",
     "output_type": "stream",
     "text": [
      "Pauli:\n",
      "  nqubit     = 4\n",
      "  nterm      = 3\n",
      "  max_order  = 1\n",
      "\n"
     ]
    }
   ],
   "source": [
    "print(pauli.summary_str)"
   ]
  },
  {
   "cell_type": "markdown",
   "metadata": {},
   "source": [
    "## Dictionary Structure"
   ]
  },
  {
   "cell_type": "markdown",
   "metadata": {},
   "source": [
    "The `Pauli` class actually inherits from the `collections.OrderedDict` class, and internally is represented as an `OrderedDict` of `PauliString : float/complex` pairs."
   ]
  },
  {
   "cell_type": "code",
   "execution_count": 12,
   "metadata": {
    "execution": {
     "iopub.execute_input": "2022-08-13T05:09:12.378207Z",
     "iopub.status.busy": "2022-08-13T05:09:12.377857Z",
     "iopub.status.idle": "2022-08-13T05:09:12.385598Z",
     "shell.execute_reply": "2022-08-13T05:09:12.384137Z"
    }
   },
   "outputs": [
    {
     "name": "stdout",
     "output_type": "stream",
     "text": [
      "X0       :    1.0\n",
      "X0*Y1    :    1.0\n"
     ]
    }
   ],
   "source": [
    "pauli = X[0] + X[0] * Y[1]\n",
    "for string, value in pauli.items():\n",
    "    print('%-8s : %6s' % (string, value))"
   ]
  },
  {
   "cell_type": "markdown",
   "metadata": {},
   "source": [
    "We can use `dict` access methods to access and modify the coefficients of existing Pauli strings:"
   ]
  },
  {
   "cell_type": "code",
   "execution_count": 13,
   "metadata": {
    "execution": {
     "iopub.execute_input": "2022-08-13T05:09:12.392310Z",
     "iopub.status.busy": "2022-08-13T05:09:12.391384Z",
     "iopub.status.idle": "2022-08-13T05:09:12.400177Z",
     "shell.execute_reply": "2022-08-13T05:09:12.398501Z"
    }
   },
   "outputs": [
    {
     "name": "stdout",
     "output_type": "stream",
     "text": [
      "+1.0*X0\n",
      "+2.0*X0*Y1\n"
     ]
    }
   ],
   "source": [
    "pauli[quasar.PauliString.from_string('X0*Y1')] += 1.0\n",
    "print(pauli)"
   ]
  },
  {
   "cell_type": "markdown",
   "metadata": {},
   "source": [
    "and even add new Pauli strings:"
   ]
  },
  {
   "cell_type": "code",
   "execution_count": 14,
   "metadata": {
    "execution": {
     "iopub.execute_input": "2022-08-13T05:09:12.405536Z",
     "iopub.status.busy": "2022-08-13T05:09:12.404498Z",
     "iopub.status.idle": "2022-08-13T05:09:12.413043Z",
     "shell.execute_reply": "2022-08-13T05:09:12.411711Z"
    }
   },
   "outputs": [
    {
     "name": "stdout",
     "output_type": "stream",
     "text": [
      "+1.0*X0\n",
      "+2.0*X0*Y1\n",
      "+1.0*X0*Y4\n"
     ]
    }
   ],
   "source": [
    "pauli[quasar.PauliString.from_string('X0*Y4')] = 1.0\n",
    "print(pauli)"
   ]
  },
  {
   "cell_type": "markdown",
   "metadata": {},
   "source": [
    "All `dict` access methods have been overloaded to also accept `str` arguments, which will be converted to `PauliString` under the hood:"
   ]
  },
  {
   "cell_type": "code",
   "execution_count": 15,
   "metadata": {
    "execution": {
     "iopub.execute_input": "2022-08-13T05:09:12.417857Z",
     "iopub.status.busy": "2022-08-13T05:09:12.417474Z",
     "iopub.status.idle": "2022-08-13T05:09:12.424895Z",
     "shell.execute_reply": "2022-08-13T05:09:12.423405Z"
    }
   },
   "outputs": [
    {
     "name": "stdout",
     "output_type": "stream",
     "text": [
      "2.0\n",
      "2.0\n"
     ]
    }
   ],
   "source": [
    "pauli['X0'] += 1.0\n",
    "print(pauli['X0'])\n",
    "print(pauli['X0*Y1'])"
   ]
  },
  {
   "cell_type": "markdown",
   "metadata": {},
   "source": [
    "## PauliString and PauliOperator Utility Classes"
   ]
  },
  {
   "cell_type": "markdown",
   "metadata": {},
   "source": [
    "Utility class `PauliString` represents a string of one or more `PauliOperator` objects:"
   ]
  },
  {
   "cell_type": "code",
   "execution_count": 16,
   "metadata": {
    "execution": {
     "iopub.execute_input": "2022-08-13T05:09:12.432582Z",
     "iopub.status.busy": "2022-08-13T05:09:12.431964Z",
     "iopub.status.idle": "2022-08-13T05:09:12.441183Z",
     "shell.execute_reply": "2022-08-13T05:09:12.439602Z"
    }
   },
   "outputs": [
    {
     "name": "stdout",
     "output_type": "stream",
     "text": [
      "X0*Y1*Z2\n",
      "3\n",
      "(0, 1, 2)\n",
      "('X', 'Y', 'Z')\n"
     ]
    }
   ],
   "source": [
    "string = quasar.PauliString.from_string('X0*Y1*Z2')\n",
    "print(string)\n",
    "print(string.order)\n",
    "print(string.qubits)\n",
    "print(string.chars)"
   ]
  },
  {
   "cell_type": "markdown",
   "metadata": {},
   "source": [
    "From a data structure perspective, `PauliString` inherits from `tuple` and contains a `tuple` of `PauliOperator` objects:"
   ]
  },
  {
   "cell_type": "code",
   "execution_count": 17,
   "metadata": {
    "execution": {
     "iopub.execute_input": "2022-08-13T05:09:12.446638Z",
     "iopub.status.busy": "2022-08-13T05:09:12.446036Z",
     "iopub.status.idle": "2022-08-13T05:09:12.454389Z",
     "shell.execute_reply": "2022-08-13T05:09:12.453395Z"
    }
   },
   "outputs": [
    {
     "name": "stdout",
     "output_type": "stream",
     "text": [
      "X0\n",
      "<class 'quasar.pauli.PauliOperator'>\n"
     ]
    }
   ],
   "source": [
    "print(string[0])\n",
    "print(type(string[0]))"
   ]
  },
  {
   "cell_type": "markdown",
   "metadata": {},
   "source": [
    "Utility class `PauliOperator` represents a one-qubit Pauli operator with a given character and qubit index:"
   ]
  },
  {
   "cell_type": "code",
   "execution_count": 18,
   "metadata": {
    "execution": {
     "iopub.execute_input": "2022-08-13T05:09:12.460177Z",
     "iopub.status.busy": "2022-08-13T05:09:12.459821Z",
     "iopub.status.idle": "2022-08-13T05:09:12.467415Z",
     "shell.execute_reply": "2022-08-13T05:09:12.466325Z"
    }
   },
   "outputs": [
    {
     "name": "stdout",
     "output_type": "stream",
     "text": [
      "Y10\n",
      "10\n",
      "Y\n"
     ]
    }
   ],
   "source": [
    "operator = quasar.PauliOperator.from_string('Y10')\n",
    "print(operator)\n",
    "print(operator.qubit)\n",
    "print(operator.char)"
   ]
  },
  {
   "cell_type": "markdown",
   "metadata": {},
   "source": [
    "## Symmetry Considerations"
   ]
  },
  {
   "cell_type": "markdown",
   "metadata": {},
   "source": [
    "In practical problems involving two-qubit and $k$-qubit interactions, one usually encounters one of two possible conventions in the literature/code structure: the upper triangular representation or the symmetric representation. To permit both possibilities, `quasar` considers, e.g., `Z0*Z1` and `Z1*Z0` to be inequivalent `PauliString` objects:"
   ]
  },
  {
   "cell_type": "code",
   "execution_count": 19,
   "metadata": {
    "execution": {
     "iopub.execute_input": "2022-08-13T05:09:12.473465Z",
     "iopub.status.busy": "2022-08-13T05:09:12.473058Z",
     "iopub.status.idle": "2022-08-13T05:09:12.479627Z",
     "shell.execute_reply": "2022-08-13T05:09:12.478595Z"
    }
   },
   "outputs": [
    {
     "name": "stdout",
     "output_type": "stream",
     "text": [
      "+1.0*Z0*Z1\n",
      "+1.0*Z1*Z0\n"
     ]
    }
   ],
   "source": [
    "print(Z[0]*Z[1] + Z[1]*Z[0])"
   ]
  },
  {
   "cell_type": "code",
   "execution_count": 20,
   "metadata": {
    "execution": {
     "iopub.execute_input": "2022-08-13T05:09:12.488815Z",
     "iopub.status.busy": "2022-08-13T05:09:12.488243Z",
     "iopub.status.idle": "2022-08-13T05:09:12.495542Z",
     "shell.execute_reply": "2022-08-13T05:09:12.494488Z"
    }
   },
   "outputs": [
    {
     "name": "stdout",
     "output_type": "stream",
     "text": [
      "+2.0*Z0*Z1\n"
     ]
    }
   ],
   "source": [
    "print(Z[0]*Z[1] + Z[0]*Z[1])"
   ]
  },
  {
   "cell_type": "markdown",
   "metadata": {},
   "source": [
    "## Additional Math Functions"
   ]
  },
  {
   "cell_type": "markdown",
   "metadata": {},
   "source": [
    "A few additional math functions are provided in `Pauli` for convenience/advanced users. The `conj` property returns a new version of the `Pauli` object with the values conjugated:"
   ]
  },
  {
   "cell_type": "code",
   "execution_count": 21,
   "metadata": {
    "execution": {
     "iopub.execute_input": "2022-08-13T05:09:12.504140Z",
     "iopub.status.busy": "2022-08-13T05:09:12.503123Z",
     "iopub.status.idle": "2022-08-13T05:09:12.515918Z",
     "shell.execute_reply": "2022-08-13T05:09:12.514488Z"
    }
   },
   "outputs": [
    {
     "name": "stdout",
     "output_type": "stream",
     "text": [
      "+2.0*X0\n",
      "+2.0*X0*Y1\n",
      "+1.0*X0*Y4\n"
     ]
    }
   ],
   "source": [
    "print(pauli.conj)"
   ]
  },
  {
   "cell_type": "markdown",
   "metadata": {},
   "source": [
    "The `dot` method takes the dot product of coincident Pauli strings in two `Pauli` objects:"
   ]
  },
  {
   "cell_type": "code",
   "execution_count": 22,
   "metadata": {
    "execution": {
     "iopub.execute_input": "2022-08-13T05:09:12.522300Z",
     "iopub.status.busy": "2022-08-13T05:09:12.521855Z",
     "iopub.status.idle": "2022-08-13T05:09:12.528997Z",
     "shell.execute_reply": "2022-08-13T05:09:12.527957Z"
    }
   },
   "outputs": [
    {
     "name": "stdout",
     "output_type": "stream",
     "text": [
      "25.0\n"
     ]
    }
   ],
   "source": [
    "pauli = 3.0 * I[-1] + 4.0 * Z[0] * Z[1]\n",
    "print(pauli.dot(pauli))"
   ]
  },
  {
   "cell_type": "markdown",
   "metadata": {},
   "source": [
    "The `norm2` property returns the square root of the dot product of `self` with `self`:"
   ]
  },
  {
   "cell_type": "code",
   "execution_count": 23,
   "metadata": {
    "execution": {
     "iopub.execute_input": "2022-08-13T05:09:12.538803Z",
     "iopub.status.busy": "2022-08-13T05:09:12.537466Z",
     "iopub.status.idle": "2022-08-13T05:09:12.545069Z",
     "shell.execute_reply": "2022-08-13T05:09:12.543775Z"
    }
   },
   "outputs": [
    {
     "name": "stdout",
     "output_type": "stream",
     "text": [
      "5.0\n"
     ]
    }
   ],
   "source": [
    "print(pauli.norm2)"
   ]
  },
  {
   "cell_type": "markdown",
   "metadata": {},
   "source": [
    "The `norminf` property returns the magnitude of the largest coefficient of `self`:"
   ]
  },
  {
   "cell_type": "code",
   "execution_count": 24,
   "metadata": {
    "execution": {
     "iopub.execute_input": "2022-08-13T05:09:12.549309Z",
     "iopub.status.busy": "2022-08-13T05:09:12.548917Z",
     "iopub.status.idle": "2022-08-13T05:09:12.554704Z",
     "shell.execute_reply": "2022-08-13T05:09:12.553715Z"
    }
   },
   "outputs": [
    {
     "name": "stdout",
     "output_type": "stream",
     "text": [
      "4.0\n"
     ]
    }
   ],
   "source": [
    "print(pauli.norminf)"
   ]
  },
  {
   "cell_type": "markdown",
   "metadata": {},
   "source": [
    "The `zero` static method returns a new `Pauli` object initialized with no strings:"
   ]
  },
  {
   "cell_type": "code",
   "execution_count": 25,
   "metadata": {
    "execution": {
     "iopub.execute_input": "2022-08-13T05:09:12.561541Z",
     "iopub.status.busy": "2022-08-13T05:09:12.561164Z",
     "iopub.status.idle": "2022-08-13T05:09:12.569626Z",
     "shell.execute_reply": "2022-08-13T05:09:12.568507Z"
    }
   },
   "outputs": [
    {
     "name": "stdout",
     "output_type": "stream",
     "text": [
      "\n"
     ]
    }
   ],
   "source": [
    "print(quasar.Pauli.zero())"
   ]
  },
  {
   "cell_type": "markdown",
   "metadata": {},
   "source": [
    "The `zeros_like` static method returns a new `Pauli` object initialized with the strings of another `Pauli` object, but with coefficient values initialized to zero:"
   ]
  },
  {
   "cell_type": "code",
   "execution_count": 26,
   "metadata": {
    "execution": {
     "iopub.execute_input": "2022-08-13T05:09:12.575488Z",
     "iopub.status.busy": "2022-08-13T05:09:12.575149Z",
     "iopub.status.idle": "2022-08-13T05:09:12.581153Z",
     "shell.execute_reply": "2022-08-13T05:09:12.580112Z"
    }
   },
   "outputs": [
    {
     "name": "stdout",
     "output_type": "stream",
     "text": [
      "+0.0*I\n",
      "+0.0*Z0*Z1\n"
     ]
    }
   ],
   "source": [
    "print(quasar.Pauli.zeros_like(pauli))"
   ]
  },
  {
   "cell_type": "markdown",
   "metadata": {},
   "source": [
    "Many times, arithmetic manipulations yield Pauli strings with small or even zero coefficient values. A new `Pauli` object with such strings removed can be obtained by calling the `sieved` method, which takes an optional `cutoff` argument:"
   ]
  },
  {
   "cell_type": "code",
   "execution_count": 27,
   "metadata": {
    "execution": {
     "iopub.execute_input": "2022-08-13T05:09:12.587396Z",
     "iopub.status.busy": "2022-08-13T05:09:12.587023Z",
     "iopub.status.idle": "2022-08-13T05:09:12.595751Z",
     "shell.execute_reply": "2022-08-13T05:09:12.594681Z"
    }
   },
   "outputs": [
    {
     "name": "stdout",
     "output_type": "stream",
     "text": [
      "+0.0*I\n",
      "+4.0*Z0*Z1\n"
     ]
    }
   ],
   "source": [
    "pauli -= 3.0 * I[-1]\n",
    "print(pauli)"
   ]
  },
  {
   "cell_type": "code",
   "execution_count": 28,
   "metadata": {
    "execution": {
     "iopub.execute_input": "2022-08-13T05:09:12.601046Z",
     "iopub.status.busy": "2022-08-13T05:09:12.600682Z",
     "iopub.status.idle": "2022-08-13T05:09:12.610404Z",
     "shell.execute_reply": "2022-08-13T05:09:12.609091Z"
    }
   },
   "outputs": [
    {
     "name": "stdout",
     "output_type": "stream",
     "text": [
      "+4.0*Z0*Z1\n"
     ]
    }
   ],
   "source": [
    "print(pauli.sieved())"
   ]
  },
  {
   "cell_type": "code",
   "execution_count": 29,
   "metadata": {
    "execution": {
     "iopub.execute_input": "2022-08-13T05:09:12.615696Z",
     "iopub.status.busy": "2022-08-13T05:09:12.615345Z",
     "iopub.status.idle": "2022-08-13T05:09:12.621821Z",
     "shell.execute_reply": "2022-08-13T05:09:12.620480Z"
    }
   },
   "outputs": [
    {
     "name": "stdout",
     "output_type": "stream",
     "text": [
      "+4.0*Z0*Z1\n"
     ]
    }
   ],
   "source": [
    "print(pauli.sieved(cutoff=1.0E-14))"
   ]
  },
  {
   "cell_type": "markdown",
   "metadata": {},
   "source": [
    "## Hilbert Space Representation"
   ]
  },
  {
   "cell_type": "markdown",
   "metadata": {},
   "source": [
    "Sometimes, it can be quite useful to see what a `Pauli` object looks like in the computational-basis Hilbert space, or to see how the `Pauli` object acts on a statevector in the computational-basis Hilbert space. "
   ]
  },
  {
   "cell_type": "code",
   "execution_count": 30,
   "metadata": {
    "execution": {
     "iopub.execute_input": "2022-08-13T05:09:12.626042Z",
     "iopub.status.busy": "2022-08-13T05:09:12.625700Z",
     "iopub.status.idle": "2022-08-13T05:09:12.636159Z",
     "shell.execute_reply": "2022-08-13T05:09:12.634900Z"
    }
   },
   "outputs": [
    {
     "name": "stdout",
     "output_type": "stream",
     "text": [
      "[[0.+0.j 0.+0.j 0.+0.j 1.+0.j]\n",
      " [0.+0.j 0.+0.j 1.+0.j 0.+0.j]\n",
      " [0.+0.j 1.+0.j 0.+0.j 0.+0.j]\n",
      " [1.+0.j 0.+0.j 0.+0.j 0.+0.j]]\n",
      "[4.+0.j 3.+0.j 2.+0.j 1.+0.j]\n"
     ]
    }
   ],
   "source": [
    "pauli = X[0] * X[1]\n",
    "print(pauli.to_matrix())\n",
    "print(pauli.matrix_vector_product(np.array([1, 2, 3, 4])))"
   ]
  },
  {
   "cell_type": "markdown",
   "metadata": {},
   "source": [
    "It can also be very useful to convert from a computational-basis Hilbert space operator to an equivalent `Pauli` form:"
   ]
  },
  {
   "cell_type": "code",
   "execution_count": 31,
   "metadata": {
    "execution": {
     "iopub.execute_input": "2022-08-13T05:09:12.642441Z",
     "iopub.status.busy": "2022-08-13T05:09:12.641294Z",
     "iopub.status.idle": "2022-08-13T05:09:12.657064Z",
     "shell.execute_reply": "2022-08-13T05:09:12.654546Z"
    }
   },
   "outputs": [
    {
     "name": "stdout",
     "output_type": "stream",
     "text": [
      "[[ 0.+0.j  0.-0.j  0.-0.j -1.+0.j]\n",
      " [ 0.+0.j  0.+0.j  1.-0.j  0.-0.j]\n",
      " [ 0.+0.j  1.-0.j  0.+0.j  0.-0.j]\n",
      " [-1.+0.j  0.+0.j  0.+0.j  0.+0.j]]\n",
      "+(1+0j)*Y0*Y1\n"
     ]
    }
   ],
   "source": [
    "matrix = quasar.Matrix.YY\n",
    "print(matrix)\n",
    "pauli = quasar.Pauli.from_matrix(matrix)\n",
    "print(pauli)"
   ]
  },
  {
   "cell_type": "code",
   "execution_count": null,
   "metadata": {},
   "outputs": [],
   "source": []
  }
 ],
 "metadata": {
  "kernelspec": {
   "display_name": "Python 3",
   "language": "python",
   "name": "python3"
  },
  "language_info": {
   "codemirror_mode": {
    "name": "ipython",
    "version": 3
   },
   "file_extension": ".py",
   "mimetype": "text/x-python",
   "name": "python",
   "nbconvert_exporter": "python",
   "pygments_lexer": "ipython3",
   "version": "3.9.2"
  }
 },
 "nbformat": 4,
 "nbformat_minor": 4
}
