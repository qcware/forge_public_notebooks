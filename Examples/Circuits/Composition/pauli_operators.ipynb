{
 "cells": [
  {
   "cell_type": "markdown",
   "metadata": {},
   "source": [
    "# Pauli Objects"
   ]
  },
  {
   "cell_type": "markdown",
   "metadata": {},
   "source": [
    "## Introduction and Arithmetic"
   ]
  },
  {
   "cell_type": "markdown",
   "metadata": {},
   "source": [
    "Pauli operators acting on the $N$-qubit Hilbert space are ubiquitous in quantum circuit computations. In domain applications like QAOA and VQE, these often appear with a sparse structure corresponding to the physics of the problem at hand. To efficiently manipulate such operators and compute expectation values over the relevant Pauli strings, `quasar` features a `Pauli` class (and associated utility classes) that provide for sparse representation and intuitive manipulation of Pauli-type objects. "
   ]
  },
  {
   "cell_type": "markdown",
   "metadata": {},
   "source": [
    "To get started, let's grab some utility objects that generate the Pauli operators on individual qubit indices:"
   ]
  },
  {
   "cell_type": "code",
   "execution_count": 1,
   "metadata": {
    "execution": {
     "iopub.execute_input": "2022-12-21T05:09:30.769569Z",
     "iopub.status.busy": "2022-12-21T05:09:30.769224Z",
     "iopub.status.idle": "2022-12-21T05:09:31.234773Z",
     "shell.execute_reply": "2022-12-21T05:09:31.234174Z"
    }
   },
   "outputs": [],
   "source": [
    "from qcware import forge\n",
    "# this line is for internal tracking; it is not necessary for use!\n",
    "forge.config.set_environment_source_file('pauli_operators.ipynb')\n",
    "\n",
    "import numpy as np\n",
    "import quasar\n",
    "I, X, Y, Z = quasar.Pauli.IXYZ()"
   ]
  },
  {
   "cell_type": "markdown",
   "metadata": {},
   "source": [
    "Now, we can use these to start building up Pauli operators. "
   ]
  },
  {
   "cell_type": "code",
   "execution_count": 2,
   "metadata": {
    "execution": {
     "iopub.execute_input": "2022-12-21T05:09:31.238238Z",
     "iopub.status.busy": "2022-12-21T05:09:31.237619Z",
     "iopub.status.idle": "2022-12-21T05:09:31.243954Z",
     "shell.execute_reply": "2022-12-21T05:09:31.243402Z"
    }
   },
   "outputs": [
    {
     "name": "stdout",
     "output_type": "stream",
     "text": [
      "+4.0*I\n",
      "+(1-2j)*X0\n",
      "-1.0*X0*Y1\n",
      "+0.25*X0*Y1*Z2\n",
      "+2j*Y0\n",
      "+2j*Z0\n"
     ]
    }
   ],
   "source": [
    "pauli = I[-1] + X[0] - X[0] * Y[1] + 0.5 * X[0] * Y[1] * Z[2] - X[0] * Y[1] * Z[2] / 4.0\n",
    "pauli += 1.0\n",
    "pauli += 2.0 * (X[0] + Z[0]) * (X[0] + Y[0])\n",
    "pauli += pauli\n",
    "pauli /= 2.0\n",
    "print(pauli)"
   ]
  },
  {
   "cell_type": "markdown",
   "metadata": {},
   "source": [
    "How did that work? Next, `I/X/Y/Z` are \"`PauliStarter`\" objects that generate `Pauli` objects when indexed by the `[]` operator:"
   ]
  },
  {
   "cell_type": "code",
   "execution_count": 3,
   "metadata": {
    "execution": {
     "iopub.execute_input": "2022-12-21T05:09:31.246458Z",
     "iopub.status.busy": "2022-12-21T05:09:31.246022Z",
     "iopub.status.idle": "2022-12-21T05:09:31.249697Z",
     "shell.execute_reply": "2022-12-21T05:09:31.249127Z"
    }
   },
   "outputs": [
    {
     "name": "stdout",
     "output_type": "stream",
     "text": [
      "<class 'quasar.pauli.PauliStarter'>\n",
      "+1.0*X3\n",
      "<class 'quasar.pauli.Pauli'>\n"
     ]
    }
   ],
   "source": [
    "print(type(X))\n",
    "print(X[3])\n",
    "print(type(X[3]))"
   ]
  },
  {
   "cell_type": "markdown",
   "metadata": {},
   "source": [
    "**Technical Note:** Note that in the `Pauli` objects themselves, we only store the overall `I` operator and products of `X`, `Y`, and `Z` strings. Therefore, the `I` `PauliStarter` object is indexed the same as the `X`, `Y`, and `Z` `PauliStarter` objects, but the specific index applied to the `I` `PauliStarter` object has no effect. A loose (but not required convention) is to use `I[-1]` to indicate the overall `I` operator:"
   ]
  },
  {
   "cell_type": "code",
   "execution_count": 4,
   "metadata": {
    "execution": {
     "iopub.execute_input": "2022-12-21T05:09:31.252194Z",
     "iopub.status.busy": "2022-12-21T05:09:31.251893Z",
     "iopub.status.idle": "2022-12-21T05:09:31.257099Z",
     "shell.execute_reply": "2022-12-21T05:09:31.255764Z"
    }
   },
   "outputs": [
    {
     "name": "stdout",
     "output_type": "stream",
     "text": [
      "+1.0*I\n",
      "+1.0*I\n",
      "+1.0*X0\n",
      "+1.0*X0\n"
     ]
    }
   ],
   "source": [
    "print(I[-1])\n",
    "print(I[1])\n",
    "print(I[-1] * X[0])\n",
    "print(I[1] * X[0])"
   ]
  },
  {
   "cell_type": "markdown",
   "metadata": {},
   "source": [
    "Next, we have overloaded all relevant arithmetic operators within the `Pauli` class to allow arithmetic composition of linear combinations of products of single-qubit Pauli operators. These work with either `float` or `complex` coefficients:"
   ]
  },
  {
   "cell_type": "code",
   "execution_count": 5,
   "metadata": {
    "execution": {
     "iopub.execute_input": "2022-12-21T05:09:31.259353Z",
     "iopub.status.busy": "2022-12-21T05:09:31.259122Z",
     "iopub.status.idle": "2022-12-21T05:09:31.262808Z",
     "shell.execute_reply": "2022-12-21T05:09:31.262266Z"
    }
   },
   "outputs": [
    {
     "name": "stdout",
     "output_type": "stream",
     "text": [
      "-1j*X0\n"
     ]
    }
   ],
   "source": [
    "print(-1.j * X[0])"
   ]
  },
  {
   "cell_type": "markdown",
   "metadata": {},
   "source": [
    "Note that products of Pauli operators on the same qubit index are automatically reduced to linear or constant complexity by the Pauli multiplication rules:"
   ]
  },
  {
   "cell_type": "code",
   "execution_count": 6,
   "metadata": {
    "execution": {
     "iopub.execute_input": "2022-12-21T05:09:31.265241Z",
     "iopub.status.busy": "2022-12-21T05:09:31.264823Z",
     "iopub.status.idle": "2022-12-21T05:09:31.271328Z",
     "shell.execute_reply": "2022-12-21T05:09:31.270750Z"
    }
   },
   "outputs": [
    {
     "name": "stdout",
     "output_type": "stream",
     "text": [
      "+1.0*I\n",
      "+1j*Z0\n",
      "-1j*Y0\n",
      "-1j*Z0\n",
      "+1.0*I\n",
      "+1j*X0\n",
      "+1j*Y0\n",
      "-1j*X0\n",
      "+1.0*I\n",
      "+1j*I\n",
      "-1j*I\n"
     ]
    }
   ],
   "source": [
    "print(X[0]*X[0])\n",
    "print(X[0]*Y[0])\n",
    "print(X[0]*Z[0])\n",
    "print(Y[0]*X[0])\n",
    "print(Y[0]*Y[0])\n",
    "print(Y[0]*Z[0])\n",
    "print(Z[0]*X[0])\n",
    "print(Z[0]*Y[0])\n",
    "print(Z[0]*Z[0])\n",
    "print(X[0]*Y[0]*Z[0])\n",
    "print(Y[0]*X[0]*Z[0])"
   ]
  },
  {
   "cell_type": "markdown",
   "metadata": {},
   "source": [
    "## Pauli Summary Attributes"
   ]
  },
  {
   "cell_type": "markdown",
   "metadata": {},
   "source": [
    "The unique occupied qubit indices over all strings encountered in a `Pauli` object are provided in the `qubits` property:"
   ]
  },
  {
   "cell_type": "code",
   "execution_count": 7,
   "metadata": {
    "execution": {
     "iopub.execute_input": "2022-12-21T05:09:31.274013Z",
     "iopub.status.busy": "2022-12-21T05:09:31.273524Z",
     "iopub.status.idle": "2022-12-21T05:09:31.277700Z",
     "shell.execute_reply": "2022-12-21T05:09:31.277151Z"
    }
   },
   "outputs": [
    {
     "name": "stdout",
     "output_type": "stream",
     "text": [
      "SortedSet([0, 2, 3])\n"
     ]
    }
   ],
   "source": [
    "pauli = X[0] + Y[2] + Z[3]\n",
    "print(pauli.qubits)"
   ]
  },
  {
   "cell_type": "markdown",
   "metadata": {},
   "source": [
    "The attribute `nqubit` is the total number of qubits between `min_qubit` and `max_qubit` (including any blank qubit indices). The attribute `nqubit_sparse` is the number of occupied qubits (excluding bland qubit indices):"
   ]
  },
  {
   "cell_type": "code",
   "execution_count": 8,
   "metadata": {
    "execution": {
     "iopub.execute_input": "2022-12-21T05:09:31.280207Z",
     "iopub.status.busy": "2022-12-21T05:09:31.279727Z",
     "iopub.status.idle": "2022-12-21T05:09:31.283476Z",
     "shell.execute_reply": "2022-12-21T05:09:31.282960Z"
    }
   },
   "outputs": [
    {
     "name": "stdout",
     "output_type": "stream",
     "text": [
      "4\n",
      "3\n",
      "0\n",
      "3\n"
     ]
    }
   ],
   "source": [
    "print(pauli.nqubit)\n",
    "print(pauli.nqubit_sparse)\n",
    "print(pauli.min_qubit)\n",
    "print(pauli.max_qubit)"
   ]
  },
  {
   "cell_type": "markdown",
   "metadata": {},
   "source": [
    "The maximum order attribute is the maximum number of one-qubit Pauli operators currently present in the `Pauli` object:"
   ]
  },
  {
   "cell_type": "code",
   "execution_count": 9,
   "metadata": {
    "execution": {
     "iopub.execute_input": "2022-12-21T05:09:31.286127Z",
     "iopub.status.busy": "2022-12-21T05:09:31.285898Z",
     "iopub.status.idle": "2022-12-21T05:09:31.289515Z",
     "shell.execute_reply": "2022-12-21T05:09:31.288837Z"
    }
   },
   "outputs": [
    {
     "name": "stdout",
     "output_type": "stream",
     "text": [
      "1\n"
     ]
    }
   ],
   "source": [
    "print(pauli.max_order)"
   ]
  },
  {
   "cell_type": "markdown",
   "metadata": {},
   "source": [
    "The number of terms attribute is the number of Pauli strings currently present in the `Pauli` object:"
   ]
  },
  {
   "cell_type": "code",
   "execution_count": 10,
   "metadata": {
    "execution": {
     "iopub.execute_input": "2022-12-21T05:09:31.292210Z",
     "iopub.status.busy": "2022-12-21T05:09:31.291651Z",
     "iopub.status.idle": "2022-12-21T05:09:31.295560Z",
     "shell.execute_reply": "2022-12-21T05:09:31.295029Z"
    }
   },
   "outputs": [
    {
     "name": "stdout",
     "output_type": "stream",
     "text": [
      "3\n"
     ]
    }
   ],
   "source": [
    "print(pauli.nterm)"
   ]
  },
  {
   "cell_type": "markdown",
   "metadata": {},
   "source": [
    "These are easily printable in a handy summary string:"
   ]
  },
  {
   "cell_type": "code",
   "execution_count": 11,
   "metadata": {
    "execution": {
     "iopub.execute_input": "2022-12-21T05:09:31.297852Z",
     "iopub.status.busy": "2022-12-21T05:09:31.297603Z",
     "iopub.status.idle": "2022-12-21T05:09:31.300840Z",
     "shell.execute_reply": "2022-12-21T05:09:31.300225Z"
    }
   },
   "outputs": [
    {
     "name": "stdout",
     "output_type": "stream",
     "text": [
      "Pauli:\n",
      "  nqubit     = 4\n",
      "  nterm      = 3\n",
      "  max_order  = 1\n",
      "\n"
     ]
    }
   ],
   "source": [
    "print(pauli.summary_str)"
   ]
  },
  {
   "cell_type": "markdown",
   "metadata": {},
   "source": [
    "## Dictionary Structure"
   ]
  },
  {
   "cell_type": "markdown",
   "metadata": {},
   "source": [
    "The `Pauli` class actually inherits from the `collections.OrderedDict` class, and internally is represented as an `OrderedDict` of `PauliString : float/complex` pairs."
   ]
  },
  {
   "cell_type": "code",
   "execution_count": 12,
   "metadata": {
    "execution": {
     "iopub.execute_input": "2022-12-21T05:09:31.303127Z",
     "iopub.status.busy": "2022-12-21T05:09:31.302790Z",
     "iopub.status.idle": "2022-12-21T05:09:31.306559Z",
     "shell.execute_reply": "2022-12-21T05:09:31.306051Z"
    }
   },
   "outputs": [
    {
     "name": "stdout",
     "output_type": "stream",
     "text": [
      "X0       :    1.0\n",
      "X0*Y1    :    1.0\n"
     ]
    }
   ],
   "source": [
    "pauli = X[0] + X[0] * Y[1]\n",
    "for string, value in pauli.items():\n",
    "    print('%-8s : %6s' % (string, value))"
   ]
  },
  {
   "cell_type": "markdown",
   "metadata": {},
   "source": [
    "We can use `dict` access methods to access and modify the coefficients of existing Pauli strings:"
   ]
  },
  {
   "cell_type": "code",
   "execution_count": 13,
   "metadata": {
    "execution": {
     "iopub.execute_input": "2022-12-21T05:09:31.308969Z",
     "iopub.status.busy": "2022-12-21T05:09:31.308526Z",
     "iopub.status.idle": "2022-12-21T05:09:31.312030Z",
     "shell.execute_reply": "2022-12-21T05:09:31.311508Z"
    }
   },
   "outputs": [
    {
     "name": "stdout",
     "output_type": "stream",
     "text": [
      "+1.0*X0\n",
      "+2.0*X0*Y1\n"
     ]
    }
   ],
   "source": [
    "pauli[quasar.PauliString.from_string('X0*Y1')] += 1.0\n",
    "print(pauli)"
   ]
  },
  {
   "cell_type": "markdown",
   "metadata": {},
   "source": [
    "and even add new Pauli strings:"
   ]
  },
  {
   "cell_type": "code",
   "execution_count": 14,
   "metadata": {
    "execution": {
     "iopub.execute_input": "2022-12-21T05:09:31.314422Z",
     "iopub.status.busy": "2022-12-21T05:09:31.313985Z",
     "iopub.status.idle": "2022-12-21T05:09:31.317457Z",
     "shell.execute_reply": "2022-12-21T05:09:31.316906Z"
    }
   },
   "outputs": [
    {
     "name": "stdout",
     "output_type": "stream",
     "text": [
      "+1.0*X0\n",
      "+2.0*X0*Y1\n",
      "+1.0*X0*Y4\n"
     ]
    }
   ],
   "source": [
    "pauli[quasar.PauliString.from_string('X0*Y4')] = 1.0\n",
    "print(pauli)"
   ]
  },
  {
   "cell_type": "markdown",
   "metadata": {},
   "source": [
    "All `dict` access methods have been overloaded to also accept `str` arguments, which will be converted to `PauliString` under the hood:"
   ]
  },
  {
   "cell_type": "code",
   "execution_count": 15,
   "metadata": {
    "execution": {
     "iopub.execute_input": "2022-12-21T05:09:31.319701Z",
     "iopub.status.busy": "2022-12-21T05:09:31.319268Z",
     "iopub.status.idle": "2022-12-21T05:09:31.322668Z",
     "shell.execute_reply": "2022-12-21T05:09:31.322042Z"
    }
   },
   "outputs": [
    {
     "name": "stdout",
     "output_type": "stream",
     "text": [
      "2.0\n",
      "2.0\n"
     ]
    }
   ],
   "source": [
    "pauli['X0'] += 1.0\n",
    "print(pauli['X0'])\n",
    "print(pauli['X0*Y1'])"
   ]
  },
  {
   "cell_type": "markdown",
   "metadata": {},
   "source": [
    "## PauliString and PauliOperator Utility Classes"
   ]
  },
  {
   "cell_type": "markdown",
   "metadata": {},
   "source": [
    "Utility class `PauliString` represents a string of one or more `PauliOperator` objects:"
   ]
  },
  {
   "cell_type": "code",
   "execution_count": 16,
   "metadata": {
    "execution": {
     "iopub.execute_input": "2022-12-21T05:09:31.325047Z",
     "iopub.status.busy": "2022-12-21T05:09:31.324625Z",
     "iopub.status.idle": "2022-12-21T05:09:31.328197Z",
     "shell.execute_reply": "2022-12-21T05:09:31.327616Z"
    }
   },
   "outputs": [
    {
     "name": "stdout",
     "output_type": "stream",
     "text": [
      "X0*Y1*Z2\n",
      "3\n",
      "(0, 1, 2)\n",
      "('X', 'Y', 'Z')\n"
     ]
    }
   ],
   "source": [
    "string = quasar.PauliString.from_string('X0*Y1*Z2')\n",
    "print(string)\n",
    "print(string.order)\n",
    "print(string.qubits)\n",
    "print(string.chars)"
   ]
  },
  {
   "cell_type": "markdown",
   "metadata": {},
   "source": [
    "From a data structure perspective, `PauliString` inherits from `tuple` and contains a `tuple` of `PauliOperator` objects:"
   ]
  },
  {
   "cell_type": "code",
   "execution_count": 17,
   "metadata": {
    "execution": {
     "iopub.execute_input": "2022-12-21T05:09:31.330452Z",
     "iopub.status.busy": "2022-12-21T05:09:31.330127Z",
     "iopub.status.idle": "2022-12-21T05:09:31.333465Z",
     "shell.execute_reply": "2022-12-21T05:09:31.332930Z"
    }
   },
   "outputs": [
    {
     "name": "stdout",
     "output_type": "stream",
     "text": [
      "X0\n",
      "<class 'quasar.pauli.PauliOperator'>\n"
     ]
    }
   ],
   "source": [
    "print(string[0])\n",
    "print(type(string[0]))"
   ]
  },
  {
   "cell_type": "markdown",
   "metadata": {},
   "source": [
    "Utility class `PauliOperator` represents a one-qubit Pauli operator with a given character and qubit index:"
   ]
  },
  {
   "cell_type": "code",
   "execution_count": 18,
   "metadata": {
    "execution": {
     "iopub.execute_input": "2022-12-21T05:09:31.335508Z",
     "iopub.status.busy": "2022-12-21T05:09:31.335280Z",
     "iopub.status.idle": "2022-12-21T05:09:31.339513Z",
     "shell.execute_reply": "2022-12-21T05:09:31.338221Z"
    }
   },
   "outputs": [
    {
     "name": "stdout",
     "output_type": "stream",
     "text": [
      "Y10\n",
      "10\n",
      "Y\n"
     ]
    }
   ],
   "source": [
    "operator = quasar.PauliOperator.from_string('Y10')\n",
    "print(operator)\n",
    "print(operator.qubit)\n",
    "print(operator.char)"
   ]
  },
  {
   "cell_type": "markdown",
   "metadata": {},
   "source": [
    "## Symmetry Considerations"
   ]
  },
  {
   "cell_type": "markdown",
   "metadata": {},
   "source": [
    "In practical problems involving two-qubit and $k$-qubit interactions, one usually encounters one of two possible conventions in the literature/code structure: the upper triangular representation or the symmetric representation. To permit both possibilities, `quasar` considers, e.g., `Z0*Z1` and `Z1*Z0` to be inequivalent `PauliString` objects:"
   ]
  },
  {
   "cell_type": "code",
   "execution_count": 19,
   "metadata": {
    "execution": {
     "iopub.execute_input": "2022-12-21T05:09:31.341993Z",
     "iopub.status.busy": "2022-12-21T05:09:31.341735Z",
     "iopub.status.idle": "2022-12-21T05:09:31.345543Z",
     "shell.execute_reply": "2022-12-21T05:09:31.345020Z"
    }
   },
   "outputs": [
    {
     "name": "stdout",
     "output_type": "stream",
     "text": [
      "+1.0*Z0*Z1\n",
      "+1.0*Z1*Z0\n"
     ]
    }
   ],
   "source": [
    "print(Z[0]*Z[1] + Z[1]*Z[0])"
   ]
  },
  {
   "cell_type": "code",
   "execution_count": 20,
   "metadata": {
    "execution": {
     "iopub.execute_input": "2022-12-21T05:09:31.348220Z",
     "iopub.status.busy": "2022-12-21T05:09:31.347915Z",
     "iopub.status.idle": "2022-12-21T05:09:31.353645Z",
     "shell.execute_reply": "2022-12-21T05:09:31.353020Z"
    }
   },
   "outputs": [
    {
     "name": "stdout",
     "output_type": "stream",
     "text": [
      "+2.0*Z0*Z1\n"
     ]
    }
   ],
   "source": [
    "print(Z[0]*Z[1] + Z[0]*Z[1])"
   ]
  },
  {
   "cell_type": "markdown",
   "metadata": {},
   "source": [
    "## Additional Math Functions"
   ]
  },
  {
   "cell_type": "markdown",
   "metadata": {},
   "source": [
    "A few additional math functions are provided in `Pauli` for convenience/advanced users. The `conj` property returns a new version of the `Pauli` object with the values conjugated:"
   ]
  },
  {
   "cell_type": "code",
   "execution_count": 21,
   "metadata": {
    "execution": {
     "iopub.execute_input": "2022-12-21T05:09:31.356170Z",
     "iopub.status.busy": "2022-12-21T05:09:31.355897Z",
     "iopub.status.idle": "2022-12-21T05:09:31.360045Z",
     "shell.execute_reply": "2022-12-21T05:09:31.359463Z"
    }
   },
   "outputs": [
    {
     "name": "stdout",
     "output_type": "stream",
     "text": [
      "+2.0*X0\n",
      "+2.0*X0*Y1\n",
      "+1.0*X0*Y4\n"
     ]
    }
   ],
   "source": [
    "print(pauli.conj)"
   ]
  },
  {
   "cell_type": "markdown",
   "metadata": {},
   "source": [
    "The `dot` method takes the dot product of coincident Pauli strings in two `Pauli` objects:"
   ]
  },
  {
   "cell_type": "code",
   "execution_count": 22,
   "metadata": {
    "execution": {
     "iopub.execute_input": "2022-12-21T05:09:31.362802Z",
     "iopub.status.busy": "2022-12-21T05:09:31.362548Z",
     "iopub.status.idle": "2022-12-21T05:09:31.367805Z",
     "shell.execute_reply": "2022-12-21T05:09:31.367254Z"
    }
   },
   "outputs": [
    {
     "name": "stdout",
     "output_type": "stream",
     "text": [
      "25.0\n"
     ]
    }
   ],
   "source": [
    "pauli = 3.0 * I[-1] + 4.0 * Z[0] * Z[1]\n",
    "print(pauli.dot(pauli))"
   ]
  },
  {
   "cell_type": "markdown",
   "metadata": {},
   "source": [
    "The `norm2` property returns the square root of the dot product of `self` with `self`:"
   ]
  },
  {
   "cell_type": "code",
   "execution_count": 23,
   "metadata": {
    "execution": {
     "iopub.execute_input": "2022-12-21T05:09:31.370653Z",
     "iopub.status.busy": "2022-12-21T05:09:31.370423Z",
     "iopub.status.idle": "2022-12-21T05:09:31.373539Z",
     "shell.execute_reply": "2022-12-21T05:09:31.373004Z"
    }
   },
   "outputs": [
    {
     "name": "stdout",
     "output_type": "stream",
     "text": [
      "5.0\n"
     ]
    }
   ],
   "source": [
    "print(pauli.norm2)"
   ]
  },
  {
   "cell_type": "markdown",
   "metadata": {},
   "source": [
    "The `norminf` property returns the magnitude of the largest coefficient of `self`:"
   ]
  },
  {
   "cell_type": "code",
   "execution_count": 24,
   "metadata": {
    "execution": {
     "iopub.execute_input": "2022-12-21T05:09:31.375878Z",
     "iopub.status.busy": "2022-12-21T05:09:31.375642Z",
     "iopub.status.idle": "2022-12-21T05:09:31.379412Z",
     "shell.execute_reply": "2022-12-21T05:09:31.378762Z"
    }
   },
   "outputs": [
    {
     "name": "stdout",
     "output_type": "stream",
     "text": [
      "4.0\n"
     ]
    }
   ],
   "source": [
    "print(pauli.norminf)"
   ]
  },
  {
   "cell_type": "markdown",
   "metadata": {},
   "source": [
    "The `zero` static method returns a new `Pauli` object initialized with no strings:"
   ]
  },
  {
   "cell_type": "code",
   "execution_count": 25,
   "metadata": {
    "execution": {
     "iopub.execute_input": "2022-12-21T05:09:31.382103Z",
     "iopub.status.busy": "2022-12-21T05:09:31.381586Z",
     "iopub.status.idle": "2022-12-21T05:09:31.385487Z",
     "shell.execute_reply": "2022-12-21T05:09:31.384791Z"
    }
   },
   "outputs": [
    {
     "name": "stdout",
     "output_type": "stream",
     "text": [
      "\n"
     ]
    }
   ],
   "source": [
    "print(quasar.Pauli.zero())"
   ]
  },
  {
   "cell_type": "markdown",
   "metadata": {},
   "source": [
    "The `zeros_like` static method returns a new `Pauli` object initialized with the strings of another `Pauli` object, but with coefficient values initialized to zero:"
   ]
  },
  {
   "cell_type": "code",
   "execution_count": 26,
   "metadata": {
    "execution": {
     "iopub.execute_input": "2022-12-21T05:09:31.388060Z",
     "iopub.status.busy": "2022-12-21T05:09:31.387592Z",
     "iopub.status.idle": "2022-12-21T05:09:31.390925Z",
     "shell.execute_reply": "2022-12-21T05:09:31.390424Z"
    }
   },
   "outputs": [
    {
     "name": "stdout",
     "output_type": "stream",
     "text": [
      "+0.0*I\n",
      "+0.0*Z0*Z1\n"
     ]
    }
   ],
   "source": [
    "print(quasar.Pauli.zeros_like(pauli))"
   ]
  },
  {
   "cell_type": "markdown",
   "metadata": {},
   "source": [
    "Many times, arithmetic manipulations yield Pauli strings with small or even zero coefficient values. A new `Pauli` object with such strings removed can be obtained by calling the `sieved` method, which takes an optional `cutoff` argument:"
   ]
  },
  {
   "cell_type": "code",
   "execution_count": 27,
   "metadata": {
    "execution": {
     "iopub.execute_input": "2022-12-21T05:09:31.398241Z",
     "iopub.status.busy": "2022-12-21T05:09:31.398037Z",
     "iopub.status.idle": "2022-12-21T05:09:31.401933Z",
     "shell.execute_reply": "2022-12-21T05:09:31.401324Z"
    }
   },
   "outputs": [
    {
     "name": "stdout",
     "output_type": "stream",
     "text": [
      "+0.0*I\n",
      "+4.0*Z0*Z1\n"
     ]
    }
   ],
   "source": [
    "pauli -= 3.0 * I[-1]\n",
    "print(pauli)"
   ]
  },
  {
   "cell_type": "code",
   "execution_count": 28,
   "metadata": {
    "execution": {
     "iopub.execute_input": "2022-12-21T05:09:31.405387Z",
     "iopub.status.busy": "2022-12-21T05:09:31.405169Z",
     "iopub.status.idle": "2022-12-21T05:09:31.410479Z",
     "shell.execute_reply": "2022-12-21T05:09:31.409922Z"
    }
   },
   "outputs": [
    {
     "name": "stdout",
     "output_type": "stream",
     "text": [
      "+4.0*Z0*Z1\n"
     ]
    }
   ],
   "source": [
    "print(pauli.sieved())"
   ]
  },
  {
   "cell_type": "code",
   "execution_count": 29,
   "metadata": {
    "execution": {
     "iopub.execute_input": "2022-12-21T05:09:31.413177Z",
     "iopub.status.busy": "2022-12-21T05:09:31.412861Z",
     "iopub.status.idle": "2022-12-21T05:09:31.416999Z",
     "shell.execute_reply": "2022-12-21T05:09:31.416396Z"
    }
   },
   "outputs": [
    {
     "name": "stdout",
     "output_type": "stream",
     "text": [
      "+4.0*Z0*Z1\n"
     ]
    }
   ],
   "source": [
    "print(pauli.sieved(cutoff=1.0E-14))"
   ]
  },
  {
   "cell_type": "markdown",
   "metadata": {},
   "source": [
    "## Hilbert Space Representation"
   ]
  },
  {
   "cell_type": "markdown",
   "metadata": {},
   "source": [
    "Sometimes, it can be quite useful to see what a `Pauli` object looks like in the computational-basis Hilbert space, or to see how the `Pauli` object acts on a statevector in the computational-basis Hilbert space. "
   ]
  },
  {
   "cell_type": "code",
   "execution_count": 30,
   "metadata": {
    "execution": {
     "iopub.execute_input": "2022-12-21T05:09:31.419415Z",
     "iopub.status.busy": "2022-12-21T05:09:31.419129Z",
     "iopub.status.idle": "2022-12-21T05:09:31.424426Z",
     "shell.execute_reply": "2022-12-21T05:09:31.423708Z"
    }
   },
   "outputs": [
    {
     "name": "stdout",
     "output_type": "stream",
     "text": [
      "[[0.+0.j 0.+0.j 0.+0.j 1.+0.j]\n",
      " [0.+0.j 0.+0.j 1.+0.j 0.+0.j]\n",
      " [0.+0.j 1.+0.j 0.+0.j 0.+0.j]\n",
      " [1.+0.j 0.+0.j 0.+0.j 0.+0.j]]\n",
      "[4.+0.j 3.+0.j 2.+0.j 1.+0.j]\n"
     ]
    }
   ],
   "source": [
    "pauli = X[0] * X[1]\n",
    "print(pauli.to_matrix())\n",
    "print(pauli.matrix_vector_product(np.array([1, 2, 3, 4])))"
   ]
  },
  {
   "cell_type": "markdown",
   "metadata": {},
   "source": [
    "It can also be very useful to convert from a computational-basis Hilbert space operator to an equivalent `Pauli` form:"
   ]
  },
  {
   "cell_type": "code",
   "execution_count": 31,
   "metadata": {
    "execution": {
     "iopub.execute_input": "2022-12-21T05:09:31.427425Z",
     "iopub.status.busy": "2022-12-21T05:09:31.427137Z",
     "iopub.status.idle": "2022-12-21T05:09:31.433256Z",
     "shell.execute_reply": "2022-12-21T05:09:31.432737Z"
    }
   },
   "outputs": [
    {
     "name": "stdout",
     "output_type": "stream",
     "text": [
      "[[ 0.+0.j  0.-0.j  0.-0.j -1.+0.j]\n",
      " [ 0.+0.j  0.+0.j  1.-0.j  0.-0.j]\n",
      " [ 0.+0.j  1.-0.j  0.+0.j  0.-0.j]\n",
      " [-1.+0.j  0.+0.j  0.+0.j  0.+0.j]]\n",
      "+(1+0j)*Y0*Y1\n"
     ]
    }
   ],
   "source": [
    "matrix = quasar.Matrix.YY\n",
    "print(matrix)\n",
    "pauli = quasar.Pauli.from_matrix(matrix)\n",
    "print(pauli)"
   ]
  },
  {
   "cell_type": "code",
   "execution_count": null,
   "metadata": {},
   "outputs": [],
   "source": []
  }
 ],
 "metadata": {
  "kernelspec": {
   "display_name": "Python 3",
   "language": "python",
   "name": "python3"
  },
  "language_info": {
   "codemirror_mode": {
    "name": "ipython",
    "version": 3
   },
   "file_extension": ".py",
   "mimetype": "text/x-python",
   "name": "python",
   "nbconvert_exporter": "python",
   "pygments_lexer": "ipython3",
   "version": "3.9.2"
  }
 },
 "nbformat": 4,
 "nbformat_minor": 4
}
