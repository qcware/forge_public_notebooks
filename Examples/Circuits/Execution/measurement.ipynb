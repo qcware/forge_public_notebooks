{
 "cells": [
  {
   "cell_type": "markdown",
   "metadata": {},
   "source": [
    "# Histogram Objects"
   ]
  },
  {
   "cell_type": "code",
   "execution_count": 1,
   "metadata": {
    "execution": {
     "iopub.execute_input": "2022-06-24T05:09:02.440818Z",
     "iopub.status.busy": "2022-06-24T05:09:02.440269Z",
     "iopub.status.idle": "2022-06-24T05:09:03.163082Z",
     "shell.execute_reply": "2022-06-24T05:09:03.161662Z"
    }
   },
   "outputs": [],
   "source": [
    "from qcware import forge\n",
    "# this line is for internal tracking; it is not necessary for use!\n",
    "forge.config.set_environment_source_file('measurement.ipynb')\n",
    "\n",
    "\n",
    "import quasar"
   ]
  },
  {
   "cell_type": "markdown",
   "metadata": {},
   "source": [
    "## Introduction"
   ]
  },
  {
   "cell_type": "markdown",
   "metadata": {},
   "source": [
    "A fundamental operation encountered in qubit hardware is the process of measurement. Generally, one prepares a quantum state by running a quantum circuit and then projectively measures each qubit to determine if that qubit ends up in the $|0\\rangle$ or $|1\\rangle$ state. The collective measurement result over all qubits is a binary string, e.g., $|0011\\rangle$, which we refer to as a `Ket`. This procedure is repeated `nmeasurement` times, with different `Ket`s appearing probabilistically according to the square of the amplitude of each `Ket` in the quantum state. The fundamental output from this overall process is a histogram of `Ket` strings observed together with the the probability that each one was observed and the total number of measurements. We refer to this overall output as a `ProbabilityHistogram` object. An alternative output in terms of histogram of `Ket` strings observed together with the the integral number of times that each one was observed is provided as the `CountHistogram` object - utility functions exist to quickly convert back and forth between `ProbabilityHistogram` and `CountHistogram`.\n",
    "\n",
    "**Naming:** The names of these two classes were selected after much debate. For `Ket`, we could have used `int` with a fixed endian condition, `str` which we would trust the user to always be composed of `0` and `1`, or a class which could alternatively be named `Ket`, `String`, or `Configuration`. We decided to use `Ket` to force the order, typing, and correctness of this concept, and to make the indexing of `ProbabilityHistogram` and `CountHistogram` also support direct indexing by `str` (cast to `Ket` under the hood) to make things easy. For `ProbabilityHistogram`, we could have used a `dict` or other map, or a class which could alternatively be named `Histogram`, `Counts`, `Shots`, `Probabilities` or any variation thereof. We decided to use `MeasurementResult` to keep things maximally explicit. Note that most users will encounter these objects as the output of `quasar` library methods, and will rarely need to explicitly construct `Ket`, `ProbabilityHistogram`, or `CountHistogram` objects. In this case, the manipulation of these data structures seems straightforward, and allows for easy casting to other data structures that the user might prefer."
   ]
  },
  {
   "cell_type": "markdown",
   "metadata": {},
   "source": [
    "## The ProbabilityHistogram and CountHistogram Objects"
   ]
  },
  {
   "cell_type": "markdown",
   "metadata": {},
   "source": [
    "To standardize the representation of the full histogram of results of a complete measurement process, `quasar` provides the `ProbabilityHistogram` object,"
   ]
  },
  {
   "cell_type": "code",
   "execution_count": 2,
   "metadata": {
    "execution": {
     "iopub.execute_input": "2022-06-24T05:09:03.168762Z",
     "iopub.status.busy": "2022-06-24T05:09:03.167907Z",
     "iopub.status.idle": "2022-06-24T05:09:03.179792Z",
     "shell.execute_reply": "2022-06-24T05:09:03.178189Z"
    }
   },
   "outputs": [
    {
     "name": "stdout",
     "output_type": "stream",
     "text": [
      "nqubit       : 4\n",
      "nmeasurement : 1000\n",
      "|0011> : 0.200000\n",
      "|1100> : 0.800000\n",
      "\n"
     ]
    }
   ],
   "source": [
    "probabilities = quasar.ProbabilityHistogram(\n",
    "  nqubit=4,\n",
    "  histogram={\n",
    "     3  : 0.2, #  3 is 0011\n",
    "     12 : 0.8, # 12 is 1100\n",
    "  },\n",
    "  nmeasurement=1000,\n",
    ")\n",
    "print(probabilities)"
   ]
  },
  {
   "cell_type": "markdown",
   "metadata": {},
   "source": [
    "`ProbabilityHistogram` supports read-only indexing:"
   ]
  },
  {
   "cell_type": "code",
   "execution_count": 3,
   "metadata": {
    "execution": {
     "iopub.execute_input": "2022-06-24T05:09:03.186511Z",
     "iopub.status.busy": "2022-06-24T05:09:03.185600Z",
     "iopub.status.idle": "2022-06-24T05:09:03.194745Z",
     "shell.execute_reply": "2022-06-24T05:09:03.192854Z"
    }
   },
   "outputs": [
    {
     "name": "stdout",
     "output_type": "stream",
     "text": [
      "0.2\n"
     ]
    }
   ],
   "source": [
    "print(probabilities[3])"
   ]
  },
  {
   "cell_type": "markdown",
   "metadata": {},
   "source": [
    "For convenience, you can also use `str` objects to index a `ProbabilityHistogram`:"
   ]
  },
  {
   "cell_type": "code",
   "execution_count": 4,
   "metadata": {
    "execution": {
     "iopub.execute_input": "2022-06-24T05:09:03.205518Z",
     "iopub.status.busy": "2022-06-24T05:09:03.204496Z",
     "iopub.status.idle": "2022-06-24T05:09:03.211996Z",
     "shell.execute_reply": "2022-06-24T05:09:03.210670Z"
    }
   },
   "outputs": [
    {
     "name": "stdout",
     "output_type": "stream",
     "text": [
      "0.2\n"
     ]
    }
   ],
   "source": [
    "print(probabilities['0011'])"
   ]
  },
  {
   "cell_type": "markdown",
   "metadata": {},
   "source": [
    "The total number of measurements is provided in the `nmeasurement` attribute:"
   ]
  },
  {
   "cell_type": "code",
   "execution_count": 5,
   "metadata": {
    "execution": {
     "iopub.execute_input": "2022-06-24T05:09:03.225757Z",
     "iopub.status.busy": "2022-06-24T05:09:03.223007Z",
     "iopub.status.idle": "2022-06-24T05:09:03.236573Z",
     "shell.execute_reply": "2022-06-24T05:09:03.235328Z"
    }
   },
   "outputs": [
    {
     "name": "stdout",
     "output_type": "stream",
     "text": [
      "1000\n"
     ]
    }
   ],
   "source": [
    "print(probabilities.nmeasurement)"
   ]
  },
  {
   "cell_type": "markdown",
   "metadata": {},
   "source": [
    "The number of qubits is provided in the `nqubit` attribute:"
   ]
  },
  {
   "cell_type": "code",
   "execution_count": 6,
   "metadata": {
    "execution": {
     "iopub.execute_input": "2022-06-24T05:09:03.255073Z",
     "iopub.status.busy": "2022-06-24T05:09:03.254517Z",
     "iopub.status.idle": "2022-06-24T05:09:03.262537Z",
     "shell.execute_reply": "2022-06-24T05:09:03.260950Z"
    }
   },
   "outputs": [
    {
     "name": "stdout",
     "output_type": "stream",
     "text": [
      "4\n"
     ]
    }
   ],
   "source": [
    "print(probabilities.nqubit)"
   ]
  },
  {
   "cell_type": "markdown",
   "metadata": {},
   "source": [
    "Many users are more familiar with the finite integer counts of each `Ket`, as opposed to the probabilities of each `Ket`. To deal with the former, we provide the utility to convert from a `ProbabilityHistogram` (based on floating point probabilities) to a `CountHistogram` (based on integral counts):"
   ]
  },
  {
   "cell_type": "code",
   "execution_count": 7,
   "metadata": {
    "execution": {
     "iopub.execute_input": "2022-06-24T05:09:03.272166Z",
     "iopub.status.busy": "2022-06-24T05:09:03.271331Z",
     "iopub.status.idle": "2022-06-24T05:09:03.282545Z",
     "shell.execute_reply": "2022-06-24T05:09:03.281265Z"
    }
   },
   "outputs": [
    {
     "name": "stdout",
     "output_type": "stream",
     "text": [
      "nqubit       : 4\n",
      "nmeasurement : 1000\n",
      "|0011> : 200\n",
      "|1100> : 800\n",
      "\n",
      "200\n"
     ]
    }
   ],
   "source": [
    "counts = probabilities.to_count_histogram()\n",
    "print(counts)\n",
    "print(counts['0011'])"
   ]
  },
  {
   "cell_type": "markdown",
   "metadata": {},
   "source": [
    "One can also convert the other direction from a `CountHistogram` to a `ProbabilityHistogram`:"
   ]
  },
  {
   "cell_type": "code",
   "execution_count": 8,
   "metadata": {
    "execution": {
     "iopub.execute_input": "2022-06-24T05:09:03.296839Z",
     "iopub.status.busy": "2022-06-24T05:09:03.296340Z",
     "iopub.status.idle": "2022-06-24T05:09:03.303519Z",
     "shell.execute_reply": "2022-06-24T05:09:03.302506Z"
    }
   },
   "outputs": [
    {
     "name": "stdout",
     "output_type": "stream",
     "text": [
      "nqubit       : 4\n",
      "nmeasurement : 1000\n",
      "|0011> : 0.200000\n",
      "|1100> : 0.800000\n",
      "\n",
      "0.2\n"
     ]
    }
   ],
   "source": [
    "probabilities2 = counts.to_probability_histogram()\n",
    "print(probabilities2)\n",
    "print(probabilities2['0011'])"
   ]
  },
  {
   "cell_type": "markdown",
   "metadata": {},
   "source": [
    "## Infinite Sampling"
   ]
  },
  {
   "cell_type": "markdown",
   "metadata": {},
   "source": [
    "In working computations, the `ProbabilityHistogram` is preferred, as it allows for conceptually ideal infinite statistical sampling (indicated by `nmeasurement=None` to indicate infinite `nmeasurement`). No corresponding `CountHistogram` is valid (as all the counts would be infinite), so an error is thrown if one tries to convert an infinitely-sampled `ProbabilityHistogram` to `CountHistogram`:"
   ]
  },
  {
   "cell_type": "code",
   "execution_count": 9,
   "metadata": {
    "execution": {
     "iopub.execute_input": "2022-06-24T05:09:03.308788Z",
     "iopub.status.busy": "2022-06-24T05:09:03.308178Z",
     "iopub.status.idle": "2022-06-24T05:09:03.315458Z",
     "shell.execute_reply": "2022-06-24T05:09:03.314213Z"
    }
   },
   "outputs": [
    {
     "name": "stdout",
     "output_type": "stream",
     "text": [
      "nqubit       : 4\n",
      "nmeasurement : None\n",
      "|0011> : 0.200000\n",
      "|1100> : 0.800000\n",
      "\n"
     ]
    }
   ],
   "source": [
    "probabilities = quasar.ProbabilityHistogram(\n",
    " nqubit=4,\n",
    " histogram={\n",
    "    3  : 0.2,  #  3 is 0011\n",
    "    12 : 0.8,  # 12 is 1100\n",
    " },\n",
    " nmeasurement=None,\n",
    ")\n",
    "print(probabilities)\n",
    "# Throws due to infinite sampling\n",
    "# counts = probabilities.to_count_histogram()"
   ]
  },
  {
   "cell_type": "markdown",
   "metadata": {},
   "source": [
    "## Measurement in Action"
   ]
  },
  {
   "cell_type": "markdown",
   "metadata": {},
   "source": [
    "Here we show the main place a user would encounter these objects: calling `run_measurement` to sample the output of a given quantum circuit:"
   ]
  },
  {
   "cell_type": "code",
   "execution_count": 10,
   "metadata": {
    "execution": {
     "iopub.execute_input": "2022-06-24T05:09:03.320059Z",
     "iopub.status.busy": "2022-06-24T05:09:03.319647Z",
     "iopub.status.idle": "2022-06-24T05:09:03.330158Z",
     "shell.execute_reply": "2022-06-24T05:09:03.328761Z"
    }
   },
   "outputs": [
    {
     "name": "stdout",
     "output_type": "stream",
     "text": [
      "T  : |0|1|2|\n",
      "\n",
      "q0 : -H-@---\n",
      "        |   \n",
      "q1 : ---X-@-\n",
      "          | \n",
      "q2 : -----X-\n",
      "            \n",
      "T  : |0|1|2|\n",
      "\n"
     ]
    }
   ],
   "source": [
    "circuit = quasar.Circuit().H(0).CX(0,1).CX(1,2)\n",
    "print(circuit)"
   ]
  },
  {
   "cell_type": "markdown",
   "metadata": {},
   "source": [
    "Here is an example with finite `nmeasurement`, which returns as a `ProbabilityHistogram` and is convertible to a `CountHistogram`.\n",
    "\n",
    "We'll be using Forge to do the calculations on the server side, so we'll use the Forge client library's \"QuasarBackend\" class, which\n",
    "takes a backend string as an argument.  The Forge quasar backend looks a lot like a regular quasar backend, with one notable exception:\n",
    "all arguments must be \"keyword arguments\" (there are no positional arguments)"
   ]
  },
  {
   "cell_type": "code",
   "execution_count": 11,
   "metadata": {
    "execution": {
     "iopub.execute_input": "2022-06-24T05:09:03.334967Z",
     "iopub.status.busy": "2022-06-24T05:09:03.334294Z",
     "iopub.status.idle": "2022-06-24T05:09:03.620008Z",
     "shell.execute_reply": "2022-06-24T05:09:03.618537Z"
    }
   },
   "outputs": [
    {
     "name": "stdout",
     "output_type": "stream",
     "text": [
      "Quasar: An Ultralite Quantum Circuit Simulator\n",
      "   By Rob Parrish (rob.parrish@qcware.com)    \n"
     ]
    }
   ],
   "source": [
    "backend = forge.circuits.QuasarBackend('qcware/cpu_simulator')\n",
    "print(backend.summary_str())"
   ]
  },
  {
   "cell_type": "code",
   "execution_count": 12,
   "metadata": {
    "execution": {
     "iopub.execute_input": "2022-06-24T05:09:03.624729Z",
     "iopub.status.busy": "2022-06-24T05:09:03.624337Z",
     "iopub.status.idle": "2022-06-24T05:09:03.920519Z",
     "shell.execute_reply": "2022-06-24T05:09:03.918929Z"
    }
   },
   "outputs": [
    {
     "name": "stdout",
     "output_type": "stream",
     "text": [
      "nqubit       : 3\n",
      "nmeasurement : 1000\n",
      "|000> : 0.502000\n",
      "|111> : 0.498000\n",
      "\n",
      "nqubit       : 3\n",
      "nmeasurement : 1000\n",
      "|000> : 502\n",
      "|111> : 498\n",
      "\n"
     ]
    }
   ],
   "source": [
    "probabilities = backend.run_measurement(circuit=circuit, nmeasurement=1000)\n",
    "print(probabilities)\n",
    "counts = probabilities.to_count_histogram()\n",
    "print(counts)"
   ]
  },
  {
   "cell_type": "markdown",
   "metadata": {},
   "source": [
    "Here is an example with infinite `nmeasurement`, which returns as a `ProbabilityHistogram` and is **not** convertible to a `CountHistogram`:"
   ]
  },
  {
   "cell_type": "code",
   "execution_count": 13,
   "metadata": {
    "execution": {
     "iopub.execute_input": "2022-06-24T05:09:03.926052Z",
     "iopub.status.busy": "2022-06-24T05:09:03.925264Z",
     "iopub.status.idle": "2022-06-24T05:09:04.222365Z",
     "shell.execute_reply": "2022-06-24T05:09:04.220718Z"
    }
   },
   "outputs": [
    {
     "name": "stdout",
     "output_type": "stream",
     "text": [
      "nqubit       : 3\n",
      "nmeasurement : None\n",
      "|000> : 0.500000\n",
      "|111> : 0.500000\n",
      "\n"
     ]
    }
   ],
   "source": [
    "probabilities = backend.run_measurement(circuit=circuit, nmeasurement=None)\n",
    "print(probabilities)\n",
    "# Throws due to infinite sampling\n",
    "# counts = probabilities.to_count_histogram()\n",
    "# print(counts)"
   ]
  }
 ],
 "metadata": {
  "kernelspec": {
   "display_name": "Python 3",
   "language": "python",
   "name": "python3"
  },
  "language_info": {
   "codemirror_mode": {
    "name": "ipython",
    "version": 3
   },
   "file_extension": ".py",
   "mimetype": "text/x-python",
   "name": "python",
   "nbconvert_exporter": "python",
   "pygments_lexer": "ipython3",
   "version": "3.9.2"
  }
 },
 "nbformat": 4,
 "nbformat_minor": 4
}
