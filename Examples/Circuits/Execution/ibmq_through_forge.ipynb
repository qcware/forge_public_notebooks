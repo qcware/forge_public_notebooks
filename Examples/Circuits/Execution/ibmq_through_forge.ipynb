{
  "cells":[
    {
      "cell_type":"markdown",
      "id":"active-tender",
      "metadata":{},
      "source":[
        "# Using IBMQ Backends with Forge"
      ]
    },
    {
      "cell_type":"markdown",
      "id":"municipal-district",
      "metadata":{},
      "source":[
        "### Prepare IBMQ Experience credentials"
      ]
    },
    {
      "cell_type":"code",
      "execution_count":null,
      "id":"enabling-wheat",
      "metadata":{},
      "outputs":[],
      "source":[
        "from qcware import forge\n",
        "# this line is for internal tracking; it is not necessary for use!\n",
        "forge.config.set_environment_source_file('ibmq_through_forge.ipynb')\n",
        "\n",
        "\n",
        "from qiskit.providers.ibmq import IBMQ"
      ]
    },
    {
      "cell_type":"markdown",
      "id":"immune-israeli",
      "metadata":{},
      "source":[
        "To set your credentials, use `IBMQ.save_account` with your API token. Go to https://quantum-computing.ibm.com/ sign in, and copy the token."
      ]
    },
    {
      "cell_type":"code",
      "execution_count":null,
      "id":"younger-interface",
      "metadata":{},
      "outputs":[],
      "source":[
        "# IBMQ.save_account('paste API token here')\n",
        "try:\n",
        "    IBMQ.load_account()\n",
        "    forge.config.set_ibmq_credentials_from_ibmq(IBMQ)\n",
        "except Exception as e:\n",
        "    print(\"Something went wrong with loading your IBM Q Credentials!  Anticipate problems with the rest of this notebook.\")\n"
      ]
    },
    {
      "cell_type":"markdown",
      "id":"mathematical-orchestra",
      "metadata":{},
      "source":[
        "### Prepare data and make a loader circuit"
      ]
    },
    {
      "cell_type":"code",
      "execution_count":null,
      "id":"empirical-bracket",
      "metadata":{},
      "outputs":[],
      "source":[
        "import numpy as np\n",
        "# Made-up data\n",
        "data = np.random.rand(4)\n",
        "data = data / np.linalg.norm(data)\n",
        "\n",
        "# QC Ware data loader circuit\n",
        "circuit = forge.qio.loader(data=data)\n",
        "\n",
        "print(circuit)"
      ]
    },
    {
      "cell_type":"markdown",
      "id":"numeric-trigger",
      "metadata":{},
      "source":[
        "### Run on IBMQ Simulator and Hardware"
      ]
    },
    {
      "cell_type":"code",
      "execution_count":null,
      "id":"valuable-detection",
      "metadata":{},
      "outputs":[],
      "source":[
        "from quasar import Circuit\n",
        "\n",
        "# Simulator Run:\n",
        "try:\n",
        "    backend = forge.circuits.QuasarBackend('ibmq:ibmq_qasm_simulator')\n",
        "    histogram = backend.run_measurement(circuit=circuit, nmeasurement=100)\n",
        "    print(histogram)\n",
        "except Exception as e:\n",
        "    print(e)"
      ]
    },
    {
      "cell_type":"markdown",
      "id":"c37494ca-2612-4397-a632-ca8f1fd7f9a2",
      "metadata":{},
      "source":[
        "Because hardware calls can take a long time, here's one way to just submit a call and then simply wait on it until it's complete; see the \"Retrieving Long Task Results\" notebook for more details and other ways to do this!"
      ]
    },
    {
      "cell_type":"code",
      "execution_count":null,
      "id":"9b03fac1-cd7d-4a0a-9c13-553f503a1380",
      "metadata":{},
      "outputs":[],
      "source":[
        "import time\n",
        "from quasar import Circuit\n",
        "\n",
        "# Simulator Run:\n",
        "try:\n",
        "    backend = forge.circuits.QuasarBackend('ibmq:ibmq_qasm_simulator')\n",
        "    histogram = await backend.run_measurement.call_async(circuit=circuit, nmeasurement=100)\n",
        "    print(histogram)\n",
        "except Exception as e:\n",
        "    print(e)"
      ]
    },
    {
      "cell_type":"markdown",
      "id":"curious-burden",
      "metadata":{},
      "source":[
        "Uncomment the code in the next cell to run on IBM quantum hardware, using the above technique:"
      ]
    },
    {
      "cell_type":"code",
      "execution_count":null,
      "id":"polished-automation",
      "metadata":{},
      "outputs":[],
      "source":[
        "# backend = QuasarBackend('ibmq:ibmq_athens')\n",
        "# histogram = await backend.run_measurement.call_async(circuit=circuit, nmeasurement=100)\n",
        "# print(histogram)"
      ]
    }
  ],
  "metadata":{
    "kernelspec":{
      "display_name":"Python 3",
      "language":"python",
      "name":"python3"
    },
    "language_info":{
      "codemirror_mode":{
        "name":"ipython",
        "version":3
      },
      "file_extension":".py",
      "mimetype":"text/x-python",
      "name":"python",
      "nbconvert_exporter":"python",
      "pygments_lexer":"ipython3",
      "version":"3.9.2"
    }
  },
  "nbformat":4,
  "nbformat_minor":5
}