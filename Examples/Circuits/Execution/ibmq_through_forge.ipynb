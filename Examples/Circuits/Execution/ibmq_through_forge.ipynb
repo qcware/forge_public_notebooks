{
 "cells": [
  {
   "cell_type": "markdown",
   "id": "active-tender",
   "metadata": {},
   "source": [
    "# Using IBMQ Backends with Forge"
   ]
  },
  {
   "cell_type": "markdown",
   "id": "municipal-district",
   "metadata": {},
   "source": [
    "### Prepare IBMQ Experience credentials\n",
    "<div class=\"alert alert-block alert-warning\">\n",
    "    Note: The following notebook uses features of Forge (data loaders) which are not available to Developer-level (free) accounts.  As well, it will not function if you cannot provide IBMQ credentials.\n",
    "</div>"
   ]
  },
  {
   "cell_type": "code",
   "execution_count": 1,
   "id": "enabling-wheat",
   "metadata": {
    "execution": {
     "iopub.execute_input": "2022-11-14T05:13:55.067694Z",
     "iopub.status.busy": "2022-11-14T05:13:55.067175Z",
     "iopub.status.idle": "2022-11-14T05:13:56.538501Z",
     "shell.execute_reply": "2022-11-14T05:13:56.537854Z"
    }
   },
   "outputs": [],
   "source": [
    "from qcware import forge\n",
    "# this line is for internal tracking; it is not necessary for use!\n",
    "forge.config.set_environment_source_file('ibmq_through_forge.ipynb')\n",
    "\n",
    "\n",
    "from qiskit.providers.ibmq import IBMQ"
   ]
  },
  {
   "cell_type": "markdown",
   "id": "immune-israeli",
   "metadata": {},
   "source": [
    "To set your credentials, use `IBMQ.save_account` with your API token. Go to https://quantum-computing.ibm.com/ sign in, and copy the token.\n",
    "\n",
    "It's important to note that IBMQ can have many _providers_, particularly if your token is associated with various hubs, groups, or projects.  Therefore to set your credentials, you must choose a provider from those in `IBMQ.providers()`.  The default provider is the first in the list, `IBMQ.providers()[0]`"
   ]
  },
  {
   "cell_type": "code",
   "execution_count": 2,
   "id": "younger-interface",
   "metadata": {
    "execution": {
     "iopub.execute_input": "2022-11-14T05:13:56.542035Z",
     "iopub.status.busy": "2022-11-14T05:13:56.541705Z",
     "iopub.status.idle": "2022-11-14T05:13:56.546416Z",
     "shell.execute_reply": "2022-11-14T05:13:56.545899Z"
    }
   },
   "outputs": [
    {
     "name": "stdout",
     "output_type": "stream",
     "text": [
      "Something went wrong with loading your IBM Q Credentials!  Anticipate problems with the rest of this notebook.\n",
      "'No IBM Quantum Experience credentials found.'\n"
     ]
    }
   ],
   "source": [
    "# IBMQ.save_account('paste API token here')\n",
    "try:\n",
    "    IBMQ.load_account()\n",
    "    provider = IBMQ.providers()[0]\n",
    "    print(f\"Using provider with hub {provider.credentials.hub}, group {provider.credentials.group}, project {provider.credentials.project}\")\n",
    "    forge.config.set_ibmq_credentials_from_ibmq_provider(IBMQ.providers()[0])\n",
    "except Exception as e:\n",
    "    print(\"Something went wrong with loading your IBM Q Credentials!  Anticipate problems with the rest of this notebook.\")\n",
    "    print(e)\n"
   ]
  },
  {
   "cell_type": "markdown",
   "id": "mathematical-orchestra",
   "metadata": {},
   "source": [
    "### Prepare data and make a loader circuit"
   ]
  },
  {
   "cell_type": "code",
   "execution_count": 3,
   "id": "empirical-bracket",
   "metadata": {
    "execution": {
     "iopub.execute_input": "2022-11-14T05:13:56.549186Z",
     "iopub.status.busy": "2022-11-14T05:13:56.548889Z",
     "iopub.status.idle": "2022-11-14T05:13:57.000194Z",
     "shell.execute_reply": "2022-11-14T05:13:56.999007Z"
    }
   },
   "outputs": [
    {
     "name": "stdout",
     "output_type": "stream",
     "text": [
      "T  : |0|1|2|3|4|5|\n",
      "\n",
      "q0 : -X-B-@-------\n",
      "        | |       \n",
      "q1 : ---S-|---@---\n",
      "          |   |   \n",
      "q2 : -----X-B-X-B-\n",
      "            |   | \n",
      "q3 : -------S---S-\n",
      "                  \n",
      "T  : |0|1|2|3|4|5|\n",
      "\n"
     ]
    }
   ],
   "source": [
    "import numpy as np\n",
    "# Made-up data\n",
    "data = np.random.rand(4)\n",
    "data = data / np.linalg.norm(data)\n",
    "\n",
    "# QC Ware data loader circuit\n",
    "circuit = forge.qio.loader(data=data)\n",
    "\n",
    "print(circuit)"
   ]
  },
  {
   "cell_type": "markdown",
   "id": "numeric-trigger",
   "metadata": {},
   "source": [
    "### Run on IBMQ Simulator and Hardware"
   ]
  },
  {
   "cell_type": "code",
   "execution_count": 4,
   "id": "valuable-detection",
   "metadata": {
    "execution": {
     "iopub.execute_input": "2022-11-14T05:13:57.003709Z",
     "iopub.status.busy": "2022-11-14T05:13:57.003026Z",
     "iopub.status.idle": "2022-11-14T05:13:57.911968Z",
     "shell.execute_reply": "2022-11-14T05:13:57.911189Z"
    }
   },
   "outputs": [
    {
     "name": "stdout",
     "output_type": "stream",
     "text": [
      "ValueError('No IBM Q Experience token provided (needed for ibmq:ibmq_qasm_simulator backend)')\n"
     ]
    }
   ],
   "source": [
    "from quasar import Circuit\n",
    "\n",
    "# Simulator Run:\n",
    "try:\n",
    "    backend = forge.circuits.QuasarBackend('ibmq:ibmq_qasm_simulator')\n",
    "    histogram = backend.run_measurement(circuit=circuit, nmeasurement=100)\n",
    "    print(histogram)\n",
    "except Exception as e:\n",
    "    print(e)"
   ]
  },
  {
   "cell_type": "markdown",
   "id": "c37494ca-2612-4397-a632-ca8f1fd7f9a2",
   "metadata": {},
   "source": [
    "Because hardware calls can take a long time, here's one way to just submit a call and then simply wait on it until it's complete; see the \"Retrieving Long Task Results\" notebook for more details and other ways to do this!"
   ]
  },
  {
   "cell_type": "code",
   "execution_count": 5,
   "id": "9b03fac1-cd7d-4a0a-9c13-553f503a1380",
   "metadata": {
    "execution": {
     "iopub.execute_input": "2022-11-14T05:13:57.914701Z",
     "iopub.status.busy": "2022-11-14T05:13:57.914436Z",
     "iopub.status.idle": "2022-11-14T05:13:58.387034Z",
     "shell.execute_reply": "2022-11-14T05:13:58.386463Z"
    }
   },
   "outputs": [
    {
     "name": "stdout",
     "output_type": "stream",
     "text": [
      "ValueError('No IBM Q Experience token provided (needed for ibmq:ibmq_qasm_simulator backend)')\n"
     ]
    }
   ],
   "source": [
    "import time\n",
    "from quasar import Circuit\n",
    "\n",
    "# Simulator Run:\n",
    "try:\n",
    "    backend = forge.circuits.QuasarBackend('ibmq:ibmq_qasm_simulator')\n",
    "    histogram = await backend.run_measurement.call_async(circuit=circuit, nmeasurement=100)\n",
    "    print(histogram)\n",
    "except Exception as e:\n",
    "    print(e)"
   ]
  },
  {
   "cell_type": "markdown",
   "id": "curious-burden",
   "metadata": {},
   "source": [
    "Uncomment the code in the next cell to run on IBM quantum hardware, using the above technique:"
   ]
  },
  {
   "cell_type": "code",
   "execution_count": 6,
   "id": "polished-automation",
   "metadata": {
    "execution": {
     "iopub.execute_input": "2022-11-14T05:13:58.389634Z",
     "iopub.status.busy": "2022-11-14T05:13:58.389368Z",
     "iopub.status.idle": "2022-11-14T05:13:58.392171Z",
     "shell.execute_reply": "2022-11-14T05:13:58.391636Z"
    }
   },
   "outputs": [],
   "source": [
    "# backend = QuasarBackend('ibmq:ibmq_athens')\n",
    "# histogram = await backend.run_measurement.call_async(circuit=circuit, nmeasurement=100)\n",
    "# print(histogram)"
   ]
  }
 ],
 "metadata": {
  "kernelspec": {
   "display_name": "Python 3 (ipykernel)",
   "language": "python",
   "name": "python3"
  },
  "language_info": {
   "codemirror_mode": {
    "name": "ipython",
    "version": 3
   },
   "file_extension": ".py",
   "mimetype": "text/x-python",
   "name": "python",
   "nbconvert_exporter": "python",
   "pygments_lexer": "ipython3",
   "version": "3.9.2"
  }
 },
 "nbformat": 4,
 "nbformat_minor": 5
}
