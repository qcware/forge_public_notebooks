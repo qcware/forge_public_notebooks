{
 "cells": [
  {
   "cell_type": "markdown",
   "id": "active-tender",
   "metadata": {},
   "source": [
    "# Using IBMQ Backends with Forge"
   ]
  },
  {
   "cell_type": "markdown",
   "id": "municipal-district",
   "metadata": {},
   "source": [
    "### Prepare IBMQ Experience credentials\n",
    "<div class=\"alert alert-block alert-warning\">\n",
    "    Note: The following notebook uses features of Forge (data loaders) which are not available to Developer-level (free) accounts.  As well, it will not function if you cannot provide IBMQ credentials.\n",
    "</div>"
   ]
  },
  {
   "cell_type": "code",
   "execution_count": 1,
   "id": "enabling-wheat",
   "metadata": {
    "execution": {
     "iopub.execute_input": "2022-05-16T05:08:59.290873Z",
     "iopub.status.busy": "2022-05-16T05:08:59.290052Z",
     "iopub.status.idle": "2022-05-16T05:09:01.241375Z",
     "shell.execute_reply": "2022-05-16T05:09:01.240332Z"
    }
   },
   "outputs": [],
   "source": [
    "from qcware import forge\n",
    "# this line is for internal tracking; it is not necessary for use!\n",
    "forge.config.set_environment_source_file('ibmq_through_forge.ipynb')\n",
    "\n",
    "\n",
    "from qiskit.providers.ibmq import IBMQ"
   ]
  },
  {
   "cell_type": "markdown",
   "id": "immune-israeli",
   "metadata": {},
   "source": [
    "To set your credentials, use `IBMQ.save_account` with your API token. Go to https://quantum-computing.ibm.com/ sign in, and copy the token.\n",
    "\n",
    "It's important to note that IBMQ can have many _providers_, particularly if your token is associated with various hubs, groups, or projects.  Therefore to set your credentials, you must choose a provider from those in `IBMQ.providers()`.  The default provider is the first in the list, `IBMQ.providers()[0]`"
   ]
  },
  {
   "cell_type": "code",
   "execution_count": 2,
   "id": "younger-interface",
   "metadata": {
    "execution": {
     "iopub.execute_input": "2022-05-16T05:09:01.249417Z",
     "iopub.status.busy": "2022-05-16T05:09:01.248392Z",
     "iopub.status.idle": "2022-05-16T05:09:01.252556Z",
     "shell.execute_reply": "2022-05-16T05:09:01.252037Z"
    }
   },
   "outputs": [
    {
     "name": "stdout",
     "output_type": "stream",
     "text": [
      "Something went wrong with loading your IBM Q Credentials!  Anticipate problems with the rest of this notebook.\n",
      "'No IBM Quantum Experience credentials found.'\n"
     ]
    }
   ],
   "source": [
    "# IBMQ.save_account('paste API token here')\n",
    "try:\n",
    "    IBMQ.load_account()\n",
    "    provider = IBMQ.providers()[0]\n",
    "    print(f\"Using provider with hub {provider.credentials.hub}, group {provider.credentials.group}, project {provider.credentials.project}\")\n",
    "    forge.config.set_ibmq_credentials_from_ibmq_provider(IBMQ.providers()[0])\n",
    "except Exception as e:\n",
    "    print(\"Something went wrong with loading your IBM Q Credentials!  Anticipate problems with the rest of this notebook.\")\n",
    "    print(e)\n"
   ]
  },
  {
   "cell_type": "markdown",
   "id": "mathematical-orchestra",
   "metadata": {},
   "source": [
    "### Prepare data and make a loader circuit"
   ]
  },
  {
   "cell_type": "code",
   "execution_count": 3,
   "id": "empirical-bracket",
   "metadata": {
    "execution": {
     "iopub.execute_input": "2022-05-16T05:09:01.262920Z",
     "iopub.status.busy": "2022-05-16T05:09:01.262147Z",
     "iopub.status.idle": "2022-05-16T05:09:01.765742Z",
     "shell.execute_reply": "2022-05-16T05:09:01.766453Z"
    }
   },
   "outputs": [
    {
     "name": "stdout",
     "output_type": "stream",
     "text": [
      "T  : |0|1|2|3|4|5|\n",
      "\n",
      "q0 : -X-B-@-------\n",
      "        | |       \n",
      "q1 : ---S-|---@---\n",
      "          |   |   \n",
      "q2 : -----X-B-X-B-\n",
      "            |   | \n",
      "q3 : -------S---S-\n",
      "                  \n",
      "T  : |0|1|2|3|4|5|\n",
      "\n"
     ]
    }
   ],
   "source": [
    "import numpy as np\n",
    "# Made-up data\n",
    "data = np.random.rand(4)\n",
    "data = data / np.linalg.norm(data)\n",
    "\n",
    "# QC Ware data loader circuit\n",
    "circuit = forge.qio.loader(data=data)\n",
    "\n",
    "print(circuit)"
   ]
  },
  {
   "cell_type": "markdown",
   "id": "numeric-trigger",
   "metadata": {},
   "source": [
    "### Run on IBMQ Simulator and Hardware"
   ]
  },
  {
   "cell_type": "code",
   "execution_count": 4,
   "id": "valuable-detection",
   "metadata": {
    "execution": {
     "iopub.execute_input": "2022-05-16T05:09:01.778271Z",
     "iopub.status.busy": "2022-05-16T05:09:01.777312Z",
     "iopub.status.idle": "2022-05-16T05:09:02.885754Z",
     "shell.execute_reply": "2022-05-16T05:09:02.885192Z"
    }
   },
   "outputs": [
    {
     "name": "stdout",
     "output_type": "stream",
     "text": [
      "ValueError('No IBM Q Experience token provided (needed for ibmq:ibmq_qasm_simulator backend)')\n"
     ]
    }
   ],
   "source": [
    "from quasar import Circuit\n",
    "\n",
    "# Simulator Run:\n",
    "try:\n",
    "    backend = forge.circuits.QuasarBackend('ibmq:ibmq_qasm_simulator')\n",
    "    histogram = backend.run_measurement(circuit=circuit, nmeasurement=100)\n",
    "    print(histogram)\n",
    "except Exception as e:\n",
    "    print(e)"
   ]
  },
  {
   "cell_type": "markdown",
   "id": "c37494ca-2612-4397-a632-ca8f1fd7f9a2",
   "metadata": {},
   "source": [
    "Because hardware calls can take a long time, here's one way to just submit a call and then simply wait on it until it's complete; see the \"Retrieving Long Task Results\" notebook for more details and other ways to do this!"
   ]
  },
  {
   "cell_type": "code",
   "execution_count": 5,
   "id": "9b03fac1-cd7d-4a0a-9c13-553f503a1380",
   "metadata": {
    "execution": {
     "iopub.execute_input": "2022-05-16T05:09:02.895999Z",
     "iopub.status.busy": "2022-05-16T05:09:02.894903Z",
     "iopub.status.idle": "2022-05-16T05:09:03.469519Z",
     "shell.execute_reply": "2022-05-16T05:09:03.468348Z"
    }
   },
   "outputs": [
    {
     "name": "stdout",
     "output_type": "stream",
     "text": [
      "ValueError('No IBM Q Experience token provided (needed for ibmq:ibmq_qasm_simulator backend)')\n"
     ]
    }
   ],
   "source": [
    "import time\n",
    "from quasar import Circuit\n",
    "\n",
    "# Simulator Run:\n",
    "try:\n",
    "    backend = forge.circuits.QuasarBackend('ibmq:ibmq_qasm_simulator')\n",
    "    histogram = await backend.run_measurement.call_async(circuit=circuit, nmeasurement=100)\n",
    "    print(histogram)\n",
    "except Exception as e:\n",
    "    print(e)"
   ]
  },
  {
   "cell_type": "markdown",
   "id": "curious-burden",
   "metadata": {},
   "source": [
    "Uncomment the code in the next cell to run on IBM quantum hardware, using the above technique:"
   ]
  },
  {
   "cell_type": "code",
   "execution_count": 6,
   "id": "polished-automation",
   "metadata": {
    "execution": {
     "iopub.execute_input": "2022-05-16T05:09:03.476511Z",
     "iopub.status.busy": "2022-05-16T05:09:03.475881Z",
     "iopub.status.idle": "2022-05-16T05:09:03.481510Z",
     "shell.execute_reply": "2022-05-16T05:09:03.482404Z"
    }
   },
   "outputs": [],
   "source": [
    "# backend = QuasarBackend('ibmq:ibmq_athens')\n",
    "# histogram = await backend.run_measurement.call_async(circuit=circuit, nmeasurement=100)\n",
    "# print(histogram)"
   ]
  }
 ],
 "metadata": {
  "kernelspec": {
   "display_name": "Python 3 (ipykernel)",
   "language": "python",
   "name": "python3"
  },
  "language_info": {
   "codemirror_mode": {
    "name": "ipython",
    "version": 3
   },
   "file_extension": ".py",
   "mimetype": "text/x-python",
   "name": "python",
   "nbconvert_exporter": "python",
   "pygments_lexer": "ipython3",
   "version": "3.9.2"
  }
 },
 "nbformat": 4,
 "nbformat_minor": 5
}
