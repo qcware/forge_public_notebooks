{
 "cells": [
  {
   "cell_type": "markdown",
   "id": "active-tender",
   "metadata": {},
   "source": [
    "# Using IBMQ Backends with Forge"
   ]
  },
  {
   "cell_type": "markdown",
   "id": "municipal-district",
   "metadata": {},
   "source": [
    "### Prepare IBMQ Experience credentials\n",
    "<div class=\"alert alert-block alert-warning\">\n",
    "    Note: The following notebook uses features of Forge (data loaders) which are not available to Developer-level (free) accounts.  As well, it will not function if you cannot provide IBMQ credentials.\n",
    "</div>"
   ]
  },
  {
   "cell_type": "code",
   "execution_count": 1,
   "id": "enabling-wheat",
   "metadata": {
    "execution": {
     "iopub.execute_input": "2023-01-03T05:09:26.171309Z",
     "iopub.status.busy": "2023-01-03T05:09:26.170714Z",
     "iopub.status.idle": "2023-01-03T05:09:27.336037Z",
     "shell.execute_reply": "2023-01-03T05:09:27.335386Z"
    }
   },
   "outputs": [],
   "source": [
    "from qcware import forge\n",
    "# this line is for internal tracking; it is not necessary for use!\n",
    "forge.config.set_environment_source_file('ibmq_through_forge.ipynb')\n",
    "\n",
    "\n",
    "from qiskit.providers.ibmq import IBMQ"
   ]
  },
  {
   "cell_type": "markdown",
   "id": "immune-israeli",
   "metadata": {},
   "source": [
    "To set your credentials, use `IBMQ.save_account` with your API token. Go to https://quantum-computing.ibm.com/ sign in, and copy the token.\n",
    "\n",
    "It's important to note that IBMQ can have many _providers_, particularly if your token is associated with various hubs, groups, or projects.  Therefore to set your credentials, you must choose a provider from those in `IBMQ.providers()`.  The default provider is the first in the list, `IBMQ.providers()[0]`"
   ]
  },
  {
   "cell_type": "code",
   "execution_count": 2,
   "id": "younger-interface",
   "metadata": {
    "execution": {
     "iopub.execute_input": "2023-01-03T05:09:27.339240Z",
     "iopub.status.busy": "2023-01-03T05:09:27.338663Z",
     "iopub.status.idle": "2023-01-03T05:09:27.343549Z",
     "shell.execute_reply": "2023-01-03T05:09:27.342958Z"
    }
   },
   "outputs": [
    {
     "name": "stdout",
     "output_type": "stream",
     "text": [
      "Something went wrong with loading your IBM Q Credentials!  Anticipate problems with the rest of this notebook.\n",
      "'No IBM Quantum Experience credentials found.'\n"
     ]
    }
   ],
   "source": [
    "# IBMQ.save_account('paste API token here')\n",
    "try:\n",
    "    IBMQ.load_account()\n",
    "    provider = IBMQ.providers()[0]\n",
    "    print(f\"Using provider with hub {provider.credentials.hub}, group {provider.credentials.group}, project {provider.credentials.project}\")\n",
    "    forge.config.set_ibmq_credentials_from_ibmq_provider(IBMQ.providers()[0])\n",
    "except Exception as e:\n",
    "    print(\"Something went wrong with loading your IBM Q Credentials!  Anticipate problems with the rest of this notebook.\")\n",
    "    print(e)\n"
   ]
  },
  {
   "cell_type": "markdown",
   "id": "mathematical-orchestra",
   "metadata": {},
   "source": [
    "### Prepare data and make a loader circuit"
   ]
  },
  {
   "cell_type": "code",
   "execution_count": 3,
   "id": "empirical-bracket",
   "metadata": {
    "execution": {
     "iopub.execute_input": "2023-01-03T05:09:27.346036Z",
     "iopub.status.busy": "2023-01-03T05:09:27.345568Z",
     "iopub.status.idle": "2023-01-03T05:09:27.564480Z",
     "shell.execute_reply": "2023-01-03T05:09:27.563619Z"
    }
   },
   "outputs": [
    {
     "name": "stdout",
     "output_type": "stream",
     "text": [
      "T  : |0|1|2|3|4|5|\n",
      "\n",
      "q0 : -X-B-@-------\n",
      "        | |       \n",
      "q1 : ---S-|---@---\n",
      "          |   |   \n",
      "q2 : -----X-B-X-B-\n",
      "            |   | \n",
      "q3 : -------S---S-\n",
      "                  \n",
      "T  : |0|1|2|3|4|5|\n",
      "\n"
     ]
    }
   ],
   "source": [
    "import numpy as np\n",
    "# Made-up data\n",
    "data = np.random.rand(4)\n",
    "data = data / np.linalg.norm(data)\n",
    "\n",
    "# QC Ware data loader circuit\n",
    "circuit = forge.qio.loader(data=data)\n",
    "\n",
    "print(circuit)"
   ]
  },
  {
   "cell_type": "markdown",
   "id": "numeric-trigger",
   "metadata": {},
   "source": [
    "### Run on IBMQ Simulator and Hardware"
   ]
  },
  {
   "cell_type": "code",
   "execution_count": 4,
   "id": "valuable-detection",
   "metadata": {
    "execution": {
     "iopub.execute_input": "2023-01-03T05:09:27.567565Z",
     "iopub.status.busy": "2023-01-03T05:09:27.567283Z",
     "iopub.status.idle": "2023-01-03T05:09:28.545496Z",
     "shell.execute_reply": "2023-01-03T05:09:28.544807Z"
    }
   },
   "outputs": [
    {
     "name": "stdout",
     "output_type": "stream",
     "text": [
      "ValueError('No IBM Q Experience token provided (needed for ibmq:ibmq_qasm_simulator backend)')\n"
     ]
    }
   ],
   "source": [
    "from quasar import Circuit\n",
    "\n",
    "# Simulator Run:\n",
    "try:\n",
    "    backend = forge.circuits.QuasarBackend('ibmq:ibmq_qasm_simulator')\n",
    "    histogram = backend.run_measurement(circuit=circuit, nmeasurement=100)\n",
    "    print(histogram)\n",
    "except Exception as e:\n",
    "    print(e)"
   ]
  },
  {
   "cell_type": "markdown",
   "id": "c37494ca-2612-4397-a632-ca8f1fd7f9a2",
   "metadata": {},
   "source": [
    "Because hardware calls can take a long time, here's one way to just submit a call and then simply wait on it until it's complete; see the \"Retrieving Long Task Results\" notebook for more details and other ways to do this!"
   ]
  },
  {
   "cell_type": "code",
   "execution_count": 5,
   "id": "9b03fac1-cd7d-4a0a-9c13-553f503a1380",
   "metadata": {
    "execution": {
     "iopub.execute_input": "2023-01-03T05:09:28.548359Z",
     "iopub.status.busy": "2023-01-03T05:09:28.547756Z",
     "iopub.status.idle": "2023-01-03T05:09:29.020760Z",
     "shell.execute_reply": "2023-01-03T05:09:29.020099Z"
    }
   },
   "outputs": [
    {
     "name": "stdout",
     "output_type": "stream",
     "text": [
      "ValueError('No IBM Q Experience token provided (needed for ibmq:ibmq_qasm_simulator backend)')\n"
     ]
    }
   ],
   "source": [
    "import time\n",
    "from quasar import Circuit\n",
    "\n",
    "# Simulator Run:\n",
    "try:\n",
    "    backend = forge.circuits.QuasarBackend('ibmq:ibmq_qasm_simulator')\n",
    "    histogram = await backend.run_measurement.call_async(circuit=circuit, nmeasurement=100)\n",
    "    print(histogram)\n",
    "except Exception as e:\n",
    "    print(e)"
   ]
  },
  {
   "cell_type": "markdown",
   "id": "curious-burden",
   "metadata": {},
   "source": [
    "Uncomment the code in the next cell to run on IBM quantum hardware, using the above technique:"
   ]
  },
  {
   "cell_type": "code",
   "execution_count": 6,
   "id": "polished-automation",
   "metadata": {
    "execution": {
     "iopub.execute_input": "2023-01-03T05:09:29.023284Z",
     "iopub.status.busy": "2023-01-03T05:09:29.023028Z",
     "iopub.status.idle": "2023-01-03T05:09:29.025943Z",
     "shell.execute_reply": "2023-01-03T05:09:29.025339Z"
    }
   },
   "outputs": [],
   "source": [
    "# backend = QuasarBackend('ibmq:ibmq_athens')\n",
    "# histogram = await backend.run_measurement.call_async(circuit=circuit, nmeasurement=100)\n",
    "# print(histogram)"
   ]
  }
 ],
 "metadata": {
  "kernelspec": {
   "display_name": "Python 3 (ipykernel)",
   "language": "python",
   "name": "python3"
  },
  "language_info": {
   "codemirror_mode": {
    "name": "ipython",
    "version": 3
   },
   "file_extension": ".py",
   "mimetype": "text/x-python",
   "name": "python",
   "nbconvert_exporter": "python",
   "pygments_lexer": "ipython3",
   "version": "3.9.2"
  }
 },
 "nbformat": 4,
 "nbformat_minor": 5
}
