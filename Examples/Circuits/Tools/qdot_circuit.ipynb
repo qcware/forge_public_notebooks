{
 "cells": [
  {
   "cell_type": "markdown",
   "metadata": {},
   "source": [
    "# Quantum Dot Product Circuits"
   ]
  },
  {
   "cell_type": "markdown",
   "metadata": {},
   "source": [
    "The dot product is a core subroutine in many machine learning algorithms.\n",
    "\n",
    "This notebook will lead you through how we can use a quantum circuit to calculate dot products."
   ]
  },
  {
   "cell_type": "code",
   "execution_count": 1,
   "metadata": {
    "execution": {
     "iopub.execute_input": "2022-08-31T05:10:26.267178Z",
     "iopub.status.busy": "2022-08-31T05:10:26.264739Z",
     "iopub.status.idle": "2022-08-31T05:10:26.665067Z",
     "shell.execute_reply": "2022-08-31T05:10:26.664445Z"
    }
   },
   "outputs": [],
   "source": [
    "import numpy as np\n",
    "from qcware import forge\n",
    "from qcware.forge.qutils import create_qdot_circuit"
   ]
  },
  {
   "cell_type": "markdown",
   "metadata": {},
   "source": [
    "## Generate two random vectors"
   ]
  },
  {
   "cell_type": "code",
   "execution_count": 2,
   "metadata": {
    "execution": {
     "iopub.execute_input": "2022-08-31T05:10:26.668028Z",
     "iopub.status.busy": "2022-08-31T05:10:26.667678Z",
     "iopub.status.idle": "2022-08-31T05:10:26.672996Z",
     "shell.execute_reply": "2022-08-31T05:10:26.672349Z"
    }
   },
   "outputs": [
    {
     "name": "stdout",
     "output_type": "stream",
     "text": [
      "x: [0.693 0.423 0.543 0.213]\n",
      "y: [0.654 0.444 0.291 0.539]\n"
     ]
    }
   ],
   "source": [
    "x = np.random.rand(4)\n",
    "x = x / np.linalg.norm(x)\n",
    "y = np.random.rand(4)\n",
    "y = y / np.linalg.norm(y)\n",
    "\n",
    "print(\"x:\", np.round(x, 3))\n",
    "print(\"y:\", np.round(y, 3))"
   ]
  },
  {
   "cell_type": "markdown",
   "metadata": {},
   "source": [
    "## Create the qdot circuit"
   ]
  },
  {
   "cell_type": "code",
   "execution_count": 3,
   "metadata": {
    "execution": {
     "iopub.execute_input": "2022-08-31T05:10:26.675451Z",
     "iopub.status.busy": "2022-08-31T05:10:26.675076Z",
     "iopub.status.idle": "2022-08-31T05:10:26.902448Z",
     "shell.execute_reply": "2022-08-31T05:10:26.901878Z"
    }
   },
   "outputs": [
    {
     "name": "stdout",
     "output_type": "stream",
     "text": [
      "\n",
      "\n",
      "Circuit:\n",
      "\n",
      "T  : |0|1|2|3|4|5|\n",
      "\n",
      "q0 : -X-B-------B-\n",
      "        |       | \n",
      "q1 : ---S-B-B-B-S-\n",
      "          | | |   \n",
      "q2 : -----|-S-|---\n",
      "          |   |   \n",
      "q3 : -----S-B-S---\n",
      "            |     \n",
      "q4 : -------S-----\n",
      "                  \n",
      "T  : |0|1|2|3|4|5|\n",
      "\n"
     ]
    }
   ],
   "source": [
    "dot_circuit = create_qdot_circuit(x, y)\n",
    "print(f\"\\n\\nCircuit:\\n\\n{dot_circuit}\")"
   ]
  },
  {
   "cell_type": "markdown",
   "metadata": {},
   "source": [
    "If we look closely, we can see that this circuit is just the loader circuit for x, appended to the adjoint of the loader circuit for y."
   ]
  },
  {
   "cell_type": "markdown",
   "metadata": {},
   "source": [
    "## Run the circuit on a simulator\n",
    "We'll use the QuasarSimulatorBackend to run the circuit 500 times."
   ]
  },
  {
   "cell_type": "code",
   "execution_count": 4,
   "metadata": {
    "execution": {
     "iopub.execute_input": "2022-08-31T05:10:26.905973Z",
     "iopub.status.busy": "2022-08-31T05:10:26.905325Z",
     "iopub.status.idle": "2022-08-31T05:10:26.911034Z",
     "shell.execute_reply": "2022-08-31T05:10:26.910345Z"
    }
   },
   "outputs": [
    {
     "name": "stdout",
     "output_type": "stream",
     "text": [
      "nqubit       : 5\n",
      "nmeasurement : 500\n",
      "|00001> : 0.076000\n",
      "|00010> : 0.006000\n",
      "|10000> : 0.918000\n",
      "\n"
     ]
    }
   ],
   "source": [
    "import quasar\n",
    "num_measurements = 500\n",
    "simulation_results = quasar.QuasarSimulatorBackend().run_measurement(dot_circuit, nmeasurement=500)\n",
    "print(simulation_results)"
   ]
  },
  {
   "cell_type": "markdown",
   "metadata": {},
   "source": [
    "## Calculate the estimation error\n"
   ]
  },
  {
   "cell_type": "code",
   "execution_count": 5,
   "metadata": {
    "execution": {
     "iopub.execute_input": "2022-08-31T05:10:26.914113Z",
     "iopub.status.busy": "2022-08-31T05:10:26.913593Z",
     "iopub.status.idle": "2022-08-31T05:10:26.917810Z",
     "shell.execute_reply": "2022-08-31T05:10:26.917292Z"
    }
   },
   "outputs": [
    {
     "name": "stdout",
     "output_type": "stream",
     "text": [
      "Estimate: 0.918\n",
      "Real value: 0.9140383823212354\n",
      "Estimation error: 0.003961617678764684\n"
     ]
    }
   ],
   "source": [
    "# compute the estimated dot product\n",
    "result_index = 2**(simulation_results.nqubit - 1)\n",
    "estimated_dot = simulation_results[result_index]\n",
    "\n",
    "# check if the value is close to the real one\n",
    "print('Estimate:', estimated_dot)\n",
    "print('Real value:', np.dot(x,y))\n",
    "print('Estimation error:', np.abs(estimated_dot - np.dot(x,y)))"
   ]
  }
 ],
 "metadata": {
  "kernelspec": {
   "display_name": "Python 3 (ipykernel)",
   "language": "python",
   "name": "python3"
  },
  "language_info": {
   "codemirror_mode": {
    "name": "ipython",
    "version": 3
   },
   "file_extension": ".py",
   "mimetype": "text/x-python",
   "name": "python",
   "nbconvert_exporter": "python",
   "pygments_lexer": "ipython3",
   "version": "3.9.2"
  }
 },
 "nbformat": 4,
 "nbformat_minor": 4
}
