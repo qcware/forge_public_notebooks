{
 "cells": [
  {
   "cell_type": "markdown",
   "id": "capital-cheese",
   "metadata": {},
   "source": [
    "# Importing and simulating circuits from Qiskit\n",
    "\n",
    "Forge has simple tools to import and run circuits from packages like Qiskit. This notebook demonstrates a basic example."
   ]
  },
  {
   "cell_type": "code",
   "execution_count": 1,
   "id": "acceptable-illustration",
   "metadata": {
    "execution": {
     "iopub.execute_input": "2022-08-28T05:10:15.056150Z",
     "iopub.status.busy": "2022-08-28T05:10:15.055394Z",
     "iopub.status.idle": "2022-08-28T05:10:16.837494Z",
     "shell.execute_reply": "2022-08-28T05:10:16.836078Z"
    }
   },
   "outputs": [],
   "source": [
    "from qcware import forge\n",
    "# this line is for internal tracking; it is not necessary for use!\n",
    "forge.config.set_environment_source_file('qiskit_import.ipynb')\n",
    "\n",
    "import qiskit\n",
    "from qcware_transpile.translations.qiskit.to_quasar import translate\n",
    "\n",
    "# If running locally:\n",
    "# forge.config.set_api_key('paste API key here')"
   ]
  },
  {
   "cell_type": "markdown",
   "id": "metallic-horse",
   "metadata": {},
   "source": [
    "### Start with a Qiskit quantum circuit"
   ]
  },
  {
   "cell_type": "code",
   "execution_count": 2,
   "id": "funky-mobile",
   "metadata": {
    "execution": {
     "iopub.execute_input": "2022-08-28T05:10:16.844501Z",
     "iopub.status.busy": "2022-08-28T05:10:16.843502Z",
     "iopub.status.idle": "2022-08-28T05:10:16.939733Z",
     "shell.execute_reply": "2022-08-28T05:10:16.938154Z"
    }
   },
   "outputs": [
    {
     "data": {
      "text/html": [
       "<pre style=\"word-wrap: normal;white-space: pre;background: #fff0;line-height: 1.1;font-family: &quot;Courier New&quot;,Courier,monospace\">     ┌───┐          \n",
       "q_0: ┤ H ├──■────■──\n",
       "     └───┘┌─┴─┐  │  \n",
       "q_1: ─────┤ X ├──┼──\n",
       "          └───┘┌─┴─┐\n",
       "q_2: ──────────┤ X ├\n",
       "               └───┘</pre>"
      ],
      "text/plain": [
       "     ┌───┐          \n",
       "q_0: ┤ H ├──■────■──\n",
       "     └───┘┌─┴─┐  │  \n",
       "q_1: ─────┤ X ├──┼──\n",
       "          └───┘┌─┴─┐\n",
       "q_2: ──────────┤ X ├\n",
       "               └───┘"
      ]
     },
     "execution_count": 2,
     "metadata": {},
     "output_type": "execute_result"
    }
   ],
   "source": [
    "qiskit_circuit = qiskit.QuantumCircuit(3)\n",
    "\n",
    "qiskit_circuit.h(0)\n",
    "qiskit_circuit.cx(0, 1)\n",
    "qiskit_circuit.cx(0, 2)\n",
    "\n",
    "qiskit_circuit.draw()"
   ]
  },
  {
   "cell_type": "markdown",
   "id": "important-merit",
   "metadata": {},
   "source": [
    "### Import the circuit into Forge"
   ]
  },
  {
   "cell_type": "code",
   "execution_count": 3,
   "id": "proprietary-memphis",
   "metadata": {
    "execution": {
     "iopub.execute_input": "2022-08-28T05:10:16.945127Z",
     "iopub.status.busy": "2022-08-28T05:10:16.944492Z",
     "iopub.status.idle": "2022-08-28T05:10:17.267735Z",
     "shell.execute_reply": "2022-08-28T05:10:17.265670Z"
    }
   },
   "outputs": [
    {
     "name": "stdout",
     "output_type": "stream",
     "text": [
      "T  : |0|1|2|\n",
      "\n",
      "q0 : -----X-\n",
      "          | \n",
      "q1 : ---X-|-\n",
      "        | | \n",
      "q2 : -H-@-@-\n",
      "            \n",
      "T  : |0|1|2|\n",
      "\n"
     ]
    }
   ],
   "source": [
    "forge_circuit = translate(qiskit_circuit)\n",
    "\n",
    "print(forge_circuit)"
   ]
  },
  {
   "cell_type": "markdown",
   "id": "systematic-slovenia",
   "metadata": {},
   "source": [
    "### Simulate the statevector for the imported circuit"
   ]
  },
  {
   "cell_type": "code",
   "execution_count": 4,
   "id": "requested-vertical",
   "metadata": {
    "execution": {
     "iopub.execute_input": "2022-08-28T05:10:17.276797Z",
     "iopub.status.busy": "2022-08-28T05:10:17.275418Z",
     "iopub.status.idle": "2022-08-28T05:10:17.599583Z",
     "shell.execute_reply": "2022-08-28T05:10:17.597896Z"
    }
   },
   "outputs": [
    {
     "name": "stdout",
     "output_type": "stream",
     "text": [
      "[0.70710678+0.j 0.        +0.j 0.        +0.j 0.        +0.j\n",
      " 0.        +0.j 0.        +0.j 0.        +0.j 0.70710678+0.j]\n"
     ]
    }
   ],
   "source": [
    "forge_backend = forge.circuits.QuasarBackend('qcware/cpu_simulator')\n",
    "\n",
    "# Execution\n",
    "forge_statevector = forge_backend.run_statevector(circuit=forge_circuit)\n",
    "\n",
    "print(forge_statevector)"
   ]
  }
 ],
 "metadata": {
  "kernelspec": {
   "display_name": "Python 3",
   "language": "python",
   "name": "python3"
  },
  "language_info": {
   "codemirror_mode": {
    "name": "ipython",
    "version": 3
   },
   "file_extension": ".py",
   "mimetype": "text/x-python",
   "name": "python",
   "nbconvert_exporter": "python",
   "pygments_lexer": "ipython3",
   "version": "3.9.2"
  }
 },
 "nbformat": 4,
 "nbformat_minor": 5
}
