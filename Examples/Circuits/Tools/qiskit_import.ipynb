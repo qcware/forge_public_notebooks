{
 "cells": [
  {
   "cell_type": "markdown",
   "id": "capital-cheese",
   "metadata": {},
   "source": [
    "# Importing and simulating circuits from Qiskit\n",
    "\n",
    "Forge has simple tools to import and run circuits from packages like Qiskit. This notebook demonstrates a basic example."
   ]
  },
  {
   "cell_type": "code",
   "execution_count": 1,
   "id": "acceptable-illustration",
   "metadata": {
    "execution": {
     "iopub.execute_input": "2021-07-19T05:18:55.933540Z",
     "iopub.status.busy": "2021-07-19T05:18:55.932825Z",
     "iopub.status.idle": "2021-07-19T05:18:57.686996Z",
     "shell.execute_reply": "2021-07-19T05:18:57.686258Z"
    }
   },
   "outputs": [],
   "source": [
    "import qcware.config\n",
    "# this line is for internal tracking; it is not necessary for use!\n",
    "qcware.config.set_environment_source_file('qiskit_import.ipynb')\n",
    "\n",
    "import qiskit\n",
    "from qcware_transpile.translations.qiskit.to_quasar import translate\n",
    "\n",
    "# If running locally:\n",
    "# qcware.config.set_api_key('paste API key here')"
   ]
  },
  {
   "cell_type": "markdown",
   "id": "metallic-horse",
   "metadata": {},
   "source": [
    "### Start with a Qiskit quantum circuit"
   ]
  },
  {
   "cell_type": "code",
   "execution_count": 2,
   "id": "funky-mobile",
   "metadata": {
    "execution": {
     "iopub.execute_input": "2021-07-19T05:18:57.706287Z",
     "iopub.status.busy": "2021-07-19T05:18:57.703479Z",
     "iopub.status.idle": "2021-07-19T05:18:57.711851Z",
     "shell.execute_reply": "2021-07-19T05:18:57.711206Z"
    }
   },
   "outputs": [
    {
     "data": {
      "text/html": [
       "<pre style=\"word-wrap: normal;white-space: pre;background: #fff0;line-height: 1.1;font-family: &quot;Courier New&quot;,Courier,monospace\">     ┌───┐          \n",
       "q_0: ┤ H ├──■────■──\n",
       "     └───┘┌─┴─┐  │  \n",
       "q_1: ─────┤ X ├──┼──\n",
       "          └───┘┌─┴─┐\n",
       "q_2: ──────────┤ X ├\n",
       "               └───┘</pre>"
      ],
      "text/plain": [
       "     ┌───┐          \n",
       "q_0: ┤ H ├──■────■──\n",
       "     └───┘┌─┴─┐  │  \n",
       "q_1: ─────┤ X ├──┼──\n",
       "          └───┘┌─┴─┐\n",
       "q_2: ──────────┤ X ├\n",
       "               └───┘"
      ]
     },
     "execution_count": 2,
     "metadata": {},
     "output_type": "execute_result"
    }
   ],
   "source": [
    "qiskit_circuit = qiskit.QuantumCircuit(3)\n",
    "\n",
    "qiskit_circuit.h(0)\n",
    "qiskit_circuit.cx(0, 1)\n",
    "qiskit_circuit.cx(0, 2)\n",
    "\n",
    "qiskit_circuit.draw()"
   ]
  },
  {
   "cell_type": "markdown",
   "id": "important-merit",
   "metadata": {},
   "source": [
    "### Import the circuit into Forge"
   ]
  },
  {
   "cell_type": "code",
   "execution_count": 3,
   "id": "proprietary-memphis",
   "metadata": {
    "execution": {
     "iopub.execute_input": "2021-07-19T05:18:57.724230Z",
     "iopub.status.busy": "2021-07-19T05:18:57.720446Z",
     "iopub.status.idle": "2021-07-19T05:18:57.846957Z",
     "shell.execute_reply": "2021-07-19T05:18:57.847444Z"
    }
   },
   "outputs": [
    {
     "name": "stdout",
     "output_type": "stream",
     "text": [
      "T  : |0|1|2|\n",
      "\n",
      "q0 : -----X-\n",
      "          | \n",
      "q1 : ---X-|-\n",
      "        | | \n",
      "q2 : -H-@-@-\n",
      "            \n",
      "T  : |0|1|2|\n",
      "\n"
     ]
    },
    {
     "name": "stderr",
     "output_type": "stream",
     "text": [
      "/opt/venv/lib/python3.9/site-packages/qiskit/transpiler/runningpassmanager.py:166: UserWarning: Resynthesized [<qiskit.dagcircuit.dagnode.DAGNode object at 0x7f023665ad60>] and got global phase: 3π/2\n",
      "      ┌──────────┐┌────────┐\n",
      "qr_0: ┤ Ry(-π/2) ├┤ Rz(-π) ├\n",
      "      └──────────┘└────────┘, but the original was native and the new value is longer.  This indicates an efficiency bug in synthesis.  Please report it by opening an issue here: https://github.com/Qiskit/qiskit-terra/issues/new/choose\n",
      "  new_dag = pass_.run(dag)\n"
     ]
    }
   ],
   "source": [
    "forge_circuit = translate(qiskit_circuit)\n",
    "\n",
    "print(forge_circuit)"
   ]
  },
  {
   "cell_type": "markdown",
   "id": "systematic-slovenia",
   "metadata": {},
   "source": [
    "### Simulate the statevector for the imported circuit"
   ]
  },
  {
   "cell_type": "code",
   "execution_count": 4,
   "id": "requested-vertical",
   "metadata": {
    "execution": {
     "iopub.execute_input": "2021-07-19T05:18:57.853379Z",
     "iopub.status.busy": "2021-07-19T05:18:57.852429Z",
     "iopub.status.idle": "2021-07-19T05:18:58.249747Z",
     "shell.execute_reply": "2021-07-19T05:18:58.248939Z"
    }
   },
   "outputs": [
    {
     "name": "stdout",
     "output_type": "stream",
     "text": [
      "[0.70710678+0.j 0.        +0.j 0.        +0.j 0.        +0.j\n",
      " 0.        +0.j 0.        +0.j 0.        +0.j 0.70710678+0.j]\n"
     ]
    }
   ],
   "source": [
    "from qcware.circuits.quasar_backend import QuasarBackend\n",
    "forge_backend = QuasarBackend('qcware/cpu_simulator')\n",
    "\n",
    "# Execution\n",
    "forge_statevector = forge_backend.run_statevector(circuit=forge_circuit)\n",
    "\n",
    "print(forge_statevector)"
   ]
  }
 ],
 "metadata": {
  "kernelspec": {
   "display_name": "Python 3 (ipykernel)",
   "language": "python",
   "name": "python3"
  },
  "language_info": {
   "codemirror_mode": {
    "name": "ipython",
    "version": 3
   },
   "file_extension": ".py",
   "mimetype": "text/x-python",
   "name": "python",
   "nbconvert_exporter": "python",
   "pygments_lexer": "ipython3",
   "version": "3.9.2"
  }
 },
 "nbformat": 4,
 "nbformat_minor": 5
}
