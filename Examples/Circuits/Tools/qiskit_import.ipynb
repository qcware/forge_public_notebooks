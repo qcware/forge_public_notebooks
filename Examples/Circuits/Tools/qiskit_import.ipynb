{
 "cells": [
  {
   "cell_type": "markdown",
   "id": "capital-cheese",
   "metadata": {},
   "source": [
    "# Importing and simulating circuits from Qiskit\n",
    "\n",
    "Forge has simple tools to import and run circuits from packages like Qiskit. This notebook demonstrates a basic example."
   ]
  },
  {
   "cell_type": "code",
   "execution_count": 1,
   "id": "acceptable-illustration",
   "metadata": {
    "execution": {
     "iopub.execute_input": "2021-07-29T05:17:56.371686Z",
     "iopub.status.busy": "2021-07-29T05:17:56.370363Z",
     "iopub.status.idle": "2021-07-29T05:17:58.330691Z",
     "shell.execute_reply": "2021-07-29T05:17:58.329571Z"
    }
   },
   "outputs": [],
   "source": [
    "from qcware import forge\n",
    "# this line is for internal tracking; it is not necessary for use!\n",
    "forge.config.set_environment_source_file('qiskit_import.ipynb')\n",
    "\n",
    "import qiskit\n",
    "from qcware_transpile.translations.qiskit.to_quasar import translate\n",
    "\n",
    "# If running locally:\n",
    "# qcware.config.set_api_key('paste API key here')"
   ]
  },
  {
   "cell_type": "markdown",
   "id": "metallic-horse",
   "metadata": {},
   "source": [
    "### Start with a Qiskit quantum circuit"
   ]
  },
  {
   "cell_type": "code",
   "execution_count": 2,
   "id": "funky-mobile",
   "metadata": {
    "execution": {
     "iopub.execute_input": "2021-07-29T05:17:58.344647Z",
     "iopub.status.busy": "2021-07-29T05:17:58.343485Z",
     "iopub.status.idle": "2021-07-29T05:17:58.364177Z",
     "shell.execute_reply": "2021-07-29T05:17:58.363480Z"
    }
   },
   "outputs": [
    {
     "data": {
      "text/html": [
       "<pre style=\"word-wrap: normal;white-space: pre;background: #fff0;line-height: 1.1;font-family: &quot;Courier New&quot;,Courier,monospace\">     ┌───┐          \n",
       "q_0: ┤ H ├──■────■──\n",
       "     └───┘┌─┴─┐  │  \n",
       "q_1: ─────┤ X ├──┼──\n",
       "          └───┘┌─┴─┐\n",
       "q_2: ──────────┤ X ├\n",
       "               └───┘</pre>"
      ],
      "text/plain": [
       "     ┌───┐          \n",
       "q_0: ┤ H ├──■────■──\n",
       "     └───┘┌─┴─┐  │  \n",
       "q_1: ─────┤ X ├──┼──\n",
       "          └───┘┌─┴─┐\n",
       "q_2: ──────────┤ X ├\n",
       "               └───┘"
      ]
     },
     "execution_count": 2,
     "metadata": {},
     "output_type": "execute_result"
    }
   ],
   "source": [
    "qiskit_circuit = qiskit.QuantumCircuit(3)\n",
    "\n",
    "qiskit_circuit.h(0)\n",
    "qiskit_circuit.cx(0, 1)\n",
    "qiskit_circuit.cx(0, 2)\n",
    "\n",
    "qiskit_circuit.draw()"
   ]
  },
  {
   "cell_type": "markdown",
   "id": "important-merit",
   "metadata": {},
   "source": [
    "### Import the circuit into Forge"
   ]
  },
  {
   "cell_type": "code",
   "execution_count": 3,
   "id": "proprietary-memphis",
   "metadata": {
    "execution": {
     "iopub.execute_input": "2021-07-29T05:17:58.379562Z",
     "iopub.status.busy": "2021-07-29T05:17:58.373134Z",
     "iopub.status.idle": "2021-07-29T05:17:58.513623Z",
     "shell.execute_reply": "2021-07-29T05:17:58.512829Z"
    }
   },
   "outputs": [
    {
     "name": "stdout",
     "output_type": "stream",
     "text": [
      "T  : |0|1|2|\n",
      "\n",
      "q0 : -----X-\n",
      "          | \n",
      "q1 : ---X-|-\n",
      "        | | \n",
      "q2 : -H-@-@-\n",
      "            \n",
      "T  : |0|1|2|\n",
      "\n"
     ]
    },
    {
     "name": "stderr",
     "output_type": "stream",
     "text": [
      "/opt/venv/lib/python3.9/site-packages/qiskit/transpiler/runningpassmanager.py:166: UserWarning: Resynthesized [<qiskit.dagcircuit.dagnode.DAGNode object at 0x7fa0d8d70940>] and got global phase: 3π/2\n",
      "      ┌──────────┐┌────────┐\n",
      "qr_0: ┤ Ry(-π/2) ├┤ Rz(-π) ├\n",
      "      └──────────┘└────────┘, but the original was native and the new value is longer.  This indicates an efficiency bug in synthesis.  Please report it by opening an issue here: https://github.com/Qiskit/qiskit-terra/issues/new/choose\n",
      "  new_dag = pass_.run(dag)\n"
     ]
    }
   ],
   "source": [
    "forge_circuit = translate(qiskit_circuit)\n",
    "\n",
    "print(forge_circuit)"
   ]
  },
  {
   "cell_type": "markdown",
   "id": "systematic-slovenia",
   "metadata": {},
   "source": [
    "### Simulate the statevector for the imported circuit"
   ]
  },
  {
   "cell_type": "code",
   "execution_count": 4,
   "id": "requested-vertical",
   "metadata": {
    "execution": {
     "iopub.execute_input": "2021-07-29T05:17:58.524903Z",
     "iopub.status.busy": "2021-07-29T05:17:58.521741Z",
     "iopub.status.idle": "2021-07-29T05:17:58.864833Z",
     "shell.execute_reply": "2021-07-29T05:17:58.863903Z"
    }
   },
   "outputs": [
    {
     "name": "stdout",
     "output_type": "stream",
     "text": [
      "[0.70710678+0.j 0.        +0.j 0.        +0.j 0.        +0.j\n",
      " 0.        +0.j 0.        +0.j 0.        +0.j 0.70710678+0.j]\n"
     ]
    }
   ],
   "source": [
    "forge_backend = forge.circuits.QuasarBackend('qcware/cpu_simulator')\n",
    "\n",
    "# Execution\n",
    "forge_statevector = forge_backend.run_statevector(circuit=forge_circuit)\n",
    "\n",
    "print(forge_statevector)"
   ]
  }
 ],
 "metadata": {
  "kernelspec": {
   "display_name": "Python 3",
   "language": "python",
   "name": "python3"
  },
  "language_info": {
   "codemirror_mode": {
    "name": "ipython",
    "version": 3
   },
   "file_extension": ".py",
   "mimetype": "text/x-python",
   "name": "python",
   "nbconvert_exporter": "python",
   "pygments_lexer": "ipython3",
   "version": "3.9.2"
  }
 },
 "nbformat": 4,
 "nbformat_minor": 5
}
