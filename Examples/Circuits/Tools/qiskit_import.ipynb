{
 "cells": [
  {
   "cell_type": "markdown",
   "id": "capital-cheese",
   "metadata": {},
   "source": [
    "# Importing and simulating circuits from Qiskit\n",
    "\n",
    "Forge has simple tools to import and run circuits from packages like Qiskit. This notebook demonstrates a basic example."
   ]
  },
  {
   "cell_type": "code",
   "execution_count": 1,
   "id": "acceptable-illustration",
   "metadata": {
    "execution": {
     "iopub.execute_input": "2022-03-04T05:18:44.960959Z",
     "iopub.status.busy": "2022-03-04T05:18:44.960149Z",
     "iopub.status.idle": "2022-03-04T05:18:47.053966Z",
     "shell.execute_reply": "2022-03-04T05:18:47.053215Z"
    }
   },
   "outputs": [],
   "source": [
    "from qcware import forge\n",
    "# this line is for internal tracking; it is not necessary for use!\n",
    "forge.config.set_environment_source_file('qiskit_import.ipynb')\n",
    "\n",
    "import qiskit\n",
    "from qcware_transpile.translations.qiskit.to_quasar import translate\n",
    "\n",
    "# If running locally:\n",
    "# qcware.config.set_api_key('paste API key here')"
   ]
  },
  {
   "cell_type": "markdown",
   "id": "metallic-horse",
   "metadata": {},
   "source": [
    "### Start with a Qiskit quantum circuit"
   ]
  },
  {
   "cell_type": "code",
   "execution_count": 2,
   "id": "funky-mobile",
   "metadata": {
    "execution": {
     "iopub.execute_input": "2022-03-04T05:18:47.076168Z",
     "iopub.status.busy": "2022-03-04T05:18:47.075124Z",
     "iopub.status.idle": "2022-03-04T05:18:47.080947Z",
     "shell.execute_reply": "2022-03-04T05:18:47.080133Z"
    }
   },
   "outputs": [
    {
     "data": {
      "text/html": [
       "<pre style=\"word-wrap: normal;white-space: pre;background: #fff0;line-height: 1.1;font-family: &quot;Courier New&quot;,Courier,monospace\">     ┌───┐          \n",
       "q_0: ┤ H ├──■────■──\n",
       "     └───┘┌─┴─┐  │  \n",
       "q_1: ─────┤ X ├──┼──\n",
       "          └───┘┌─┴─┐\n",
       "q_2: ──────────┤ X ├\n",
       "               └───┘</pre>"
      ],
      "text/plain": [
       "     ┌───┐          \n",
       "q_0: ┤ H ├──■────■──\n",
       "     └───┘┌─┴─┐  │  \n",
       "q_1: ─────┤ X ├──┼──\n",
       "          └───┘┌─┴─┐\n",
       "q_2: ──────────┤ X ├\n",
       "               └───┘"
      ]
     },
     "execution_count": 2,
     "metadata": {},
     "output_type": "execute_result"
    }
   ],
   "source": [
    "qiskit_circuit = qiskit.QuantumCircuit(3)\n",
    "\n",
    "qiskit_circuit.h(0)\n",
    "qiskit_circuit.cx(0, 1)\n",
    "qiskit_circuit.cx(0, 2)\n",
    "\n",
    "qiskit_circuit.draw()"
   ]
  },
  {
   "cell_type": "markdown",
   "id": "important-merit",
   "metadata": {},
   "source": [
    "### Import the circuit into Forge"
   ]
  },
  {
   "cell_type": "code",
   "execution_count": 3,
   "id": "proprietary-memphis",
   "metadata": {
    "execution": {
     "iopub.execute_input": "2022-03-04T05:18:47.097871Z",
     "iopub.status.busy": "2022-03-04T05:18:47.095707Z",
     "iopub.status.idle": "2022-03-04T05:18:47.339850Z",
     "shell.execute_reply": "2022-03-04T05:18:47.339130Z"
    }
   },
   "outputs": [
    {
     "name": "stdout",
     "output_type": "stream",
     "text": [
      "T  : |0|1|2|\n",
      "\n",
      "q0 : -----X-\n",
      "          | \n",
      "q1 : ---X-|-\n",
      "        | | \n",
      "q2 : -H-@-@-\n",
      "            \n",
      "T  : |0|1|2|\n",
      "\n"
     ]
    }
   ],
   "source": [
    "forge_circuit = translate(qiskit_circuit)\n",
    "\n",
    "print(forge_circuit)"
   ]
  },
  {
   "cell_type": "markdown",
   "id": "systematic-slovenia",
   "metadata": {},
   "source": [
    "### Simulate the statevector for the imported circuit"
   ]
  },
  {
   "cell_type": "code",
   "execution_count": 4,
   "id": "requested-vertical",
   "metadata": {
    "execution": {
     "iopub.execute_input": "2022-03-04T05:18:47.350904Z",
     "iopub.status.busy": "2022-03-04T05:18:47.349822Z",
     "iopub.status.idle": "2022-03-04T05:18:47.630905Z",
     "shell.execute_reply": "2022-03-04T05:18:47.629957Z"
    }
   },
   "outputs": [
    {
     "name": "stdout",
     "output_type": "stream",
     "text": [
      "[0.70710678+0.j 0.        +0.j 0.        +0.j 0.        +0.j\n",
      " 0.        +0.j 0.        +0.j 0.        +0.j 0.70710678+0.j]\n"
     ]
    }
   ],
   "source": [
    "forge_backend = forge.circuits.QuasarBackend('qcware/cpu_simulator')\n",
    "\n",
    "# Execution\n",
    "forge_statevector = forge_backend.run_statevector(circuit=forge_circuit)\n",
    "\n",
    "print(forge_statevector)"
   ]
  }
 ],
 "metadata": {
  "kernelspec": {
   "display_name": "Python 3",
   "language": "python",
   "name": "python3"
  },
  "language_info": {
   "codemirror_mode": {
    "name": "ipython",
    "version": 3
   },
   "file_extension": ".py",
   "mimetype": "text/x-python",
   "name": "python",
   "nbconvert_exporter": "python",
   "pygments_lexer": "ipython3",
   "version": "3.9.2"
  }
 },
 "nbformat": 4,
 "nbformat_minor": 5
}
