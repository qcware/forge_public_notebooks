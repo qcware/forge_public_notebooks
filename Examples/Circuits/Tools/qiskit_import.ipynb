{
 "cells": [
  {
   "cell_type": "markdown",
   "id": "capital-cheese",
   "metadata": {},
   "source": [
    "# Importing and simulating circuits from Qiskit\n",
    "\n",
    "Forge has simple tools to import and run circuits from packages like Qiskit. This notebook demonstrates a basic example."
   ]
  },
  {
   "cell_type": "code",
   "execution_count": 1,
   "id": "acceptable-illustration",
   "metadata": {
    "execution": {
     "iopub.execute_input": "2022-11-06T05:13:49.959726Z",
     "iopub.status.busy": "2022-11-06T05:13:49.959297Z",
     "iopub.status.idle": "2022-11-06T05:13:50.799837Z",
     "shell.execute_reply": "2022-11-06T05:13:50.799265Z"
    }
   },
   "outputs": [],
   "source": [
    "from qcware import forge\n",
    "# this line is for internal tracking; it is not necessary for use!\n",
    "forge.config.set_environment_source_file('qiskit_import.ipynb')\n",
    "\n",
    "import qiskit\n",
    "from qcware_transpile.translations.qiskit.to_quasar import translate\n",
    "\n",
    "# If running locally:\n",
    "# forge.config.set_api_key('paste API key here')"
   ]
  },
  {
   "cell_type": "markdown",
   "id": "metallic-horse",
   "metadata": {},
   "source": [
    "### Start with a Qiskit quantum circuit"
   ]
  },
  {
   "cell_type": "code",
   "execution_count": 2,
   "id": "funky-mobile",
   "metadata": {
    "execution": {
     "iopub.execute_input": "2022-11-06T05:13:50.803073Z",
     "iopub.status.busy": "2022-11-06T05:13:50.802480Z",
     "iopub.status.idle": "2022-11-06T05:13:50.854918Z",
     "shell.execute_reply": "2022-11-06T05:13:50.854348Z"
    }
   },
   "outputs": [
    {
     "data": {
      "text/html": [
       "<pre style=\"word-wrap: normal;white-space: pre;background: #fff0;line-height: 1.1;font-family: &quot;Courier New&quot;,Courier,monospace\">     ┌───┐          \n",
       "q_0: ┤ H ├──■────■──\n",
       "     └───┘┌─┴─┐  │  \n",
       "q_1: ─────┤ X ├──┼──\n",
       "          └───┘┌─┴─┐\n",
       "q_2: ──────────┤ X ├\n",
       "               └───┘</pre>"
      ],
      "text/plain": [
       "     ┌───┐          \n",
       "q_0: ┤ H ├──■────■──\n",
       "     └───┘┌─┴─┐  │  \n",
       "q_1: ─────┤ X ├──┼──\n",
       "          └───┘┌─┴─┐\n",
       "q_2: ──────────┤ X ├\n",
       "               └───┘"
      ]
     },
     "execution_count": 2,
     "metadata": {},
     "output_type": "execute_result"
    }
   ],
   "source": [
    "qiskit_circuit = qiskit.QuantumCircuit(3)\n",
    "\n",
    "qiskit_circuit.h(0)\n",
    "qiskit_circuit.cx(0, 1)\n",
    "qiskit_circuit.cx(0, 2)\n",
    "\n",
    "qiskit_circuit.draw()"
   ]
  },
  {
   "cell_type": "markdown",
   "id": "important-merit",
   "metadata": {},
   "source": [
    "### Import the circuit into Forge"
   ]
  },
  {
   "cell_type": "code",
   "execution_count": 3,
   "id": "proprietary-memphis",
   "metadata": {
    "execution": {
     "iopub.execute_input": "2022-11-06T05:13:50.857451Z",
     "iopub.status.busy": "2022-11-06T05:13:50.856944Z",
     "iopub.status.idle": "2022-11-06T05:13:51.266051Z",
     "shell.execute_reply": "2022-11-06T05:13:51.265378Z"
    }
   },
   "outputs": [
    {
     "name": "stdout",
     "output_type": "stream",
     "text": [
      "T  : |0|1|2|\n",
      "\n",
      "q0 : -----X-\n",
      "          | \n",
      "q1 : ---X-|-\n",
      "        | | \n",
      "q2 : -H-@-@-\n",
      "            \n",
      "T  : |0|1|2|\n",
      "\n"
     ]
    }
   ],
   "source": [
    "forge_circuit = translate(qiskit_circuit)\n",
    "\n",
    "print(forge_circuit)"
   ]
  },
  {
   "cell_type": "markdown",
   "id": "systematic-slovenia",
   "metadata": {},
   "source": [
    "### Simulate the statevector for the imported circuit"
   ]
  },
  {
   "cell_type": "code",
   "execution_count": 4,
   "id": "requested-vertical",
   "metadata": {
    "execution": {
     "iopub.execute_input": "2022-11-06T05:13:51.268886Z",
     "iopub.status.busy": "2022-11-06T05:13:51.268319Z",
     "iopub.status.idle": "2022-11-06T05:13:51.721087Z",
     "shell.execute_reply": "2022-11-06T05:13:51.720258Z"
    }
   },
   "outputs": [
    {
     "name": "stdout",
     "output_type": "stream",
     "text": [
      "[0.70710678+0.j 0.        +0.j 0.        +0.j 0.        +0.j\n",
      " 0.        +0.j 0.        +0.j 0.        +0.j 0.70710678+0.j]\n"
     ]
    }
   ],
   "source": [
    "forge_backend = forge.circuits.QuasarBackend('qcware/cpu_simulator')\n",
    "\n",
    "# Execution\n",
    "forge_statevector = forge_backend.run_statevector(circuit=forge_circuit)\n",
    "\n",
    "print(forge_statevector)"
   ]
  }
 ],
 "metadata": {
  "kernelspec": {
   "display_name": "Python 3",
   "language": "python",
   "name": "python3"
  },
  "language_info": {
   "codemirror_mode": {
    "name": "ipython",
    "version": 3
   },
   "file_extension": ".py",
   "mimetype": "text/x-python",
   "name": "python",
   "nbconvert_exporter": "python",
   "pygments_lexer": "ipython3",
   "version": "3.9.2"
  }
 },
 "nbformat": 4,
 "nbformat_minor": 5
}
