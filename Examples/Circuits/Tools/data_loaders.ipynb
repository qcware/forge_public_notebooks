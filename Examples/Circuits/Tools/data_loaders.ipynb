{
 "cells": [
  {
   "cell_type": "markdown",
   "id": "governing-thing",
   "metadata": {},
   "source": [
    "# Data Loader Circuits"
   ]
  },
  {
   "cell_type": "markdown",
   "id": "nominated-animal",
   "metadata": {},
   "source": [
    "Many quantum algorithms require the conversion of classical data into quantum states. QC Ware has developed carefully optimized NISQ circuits that perform this translation.\n",
    "\n",
    "This notebook explains how to generate these circuits for your own data sets."
   ]
  },
  {
   "cell_type": "markdown",
   "id": "eight-myrtle",
   "metadata": {},
   "source": [
    "### Basic Usage"
   ]
  },
  {
   "cell_type": "code",
   "execution_count": 1,
   "id": "aboriginal-consent",
   "metadata": {
    "execution": {
     "iopub.execute_input": "2022-03-08T05:19:33.422567Z",
     "iopub.status.busy": "2022-03-08T05:19:33.419122Z",
     "iopub.status.idle": "2022-03-08T05:19:34.028403Z",
     "shell.execute_reply": "2022-03-08T05:19:34.029097Z"
    }
   },
   "outputs": [],
   "source": [
    "from qcware import forge\n",
    "# this line is for internal tracking; it is not necessary for use!\n",
    "forge.config.set_environment_source_file('data_loaders.ipynb')\n",
    "\n",
    "# Paste your api key below if not using the hosted notebooks# qcware.config.set_api_key('PASTE YOUR API KEY')\n",
    "import numpy as np\n",
    "from qcware.forge import qio"
   ]
  },
  {
   "cell_type": "code",
   "execution_count": 2,
   "id": "romance-extension",
   "metadata": {
    "execution": {
     "iopub.execute_input": "2022-03-08T05:19:34.036811Z",
     "iopub.status.busy": "2022-03-08T05:19:34.035923Z",
     "iopub.status.idle": "2022-03-08T05:19:34.039530Z",
     "shell.execute_reply": "2022-03-08T05:19:34.038949Z"
    }
   },
   "outputs": [
    {
     "name": "stdout",
     "output_type": "stream",
     "text": [
      "Generated data:\n",
      "[-0.15281962  0.51033354 -0.68805426 -0.49273439]\n"
     ]
    }
   ],
   "source": [
    "# Generate a random vector\n",
    "data = np.random.rand(4)-.5\n",
    "normalized_data = data / np.linalg.norm(data)\n",
    "\n",
    "print('Generated data:')\n",
    "print(normalized_data)"
   ]
  },
  {
   "cell_type": "code",
   "execution_count": 3,
   "id": "racial-jaguar",
   "metadata": {
    "execution": {
     "iopub.execute_input": "2022-03-08T05:19:34.048563Z",
     "iopub.status.busy": "2022-03-08T05:19:34.047625Z",
     "iopub.status.idle": "2022-03-08T05:19:34.306170Z",
     "shell.execute_reply": "2022-03-08T05:19:34.305629Z"
    }
   },
   "outputs": [
    {
     "name": "stdout",
     "output_type": "stream",
     "text": [
      "T  : |0|1|2|3|4|5|\n",
      "\n",
      "q0 : -X-B-@-------\n",
      "        | |       \n",
      "q1 : ---S-|---@---\n",
      "          |   |   \n",
      "q2 : -----X-B-X-B-\n",
      "            |   | \n",
      "q3 : -------S---S-\n",
      "                  \n",
      "T  : |0|1|2|3|4|5|\n",
      "\n"
     ]
    }
   ],
   "source": [
    "# Create the data loader circuit for the data\n",
    "data_loader = qio.loader(normalized_data)\n",
    "\n",
    "print(data_loader)"
   ]
  },
  {
   "cell_type": "markdown",
   "id": "hawaiian-locking",
   "metadata": {},
   "source": [
    "We can look at how the data is stored. You should be able to find the normalized data in the quantum state."
   ]
  },
  {
   "cell_type": "code",
   "execution_count": 4,
   "id": "animated-theorem",
   "metadata": {
    "execution": {
     "iopub.execute_input": "2022-03-08T05:19:34.312907Z",
     "iopub.status.busy": "2022-03-08T05:19:34.312232Z",
     "iopub.status.idle": "2022-03-08T05:19:34.315722Z",
     "shell.execute_reply": "2022-03-08T05:19:34.315098Z"
    }
   },
   "outputs": [
    {
     "name": "stdout",
     "output_type": "stream",
     "text": [
      "[ 0.        +0.j  0.        +0.j  0.        +0.j  0.        +0.j\n",
      "  0.        +0.j -0.49273439+0.j -0.68805426+0.j  0.        +0.j\n",
      "  0.        +0.j  0.51033354+0.j -0.15281962+0.j  0.        +0.j\n",
      "  0.        +0.j  0.        +0.j  0.        +0.j  0.        +0.j]\n"
     ]
    }
   ],
   "source": [
    "# Simulate the data loader circuit\n",
    "import quasar\n",
    "state_vector = quasar.QuasarSimulatorBackend().run_statevector(data_loader)\n",
    "\n",
    "print(state_vector)"
   ]
  },
  {
   "cell_type": "markdown",
   "id": "atlantic-reproduction",
   "metadata": {},
   "source": [
    "### Loader Type Selection"
   ]
  },
  {
   "cell_type": "markdown",
   "id": "fourth-praise",
   "metadata": {},
   "source": [
    "There are two types of loaders that we have designed: parallel loaders (which have less depth but more qubits) and optimized loaders (which have fewer qubits with greater depth)."
   ]
  },
  {
   "cell_type": "code",
   "execution_count": 5,
   "id": "steady-albuquerque",
   "metadata": {
    "execution": {
     "iopub.execute_input": "2022-03-08T05:19:34.324036Z",
     "iopub.status.busy": "2022-03-08T05:19:34.323419Z",
     "iopub.status.idle": "2022-03-08T05:19:34.847673Z",
     "shell.execute_reply": "2022-03-08T05:19:34.849344Z"
    }
   },
   "outputs": [],
   "source": [
    "data = np.random.rand(5)\n",
    "normalized_data = data / np.linalg.norm(data)\n",
    "\n",
    "parallel_loader = qio.loader(normalized_data, mode='parallel')\n",
    "optimized_loader = qio.loader(normalized_data, mode='optimized')"
   ]
  },
  {
   "cell_type": "code",
   "execution_count": 6,
   "id": "finnish-workstation",
   "metadata": {
    "execution": {
     "iopub.execute_input": "2022-03-08T05:19:34.864103Z",
     "iopub.status.busy": "2022-03-08T05:19:34.859868Z",
     "iopub.status.idle": "2022-03-08T05:19:34.872842Z",
     "shell.execute_reply": "2022-03-08T05:19:34.873415Z"
    }
   },
   "outputs": [
    {
     "name": "stdout",
     "output_type": "stream",
     "text": [
      "Parallel Loader (more qubits, less depth):\n",
      "\n",
      "T  : |0|1|2|3|\n",
      "\n",
      "q0 : -X-B-B-B-\n",
      "        | | | \n",
      "q1 : ---|-|-S-\n",
      "        | |   \n",
      "q2 : ---|-S-B-\n",
      "        |   | \n",
      "q3 : ---|---S-\n",
      "        |     \n",
      "q4 : ---S-----\n",
      "              \n",
      "T  : |0|1|2|3|\n",
      " \n",
      "\n",
      "\n",
      "Optimized Loader (fewer qubits, greater depth):\n",
      "\n",
      "T  : |0|1|2|3|4|5|6|7|8|\n",
      "\n",
      "q0 : -X-B-@-------------\n",
      "        | |             \n",
      "q1 : ---S-|-------@-----\n",
      "          |       |     \n",
      "q2 : -----X-B-B-B-X-B-B-\n",
      "            | | |   | | \n",
      "q3 : -------|-S-|---|-S-\n",
      "            |   |   |   \n",
      "q4 : -------S---S---S---\n",
      "                        \n",
      "T  : |0|1|2|3|4|5|6|7|8|\n",
      "\n"
     ]
    }
   ],
   "source": [
    "print('Parallel Loader (more qubits, less depth):\\n')\n",
    "print(parallel_loader, '\\n\\n')\n",
    "\n",
    "print('Optimized Loader (fewer qubits, greater depth):\\n')\n",
    "print(optimized_loader)"
   ]
  },
  {
   "cell_type": "markdown",
   "id": "devoted-story",
   "metadata": {},
   "source": [
    "### Running Loaders on Real Hardware (Ion Q)\n",
    "\n",
    "For a realistic application, a user would first use a loader and then add additional gates to implement a quantum algorithm. However, for simplicity we will just demonstrate running and measuring a loader circuit by itself."
   ]
  },
  {
   "cell_type": "code",
   "execution_count": 7,
   "id": "transparent-revision",
   "metadata": {
    "execution": {
     "iopub.execute_input": "2022-03-08T05:19:34.884019Z",
     "iopub.status.busy": "2022-03-08T05:19:34.876990Z",
     "iopub.status.idle": "2022-03-08T05:19:35.154427Z",
     "shell.execute_reply": "2022-03-08T05:19:35.153424Z"
    }
   },
   "outputs": [],
   "source": [
    "# Generate some data\n",
    "data = np.random.rand(4)\n",
    "normalized_data = data / np.linalg.norm(data)\n",
    "\n",
    "# Make a loader circuit\n",
    "loader = qio.loader(normalized_data, mode='optimized')\n",
    "\n",
    "# Get an Ion Q backend \n",
    "ion_q_backend = forge.circuits.QuasarBackend('awsbraket/ionq')\n",
    "\n",
    "# Uncomment this line to perform hardware run:\n",
    "# result = ion_q_backend.run_measurement(circuit=loader, nmeasurement=64)"
   ]
  },
  {
   "cell_type": "markdown",
   "id": "motivated-threat",
   "metadata": {},
   "source": [
    "Note that the result of a physical hardware run may be delayed because of hardware availability. You can retrieve the result using the API tab on Forge when the computation has been completed."
   ]
  },
  {
   "cell_type": "code",
   "execution_count": null,
   "id": "turkish-individual",
   "metadata": {},
   "outputs": [],
   "source": []
  }
 ],
 "metadata": {
  "kernelspec": {
   "display_name": "Python 3",
   "language": "python",
   "name": "python3"
  },
  "language_info": {
   "codemirror_mode": {
    "name": "ipython",
    "version": 3
   },
   "file_extension": ".py",
   "mimetype": "text/x-python",
   "name": "python",
   "nbconvert_exporter": "python",
   "pygments_lexer": "ipython3",
   "version": "3.9.2"
  }
 },
 "nbformat": 4,
 "nbformat_minor": 5
}
