{
 "cells": [
  {
   "cell_type": "markdown",
   "id": "governing-thing",
   "metadata": {},
   "source": [
    "# Data Loader Circuits"
   ]
  },
  {
   "cell_type": "markdown",
   "id": "nominated-animal",
   "metadata": {},
   "source": [
    "<div class=\"alert alert-block alert-warning\">\n",
    "    Note: The following notebook uses features of Forge (data loaders) which are not available to Developer-level (free) accounts.\n",
    "</div>\n",
    "\n",
    "Many quantum algorithms require the conversion of classical data into quantum states. QC Ware has developed carefully optimized NISQ circuits that perform this translation.\n",
    "\n",
    "This notebook explains how to generate these circuits for your own data sets."
   ]
  },
  {
   "cell_type": "markdown",
   "id": "eight-myrtle",
   "metadata": {
    "tags": []
   },
   "source": [
    "## Basic Usage"
   ]
  },
  {
   "cell_type": "code",
   "execution_count": 1,
   "id": "aboriginal-consent",
   "metadata": {
    "execution": {
     "iopub.execute_input": "2022-09-16T05:11:16.014726Z",
     "iopub.status.busy": "2022-09-16T05:11:16.014370Z",
     "iopub.status.idle": "2022-09-16T05:11:16.504737Z",
     "shell.execute_reply": "2022-09-16T05:11:16.503944Z"
    }
   },
   "outputs": [],
   "source": [
    "import numpy as np\n",
    "from qcware.forge import qio\n",
    "from qcware import forge"
   ]
  },
  {
   "cell_type": "markdown",
   "id": "c43185e5-3aac-4f25-8a03-3390f4edb0df",
   "metadata": {},
   "source": [
    "#### Generate a random vector"
   ]
  },
  {
   "cell_type": "code",
   "execution_count": 2,
   "id": "romance-extension",
   "metadata": {
    "execution": {
     "iopub.execute_input": "2022-09-16T05:11:16.508296Z",
     "iopub.status.busy": "2022-09-16T05:11:16.507889Z",
     "iopub.status.idle": "2022-09-16T05:11:16.513359Z",
     "shell.execute_reply": "2022-09-16T05:11:16.512712Z"
    }
   },
   "outputs": [
    {
     "name": "stdout",
     "output_type": "stream",
     "text": [
      "Generated data:\n",
      "[ 0.68560526 -0.6467278  -0.29319397 -0.16039287]\n"
     ]
    }
   ],
   "source": [
    "data = np.random.rand(4)-.5\n",
    "normalized_data = data / np.linalg.norm(data)\n",
    "\n",
    "print('Generated data:')\n",
    "print(normalized_data)"
   ]
  },
  {
   "cell_type": "markdown",
   "id": "b5a9cbba-857f-4d6c-91c7-75d70e07425d",
   "metadata": {},
   "source": [
    "#### Create the loader circuit"
   ]
  },
  {
   "cell_type": "code",
   "execution_count": 3,
   "id": "racial-jaguar",
   "metadata": {
    "execution": {
     "iopub.execute_input": "2022-09-16T05:11:16.515893Z",
     "iopub.status.busy": "2022-09-16T05:11:16.515603Z",
     "iopub.status.idle": "2022-09-16T05:11:16.765080Z",
     "shell.execute_reply": "2022-09-16T05:11:16.764226Z"
    }
   },
   "outputs": [
    {
     "name": "stdout",
     "output_type": "stream",
     "text": [
      "T  : |0|1|2|3|4|5|\n",
      "\n",
      "q0 : -X-B-@-------\n",
      "        | |       \n",
      "q1 : ---S-|---@---\n",
      "          |   |   \n",
      "q2 : -----X-B-X-B-\n",
      "            |   | \n",
      "q3 : -------S---S-\n",
      "                  \n",
      "T  : |0|1|2|3|4|5|\n",
      "\n"
     ]
    }
   ],
   "source": [
    "data_loader = qio.loader(normalized_data)\n",
    "\n",
    "print(data_loader)"
   ]
  },
  {
   "cell_type": "markdown",
   "id": "c0f35bea-3a8e-4a65-a0c9-b0378fbc8800",
   "metadata": {},
   "source": [
    "#### Find relevant indices\n",
    "`qio.loader` can also tell us which indices of the statevector will contain our data."
   ]
  },
  {
   "cell_type": "code",
   "execution_count": 4,
   "id": "57b0cb5e-6355-4445-9a5c-0f09448d4801",
   "metadata": {
    "execution": {
     "iopub.execute_input": "2022-09-16T05:11:16.769038Z",
     "iopub.status.busy": "2022-09-16T05:11:16.768689Z",
     "iopub.status.idle": "2022-09-16T05:11:17.291971Z",
     "shell.execute_reply": "2022-09-16T05:11:17.291078Z"
    }
   },
   "outputs": [
    {
     "name": "stdout",
     "output_type": "stream",
     "text": [
      "Statevector indices corresponding to our data elements: [10  9  6  5]\n",
      "States corresponding to our data elements: |1010> |1001> |0110> |0101>\n"
     ]
    }
   ],
   "source": [
    "data_loader, statevector_indices = qio.loader(\n",
    "    normalized_data,\n",
    "    return_statevector_indices=True\n",
    ")\n",
    "print(\"Statevector indices corresponding to our data elements:\", statevector_indices)\n",
    "\n",
    "# Some formatting\n",
    "kets = [\"|{:04b}>\".format(i) for i in statevector_indices]\n",
    "print(\"States corresponding to our data elements:\", \" \".join(kets))\n"
   ]
  },
  {
   "cell_type": "markdown",
   "id": "hawaiian-locking",
   "metadata": {},
   "source": [
    "#### Run the circuit on a simulator\n",
    "We can look at how the data is stored after running the circuit. You should be able to find the data in the quantum statevector."
   ]
  },
  {
   "cell_type": "code",
   "execution_count": 5,
   "id": "animated-theorem",
   "metadata": {
    "execution": {
     "iopub.execute_input": "2022-09-16T05:11:17.295374Z",
     "iopub.status.busy": "2022-09-16T05:11:17.295035Z",
     "iopub.status.idle": "2022-09-16T05:11:17.302938Z",
     "shell.execute_reply": "2022-09-16T05:11:17.302274Z"
    }
   },
   "outputs": [
    {
     "name": "stdout",
     "output_type": "stream",
     "text": [
      "[ 0.        +0.j  0.        +0.j  0.        +0.j  0.        +0.j\n",
      "  0.        +0.j -0.16039287+0.j -0.29319397+0.j  0.        +0.j\n",
      "  0.        +0.j -0.6467278 +0.j  0.68560526+0.j  0.        +0.j\n",
      "  0.        +0.j  0.        +0.j  0.        +0.j  0.        +0.j]\n",
      "\n",
      "Each element of our original data below should be somewhere in the above statevector!\n",
      "Original data: [ 0.68560526 -0.6467278  -0.29319397 -0.16039287]\n"
     ]
    }
   ],
   "source": [
    "import quasar\n",
    "statevector = quasar.QuasarSimulatorBackend().run_statevector(data_loader)\n",
    "\n",
    "print(statevector)\n",
    "print(\"\\nEach element of our original data below should be somewhere in the above statevector!\")\n",
    "print(\"Original data:\", normalized_data)"
   ]
  },
  {
   "cell_type": "markdown",
   "id": "df174d1d-e872-453a-9725-fa3d41a3241c",
   "metadata": {},
   "source": [
    "#### Reconstruct our original data from the simulation statevector\n",
    "We can do this with the `statevector_indices` we recieved."
   ]
  },
  {
   "cell_type": "code",
   "execution_count": 6,
   "id": "9fa1f6e4-c1dd-4552-adc2-d8cdd1403986",
   "metadata": {
    "execution": {
     "iopub.execute_input": "2022-09-16T05:11:17.305839Z",
     "iopub.status.busy": "2022-09-16T05:11:17.305501Z",
     "iopub.status.idle": "2022-09-16T05:11:17.310644Z",
     "shell.execute_reply": "2022-09-16T05:11:17.309949Z"
    }
   },
   "outputs": [
    {
     "name": "stdout",
     "output_type": "stream",
     "text": [
      "[ 0.68560526+0.j -0.6467278 +0.j -0.29319397+0.j -0.16039287+0.j]\n"
     ]
    }
   ],
   "source": [
    "print(statevector[statevector_indices])"
   ]
  },
  {
   "cell_type": "markdown",
   "id": "8dd6a0ef-faad-4339-875e-5f3386fa520f",
   "metadata": {},
   "source": [
    "That looks the same as above!"
   ]
  },
  {
   "cell_type": "markdown",
   "id": "atlantic-reproduction",
   "metadata": {},
   "source": [
    "## Loader Type Selection"
   ]
  },
  {
   "cell_type": "markdown",
   "id": "fourth-praise",
   "metadata": {},
   "source": [
    "There are two types of loaders that we have designed: parallel loaders (which have less depth but more qubits) and optimized loaders (which have fewer qubits with greater depth)."
   ]
  },
  {
   "cell_type": "code",
   "execution_count": 7,
   "id": "steady-albuquerque",
   "metadata": {
    "execution": {
     "iopub.execute_input": "2022-09-16T05:11:17.314083Z",
     "iopub.status.busy": "2022-09-16T05:11:17.313763Z",
     "iopub.status.idle": "2022-09-16T05:11:17.857699Z",
     "shell.execute_reply": "2022-09-16T05:11:17.856509Z"
    }
   },
   "outputs": [],
   "source": [
    "data = np.random.rand(5)\n",
    "normalized_data = data / np.linalg.norm(data)\n",
    "\n",
    "parallel_loader = qio.loader(normalized_data, mode='parallel')\n",
    "optimized_loader = qio.loader(normalized_data, mode='optimized')"
   ]
  },
  {
   "cell_type": "code",
   "execution_count": 8,
   "id": "finnish-workstation",
   "metadata": {
    "execution": {
     "iopub.execute_input": "2022-09-16T05:11:17.869040Z",
     "iopub.status.busy": "2022-09-16T05:11:17.867484Z",
     "iopub.status.idle": "2022-09-16T05:11:17.887924Z",
     "shell.execute_reply": "2022-09-16T05:11:17.886638Z"
    }
   },
   "outputs": [
    {
     "name": "stdout",
     "output_type": "stream",
     "text": [
      "Parallel Loader (more qubits, less depth):\n",
      "\n",
      "T  : |0|1|2|3|\n",
      "\n",
      "q0 : -X-B-B-B-\n",
      "        | | | \n",
      "q1 : ---|-|-S-\n",
      "        | |   \n",
      "q2 : ---|-S-B-\n",
      "        |   | \n",
      "q3 : ---|---S-\n",
      "        |     \n",
      "q4 : ---S-----\n",
      "              \n",
      "T  : |0|1|2|3|\n",
      " \n",
      "\n",
      "\n",
      "Optimized Loader (fewer qubits, greater depth):\n",
      "\n",
      "T  : |0|1|2|3|4|5|6|7|8|\n",
      "\n",
      "q0 : -X-B-@-------------\n",
      "        | |             \n",
      "q1 : ---S-|-------@-----\n",
      "          |       |     \n",
      "q2 : -----X-B-B-B-X-B-B-\n",
      "            | | |   | | \n",
      "q3 : -------|-S-|---|-S-\n",
      "            |   |   |   \n",
      "q4 : -------S---S---S---\n",
      "                        \n",
      "T  : |0|1|2|3|4|5|6|7|8|\n",
      "\n"
     ]
    }
   ],
   "source": [
    "print('Parallel Loader (more qubits, less depth):\\n')\n",
    "print(parallel_loader, '\\n\\n')\n",
    "\n",
    "print('Optimized Loader (fewer qubits, greater depth):\\n')\n",
    "print(optimized_loader)"
   ]
  },
  {
   "cell_type": "markdown",
   "id": "devoted-story",
   "metadata": {},
   "source": [
    "## Running Loaders on Real Hardware (Ion Q)\n",
    "\n",
    "For a realistic application, a user would first use a loader and then add additional gates to implement a quantum algorithm. However, for simplicity we will just demonstrate running and measuring a loader circuit by itself."
   ]
  },
  {
   "cell_type": "code",
   "execution_count": 9,
   "id": "transparent-revision",
   "metadata": {
    "execution": {
     "iopub.execute_input": "2022-09-16T05:11:17.891877Z",
     "iopub.status.busy": "2022-09-16T05:11:17.891245Z",
     "iopub.status.idle": "2022-09-16T05:11:18.136567Z",
     "shell.execute_reply": "2022-09-16T05:11:18.135387Z"
    }
   },
   "outputs": [],
   "source": [
    "# Generate some data\n",
    "data = np.random.rand(4)\n",
    "normalized_data = data / np.linalg.norm(data)\n",
    "\n",
    "# Make a loader circuit\n",
    "loader = qio.loader(normalized_data, mode='optimized')\n",
    "\n",
    "# Get an Ion Q backend \n",
    "ion_q_backend = forge.circuits.QuasarBackend('awsbraket/ionq')\n",
    "\n",
    "# Uncomment this line to perform hardware run:\n",
    "# result = ion_q_backend.run_measurement(circuit=loader, nmeasurement=64)"
   ]
  },
  {
   "cell_type": "markdown",
   "id": "motivated-threat",
   "metadata": {},
   "source": [
    "Note that the result of a physical hardware run may be delayed because of hardware availability. You can retrieve the result using the API tab on Forge when the computation has been completed."
   ]
  }
 ],
 "metadata": {
  "kernelspec": {
   "display_name": "Python 3 (ipykernel)",
   "language": "python",
   "name": "python3"
  },
  "language_info": {
   "codemirror_mode": {
    "name": "ipython",
    "version": 3
   },
   "file_extension": ".py",
   "mimetype": "text/x-python",
   "name": "python",
   "nbconvert_exporter": "python",
   "pygments_lexer": "ipython3",
   "version": "3.9.2"
  }
 },
 "nbformat": 4,
 "nbformat_minor": 5
}
