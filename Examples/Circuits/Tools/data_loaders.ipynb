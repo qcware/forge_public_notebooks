{
 "cells": [
  {
   "cell_type": "markdown",
   "id": "desirable-roman",
   "metadata": {},
   "source": [
    "# Data Loader Circuits"
   ]
  },
  {
   "cell_type": "markdown",
   "id": "stuffed-savannah",
   "metadata": {},
   "source": [
    "Many quantum algorithms require the conversion of classical data into quantum states. QC Ware has developed carefully optimized NISQ circuits that perform this translation.\n",
    "\n",
    "This notebook explains how to generate these circuits for your own data sets."
   ]
  },
  {
   "cell_type": "markdown",
   "id": "taken-giant",
   "metadata": {},
   "source": [
    "### Basic Usage"
   ]
  },
  {
   "cell_type": "code",
   "execution_count": 1,
   "id": "exposed-carnival",
   "metadata": {
    "execution": {
     "iopub.execute_input": "2021-07-26T05:18:29.204756Z",
     "iopub.status.busy": "2021-07-26T05:18:29.204158Z",
     "iopub.status.idle": "2021-07-26T05:18:29.771800Z",
     "shell.execute_reply": "2021-07-26T05:18:29.771024Z"
    }
   },
   "outputs": [],
   "source": [
    "from qcware import forge\n",
    "# this line is for internal tracking; it is not necessary for use!\n",
    "forge.config.set_environment_source_file('data_loaders.ipynb')\n",
    "\n",
    "# Paste your api key below if not using the hosted notebooks# qcware.config.set_api_key('PASTE YOUR API KEY')\n",
    "import numpy as np\n",
    "from qcware.forge import qio"
   ]
  },
  {
   "cell_type": "code",
   "execution_count": 2,
   "id": "endangered-fireplace",
   "metadata": {
    "execution": {
     "iopub.execute_input": "2021-07-26T05:18:29.777406Z",
     "iopub.status.busy": "2021-07-26T05:18:29.776799Z",
     "iopub.status.idle": "2021-07-26T05:18:29.780239Z",
     "shell.execute_reply": "2021-07-26T05:18:29.780675Z"
    }
   },
   "outputs": [
    {
     "name": "stdout",
     "output_type": "stream",
     "text": [
      "Generated data:\n",
      "[ 0.48950862  0.45535599  0.65775303 -0.3469772 ]\n"
     ]
    }
   ],
   "source": [
    "# Generate a random vector\n",
    "data = np.random.rand(4)-.5\n",
    "normalized_data = data / np.linalg.norm(data)\n",
    "\n",
    "print('Generated data:')\n",
    "print(normalized_data)"
   ]
  },
  {
   "cell_type": "code",
   "execution_count": 3,
   "id": "governing-cooling",
   "metadata": {
    "execution": {
     "iopub.execute_input": "2021-07-26T05:18:29.789780Z",
     "iopub.status.busy": "2021-07-26T05:18:29.787462Z",
     "iopub.status.idle": "2021-07-26T05:18:30.047585Z",
     "shell.execute_reply": "2021-07-26T05:18:30.047011Z"
    }
   },
   "outputs": [
    {
     "name": "stdout",
     "output_type": "stream",
     "text": [
      "T  : |0|1|2|3|4|5|6|\n",
      "\n",
      "q0 : -X-B-@---------\n",
      "        | |         \n",
      "q1 : ---S-|-----@---\n",
      "          |     |   \n",
      "q2 : -----X-B-B-X-B-\n",
      "            | |   | \n",
      "q3 : -------S-S---S-\n",
      "                    \n",
      "T  : |0|1|2|3|4|5|6|\n",
      "\n"
     ]
    }
   ],
   "source": [
    "# Create the data loader circuit for the data\n",
    "data_loader = qio.loader(normalized_data)\n",
    "\n",
    "print(data_loader)"
   ]
  },
  {
   "cell_type": "markdown",
   "id": "proprietary-vacuum",
   "metadata": {},
   "source": [
    "We can look at how the data is stored. You should be able to find the normalized data in the quantum state."
   ]
  },
  {
   "cell_type": "code",
   "execution_count": 4,
   "id": "geological-attribute",
   "metadata": {
    "execution": {
     "iopub.execute_input": "2021-07-26T05:18:30.054347Z",
     "iopub.status.busy": "2021-07-26T05:18:30.053598Z",
     "iopub.status.idle": "2021-07-26T05:18:30.056439Z",
     "shell.execute_reply": "2021-07-26T05:18:30.056890Z"
    }
   },
   "outputs": [
    {
     "name": "stdout",
     "output_type": "stream",
     "text": [
      "[ 0.        +0.j  0.        +0.j  0.        +0.j  0.        +0.j\n",
      "  0.        +0.j -0.3469772 +0.j  0.65775303+0.j  0.        +0.j\n",
      "  0.        +0.j  0.45535599+0.j  0.48950862+0.j  0.        +0.j\n",
      "  0.        +0.j  0.        +0.j  0.        +0.j  0.        +0.j]\n"
     ]
    }
   ],
   "source": [
    "# Simulate the data loader circuit\n",
    "import quasar\n",
    "state_vector = quasar.QuasarSimulatorBackend().run_statevector(data_loader)\n",
    "\n",
    "print(state_vector)"
   ]
  },
  {
   "cell_type": "markdown",
   "id": "romantic-methodology",
   "metadata": {},
   "source": [
    "### Loader Type Selection"
   ]
  },
  {
   "cell_type": "markdown",
   "id": "challenging-infrared",
   "metadata": {},
   "source": [
    "There are two types of loaders that we have designed: parallel loaders (which have less depth but more qubits) and optimized loaders (which have fewer qubits with greater depth)."
   ]
  },
  {
   "cell_type": "code",
   "execution_count": 5,
   "id": "random-fiber",
   "metadata": {
    "execution": {
     "iopub.execute_input": "2021-07-26T05:18:30.063864Z",
     "iopub.status.busy": "2021-07-26T05:18:30.063255Z",
     "iopub.status.idle": "2021-07-26T05:18:30.558355Z",
     "shell.execute_reply": "2021-07-26T05:18:30.557589Z"
    }
   },
   "outputs": [],
   "source": [
    "data = np.random.rand(5)\n",
    "normalized_data = data / np.linalg.norm(data)\n",
    "\n",
    "parallel_loader = qio.loader(normalized_data, mode='parallel')\n",
    "optimized_loader = qio.loader(normalized_data, mode='optimized')"
   ]
  },
  {
   "cell_type": "code",
   "execution_count": 6,
   "id": "hearing-electric",
   "metadata": {
    "execution": {
     "iopub.execute_input": "2021-07-26T05:18:30.564843Z",
     "iopub.status.busy": "2021-07-26T05:18:30.563930Z",
     "iopub.status.idle": "2021-07-26T05:18:30.567394Z",
     "shell.execute_reply": "2021-07-26T05:18:30.567845Z"
    }
   },
   "outputs": [
    {
     "name": "stdout",
     "output_type": "stream",
     "text": [
      "Parallel Loader (more qubits, less depth):\n",
      "\n",
      "T  : |0|1|2|3|\n",
      "\n",
      "q0 : -X-B-B-B-\n",
      "        | | | \n",
      "q1 : ---|-|-S-\n",
      "        | |   \n",
      "q2 : ---|-S-B-\n",
      "        |   | \n",
      "q3 : ---|---S-\n",
      "        |     \n",
      "q4 : ---S-B-B-\n",
      "          | | \n",
      "q5 : -----|-S-\n",
      "          |   \n",
      "q6 : -----S-B-\n",
      "            | \n",
      "q7 : -------S-\n",
      "              \n",
      "T  : |0|1|2|3|\n",
      " \n",
      "\n",
      "\n",
      "Optimized Loader (fewer qubits, greater depth):\n",
      "\n",
      "T  : |0|1|2|3|4|5|6|7|8|9|\n",
      "\n",
      "q0 : -X-B-@---------------\n",
      "        | |               \n",
      "q1 : ---S-|---------@-----\n",
      "          |         |     \n",
      "q2 : -----X-B-B-B-B-X-B-B-\n",
      "            | | | |   | | \n",
      "q3 : -------|-S-S-|---|-S-\n",
      "            |     |   |   \n",
      "q4 : -------S-B-B-S---S-B-\n",
      "              | |       | \n",
      "q5 : ---------S-S-------S-\n",
      "                          \n",
      "T  : |0|1|2|3|4|5|6|7|8|9|\n",
      "\n"
     ]
    }
   ],
   "source": [
    "print('Parallel Loader (more qubits, less depth):\\n')\n",
    "print(parallel_loader, '\\n\\n')\n",
    "\n",
    "print('Optimized Loader (fewer qubits, greater depth):\\n')\n",
    "print(optimized_loader)"
   ]
  },
  {
   "cell_type": "markdown",
   "id": "enhanced-indonesian",
   "metadata": {},
   "source": [
    "### Running Loaders on Real Hardware (Ion Q)\n",
    "\n",
    "For a realistic application, a user would first use a loader and then add additional gates to implement a quantum algorithm. However, for simplicity we will just demonstrate running and measuring a loader circuit by itself."
   ]
  },
  {
   "cell_type": "code",
   "execution_count": 7,
   "id": "false-general",
   "metadata": {
    "execution": {
     "iopub.execute_input": "2021-07-26T05:18:30.575381Z",
     "iopub.status.busy": "2021-07-26T05:18:30.574483Z",
     "iopub.status.idle": "2021-07-26T05:18:30.818632Z",
     "shell.execute_reply": "2021-07-26T05:18:30.818012Z"
    }
   },
   "outputs": [],
   "source": [
    "# Generate some data\n",
    "data = np.random.rand(4)\n",
    "normalized_data = data / np.linalg.norm(data)\n",
    "\n",
    "# Make a loader circuit\n",
    "loader = qio.loader(normalized_data, mode='optimized')\n",
    "\n",
    "# Get an Ion Q backend \n",
    "ion_q_backend = forge.circuits.QuasarBackend('awsbraket/ionq')\n",
    "\n",
    "# Uncomment this line to perform hardware run:\n",
    "# result = ion_q_backend.run_measurement(circuit=loader, nmeasurement=64)"
   ]
  },
  {
   "cell_type": "markdown",
   "id": "parliamentary-synthesis",
   "metadata": {},
   "source": [
    "Note that the result of a physical hardware run may be delayed because of hardware availability. You can retrieve the result using the API tab on Forge when the computation has been completed."
   ]
  },
  {
   "cell_type": "code",
   "execution_count": null,
   "id": "appointed-watts",
   "metadata": {},
   "outputs": [],
   "source": []
  }
 ],
 "metadata": {
  "kernelspec": {
   "display_name": "Python 3",
   "language": "python",
   "name": "python3"
  },
  "language_info": {
   "codemirror_mode": {
    "name": "ipython",
    "version": 3
   },
   "file_extension": ".py",
   "mimetype": "text/x-python",
   "name": "python",
   "nbconvert_exporter": "python",
   "pygments_lexer": "ipython3",
   "version": "3.9.2"
  }
 },
 "nbformat": 4,
 "nbformat_minor": 5
}
