{
 "cells": [
  {
   "cell_type": "markdown",
   "id": "desirable-roman",
   "metadata": {},
   "source": [
    "# Data Loader Circuits"
   ]
  },
  {
   "cell_type": "markdown",
   "id": "stuffed-savannah",
   "metadata": {},
   "source": [
    "Many quantum algorithms require the conversion of classical data into quantum states. QC Ware has developed carefully optimized NISQ circuits that perform this translation.\n",
    "\n",
    "This notebook explains how to generate these circuits for your own data sets."
   ]
  },
  {
   "cell_type": "markdown",
   "id": "taken-giant",
   "metadata": {},
   "source": [
    "### Basic Usage"
   ]
  },
  {
   "cell_type": "code",
   "execution_count": 1,
   "id": "exposed-carnival",
   "metadata": {
    "execution": {
     "iopub.execute_input": "2021-07-23T05:19:13.558713Z",
     "iopub.status.busy": "2021-07-23T05:19:13.557896Z",
     "iopub.status.idle": "2021-07-23T05:19:14.166835Z",
     "shell.execute_reply": "2021-07-23T05:19:14.167500Z"
    }
   },
   "outputs": [],
   "source": [
    "from qcware import forge\n",
    "# this line is for internal tracking; it is not necessary for use!\n",
    "forge.config.set_environment_source_file('data_loaders.ipynb')\n",
    "\n",
    "# Paste your api key below if not using the hosted notebooks# qcware.config.set_api_key('PASTE YOUR API KEY')\n",
    "import numpy as np\n",
    "from qcware.forge import qio"
   ]
  },
  {
   "cell_type": "code",
   "execution_count": 2,
   "id": "endangered-fireplace",
   "metadata": {
    "execution": {
     "iopub.execute_input": "2021-07-23T05:19:14.174351Z",
     "iopub.status.busy": "2021-07-23T05:19:14.173592Z",
     "iopub.status.idle": "2021-07-23T05:19:14.177476Z",
     "shell.execute_reply": "2021-07-23T05:19:14.178059Z"
    }
   },
   "outputs": [
    {
     "name": "stdout",
     "output_type": "stream",
     "text": [
      "Generated data:\n",
      "[ 0.63664744  0.68873864 -0.06017184  0.34161159]\n"
     ]
    }
   ],
   "source": [
    "# Generate a random vector\n",
    "data = np.random.rand(4)-.5\n",
    "normalized_data = data / np.linalg.norm(data)\n",
    "\n",
    "print('Generated data:')\n",
    "print(normalized_data)"
   ]
  },
  {
   "cell_type": "code",
   "execution_count": 3,
   "id": "governing-cooling",
   "metadata": {
    "execution": {
     "iopub.execute_input": "2021-07-23T05:19:14.183204Z",
     "iopub.status.busy": "2021-07-23T05:19:14.182531Z",
     "iopub.status.idle": "2021-07-23T05:19:14.487293Z",
     "shell.execute_reply": "2021-07-23T05:19:14.487772Z"
    }
   },
   "outputs": [
    {
     "name": "stdout",
     "output_type": "stream",
     "text": [
      "T  : |0|1|2|3|4|5|6|\n",
      "\n",
      "q0 : -X-B-@---------\n",
      "        | |         \n",
      "q1 : ---S-|-----@---\n",
      "          |     |   \n",
      "q2 : -----X-B-B-X-B-\n",
      "            | |   | \n",
      "q3 : -------S-S---S-\n",
      "                    \n",
      "T  : |0|1|2|3|4|5|6|\n",
      "\n"
     ]
    }
   ],
   "source": [
    "# Create the data loader circuit for the data\n",
    "data_loader = qio.loader(normalized_data)\n",
    "\n",
    "print(data_loader)"
   ]
  },
  {
   "cell_type": "markdown",
   "id": "proprietary-vacuum",
   "metadata": {},
   "source": [
    "We can look at how the data is stored. You should be able to find the normalized data in the quantum state."
   ]
  },
  {
   "cell_type": "code",
   "execution_count": 4,
   "id": "geological-attribute",
   "metadata": {
    "execution": {
     "iopub.execute_input": "2021-07-23T05:19:14.495188Z",
     "iopub.status.busy": "2021-07-23T05:19:14.494482Z",
     "iopub.status.idle": "2021-07-23T05:19:14.498460Z",
     "shell.execute_reply": "2021-07-23T05:19:14.497760Z"
    }
   },
   "outputs": [
    {
     "name": "stdout",
     "output_type": "stream",
     "text": [
      "[ 0.        +0.j  0.        +0.j  0.        +0.j  0.        +0.j\n",
      "  0.        +0.j  0.34161159+0.j -0.06017184+0.j  0.        +0.j\n",
      "  0.        +0.j  0.68873864+0.j  0.63664744+0.j  0.        +0.j\n",
      "  0.        +0.j  0.        +0.j  0.        +0.j  0.        +0.j]\n"
     ]
    }
   ],
   "source": [
    "# Simulate the data loader circuit\n",
    "import quasar\n",
    "state_vector = quasar.QuasarSimulatorBackend().run_statevector(data_loader)\n",
    "\n",
    "print(state_vector)"
   ]
  },
  {
   "cell_type": "markdown",
   "id": "romantic-methodology",
   "metadata": {},
   "source": [
    "### Loader Type Selection"
   ]
  },
  {
   "cell_type": "markdown",
   "id": "challenging-infrared",
   "metadata": {},
   "source": [
    "There are two types of loaders that we have designed: parallel loaders (which have less depth but more qubits) and optimized loaders (which have fewer qubits with greater depth)."
   ]
  },
  {
   "cell_type": "code",
   "execution_count": 5,
   "id": "random-fiber",
   "metadata": {
    "execution": {
     "iopub.execute_input": "2021-07-23T05:19:14.510623Z",
     "iopub.status.busy": "2021-07-23T05:19:14.510023Z",
     "iopub.status.idle": "2021-07-23T05:19:15.114570Z",
     "shell.execute_reply": "2021-07-23T05:19:15.113670Z"
    }
   },
   "outputs": [],
   "source": [
    "data = np.random.rand(5)\n",
    "normalized_data = data / np.linalg.norm(data)\n",
    "\n",
    "parallel_loader = qio.loader(normalized_data, mode='parallel')\n",
    "optimized_loader = qio.loader(normalized_data, mode='optimized')"
   ]
  },
  {
   "cell_type": "code",
   "execution_count": 6,
   "id": "hearing-electric",
   "metadata": {
    "execution": {
     "iopub.execute_input": "2021-07-23T05:19:15.120448Z",
     "iopub.status.busy": "2021-07-23T05:19:15.119828Z",
     "iopub.status.idle": "2021-07-23T05:19:15.124649Z",
     "shell.execute_reply": "2021-07-23T05:19:15.124033Z"
    }
   },
   "outputs": [
    {
     "name": "stdout",
     "output_type": "stream",
     "text": [
      "Parallel Loader (more qubits, less depth):\n",
      "\n",
      "T  : |0|1|2|3|\n",
      "\n",
      "q0 : -X-B-B-B-\n",
      "        | | | \n",
      "q1 : ---|-|-S-\n",
      "        | |   \n",
      "q2 : ---|-S-B-\n",
      "        |   | \n",
      "q3 : ---|---S-\n",
      "        |     \n",
      "q4 : ---S-B-B-\n",
      "          | | \n",
      "q5 : -----|-S-\n",
      "          |   \n",
      "q6 : -----S-B-\n",
      "            | \n",
      "q7 : -------S-\n",
      "              \n",
      "T  : |0|1|2|3|\n",
      " \n",
      "\n",
      "\n",
      "Optimized Loader (fewer qubits, greater depth):\n",
      "\n",
      "T  : |0|1|2|3|4|5|6|7|8|9|\n",
      "\n",
      "q0 : -X-B-@---------------\n",
      "        | |               \n",
      "q1 : ---S-|---------@-----\n",
      "          |         |     \n",
      "q2 : -----X-B-B-B-B-X-B-B-\n",
      "            | | | |   | | \n",
      "q3 : -------|-S-S-|---|-S-\n",
      "            |     |   |   \n",
      "q4 : -------S-B-B-S---S-B-\n",
      "              | |       | \n",
      "q5 : ---------S-S-------S-\n",
      "                          \n",
      "T  : |0|1|2|3|4|5|6|7|8|9|\n",
      "\n"
     ]
    }
   ],
   "source": [
    "print('Parallel Loader (more qubits, less depth):\\n')\n",
    "print(parallel_loader, '\\n\\n')\n",
    "\n",
    "print('Optimized Loader (fewer qubits, greater depth):\\n')\n",
    "print(optimized_loader)"
   ]
  },
  {
   "cell_type": "markdown",
   "id": "enhanced-indonesian",
   "metadata": {},
   "source": [
    "### Running Loaders on Real Hardware (Ion Q)\n",
    "\n",
    "For a realistic application, a user would first use a loader and then add additional gates to implement a quantum algorithm. However, for simplicity we will just demonstrate running and measuring a loader circuit by itself."
   ]
  },
  {
   "cell_type": "code",
   "execution_count": 7,
   "id": "false-general",
   "metadata": {
    "execution": {
     "iopub.execute_input": "2021-07-23T05:19:15.132399Z",
     "iopub.status.busy": "2021-07-23T05:19:15.131508Z",
     "iopub.status.idle": "2021-07-23T05:19:15.429968Z",
     "shell.execute_reply": "2021-07-23T05:19:15.427894Z"
    }
   },
   "outputs": [],
   "source": [
    "# Generate some data\n",
    "data = np.random.rand(4)\n",
    "normalized_data = data / np.linalg.norm(data)\n",
    "\n",
    "# Make a loader circuit\n",
    "loader = qio.loader(normalized_data, mode='optimized')\n",
    "\n",
    "# Get an Ion Q backend \n",
    "ion_q_backend = forge.circuits.QuasarBackend('awsbraket/ionq')\n",
    "\n",
    "# Uncomment this line to perform hardware run:\n",
    "# result = ion_q_backend.run_measurement(circuit=loader, nmeasurement=64)"
   ]
  },
  {
   "cell_type": "markdown",
   "id": "parliamentary-synthesis",
   "metadata": {},
   "source": [
    "Note that the result of a physical hardware run may be delayed because of hardware availability. You can retrieve the result using the API tab on Forge when the computation has been completed."
   ]
  },
  {
   "cell_type": "code",
   "execution_count": null,
   "id": "appointed-watts",
   "metadata": {},
   "outputs": [],
   "source": []
  }
 ],
 "metadata": {
  "kernelspec": {
   "display_name": "Python 3",
   "language": "python",
   "name": "python3"
  },
  "language_info": {
   "codemirror_mode": {
    "name": "ipython",
    "version": 3
   },
   "file_extension": ".py",
   "mimetype": "text/x-python",
   "name": "python",
   "nbconvert_exporter": "python",
   "pygments_lexer": "ipython3",
   "version": "3.9.2"
  }
 },
 "nbformat": 4,
 "nbformat_minor": 5
}
