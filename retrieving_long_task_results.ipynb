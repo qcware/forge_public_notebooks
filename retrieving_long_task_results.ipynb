{
 "cells": [
  {
   "cell_type": "markdown",
   "metadata": {},
   "source": [
    "# Retrieving the Results of Long-Running Tasks #\n",
    "\n",
    "We prefer Forge to be used in a way which enables rapid, interactive iteration.  However, with many simulators and quantum devices, the delays can be quite long.\n",
    "\n",
    "Under the hood, when you call an API function, the call is submitted instantly, and we wait for the result.  If the wait is too long, the task will \"time out\".  The default timeout value can be found as follows:"
   ]
  },
  {
   "cell_type": "code",
   "execution_count": 1,
   "metadata": {
    "execution": {
     "iopub.execute_input": "2022-04-30T05:08:43.523726Z",
     "iopub.status.busy": "2022-04-30T05:08:43.522597Z",
     "iopub.status.idle": "2022-04-30T05:08:44.290596Z",
     "shell.execute_reply": "2022-04-30T05:08:44.291536Z"
    }
   },
   "outputs": [
    {
     "name": "stdout",
     "output_type": "stream",
     "text": [
      "Default client timeout: 60 seconds\n"
     ]
    }
   ],
   "source": [
    "from qcware import forge\n",
    "import pprint\n",
    "# this line is for internal tracking; it is not necessary for use!\n",
    "forge.config.set_environment_source_file('retrieving_long_task_results.ipynb')\n",
    "print(f\"Default client timeout: {forge.config.client_timeout()} seconds\")"
   ]
  },
  {
   "cell_type": "markdown",
   "metadata": {},
   "source": [
    "## What does this number mean? ##\n",
    "\n",
    "When the client waits for the server, there are two kinds of \"wait\":\n",
    "\n",
    "### server_timeout ###\n",
    "\n",
    "`server_timeout` is how long the server will sit waiting for a backend to return a value before giving up and telling the client it hasn't heard anything.  The default is 10 seconds, and this is not normally something the user should modify.\n",
    "\n",
    "### client_timeout ###\n",
    "\n",
    "`client_timeout` is how long the _client_ will wait before giving up and raising an exception.  This is 60 seconds by default, but can be as high as the user awants.\n"
   ]
  },
  {
   "cell_type": "markdown",
   "metadata": {},
   "source": [
    "## Should I change the client timeout?  ##\n",
    "\n",
    "It depends on your use case!  Normally you won't have to, but if you need to wait for a long call, you may want to change `client_timeout` (there often isn't a reason to change `server_timeout`, but you're certainly welcome to, although it must be less than 50 seconds).  \n",
    "\n",
    "On the other hand, there's nothing wrong with a task timing out; the task will still be executed, and you can retrieve the results at your leisure.\n",
    "\n",
    "To show this, let's set the client timeout to 0 and call a function such that it times out instantly.  This is a special case--with the client timeout set to zero, the call will _always_ raise an `ApiTimeoutError` exception (and never ask the server for the result) which enables you to start many calls and selectively retrieve their results.\n",
    "\n",
    "We'll solve a small qubo using a classical QC simulator running a QAOA algorithm, which should take a few seconds.  Forge will throw an `ApiTimeoutError` exception with the call token in the description:"
   ]
  },
  {
   "cell_type": "code",
   "execution_count": 2,
   "metadata": {
    "execution": {
     "iopub.execute_input": "2022-04-30T05:08:44.296349Z",
     "iopub.status.busy": "2022-04-30T05:08:44.295397Z",
     "iopub.status.idle": "2022-04-30T05:08:44.754472Z",
     "shell.execute_reply": "2022-04-30T05:08:44.753894Z"
    }
   },
   "outputs": [
    {
     "name": "stdout",
     "output_type": "stream",
     "text": [
      "API Call timed out.\n",
      "You can retrieve with qcware.api_calls.retrieve_result(call_token='9b853f91-8ca2-4008-b47d-56e6b8b9a106')\n",
      "or use the .submit or .call_async forms of the API call.\n",
      "See the getting started notebook \"Retrieving_long_task_results.ipynb\" in Forge\n"
     ]
    }
   ],
   "source": [
    "forge.config.set_client_timeout(0)\n",
    "import qcware.types\n",
    "\n",
    "Q = {(0, 0): 1, (1, 1): 1, (0, 1): -2, (2, 2): -2, (3, 3): -4, (3, 2): -6}\n",
    "qubo = qcware.types.optimization.PolynomialObjective(\n",
    "    polynomial=Q,\n",
    "    num_variables=4,\n",
    "    domain='boolean'\n",
    ")\n",
    "problem = qcware.types.optimization.BinaryProblem(objective=qubo)\n",
    "\n",
    "thrown_exception = None\n",
    "try:\n",
    "    result = forge.optimization.optimize_binary(instance=problem, backend='qcware/cpu_simulator')\n",
    "    print(result)\n",
    "except forge.exceptions.ApiTimeoutError as e:\n",
    "    thrown_exception = e\n",
    "    print(thrown_exception)"
   ]
  },
  {
   "cell_type": "markdown",
   "metadata": {},
   "source": [
    "That call token represents the ID of the call you made.  You can see the results within your web app interface, but you can also retrieve them for future use using the `retrieve_result` function: the exception contains a long \"call token\" which can be retrieved from the thrown exception with `thrown_exception.api_call_info['uid']`\n",
    "\n",
    "## Note! ##\n",
    "\n",
    "If you run the cell below and get the same exception, the call still hasn't finished running on the server; wait a few seconds and try again!"
   ]
  },
  {
   "cell_type": "code",
   "execution_count": 3,
   "metadata": {
    "execution": {
     "iopub.execute_input": "2022-04-30T05:08:44.761275Z",
     "iopub.status.busy": "2022-04-30T05:08:44.760551Z",
     "iopub.status.idle": "2022-04-30T05:08:59.952943Z",
     "shell.execute_reply": "2022-04-30T05:08:59.952144Z"
    }
   },
   "outputs": [
    {
     "data": {
      "text/html": [
       "<pre style=\"white-space:pre;overflow-x:auto;line-height:normal;font-family:Menlo,'DejaVu Sans Mono',consolas,'Courier New',monospace\"><span style=\"color: #800000; text-decoration-color: #800000\">╭──────────────────────────── </span><span style=\"color: #800000; text-decoration-color: #800000; font-weight: bold\">Traceback </span><span style=\"color: #bf7f7f; text-decoration-color: #bf7f7f; font-weight: bold\">(most recent call last)</span><span style=\"color: #800000; text-decoration-color: #800000\"> ────────────────────────────╮</span>\n",
       "<span style=\"color: #800000; text-decoration-color: #800000\">│</span>                                                                                           <span style=\"color: #800000; text-decoration-color: #800000\">│</span>\n",
       "<span style=\"color: #800000; text-decoration-color: #800000\">│</span> <span style=\"color: #bfbf7f; text-decoration-color: #bfbf7f\">/tmp/ipykernel_36/</span><span style=\"color: #808000; text-decoration-color: #808000; font-weight: bold\">2614715099.py</span>:<span style=\"color: #0000ff; text-decoration-color: #0000ff\">5</span> in <span style=\"color: #00ff00; text-decoration-color: #00ff00\">&lt;module&gt;</span>                                             <span style=\"color: #800000; text-decoration-color: #800000\">│</span>\n",
       "<span style=\"color: #800000; text-decoration-color: #800000\">│</span>                                                                                           <span style=\"color: #800000; text-decoration-color: #800000\">│</span>\n",
       "<span style=\"color: #800000; text-decoration-color: #800000\">│</span> <span style=\"color: #800000; text-decoration-color: #800000; font-style: italic\">[Errno 2] No such file or directory: '/tmp/ipykernel_36/2614715099.py'</span>                    <span style=\"color: #800000; text-decoration-color: #800000\">│</span>\n",
       "<span style=\"color: #800000; text-decoration-color: #800000\">│</span> <span style=\"color: #bfbf7f; text-decoration-color: #bfbf7f\">/usr/src/python_client/qcware/forge/api_calls/</span><span style=\"color: #808000; text-decoration-color: #808000; font-weight: bold\">api_call.py</span>:<span style=\"color: #0000ff; text-decoration-color: #0000ff\">191</span> in <span style=\"color: #00ff00; text-decoration-color: #00ff00\">retrieve_result</span>          <span style=\"color: #800000; text-decoration-color: #800000\">│</span>\n",
       "<span style=\"color: #800000; text-decoration-color: #800000\">│</span>                                                                                           <span style=\"color: #800000; text-decoration-color: #800000\">│</span>\n",
       "<span style=\"color: #800000; text-decoration-color: #800000\">│</span> <span style=\"color: #bfbf7f; text-decoration-color: #bfbf7f\">/usr/src/python_client/qcware/forge/api_calls/</span><span style=\"color: #808000; text-decoration-color: #808000; font-weight: bold\">api_call.py</span>:<span style=\"color: #0000ff; text-decoration-color: #0000ff\">156</span> in <span style=\"color: #00ff00; text-decoration-color: #00ff00\">handle_result</span>            <span style=\"color: #800000; text-decoration-color: #800000\">│</span>\n",
       "<span style=\"color: #800000; text-decoration-color: #800000\">╰───────────────────────────────────────────────────────────────────────────────────────────╯</span>\n",
       "<span style=\"color: #ff0000; text-decoration-color: #ff0000; font-weight: bold\">ApiTimeoutError: </span>API Call timed out.\n",
       "You can retrieve with \n",
       "<span style=\"color: #800080; text-decoration-color: #800080; font-weight: bold\">qcware.api_calls.retrieve_result</span><span style=\"font-weight: bold\">(</span><span style=\"color: #808000; text-decoration-color: #808000\">call_token</span>=<span style=\"color: #008000; text-decoration-color: #008000\">'9b853f91-8ca2-4008-b47d-56e6b8b9a106'</span><span style=\"font-weight: bold\">)</span>\n",
       "or use the .submit or .call_async forms of the API call.\n",
       "See the getting started notebook <span style=\"color: #008000; text-decoration-color: #008000\">\"Retrieving_long_task_results.ipynb\"</span> in Forge\n",
       "</pre>\n"
      ],
      "text/plain": [
       "\u001b[31m╭─\u001b[0m\u001b[31m─────────────────────────── \u001b[0m\u001b[1;31mTraceback \u001b[0m\u001b[1;2;31m(most recent call last)\u001b[0m\u001b[31m ───────────────────────────\u001b[0m\u001b[31m─╮\u001b[0m\n",
       "\u001b[31m│\u001b[0m                                                                                           \u001b[31m│\u001b[0m\n",
       "\u001b[31m│\u001b[0m \u001b[2;33m/tmp/ipykernel_36/\u001b[0m\u001b[1;33m2614715099.py\u001b[0m:\u001b[94m5\u001b[0m in \u001b[92m<module>\u001b[0m                                             \u001b[31m│\u001b[0m\n",
       "\u001b[31m│\u001b[0m                                                                                           \u001b[31m│\u001b[0m\n",
       "\u001b[31m│\u001b[0m \u001b[3;31m[Errno 2] No such file or directory: '/tmp/ipykernel_36/2614715099.py'\u001b[0m                    \u001b[31m│\u001b[0m\n",
       "\u001b[31m│\u001b[0m \u001b[2;33m/usr/src/python_client/qcware/forge/api_calls/\u001b[0m\u001b[1;33mapi_call.py\u001b[0m:\u001b[94m191\u001b[0m in \u001b[92mretrieve_result\u001b[0m          \u001b[31m│\u001b[0m\n",
       "\u001b[31m│\u001b[0m                                                                                           \u001b[31m│\u001b[0m\n",
       "\u001b[31m│\u001b[0m \u001b[2;33m/usr/src/python_client/qcware/forge/api_calls/\u001b[0m\u001b[1;33mapi_call.py\u001b[0m:\u001b[94m156\u001b[0m in \u001b[92mhandle_result\u001b[0m            \u001b[31m│\u001b[0m\n",
       "\u001b[31m╰───────────────────────────────────────────────────────────────────────────────────────────╯\u001b[0m\n",
       "\u001b[1;91mApiTimeoutError: \u001b[0mAPI Call timed out.\n",
       "You can retrieve with \n",
       "\u001b[1;35mqcware.api_calls.retrieve_result\u001b[0m\u001b[1m(\u001b[0m\u001b[33mcall_token\u001b[0m=\u001b[32m'9b853f91-8ca2-4008-b47d-56e6b8b9a106'\u001b[0m\u001b[1m)\u001b[0m\n",
       "or use the .submit or .call_async forms of the API call.\n",
       "See the getting started notebook \u001b[32m\"Retrieving_long_task_results.ipynb\"\u001b[0m in Forge\n"
      ]
     },
     "metadata": {},
     "output_type": "display_data"
    }
   ],
   "source": [
    "# we'll pause for a few seconds to let the call complete\n",
    "import time\n",
    "time.sleep(5)\n",
    "# Since we have an exception object from above, we can retrieve the result token using this:\n",
    "result = forge.api_calls.retrieve_result(thrown_exception.api_call_info['uid'])\n",
    "# otherwise we would have to use something like\n",
    "# result = forge.api_calls.retrieve_result(\"xxxxxxxx-yyyy-zzzz-xxxx-yyyyyyyyyyyy\")\n",
    "print(result)"
   ]
  },
  {
   "cell_type": "markdown",
   "metadata": {},
   "source": [
    "# Submitting jobs without waiting for a result\n",
    "\n",
    "The above pattern uses the `ApiTimeoutError` exception to denote _exceptional_ flow, because Forge is primarily intended to be an interactive platform with a response time suitable for interactive work.  But sometimes submitting a job and retrieving the result later isn't an exceptional control flow pattern--it's what you intended.  \n",
    "\n",
    "For that, since trapping and dealing with exceptions is clumsy in that context, we provide a way to `submit` the API call instead of calling it directly, check the status of the call, and retrieve the result."
   ]
  },
  {
   "cell_type": "code",
   "execution_count": null,
   "metadata": {},
   "outputs": [],
   "source": [
    "call_id = forge.optimization.optimize_binary.submit(instance=problem, backend='qcware/cpu_simulator')\n",
    "print(f\"API call submitted with id {call_id}\")\n",
    "\n",
    "# now that we've submitted the call, check its status, wait a bit, and check\n",
    "# again until it's no longer open\n",
    "time.sleep(0.5)\n",
    "status = forge.api_calls.status(call_id)\n",
    "print(f\"Call is {status['status']}\")\n",
    "while status['status'] == 'open':\n",
    "    time.sleep(1.0)\n",
    "    status = forge.api_calls.status(call_id)\n",
    "    \n",
    "# now retrieve the results!\n",
    "result = forge.api_calls.retrieve_result(call_id)\n",
    "print(result)"
   ]
  },
  {
   "cell_type": "markdown",
   "metadata": {},
   "source": [
    "# Submitting jobs and waiting until they return\n",
    "\n",
    "All that's well and good.  But what if you're willing to wait as long as it takes?\n",
    "\n",
    "One solution is to simply set the timeout to be a very large value.  A more elegant solution is to use Python's async/await and the `async_` version of your call.  (note: If you're used to Python's await/async, it make look strange to call `await` right here, but within a jupyter notebook, you are working within an existing event loop!)\n",
    "\n",
    "We provide one method similar to `retrieve_result` which will wait as long as necessary to retrieve a submitted job:"
   ]
  },
  {
   "cell_type": "code",
   "execution_count": null,
   "metadata": {},
   "outputs": [],
   "source": [
    "call_id = forge.optimization.optimize_binary.submit(instance=problem, backend='qcware/cpu_simulator')\n",
    "print(f\"API call submitted with id {call_id}\")\n",
    "result = await forge.api_calls.async_retrieve_result(call_id)\n",
    "print(result)"
   ]
  },
  {
   "cell_type": "markdown",
   "metadata": {},
   "source": [
    "but one can also simply call the base API call as `.call_async` to wait as long as necessary.  This allows the user to create just about whatever workflow they desire."
   ]
  },
  {
   "cell_type": "code",
   "execution_count": null,
   "metadata": {},
   "outputs": [],
   "source": [
    "result = await(forge.optimization.optimize_binary.call_async(instance=problem, backend='qcware/cpu_simulator'))\n",
    "print(result)"
   ]
  },
  {
   "cell_type": "markdown",
   "metadata": {},
   "source": [
    "This allows some rather neat tricks.  For example, suppose you want to see the result of a computation across various backends; you can leverage `asyncio`'s task capabilities to create a bundle of computations that can be submitted at once, calculated more or less in parallel, and then the results can be retrieved all at once when each result has been calculated and returned:"
   ]
  },
  {
   "cell_type": "code",
   "execution_count": null,
   "metadata": {
    "tags": []
   },
   "outputs": [],
   "source": [
    "import asyncio\n",
    "results = await asyncio.gather(\n",
    "    # we'll solve simultaneously using 'classical' (a  brute-force solver)\n",
    "    asyncio.create_task(forge.optimization.optimize_binary.call_async(instance=problem, backend='qcware/cpu')),\n",
    "    # and also 'qcware/cpu_simulator' (a QAOA solver using a classical statevector simulator)\n",
    "    asyncio.create_task(forge.optimization.optimize_binary.call_async(instance=problem, backend='qcware/cpu_simulator')),\n",
    "    # and finally using the D-wave annealer\n",
    "    asyncio.create_task(forge.optimization.optimize_binary.call_async(instance=problem, backend='dwave/2000q')),\n",
    "    )\n",
    "\n",
    "import pprint\n",
    "for result in results:\n",
    "    pprint.pprint(list(result.samples))"
   ]
  }
 ],
 "metadata": {
  "kernelspec": {
   "display_name": "Python 3",
   "language": "python",
   "name": "python3"
  },
  "language_info": {
   "codemirror_mode": {
    "name": "ipython",
    "version": 3
   },
   "file_extension": ".py",
   "mimetype": "text/x-python",
   "name": "python",
   "nbconvert_exporter": "python",
   "pygments_lexer": "ipython3",
   "version": "3.9.2"
  }
 },
 "nbformat": 4,
 "nbformat_minor": 4
}
