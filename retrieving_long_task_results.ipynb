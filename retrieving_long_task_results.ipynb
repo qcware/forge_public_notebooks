{
 "cells": [
  {
   "cell_type": "markdown",
   "metadata": {},
   "source": [
    "# Retrieving the Results of Long-Running Tasks #\n",
    "\n",
    "We prefer Forge to be used in a way which enables rapid, interactive iteration.  However, with many simulators and quantum devices, the delays can be quite long.\n",
    "\n",
    "Under the hood, when you call an API function, the call is submitted instantly, and we wait for the result.  If the wait is too long, the task will \"time out\".  The default timeout value can be found as follows:"
   ]
  },
  {
   "cell_type": "code",
   "execution_count": 1,
   "metadata": {
    "execution": {
     "iopub.execute_input": "2021-07-24T05:17:51.384872Z",
     "iopub.status.busy": "2021-07-24T05:17:51.384155Z",
     "iopub.status.idle": "2021-07-24T05:17:52.120667Z",
     "shell.execute_reply": "2021-07-24T05:17:52.119640Z"
    }
   },
   "outputs": [
    {
     "name": "stdout",
     "output_type": "stream",
     "text": [
      "Default client timeout: 60 seconds\n"
     ]
    }
   ],
   "source": [
    "from qcware import forge\n",
    "import pprint\n",
    "# this line is for internal tracking; it is not necessary for use!\n",
    "forge.config.set_environment_source_file('retrieving_long_task_results.ipynb')\n",
    "print(f\"Default client timeout: {forge.config.client_timeout()} seconds\")"
   ]
  },
  {
   "cell_type": "markdown",
   "metadata": {},
   "source": [
    "## What does this number mean? ##\n",
    "\n",
    "When the client waits for the server, there are two kinds of \"wait\":\n",
    "\n",
    "### server_timeout ###\n",
    "\n",
    "`server_timeout` is how long the server will sit waiting for a backend to return a value before giving up and telling the client it hasn't heard anything.  The default is 10 seconds, and this is not normally something the user should modify.\n",
    "\n",
    "### client_timeout ###\n",
    "\n",
    "`client_timeout` is how long the _client_ will wait before giving up and raising an exception.  This is 60 seconds by default, but can be as high as the user awants.\n"
   ]
  },
  {
   "cell_type": "markdown",
   "metadata": {},
   "source": [
    "## Should I change the client timeout?  ##\n",
    "\n",
    "It depends on your use case!  Normally you won't have to, but if you need to wait for a long call, you may want to change `client_timeout` (there often isn't a reason to change `server_timeout`, but you're certainly welcome to, although it must be less than 50 seconds).  \n",
    "\n",
    "On the other hand, there's nothing wrong with a task timing out; the task will still be executed, and you can retrieve the results at your leisure.\n",
    "\n",
    "To show this, let's set the client timeout to 0 and call a function such that it times out instantly.  This is a special case--with the client timeout set to zero, the call will _always_ raise an `ApiTimeoutError` exception (and never ask the server for the result) which enables you to start many calls and selectively retrieve their results.\n",
    "\n",
    "We'll solve a small qubo using a classical QC simulator running a QAOA algorithm, which should take a few seconds.  Forge will throw an `ApiTimeoutError` exception with the call token in the description:"
   ]
  },
  {
   "cell_type": "code",
   "execution_count": 2,
   "metadata": {
    "execution": {
     "iopub.execute_input": "2021-07-24T05:17:52.135259Z",
     "iopub.status.busy": "2021-07-24T05:17:52.134478Z",
     "iopub.status.idle": "2021-07-24T05:17:52.347456Z",
     "shell.execute_reply": "2021-07-24T05:17:52.348183Z"
    }
   },
   "outputs": [
    {
     "name": "stdout",
     "output_type": "stream",
     "text": [
      "API Call timed out.\n",
      "You can retrieve with qcware.api_calls.retrieve_result(call_token='b457af44-1943-45b3-b0bf-610cd016aaa3')\n",
      "or use the .submit or .call_async forms of the API call.\n",
      "See the getting started notebook \"Retrieving_long_task_results.ipynb\" in Forge\n"
     ]
    }
   ],
   "source": [
    "forge.config.set_client_timeout(0)\n",
    "import qcware.types\n",
    "\n",
    "Q = {(0, 0): 1, (1, 1): 1, (0, 1): -2, (2, 2): -2, (3, 3): -4, (3, 2): -6}\n",
    "qubo = qcware.types.optimization.PolynomialObjective(\n",
    "    polynomial=Q,\n",
    "    num_variables=4,\n",
    "    domain='boolean'\n",
    ")\n",
    "problem = qcware.types.optimization.BinaryProblem(objective=qubo)\n",
    "\n",
    "thrown_exception = None\n",
    "try:\n",
    "    result = forge.optimization.optimize_binary(instance=problem, backend='qcware/cpu_simulator')\n",
    "    print(result)\n",
    "except forge.exceptions.ApiTimeoutError as e:\n",
    "    thrown_exception = e\n",
    "    print(thrown_exception)"
   ]
  },
  {
   "cell_type": "markdown",
   "metadata": {},
   "source": [
    "That call token represents the ID of the call you made.  You can see the results within your web app interface, but you can also retrieve them for future use using the `retrieve_result` function: the exception contains a long \"call token\" which can be retrieved from the thrown exception with `thrown_exception.api_call_info['uid']`\n",
    "\n",
    "## Note! ##\n",
    "\n",
    "If you run the cell below and get the same exception, the call still hasn't finished running on the server; wait a few seconds and try again!"
   ]
  },
  {
   "cell_type": "code",
   "execution_count": 3,
   "metadata": {
    "execution": {
     "iopub.execute_input": "2021-07-24T05:17:52.354737Z",
     "iopub.status.busy": "2021-07-24T05:17:52.353806Z",
     "iopub.status.idle": "2021-07-24T05:17:57.786030Z",
     "shell.execute_reply": "2021-07-24T05:17:57.784990Z"
    }
   },
   "outputs": [
    {
     "name": "stdout",
     "output_type": "stream",
     "text": [
      "Objective value: -12\n",
      "Solution: [0, 0, 1, 1] (and 1 other equally good solution)\n"
     ]
    }
   ],
   "source": [
    "# we'll pause for a few seconds to let the call complete\n",
    "import time\n",
    "time.sleep(5)\n",
    "# Since we have an exception object from above, we can retrieve the result token using this:\n",
    "result = forge.api_calls.retrieve_result(thrown_exception.api_call_info['uid'])\n",
    "# otherwise we would have to use something like\n",
    "# result = qcware.api_calls.retrieve_result(\"xxxxxxxx-yyyy-zzzz-xxxx-yyyyyyyyyyyy\")\n",
    "print(result)"
   ]
  },
  {
   "cell_type": "markdown",
   "metadata": {},
   "source": [
    "# Submitting jobs without waiting for a result\n",
    "\n",
    "The above pattern uses the `ApiTimeoutError` exception to denote _exceptional_ flow, because Forge is primarily intended to be an interactive platform with a response time suitable for interactive work.  But sometimes submitting a job and retrieving the result later isn't an exceptional control flow pattern--it's what you intended.  \n",
    "\n",
    "For that, since trapping and dealing with exceptions is clumsy in that context, we provide a way to `submit` the API call instead of calling it directly, check the status of the call, and retrieve the result."
   ]
  },
  {
   "cell_type": "code",
   "execution_count": 4,
   "metadata": {
    "execution": {
     "iopub.execute_input": "2021-07-24T05:17:57.796569Z",
     "iopub.status.busy": "2021-07-24T05:17:57.795465Z",
     "iopub.status.idle": "2021-07-24T05:17:59.718793Z",
     "shell.execute_reply": "2021-07-24T05:17:59.717770Z"
    }
   },
   "outputs": [
    {
     "name": "stdout",
     "output_type": "stream",
     "text": [
      "API call submitted with id f4d441c6-a703-408d-9624-dc64e0d19115\n"
     ]
    },
    {
     "name": "stdout",
     "output_type": "stream",
     "text": [
      "Call is open\n"
     ]
    },
    {
     "name": "stdout",
     "output_type": "stream",
     "text": [
      "Objective value: -12\n",
      "Solution: [1, 1, 1, 1] (and 1 other equally good solution)\n"
     ]
    }
   ],
   "source": [
    "call_id = forge.optimization.optimize_binary.submit(instance=problem, backend='qcware/cpu_simulator')\n",
    "print(f\"API call submitted with id {call_id}\")\n",
    "\n",
    "# now that we've submitted the call, check its status, wait a bit, and check\n",
    "# again until it's no longer open\n",
    "time.sleep(0.5)\n",
    "status = forge.api_calls.status(call_id)\n",
    "print(f\"Call is {status['status']}\")\n",
    "while status['status'] == 'open':\n",
    "    time.sleep(1.0)\n",
    "    status = forge.api_calls.status(call_id)\n",
    "    \n",
    "# now retrieve the results!\n",
    "result = forge.api_calls.retrieve_result(call_id)\n",
    "print(result)"
   ]
  },
  {
   "cell_type": "markdown",
   "metadata": {},
   "source": [
    "# Submitting jobs and waiting until they return\n",
    "\n",
    "All that's well and good.  But what if you're willing to wait as long as it takes?\n",
    "\n",
    "One solution is to simply set the timeout to be a very large value.  A more elegant solution is to use Python's async/await and the `async_` version of your call.  (note: If you're used to Python's await/async, it make look strange to call `await` right here, but within a jupyter notebook, you are working within an existing event loop!)\n",
    "\n",
    "We provide one method similar to `retrieve_result` which will wait as long as necessary to retrieve a submitted job:"
   ]
  },
  {
   "cell_type": "code",
   "execution_count": 5,
   "metadata": {
    "execution": {
     "iopub.execute_input": "2021-07-24T05:17:59.727972Z",
     "iopub.status.busy": "2021-07-24T05:17:59.727113Z",
     "iopub.status.idle": "2021-07-24T05:18:00.327036Z",
     "shell.execute_reply": "2021-07-24T05:18:00.325383Z"
    }
   },
   "outputs": [
    {
     "name": "stdout",
     "output_type": "stream",
     "text": [
      "API call submitted with id ee900958-e9cf-4a27-a0da-b07cb0e83876\n"
     ]
    },
    {
     "name": "stdout",
     "output_type": "stream",
     "text": [
      "Objective value: -12\n",
      "Solution: [0, 0, 1, 1] (and 1 other equally good solution)\n"
     ]
    }
   ],
   "source": [
    "call_id = forge.optimization.optimize_binary.submit(instance=problem, backend='qcware/cpu_simulator')\n",
    "print(f\"API call submitted with id {call_id}\")\n",
    "result = await forge.api_calls.async_retrieve_result(call_id)\n",
    "print(result)"
   ]
  },
  {
   "cell_type": "markdown",
   "metadata": {},
   "source": [
    "but one can also simply call the base API call as `.call_async` to wait as long as necessary.  This allows the user to create just about whatever workflow they desire."
   ]
  },
  {
   "cell_type": "code",
   "execution_count": 6,
   "metadata": {
    "execution": {
     "iopub.execute_input": "2021-07-24T05:18:00.334815Z",
     "iopub.status.busy": "2021-07-24T05:18:00.333935Z",
     "iopub.status.idle": "2021-07-24T05:18:01.237103Z",
     "shell.execute_reply": "2021-07-24T05:18:01.235636Z"
    }
   },
   "outputs": [
    {
     "name": "stdout",
     "output_type": "stream",
     "text": [
      "Objective value: -12\n",
      "Solution: [1, 1, 1, 1] (and 1 other equally good solution)\n"
     ]
    }
   ],
   "source": [
    "result = await(forge.optimization.optimize_binary.call_async(instance=problem, backend='qcware/cpu_simulator'))\n",
    "print(result)"
   ]
  },
  {
   "cell_type": "markdown",
   "metadata": {},
   "source": [
    "This allows some rather neat tricks.  For example, suppose you want to see the result of a computation across various backends; you can leverage `asyncio`'s task capabilities to create a bundle of computations that can be submitted at once, calculated more or less in parallel, and then the results can be retrieved all at once when each result has been calculated and returned:"
   ]
  },
  {
   "cell_type": "code",
   "execution_count": 7,
   "metadata": {
    "execution": {
     "iopub.execute_input": "2021-07-24T05:18:01.249586Z",
     "iopub.status.busy": "2021-07-24T05:18:01.248527Z",
     "iopub.status.idle": "2021-07-24T05:18:16.239584Z",
     "shell.execute_reply": "2021-07-24T05:18:16.238410Z"
    }
   },
   "outputs": [
    {
     "name": "stdout",
     "output_type": "stream",
     "text": [
      "[BinarySample(bitstring=[0, 0, 1, 1], energy=-12, num_occurrences=1),\n",
      " BinarySample(bitstring=[1, 1, 1, 1], energy=-12, num_occurrences=1)]\n",
      "[BinarySample(bitstring=[1, 1, 1, 1], energy=-12, num_occurrences=229),\n",
      " BinarySample(bitstring=[0, 0, 1, 1], energy=-12, num_occurrences=217),\n",
      " BinarySample(bitstring=[0, 1, 1, 1], energy=-11, num_occurrences=194),\n",
      " BinarySample(bitstring=[1, 0, 1, 1], energy=-11, num_occurrences=207),\n",
      " BinarySample(bitstring=[1, 1, 0, 1], energy=-4, num_occurrences=16),\n",
      " BinarySample(bitstring=[0, 0, 0, 1], energy=-4, num_occurrences=15),\n",
      " BinarySample(bitstring=[0, 1, 0, 1], energy=-3, num_occurrences=10),\n",
      " BinarySample(bitstring=[1, 0, 0, 1], energy=-3, num_occurrences=12),\n",
      " BinarySample(bitstring=[1, 1, 0, 0], energy=0, num_occurrences=24),\n",
      " BinarySample(bitstring=[0, 0, 0, 0], energy=0, num_occurrences=23),\n",
      " BinarySample(bitstring=[1, 0, 0, 0], energy=1, num_occurrences=34),\n",
      " BinarySample(bitstring=[0, 1, 0, 0], energy=1, num_occurrences=19)]\n",
      "[BinarySample(bitstring=[0, 0, 1, 1], energy=-12, num_occurrences=514),\n",
      " BinarySample(bitstring=[1, 1, 1, 1], energy=-12, num_occurrences=483),\n",
      " BinarySample(bitstring=[1, 0, 1, 1], energy=-11, num_occurrences=2),\n",
      " BinarySample(bitstring=[0, 1, 1, 1], energy=-11, num_occurrences=1)]\n"
     ]
    }
   ],
   "source": [
    "import asyncio\n",
    "results = await asyncio.gather(\n",
    "    # we'll solve simultaneously using 'classical' (a  brute-force solver)\n",
    "    asyncio.create_task(forge.optimization.optimize_binary.call_async(instance=problem, backend='qcware/cpu')),\n",
    "    # and also 'qcware/cpu_simulator' (a QAOA solver using a classical statevector simulator)\n",
    "    asyncio.create_task(forge.optimization.optimize_binary.call_async(instance=problem, backend='qcware/cpu_simulator')),\n",
    "    # and finally using the D-wave annealer\n",
    "    asyncio.create_task(forge.optimization.optimize_binary.call_async(instance=problem, backend='dwave/2000q')),\n",
    "    )\n",
    "\n",
    "import pprint\n",
    "for result in results:\n",
    "    pprint.pprint(result.results)"
   ]
  }
 ],
 "metadata": {
  "kernelspec": {
   "display_name": "Python 3",
   "language": "python",
   "name": "python3"
  },
  "language_info": {
   "codemirror_mode": {
    "name": "ipython",
    "version": 3
   },
   "file_extension": ".py",
   "mimetype": "text/x-python",
   "name": "python",
   "nbconvert_exporter": "python",
   "pygments_lexer": "ipython3",
   "version": "3.9.2"
  }
 },
 "nbformat": 4,
 "nbformat_minor": 4
}
